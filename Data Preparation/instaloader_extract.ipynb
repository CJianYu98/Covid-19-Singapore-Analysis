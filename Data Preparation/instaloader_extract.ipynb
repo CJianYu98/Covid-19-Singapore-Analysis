{
 "metadata": {
  "language_info": {
   "codemirror_mode": {
    "name": "ipython",
    "version": 3
   },
   "file_extension": ".py",
   "mimetype": "text/x-python",
   "name": "python",
   "nbconvert_exporter": "python",
   "pygments_lexer": "ipython3",
   "version": "3.7.3-final"
  },
  "orig_nbformat": 2,
  "kernelspec": {
   "name": "python3",
   "display_name": "Python 3",
   "language": "python"
  }
 },
 "nbformat": 4,
 "nbformat_minor": 2,
 "cells": [
  {
   "cell_type": "code",
   "execution_count": 23,
   "metadata": {},
   "outputs": [],
   "source": [
    "import pandas as pd\n",
    "import os, json\n",
    "import datetime"
   ]
  },
  {
   "cell_type": "code",
   "execution_count": 40,
   "metadata": {},
   "outputs": [],
   "source": [
    "def convert_json_posts_to_df(json_path):\n",
    "    substring = \"comment\"\n",
    "    json_files = [filename for filename in os.listdir(json_path) if (filename.endswith('.json') and substring not in filename)]\n",
    "    post_list = []\n",
    "\n",
    "    # iterate through the list of JSON files\n",
    "    for js in json_files:\n",
    "            \n",
    "        # open and read each json file\n",
    "        with open(os.path.join(json_path, js)) as json_file:\n",
    "            json_text = json.load(json_file)\n",
    "            #pprint.pprint(json.text)\n",
    "            \n",
    "            try:\n",
    "                # extract Instagram post information\n",
    "                try:\n",
    "                    post_id = json_text['node']['id']\n",
    "                except:\n",
    "                    pass\n",
    "                user_id = json_text['node']['owner']['id']\n",
    "                unix_timestamp = json_text['node']['taken_at_timestamp']\n",
    "                date_time = datetime.datetime.fromtimestamp(unix_timestamp)\n",
    "                \n",
    "                try:\n",
    "                    comment_raw = json_text['node']['edge_media_to_caption']['edges'][0]['node']['text']\n",
    "                except:\n",
    "                    pass\n",
    "                \n",
    "            except:\n",
    "                pass\n",
    "        \n",
    "        post_list.append([post_id, user_id, date_time, comment_raw])\n",
    "    df = pd.DataFrame(data=post_list, columns=['post_id','user_id', 'date_time','comment_raw'])\n",
    "\n",
    "    return df"
   ]
  },
  {
   "cell_type": "code",
   "execution_count": 55,
   "metadata": {},
   "outputs": [],
   "source": [
    "def convert_json_comments_to_df(json_path):\n",
    "    substring = \"comment\"\n",
    "    json_files = [filename for filename in os.listdir(json_path) if (filename.endswith('.json') and substring in filename)]\n",
    "    post_list = []\n",
    "\n",
    "    # iterate through the list of JSON files\n",
    "    for js in json_files:\n",
    "            \n",
    "        # open and read each json file\n",
    "        with open(os.path.join(json_path, js)) as json_file:\n",
    "            json_text = json.load(json_file)\n",
    "            #pprint.pprint(json.text)\n",
    "\n",
    "            #extract comments from comments.json files\n",
    "            for comment in json_text:\n",
    "                comment_id = comment['id']\n",
    "                user_id = comment['owner']['id']\n",
    "                date_time = datetime.datetime.fromtimestamp(comment['created_at'])\n",
    "                likes_count = comment['likes_count']\n",
    "                comment_raw = comment['text']\n",
    "\n",
    "        post_list.append([comment_id, user_id, date_time, comment_raw])\n",
    "    df = pd.DataFrame(data=post_list, columns=['post_id', 'user_id', 'date_time','comment_raw'])\n",
    "\n",
    "    return df "
   ]
  },
  {
   "cell_type": "code",
   "execution_count": 73,
   "metadata": {},
   "outputs": [
    {
     "output_type": "execute_result",
     "data": {
      "text/plain": [
       "'./#vaccination'"
      ]
     },
     "metadata": {},
     "execution_count": 73
    }
   ],
   "source": [
    "json_path = \"./#vaccination\"\n",
    "json_path"
   ]
  },
  {
   "cell_type": "code",
   "execution_count": 74,
   "metadata": {},
   "outputs": [
    {
     "output_type": "stream",
     "name": "stdout",
     "text": [
      "<class 'pandas.core.frame.DataFrame'>\nInt64Index: 6 entries, 0 to 2\nData columns (total 4 columns):\n #   Column       Non-Null Count  Dtype         \n---  ------       --------------  -----         \n 0   post_id      6 non-null      object        \n 1   user_id      6 non-null      object        \n 2   date_time    6 non-null      datetime64[ns]\n 3   comment_raw  6 non-null      object        \ndtypes: datetime64[ns](1), object(3)\nmemory usage: 240.0+ bytes\n"
     ]
    }
   ],
   "source": [
    "posts_df = convert_json_posts_to_df(json_path)\n",
    "comments_df = convert_json_comments_to_df(json_path)\n",
    "\n",
    "frames = [posts_df, comments_df]\n",
    "combined = pd.concat(frames)\n",
    "combined.info()\n",
    "\n",
    "combined.to_csv('vaccination_cna.csv')"
   ]
  }
 ]
}