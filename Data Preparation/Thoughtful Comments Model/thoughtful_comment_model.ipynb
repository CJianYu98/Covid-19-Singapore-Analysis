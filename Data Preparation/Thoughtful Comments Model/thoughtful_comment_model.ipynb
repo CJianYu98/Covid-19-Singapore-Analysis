{
 "metadata": {
  "language_info": {
   "codemirror_mode": {
    "name": "ipython",
    "version": 3
   },
   "file_extension": ".py",
   "mimetype": "text/x-python",
   "name": "python",
   "nbconvert_exporter": "python",
   "pygments_lexer": "ipython3",
   "version": "3.9.0-final"
  },
  "orig_nbformat": 2,
  "kernelspec": {
   "name": "python3",
   "display_name": "Python 3.9.0 64-bit",
   "metadata": {
    "interpreter": {
     "hash": "7812ea015bdcee6f23a998adcdd2ef97c151c0c241b7b7070987d9313e41299d"
    }
   }
  }
 },
 "nbformat": 4,
 "nbformat_minor": 2,
 "cells": [
  {
   "cell_type": "code",
   "execution_count": 8,
   "metadata": {},
   "outputs": [],
   "source": [
    "import pandas as pd\n",
    "import os\n",
    "from thoughtfulness_features import *"
   ]
  },
  {
   "source": [
    "# Read all the thoughtful comments labelled files"
   ],
   "cell_type": "markdown",
   "metadata": {}
  },
  {
   "cell_type": "code",
   "execution_count": 15,
   "metadata": {},
   "outputs": [],
   "source": [
    "path_parent = os.path.dirname(os.path.dirname(os.getcwd()))\n",
    "file_path = f'{path_parent}/Data/Thoughtful Comments'\n",
    "files = [file for file in os.listdir(file_path) if file != '.DS_Store' and file.endswith('.xls')]"
   ]
  },
  {
   "cell_type": "code",
   "execution_count": 16,
   "metadata": {},
   "outputs": [
    {
     "output_type": "execute_result",
     "data": {
      "text/plain": [
       "['vaccination.xls',\n",
       " 'safe_distancing.xls',\n",
       " 'circuit_breaker.xls',\n",
       " 'Tracetogether.xls']"
      ]
     },
     "metadata": {},
     "execution_count": 16
    }
   ],
   "source": [
    "files"
   ]
  },
  {
   "source": [
    "# Create thoughtful comment features for every file"
   ],
   "cell_type": "markdown",
   "metadata": {}
  },
  {
   "cell_type": "code",
   "execution_count": 18,
   "metadata": {},
   "outputs": [
    {
     "output_type": "execute_result",
     "data": {
      "text/plain": [
       "   Unnamed: 0                                            comment  Thoughtful?\n",
       "0           0  🇸🇬New Parc Clematis National Day Promo startin...            0\n",
       "1           1  Oh my fucking God, this announcement could not...            0\n",
       "2           2  Dang it. I was super happy for a while.\\n\\nIt'...            0\n",
       "3           3  After a beautiful front 9 we got hit with the ...            0\n",
       "4           4  these people must be tagged, if not cannot ent...            0"
      ],
      "text/html": "<div>\n<style scoped>\n    .dataframe tbody tr th:only-of-type {\n        vertical-align: middle;\n    }\n\n    .dataframe tbody tr th {\n        vertical-align: top;\n    }\n\n    .dataframe thead th {\n        text-align: right;\n    }\n</style>\n<table border=\"1\" class=\"dataframe\">\n  <thead>\n    <tr style=\"text-align: right;\">\n      <th></th>\n      <th>Unnamed: 0</th>\n      <th>comment</th>\n      <th>Thoughtful?</th>\n    </tr>\n  </thead>\n  <tbody>\n    <tr>\n      <th>0</th>\n      <td>0</td>\n      <td>🇸🇬New Parc Clematis National Day Promo startin...</td>\n      <td>0</td>\n    </tr>\n    <tr>\n      <th>1</th>\n      <td>1</td>\n      <td>Oh my fucking God, this announcement could not...</td>\n      <td>0</td>\n    </tr>\n    <tr>\n      <th>2</th>\n      <td>2</td>\n      <td>Dang it. I was super happy for a while.\\n\\nIt'...</td>\n      <td>0</td>\n    </tr>\n    <tr>\n      <th>3</th>\n      <td>3</td>\n      <td>After a beautiful front 9 we got hit with the ...</td>\n      <td>0</td>\n    </tr>\n    <tr>\n      <th>4</th>\n      <td>4</td>\n      <td>these people must be tagged, if not cannot ent...</td>\n      <td>0</td>\n    </tr>\n  </tbody>\n</table>\n</div>"
     },
     "metadata": {},
     "execution_count": 18
    }
   ],
   "source": [
    "test = pd.read_excel(f'{file_path}/circuit_breaker.xls')\n",
    "test.head()"
   ]
  },
  {
   "cell_type": "code",
   "execution_count": null,
   "metadata": {},
   "outputs": [],
   "source": [
    "for file in files:\n",
    "    df = pd.read_excel(f'{file_path}/{file}')\n",
    "\n",
    "    # Creating feature 1 (Structural feature): comment length\n",
    "    comment_length = []\n",
    "    for row in df['comment']:\n",
    "        length = get_comment_length(row)\n",
    "        comment_length.append(length)\n",
    "    df['Length'] = comment_length\n",
    "    \n",
    "    # Removing rows with zero comment length\n",
    "    df.drop(df[df.Length == 0].index, inplace=True)\n",
    "\n",
    "    # Preparation for feature 2 (Lexical feature): comment likelihood\n",
    "    comment_likelihood = []\n",
    "    news_unigram = news_articles_unigram(f'{path_parent}/Data')\n",
    "    # Preparation for feature 3 (Syntatic feature): number of verbs\n",
    "    for row "
   ]
  }
 ]
}