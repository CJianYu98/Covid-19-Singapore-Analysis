{
 "metadata": {
  "language_info": {
   "codemirror_mode": {
    "name": "ipython",
    "version": 3
   },
   "file_extension": ".py",
   "mimetype": "text/x-python",
   "name": "python",
   "nbconvert_exporter": "python",
   "pygments_lexer": "ipython3",
   "version": "3.9.0-final"
  },
  "orig_nbformat": 2,
  "kernelspec": {
   "name": "python3",
   "display_name": "Python 3.9.0 64-bit",
   "metadata": {
    "interpreter": {
     "hash": "7812ea015bdcee6f23a998adcdd2ef97c151c0c241b7b7070987d9313e41299d"
    }
   }
  }
 },
 "nbformat": 4,
 "nbformat_minor": 2,
 "cells": [
  {
   "cell_type": "code",
   "execution_count": 1,
   "metadata": {},
   "outputs": [],
   "source": [
    "import pandas as pd\n",
    "from thoughtfulness_features import *\n",
    "import os\n",
    "from nltk.corpus import PlaintextCorpusReader\n",
    "from nltk import word_tokenize"
   ]
  },
  {
   "source": [
    "# Read labelled data"
   ],
   "cell_type": "markdown",
   "metadata": {}
  },
  {
   "cell_type": "code",
   "execution_count": 2,
   "metadata": {},
   "outputs": [],
   "source": [
    "path_parent = os.path.dirname(os.path.dirname(os.getcwd()))\n",
    "file_path = f'{path_parent}/Data/Thoughtful Comments/thoughtful_comments_labelled.csv'"
   ]
  },
  {
   "source": [
    "# Create thoughtful comment features"
   ],
   "cell_type": "markdown",
   "metadata": {}
  },
  {
   "cell_type": "code",
   "execution_count": 3,
   "metadata": {},
   "outputs": [],
   "source": [
    "df = pd.read_csv(file_path)\n",
    "df.drop(['Unnamed: 0'], axis=1, inplace=True)"
   ]
  },
  {
   "cell_type": "code",
   "execution_count": 4,
   "metadata": {},
   "outputs": [
    {
     "output_type": "execute_result",
     "data": {
      "text/plain": [
       "                                             Comment  Thoughtful?  \\\n",
       "0  Even watching the forbidden p0rn vids are ille...            0   \n",
       "1  OP make a lot of claims without pointing out t...            0   \n",
       "2                           *pretends to be shocked*            0   \n",
       "3  Credit where credit is due, he clearly says Tr...            0   \n",
       "4                                got RTX 3080 anot??            0   \n",
       "\n",
       "           Topic  \n",
       "0  Tracetogether  \n",
       "1  Tracetogether  \n",
       "2  Tracetogether  \n",
       "3  Tracetogether  \n",
       "4  Tracetogether  "
      ],
      "text/html": "<div>\n<style scoped>\n    .dataframe tbody tr th:only-of-type {\n        vertical-align: middle;\n    }\n\n    .dataframe tbody tr th {\n        vertical-align: top;\n    }\n\n    .dataframe thead th {\n        text-align: right;\n    }\n</style>\n<table border=\"1\" class=\"dataframe\">\n  <thead>\n    <tr style=\"text-align: right;\">\n      <th></th>\n      <th>Comment</th>\n      <th>Thoughtful?</th>\n      <th>Topic</th>\n    </tr>\n  </thead>\n  <tbody>\n    <tr>\n      <th>0</th>\n      <td>Even watching the forbidden p0rn vids are ille...</td>\n      <td>0</td>\n      <td>Tracetogether</td>\n    </tr>\n    <tr>\n      <th>1</th>\n      <td>OP make a lot of claims without pointing out t...</td>\n      <td>0</td>\n      <td>Tracetogether</td>\n    </tr>\n    <tr>\n      <th>2</th>\n      <td>*pretends to be shocked*</td>\n      <td>0</td>\n      <td>Tracetogether</td>\n    </tr>\n    <tr>\n      <th>3</th>\n      <td>Credit where credit is due, he clearly says Tr...</td>\n      <td>0</td>\n      <td>Tracetogether</td>\n    </tr>\n    <tr>\n      <th>4</th>\n      <td>got RTX 3080 anot??</td>\n      <td>0</td>\n      <td>Tracetogether</td>\n    </tr>\n  </tbody>\n</table>\n</div>"
     },
     "metadata": {},
     "execution_count": 4
    }
   ],
   "source": [
    "df.head()"
   ]
  },
  {
   "cell_type": "code",
   "execution_count": 5,
   "metadata": {},
   "outputs": [
    {
     "output_type": "execute_result",
     "data": {
      "text/plain": [
       "153"
      ]
     },
     "metadata": {},
     "execution_count": 5
    }
   ],
   "source": [
    "df['Thoughtful?'].sum()"
   ]
  },
  {
   "source": [
    "## Ceating Feature 1"
   ],
   "cell_type": "markdown",
   "metadata": {}
  },
  {
   "cell_type": "code",
   "execution_count": 6,
   "metadata": {},
   "outputs": [],
   "source": [
    "# Creating feature 1 (Structural feature): comment length\n",
    "comment_length = []\n",
    "for row in df['Comment']:\n",
    "    length = get_comment_length(row)\n",
    "    comment_length.append(length)\n",
    "df['Length'] = comment_length"
   ]
  },
  {
   "source": [
    "### Drop rows with comment length == 0"
   ],
   "cell_type": "markdown",
   "metadata": {}
  },
  {
   "cell_type": "code",
   "execution_count": 7,
   "metadata": {},
   "outputs": [],
   "source": [
    "# Removing rows with zero comment length before creating features 2 to 5\n",
    "df.drop(df[df.Length == 0].index, inplace=True)"
   ]
  },
  {
   "source": [
    "# Creating Features 2 to 4"
   ],
   "cell_type": "markdown",
   "metadata": {}
  },
  {
   "cell_type": "code",
   "execution_count": 8,
   "metadata": {},
   "outputs": [],
   "source": [
    "# Preparation for feature 2 (Lexical feature): comment likelihood\n",
    "comment_likelihood = []\n",
    "news_unigram = news_articles_unigram(f'{path_parent}/Data/News Article/articles1.csv')\n",
    "\n",
    "# Preparation for feature 3 (Syntatic feature): number of verbs\n",
    "num_verbs = []\n",
    "\n",
    "# Preparation for feature 4 (Discourse feature): number of discourse relations\n",
    "num_discourse_relations = []\n",
    "\n",
    "for row in df['Comment']:\n",
    "    # Creating feature 2 \n",
    "    cmt_text_counter = comment_unicounter(row)\n",
    "    cmt_loglikelihood = news_unigram.evaluate(cmt_text_counter)\n",
    "    comment_likelihood.append(cmt_loglikelihood)\n",
    "\n",
    "    # Creating feature 3\n",
    "    verbs_count = get_num_verbs(row)\n",
    "    num_verbs.append(verbs_count)\n",
    "\n",
    "    # Creating feature 4\n",
    "    discourse_count = num_discourse(row)\n",
    "    num_discourse_relations.append(discourse_count)\n",
    "\n",
    "df['Average Loglikelihood'] = comment_likelihood\n",
    "df['Num Verbs'] = num_verbs\n",
    "df['Num Discourse Relations'] = num_discourse_relations"
   ]
  },
  {
   "cell_type": "code",
   "execution_count": 9,
   "metadata": {},
   "outputs": [
    {
     "output_type": "execute_result",
     "data": {
      "text/plain": [
       "                                             Comment  Thoughtful?  \\\n",
       "0  Even watching the forbidden p0rn vids are ille...            0   \n",
       "1  OP make a lot of claims without pointing out t...            0   \n",
       "2                           *pretends to be shocked*            0   \n",
       "3  Credit where credit is due, he clearly says Tr...            0   \n",
       "4                                got RTX 3080 anot??            0   \n",
       "\n",
       "           Topic  Length  Average Loglikelihood  Num Verbs  \\\n",
       "0  Tracetogether      28             -12.470231          6   \n",
       "1  Tracetogether      27             -11.514518          6   \n",
       "2  Tracetogether       4             -10.466185          2   \n",
       "3  Tracetogether      17             -11.904904          5   \n",
       "4  Tracetogether       4             -18.174303          1   \n",
       "\n",
       "   Num Discourse Relations  \n",
       "0                        1  \n",
       "1                        1  \n",
       "2                        0  \n",
       "3                        1  \n",
       "4                        0  "
      ],
      "text/html": "<div>\n<style scoped>\n    .dataframe tbody tr th:only-of-type {\n        vertical-align: middle;\n    }\n\n    .dataframe tbody tr th {\n        vertical-align: top;\n    }\n\n    .dataframe thead th {\n        text-align: right;\n    }\n</style>\n<table border=\"1\" class=\"dataframe\">\n  <thead>\n    <tr style=\"text-align: right;\">\n      <th></th>\n      <th>Comment</th>\n      <th>Thoughtful?</th>\n      <th>Topic</th>\n      <th>Length</th>\n      <th>Average Loglikelihood</th>\n      <th>Num Verbs</th>\n      <th>Num Discourse Relations</th>\n    </tr>\n  </thead>\n  <tbody>\n    <tr>\n      <th>0</th>\n      <td>Even watching the forbidden p0rn vids are ille...</td>\n      <td>0</td>\n      <td>Tracetogether</td>\n      <td>28</td>\n      <td>-12.470231</td>\n      <td>6</td>\n      <td>1</td>\n    </tr>\n    <tr>\n      <th>1</th>\n      <td>OP make a lot of claims without pointing out t...</td>\n      <td>0</td>\n      <td>Tracetogether</td>\n      <td>27</td>\n      <td>-11.514518</td>\n      <td>6</td>\n      <td>1</td>\n    </tr>\n    <tr>\n      <th>2</th>\n      <td>*pretends to be shocked*</td>\n      <td>0</td>\n      <td>Tracetogether</td>\n      <td>4</td>\n      <td>-10.466185</td>\n      <td>2</td>\n      <td>0</td>\n    </tr>\n    <tr>\n      <th>3</th>\n      <td>Credit where credit is due, he clearly says Tr...</td>\n      <td>0</td>\n      <td>Tracetogether</td>\n      <td>17</td>\n      <td>-11.904904</td>\n      <td>5</td>\n      <td>1</td>\n    </tr>\n    <tr>\n      <th>4</th>\n      <td>got RTX 3080 anot??</td>\n      <td>0</td>\n      <td>Tracetogether</td>\n      <td>4</td>\n      <td>-18.174303</td>\n      <td>1</td>\n      <td>0</td>\n    </tr>\n  </tbody>\n</table>\n</div>"
     },
     "metadata": {},
     "execution_count": 9
    }
   ],
   "source": [
    "df.head()"
   ]
  },
  {
   "source": [
    "# Creating Feature 5"
   ],
   "cell_type": "markdown",
   "metadata": {}
  },
  {
   "source": [
    "### Reading all the policy docs into a corpus"
   ],
   "cell_type": "markdown",
   "metadata": {}
  },
  {
   "cell_type": "code",
   "execution_count": 10,
   "metadata": {},
   "outputs": [],
   "source": [
    "corpus = PlaintextCorpusReader(f'{path_parent}/Data/Policy Documents/', '.+\\.txt', encoding='utf-8')"
   ]
  },
  {
   "cell_type": "code",
   "execution_count": 11,
   "metadata": {},
   "outputs": [],
   "source": [
    "fid = corpus.fileids()\n",
    "fid.sort()"
   ]
  },
  {
   "cell_type": "code",
   "execution_count": 12,
   "metadata": {},
   "outputs": [],
   "source": [
    "doc_words = [corpus.words(f) for f in fid]"
   ]
  },
  {
   "cell_type": "code",
   "execution_count": 13,
   "metadata": {},
   "outputs": [
    {
     "output_type": "execute_result",
     "data": {
      "text/plain": [
       "['circuit_breaker_policy.txt',\n",
       " 'safe_distancing_policy.txt',\n",
       " 'tracetogether_policy.txt',\n",
       " 'vaccination_policy.txt']"
      ]
     },
     "metadata": {},
     "execution_count": 13
    }
   ],
   "source": [
    "fid"
   ]
  },
  {
   "source": [
    "### Splitting the labelled data to its own policy/topic"
   ],
   "cell_type": "markdown",
   "metadata": {}
  },
  {
   "cell_type": "code",
   "execution_count": 14,
   "metadata": {},
   "outputs": [],
   "source": [
    "circuit_breaker_comments = df[df['Topic'] == 'circuit breaker']\n",
    "safe_distancing_comments = df[df['Topic'] == 'safe distancing']\n",
    "tracetogether_comments = df[df['Topic'] == 'Tracetogether']\n",
    "vaccination_comments = df[df['Topic'] == 'vaccination']\n",
    "comments = [circuit_breaker_comments, safe_distancing_comments, tracetogether_comments, vaccination_comments]"
   ]
  },
  {
   "source": [
    "### Calculating KL-divergence relevance score for each comment to its respective policy topic"
   ],
   "cell_type": "markdown",
   "metadata": {}
  },
  {
   "cell_type": "code",
   "execution_count": 15,
   "metadata": {},
   "outputs": [],
   "source": [
    "for i in range(4):\n",
    "    doc_unigram, doc_nouns = topic_doc_unigram(doc_words[i], k=1)\n",
    "    relavance_scores = []\n",
    "    for row in comments[i]['Comment']:\n",
    "        cmt_unigram, cmt_nouns = comment_unigram(row, k=1)\n",
    "        score = KLDiv_relevance_score(doc_unigram, cmt_unigram, doc_nouns, cmt_nouns)\n",
    "        relavance_scores.append(score)\n",
    "    comments[i]['Relevance score'] = relavance_scores"
   ]
  },
  {
   "cell_type": "code",
   "execution_count": 16,
   "metadata": {},
   "outputs": [],
   "source": [
    "df_final = pd.concat(comments, ignore_index=True)"
   ]
  },
  {
   "cell_type": "code",
   "execution_count": 17,
   "metadata": {},
   "outputs": [
    {
     "output_type": "execute_result",
     "data": {
      "text/plain": [
       "0.020731665275518923"
      ]
     },
     "metadata": {},
     "execution_count": 17
    }
   ],
   "source": [
    "df_final['Relevance score'].min()"
   ]
  },
  {
   "cell_type": "code",
   "execution_count": 18,
   "metadata": {},
   "outputs": [
    {
     "output_type": "execute_result",
     "data": {
      "text/plain": [
       "7.5"
      ]
     },
     "metadata": {},
     "execution_count": 18
    }
   ],
   "source": [
    "df_final['Relevance score'].max()"
   ]
  },
  {
   "cell_type": "code",
   "execution_count": 19,
   "metadata": {},
   "outputs": [
    {
     "output_type": "execute_result",
     "data": {
      "text/plain": [
       "                                             Comment  Thoughtful?  \\\n",
       "0  🇸🇬New Parc Clematis National Day Promo startin...            0   \n",
       "1  Oh my fucking God, this announcement could not...            0   \n",
       "2  Dang it. I was super happy for a while.\\n\\nIt'...            0   \n",
       "3  After a beautiful front 9 we got hit with the ...            0   \n",
       "4  these people must be tagged, if not cannot ent...            0   \n",
       "\n",
       "             Topic  Length  Average Loglikelihood  Num Verbs  \\\n",
       "0  circuit breaker      34             -13.944796          4   \n",
       "1  circuit breaker      94             -11.286315         16   \n",
       "2  circuit breaker      18              -9.626479          3   \n",
       "3  circuit breaker      11             -13.549426          2   \n",
       "4  circuit breaker      11             -11.213937          2   \n",
       "\n",
       "   Num Discourse Relations  Relevance score  \n",
       "0                        1         0.394303  \n",
       "1                        5         0.305200  \n",
       "2                        2         1.482839  \n",
       "3                        0         0.811136  \n",
       "4                        1         1.674952  "
      ],
      "text/html": "<div>\n<style scoped>\n    .dataframe tbody tr th:only-of-type {\n        vertical-align: middle;\n    }\n\n    .dataframe tbody tr th {\n        vertical-align: top;\n    }\n\n    .dataframe thead th {\n        text-align: right;\n    }\n</style>\n<table border=\"1\" class=\"dataframe\">\n  <thead>\n    <tr style=\"text-align: right;\">\n      <th></th>\n      <th>Comment</th>\n      <th>Thoughtful?</th>\n      <th>Topic</th>\n      <th>Length</th>\n      <th>Average Loglikelihood</th>\n      <th>Num Verbs</th>\n      <th>Num Discourse Relations</th>\n      <th>Relevance score</th>\n    </tr>\n  </thead>\n  <tbody>\n    <tr>\n      <th>0</th>\n      <td>🇸🇬New Parc Clematis National Day Promo startin...</td>\n      <td>0</td>\n      <td>circuit breaker</td>\n      <td>34</td>\n      <td>-13.944796</td>\n      <td>4</td>\n      <td>1</td>\n      <td>0.394303</td>\n    </tr>\n    <tr>\n      <th>1</th>\n      <td>Oh my fucking God, this announcement could not...</td>\n      <td>0</td>\n      <td>circuit breaker</td>\n      <td>94</td>\n      <td>-11.286315</td>\n      <td>16</td>\n      <td>5</td>\n      <td>0.305200</td>\n    </tr>\n    <tr>\n      <th>2</th>\n      <td>Dang it. I was super happy for a while.\\n\\nIt'...</td>\n      <td>0</td>\n      <td>circuit breaker</td>\n      <td>18</td>\n      <td>-9.626479</td>\n      <td>3</td>\n      <td>2</td>\n      <td>1.482839</td>\n    </tr>\n    <tr>\n      <th>3</th>\n      <td>After a beautiful front 9 we got hit with the ...</td>\n      <td>0</td>\n      <td>circuit breaker</td>\n      <td>11</td>\n      <td>-13.549426</td>\n      <td>2</td>\n      <td>0</td>\n      <td>0.811136</td>\n    </tr>\n    <tr>\n      <th>4</th>\n      <td>these people must be tagged, if not cannot ent...</td>\n      <td>0</td>\n      <td>circuit breaker</td>\n      <td>11</td>\n      <td>-11.213937</td>\n      <td>2</td>\n      <td>1</td>\n      <td>1.674952</td>\n    </tr>\n  </tbody>\n</table>\n</div>"
     },
     "metadata": {},
     "execution_count": 19
    }
   ],
   "source": [
    "df_final.head()"
   ]
  },
  {
   "cell_type": "code",
   "execution_count": 20,
   "metadata": {},
   "outputs": [],
   "source": [
    "df_final.to_csv(f'{path_parent}/Data/Thoughtful Comments/thoughtful_comments_final.csv')"
   ]
  },
  {
   "cell_type": "code",
   "execution_count": null,
   "metadata": {},
   "outputs": [],
   "source": []
  },
  {
   "source": [
    "# Training the classification model"
   ],
   "cell_type": "markdown",
   "metadata": {}
  },
  {
   "cell_type": "code",
   "execution_count": 21,
   "metadata": {},
   "outputs": [],
   "source": [
    "### Basic Imports\n",
    "import pandas as pd\n",
    "import numpy as np\n",
    "\n",
    "### Graphic libraries\n",
    "import matplotlib.pyplot as plt\n",
    "import seaborn as sns \n",
    "\n",
    "\n",
    "### Importing the relevant ML libraries \n",
    "from sklearn.model_selection import train_test_split\n",
    "from sklearn.linear_model import LogisticRegression\n",
    "from sklearn.naive_bayes import GaussianNB\n",
    "from sklearn.tree import DecisionTreeClassifier, plot_tree\n",
    "from sklearn import svm\n",
    "from sklearn.ensemble import RandomForestClassifier\n",
    "import xgboost as xgb\n",
    "from sklearn.metrics import mean_squared_error\n",
    "from sklearn.model_selection import StratifiedKFold, cross_validate, cross_val_score\n",
    "\n",
    "from sklearn.metrics import accuracy_score,roc_curve,auc,recall_score,f1_score,precision_score,classification_report,confusion_matrix,auc"
   ]
  },
  {
   "cell_type": "code",
   "execution_count": 22,
   "metadata": {},
   "outputs": [],
   "source": [
    "df = pd.read_csv(f'{path_parent}/Data/Thoughtful Comments/thoughtful_comments_final.csv')"
   ]
  },
  {
   "cell_type": "code",
   "execution_count": 23,
   "metadata": {},
   "outputs": [
    {
     "output_type": "execute_result",
     "data": {
      "text/plain": [
       "   Unnamed: 0                                            Comment  Thoughtful?  \\\n",
       "0           0  🇸🇬New Parc Clematis National Day Promo startin...            0   \n",
       "1           1  Oh my fucking God, this announcement could not...            0   \n",
       "2           2  Dang it. I was super happy for a while.\\n\\nIt'...            0   \n",
       "3           3  After a beautiful front 9 we got hit with the ...            0   \n",
       "4           4  these people must be tagged, if not cannot ent...            0   \n",
       "\n",
       "             Topic  Length  Average Loglikelihood  Num Verbs  \\\n",
       "0  circuit breaker      34             -13.944796          4   \n",
       "1  circuit breaker      94             -11.286315         16   \n",
       "2  circuit breaker      18              -9.626479          3   \n",
       "3  circuit breaker      11             -13.549426          2   \n",
       "4  circuit breaker      11             -11.213937          2   \n",
       "\n",
       "   Num Discourse Relations  Relevance score  \n",
       "0                        1         0.394303  \n",
       "1                        5         0.305200  \n",
       "2                        2         1.482839  \n",
       "3                        0         0.811136  \n",
       "4                        1         1.674952  "
      ],
      "text/html": "<div>\n<style scoped>\n    .dataframe tbody tr th:only-of-type {\n        vertical-align: middle;\n    }\n\n    .dataframe tbody tr th {\n        vertical-align: top;\n    }\n\n    .dataframe thead th {\n        text-align: right;\n    }\n</style>\n<table border=\"1\" class=\"dataframe\">\n  <thead>\n    <tr style=\"text-align: right;\">\n      <th></th>\n      <th>Unnamed: 0</th>\n      <th>Comment</th>\n      <th>Thoughtful?</th>\n      <th>Topic</th>\n      <th>Length</th>\n      <th>Average Loglikelihood</th>\n      <th>Num Verbs</th>\n      <th>Num Discourse Relations</th>\n      <th>Relevance score</th>\n    </tr>\n  </thead>\n  <tbody>\n    <tr>\n      <th>0</th>\n      <td>0</td>\n      <td>🇸🇬New Parc Clematis National Day Promo startin...</td>\n      <td>0</td>\n      <td>circuit breaker</td>\n      <td>34</td>\n      <td>-13.944796</td>\n      <td>4</td>\n      <td>1</td>\n      <td>0.394303</td>\n    </tr>\n    <tr>\n      <th>1</th>\n      <td>1</td>\n      <td>Oh my fucking God, this announcement could not...</td>\n      <td>0</td>\n      <td>circuit breaker</td>\n      <td>94</td>\n      <td>-11.286315</td>\n      <td>16</td>\n      <td>5</td>\n      <td>0.305200</td>\n    </tr>\n    <tr>\n      <th>2</th>\n      <td>2</td>\n      <td>Dang it. I was super happy for a while.\\n\\nIt'...</td>\n      <td>0</td>\n      <td>circuit breaker</td>\n      <td>18</td>\n      <td>-9.626479</td>\n      <td>3</td>\n      <td>2</td>\n      <td>1.482839</td>\n    </tr>\n    <tr>\n      <th>3</th>\n      <td>3</td>\n      <td>After a beautiful front 9 we got hit with the ...</td>\n      <td>0</td>\n      <td>circuit breaker</td>\n      <td>11</td>\n      <td>-13.549426</td>\n      <td>2</td>\n      <td>0</td>\n      <td>0.811136</td>\n    </tr>\n    <tr>\n      <th>4</th>\n      <td>4</td>\n      <td>these people must be tagged, if not cannot ent...</td>\n      <td>0</td>\n      <td>circuit breaker</td>\n      <td>11</td>\n      <td>-11.213937</td>\n      <td>2</td>\n      <td>1</td>\n      <td>1.674952</td>\n    </tr>\n  </tbody>\n</table>\n</div>"
     },
     "metadata": {},
     "execution_count": 23
    }
   ],
   "source": [
    "df.head()"
   ]
  },
  {
   "cell_type": "code",
   "execution_count": 24,
   "metadata": {},
   "outputs": [],
   "source": [
    "features_list = ['Length', 'Average Loglikelihood', 'Num Verbs', 'Num Discourse Relations', 'Relevance score']\n",
    "target = 'Thoughtful?'"
   ]
  },
  {
   "cell_type": "code",
   "execution_count": 25,
   "metadata": {},
   "outputs": [],
   "source": [
    "# Function to plot distribution graphs\n",
    "\n",
    "def eda_plots(df,features_list,plot_title,fig_size):\n",
    "\n",
    "    df[features_list].hist(bins=40,edgecolor='b',linewidth=1.0,xlabelsize=8,ylabelsize=8,grid= False,figsize=fig_size ,color='red')\n",
    "\n",
    "    plt.tight_layout(rect=(0,0,1.2,1.2))\n",
    "\n",
    "    # Overall title for all the plots\n",
    "    plt.suptitle(plot_title,x=0.65,y=1.25,fontsize=14)\n",
    "\n",
    "    plt.show()"
   ]
  },
  {
   "cell_type": "code",
   "execution_count": 26,
   "metadata": {},
   "outputs": [
    {
     "output_type": "display_data",
     "data": {
      "text/plain": "<Figure size 1440x504 with 6 Axes>",
      "image/svg+xml": "<?xml version=\"1.0\" encoding=\"utf-8\" standalone=\"no\"?>\n<!DOCTYPE svg PUBLIC \"-//W3C//DTD SVG 1.1//EN\"\n  \"http://www.w3.org/Graphics/SVG/1.1/DTD/svg11.dtd\">\n<!-- Created with matplotlib (https://matplotlib.org/) -->\n<svg height=\"632.3425pt\" version=\"1.1\" viewBox=\"0 0 1721.16 632.3425\" width=\"1721.16pt\" xmlns=\"http://www.w3.org/2000/svg\" xmlns:xlink=\"http://www.w3.org/1999/xlink\">\n <metadata>\n  <rdf:RDF xmlns:cc=\"http://creativecommons.org/ns#\" xmlns:dc=\"http://purl.org/dc/elements/1.1/\" xmlns:rdf=\"http://www.w3.org/1999/02/22-rdf-syntax-ns#\">\n   <cc:Work>\n    <dc:type rdf:resource=\"http://purl.org/dc/dcmitype/StillImage\"/>\n    <dc:date>2021-03-01T02:35:28.968165</dc:date>\n    <dc:format>image/svg+xml</dc:format>\n    <dc:creator>\n     <cc:Agent>\n      <dc:title>Matplotlib v3.3.3, https://matplotlib.org/</dc:title>\n     </cc:Agent>\n    </dc:creator>\n   </cc:Work>\n  </rdf:RDF>\n </metadata>\n <defs>\n  <style type=\"text/css\">*{stroke-linecap:butt;stroke-linejoin:round;}</style>\n </defs>\n <g id=\"figure_1\">\n  <g id=\"patch_1\">\n   <path d=\"M 0 632.3425 \nL 1721.16 632.3425 \nL 1721.16 0 \nL 0 0 \nz\n\" style=\"fill:none;\"/>\n  </g>\n  <g id=\"axes_1\">\n   <g id=\"patch_2\">\n    <path d=\"M 34.56 214.4 \nL 852.213851 214.4 \nL 852.213851 59.2 \nL 34.56 59.2 \nz\n\" style=\"fill:#ffffff;\"/>\n   </g>\n   <g id=\"patch_3\">\n    <path clip-path=\"url(#p0de1c90c3f)\" d=\"M 71.726084 214.4 \nL 90.309126 214.4 \nL 90.309126 66.590476 \nL 71.726084 66.590476 \nz\n\" style=\"fill:#ff0000;stroke:#0000ff;stroke-linejoin:miter;\"/>\n   </g>\n   <g id=\"patch_4\">\n    <path clip-path=\"url(#p0de1c90c3f)\" d=\"M 90.309126 214.4 \nL 108.892168 214.4 \nL 108.892168 135.647936 \nL 90.309126 135.647936 \nz\n\" style=\"fill:#ff0000;stroke:#0000ff;stroke-linejoin:miter;\"/>\n   </g>\n   <g id=\"patch_5\">\n    <path clip-path=\"url(#p0de1c90c3f)\" d=\"M 108.892168 214.4 \nL 127.47521 214.4 \nL 127.47521 197.268438 \nL 108.892168 197.268438 \nz\n\" style=\"fill:#ff0000;stroke:#0000ff;stroke-linejoin:miter;\"/>\n   </g>\n   <g id=\"patch_6\">\n    <path clip-path=\"url(#p0de1c90c3f)\" d=\"M 127.47521 214.4 \nL 146.058252 214.4 \nL 146.058252 209.619099 \nL 127.47521 209.619099 \nz\n\" style=\"fill:#ff0000;stroke:#0000ff;stroke-linejoin:miter;\"/>\n   </g>\n   <g id=\"patch_7\">\n    <path clip-path=\"url(#p0de1c90c3f)\" d=\"M 146.058252 214.4 \nL 164.641295 214.4 \nL 164.641295 210.017507 \nL 146.058252 210.017507 \nz\n\" style=\"fill:#ff0000;stroke:#0000ff;stroke-linejoin:miter;\"/>\n   </g>\n   <g id=\"patch_8\">\n    <path clip-path=\"url(#p0de1c90c3f)\" d=\"M 164.641295 214.4 \nL 183.224337 214.4 \nL 183.224337 212.806366 \nL 164.641295 212.806366 \nz\n\" style=\"fill:#ff0000;stroke:#0000ff;stroke-linejoin:miter;\"/>\n   </g>\n   <g id=\"patch_9\">\n    <path clip-path=\"url(#p0de1c90c3f)\" d=\"M 183.224337 214.4 \nL 201.807379 214.4 \nL 201.807379 212.939169 \nL 183.224337 212.939169 \nz\n\" style=\"fill:#ff0000;stroke:#0000ff;stroke-linejoin:miter;\"/>\n   </g>\n   <g id=\"patch_10\">\n    <path clip-path=\"url(#p0de1c90c3f)\" d=\"M 201.807379 214.4 \nL 220.390421 214.4 \nL 220.390421 213.337578 \nL 201.807379 213.337578 \nz\n\" style=\"fill:#ff0000;stroke:#0000ff;stroke-linejoin:miter;\"/>\n   </g>\n   <g id=\"patch_11\">\n    <path clip-path=\"url(#p0de1c90c3f)\" d=\"M 220.390421 214.4 \nL 238.973463 214.4 \nL 238.973463 213.603183 \nL 220.390421 213.603183 \nz\n\" style=\"fill:#ff0000;stroke:#0000ff;stroke-linejoin:miter;\"/>\n   </g>\n   <g id=\"patch_12\">\n    <path clip-path=\"url(#p0de1c90c3f)\" d=\"M 238.973463 214.4 \nL 257.556505 214.4 \nL 257.556505 213.47038 \nL 238.973463 213.47038 \nz\n\" style=\"fill:#ff0000;stroke:#0000ff;stroke-linejoin:miter;\"/>\n   </g>\n   <g id=\"patch_13\">\n    <path clip-path=\"url(#p0de1c90c3f)\" d=\"M 257.556505 214.4 \nL 276.139547 214.4 \nL 276.139547 214.134394 \nL 257.556505 214.134394 \nz\n\" style=\"fill:#ff0000;stroke:#0000ff;stroke-linejoin:miter;\"/>\n   </g>\n   <g id=\"patch_14\">\n    <path clip-path=\"url(#p0de1c90c3f)\" d=\"M 276.139547 214.4 \nL 294.722589 214.4 \nL 294.722589 214.001592 \nL 276.139547 214.001592 \nz\n\" style=\"fill:#ff0000;stroke:#0000ff;stroke-linejoin:miter;\"/>\n   </g>\n   <g id=\"patch_15\">\n    <path clip-path=\"url(#p0de1c90c3f)\" d=\"M 294.722589 214.4 \nL 313.305631 214.4 \nL 313.305631 213.868789 \nL 294.722589 213.868789 \nz\n\" style=\"fill:#ff0000;stroke:#0000ff;stroke-linejoin:miter;\"/>\n   </g>\n   <g id=\"patch_16\">\n    <path clip-path=\"url(#p0de1c90c3f)\" d=\"M 313.305631 214.4 \nL 331.888673 214.4 \nL 331.888673 214.4 \nL 313.305631 214.4 \nz\n\" style=\"fill:#ff0000;stroke:#0000ff;stroke-linejoin:miter;\"/>\n   </g>\n   <g id=\"patch_17\">\n    <path clip-path=\"url(#p0de1c90c3f)\" d=\"M 331.888673 214.4 \nL 350.471715 214.4 \nL 350.471715 214.267197 \nL 331.888673 214.267197 \nz\n\" style=\"fill:#ff0000;stroke:#0000ff;stroke-linejoin:miter;\"/>\n   </g>\n   <g id=\"patch_18\">\n    <path clip-path=\"url(#p0de1c90c3f)\" d=\"M 350.471715 214.4 \nL 369.054757 214.4 \nL 369.054757 214.267197 \nL 350.471715 214.267197 \nz\n\" style=\"fill:#ff0000;stroke:#0000ff;stroke-linejoin:miter;\"/>\n   </g>\n   <g id=\"patch_19\">\n    <path clip-path=\"url(#p0de1c90c3f)\" d=\"M 369.054757 214.4 \nL 387.637799 214.4 \nL 387.637799 214.4 \nL 369.054757 214.4 \nz\n\" style=\"fill:#ff0000;stroke:#0000ff;stroke-linejoin:miter;\"/>\n   </g>\n   <g id=\"patch_20\">\n    <path clip-path=\"url(#p0de1c90c3f)\" d=\"M 387.637799 214.4 \nL 406.220841 214.4 \nL 406.220841 214.4 \nL 387.637799 214.4 \nz\n\" style=\"fill:#ff0000;stroke:#0000ff;stroke-linejoin:miter;\"/>\n   </g>\n   <g id=\"patch_21\">\n    <path clip-path=\"url(#p0de1c90c3f)\" d=\"M 406.220841 214.4 \nL 424.803884 214.4 \nL 424.803884 214.4 \nL 406.220841 214.4 \nz\n\" style=\"fill:#ff0000;stroke:#0000ff;stroke-linejoin:miter;\"/>\n   </g>\n   <g id=\"patch_22\">\n    <path clip-path=\"url(#p0de1c90c3f)\" d=\"M 424.803884 214.4 \nL 443.386926 214.4 \nL 443.386926 214.4 \nL 424.803884 214.4 \nz\n\" style=\"fill:#ff0000;stroke:#0000ff;stroke-linejoin:miter;\"/>\n   </g>\n   <g id=\"patch_23\">\n    <path clip-path=\"url(#p0de1c90c3f)\" d=\"M 443.386926 214.4 \nL 461.969968 214.4 \nL 461.969968 214.4 \nL 443.386926 214.4 \nz\n\" style=\"fill:#ff0000;stroke:#0000ff;stroke-linejoin:miter;\"/>\n   </g>\n   <g id=\"patch_24\">\n    <path clip-path=\"url(#p0de1c90c3f)\" d=\"M 461.969968 214.4 \nL 480.55301 214.4 \nL 480.55301 214.4 \nL 461.969968 214.4 \nz\n\" style=\"fill:#ff0000;stroke:#0000ff;stroke-linejoin:miter;\"/>\n   </g>\n   <g id=\"patch_25\">\n    <path clip-path=\"url(#p0de1c90c3f)\" d=\"M 480.55301 214.4 \nL 499.136052 214.4 \nL 499.136052 214.267197 \nL 480.55301 214.267197 \nz\n\" style=\"fill:#ff0000;stroke:#0000ff;stroke-linejoin:miter;\"/>\n   </g>\n   <g id=\"patch_26\">\n    <path clip-path=\"url(#p0de1c90c3f)\" d=\"M 499.136052 214.4 \nL 517.719094 214.4 \nL 517.719094 214.4 \nL 499.136052 214.4 \nz\n\" style=\"fill:#ff0000;stroke:#0000ff;stroke-linejoin:miter;\"/>\n   </g>\n   <g id=\"patch_27\">\n    <path clip-path=\"url(#p0de1c90c3f)\" d=\"M 517.719094 214.4 \nL 536.302136 214.4 \nL 536.302136 214.4 \nL 517.719094 214.4 \nz\n\" style=\"fill:#ff0000;stroke:#0000ff;stroke-linejoin:miter;\"/>\n   </g>\n   <g id=\"patch_28\">\n    <path clip-path=\"url(#p0de1c90c3f)\" d=\"M 536.302136 214.4 \nL 554.885178 214.4 \nL 554.885178 214.267197 \nL 536.302136 214.267197 \nz\n\" style=\"fill:#ff0000;stroke:#0000ff;stroke-linejoin:miter;\"/>\n   </g>\n   <g id=\"patch_29\">\n    <path clip-path=\"url(#p0de1c90c3f)\" d=\"M 554.885178 214.4 \nL 573.46822 214.4 \nL 573.46822 214.4 \nL 554.885178 214.4 \nz\n\" style=\"fill:#ff0000;stroke:#0000ff;stroke-linejoin:miter;\"/>\n   </g>\n   <g id=\"patch_30\">\n    <path clip-path=\"url(#p0de1c90c3f)\" d=\"M 573.46822 214.4 \nL 592.051262 214.4 \nL 592.051262 214.4 \nL 573.46822 214.4 \nz\n\" style=\"fill:#ff0000;stroke:#0000ff;stroke-linejoin:miter;\"/>\n   </g>\n   <g id=\"patch_31\">\n    <path clip-path=\"url(#p0de1c90c3f)\" d=\"M 592.051262 214.4 \nL 610.634304 214.4 \nL 610.634304 214.4 \nL 592.051262 214.4 \nz\n\" style=\"fill:#ff0000;stroke:#0000ff;stroke-linejoin:miter;\"/>\n   </g>\n   <g id=\"patch_32\">\n    <path clip-path=\"url(#p0de1c90c3f)\" d=\"M 610.634304 214.4 \nL 629.217346 214.4 \nL 629.217346 214.4 \nL 610.634304 214.4 \nz\n\" style=\"fill:#ff0000;stroke:#0000ff;stroke-linejoin:miter;\"/>\n   </g>\n   <g id=\"patch_33\">\n    <path clip-path=\"url(#p0de1c90c3f)\" d=\"M 629.217346 214.4 \nL 647.800388 214.4 \nL 647.800388 214.4 \nL 629.217346 214.4 \nz\n\" style=\"fill:#ff0000;stroke:#0000ff;stroke-linejoin:miter;\"/>\n   </g>\n   <g id=\"patch_34\">\n    <path clip-path=\"url(#p0de1c90c3f)\" d=\"M 647.800388 214.4 \nL 666.383431 214.4 \nL 666.383431 214.267197 \nL 647.800388 214.267197 \nz\n\" style=\"fill:#ff0000;stroke:#0000ff;stroke-linejoin:miter;\"/>\n   </g>\n   <g id=\"patch_35\">\n    <path clip-path=\"url(#p0de1c90c3f)\" d=\"M 666.383431 214.4 \nL 684.966473 214.4 \nL 684.966473 214.4 \nL 666.383431 214.4 \nz\n\" style=\"fill:#ff0000;stroke:#0000ff;stroke-linejoin:miter;\"/>\n   </g>\n   <g id=\"patch_36\">\n    <path clip-path=\"url(#p0de1c90c3f)\" d=\"M 684.966473 214.4 \nL 703.549515 214.4 \nL 703.549515 214.4 \nL 684.966473 214.4 \nz\n\" style=\"fill:#ff0000;stroke:#0000ff;stroke-linejoin:miter;\"/>\n   </g>\n   <g id=\"patch_37\">\n    <path clip-path=\"url(#p0de1c90c3f)\" d=\"M 703.549515 214.4 \nL 722.132557 214.4 \nL 722.132557 214.4 \nL 703.549515 214.4 \nz\n\" style=\"fill:#ff0000;stroke:#0000ff;stroke-linejoin:miter;\"/>\n   </g>\n   <g id=\"patch_38\">\n    <path clip-path=\"url(#p0de1c90c3f)\" d=\"M 722.132557 214.4 \nL 740.715599 214.4 \nL 740.715599 214.4 \nL 722.132557 214.4 \nz\n\" style=\"fill:#ff0000;stroke:#0000ff;stroke-linejoin:miter;\"/>\n   </g>\n   <g id=\"patch_39\">\n    <path clip-path=\"url(#p0de1c90c3f)\" d=\"M 740.715599 214.4 \nL 759.298641 214.4 \nL 759.298641 214.4 \nL 740.715599 214.4 \nz\n\" style=\"fill:#ff0000;stroke:#0000ff;stroke-linejoin:miter;\"/>\n   </g>\n   <g id=\"patch_40\">\n    <path clip-path=\"url(#p0de1c90c3f)\" d=\"M 759.298641 214.4 \nL 777.881683 214.4 \nL 777.881683 214.4 \nL 759.298641 214.4 \nz\n\" style=\"fill:#ff0000;stroke:#0000ff;stroke-linejoin:miter;\"/>\n   </g>\n   <g id=\"patch_41\">\n    <path clip-path=\"url(#p0de1c90c3f)\" d=\"M 777.881683 214.4 \nL 796.464725 214.4 \nL 796.464725 214.4 \nL 777.881683 214.4 \nz\n\" style=\"fill:#ff0000;stroke:#0000ff;stroke-linejoin:miter;\"/>\n   </g>\n   <g id=\"patch_42\">\n    <path clip-path=\"url(#p0de1c90c3f)\" d=\"M 796.464725 214.4 \nL 815.047767 214.4 \nL 815.047767 214.267197 \nL 796.464725 214.267197 \nz\n\" style=\"fill:#ff0000;stroke:#0000ff;stroke-linejoin:miter;\"/>\n   </g>\n   <g id=\"matplotlib.axis_1\">\n    <g id=\"xtick_1\">\n     <g id=\"line2d_1\">\n      <defs>\n       <path d=\"M 0 0 \nL 0 3.5 \n\" id=\"mee462b4022\" style=\"stroke:#000000;stroke-width:0.8;\"/>\n      </defs>\n      <g>\n       <use style=\"stroke:#000000;stroke-width:0.8;\" x=\"70.888066\" xlink:href=\"#mee462b4022\" y=\"214.4\"/>\n      </g>\n     </g>\n     <g id=\"text_1\">\n      <!-- 0 -->\n      <g transform=\"translate(68.343066 227.47875)scale(0.08 -0.08)\">\n       <defs>\n        <path d=\"M 31.78125 66.40625 \nQ 24.171875 66.40625 20.328125 58.90625 \nQ 16.5 51.421875 16.5 36.375 \nQ 16.5 21.390625 20.328125 13.890625 \nQ 24.171875 6.390625 31.78125 6.390625 \nQ 39.453125 6.390625 43.28125 13.890625 \nQ 47.125 21.390625 47.125 36.375 \nQ 47.125 51.421875 43.28125 58.90625 \nQ 39.453125 66.40625 31.78125 66.40625 \nz\nM 31.78125 74.21875 \nQ 44.046875 74.21875 50.515625 64.515625 \nQ 56.984375 54.828125 56.984375 36.375 \nQ 56.984375 17.96875 50.515625 8.265625 \nQ 44.046875 -1.421875 31.78125 -1.421875 \nQ 19.53125 -1.421875 13.0625 8.265625 \nQ 6.59375 17.96875 6.59375 36.375 \nQ 6.59375 54.828125 13.0625 64.515625 \nQ 19.53125 74.21875 31.78125 74.21875 \nz\n\" id=\"DejaVuSans-48\"/>\n       </defs>\n       <use xlink:href=\"#DejaVuSans-48\"/>\n      </g>\n     </g>\n    </g>\n    <g id=\"xtick_2\">\n     <g id=\"line2d_2\">\n      <g>\n       <use style=\"stroke:#000000;stroke-width:0.8;\" x=\"238.491603\" xlink:href=\"#mee462b4022\" y=\"214.4\"/>\n      </g>\n     </g>\n     <g id=\"text_2\">\n      <!-- 200 -->\n      <g transform=\"translate(230.856603 227.47875)scale(0.08 -0.08)\">\n       <defs>\n        <path d=\"M 19.1875 8.296875 \nL 53.609375 8.296875 \nL 53.609375 0 \nL 7.328125 0 \nL 7.328125 8.296875 \nQ 12.9375 14.109375 22.625 23.890625 \nQ 32.328125 33.6875 34.8125 36.53125 \nQ 39.546875 41.84375 41.421875 45.53125 \nQ 43.3125 49.21875 43.3125 52.78125 \nQ 43.3125 58.59375 39.234375 62.25 \nQ 35.15625 65.921875 28.609375 65.921875 \nQ 23.96875 65.921875 18.8125 64.3125 \nQ 13.671875 62.703125 7.8125 59.421875 \nL 7.8125 69.390625 \nQ 13.765625 71.78125 18.9375 73 \nQ 24.125 74.21875 28.421875 74.21875 \nQ 39.75 74.21875 46.484375 68.546875 \nQ 53.21875 62.890625 53.21875 53.421875 \nQ 53.21875 48.921875 51.53125 44.890625 \nQ 49.859375 40.875 45.40625 35.40625 \nQ 44.1875 33.984375 37.640625 27.21875 \nQ 31.109375 20.453125 19.1875 8.296875 \nz\n\" id=\"DejaVuSans-50\"/>\n       </defs>\n       <use xlink:href=\"#DejaVuSans-50\"/>\n       <use x=\"63.623047\" xlink:href=\"#DejaVuSans-48\"/>\n       <use x=\"127.246094\" xlink:href=\"#DejaVuSans-48\"/>\n      </g>\n     </g>\n    </g>\n    <g id=\"xtick_3\">\n     <g id=\"line2d_3\">\n      <g>\n       <use style=\"stroke:#000000;stroke-width:0.8;\" x=\"406.095139\" xlink:href=\"#mee462b4022\" y=\"214.4\"/>\n      </g>\n     </g>\n     <g id=\"text_3\">\n      <!-- 400 -->\n      <g transform=\"translate(398.460139 227.47875)scale(0.08 -0.08)\">\n       <defs>\n        <path d=\"M 37.796875 64.3125 \nL 12.890625 25.390625 \nL 37.796875 25.390625 \nz\nM 35.203125 72.90625 \nL 47.609375 72.90625 \nL 47.609375 25.390625 \nL 58.015625 25.390625 \nL 58.015625 17.1875 \nL 47.609375 17.1875 \nL 47.609375 0 \nL 37.796875 0 \nL 37.796875 17.1875 \nL 4.890625 17.1875 \nL 4.890625 26.703125 \nz\n\" id=\"DejaVuSans-52\"/>\n       </defs>\n       <use xlink:href=\"#DejaVuSans-52\"/>\n       <use x=\"63.623047\" xlink:href=\"#DejaVuSans-48\"/>\n       <use x=\"127.246094\" xlink:href=\"#DejaVuSans-48\"/>\n      </g>\n     </g>\n    </g>\n    <g id=\"xtick_4\">\n     <g id=\"line2d_4\">\n      <g>\n       <use style=\"stroke:#000000;stroke-width:0.8;\" x=\"573.698675\" xlink:href=\"#mee462b4022\" y=\"214.4\"/>\n      </g>\n     </g>\n     <g id=\"text_4\">\n      <!-- 600 -->\n      <g transform=\"translate(566.063675 227.47875)scale(0.08 -0.08)\">\n       <defs>\n        <path d=\"M 33.015625 40.375 \nQ 26.375 40.375 22.484375 35.828125 \nQ 18.609375 31.296875 18.609375 23.390625 \nQ 18.609375 15.53125 22.484375 10.953125 \nQ 26.375 6.390625 33.015625 6.390625 \nQ 39.65625 6.390625 43.53125 10.953125 \nQ 47.40625 15.53125 47.40625 23.390625 \nQ 47.40625 31.296875 43.53125 35.828125 \nQ 39.65625 40.375 33.015625 40.375 \nz\nM 52.59375 71.296875 \nL 52.59375 62.3125 \nQ 48.875 64.0625 45.09375 64.984375 \nQ 41.3125 65.921875 37.59375 65.921875 \nQ 27.828125 65.921875 22.671875 59.328125 \nQ 17.53125 52.734375 16.796875 39.40625 \nQ 19.671875 43.65625 24.015625 45.921875 \nQ 28.375 48.1875 33.59375 48.1875 \nQ 44.578125 48.1875 50.953125 41.515625 \nQ 57.328125 34.859375 57.328125 23.390625 \nQ 57.328125 12.15625 50.6875 5.359375 \nQ 44.046875 -1.421875 33.015625 -1.421875 \nQ 20.359375 -1.421875 13.671875 8.265625 \nQ 6.984375 17.96875 6.984375 36.375 \nQ 6.984375 53.65625 15.1875 63.9375 \nQ 23.390625 74.21875 37.203125 74.21875 \nQ 40.921875 74.21875 44.703125 73.484375 \nQ 48.484375 72.75 52.59375 71.296875 \nz\n\" id=\"DejaVuSans-54\"/>\n       </defs>\n       <use xlink:href=\"#DejaVuSans-54\"/>\n       <use x=\"63.623047\" xlink:href=\"#DejaVuSans-48\"/>\n       <use x=\"127.246094\" xlink:href=\"#DejaVuSans-48\"/>\n      </g>\n     </g>\n    </g>\n    <g id=\"xtick_5\">\n     <g id=\"line2d_5\">\n      <g>\n       <use style=\"stroke:#000000;stroke-width:0.8;\" x=\"741.302211\" xlink:href=\"#mee462b4022\" y=\"214.4\"/>\n      </g>\n     </g>\n     <g id=\"text_5\">\n      <!-- 800 -->\n      <g transform=\"translate(733.667211 227.47875)scale(0.08 -0.08)\">\n       <defs>\n        <path d=\"M 31.78125 34.625 \nQ 24.75 34.625 20.71875 30.859375 \nQ 16.703125 27.09375 16.703125 20.515625 \nQ 16.703125 13.921875 20.71875 10.15625 \nQ 24.75 6.390625 31.78125 6.390625 \nQ 38.8125 6.390625 42.859375 10.171875 \nQ 46.921875 13.96875 46.921875 20.515625 \nQ 46.921875 27.09375 42.890625 30.859375 \nQ 38.875 34.625 31.78125 34.625 \nz\nM 21.921875 38.8125 \nQ 15.578125 40.375 12.03125 44.71875 \nQ 8.5 49.078125 8.5 55.328125 \nQ 8.5 64.0625 14.71875 69.140625 \nQ 20.953125 74.21875 31.78125 74.21875 \nQ 42.671875 74.21875 48.875 69.140625 \nQ 55.078125 64.0625 55.078125 55.328125 \nQ 55.078125 49.078125 51.53125 44.71875 \nQ 48 40.375 41.703125 38.8125 \nQ 48.828125 37.15625 52.796875 32.3125 \nQ 56.78125 27.484375 56.78125 20.515625 \nQ 56.78125 9.90625 50.3125 4.234375 \nQ 43.84375 -1.421875 31.78125 -1.421875 \nQ 19.734375 -1.421875 13.25 4.234375 \nQ 6.78125 9.90625 6.78125 20.515625 \nQ 6.78125 27.484375 10.78125 32.3125 \nQ 14.796875 37.15625 21.921875 38.8125 \nz\nM 18.3125 54.390625 \nQ 18.3125 48.734375 21.84375 45.5625 \nQ 25.390625 42.390625 31.78125 42.390625 \nQ 38.140625 42.390625 41.71875 45.5625 \nQ 45.3125 48.734375 45.3125 54.390625 \nQ 45.3125 60.0625 41.71875 63.234375 \nQ 38.140625 66.40625 31.78125 66.40625 \nQ 25.390625 66.40625 21.84375 63.234375 \nQ 18.3125 60.0625 18.3125 54.390625 \nz\n\" id=\"DejaVuSans-56\"/>\n       </defs>\n       <use xlink:href=\"#DejaVuSans-56\"/>\n       <use x=\"63.623047\" xlink:href=\"#DejaVuSans-48\"/>\n       <use x=\"127.246094\" xlink:href=\"#DejaVuSans-48\"/>\n      </g>\n     </g>\n    </g>\n   </g>\n   <g id=\"matplotlib.axis_2\">\n    <g id=\"ytick_1\">\n     <g id=\"line2d_6\">\n      <defs>\n       <path d=\"M 0 0 \nL -3.5 0 \n\" id=\"m66ad1c31f7\" style=\"stroke:#000000;stroke-width:0.8;\"/>\n      </defs>\n      <g>\n       <use style=\"stroke:#000000;stroke-width:0.8;\" x=\"34.56\" xlink:href=\"#m66ad1c31f7\" y=\"214.4\"/>\n      </g>\n     </g>\n     <g id=\"text_6\">\n      <!-- 0 -->\n      <g transform=\"translate(22.47 217.439375)scale(0.08 -0.08)\">\n       <use xlink:href=\"#DejaVuSans-48\"/>\n      </g>\n     </g>\n    </g>\n    <g id=\"ytick_2\">\n     <g id=\"line2d_7\">\n      <g>\n       <use style=\"stroke:#000000;stroke-width:0.8;\" x=\"34.56\" xlink:href=\"#m66ad1c31f7\" y=\"187.839439\"/>\n      </g>\n     </g>\n     <g id=\"text_7\">\n      <!-- 200 -->\n      <g transform=\"translate(12.29 190.878814)scale(0.08 -0.08)\">\n       <use xlink:href=\"#DejaVuSans-50\"/>\n       <use x=\"63.623047\" xlink:href=\"#DejaVuSans-48\"/>\n       <use x=\"127.246094\" xlink:href=\"#DejaVuSans-48\"/>\n      </g>\n     </g>\n    </g>\n    <g id=\"ytick_3\">\n     <g id=\"line2d_8\">\n      <g>\n       <use style=\"stroke:#000000;stroke-width:0.8;\" x=\"34.56\" xlink:href=\"#m66ad1c31f7\" y=\"161.278877\"/>\n      </g>\n     </g>\n     <g id=\"text_8\">\n      <!-- 400 -->\n      <g transform=\"translate(12.29 164.318252)scale(0.08 -0.08)\">\n       <use xlink:href=\"#DejaVuSans-52\"/>\n       <use x=\"63.623047\" xlink:href=\"#DejaVuSans-48\"/>\n       <use x=\"127.246094\" xlink:href=\"#DejaVuSans-48\"/>\n      </g>\n     </g>\n    </g>\n    <g id=\"ytick_4\">\n     <g id=\"line2d_9\">\n      <g>\n       <use style=\"stroke:#000000;stroke-width:0.8;\" x=\"34.56\" xlink:href=\"#m66ad1c31f7\" y=\"134.718316\"/>\n      </g>\n     </g>\n     <g id=\"text_9\">\n      <!-- 600 -->\n      <g transform=\"translate(12.29 137.757691)scale(0.08 -0.08)\">\n       <use xlink:href=\"#DejaVuSans-54\"/>\n       <use x=\"63.623047\" xlink:href=\"#DejaVuSans-48\"/>\n       <use x=\"127.246094\" xlink:href=\"#DejaVuSans-48\"/>\n      </g>\n     </g>\n    </g>\n    <g id=\"ytick_5\">\n     <g id=\"line2d_10\">\n      <g>\n       <use style=\"stroke:#000000;stroke-width:0.8;\" x=\"34.56\" xlink:href=\"#m66ad1c31f7\" y=\"108.157755\"/>\n      </g>\n     </g>\n     <g id=\"text_10\">\n      <!-- 800 -->\n      <g transform=\"translate(12.29 111.19713)scale(0.08 -0.08)\">\n       <use xlink:href=\"#DejaVuSans-56\"/>\n       <use x=\"63.623047\" xlink:href=\"#DejaVuSans-48\"/>\n       <use x=\"127.246094\" xlink:href=\"#DejaVuSans-48\"/>\n      </g>\n     </g>\n    </g>\n    <g id=\"ytick_6\">\n     <g id=\"line2d_11\">\n      <g>\n       <use style=\"stroke:#000000;stroke-width:0.8;\" x=\"34.56\" xlink:href=\"#m66ad1c31f7\" y=\"81.597193\"/>\n      </g>\n     </g>\n     <g id=\"text_11\">\n      <!-- 1000 -->\n      <g transform=\"translate(7.2 84.636568)scale(0.08 -0.08)\">\n       <defs>\n        <path d=\"M 12.40625 8.296875 \nL 28.515625 8.296875 \nL 28.515625 63.921875 \nL 10.984375 60.40625 \nL 10.984375 69.390625 \nL 28.421875 72.90625 \nL 38.28125 72.90625 \nL 38.28125 8.296875 \nL 54.390625 8.296875 \nL 54.390625 0 \nL 12.40625 0 \nz\n\" id=\"DejaVuSans-49\"/>\n       </defs>\n       <use xlink:href=\"#DejaVuSans-49\"/>\n       <use x=\"63.623047\" xlink:href=\"#DejaVuSans-48\"/>\n       <use x=\"127.246094\" xlink:href=\"#DejaVuSans-48\"/>\n       <use x=\"190.869141\" xlink:href=\"#DejaVuSans-48\"/>\n      </g>\n     </g>\n    </g>\n   </g>\n   <g id=\"patch_43\">\n    <path d=\"M 34.56 214.4 \nL 34.56 59.2 \n\" style=\"fill:none;stroke:#000000;stroke-linecap:square;stroke-linejoin:miter;stroke-width:0.8;\"/>\n   </g>\n   <g id=\"patch_44\">\n    <path d=\"M 852.213851 214.4 \nL 852.213851 59.2 \n\" style=\"fill:none;stroke:#000000;stroke-linecap:square;stroke-linejoin:miter;stroke-width:0.8;\"/>\n   </g>\n   <g id=\"patch_45\">\n    <path d=\"M 34.56 214.4 \nL 852.213851 214.4 \n\" style=\"fill:none;stroke:#000000;stroke-linecap:square;stroke-linejoin:miter;stroke-width:0.8;\"/>\n   </g>\n   <g id=\"patch_46\">\n    <path d=\"M 34.56 59.2 \nL 852.213851 59.2 \n\" style=\"fill:none;stroke:#000000;stroke-linecap:square;stroke-linejoin:miter;stroke-width:0.8;\"/>\n   </g>\n   <g id=\"text_12\">\n    <!-- Length -->\n    <g transform=\"translate(422.690676 53.2)scale(0.12 -0.12)\">\n     <defs>\n      <path d=\"M 9.8125 72.90625 \nL 19.671875 72.90625 \nL 19.671875 8.296875 \nL 55.171875 8.296875 \nL 55.171875 0 \nL 9.8125 0 \nz\n\" id=\"DejaVuSans-76\"/>\n      <path d=\"M 56.203125 29.59375 \nL 56.203125 25.203125 \nL 14.890625 25.203125 \nQ 15.484375 15.921875 20.484375 11.0625 \nQ 25.484375 6.203125 34.421875 6.203125 \nQ 39.59375 6.203125 44.453125 7.46875 \nQ 49.3125 8.734375 54.109375 11.28125 \nL 54.109375 2.78125 \nQ 49.265625 0.734375 44.1875 -0.34375 \nQ 39.109375 -1.421875 33.890625 -1.421875 \nQ 20.796875 -1.421875 13.15625 6.1875 \nQ 5.515625 13.8125 5.515625 26.8125 \nQ 5.515625 40.234375 12.765625 48.109375 \nQ 20.015625 56 32.328125 56 \nQ 43.359375 56 49.78125 48.890625 \nQ 56.203125 41.796875 56.203125 29.59375 \nz\nM 47.21875 32.234375 \nQ 47.125 39.59375 43.09375 43.984375 \nQ 39.0625 48.390625 32.421875 48.390625 \nQ 24.90625 48.390625 20.390625 44.140625 \nQ 15.875 39.890625 15.1875 32.171875 \nz\n\" id=\"DejaVuSans-101\"/>\n      <path d=\"M 54.890625 33.015625 \nL 54.890625 0 \nL 45.90625 0 \nL 45.90625 32.71875 \nQ 45.90625 40.484375 42.875 44.328125 \nQ 39.84375 48.1875 33.796875 48.1875 \nQ 26.515625 48.1875 22.3125 43.546875 \nQ 18.109375 38.921875 18.109375 30.90625 \nL 18.109375 0 \nL 9.078125 0 \nL 9.078125 54.6875 \nL 18.109375 54.6875 \nL 18.109375 46.1875 \nQ 21.34375 51.125 25.703125 53.5625 \nQ 30.078125 56 35.796875 56 \nQ 45.21875 56 50.046875 50.171875 \nQ 54.890625 44.34375 54.890625 33.015625 \nz\n\" id=\"DejaVuSans-110\"/>\n      <path d=\"M 45.40625 27.984375 \nQ 45.40625 37.75 41.375 43.109375 \nQ 37.359375 48.484375 30.078125 48.484375 \nQ 22.859375 48.484375 18.828125 43.109375 \nQ 14.796875 37.75 14.796875 27.984375 \nQ 14.796875 18.265625 18.828125 12.890625 \nQ 22.859375 7.515625 30.078125 7.515625 \nQ 37.359375 7.515625 41.375 12.890625 \nQ 45.40625 18.265625 45.40625 27.984375 \nz\nM 54.390625 6.78125 \nQ 54.390625 -7.171875 48.1875 -13.984375 \nQ 42 -20.796875 29.203125 -20.796875 \nQ 24.46875 -20.796875 20.265625 -20.09375 \nQ 16.0625 -19.390625 12.109375 -17.921875 \nL 12.109375 -9.1875 \nQ 16.0625 -11.328125 19.921875 -12.34375 \nQ 23.78125 -13.375 27.78125 -13.375 \nQ 36.625 -13.375 41.015625 -8.765625 \nQ 45.40625 -4.15625 45.40625 5.171875 \nL 45.40625 9.625 \nQ 42.625 4.78125 38.28125 2.390625 \nQ 33.9375 0 27.875 0 \nQ 17.828125 0 11.671875 7.65625 \nQ 5.515625 15.328125 5.515625 27.984375 \nQ 5.515625 40.671875 11.671875 48.328125 \nQ 17.828125 56 27.875 56 \nQ 33.9375 56 38.28125 53.609375 \nQ 42.625 51.21875 45.40625 46.390625 \nL 45.40625 54.6875 \nL 54.390625 54.6875 \nz\n\" id=\"DejaVuSans-103\"/>\n      <path d=\"M 18.3125 70.21875 \nL 18.3125 54.6875 \nL 36.8125 54.6875 \nL 36.8125 47.703125 \nL 18.3125 47.703125 \nL 18.3125 18.015625 \nQ 18.3125 11.328125 20.140625 9.421875 \nQ 21.96875 7.515625 27.59375 7.515625 \nL 36.8125 7.515625 \nL 36.8125 0 \nL 27.59375 0 \nQ 17.1875 0 13.234375 3.875 \nQ 9.28125 7.765625 9.28125 18.015625 \nL 9.28125 47.703125 \nL 2.6875 47.703125 \nL 2.6875 54.6875 \nL 9.28125 54.6875 \nL 9.28125 70.21875 \nz\n\" id=\"DejaVuSans-116\"/>\n      <path d=\"M 54.890625 33.015625 \nL 54.890625 0 \nL 45.90625 0 \nL 45.90625 32.71875 \nQ 45.90625 40.484375 42.875 44.328125 \nQ 39.84375 48.1875 33.796875 48.1875 \nQ 26.515625 48.1875 22.3125 43.546875 \nQ 18.109375 38.921875 18.109375 30.90625 \nL 18.109375 0 \nL 9.078125 0 \nL 9.078125 75.984375 \nL 18.109375 75.984375 \nL 18.109375 46.1875 \nQ 21.34375 51.125 25.703125 53.5625 \nQ 30.078125 56 35.796875 56 \nQ 45.21875 56 50.046875 50.171875 \nQ 54.890625 44.34375 54.890625 33.015625 \nz\n\" id=\"DejaVuSans-104\"/>\n     </defs>\n     <use xlink:href=\"#DejaVuSans-76\"/>\n     <use x=\"53.962891\" xlink:href=\"#DejaVuSans-101\"/>\n     <use x=\"115.486328\" xlink:href=\"#DejaVuSans-110\"/>\n     <use x=\"178.865234\" xlink:href=\"#DejaVuSans-103\"/>\n     <use x=\"242.341797\" xlink:href=\"#DejaVuSans-116\"/>\n     <use x=\"281.550781\" xlink:href=\"#DejaVuSans-104\"/>\n    </g>\n   </g>\n  </g>\n  <g id=\"axes_2\">\n   <g id=\"patch_47\">\n    <path d=\"M 896.306149 214.4 \nL 1713.96 214.4 \nL 1713.96 59.2 \nL 896.306149 59.2 \nz\n\" style=\"fill:#ffffff;\"/>\n   </g>\n   <g id=\"patch_48\">\n    <path clip-path=\"url(#pc340d7c14c)\" d=\"M 933.472233 214.4 \nL 952.055275 214.4 \nL 952.055275 213.622055 \nL 933.472233 213.622055 \nz\n\" style=\"fill:#ff0000;stroke:#0000ff;stroke-linejoin:miter;\"/>\n   </g>\n   <g id=\"patch_49\">\n    <path clip-path=\"url(#pc340d7c14c)\" d=\"M 952.055275 214.4 \nL 970.638317 214.4 \nL 970.638317 212.84411 \nL 952.055275 212.84411 \nz\n\" style=\"fill:#ff0000;stroke:#0000ff;stroke-linejoin:miter;\"/>\n   </g>\n   <g id=\"patch_50\">\n    <path clip-path=\"url(#pc340d7c14c)\" d=\"M 970.638317 214.4 \nL 989.221359 214.4 \nL 989.221359 214.4 \nL 970.638317 214.4 \nz\n\" style=\"fill:#ff0000;stroke:#0000ff;stroke-linejoin:miter;\"/>\n   </g>\n   <g id=\"patch_51\">\n    <path clip-path=\"url(#pc340d7c14c)\" d=\"M 989.221359 214.4 \nL 1007.804401 214.4 \nL 1007.804401 214.4 \nL 989.221359 214.4 \nz\n\" style=\"fill:#ff0000;stroke:#0000ff;stroke-linejoin:miter;\"/>\n   </g>\n   <g id=\"patch_52\">\n    <path clip-path=\"url(#pc340d7c14c)\" d=\"M 1007.804401 214.4 \nL 1026.387443 214.4 \nL 1026.387443 214.4 \nL 1007.804401 214.4 \nz\n\" style=\"fill:#ff0000;stroke:#0000ff;stroke-linejoin:miter;\"/>\n   </g>\n   <g id=\"patch_53\">\n    <path clip-path=\"url(#pc340d7c14c)\" d=\"M 1026.387443 214.4 \nL 1044.970485 214.4 \nL 1044.970485 211.288221 \nL 1026.387443 211.288221 \nz\n\" style=\"fill:#ff0000;stroke:#0000ff;stroke-linejoin:miter;\"/>\n   </g>\n   <g id=\"patch_54\">\n    <path clip-path=\"url(#pc340d7c14c)\" d=\"M 1044.970485 214.4 \nL 1063.553527 214.4 \nL 1063.553527 210.510276 \nL 1044.970485 210.510276 \nz\n\" style=\"fill:#ff0000;stroke:#0000ff;stroke-linejoin:miter;\"/>\n   </g>\n   <g id=\"patch_55\">\n    <path clip-path=\"url(#pc340d7c14c)\" d=\"M 1063.553527 214.4 \nL 1082.136569 214.4 \nL 1082.136569 203.508772 \nL 1063.553527 203.508772 \nz\n\" style=\"fill:#ff0000;stroke:#0000ff;stroke-linejoin:miter;\"/>\n   </g>\n   <g id=\"patch_56\">\n    <path clip-path=\"url(#pc340d7c14c)\" d=\"M 1082.136569 214.4 \nL 1100.719612 214.4 \nL 1100.719612 203.508772 \nL 1082.136569 203.508772 \nz\n\" style=\"fill:#ff0000;stroke:#0000ff;stroke-linejoin:miter;\"/>\n   </g>\n   <g id=\"patch_57\">\n    <path clip-path=\"url(#pc340d7c14c)\" d=\"M 1100.719612 214.4 \nL 1119.302654 214.4 \nL 1119.302654 205.064662 \nL 1100.719612 205.064662 \nz\n\" style=\"fill:#ff0000;stroke:#0000ff;stroke-linejoin:miter;\"/>\n   </g>\n   <g id=\"patch_58\">\n    <path clip-path=\"url(#pc340d7c14c)\" d=\"M 1119.302654 214.4 \nL 1137.885696 214.4 \nL 1137.885696 204.286717 \nL 1119.302654 204.286717 \nz\n\" style=\"fill:#ff0000;stroke:#0000ff;stroke-linejoin:miter;\"/>\n   </g>\n   <g id=\"patch_59\">\n    <path clip-path=\"url(#pc340d7c14c)\" d=\"M 1137.885696 214.4 \nL 1156.468738 214.4 \nL 1156.468738 203.508772 \nL 1137.885696 203.508772 \nz\n\" style=\"fill:#ff0000;stroke:#0000ff;stroke-linejoin:miter;\"/>\n   </g>\n   <g id=\"patch_60\">\n    <path clip-path=\"url(#pc340d7c14c)\" d=\"M 1156.468738 214.4 \nL 1175.05178 214.4 \nL 1175.05178 202.730827 \nL 1156.468738 202.730827 \nz\n\" style=\"fill:#ff0000;stroke:#0000ff;stroke-linejoin:miter;\"/>\n   </g>\n   <g id=\"patch_61\">\n    <path clip-path=\"url(#pc340d7c14c)\" d=\"M 1175.05178 214.4 \nL 1193.634822 214.4 \nL 1193.634822 202.730827 \nL 1175.05178 202.730827 \nz\n\" style=\"fill:#ff0000;stroke:#0000ff;stroke-linejoin:miter;\"/>\n   </g>\n   <g id=\"patch_62\">\n    <path clip-path=\"url(#pc340d7c14c)\" d=\"M 1193.634822 214.4 \nL 1212.217864 214.4 \nL 1212.217864 202.730827 \nL 1193.634822 202.730827 \nz\n\" style=\"fill:#ff0000;stroke:#0000ff;stroke-linejoin:miter;\"/>\n   </g>\n   <g id=\"patch_63\">\n    <path clip-path=\"url(#pc340d7c14c)\" d=\"M 1212.217864 214.4 \nL 1230.800906 214.4 \nL 1230.800906 194.951378 \nL 1212.217864 194.951378 \nz\n\" style=\"fill:#ff0000;stroke:#0000ff;stroke-linejoin:miter;\"/>\n   </g>\n   <g id=\"patch_64\">\n    <path clip-path=\"url(#pc340d7c14c)\" d=\"M 1230.800906 214.4 \nL 1249.383948 214.4 \nL 1249.383948 182.504261 \nL 1230.800906 182.504261 \nz\n\" style=\"fill:#ff0000;stroke:#0000ff;stroke-linejoin:miter;\"/>\n   </g>\n   <g id=\"patch_65\">\n    <path clip-path=\"url(#pc340d7c14c)\" d=\"M 1249.383948 214.4 \nL 1267.96699 214.4 \nL 1267.96699 190.283709 \nL 1249.383948 190.283709 \nz\n\" style=\"fill:#ff0000;stroke:#0000ff;stroke-linejoin:miter;\"/>\n   </g>\n   <g id=\"patch_66\">\n    <path clip-path=\"url(#pc340d7c14c)\" d=\"M 1267.96699 214.4 \nL 1286.550032 214.4 \nL 1286.550032 178.614536 \nL 1267.96699 178.614536 \nz\n\" style=\"fill:#ff0000;stroke:#0000ff;stroke-linejoin:miter;\"/>\n   </g>\n   <g id=\"patch_67\">\n    <path clip-path=\"url(#pc340d7c14c)\" d=\"M 1286.550032 214.4 \nL 1305.133074 214.4 \nL 1305.133074 180.170426 \nL 1286.550032 180.170426 \nz\n\" style=\"fill:#ff0000;stroke:#0000ff;stroke-linejoin:miter;\"/>\n   </g>\n   <g id=\"patch_68\">\n    <path clip-path=\"url(#pc340d7c14c)\" d=\"M 1305.133074 214.4 \nL 1323.716116 214.4 \nL 1323.716116 170.057143 \nL 1305.133074 170.057143 \nz\n\" style=\"fill:#ff0000;stroke:#0000ff;stroke-linejoin:miter;\"/>\n   </g>\n   <g id=\"patch_69\">\n    <path clip-path=\"url(#pc340d7c14c)\" d=\"M 1323.716116 214.4 \nL 1342.299159 214.4 \nL 1342.299159 163.833584 \nL 1323.716116 163.833584 \nz\n\" style=\"fill:#ff0000;stroke:#0000ff;stroke-linejoin:miter;\"/>\n   </g>\n   <g id=\"patch_70\">\n    <path clip-path=\"url(#pc340d7c14c)\" d=\"M 1342.299159 214.4 \nL 1360.882201 214.4 \nL 1360.882201 166.167419 \nL 1342.299159 166.167419 \nz\n\" style=\"fill:#ff0000;stroke:#0000ff;stroke-linejoin:miter;\"/>\n   </g>\n   <g id=\"patch_71\">\n    <path clip-path=\"url(#pc340d7c14c)\" d=\"M 1360.882201 214.4 \nL 1379.465243 214.4 \nL 1379.465243 156.054135 \nL 1360.882201 156.054135 \nz\n\" style=\"fill:#ff0000;stroke:#0000ff;stroke-linejoin:miter;\"/>\n   </g>\n   <g id=\"patch_72\">\n    <path clip-path=\"url(#pc340d7c14c)\" d=\"M 1379.465243 214.4 \nL 1398.048285 214.4 \nL 1398.048285 140.495238 \nL 1379.465243 140.495238 \nz\n\" style=\"fill:#ff0000;stroke:#0000ff;stroke-linejoin:miter;\"/>\n   </g>\n   <g id=\"patch_73\">\n    <path clip-path=\"url(#pc340d7c14c)\" d=\"M 1398.048285 214.4 \nL 1416.631327 214.4 \nL 1416.631327 128.04812 \nL 1398.048285 128.04812 \nz\n\" style=\"fill:#ff0000;stroke:#0000ff;stroke-linejoin:miter;\"/>\n   </g>\n   <g id=\"patch_74\">\n    <path clip-path=\"url(#pc340d7c14c)\" d=\"M 1416.631327 214.4 \nL 1435.214369 214.4 \nL 1435.214369 118.712782 \nL 1416.631327 118.712782 \nz\n\" style=\"fill:#ff0000;stroke:#0000ff;stroke-linejoin:miter;\"/>\n   </g>\n   <g id=\"patch_75\">\n    <path clip-path=\"url(#pc340d7c14c)\" d=\"M 1435.214369 214.4 \nL 1453.797411 214.4 \nL 1453.797411 88.372932 \nL 1435.214369 88.372932 \nz\n\" style=\"fill:#ff0000;stroke:#0000ff;stroke-linejoin:miter;\"/>\n   </g>\n   <g id=\"patch_76\">\n    <path clip-path=\"url(#pc340d7c14c)\" d=\"M 1453.797411 214.4 \nL 1472.380453 214.4 \nL 1472.380453 81.371429 \nL 1453.797411 81.371429 \nz\n\" style=\"fill:#ff0000;stroke:#0000ff;stroke-linejoin:miter;\"/>\n   </g>\n   <g id=\"patch_77\">\n    <path clip-path=\"url(#pc340d7c14c)\" d=\"M 1472.380453 214.4 \nL 1490.963495 214.4 \nL 1490.963495 74.369925 \nL 1472.380453 74.369925 \nz\n\" style=\"fill:#ff0000;stroke:#0000ff;stroke-linejoin:miter;\"/>\n   </g>\n   <g id=\"patch_78\">\n    <path clip-path=\"url(#pc340d7c14c)\" d=\"M 1490.963495 214.4 \nL 1509.546537 214.4 \nL 1509.546537 66.590476 \nL 1490.963495 66.590476 \nz\n\" style=\"fill:#ff0000;stroke:#0000ff;stroke-linejoin:miter;\"/>\n   </g>\n   <g id=\"patch_79\">\n    <path clip-path=\"url(#pc340d7c14c)\" d=\"M 1509.546537 214.4 \nL 1528.129579 214.4 \nL 1528.129579 107.043609 \nL 1509.546537 107.043609 \nz\n\" style=\"fill:#ff0000;stroke:#0000ff;stroke-linejoin:miter;\"/>\n   </g>\n   <g id=\"patch_80\">\n    <path clip-path=\"url(#pc340d7c14c)\" d=\"M 1528.129579 214.4 \nL 1546.712621 214.4 \nL 1546.712621 118.712782 \nL 1528.129579 118.712782 \nz\n\" style=\"fill:#ff0000;stroke:#0000ff;stroke-linejoin:miter;\"/>\n   </g>\n   <g id=\"patch_81\">\n    <path clip-path=\"url(#pc340d7c14c)\" d=\"M 1546.712621 214.4 \nL 1565.295663 214.4 \nL 1565.295663 177.836591 \nL 1546.712621 177.836591 \nz\n\" style=\"fill:#ff0000;stroke:#0000ff;stroke-linejoin:miter;\"/>\n   </g>\n   <g id=\"patch_82\">\n    <path clip-path=\"url(#pc340d7c14c)\" d=\"M 1565.295663 214.4 \nL 1583.878705 214.4 \nL 1583.878705 189.505764 \nL 1565.295663 189.505764 \nz\n\" style=\"fill:#ff0000;stroke:#0000ff;stroke-linejoin:miter;\"/>\n   </g>\n   <g id=\"patch_83\">\n    <path clip-path=\"url(#pc340d7c14c)\" d=\"M 1583.878705 214.4 \nL 1602.461748 214.4 \nL 1602.461748 208.176441 \nL 1583.878705 208.176441 \nz\n\" style=\"fill:#ff0000;stroke:#0000ff;stroke-linejoin:miter;\"/>\n   </g>\n   <g id=\"patch_84\">\n    <path clip-path=\"url(#pc340d7c14c)\" d=\"M 1602.461748 214.4 \nL 1621.04479 214.4 \nL 1621.04479 206.620551 \nL 1602.461748 206.620551 \nz\n\" style=\"fill:#ff0000;stroke:#0000ff;stroke-linejoin:miter;\"/>\n   </g>\n   <g id=\"patch_85\">\n    <path clip-path=\"url(#pc340d7c14c)\" d=\"M 1621.04479 214.4 \nL 1639.627832 214.4 \nL 1639.627832 213.622055 \nL 1621.04479 213.622055 \nz\n\" style=\"fill:#ff0000;stroke:#0000ff;stroke-linejoin:miter;\"/>\n   </g>\n   <g id=\"patch_86\">\n    <path clip-path=\"url(#pc340d7c14c)\" d=\"M 1639.627832 214.4 \nL 1658.210874 214.4 \nL 1658.210874 214.4 \nL 1639.627832 214.4 \nz\n\" style=\"fill:#ff0000;stroke:#0000ff;stroke-linejoin:miter;\"/>\n   </g>\n   <g id=\"patch_87\">\n    <path clip-path=\"url(#pc340d7c14c)\" d=\"M 1658.210874 214.4 \nL 1676.793916 214.4 \nL 1676.793916 212.84411 \nL 1658.210874 212.84411 \nz\n\" style=\"fill:#ff0000;stroke:#0000ff;stroke-linejoin:miter;\"/>\n   </g>\n   <g id=\"matplotlib.axis_3\">\n    <g id=\"xtick_6\">\n     <g id=\"line2d_12\">\n      <g>\n       <use style=\"stroke:#000000;stroke-width:0.8;\" x=\"986.296088\" xlink:href=\"#mee462b4022\" y=\"214.4\"/>\n      </g>\n     </g>\n     <g id=\"text_13\">\n      <!-- −22 -->\n      <g transform=\"translate(977.854213 227.47875)scale(0.08 -0.08)\">\n       <defs>\n        <path d=\"M 10.59375 35.5 \nL 73.1875 35.5 \nL 73.1875 27.203125 \nL 10.59375 27.203125 \nz\n\" id=\"DejaVuSans-8722\"/>\n       </defs>\n       <use xlink:href=\"#DejaVuSans-8722\"/>\n       <use x=\"83.789062\" xlink:href=\"#DejaVuSans-50\"/>\n       <use x=\"147.412109\" xlink:href=\"#DejaVuSans-50\"/>\n      </g>\n     </g>\n    </g>\n    <g id=\"xtick_7\">\n     <g id=\"line2d_13\">\n      <g>\n       <use style=\"stroke:#000000;stroke-width:0.8;\" x=\"1079.004745\" xlink:href=\"#mee462b4022\" y=\"214.4\"/>\n      </g>\n     </g>\n     <g id=\"text_14\">\n      <!-- −20 -->\n      <g transform=\"translate(1070.56287 227.47875)scale(0.08 -0.08)\">\n       <use xlink:href=\"#DejaVuSans-8722\"/>\n       <use x=\"83.789062\" xlink:href=\"#DejaVuSans-50\"/>\n       <use x=\"147.412109\" xlink:href=\"#DejaVuSans-48\"/>\n      </g>\n     </g>\n    </g>\n    <g id=\"xtick_8\">\n     <g id=\"line2d_14\">\n      <g>\n       <use style=\"stroke:#000000;stroke-width:0.8;\" x=\"1171.713402\" xlink:href=\"#mee462b4022\" y=\"214.4\"/>\n      </g>\n     </g>\n     <g id=\"text_15\">\n      <!-- −18 -->\n      <g transform=\"translate(1163.271527 227.47875)scale(0.08 -0.08)\">\n       <use xlink:href=\"#DejaVuSans-8722\"/>\n       <use x=\"83.789062\" xlink:href=\"#DejaVuSans-49\"/>\n       <use x=\"147.412109\" xlink:href=\"#DejaVuSans-56\"/>\n      </g>\n     </g>\n    </g>\n    <g id=\"xtick_9\">\n     <g id=\"line2d_15\">\n      <g>\n       <use style=\"stroke:#000000;stroke-width:0.8;\" x=\"1264.422059\" xlink:href=\"#mee462b4022\" y=\"214.4\"/>\n      </g>\n     </g>\n     <g id=\"text_16\">\n      <!-- −16 -->\n      <g transform=\"translate(1255.980184 227.47875)scale(0.08 -0.08)\">\n       <use xlink:href=\"#DejaVuSans-8722\"/>\n       <use x=\"83.789062\" xlink:href=\"#DejaVuSans-49\"/>\n       <use x=\"147.412109\" xlink:href=\"#DejaVuSans-54\"/>\n      </g>\n     </g>\n    </g>\n    <g id=\"xtick_10\">\n     <g id=\"line2d_16\">\n      <g>\n       <use style=\"stroke:#000000;stroke-width:0.8;\" x=\"1357.130716\" xlink:href=\"#mee462b4022\" y=\"214.4\"/>\n      </g>\n     </g>\n     <g id=\"text_17\">\n      <!-- −14 -->\n      <g transform=\"translate(1348.688841 227.47875)scale(0.08 -0.08)\">\n       <use xlink:href=\"#DejaVuSans-8722\"/>\n       <use x=\"83.789062\" xlink:href=\"#DejaVuSans-49\"/>\n       <use x=\"147.412109\" xlink:href=\"#DejaVuSans-52\"/>\n      </g>\n     </g>\n    </g>\n    <g id=\"xtick_11\">\n     <g id=\"line2d_17\">\n      <g>\n       <use style=\"stroke:#000000;stroke-width:0.8;\" x=\"1449.839373\" xlink:href=\"#mee462b4022\" y=\"214.4\"/>\n      </g>\n     </g>\n     <g id=\"text_18\">\n      <!-- −12 -->\n      <g transform=\"translate(1441.397498 227.47875)scale(0.08 -0.08)\">\n       <use xlink:href=\"#DejaVuSans-8722\"/>\n       <use x=\"83.789062\" xlink:href=\"#DejaVuSans-49\"/>\n       <use x=\"147.412109\" xlink:href=\"#DejaVuSans-50\"/>\n      </g>\n     </g>\n    </g>\n    <g id=\"xtick_12\">\n     <g id=\"line2d_18\">\n      <g>\n       <use style=\"stroke:#000000;stroke-width:0.8;\" x=\"1542.54803\" xlink:href=\"#mee462b4022\" y=\"214.4\"/>\n      </g>\n     </g>\n     <g id=\"text_19\">\n      <!-- −10 -->\n      <g transform=\"translate(1534.106155 227.47875)scale(0.08 -0.08)\">\n       <use xlink:href=\"#DejaVuSans-8722\"/>\n       <use x=\"83.789062\" xlink:href=\"#DejaVuSans-49\"/>\n       <use x=\"147.412109\" xlink:href=\"#DejaVuSans-48\"/>\n      </g>\n     </g>\n    </g>\n    <g id=\"xtick_13\">\n     <g id=\"line2d_19\">\n      <g>\n       <use style=\"stroke:#000000;stroke-width:0.8;\" x=\"1635.256687\" xlink:href=\"#mee462b4022\" y=\"214.4\"/>\n      </g>\n     </g>\n     <g id=\"text_20\">\n      <!-- −8 -->\n      <g transform=\"translate(1629.359812 227.47875)scale(0.08 -0.08)\">\n       <use xlink:href=\"#DejaVuSans-8722\"/>\n       <use x=\"83.789062\" xlink:href=\"#DejaVuSans-56\"/>\n      </g>\n     </g>\n    </g>\n   </g>\n   <g id=\"matplotlib.axis_4\">\n    <g id=\"ytick_7\">\n     <g id=\"line2d_20\">\n      <g>\n       <use style=\"stroke:#000000;stroke-width:0.8;\" x=\"896.306149\" xlink:href=\"#m66ad1c31f7\" y=\"214.4\"/>\n      </g>\n     </g>\n     <g id=\"text_21\">\n      <!-- 0 -->\n      <g transform=\"translate(884.216149 217.439375)scale(0.08 -0.08)\">\n       <use xlink:href=\"#DejaVuSans-48\"/>\n      </g>\n     </g>\n    </g>\n    <g id=\"ytick_8\">\n     <g id=\"line2d_21\">\n      <g>\n       <use style=\"stroke:#000000;stroke-width:0.8;\" x=\"896.306149\" xlink:href=\"#m66ad1c31f7\" y=\"175.502757\"/>\n      </g>\n     </g>\n     <g id=\"text_22\">\n      <!-- 50 -->\n      <g transform=\"translate(879.126149 178.542132)scale(0.08 -0.08)\">\n       <defs>\n        <path d=\"M 10.796875 72.90625 \nL 49.515625 72.90625 \nL 49.515625 64.59375 \nL 19.828125 64.59375 \nL 19.828125 46.734375 \nQ 21.96875 47.46875 24.109375 47.828125 \nQ 26.265625 48.1875 28.421875 48.1875 \nQ 40.625 48.1875 47.75 41.5 \nQ 54.890625 34.8125 54.890625 23.390625 \nQ 54.890625 11.625 47.5625 5.09375 \nQ 40.234375 -1.421875 26.90625 -1.421875 \nQ 22.3125 -1.421875 17.546875 -0.640625 \nQ 12.796875 0.140625 7.71875 1.703125 \nL 7.71875 11.625 \nQ 12.109375 9.234375 16.796875 8.0625 \nQ 21.484375 6.890625 26.703125 6.890625 \nQ 35.15625 6.890625 40.078125 11.328125 \nQ 45.015625 15.765625 45.015625 23.390625 \nQ 45.015625 31 40.078125 35.4375 \nQ 35.15625 39.890625 26.703125 39.890625 \nQ 22.75 39.890625 18.8125 39.015625 \nQ 14.890625 38.140625 10.796875 36.28125 \nz\n\" id=\"DejaVuSans-53\"/>\n       </defs>\n       <use xlink:href=\"#DejaVuSans-53\"/>\n       <use x=\"63.623047\" xlink:href=\"#DejaVuSans-48\"/>\n      </g>\n     </g>\n    </g>\n    <g id=\"ytick_9\">\n     <g id=\"line2d_22\">\n      <g>\n       <use style=\"stroke:#000000;stroke-width:0.8;\" x=\"896.306149\" xlink:href=\"#m66ad1c31f7\" y=\"136.605514\"/>\n      </g>\n     </g>\n     <g id=\"text_23\">\n      <!-- 100 -->\n      <g transform=\"translate(874.036149 139.644889)scale(0.08 -0.08)\">\n       <use xlink:href=\"#DejaVuSans-49\"/>\n       <use x=\"63.623047\" xlink:href=\"#DejaVuSans-48\"/>\n       <use x=\"127.246094\" xlink:href=\"#DejaVuSans-48\"/>\n      </g>\n     </g>\n    </g>\n    <g id=\"ytick_10\">\n     <g id=\"line2d_23\">\n      <g>\n       <use style=\"stroke:#000000;stroke-width:0.8;\" x=\"896.306149\" xlink:href=\"#m66ad1c31f7\" y=\"97.708271\"/>\n      </g>\n     </g>\n     <g id=\"text_24\">\n      <!-- 150 -->\n      <g transform=\"translate(874.036149 100.747646)scale(0.08 -0.08)\">\n       <use xlink:href=\"#DejaVuSans-49\"/>\n       <use x=\"63.623047\" xlink:href=\"#DejaVuSans-53\"/>\n       <use x=\"127.246094\" xlink:href=\"#DejaVuSans-48\"/>\n      </g>\n     </g>\n    </g>\n   </g>\n   <g id=\"patch_88\">\n    <path d=\"M 896.306149 214.4 \nL 896.306149 59.2 \n\" style=\"fill:none;stroke:#000000;stroke-linecap:square;stroke-linejoin:miter;stroke-width:0.8;\"/>\n   </g>\n   <g id=\"patch_89\">\n    <path d=\"M 1713.96 214.4 \nL 1713.96 59.2 \n\" style=\"fill:none;stroke:#000000;stroke-linecap:square;stroke-linejoin:miter;stroke-width:0.8;\"/>\n   </g>\n   <g id=\"patch_90\">\n    <path d=\"M 896.306149 214.4 \nL 1713.96 214.4 \n\" style=\"fill:none;stroke:#000000;stroke-linecap:square;stroke-linejoin:miter;stroke-width:0.8;\"/>\n   </g>\n   <g id=\"patch_91\">\n    <path d=\"M 896.306149 59.2 \nL 1713.96 59.2 \n\" style=\"fill:none;stroke:#000000;stroke-linecap:square;stroke-linejoin:miter;stroke-width:0.8;\"/>\n   </g>\n   <g id=\"text_25\">\n    <!-- Average Loglikelihood -->\n    <g transform=\"translate(1239.298074 53.2)scale(0.12 -0.12)\">\n     <defs>\n      <path d=\"M 34.1875 63.1875 \nL 20.796875 26.90625 \nL 47.609375 26.90625 \nz\nM 28.609375 72.90625 \nL 39.796875 72.90625 \nL 67.578125 0 \nL 57.328125 0 \nL 50.6875 18.703125 \nL 17.828125 18.703125 \nL 11.1875 0 \nL 0.78125 0 \nz\n\" id=\"DejaVuSans-65\"/>\n      <path d=\"M 2.984375 54.6875 \nL 12.5 54.6875 \nL 29.59375 8.796875 \nL 46.6875 54.6875 \nL 56.203125 54.6875 \nL 35.6875 0 \nL 23.484375 0 \nz\n\" id=\"DejaVuSans-118\"/>\n      <path d=\"M 41.109375 46.296875 \nQ 39.59375 47.171875 37.8125 47.578125 \nQ 36.03125 48 33.890625 48 \nQ 26.265625 48 22.1875 43.046875 \nQ 18.109375 38.09375 18.109375 28.8125 \nL 18.109375 0 \nL 9.078125 0 \nL 9.078125 54.6875 \nL 18.109375 54.6875 \nL 18.109375 46.1875 \nQ 20.953125 51.171875 25.484375 53.578125 \nQ 30.03125 56 36.53125 56 \nQ 37.453125 56 38.578125 55.875 \nQ 39.703125 55.765625 41.0625 55.515625 \nz\n\" id=\"DejaVuSans-114\"/>\n      <path d=\"M 34.28125 27.484375 \nQ 23.390625 27.484375 19.1875 25 \nQ 14.984375 22.515625 14.984375 16.5 \nQ 14.984375 11.71875 18.140625 8.90625 \nQ 21.296875 6.109375 26.703125 6.109375 \nQ 34.1875 6.109375 38.703125 11.40625 \nQ 43.21875 16.703125 43.21875 25.484375 \nL 43.21875 27.484375 \nz\nM 52.203125 31.203125 \nL 52.203125 0 \nL 43.21875 0 \nL 43.21875 8.296875 \nQ 40.140625 3.328125 35.546875 0.953125 \nQ 30.953125 -1.421875 24.3125 -1.421875 \nQ 15.921875 -1.421875 10.953125 3.296875 \nQ 6 8.015625 6 15.921875 \nQ 6 25.140625 12.171875 29.828125 \nQ 18.359375 34.515625 30.609375 34.515625 \nL 43.21875 34.515625 \nL 43.21875 35.40625 \nQ 43.21875 41.609375 39.140625 45 \nQ 35.0625 48.390625 27.6875 48.390625 \nQ 23 48.390625 18.546875 47.265625 \nQ 14.109375 46.140625 10.015625 43.890625 \nL 10.015625 52.203125 \nQ 14.9375 54.109375 19.578125 55.046875 \nQ 24.21875 56 28.609375 56 \nQ 40.484375 56 46.34375 49.84375 \nQ 52.203125 43.703125 52.203125 31.203125 \nz\n\" id=\"DejaVuSans-97\"/>\n      <path id=\"DejaVuSans-32\"/>\n      <path d=\"M 30.609375 48.390625 \nQ 23.390625 48.390625 19.1875 42.75 \nQ 14.984375 37.109375 14.984375 27.296875 \nQ 14.984375 17.484375 19.15625 11.84375 \nQ 23.34375 6.203125 30.609375 6.203125 \nQ 37.796875 6.203125 41.984375 11.859375 \nQ 46.1875 17.53125 46.1875 27.296875 \nQ 46.1875 37.015625 41.984375 42.703125 \nQ 37.796875 48.390625 30.609375 48.390625 \nz\nM 30.609375 56 \nQ 42.328125 56 49.015625 48.375 \nQ 55.71875 40.765625 55.71875 27.296875 \nQ 55.71875 13.875 49.015625 6.21875 \nQ 42.328125 -1.421875 30.609375 -1.421875 \nQ 18.84375 -1.421875 12.171875 6.21875 \nQ 5.515625 13.875 5.515625 27.296875 \nQ 5.515625 40.765625 12.171875 48.375 \nQ 18.84375 56 30.609375 56 \nz\n\" id=\"DejaVuSans-111\"/>\n      <path d=\"M 9.421875 75.984375 \nL 18.40625 75.984375 \nL 18.40625 0 \nL 9.421875 0 \nz\n\" id=\"DejaVuSans-108\"/>\n      <path d=\"M 9.421875 54.6875 \nL 18.40625 54.6875 \nL 18.40625 0 \nL 9.421875 0 \nz\nM 9.421875 75.984375 \nL 18.40625 75.984375 \nL 18.40625 64.59375 \nL 9.421875 64.59375 \nz\n\" id=\"DejaVuSans-105\"/>\n      <path d=\"M 9.078125 75.984375 \nL 18.109375 75.984375 \nL 18.109375 31.109375 \nL 44.921875 54.6875 \nL 56.390625 54.6875 \nL 27.390625 29.109375 \nL 57.625 0 \nL 45.90625 0 \nL 18.109375 26.703125 \nL 18.109375 0 \nL 9.078125 0 \nz\n\" id=\"DejaVuSans-107\"/>\n      <path d=\"M 45.40625 46.390625 \nL 45.40625 75.984375 \nL 54.390625 75.984375 \nL 54.390625 0 \nL 45.40625 0 \nL 45.40625 8.203125 \nQ 42.578125 3.328125 38.25 0.953125 \nQ 33.9375 -1.421875 27.875 -1.421875 \nQ 17.96875 -1.421875 11.734375 6.484375 \nQ 5.515625 14.40625 5.515625 27.296875 \nQ 5.515625 40.1875 11.734375 48.09375 \nQ 17.96875 56 27.875 56 \nQ 33.9375 56 38.25 53.625 \nQ 42.578125 51.265625 45.40625 46.390625 \nz\nM 14.796875 27.296875 \nQ 14.796875 17.390625 18.875 11.75 \nQ 22.953125 6.109375 30.078125 6.109375 \nQ 37.203125 6.109375 41.296875 11.75 \nQ 45.40625 17.390625 45.40625 27.296875 \nQ 45.40625 37.203125 41.296875 42.84375 \nQ 37.203125 48.484375 30.078125 48.484375 \nQ 22.953125 48.484375 18.875 42.84375 \nQ 14.796875 37.203125 14.796875 27.296875 \nz\n\" id=\"DejaVuSans-100\"/>\n     </defs>\n     <use xlink:href=\"#DejaVuSans-65\"/>\n     <use x=\"62.533203\" xlink:href=\"#DejaVuSans-118\"/>\n     <use x=\"121.712891\" xlink:href=\"#DejaVuSans-101\"/>\n     <use x=\"183.236328\" xlink:href=\"#DejaVuSans-114\"/>\n     <use x=\"224.349609\" xlink:href=\"#DejaVuSans-97\"/>\n     <use x=\"285.628906\" xlink:href=\"#DejaVuSans-103\"/>\n     <use x=\"349.105469\" xlink:href=\"#DejaVuSans-101\"/>\n     <use x=\"410.628906\" xlink:href=\"#DejaVuSans-32\"/>\n     <use x=\"442.416016\" xlink:href=\"#DejaVuSans-76\"/>\n     <use x=\"496.378906\" xlink:href=\"#DejaVuSans-111\"/>\n     <use x=\"557.560547\" xlink:href=\"#DejaVuSans-103\"/>\n     <use x=\"621.037109\" xlink:href=\"#DejaVuSans-108\"/>\n     <use x=\"648.820312\" xlink:href=\"#DejaVuSans-105\"/>\n     <use x=\"676.603516\" xlink:href=\"#DejaVuSans-107\"/>\n     <use x=\"730.888672\" xlink:href=\"#DejaVuSans-101\"/>\n     <use x=\"792.412109\" xlink:href=\"#DejaVuSans-108\"/>\n     <use x=\"820.195312\" xlink:href=\"#DejaVuSans-105\"/>\n     <use x=\"847.978516\" xlink:href=\"#DejaVuSans-104\"/>\n     <use x=\"911.357422\" xlink:href=\"#DejaVuSans-111\"/>\n     <use x=\"972.539062\" xlink:href=\"#DejaVuSans-111\"/>\n     <use x=\"1033.720703\" xlink:href=\"#DejaVuSans-100\"/>\n    </g>\n   </g>\n  </g>\n  <g id=\"axes_3\">\n   <g id=\"patch_92\">\n    <path d=\"M 34.56 412.4 \nL 852.213851 412.4 \nL 852.213851 257.2 \nL 34.56 257.2 \nz\n\" style=\"fill:#ffffff;\"/>\n   </g>\n   <g id=\"patch_93\">\n    <path clip-path=\"url(#pa4b94a4fb9)\" d=\"M 71.726084 412.4 \nL 90.309126 412.4 \nL 90.309126 264.590476 \nL 71.726084 264.590476 \nz\n\" style=\"fill:#ff0000;stroke:#0000ff;stroke-linejoin:miter;\"/>\n   </g>\n   <g id=\"patch_94\">\n    <path clip-path=\"url(#pa4b94a4fb9)\" d=\"M 90.309126 412.4 \nL 108.892168 412.4 \nL 108.892168 346.957615 \nL 90.309126 346.957615 \nz\n\" style=\"fill:#ff0000;stroke:#0000ff;stroke-linejoin:miter;\"/>\n   </g>\n   <g id=\"patch_95\">\n    <path clip-path=\"url(#pa4b94a4fb9)\" d=\"M 108.892168 412.4 \nL 127.47521 412.4 \nL 127.47521 395.09914 \nL 108.892168 395.09914 \nz\n\" style=\"fill:#ff0000;stroke:#0000ff;stroke-linejoin:miter;\"/>\n   </g>\n   <g id=\"patch_96\">\n    <path clip-path=\"url(#pa4b94a4fb9)\" d=\"M 127.47521 412.4 \nL 146.058252 412.4 \nL 146.058252 406.006204 \nL 127.47521 406.006204 \nz\n\" style=\"fill:#ff0000;stroke:#0000ff;stroke-linejoin:miter;\"/>\n   </g>\n   <g id=\"patch_97\">\n    <path clip-path=\"url(#pa4b94a4fb9)\" d=\"M 146.058252 412.4 \nL 164.641295 412.4 \nL 164.641295 409.76726 \nL 146.058252 409.76726 \nz\n\" style=\"fill:#ff0000;stroke:#0000ff;stroke-linejoin:miter;\"/>\n   </g>\n   <g id=\"patch_98\">\n    <path clip-path=\"url(#pa4b94a4fb9)\" d=\"M 164.641295 412.4 \nL 183.224337 412.4 \nL 183.224337 410.64484 \nL 164.641295 410.64484 \nz\n\" style=\"fill:#ff0000;stroke:#0000ff;stroke-linejoin:miter;\"/>\n   </g>\n   <g id=\"patch_99\">\n    <path clip-path=\"url(#pa4b94a4fb9)\" d=\"M 183.224337 412.4 \nL 201.807379 412.4 \nL 201.807379 411.773157 \nL 183.224337 411.773157 \nz\n\" style=\"fill:#ff0000;stroke:#0000ff;stroke-linejoin:miter;\"/>\n   </g>\n   <g id=\"patch_100\">\n    <path clip-path=\"url(#pa4b94a4fb9)\" d=\"M 201.807379 412.4 \nL 220.390421 412.4 \nL 220.390421 411.020946 \nL 201.807379 411.020946 \nz\n\" style=\"fill:#ff0000;stroke:#0000ff;stroke-linejoin:miter;\"/>\n   </g>\n   <g id=\"patch_101\">\n    <path clip-path=\"url(#pa4b94a4fb9)\" d=\"M 220.390421 412.4 \nL 238.973463 412.4 \nL 238.973463 411.898526 \nL 220.390421 411.898526 \nz\n\" style=\"fill:#ff0000;stroke:#0000ff;stroke-linejoin:miter;\"/>\n   </g>\n   <g id=\"patch_102\">\n    <path clip-path=\"url(#pa4b94a4fb9)\" d=\"M 238.973463 412.4 \nL 257.556505 412.4 \nL 257.556505 411.52242 \nL 238.973463 411.52242 \nz\n\" style=\"fill:#ff0000;stroke:#0000ff;stroke-linejoin:miter;\"/>\n   </g>\n   <g id=\"patch_103\">\n    <path clip-path=\"url(#pa4b94a4fb9)\" d=\"M 257.556505 412.4 \nL 276.139547 412.4 \nL 276.139547 412.274631 \nL 257.556505 412.274631 \nz\n\" style=\"fill:#ff0000;stroke:#0000ff;stroke-linejoin:miter;\"/>\n   </g>\n   <g id=\"patch_104\">\n    <path clip-path=\"url(#pa4b94a4fb9)\" d=\"M 276.139547 412.4 \nL 294.722589 412.4 \nL 294.722589 411.898526 \nL 276.139547 411.898526 \nz\n\" style=\"fill:#ff0000;stroke:#0000ff;stroke-linejoin:miter;\"/>\n   </g>\n   <g id=\"patch_105\">\n    <path clip-path=\"url(#pa4b94a4fb9)\" d=\"M 294.722589 412.4 \nL 313.305631 412.4 \nL 313.305631 412.274631 \nL 294.722589 412.274631 \nz\n\" style=\"fill:#ff0000;stroke:#0000ff;stroke-linejoin:miter;\"/>\n   </g>\n   <g id=\"patch_106\">\n    <path clip-path=\"url(#pa4b94a4fb9)\" d=\"M 313.305631 412.4 \nL 331.888673 412.4 \nL 331.888673 412.4 \nL 313.305631 412.4 \nz\n\" style=\"fill:#ff0000;stroke:#0000ff;stroke-linejoin:miter;\"/>\n   </g>\n   <g id=\"patch_107\">\n    <path clip-path=\"url(#pa4b94a4fb9)\" d=\"M 331.888673 412.4 \nL 350.471715 412.4 \nL 350.471715 412.274631 \nL 331.888673 412.274631 \nz\n\" style=\"fill:#ff0000;stroke:#0000ff;stroke-linejoin:miter;\"/>\n   </g>\n   <g id=\"patch_108\">\n    <path clip-path=\"url(#pa4b94a4fb9)\" d=\"M 350.471715 412.4 \nL 369.054757 412.4 \nL 369.054757 412.4 \nL 350.471715 412.4 \nz\n\" style=\"fill:#ff0000;stroke:#0000ff;stroke-linejoin:miter;\"/>\n   </g>\n   <g id=\"patch_109\">\n    <path clip-path=\"url(#pa4b94a4fb9)\" d=\"M 369.054757 412.4 \nL 387.637799 412.4 \nL 387.637799 412.4 \nL 369.054757 412.4 \nz\n\" style=\"fill:#ff0000;stroke:#0000ff;stroke-linejoin:miter;\"/>\n   </g>\n   <g id=\"patch_110\">\n    <path clip-path=\"url(#pa4b94a4fb9)\" d=\"M 387.637799 412.4 \nL 406.220841 412.4 \nL 406.220841 412.4 \nL 387.637799 412.4 \nz\n\" style=\"fill:#ff0000;stroke:#0000ff;stroke-linejoin:miter;\"/>\n   </g>\n   <g id=\"patch_111\">\n    <path clip-path=\"url(#pa4b94a4fb9)\" d=\"M 406.220841 412.4 \nL 424.803884 412.4 \nL 424.803884 412.4 \nL 406.220841 412.4 \nz\n\" style=\"fill:#ff0000;stroke:#0000ff;stroke-linejoin:miter;\"/>\n   </g>\n   <g id=\"patch_112\">\n    <path clip-path=\"url(#pa4b94a4fb9)\" d=\"M 424.803884 412.4 \nL 443.386926 412.4 \nL 443.386926 412.4 \nL 424.803884 412.4 \nz\n\" style=\"fill:#ff0000;stroke:#0000ff;stroke-linejoin:miter;\"/>\n   </g>\n   <g id=\"patch_113\">\n    <path clip-path=\"url(#pa4b94a4fb9)\" d=\"M 443.386926 412.4 \nL 461.969968 412.4 \nL 461.969968 412.274631 \nL 443.386926 412.274631 \nz\n\" style=\"fill:#ff0000;stroke:#0000ff;stroke-linejoin:miter;\"/>\n   </g>\n   <g id=\"patch_114\">\n    <path clip-path=\"url(#pa4b94a4fb9)\" d=\"M 461.969968 412.4 \nL 480.55301 412.4 \nL 480.55301 412.274631 \nL 461.969968 412.274631 \nz\n\" style=\"fill:#ff0000;stroke:#0000ff;stroke-linejoin:miter;\"/>\n   </g>\n   <g id=\"patch_115\">\n    <path clip-path=\"url(#pa4b94a4fb9)\" d=\"M 480.55301 412.4 \nL 499.136052 412.4 \nL 499.136052 412.4 \nL 480.55301 412.4 \nz\n\" style=\"fill:#ff0000;stroke:#0000ff;stroke-linejoin:miter;\"/>\n   </g>\n   <g id=\"patch_116\">\n    <path clip-path=\"url(#pa4b94a4fb9)\" d=\"M 499.136052 412.4 \nL 517.719094 412.4 \nL 517.719094 412.4 \nL 499.136052 412.4 \nz\n\" style=\"fill:#ff0000;stroke:#0000ff;stroke-linejoin:miter;\"/>\n   </g>\n   <g id=\"patch_117\">\n    <path clip-path=\"url(#pa4b94a4fb9)\" d=\"M 517.719094 412.4 \nL 536.302136 412.4 \nL 536.302136 412.274631 \nL 517.719094 412.274631 \nz\n\" style=\"fill:#ff0000;stroke:#0000ff;stroke-linejoin:miter;\"/>\n   </g>\n   <g id=\"patch_118\">\n    <path clip-path=\"url(#pa4b94a4fb9)\" d=\"M 536.302136 412.4 \nL 554.885178 412.4 \nL 554.885178 412.4 \nL 536.302136 412.4 \nz\n\" style=\"fill:#ff0000;stroke:#0000ff;stroke-linejoin:miter;\"/>\n   </g>\n   <g id=\"patch_119\">\n    <path clip-path=\"url(#pa4b94a4fb9)\" d=\"M 554.885178 412.4 \nL 573.46822 412.4 \nL 573.46822 412.4 \nL 554.885178 412.4 \nz\n\" style=\"fill:#ff0000;stroke:#0000ff;stroke-linejoin:miter;\"/>\n   </g>\n   <g id=\"patch_120\">\n    <path clip-path=\"url(#pa4b94a4fb9)\" d=\"M 573.46822 412.4 \nL 592.051262 412.4 \nL 592.051262 412.4 \nL 573.46822 412.4 \nz\n\" style=\"fill:#ff0000;stroke:#0000ff;stroke-linejoin:miter;\"/>\n   </g>\n   <g id=\"patch_121\">\n    <path clip-path=\"url(#pa4b94a4fb9)\" d=\"M 592.051262 412.4 \nL 610.634304 412.4 \nL 610.634304 412.4 \nL 592.051262 412.4 \nz\n\" style=\"fill:#ff0000;stroke:#0000ff;stroke-linejoin:miter;\"/>\n   </g>\n   <g id=\"patch_122\">\n    <path clip-path=\"url(#pa4b94a4fb9)\" d=\"M 610.634304 412.4 \nL 629.217346 412.4 \nL 629.217346 412.4 \nL 610.634304 412.4 \nz\n\" style=\"fill:#ff0000;stroke:#0000ff;stroke-linejoin:miter;\"/>\n   </g>\n   <g id=\"patch_123\">\n    <path clip-path=\"url(#pa4b94a4fb9)\" d=\"M 629.217346 412.4 \nL 647.800388 412.4 \nL 647.800388 412.4 \nL 629.217346 412.4 \nz\n\" style=\"fill:#ff0000;stroke:#0000ff;stroke-linejoin:miter;\"/>\n   </g>\n   <g id=\"patch_124\">\n    <path clip-path=\"url(#pa4b94a4fb9)\" d=\"M 647.800388 412.4 \nL 666.383431 412.4 \nL 666.383431 412.4 \nL 647.800388 412.4 \nz\n\" style=\"fill:#ff0000;stroke:#0000ff;stroke-linejoin:miter;\"/>\n   </g>\n   <g id=\"patch_125\">\n    <path clip-path=\"url(#pa4b94a4fb9)\" d=\"M 666.383431 412.4 \nL 684.966473 412.4 \nL 684.966473 412.4 \nL 666.383431 412.4 \nz\n\" style=\"fill:#ff0000;stroke:#0000ff;stroke-linejoin:miter;\"/>\n   </g>\n   <g id=\"patch_126\">\n    <path clip-path=\"url(#pa4b94a4fb9)\" d=\"M 684.966473 412.4 \nL 703.549515 412.4 \nL 703.549515 412.4 \nL 684.966473 412.4 \nz\n\" style=\"fill:#ff0000;stroke:#0000ff;stroke-linejoin:miter;\"/>\n   </g>\n   <g id=\"patch_127\">\n    <path clip-path=\"url(#pa4b94a4fb9)\" d=\"M 703.549515 412.4 \nL 722.132557 412.4 \nL 722.132557 412.4 \nL 703.549515 412.4 \nz\n\" style=\"fill:#ff0000;stroke:#0000ff;stroke-linejoin:miter;\"/>\n   </g>\n   <g id=\"patch_128\">\n    <path clip-path=\"url(#pa4b94a4fb9)\" d=\"M 722.132557 412.4 \nL 740.715599 412.4 \nL 740.715599 412.4 \nL 722.132557 412.4 \nz\n\" style=\"fill:#ff0000;stroke:#0000ff;stroke-linejoin:miter;\"/>\n   </g>\n   <g id=\"patch_129\">\n    <path clip-path=\"url(#pa4b94a4fb9)\" d=\"M 740.715599 412.4 \nL 759.298641 412.4 \nL 759.298641 412.4 \nL 740.715599 412.4 \nz\n\" style=\"fill:#ff0000;stroke:#0000ff;stroke-linejoin:miter;\"/>\n   </g>\n   <g id=\"patch_130\">\n    <path clip-path=\"url(#pa4b94a4fb9)\" d=\"M 759.298641 412.4 \nL 777.881683 412.4 \nL 777.881683 412.4 \nL 759.298641 412.4 \nz\n\" style=\"fill:#ff0000;stroke:#0000ff;stroke-linejoin:miter;\"/>\n   </g>\n   <g id=\"patch_131\">\n    <path clip-path=\"url(#pa4b94a4fb9)\" d=\"M 777.881683 412.4 \nL 796.464725 412.4 \nL 796.464725 412.4 \nL 777.881683 412.4 \nz\n\" style=\"fill:#ff0000;stroke:#0000ff;stroke-linejoin:miter;\"/>\n   </g>\n   <g id=\"patch_132\">\n    <path clip-path=\"url(#pa4b94a4fb9)\" d=\"M 796.464725 412.4 \nL 815.047767 412.4 \nL 815.047767 412.274631 \nL 796.464725 412.274631 \nz\n\" style=\"fill:#ff0000;stroke:#0000ff;stroke-linejoin:miter;\"/>\n   </g>\n   <g id=\"matplotlib.axis_5\">\n    <g id=\"xtick_14\">\n     <g id=\"line2d_24\">\n      <g>\n       <use style=\"stroke:#000000;stroke-width:0.8;\" x=\"71.726084\" xlink:href=\"#mee462b4022\" y=\"412.4\"/>\n      </g>\n     </g>\n     <g id=\"text_26\">\n      <!-- 0 -->\n      <g transform=\"translate(69.181084 425.47875)scale(0.08 -0.08)\">\n       <use xlink:href=\"#DejaVuSans-48\"/>\n      </g>\n     </g>\n    </g>\n    <g id=\"xtick_15\">\n     <g id=\"line2d_25\">\n      <g>\n       <use style=\"stroke:#000000;stroke-width:0.8;\" x=\"169.019498\" xlink:href=\"#mee462b4022\" y=\"412.4\"/>\n      </g>\n     </g>\n     <g id=\"text_27\">\n      <!-- 25 -->\n      <g transform=\"translate(163.929498 425.47875)scale(0.08 -0.08)\">\n       <use xlink:href=\"#DejaVuSans-50\"/>\n       <use x=\"63.623047\" xlink:href=\"#DejaVuSans-53\"/>\n      </g>\n     </g>\n    </g>\n    <g id=\"xtick_16\">\n     <g id=\"line2d_26\">\n      <g>\n       <use style=\"stroke:#000000;stroke-width:0.8;\" x=\"266.312912\" xlink:href=\"#mee462b4022\" y=\"412.4\"/>\n      </g>\n     </g>\n     <g id=\"text_28\">\n      <!-- 50 -->\n      <g transform=\"translate(261.222912 425.47875)scale(0.08 -0.08)\">\n       <use xlink:href=\"#DejaVuSans-53\"/>\n       <use x=\"63.623047\" xlink:href=\"#DejaVuSans-48\"/>\n      </g>\n     </g>\n    </g>\n    <g id=\"xtick_17\">\n     <g id=\"line2d_27\">\n      <g>\n       <use style=\"stroke:#000000;stroke-width:0.8;\" x=\"363.606326\" xlink:href=\"#mee462b4022\" y=\"412.4\"/>\n      </g>\n     </g>\n     <g id=\"text_29\">\n      <!-- 75 -->\n      <g transform=\"translate(358.516326 425.47875)scale(0.08 -0.08)\">\n       <defs>\n        <path d=\"M 8.203125 72.90625 \nL 55.078125 72.90625 \nL 55.078125 68.703125 \nL 28.609375 0 \nL 18.3125 0 \nL 43.21875 64.59375 \nL 8.203125 64.59375 \nz\n\" id=\"DejaVuSans-55\"/>\n       </defs>\n       <use xlink:href=\"#DejaVuSans-55\"/>\n       <use x=\"63.623047\" xlink:href=\"#DejaVuSans-53\"/>\n      </g>\n     </g>\n    </g>\n    <g id=\"xtick_18\">\n     <g id=\"line2d_28\">\n      <g>\n       <use style=\"stroke:#000000;stroke-width:0.8;\" x=\"460.89974\" xlink:href=\"#mee462b4022\" y=\"412.4\"/>\n      </g>\n     </g>\n     <g id=\"text_30\">\n      <!-- 100 -->\n      <g transform=\"translate(453.26474 425.47875)scale(0.08 -0.08)\">\n       <use xlink:href=\"#DejaVuSans-49\"/>\n       <use x=\"63.623047\" xlink:href=\"#DejaVuSans-48\"/>\n       <use x=\"127.246094\" xlink:href=\"#DejaVuSans-48\"/>\n      </g>\n     </g>\n    </g>\n    <g id=\"xtick_19\">\n     <g id=\"line2d_29\">\n      <g>\n       <use style=\"stroke:#000000;stroke-width:0.8;\" x=\"558.193154\" xlink:href=\"#mee462b4022\" y=\"412.4\"/>\n      </g>\n     </g>\n     <g id=\"text_31\">\n      <!-- 125 -->\n      <g transform=\"translate(550.558154 425.47875)scale(0.08 -0.08)\">\n       <use xlink:href=\"#DejaVuSans-49\"/>\n       <use x=\"63.623047\" xlink:href=\"#DejaVuSans-50\"/>\n       <use x=\"127.246094\" xlink:href=\"#DejaVuSans-53\"/>\n      </g>\n     </g>\n    </g>\n    <g id=\"xtick_20\">\n     <g id=\"line2d_30\">\n      <g>\n       <use style=\"stroke:#000000;stroke-width:0.8;\" x=\"655.486568\" xlink:href=\"#mee462b4022\" y=\"412.4\"/>\n      </g>\n     </g>\n     <g id=\"text_32\">\n      <!-- 150 -->\n      <g transform=\"translate(647.851568 425.47875)scale(0.08 -0.08)\">\n       <use xlink:href=\"#DejaVuSans-49\"/>\n       <use x=\"63.623047\" xlink:href=\"#DejaVuSans-53\"/>\n       <use x=\"127.246094\" xlink:href=\"#DejaVuSans-48\"/>\n      </g>\n     </g>\n    </g>\n    <g id=\"xtick_21\">\n     <g id=\"line2d_31\">\n      <g>\n       <use style=\"stroke:#000000;stroke-width:0.8;\" x=\"752.779982\" xlink:href=\"#mee462b4022\" y=\"412.4\"/>\n      </g>\n     </g>\n     <g id=\"text_33\">\n      <!-- 175 -->\n      <g transform=\"translate(745.144982 425.47875)scale(0.08 -0.08)\">\n       <use xlink:href=\"#DejaVuSans-49\"/>\n       <use x=\"63.623047\" xlink:href=\"#DejaVuSans-55\"/>\n       <use x=\"127.246094\" xlink:href=\"#DejaVuSans-53\"/>\n      </g>\n     </g>\n    </g>\n    <g id=\"xtick_22\">\n     <g id=\"line2d_32\">\n      <g>\n       <use style=\"stroke:#000000;stroke-width:0.8;\" x=\"850.073396\" xlink:href=\"#mee462b4022\" y=\"412.4\"/>\n      </g>\n     </g>\n     <g id=\"text_34\">\n      <!-- 200 -->\n      <g transform=\"translate(842.438396 425.47875)scale(0.08 -0.08)\">\n       <use xlink:href=\"#DejaVuSans-50\"/>\n       <use x=\"63.623047\" xlink:href=\"#DejaVuSans-48\"/>\n       <use x=\"127.246094\" xlink:href=\"#DejaVuSans-48\"/>\n      </g>\n     </g>\n    </g>\n   </g>\n   <g id=\"matplotlib.axis_6\">\n    <g id=\"ytick_11\">\n     <g id=\"line2d_33\">\n      <g>\n       <use style=\"stroke:#000000;stroke-width:0.8;\" x=\"34.56\" xlink:href=\"#m66ad1c31f7\" y=\"412.4\"/>\n      </g>\n     </g>\n     <g id=\"text_35\">\n      <!-- 0 -->\n      <g transform=\"translate(22.47 415.439375)scale(0.08 -0.08)\">\n       <use xlink:href=\"#DejaVuSans-48\"/>\n      </g>\n     </g>\n    </g>\n    <g id=\"ytick_12\">\n     <g id=\"line2d_34\">\n      <g>\n       <use style=\"stroke:#000000;stroke-width:0.8;\" x=\"34.56\" xlink:href=\"#m66ad1c31f7\" y=\"387.326289\"/>\n      </g>\n     </g>\n     <g id=\"text_36\">\n      <!-- 200 -->\n      <g transform=\"translate(12.29 390.365664)scale(0.08 -0.08)\">\n       <use xlink:href=\"#DejaVuSans-50\"/>\n       <use x=\"63.623047\" xlink:href=\"#DejaVuSans-48\"/>\n       <use x=\"127.246094\" xlink:href=\"#DejaVuSans-48\"/>\n      </g>\n     </g>\n    </g>\n    <g id=\"ytick_13\">\n     <g id=\"line2d_35\">\n      <g>\n       <use style=\"stroke:#000000;stroke-width:0.8;\" x=\"34.56\" xlink:href=\"#m66ad1c31f7\" y=\"362.252579\"/>\n      </g>\n     </g>\n     <g id=\"text_37\">\n      <!-- 400 -->\n      <g transform=\"translate(12.29 365.291954)scale(0.08 -0.08)\">\n       <use xlink:href=\"#DejaVuSans-52\"/>\n       <use x=\"63.623047\" xlink:href=\"#DejaVuSans-48\"/>\n       <use x=\"127.246094\" xlink:href=\"#DejaVuSans-48\"/>\n      </g>\n     </g>\n    </g>\n    <g id=\"ytick_14\">\n     <g id=\"line2d_36\">\n      <g>\n       <use style=\"stroke:#000000;stroke-width:0.8;\" x=\"34.56\" xlink:href=\"#m66ad1c31f7\" y=\"337.178868\"/>\n      </g>\n     </g>\n     <g id=\"text_38\">\n      <!-- 600 -->\n      <g transform=\"translate(12.29 340.218243)scale(0.08 -0.08)\">\n       <use xlink:href=\"#DejaVuSans-54\"/>\n       <use x=\"63.623047\" xlink:href=\"#DejaVuSans-48\"/>\n       <use x=\"127.246094\" xlink:href=\"#DejaVuSans-48\"/>\n      </g>\n     </g>\n    </g>\n    <g id=\"ytick_15\">\n     <g id=\"line2d_37\">\n      <g>\n       <use style=\"stroke:#000000;stroke-width:0.8;\" x=\"34.56\" xlink:href=\"#m66ad1c31f7\" y=\"312.105158\"/>\n      </g>\n     </g>\n     <g id=\"text_39\">\n      <!-- 800 -->\n      <g transform=\"translate(12.29 315.144533)scale(0.08 -0.08)\">\n       <use xlink:href=\"#DejaVuSans-56\"/>\n       <use x=\"63.623047\" xlink:href=\"#DejaVuSans-48\"/>\n       <use x=\"127.246094\" xlink:href=\"#DejaVuSans-48\"/>\n      </g>\n     </g>\n    </g>\n    <g id=\"ytick_16\">\n     <g id=\"line2d_38\">\n      <g>\n       <use style=\"stroke:#000000;stroke-width:0.8;\" x=\"34.56\" xlink:href=\"#m66ad1c31f7\" y=\"287.031447\"/>\n      </g>\n     </g>\n     <g id=\"text_40\">\n      <!-- 1000 -->\n      <g transform=\"translate(7.2 290.070822)scale(0.08 -0.08)\">\n       <use xlink:href=\"#DejaVuSans-49\"/>\n       <use x=\"63.623047\" xlink:href=\"#DejaVuSans-48\"/>\n       <use x=\"127.246094\" xlink:href=\"#DejaVuSans-48\"/>\n       <use x=\"190.869141\" xlink:href=\"#DejaVuSans-48\"/>\n      </g>\n     </g>\n    </g>\n    <g id=\"ytick_17\">\n     <g id=\"line2d_39\">\n      <g>\n       <use style=\"stroke:#000000;stroke-width:0.8;\" x=\"34.56\" xlink:href=\"#m66ad1c31f7\" y=\"261.957737\"/>\n      </g>\n     </g>\n     <g id=\"text_41\">\n      <!-- 1200 -->\n      <g transform=\"translate(7.2 264.997112)scale(0.08 -0.08)\">\n       <use xlink:href=\"#DejaVuSans-49\"/>\n       <use x=\"63.623047\" xlink:href=\"#DejaVuSans-50\"/>\n       <use x=\"127.246094\" xlink:href=\"#DejaVuSans-48\"/>\n       <use x=\"190.869141\" xlink:href=\"#DejaVuSans-48\"/>\n      </g>\n     </g>\n    </g>\n   </g>\n   <g id=\"patch_133\">\n    <path d=\"M 34.56 412.4 \nL 34.56 257.2 \n\" style=\"fill:none;stroke:#000000;stroke-linecap:square;stroke-linejoin:miter;stroke-width:0.8;\"/>\n   </g>\n   <g id=\"patch_134\">\n    <path d=\"M 852.213851 412.4 \nL 852.213851 257.2 \n\" style=\"fill:none;stroke:#000000;stroke-linecap:square;stroke-linejoin:miter;stroke-width:0.8;\"/>\n   </g>\n   <g id=\"patch_135\">\n    <path d=\"M 34.56 412.4 \nL 852.213851 412.4 \n\" style=\"fill:none;stroke:#000000;stroke-linecap:square;stroke-linejoin:miter;stroke-width:0.8;\"/>\n   </g>\n   <g id=\"patch_136\">\n    <path d=\"M 34.56 257.2 \nL 852.213851 257.2 \n\" style=\"fill:none;stroke:#000000;stroke-linecap:square;stroke-linejoin:miter;stroke-width:0.8;\"/>\n   </g>\n   <g id=\"text_42\">\n    <!-- Num Verbs -->\n    <g transform=\"translate(410.611926 251.2)scale(0.12 -0.12)\">\n     <defs>\n      <path d=\"M 9.8125 72.90625 \nL 23.09375 72.90625 \nL 55.421875 11.921875 \nL 55.421875 72.90625 \nL 64.984375 72.90625 \nL 64.984375 0 \nL 51.703125 0 \nL 19.390625 60.984375 \nL 19.390625 0 \nL 9.8125 0 \nz\n\" id=\"DejaVuSans-78\"/>\n      <path d=\"M 8.5 21.578125 \nL 8.5 54.6875 \nL 17.484375 54.6875 \nL 17.484375 21.921875 \nQ 17.484375 14.15625 20.5 10.265625 \nQ 23.53125 6.390625 29.59375 6.390625 \nQ 36.859375 6.390625 41.078125 11.03125 \nQ 45.3125 15.671875 45.3125 23.6875 \nL 45.3125 54.6875 \nL 54.296875 54.6875 \nL 54.296875 0 \nL 45.3125 0 \nL 45.3125 8.40625 \nQ 42.046875 3.421875 37.71875 1 \nQ 33.40625 -1.421875 27.6875 -1.421875 \nQ 18.265625 -1.421875 13.375 4.4375 \nQ 8.5 10.296875 8.5 21.578125 \nz\nM 31.109375 56 \nz\n\" id=\"DejaVuSans-117\"/>\n      <path d=\"M 52 44.1875 \nQ 55.375 50.25 60.0625 53.125 \nQ 64.75 56 71.09375 56 \nQ 79.640625 56 84.28125 50.015625 \nQ 88.921875 44.046875 88.921875 33.015625 \nL 88.921875 0 \nL 79.890625 0 \nL 79.890625 32.71875 \nQ 79.890625 40.578125 77.09375 44.375 \nQ 74.3125 48.1875 68.609375 48.1875 \nQ 61.625 48.1875 57.5625 43.546875 \nQ 53.515625 38.921875 53.515625 30.90625 \nL 53.515625 0 \nL 44.484375 0 \nL 44.484375 32.71875 \nQ 44.484375 40.625 41.703125 44.40625 \nQ 38.921875 48.1875 33.109375 48.1875 \nQ 26.21875 48.1875 22.15625 43.53125 \nQ 18.109375 38.875 18.109375 30.90625 \nL 18.109375 0 \nL 9.078125 0 \nL 9.078125 54.6875 \nL 18.109375 54.6875 \nL 18.109375 46.1875 \nQ 21.1875 51.21875 25.484375 53.609375 \nQ 29.78125 56 35.6875 56 \nQ 41.65625 56 45.828125 52.96875 \nQ 50 49.953125 52 44.1875 \nz\n\" id=\"DejaVuSans-109\"/>\n      <path d=\"M 28.609375 0 \nL 0.78125 72.90625 \nL 11.078125 72.90625 \nL 34.1875 11.53125 \nL 57.328125 72.90625 \nL 67.578125 72.90625 \nL 39.796875 0 \nz\n\" id=\"DejaVuSans-86\"/>\n      <path d=\"M 48.6875 27.296875 \nQ 48.6875 37.203125 44.609375 42.84375 \nQ 40.53125 48.484375 33.40625 48.484375 \nQ 26.265625 48.484375 22.1875 42.84375 \nQ 18.109375 37.203125 18.109375 27.296875 \nQ 18.109375 17.390625 22.1875 11.75 \nQ 26.265625 6.109375 33.40625 6.109375 \nQ 40.53125 6.109375 44.609375 11.75 \nQ 48.6875 17.390625 48.6875 27.296875 \nz\nM 18.109375 46.390625 \nQ 20.953125 51.265625 25.265625 53.625 \nQ 29.59375 56 35.59375 56 \nQ 45.5625 56 51.78125 48.09375 \nQ 58.015625 40.1875 58.015625 27.296875 \nQ 58.015625 14.40625 51.78125 6.484375 \nQ 45.5625 -1.421875 35.59375 -1.421875 \nQ 29.59375 -1.421875 25.265625 0.953125 \nQ 20.953125 3.328125 18.109375 8.203125 \nL 18.109375 0 \nL 9.078125 0 \nL 9.078125 75.984375 \nL 18.109375 75.984375 \nz\n\" id=\"DejaVuSans-98\"/>\n      <path d=\"M 44.28125 53.078125 \nL 44.28125 44.578125 \nQ 40.484375 46.53125 36.375 47.5 \nQ 32.28125 48.484375 27.875 48.484375 \nQ 21.1875 48.484375 17.84375 46.4375 \nQ 14.5 44.390625 14.5 40.28125 \nQ 14.5 37.15625 16.890625 35.375 \nQ 19.28125 33.59375 26.515625 31.984375 \nL 29.59375 31.296875 \nQ 39.15625 29.25 43.1875 25.515625 \nQ 47.21875 21.78125 47.21875 15.09375 \nQ 47.21875 7.46875 41.1875 3.015625 \nQ 35.15625 -1.421875 24.609375 -1.421875 \nQ 20.21875 -1.421875 15.453125 -0.5625 \nQ 10.6875 0.296875 5.421875 2 \nL 5.421875 11.28125 \nQ 10.40625 8.6875 15.234375 7.390625 \nQ 20.0625 6.109375 24.8125 6.109375 \nQ 31.15625 6.109375 34.5625 8.28125 \nQ 37.984375 10.453125 37.984375 14.40625 \nQ 37.984375 18.0625 35.515625 20.015625 \nQ 33.0625 21.96875 24.703125 23.78125 \nL 21.578125 24.515625 \nQ 13.234375 26.265625 9.515625 29.90625 \nQ 5.8125 33.546875 5.8125 39.890625 \nQ 5.8125 47.609375 11.28125 51.796875 \nQ 16.75 56 26.8125 56 \nQ 31.78125 56 36.171875 55.265625 \nQ 40.578125 54.546875 44.28125 53.078125 \nz\n\" id=\"DejaVuSans-115\"/>\n     </defs>\n     <use xlink:href=\"#DejaVuSans-78\"/>\n     <use x=\"74.804688\" xlink:href=\"#DejaVuSans-117\"/>\n     <use x=\"138.183594\" xlink:href=\"#DejaVuSans-109\"/>\n     <use x=\"235.595703\" xlink:href=\"#DejaVuSans-32\"/>\n     <use x=\"267.382812\" xlink:href=\"#DejaVuSans-86\"/>\n     <use x=\"328.041016\" xlink:href=\"#DejaVuSans-101\"/>\n     <use x=\"389.564453\" xlink:href=\"#DejaVuSans-114\"/>\n     <use x=\"430.677734\" xlink:href=\"#DejaVuSans-98\"/>\n     <use x=\"494.154297\" xlink:href=\"#DejaVuSans-115\"/>\n    </g>\n   </g>\n  </g>\n  <g id=\"axes_4\">\n   <g id=\"patch_137\">\n    <path d=\"M 896.306149 412.4 \nL 1713.96 412.4 \nL 1713.96 257.2 \nL 896.306149 257.2 \nz\n\" style=\"fill:#ffffff;\"/>\n   </g>\n   <g id=\"patch_138\">\n    <path clip-path=\"url(#p353a1847d6)\" d=\"M 933.472233 412.4 \nL 952.055275 412.4 \nL 952.055275 264.590476 \nL 933.472233 264.590476 \nz\n\" style=\"fill:#ff0000;stroke:#0000ff;stroke-linejoin:miter;\"/>\n   </g>\n   <g id=\"patch_139\">\n    <path clip-path=\"url(#p353a1847d6)\" d=\"M 952.055275 412.4 \nL 970.638317 412.4 \nL 970.638317 377.125886 \nL 952.055275 377.125886 \nz\n\" style=\"fill:#ff0000;stroke:#0000ff;stroke-linejoin:miter;\"/>\n   </g>\n   <g id=\"patch_140\">\n    <path clip-path=\"url(#p353a1847d6)\" d=\"M 970.638317 412.4 \nL 989.221359 412.4 \nL 989.221359 377.492053 \nL 970.638317 377.492053 \nz\n\" style=\"fill:#ff0000;stroke:#0000ff;stroke-linejoin:miter;\"/>\n   </g>\n   <g id=\"patch_141\">\n    <path clip-path=\"url(#p353a1847d6)\" d=\"M 989.221359 412.4 \nL 1007.804401 412.4 \nL 1007.804401 404.954599 \nL 989.221359 404.954599 \nz\n\" style=\"fill:#ff0000;stroke:#0000ff;stroke-linejoin:miter;\"/>\n   </g>\n   <g id=\"patch_142\">\n    <path clip-path=\"url(#p353a1847d6)\" d=\"M 1007.804401 412.4 \nL 1026.387443 412.4 \nL 1026.387443 405.686933 \nL 1007.804401 405.686933 \nz\n\" style=\"fill:#ff0000;stroke:#0000ff;stroke-linejoin:miter;\"/>\n   </g>\n   <g id=\"patch_143\">\n    <path clip-path=\"url(#p353a1847d6)\" d=\"M 1026.387443 412.4 \nL 1044.970485 412.4 \nL 1044.970485 411.54561 \nL 1026.387443 411.54561 \nz\n\" style=\"fill:#ff0000;stroke:#0000ff;stroke-linejoin:miter;\"/>\n   </g>\n   <g id=\"patch_144\">\n    <path clip-path=\"url(#p353a1847d6)\" d=\"M 1044.970485 412.4 \nL 1063.553527 412.4 \nL 1063.553527 410.325052 \nL 1044.970485 410.325052 \nz\n\" style=\"fill:#ff0000;stroke:#0000ff;stroke-linejoin:miter;\"/>\n   </g>\n   <g id=\"patch_145\">\n    <path clip-path=\"url(#p353a1847d6)\" d=\"M 1063.553527 412.4 \nL 1082.136569 412.4 \nL 1082.136569 411.789721 \nL 1063.553527 411.789721 \nz\n\" style=\"fill:#ff0000;stroke:#0000ff;stroke-linejoin:miter;\"/>\n   </g>\n   <g id=\"patch_146\">\n    <path clip-path=\"url(#p353a1847d6)\" d=\"M 1082.136569 412.4 \nL 1100.719612 412.4 \nL 1100.719612 410.935331 \nL 1082.136569 410.935331 \nz\n\" style=\"fill:#ff0000;stroke:#0000ff;stroke-linejoin:miter;\"/>\n   </g>\n   <g id=\"patch_147\">\n    <path clip-path=\"url(#p353a1847d6)\" d=\"M 1100.719612 412.4 \nL 1119.302654 412.4 \nL 1119.302654 412.155888 \nL 1100.719612 412.155888 \nz\n\" style=\"fill:#ff0000;stroke:#0000ff;stroke-linejoin:miter;\"/>\n   </g>\n   <g id=\"patch_148\">\n    <path clip-path=\"url(#p353a1847d6)\" d=\"M 1119.302654 412.4 \nL 1137.885696 412.4 \nL 1137.885696 411.911777 \nL 1119.302654 411.911777 \nz\n\" style=\"fill:#ff0000;stroke:#0000ff;stroke-linejoin:miter;\"/>\n   </g>\n   <g id=\"patch_149\">\n    <path clip-path=\"url(#p353a1847d6)\" d=\"M 1137.885696 412.4 \nL 1156.468738 412.4 \nL 1156.468738 412.033833 \nL 1137.885696 412.033833 \nz\n\" style=\"fill:#ff0000;stroke:#0000ff;stroke-linejoin:miter;\"/>\n   </g>\n   <g id=\"patch_150\">\n    <path clip-path=\"url(#p353a1847d6)\" d=\"M 1156.468738 412.4 \nL 1175.05178 412.4 \nL 1175.05178 412.155888 \nL 1156.468738 412.155888 \nz\n\" style=\"fill:#ff0000;stroke:#0000ff;stroke-linejoin:miter;\"/>\n   </g>\n   <g id=\"patch_151\">\n    <path clip-path=\"url(#p353a1847d6)\" d=\"M 1175.05178 412.4 \nL 1193.634822 412.4 \nL 1193.634822 412.155888 \nL 1175.05178 412.155888 \nz\n\" style=\"fill:#ff0000;stroke:#0000ff;stroke-linejoin:miter;\"/>\n   </g>\n   <g id=\"patch_152\">\n    <path clip-path=\"url(#p353a1847d6)\" d=\"M 1193.634822 412.4 \nL 1212.217864 412.4 \nL 1212.217864 412.4 \nL 1193.634822 412.4 \nz\n\" style=\"fill:#ff0000;stroke:#0000ff;stroke-linejoin:miter;\"/>\n   </g>\n   <g id=\"patch_153\">\n    <path clip-path=\"url(#p353a1847d6)\" d=\"M 1212.217864 412.4 \nL 1230.800906 412.4 \nL 1230.800906 412.155888 \nL 1212.217864 412.155888 \nz\n\" style=\"fill:#ff0000;stroke:#0000ff;stroke-linejoin:miter;\"/>\n   </g>\n   <g id=\"patch_154\">\n    <path clip-path=\"url(#p353a1847d6)\" d=\"M 1230.800906 412.4 \nL 1249.383948 412.4 \nL 1249.383948 412.4 \nL 1230.800906 412.4 \nz\n\" style=\"fill:#ff0000;stroke:#0000ff;stroke-linejoin:miter;\"/>\n   </g>\n   <g id=\"patch_155\">\n    <path clip-path=\"url(#p353a1847d6)\" d=\"M 1249.383948 412.4 \nL 1267.96699 412.4 \nL 1267.96699 412.4 \nL 1249.383948 412.4 \nz\n\" style=\"fill:#ff0000;stroke:#0000ff;stroke-linejoin:miter;\"/>\n   </g>\n   <g id=\"patch_156\">\n    <path clip-path=\"url(#p353a1847d6)\" d=\"M 1267.96699 412.4 \nL 1286.550032 412.4 \nL 1286.550032 412.4 \nL 1267.96699 412.4 \nz\n\" style=\"fill:#ff0000;stroke:#0000ff;stroke-linejoin:miter;\"/>\n   </g>\n   <g id=\"patch_157\">\n    <path clip-path=\"url(#p353a1847d6)\" d=\"M 1286.550032 412.4 \nL 1305.133074 412.4 \nL 1305.133074 412.277944 \nL 1286.550032 412.277944 \nz\n\" style=\"fill:#ff0000;stroke:#0000ff;stroke-linejoin:miter;\"/>\n   </g>\n   <g id=\"patch_158\">\n    <path clip-path=\"url(#p353a1847d6)\" d=\"M 1305.133074 412.4 \nL 1323.716116 412.4 \nL 1323.716116 412.4 \nL 1305.133074 412.4 \nz\n\" style=\"fill:#ff0000;stroke:#0000ff;stroke-linejoin:miter;\"/>\n   </g>\n   <g id=\"patch_159\">\n    <path clip-path=\"url(#p353a1847d6)\" d=\"M 1323.716116 412.4 \nL 1342.299159 412.4 \nL 1342.299159 412.277944 \nL 1323.716116 412.277944 \nz\n\" style=\"fill:#ff0000;stroke:#0000ff;stroke-linejoin:miter;\"/>\n   </g>\n   <g id=\"patch_160\">\n    <path clip-path=\"url(#p353a1847d6)\" d=\"M 1342.299159 412.4 \nL 1360.882201 412.4 \nL 1360.882201 412.277944 \nL 1342.299159 412.277944 \nz\n\" style=\"fill:#ff0000;stroke:#0000ff;stroke-linejoin:miter;\"/>\n   </g>\n   <g id=\"patch_161\">\n    <path clip-path=\"url(#p353a1847d6)\" d=\"M 1360.882201 412.4 \nL 1379.465243 412.4 \nL 1379.465243 412.4 \nL 1360.882201 412.4 \nz\n\" style=\"fill:#ff0000;stroke:#0000ff;stroke-linejoin:miter;\"/>\n   </g>\n   <g id=\"patch_162\">\n    <path clip-path=\"url(#p353a1847d6)\" d=\"M 1379.465243 412.4 \nL 1398.048285 412.4 \nL 1398.048285 412.4 \nL 1379.465243 412.4 \nz\n\" style=\"fill:#ff0000;stroke:#0000ff;stroke-linejoin:miter;\"/>\n   </g>\n   <g id=\"patch_163\">\n    <path clip-path=\"url(#p353a1847d6)\" d=\"M 1398.048285 412.4 \nL 1416.631327 412.4 \nL 1416.631327 412.4 \nL 1398.048285 412.4 \nz\n\" style=\"fill:#ff0000;stroke:#0000ff;stroke-linejoin:miter;\"/>\n   </g>\n   <g id=\"patch_164\">\n    <path clip-path=\"url(#p353a1847d6)\" d=\"M 1416.631327 412.4 \nL 1435.214369 412.4 \nL 1435.214369 412.277944 \nL 1416.631327 412.277944 \nz\n\" style=\"fill:#ff0000;stroke:#0000ff;stroke-linejoin:miter;\"/>\n   </g>\n   <g id=\"patch_165\">\n    <path clip-path=\"url(#p353a1847d6)\" d=\"M 1435.214369 412.4 \nL 1453.797411 412.4 \nL 1453.797411 412.4 \nL 1435.214369 412.4 \nz\n\" style=\"fill:#ff0000;stroke:#0000ff;stroke-linejoin:miter;\"/>\n   </g>\n   <g id=\"patch_166\">\n    <path clip-path=\"url(#p353a1847d6)\" d=\"M 1453.797411 412.4 \nL 1472.380453 412.4 \nL 1472.380453 412.4 \nL 1453.797411 412.4 \nz\n\" style=\"fill:#ff0000;stroke:#0000ff;stroke-linejoin:miter;\"/>\n   </g>\n   <g id=\"patch_167\">\n    <path clip-path=\"url(#p353a1847d6)\" d=\"M 1472.380453 412.4 \nL 1490.963495 412.4 \nL 1490.963495 412.4 \nL 1472.380453 412.4 \nz\n\" style=\"fill:#ff0000;stroke:#0000ff;stroke-linejoin:miter;\"/>\n   </g>\n   <g id=\"patch_168\">\n    <path clip-path=\"url(#p353a1847d6)\" d=\"M 1490.963495 412.4 \nL 1509.546537 412.4 \nL 1509.546537 412.4 \nL 1490.963495 412.4 \nz\n\" style=\"fill:#ff0000;stroke:#0000ff;stroke-linejoin:miter;\"/>\n   </g>\n   <g id=\"patch_169\">\n    <path clip-path=\"url(#p353a1847d6)\" d=\"M 1509.546537 412.4 \nL 1528.129579 412.4 \nL 1528.129579 412.4 \nL 1509.546537 412.4 \nz\n\" style=\"fill:#ff0000;stroke:#0000ff;stroke-linejoin:miter;\"/>\n   </g>\n   <g id=\"patch_170\">\n    <path clip-path=\"url(#p353a1847d6)\" d=\"M 1528.129579 412.4 \nL 1546.712621 412.4 \nL 1546.712621 412.4 \nL 1528.129579 412.4 \nz\n\" style=\"fill:#ff0000;stroke:#0000ff;stroke-linejoin:miter;\"/>\n   </g>\n   <g id=\"patch_171\">\n    <path clip-path=\"url(#p353a1847d6)\" d=\"M 1546.712621 412.4 \nL 1565.295663 412.4 \nL 1565.295663 412.4 \nL 1546.712621 412.4 \nz\n\" style=\"fill:#ff0000;stroke:#0000ff;stroke-linejoin:miter;\"/>\n   </g>\n   <g id=\"patch_172\">\n    <path clip-path=\"url(#p353a1847d6)\" d=\"M 1565.295663 412.4 \nL 1583.878705 412.4 \nL 1583.878705 412.4 \nL 1565.295663 412.4 \nz\n\" style=\"fill:#ff0000;stroke:#0000ff;stroke-linejoin:miter;\"/>\n   </g>\n   <g id=\"patch_173\">\n    <path clip-path=\"url(#p353a1847d6)\" d=\"M 1583.878705 412.4 \nL 1602.461748 412.4 \nL 1602.461748 412.4 \nL 1583.878705 412.4 \nz\n\" style=\"fill:#ff0000;stroke:#0000ff;stroke-linejoin:miter;\"/>\n   </g>\n   <g id=\"patch_174\">\n    <path clip-path=\"url(#p353a1847d6)\" d=\"M 1602.461748 412.4 \nL 1621.04479 412.4 \nL 1621.04479 412.4 \nL 1602.461748 412.4 \nz\n\" style=\"fill:#ff0000;stroke:#0000ff;stroke-linejoin:miter;\"/>\n   </g>\n   <g id=\"patch_175\">\n    <path clip-path=\"url(#p353a1847d6)\" d=\"M 1621.04479 412.4 \nL 1639.627832 412.4 \nL 1639.627832 412.4 \nL 1621.04479 412.4 \nz\n\" style=\"fill:#ff0000;stroke:#0000ff;stroke-linejoin:miter;\"/>\n   </g>\n   <g id=\"patch_176\">\n    <path clip-path=\"url(#p353a1847d6)\" d=\"M 1639.627832 412.4 \nL 1658.210874 412.4 \nL 1658.210874 412.4 \nL 1639.627832 412.4 \nz\n\" style=\"fill:#ff0000;stroke:#0000ff;stroke-linejoin:miter;\"/>\n   </g>\n   <g id=\"patch_177\">\n    <path clip-path=\"url(#p353a1847d6)\" d=\"M 1658.210874 412.4 \nL 1676.793916 412.4 \nL 1676.793916 412.277944 \nL 1658.210874 412.277944 \nz\n\" style=\"fill:#ff0000;stroke:#0000ff;stroke-linejoin:miter;\"/>\n   </g>\n   <g id=\"matplotlib.axis_7\">\n    <g id=\"xtick_23\">\n     <g id=\"line2d_40\">\n      <g>\n       <use style=\"stroke:#000000;stroke-width:0.8;\" x=\"933.472233\" xlink:href=\"#mee462b4022\" y=\"412.4\"/>\n      </g>\n     </g>\n     <g id=\"text_43\">\n      <!-- 0 -->\n      <g transform=\"translate(930.927233 425.47875)scale(0.08 -0.08)\">\n       <use xlink:href=\"#DejaVuSans-48\"/>\n      </g>\n     </g>\n    </g>\n    <g id=\"xtick_24\">\n     <g id=\"line2d_41\">\n      <g>\n       <use style=\"stroke:#000000;stroke-width:0.8;\" x=\"1061.631144\" xlink:href=\"#mee462b4022\" y=\"412.4\"/>\n      </g>\n     </g>\n     <g id=\"text_44\">\n      <!-- 10 -->\n      <g transform=\"translate(1056.541144 425.47875)scale(0.08 -0.08)\">\n       <use xlink:href=\"#DejaVuSans-49\"/>\n       <use x=\"63.623047\" xlink:href=\"#DejaVuSans-48\"/>\n      </g>\n     </g>\n    </g>\n    <g id=\"xtick_25\">\n     <g id=\"line2d_42\">\n      <g>\n       <use style=\"stroke:#000000;stroke-width:0.8;\" x=\"1189.790055\" xlink:href=\"#mee462b4022\" y=\"412.4\"/>\n      </g>\n     </g>\n     <g id=\"text_45\">\n      <!-- 20 -->\n      <g transform=\"translate(1184.700055 425.47875)scale(0.08 -0.08)\">\n       <use xlink:href=\"#DejaVuSans-50\"/>\n       <use x=\"63.623047\" xlink:href=\"#DejaVuSans-48\"/>\n      </g>\n     </g>\n    </g>\n    <g id=\"xtick_26\">\n     <g id=\"line2d_43\">\n      <g>\n       <use style=\"stroke:#000000;stroke-width:0.8;\" x=\"1317.948965\" xlink:href=\"#mee462b4022\" y=\"412.4\"/>\n      </g>\n     </g>\n     <g id=\"text_46\">\n      <!-- 30 -->\n      <g transform=\"translate(1312.858965 425.47875)scale(0.08 -0.08)\">\n       <defs>\n        <path d=\"M 40.578125 39.3125 \nQ 47.65625 37.796875 51.625 33 \nQ 55.609375 28.21875 55.609375 21.1875 \nQ 55.609375 10.40625 48.1875 4.484375 \nQ 40.765625 -1.421875 27.09375 -1.421875 \nQ 22.515625 -1.421875 17.65625 -0.515625 \nQ 12.796875 0.390625 7.625 2.203125 \nL 7.625 11.71875 \nQ 11.71875 9.328125 16.59375 8.109375 \nQ 21.484375 6.890625 26.8125 6.890625 \nQ 36.078125 6.890625 40.9375 10.546875 \nQ 45.796875 14.203125 45.796875 21.1875 \nQ 45.796875 27.640625 41.28125 31.265625 \nQ 36.765625 34.90625 28.71875 34.90625 \nL 20.21875 34.90625 \nL 20.21875 43.015625 \nL 29.109375 43.015625 \nQ 36.375 43.015625 40.234375 45.921875 \nQ 44.09375 48.828125 44.09375 54.296875 \nQ 44.09375 59.90625 40.109375 62.90625 \nQ 36.140625 65.921875 28.71875 65.921875 \nQ 24.65625 65.921875 20.015625 65.03125 \nQ 15.375 64.15625 9.8125 62.3125 \nL 9.8125 71.09375 \nQ 15.4375 72.65625 20.34375 73.4375 \nQ 25.25 74.21875 29.59375 74.21875 \nQ 40.828125 74.21875 47.359375 69.109375 \nQ 53.90625 64.015625 53.90625 55.328125 \nQ 53.90625 49.265625 50.4375 45.09375 \nQ 46.96875 40.921875 40.578125 39.3125 \nz\n\" id=\"DejaVuSans-51\"/>\n       </defs>\n       <use xlink:href=\"#DejaVuSans-51\"/>\n       <use x=\"63.623047\" xlink:href=\"#DejaVuSans-48\"/>\n      </g>\n     </g>\n    </g>\n    <g id=\"xtick_27\">\n     <g id=\"line2d_44\">\n      <g>\n       <use style=\"stroke:#000000;stroke-width:0.8;\" x=\"1446.107876\" xlink:href=\"#mee462b4022\" y=\"412.4\"/>\n      </g>\n     </g>\n     <g id=\"text_47\">\n      <!-- 40 -->\n      <g transform=\"translate(1441.017876 425.47875)scale(0.08 -0.08)\">\n       <use xlink:href=\"#DejaVuSans-52\"/>\n       <use x=\"63.623047\" xlink:href=\"#DejaVuSans-48\"/>\n      </g>\n     </g>\n    </g>\n    <g id=\"xtick_28\">\n     <g id=\"line2d_45\">\n      <g>\n       <use style=\"stroke:#000000;stroke-width:0.8;\" x=\"1574.266787\" xlink:href=\"#mee462b4022\" y=\"412.4\"/>\n      </g>\n     </g>\n     <g id=\"text_48\">\n      <!-- 50 -->\n      <g transform=\"translate(1569.176787 425.47875)scale(0.08 -0.08)\">\n       <use xlink:href=\"#DejaVuSans-53\"/>\n       <use x=\"63.623047\" xlink:href=\"#DejaVuSans-48\"/>\n      </g>\n     </g>\n    </g>\n    <g id=\"xtick_29\">\n     <g id=\"line2d_46\">\n      <g>\n       <use style=\"stroke:#000000;stroke-width:0.8;\" x=\"1702.425698\" xlink:href=\"#mee462b4022\" y=\"412.4\"/>\n      </g>\n     </g>\n     <g id=\"text_49\">\n      <!-- 60 -->\n      <g transform=\"translate(1697.335698 425.47875)scale(0.08 -0.08)\">\n       <use xlink:href=\"#DejaVuSans-54\"/>\n       <use x=\"63.623047\" xlink:href=\"#DejaVuSans-48\"/>\n      </g>\n     </g>\n    </g>\n   </g>\n   <g id=\"matplotlib.axis_8\">\n    <g id=\"ytick_18\">\n     <g id=\"line2d_47\">\n      <g>\n       <use style=\"stroke:#000000;stroke-width:0.8;\" x=\"896.306149\" xlink:href=\"#m66ad1c31f7\" y=\"412.4\"/>\n      </g>\n     </g>\n     <g id=\"text_50\">\n      <!-- 0 -->\n      <g transform=\"translate(884.216149 415.439375)scale(0.08 -0.08)\">\n       <use xlink:href=\"#DejaVuSans-48\"/>\n      </g>\n     </g>\n    </g>\n    <g id=\"ytick_19\">\n     <g id=\"line2d_48\">\n      <g>\n       <use style=\"stroke:#000000;stroke-width:0.8;\" x=\"896.306149\" xlink:href=\"#m66ad1c31f7\" y=\"387.988848\"/>\n      </g>\n     </g>\n     <g id=\"text_51\">\n      <!-- 200 -->\n      <g transform=\"translate(874.036149 391.028223)scale(0.08 -0.08)\">\n       <use xlink:href=\"#DejaVuSans-50\"/>\n       <use x=\"63.623047\" xlink:href=\"#DejaVuSans-48\"/>\n       <use x=\"127.246094\" xlink:href=\"#DejaVuSans-48\"/>\n      </g>\n     </g>\n    </g>\n    <g id=\"ytick_20\">\n     <g id=\"line2d_49\">\n      <g>\n       <use style=\"stroke:#000000;stroke-width:0.8;\" x=\"896.306149\" xlink:href=\"#m66ad1c31f7\" y=\"363.577697\"/>\n      </g>\n     </g>\n     <g id=\"text_52\">\n      <!-- 400 -->\n      <g transform=\"translate(874.036149 366.617072)scale(0.08 -0.08)\">\n       <use xlink:href=\"#DejaVuSans-52\"/>\n       <use x=\"63.623047\" xlink:href=\"#DejaVuSans-48\"/>\n       <use x=\"127.246094\" xlink:href=\"#DejaVuSans-48\"/>\n      </g>\n     </g>\n    </g>\n    <g id=\"ytick_21\">\n     <g id=\"line2d_50\">\n      <g>\n       <use style=\"stroke:#000000;stroke-width:0.8;\" x=\"896.306149\" xlink:href=\"#m66ad1c31f7\" y=\"339.166545\"/>\n      </g>\n     </g>\n     <g id=\"text_53\">\n      <!-- 600 -->\n      <g transform=\"translate(874.036149 342.20592)scale(0.08 -0.08)\">\n       <use xlink:href=\"#DejaVuSans-54\"/>\n       <use x=\"63.623047\" xlink:href=\"#DejaVuSans-48\"/>\n       <use x=\"127.246094\" xlink:href=\"#DejaVuSans-48\"/>\n      </g>\n     </g>\n    </g>\n    <g id=\"ytick_22\">\n     <g id=\"line2d_51\">\n      <g>\n       <use style=\"stroke:#000000;stroke-width:0.8;\" x=\"896.306149\" xlink:href=\"#m66ad1c31f7\" y=\"314.755393\"/>\n      </g>\n     </g>\n     <g id=\"text_54\">\n      <!-- 800 -->\n      <g transform=\"translate(874.036149 317.794768)scale(0.08 -0.08)\">\n       <use xlink:href=\"#DejaVuSans-56\"/>\n       <use x=\"63.623047\" xlink:href=\"#DejaVuSans-48\"/>\n       <use x=\"127.246094\" xlink:href=\"#DejaVuSans-48\"/>\n      </g>\n     </g>\n    </g>\n    <g id=\"ytick_23\">\n     <g id=\"line2d_52\">\n      <g>\n       <use style=\"stroke:#000000;stroke-width:0.8;\" x=\"896.306149\" xlink:href=\"#m66ad1c31f7\" y=\"290.344241\"/>\n      </g>\n     </g>\n     <g id=\"text_55\">\n      <!-- 1000 -->\n      <g transform=\"translate(868.946149 293.383616)scale(0.08 -0.08)\">\n       <use xlink:href=\"#DejaVuSans-49\"/>\n       <use x=\"63.623047\" xlink:href=\"#DejaVuSans-48\"/>\n       <use x=\"127.246094\" xlink:href=\"#DejaVuSans-48\"/>\n       <use x=\"190.869141\" xlink:href=\"#DejaVuSans-48\"/>\n      </g>\n     </g>\n    </g>\n    <g id=\"ytick_24\">\n     <g id=\"line2d_53\">\n      <g>\n       <use style=\"stroke:#000000;stroke-width:0.8;\" x=\"896.306149\" xlink:href=\"#m66ad1c31f7\" y=\"265.93309\"/>\n      </g>\n     </g>\n     <g id=\"text_56\">\n      <!-- 1200 -->\n      <g transform=\"translate(868.946149 268.972465)scale(0.08 -0.08)\">\n       <use xlink:href=\"#DejaVuSans-49\"/>\n       <use x=\"63.623047\" xlink:href=\"#DejaVuSans-50\"/>\n       <use x=\"127.246094\" xlink:href=\"#DejaVuSans-48\"/>\n       <use x=\"190.869141\" xlink:href=\"#DejaVuSans-48\"/>\n      </g>\n     </g>\n    </g>\n   </g>\n   <g id=\"patch_178\">\n    <path d=\"M 896.306149 412.4 \nL 896.306149 257.2 \n\" style=\"fill:none;stroke:#000000;stroke-linecap:square;stroke-linejoin:miter;stroke-width:0.8;\"/>\n   </g>\n   <g id=\"patch_179\">\n    <path d=\"M 1713.96 412.4 \nL 1713.96 257.2 \n\" style=\"fill:none;stroke:#000000;stroke-linecap:square;stroke-linejoin:miter;stroke-width:0.8;\"/>\n   </g>\n   <g id=\"patch_180\">\n    <path d=\"M 896.306149 412.4 \nL 1713.96 412.4 \n\" style=\"fill:none;stroke:#000000;stroke-linecap:square;stroke-linejoin:miter;stroke-width:0.8;\"/>\n   </g>\n   <g id=\"patch_181\">\n    <path d=\"M 896.306149 257.2 \nL 1713.96 257.2 \n\" style=\"fill:none;stroke:#000000;stroke-linecap:square;stroke-linejoin:miter;stroke-width:0.8;\"/>\n   </g>\n   <g id=\"text_57\">\n    <!-- Num Discourse Relations -->\n    <g transform=\"translate(1230.161199 251.2)scale(0.12 -0.12)\">\n     <defs>\n      <path d=\"M 19.671875 64.796875 \nL 19.671875 8.109375 \nL 31.59375 8.109375 \nQ 46.6875 8.109375 53.6875 14.9375 \nQ 60.6875 21.78125 60.6875 36.53125 \nQ 60.6875 51.171875 53.6875 57.984375 \nQ 46.6875 64.796875 31.59375 64.796875 \nz\nM 9.8125 72.90625 \nL 30.078125 72.90625 \nQ 51.265625 72.90625 61.171875 64.09375 \nQ 71.09375 55.28125 71.09375 36.53125 \nQ 71.09375 17.671875 61.125 8.828125 \nQ 51.171875 0 30.078125 0 \nL 9.8125 0 \nz\n\" id=\"DejaVuSans-68\"/>\n      <path d=\"M 48.78125 52.59375 \nL 48.78125 44.1875 \nQ 44.96875 46.296875 41.140625 47.34375 \nQ 37.3125 48.390625 33.40625 48.390625 \nQ 24.65625 48.390625 19.8125 42.84375 \nQ 14.984375 37.3125 14.984375 27.296875 \nQ 14.984375 17.28125 19.8125 11.734375 \nQ 24.65625 6.203125 33.40625 6.203125 \nQ 37.3125 6.203125 41.140625 7.25 \nQ 44.96875 8.296875 48.78125 10.40625 \nL 48.78125 2.09375 \nQ 45.015625 0.34375 40.984375 -0.53125 \nQ 36.96875 -1.421875 32.421875 -1.421875 \nQ 20.0625 -1.421875 12.78125 6.34375 \nQ 5.515625 14.109375 5.515625 27.296875 \nQ 5.515625 40.671875 12.859375 48.328125 \nQ 20.21875 56 33.015625 56 \nQ 37.15625 56 41.109375 55.140625 \nQ 45.0625 54.296875 48.78125 52.59375 \nz\n\" id=\"DejaVuSans-99\"/>\n      <path d=\"M 44.390625 34.1875 \nQ 47.5625 33.109375 50.5625 29.59375 \nQ 53.5625 26.078125 56.59375 19.921875 \nL 66.609375 0 \nL 56 0 \nL 46.6875 18.703125 \nQ 43.0625 26.03125 39.671875 28.421875 \nQ 36.28125 30.8125 30.421875 30.8125 \nL 19.671875 30.8125 \nL 19.671875 0 \nL 9.8125 0 \nL 9.8125 72.90625 \nL 32.078125 72.90625 \nQ 44.578125 72.90625 50.734375 67.671875 \nQ 56.890625 62.453125 56.890625 51.90625 \nQ 56.890625 45.015625 53.6875 40.46875 \nQ 50.484375 35.9375 44.390625 34.1875 \nz\nM 19.671875 64.796875 \nL 19.671875 38.921875 \nL 32.078125 38.921875 \nQ 39.203125 38.921875 42.84375 42.21875 \nQ 46.484375 45.515625 46.484375 51.90625 \nQ 46.484375 58.296875 42.84375 61.546875 \nQ 39.203125 64.796875 32.078125 64.796875 \nz\n\" id=\"DejaVuSans-82\"/>\n     </defs>\n     <use xlink:href=\"#DejaVuSans-78\"/>\n     <use x=\"74.804688\" xlink:href=\"#DejaVuSans-117\"/>\n     <use x=\"138.183594\" xlink:href=\"#DejaVuSans-109\"/>\n     <use x=\"235.595703\" xlink:href=\"#DejaVuSans-32\"/>\n     <use x=\"267.382812\" xlink:href=\"#DejaVuSans-68\"/>\n     <use x=\"344.384766\" xlink:href=\"#DejaVuSans-105\"/>\n     <use x=\"372.167969\" xlink:href=\"#DejaVuSans-115\"/>\n     <use x=\"424.267578\" xlink:href=\"#DejaVuSans-99\"/>\n     <use x=\"479.248047\" xlink:href=\"#DejaVuSans-111\"/>\n     <use x=\"540.429688\" xlink:href=\"#DejaVuSans-117\"/>\n     <use x=\"603.808594\" xlink:href=\"#DejaVuSans-114\"/>\n     <use x=\"644.921875\" xlink:href=\"#DejaVuSans-115\"/>\n     <use x=\"697.021484\" xlink:href=\"#DejaVuSans-101\"/>\n     <use x=\"758.544922\" xlink:href=\"#DejaVuSans-32\"/>\n     <use x=\"790.332031\" xlink:href=\"#DejaVuSans-82\"/>\n     <use x=\"855.314453\" xlink:href=\"#DejaVuSans-101\"/>\n     <use x=\"916.837891\" xlink:href=\"#DejaVuSans-108\"/>\n     <use x=\"944.621094\" xlink:href=\"#DejaVuSans-97\"/>\n     <use x=\"1005.900391\" xlink:href=\"#DejaVuSans-116\"/>\n     <use x=\"1045.109375\" xlink:href=\"#DejaVuSans-105\"/>\n     <use x=\"1072.892578\" xlink:href=\"#DejaVuSans-111\"/>\n     <use x=\"1134.074219\" xlink:href=\"#DejaVuSans-110\"/>\n     <use x=\"1197.453125\" xlink:href=\"#DejaVuSans-115\"/>\n    </g>\n   </g>\n  </g>\n  <g id=\"axes_5\">\n   <g id=\"patch_182\">\n    <path d=\"M 34.56 610.4 \nL 852.213851 610.4 \nL 852.213851 455.2 \nL 34.56 455.2 \nz\n\" style=\"fill:#ffffff;\"/>\n   </g>\n   <g id=\"patch_183\">\n    <path clip-path=\"url(#p70091fdc4c)\" d=\"M 71.726084 610.4 \nL 90.309126 610.4 \nL 90.309126 580.905898 \nL 71.726084 580.905898 \nz\n\" style=\"fill:#ff0000;stroke:#0000ff;stroke-linejoin:miter;\"/>\n   </g>\n   <g id=\"patch_184\">\n    <path clip-path=\"url(#p70091fdc4c)\" d=\"M 90.309126 610.4 \nL 108.892168 610.4 \nL 108.892168 542.936479 \nL 90.309126 542.936479 \nz\n\" style=\"fill:#ff0000;stroke:#0000ff;stroke-linejoin:miter;\"/>\n   </g>\n   <g id=\"patch_185\">\n    <path clip-path=\"url(#p70091fdc4c)\" d=\"M 108.892168 610.4 \nL 127.47521 610.4 \nL 127.47521 535.139187 \nL 108.892168 535.139187 \nz\n\" style=\"fill:#ff0000;stroke:#0000ff;stroke-linejoin:miter;\"/>\n   </g>\n   <g id=\"patch_186\">\n    <path clip-path=\"url(#p70091fdc4c)\" d=\"M 127.47521 610.4 \nL 146.058252 610.4 \nL 146.058252 538.529314 \nL 127.47521 538.529314 \nz\n\" style=\"fill:#ff0000;stroke:#0000ff;stroke-linejoin:miter;\"/>\n   </g>\n   <g id=\"patch_187\">\n    <path clip-path=\"url(#p70091fdc4c)\" d=\"M 146.058252 610.4 \nL 164.641295 610.4 \nL 164.641295 547.682656 \nL 146.058252 547.682656 \nz\n\" style=\"fill:#ff0000;stroke:#0000ff;stroke-linejoin:miter;\"/>\n   </g>\n   <g id=\"patch_188\">\n    <path clip-path=\"url(#p70091fdc4c)\" d=\"M 164.641295 610.4 \nL 183.224337 610.4 \nL 183.224337 565.311315 \nL 164.641295 565.311315 \nz\n\" style=\"fill:#ff0000;stroke:#0000ff;stroke-linejoin:miter;\"/>\n   </g>\n   <g id=\"patch_189\">\n    <path clip-path=\"url(#p70091fdc4c)\" d=\"M 183.224337 610.4 \nL 201.807379 610.4 \nL 201.807379 575.820708 \nL 183.224337 575.820708 \nz\n\" style=\"fill:#ff0000;stroke:#0000ff;stroke-linejoin:miter;\"/>\n   </g>\n   <g id=\"patch_190\">\n    <path clip-path=\"url(#p70091fdc4c)\" d=\"M 201.807379 610.4 \nL 220.390421 610.4 \nL 220.390421 582.939974 \nL 201.807379 582.939974 \nz\n\" style=\"fill:#ff0000;stroke:#0000ff;stroke-linejoin:miter;\"/>\n   </g>\n   <g id=\"patch_191\">\n    <path clip-path=\"url(#p70091fdc4c)\" d=\"M 220.390421 610.4 \nL 238.973463 610.4 \nL 238.973463 582.600961 \nL 220.390421 582.600961 \nz\n\" style=\"fill:#ff0000;stroke:#0000ff;stroke-linejoin:miter;\"/>\n   </g>\n   <g id=\"patch_192\">\n    <path clip-path=\"url(#p70091fdc4c)\" d=\"M 238.973463 610.4 \nL 257.556505 610.4 \nL 257.556505 597.517519 \nL 238.973463 597.517519 \nz\n\" style=\"fill:#ff0000;stroke:#0000ff;stroke-linejoin:miter;\"/>\n   </g>\n   <g id=\"patch_193\">\n    <path clip-path=\"url(#p70091fdc4c)\" d=\"M 257.556505 610.4 \nL 276.139547 610.4 \nL 276.139547 601.246658 \nL 257.556505 601.246658 \nz\n\" style=\"fill:#ff0000;stroke:#0000ff;stroke-linejoin:miter;\"/>\n   </g>\n   <g id=\"patch_194\">\n    <path clip-path=\"url(#p70091fdc4c)\" d=\"M 276.139547 610.4 \nL 294.722589 610.4 \nL 294.722589 601.246658 \nL 276.139547 601.246658 \nz\n\" style=\"fill:#ff0000;stroke:#0000ff;stroke-linejoin:miter;\"/>\n   </g>\n   <g id=\"patch_195\">\n    <path clip-path=\"url(#p70091fdc4c)\" d=\"M 294.722589 610.4 \nL 313.305631 610.4 \nL 313.305631 596.500481 \nL 294.722589 596.500481 \nz\n\" style=\"fill:#ff0000;stroke:#0000ff;stroke-linejoin:miter;\"/>\n   </g>\n   <g id=\"patch_196\">\n    <path clip-path=\"url(#p70091fdc4c)\" d=\"M 313.305631 610.4 \nL 331.888673 610.4 \nL 331.888673 605.653823 \nL 313.305631 605.653823 \nz\n\" style=\"fill:#ff0000;stroke:#0000ff;stroke-linejoin:miter;\"/>\n   </g>\n   <g id=\"patch_197\">\n    <path clip-path=\"url(#p70091fdc4c)\" d=\"M 331.888673 610.4 \nL 350.471715 610.4 \nL 350.471715 607.687899 \nL 331.888673 607.687899 \nz\n\" style=\"fill:#ff0000;stroke:#0000ff;stroke-linejoin:miter;\"/>\n   </g>\n   <g id=\"patch_198\">\n    <path clip-path=\"url(#p70091fdc4c)\" d=\"M 350.471715 610.4 \nL 369.054757 610.4 \nL 369.054757 607.009873 \nL 350.471715 607.009873 \nz\n\" style=\"fill:#ff0000;stroke:#0000ff;stroke-linejoin:miter;\"/>\n   </g>\n   <g id=\"patch_199\">\n    <path clip-path=\"url(#p70091fdc4c)\" d=\"M 369.054757 610.4 \nL 387.637799 610.4 \nL 387.637799 608.704937 \nL 369.054757 608.704937 \nz\n\" style=\"fill:#ff0000;stroke:#0000ff;stroke-linejoin:miter;\"/>\n   </g>\n   <g id=\"patch_200\">\n    <path clip-path=\"url(#p70091fdc4c)\" d=\"M 387.637799 610.4 \nL 406.220841 610.4 \nL 406.220841 607.687899 \nL 387.637799 607.687899 \nz\n\" style=\"fill:#ff0000;stroke:#0000ff;stroke-linejoin:miter;\"/>\n   </g>\n   <g id=\"patch_201\">\n    <path clip-path=\"url(#p70091fdc4c)\" d=\"M 406.220841 610.4 \nL 424.803884 610.4 \nL 424.803884 609.721975 \nL 406.220841 609.721975 \nz\n\" style=\"fill:#ff0000;stroke:#0000ff;stroke-linejoin:miter;\"/>\n   </g>\n   <g id=\"patch_202\">\n    <path clip-path=\"url(#p70091fdc4c)\" d=\"M 424.803884 610.4 \nL 443.386926 610.4 \nL 443.386926 608.365924 \nL 424.803884 608.365924 \nz\n\" style=\"fill:#ff0000;stroke:#0000ff;stroke-linejoin:miter;\"/>\n   </g>\n   <g id=\"patch_203\">\n    <path clip-path=\"url(#p70091fdc4c)\" d=\"M 443.386926 610.4 \nL 461.969968 610.4 \nL 461.969968 609.043949 \nL 443.386926 609.043949 \nz\n\" style=\"fill:#ff0000;stroke:#0000ff;stroke-linejoin:miter;\"/>\n   </g>\n   <g id=\"patch_204\">\n    <path clip-path=\"url(#p70091fdc4c)\" d=\"M 461.969968 610.4 \nL 480.55301 610.4 \nL 480.55301 608.365924 \nL 461.969968 608.365924 \nz\n\" style=\"fill:#ff0000;stroke:#0000ff;stroke-linejoin:miter;\"/>\n   </g>\n   <g id=\"patch_205\">\n    <path clip-path=\"url(#p70091fdc4c)\" d=\"M 480.55301 610.4 \nL 499.136052 610.4 \nL 499.136052 609.043949 \nL 480.55301 609.043949 \nz\n\" style=\"fill:#ff0000;stroke:#0000ff;stroke-linejoin:miter;\"/>\n   </g>\n   <g id=\"patch_206\">\n    <path clip-path=\"url(#p70091fdc4c)\" d=\"M 499.136052 610.4 \nL 517.719094 610.4 \nL 517.719094 610.060987 \nL 499.136052 610.060987 \nz\n\" style=\"fill:#ff0000;stroke:#0000ff;stroke-linejoin:miter;\"/>\n   </g>\n   <g id=\"patch_207\">\n    <path clip-path=\"url(#p70091fdc4c)\" d=\"M 517.719094 610.4 \nL 536.302136 610.4 \nL 536.302136 609.721975 \nL 517.719094 609.721975 \nz\n\" style=\"fill:#ff0000;stroke:#0000ff;stroke-linejoin:miter;\"/>\n   </g>\n   <g id=\"patch_208\">\n    <path clip-path=\"url(#p70091fdc4c)\" d=\"M 536.302136 610.4 \nL 554.885178 610.4 \nL 554.885178 609.721975 \nL 536.302136 609.721975 \nz\n\" style=\"fill:#ff0000;stroke:#0000ff;stroke-linejoin:miter;\"/>\n   </g>\n   <g id=\"patch_209\">\n    <path clip-path=\"url(#p70091fdc4c)\" d=\"M 554.885178 610.4 \nL 573.46822 610.4 \nL 573.46822 610.060987 \nL 554.885178 610.060987 \nz\n\" style=\"fill:#ff0000;stroke:#0000ff;stroke-linejoin:miter;\"/>\n   </g>\n   <g id=\"patch_210\">\n    <path clip-path=\"url(#p70091fdc4c)\" d=\"M 573.46822 610.4 \nL 592.051262 610.4 \nL 592.051262 609.721975 \nL 573.46822 609.721975 \nz\n\" style=\"fill:#ff0000;stroke:#0000ff;stroke-linejoin:miter;\"/>\n   </g>\n   <g id=\"patch_211\">\n    <path clip-path=\"url(#p70091fdc4c)\" d=\"M 592.051262 610.4 \nL 610.634304 610.4 \nL 610.634304 610.060987 \nL 592.051262 610.060987 \nz\n\" style=\"fill:#ff0000;stroke:#0000ff;stroke-linejoin:miter;\"/>\n   </g>\n   <g id=\"patch_212\">\n    <path clip-path=\"url(#p70091fdc4c)\" d=\"M 610.634304 610.4 \nL 629.217346 610.4 \nL 629.217346 608.365924 \nL 610.634304 608.365924 \nz\n\" style=\"fill:#ff0000;stroke:#0000ff;stroke-linejoin:miter;\"/>\n   </g>\n   <g id=\"patch_213\">\n    <path clip-path=\"url(#p70091fdc4c)\" d=\"M 629.217346 610.4 \nL 647.800388 610.4 \nL 647.800388 610.060987 \nL 629.217346 610.060987 \nz\n\" style=\"fill:#ff0000;stroke:#0000ff;stroke-linejoin:miter;\"/>\n   </g>\n   <g id=\"patch_214\">\n    <path clip-path=\"url(#p70091fdc4c)\" d=\"M 647.800388 610.4 \nL 666.383431 610.4 \nL 666.383431 610.060987 \nL 647.800388 610.060987 \nz\n\" style=\"fill:#ff0000;stroke:#0000ff;stroke-linejoin:miter;\"/>\n   </g>\n   <g id=\"patch_215\">\n    <path clip-path=\"url(#p70091fdc4c)\" d=\"M 666.383431 610.4 \nL 684.966473 610.4 \nL 684.966473 610.060987 \nL 666.383431 610.060987 \nz\n\" style=\"fill:#ff0000;stroke:#0000ff;stroke-linejoin:miter;\"/>\n   </g>\n   <g id=\"patch_216\">\n    <path clip-path=\"url(#p70091fdc4c)\" d=\"M 684.966473 610.4 \nL 703.549515 610.4 \nL 703.549515 610.4 \nL 684.966473 610.4 \nz\n\" style=\"fill:#ff0000;stroke:#0000ff;stroke-linejoin:miter;\"/>\n   </g>\n   <g id=\"patch_217\">\n    <path clip-path=\"url(#p70091fdc4c)\" d=\"M 703.549515 610.4 \nL 722.132557 610.4 \nL 722.132557 609.043949 \nL 703.549515 609.043949 \nz\n\" style=\"fill:#ff0000;stroke:#0000ff;stroke-linejoin:miter;\"/>\n   </g>\n   <g id=\"patch_218\">\n    <path clip-path=\"url(#p70091fdc4c)\" d=\"M 722.132557 610.4 \nL 740.715599 610.4 \nL 740.715599 610.4 \nL 722.132557 610.4 \nz\n\" style=\"fill:#ff0000;stroke:#0000ff;stroke-linejoin:miter;\"/>\n   </g>\n   <g id=\"patch_219\">\n    <path clip-path=\"url(#p70091fdc4c)\" d=\"M 740.715599 610.4 \nL 759.298641 610.4 \nL 759.298641 609.721975 \nL 740.715599 609.721975 \nz\n\" style=\"fill:#ff0000;stroke:#0000ff;stroke-linejoin:miter;\"/>\n   </g>\n   <g id=\"patch_220\">\n    <path clip-path=\"url(#p70091fdc4c)\" d=\"M 759.298641 610.4 \nL 777.881683 610.4 \nL 777.881683 610.4 \nL 759.298641 610.4 \nz\n\" style=\"fill:#ff0000;stroke:#0000ff;stroke-linejoin:miter;\"/>\n   </g>\n   <g id=\"patch_221\">\n    <path clip-path=\"url(#p70091fdc4c)\" d=\"M 777.881683 610.4 \nL 796.464725 610.4 \nL 796.464725 610.4 \nL 777.881683 610.4 \nz\n\" style=\"fill:#ff0000;stroke:#0000ff;stroke-linejoin:miter;\"/>\n   </g>\n   <g id=\"patch_222\">\n    <path clip-path=\"url(#p70091fdc4c)\" d=\"M 796.464725 610.4 \nL 815.047767 610.4 \nL 815.047767 462.590476 \nL 796.464725 462.590476 \nz\n\" style=\"fill:#ff0000;stroke:#0000ff;stroke-linejoin:miter;\"/>\n   </g>\n   <g id=\"matplotlib.axis_9\">\n    <g id=\"xtick_30\">\n     <g id=\"line2d_54\">\n      <g>\n       <use style=\"stroke:#000000;stroke-width:0.8;\" x=\"69.665683\" xlink:href=\"#mee462b4022\" y=\"610.4\"/>\n      </g>\n     </g>\n     <g id=\"text_58\">\n      <!-- 0 -->\n      <g transform=\"translate(67.120683 623.47875)scale(0.08 -0.08)\">\n       <use xlink:href=\"#DejaVuSans-48\"/>\n      </g>\n     </g>\n    </g>\n    <g id=\"xtick_31\">\n     <g id=\"line2d_55\">\n      <g>\n       <use style=\"stroke:#000000;stroke-width:0.8;\" x=\"169.049961\" xlink:href=\"#mee462b4022\" y=\"610.4\"/>\n      </g>\n     </g>\n     <g id=\"text_59\">\n      <!-- 1 -->\n      <g transform=\"translate(166.504961 623.47875)scale(0.08 -0.08)\">\n       <use xlink:href=\"#DejaVuSans-49\"/>\n      </g>\n     </g>\n    </g>\n    <g id=\"xtick_32\">\n     <g id=\"line2d_56\">\n      <g>\n       <use style=\"stroke:#000000;stroke-width:0.8;\" x=\"268.434238\" xlink:href=\"#mee462b4022\" y=\"610.4\"/>\n      </g>\n     </g>\n     <g id=\"text_60\">\n      <!-- 2 -->\n      <g transform=\"translate(265.889238 623.47875)scale(0.08 -0.08)\">\n       <use xlink:href=\"#DejaVuSans-50\"/>\n      </g>\n     </g>\n    </g>\n    <g id=\"xtick_33\">\n     <g id=\"line2d_57\">\n      <g>\n       <use style=\"stroke:#000000;stroke-width:0.8;\" x=\"367.818516\" xlink:href=\"#mee462b4022\" y=\"610.4\"/>\n      </g>\n     </g>\n     <g id=\"text_61\">\n      <!-- 3 -->\n      <g transform=\"translate(365.273516 623.47875)scale(0.08 -0.08)\">\n       <use xlink:href=\"#DejaVuSans-51\"/>\n      </g>\n     </g>\n    </g>\n    <g id=\"xtick_34\">\n     <g id=\"line2d_58\">\n      <g>\n       <use style=\"stroke:#000000;stroke-width:0.8;\" x=\"467.202794\" xlink:href=\"#mee462b4022\" y=\"610.4\"/>\n      </g>\n     </g>\n     <g id=\"text_62\">\n      <!-- 4 -->\n      <g transform=\"translate(464.657794 623.47875)scale(0.08 -0.08)\">\n       <use xlink:href=\"#DejaVuSans-52\"/>\n      </g>\n     </g>\n    </g>\n    <g id=\"xtick_35\">\n     <g id=\"line2d_59\">\n      <g>\n       <use style=\"stroke:#000000;stroke-width:0.8;\" x=\"566.587072\" xlink:href=\"#mee462b4022\" y=\"610.4\"/>\n      </g>\n     </g>\n     <g id=\"text_63\">\n      <!-- 5 -->\n      <g transform=\"translate(564.042072 623.47875)scale(0.08 -0.08)\">\n       <use xlink:href=\"#DejaVuSans-53\"/>\n      </g>\n     </g>\n    </g>\n    <g id=\"xtick_36\">\n     <g id=\"line2d_60\">\n      <g>\n       <use style=\"stroke:#000000;stroke-width:0.8;\" x=\"665.97135\" xlink:href=\"#mee462b4022\" y=\"610.4\"/>\n      </g>\n     </g>\n     <g id=\"text_64\">\n      <!-- 6 -->\n      <g transform=\"translate(663.42635 623.47875)scale(0.08 -0.08)\">\n       <use xlink:href=\"#DejaVuSans-54\"/>\n      </g>\n     </g>\n    </g>\n    <g id=\"xtick_37\">\n     <g id=\"line2d_61\">\n      <g>\n       <use style=\"stroke:#000000;stroke-width:0.8;\" x=\"765.355628\" xlink:href=\"#mee462b4022\" y=\"610.4\"/>\n      </g>\n     </g>\n     <g id=\"text_65\">\n      <!-- 7 -->\n      <g transform=\"translate(762.810628 623.47875)scale(0.08 -0.08)\">\n       <use xlink:href=\"#DejaVuSans-55\"/>\n      </g>\n     </g>\n    </g>\n   </g>\n   <g id=\"matplotlib.axis_10\">\n    <g id=\"ytick_25\">\n     <g id=\"line2d_62\">\n      <g>\n       <use style=\"stroke:#000000;stroke-width:0.8;\" x=\"34.56\" xlink:href=\"#m66ad1c31f7\" y=\"610.4\"/>\n      </g>\n     </g>\n     <g id=\"text_66\">\n      <!-- 0 -->\n      <g transform=\"translate(22.47 613.439375)scale(0.08 -0.08)\">\n       <use xlink:href=\"#DejaVuSans-48\"/>\n      </g>\n     </g>\n    </g>\n    <g id=\"ytick_26\">\n     <g id=\"line2d_63\">\n      <g>\n       <use style=\"stroke:#000000;stroke-width:0.8;\" x=\"34.56\" xlink:href=\"#m66ad1c31f7\" y=\"576.498733\"/>\n      </g>\n     </g>\n     <g id=\"text_67\">\n      <!-- 100 -->\n      <g transform=\"translate(12.29 579.538108)scale(0.08 -0.08)\">\n       <use xlink:href=\"#DejaVuSans-49\"/>\n       <use x=\"63.623047\" xlink:href=\"#DejaVuSans-48\"/>\n       <use x=\"127.246094\" xlink:href=\"#DejaVuSans-48\"/>\n      </g>\n     </g>\n    </g>\n    <g id=\"ytick_27\">\n     <g id=\"line2d_64\">\n      <g>\n       <use style=\"stroke:#000000;stroke-width:0.8;\" x=\"34.56\" xlink:href=\"#m66ad1c31f7\" y=\"542.597466\"/>\n      </g>\n     </g>\n     <g id=\"text_68\">\n      <!-- 200 -->\n      <g transform=\"translate(12.29 545.636841)scale(0.08 -0.08)\">\n       <use xlink:href=\"#DejaVuSans-50\"/>\n       <use x=\"63.623047\" xlink:href=\"#DejaVuSans-48\"/>\n       <use x=\"127.246094\" xlink:href=\"#DejaVuSans-48\"/>\n      </g>\n     </g>\n    </g>\n    <g id=\"ytick_28\">\n     <g id=\"line2d_65\">\n      <g>\n       <use style=\"stroke:#000000;stroke-width:0.8;\" x=\"34.56\" xlink:href=\"#m66ad1c31f7\" y=\"508.696199\"/>\n      </g>\n     </g>\n     <g id=\"text_69\">\n      <!-- 300 -->\n      <g transform=\"translate(12.29 511.735574)scale(0.08 -0.08)\">\n       <use xlink:href=\"#DejaVuSans-51\"/>\n       <use x=\"63.623047\" xlink:href=\"#DejaVuSans-48\"/>\n       <use x=\"127.246094\" xlink:href=\"#DejaVuSans-48\"/>\n      </g>\n     </g>\n    </g>\n    <g id=\"ytick_29\">\n     <g id=\"line2d_66\">\n      <g>\n       <use style=\"stroke:#000000;stroke-width:0.8;\" x=\"34.56\" xlink:href=\"#m66ad1c31f7\" y=\"474.794932\"/>\n      </g>\n     </g>\n     <g id=\"text_70\">\n      <!-- 400 -->\n      <g transform=\"translate(12.29 477.834307)scale(0.08 -0.08)\">\n       <use xlink:href=\"#DejaVuSans-52\"/>\n       <use x=\"63.623047\" xlink:href=\"#DejaVuSans-48\"/>\n       <use x=\"127.246094\" xlink:href=\"#DejaVuSans-48\"/>\n      </g>\n     </g>\n    </g>\n   </g>\n   <g id=\"patch_223\">\n    <path d=\"M 34.56 610.4 \nL 34.56 455.2 \n\" style=\"fill:none;stroke:#000000;stroke-linecap:square;stroke-linejoin:miter;stroke-width:0.8;\"/>\n   </g>\n   <g id=\"patch_224\">\n    <path d=\"M 852.213851 610.4 \nL 852.213851 455.2 \n\" style=\"fill:none;stroke:#000000;stroke-linecap:square;stroke-linejoin:miter;stroke-width:0.8;\"/>\n   </g>\n   <g id=\"patch_225\">\n    <path d=\"M 34.56 610.4 \nL 852.213851 610.4 \n\" style=\"fill:none;stroke:#000000;stroke-linecap:square;stroke-linejoin:miter;stroke-width:0.8;\"/>\n   </g>\n   <g id=\"patch_226\">\n    <path d=\"M 34.56 455.2 \nL 852.213851 455.2 \n\" style=\"fill:none;stroke:#000000;stroke-linecap:square;stroke-linejoin:miter;stroke-width:0.8;\"/>\n   </g>\n   <g id=\"text_71\">\n    <!-- Relevance score -->\n    <g transform=\"translate(394.389426 449.2)scale(0.12 -0.12)\">\n     <use xlink:href=\"#DejaVuSans-82\"/>\n     <use x=\"64.982422\" xlink:href=\"#DejaVuSans-101\"/>\n     <use x=\"126.505859\" xlink:href=\"#DejaVuSans-108\"/>\n     <use x=\"154.289062\" xlink:href=\"#DejaVuSans-101\"/>\n     <use x=\"215.8125\" xlink:href=\"#DejaVuSans-118\"/>\n     <use x=\"274.992188\" xlink:href=\"#DejaVuSans-97\"/>\n     <use x=\"336.271484\" xlink:href=\"#DejaVuSans-110\"/>\n     <use x=\"399.650391\" xlink:href=\"#DejaVuSans-99\"/>\n     <use x=\"454.630859\" xlink:href=\"#DejaVuSans-101\"/>\n     <use x=\"516.154297\" xlink:href=\"#DejaVuSans-32\"/>\n     <use x=\"547.941406\" xlink:href=\"#DejaVuSans-115\"/>\n     <use x=\"600.041016\" xlink:href=\"#DejaVuSans-99\"/>\n     <use x=\"655.021484\" xlink:href=\"#DejaVuSans-111\"/>\n     <use x=\"716.203125\" xlink:href=\"#DejaVuSans-114\"/>\n     <use x=\"755.066406\" xlink:href=\"#DejaVuSans-101\"/>\n    </g>\n   </g>\n  </g>\n  <g id=\"text_72\">\n   <!-- Features Univariate Plots -->\n   <g transform=\"translate(845.278594 17.837813)scale(0.14 -0.14)\">\n    <defs>\n     <path d=\"M 9.8125 72.90625 \nL 51.703125 72.90625 \nL 51.703125 64.59375 \nL 19.671875 64.59375 \nL 19.671875 43.109375 \nL 48.578125 43.109375 \nL 48.578125 34.8125 \nL 19.671875 34.8125 \nL 19.671875 0 \nL 9.8125 0 \nz\n\" id=\"DejaVuSans-70\"/>\n     <path d=\"M 8.6875 72.90625 \nL 18.609375 72.90625 \nL 18.609375 28.609375 \nQ 18.609375 16.890625 22.84375 11.734375 \nQ 27.09375 6.59375 36.625 6.59375 \nQ 46.09375 6.59375 50.34375 11.734375 \nQ 54.59375 16.890625 54.59375 28.609375 \nL 54.59375 72.90625 \nL 64.5 72.90625 \nL 64.5 27.390625 \nQ 64.5 13.140625 57.4375 5.859375 \nQ 50.390625 -1.421875 36.625 -1.421875 \nQ 22.796875 -1.421875 15.734375 5.859375 \nQ 8.6875 13.140625 8.6875 27.390625 \nz\n\" id=\"DejaVuSans-85\"/>\n     <path d=\"M 19.671875 64.796875 \nL 19.671875 37.40625 \nL 32.078125 37.40625 \nQ 38.96875 37.40625 42.71875 40.96875 \nQ 46.484375 44.53125 46.484375 51.125 \nQ 46.484375 57.671875 42.71875 61.234375 \nQ 38.96875 64.796875 32.078125 64.796875 \nz\nM 9.8125 72.90625 \nL 32.078125 72.90625 \nQ 44.34375 72.90625 50.609375 67.359375 \nQ 56.890625 61.8125 56.890625 51.125 \nQ 56.890625 40.328125 50.609375 34.8125 \nQ 44.34375 29.296875 32.078125 29.296875 \nL 19.671875 29.296875 \nL 19.671875 0 \nL 9.8125 0 \nz\n\" id=\"DejaVuSans-80\"/>\n    </defs>\n    <use xlink:href=\"#DejaVuSans-70\"/>\n    <use x=\"52.019531\" xlink:href=\"#DejaVuSans-101\"/>\n    <use x=\"113.542969\" xlink:href=\"#DejaVuSans-97\"/>\n    <use x=\"174.822266\" xlink:href=\"#DejaVuSans-116\"/>\n    <use x=\"214.03125\" xlink:href=\"#DejaVuSans-117\"/>\n    <use x=\"277.410156\" xlink:href=\"#DejaVuSans-114\"/>\n    <use x=\"316.273438\" xlink:href=\"#DejaVuSans-101\"/>\n    <use x=\"377.796875\" xlink:href=\"#DejaVuSans-115\"/>\n    <use x=\"429.896484\" xlink:href=\"#DejaVuSans-32\"/>\n    <use x=\"461.683594\" xlink:href=\"#DejaVuSans-85\"/>\n    <use x=\"534.876953\" xlink:href=\"#DejaVuSans-110\"/>\n    <use x=\"598.255859\" xlink:href=\"#DejaVuSans-105\"/>\n    <use x=\"626.039062\" xlink:href=\"#DejaVuSans-118\"/>\n    <use x=\"685.21875\" xlink:href=\"#DejaVuSans-97\"/>\n    <use x=\"746.498047\" xlink:href=\"#DejaVuSans-114\"/>\n    <use x=\"787.611328\" xlink:href=\"#DejaVuSans-105\"/>\n    <use x=\"815.394531\" xlink:href=\"#DejaVuSans-97\"/>\n    <use x=\"876.673828\" xlink:href=\"#DejaVuSans-116\"/>\n    <use x=\"915.882812\" xlink:href=\"#DejaVuSans-101\"/>\n    <use x=\"977.40625\" xlink:href=\"#DejaVuSans-32\"/>\n    <use x=\"1009.193359\" xlink:href=\"#DejaVuSans-80\"/>\n    <use x=\"1069.496094\" xlink:href=\"#DejaVuSans-108\"/>\n    <use x=\"1097.279297\" xlink:href=\"#DejaVuSans-111\"/>\n    <use x=\"1158.460938\" xlink:href=\"#DejaVuSans-116\"/>\n    <use x=\"1197.669922\" xlink:href=\"#DejaVuSans-115\"/>\n   </g>\n  </g>\n </g>\n <defs>\n  <clipPath id=\"p0de1c90c3f\">\n   <rect height=\"155.2\" width=\"817.653851\" x=\"34.56\" y=\"59.2\"/>\n  </clipPath>\n  <clipPath id=\"pc340d7c14c\">\n   <rect height=\"155.2\" width=\"817.653851\" x=\"896.306149\" y=\"59.2\"/>\n  </clipPath>\n  <clipPath id=\"pa4b94a4fb9\">\n   <rect height=\"155.2\" width=\"817.653851\" x=\"34.56\" y=\"257.2\"/>\n  </clipPath>\n  <clipPath id=\"p353a1847d6\">\n   <rect height=\"155.2\" width=\"817.653851\" x=\"896.306149\" y=\"257.2\"/>\n  </clipPath>\n  <clipPath id=\"p70091fdc4c\">\n   <rect height=\"155.2\" width=\"817.653851\" x=\"34.56\" y=\"455.2\"/>\n  </clipPath>\n </defs>\n</svg>\n",
      "image/png": "[encoded data removed]"
     },
     "metadata": {
      "needs_background": "light"
     }
    }
   ],
   "source": [
    "eda_plots(df,features_list,'Features Univariate Plots',(20,7))"
   ]
  },
  {
   "cell_type": "code",
   "execution_count": 27,
   "metadata": {},
   "outputs": [
    {
     "output_type": "display_data",
     "data": {
      "text/plain": "<Figure size 360x360 with 1 Axes>",
      "image/svg+xml": "<?xml version=\"1.0\" encoding=\"utf-8\" standalone=\"no\"?>\n<!DOCTYPE svg PUBLIC \"-//W3C//DTD SVG 1.1//EN\"\n  \"http://www.w3.org/Graphics/SVG/1.1/DTD/svg11.dtd\">\n<!-- Created with matplotlib (https://matplotlib.org/) -->\n<svg height=\"452.3425pt\" version=\"1.1\" viewBox=\"0 0 424.91 452.3425\" width=\"424.91pt\" xmlns=\"http://www.w3.org/2000/svg\" xmlns:xlink=\"http://www.w3.org/1999/xlink\">\n <metadata>\n  <rdf:RDF xmlns:cc=\"http://creativecommons.org/ns#\" xmlns:dc=\"http://purl.org/dc/elements/1.1/\" xmlns:rdf=\"http://www.w3.org/1999/02/22-rdf-syntax-ns#\">\n   <cc:Work>\n    <dc:type rdf:resource=\"http://purl.org/dc/dcmitype/StillImage\"/>\n    <dc:date>2021-03-01T02:35:30.639429</dc:date>\n    <dc:format>image/svg+xml</dc:format>\n    <dc:creator>\n     <cc:Agent>\n      <dc:title>Matplotlib v3.3.3, https://matplotlib.org/</dc:title>\n     </cc:Agent>\n    </dc:creator>\n   </cc:Work>\n  </rdf:RDF>\n </metadata>\n <defs>\n  <style type=\"text/css\">*{stroke-linecap:butt;stroke-linejoin:round;}</style>\n </defs>\n <g id=\"figure_1\">\n  <g id=\"patch_1\">\n   <path d=\"M 0 452.3425 \nL 424.91 452.3425 \nL 424.91 0 \nL 0 0 \nz\n\" style=\"fill:none;\"/>\n  </g>\n  <g id=\"axes_1\">\n   <g id=\"patch_2\">\n    <path d=\"M 34.56 430.4 \nL 417.71 430.4 \nL 417.71 36 \nL 34.56 36 \nz\n\" style=\"fill:#ffffff;\"/>\n   </g>\n   <g id=\"patch_3\">\n    <path clip-path=\"url(#pc6feeacbcc)\" d=\"M 51.975909 430.4 \nL 60.683864 430.4 \nL 60.683864 54.780952 \nL 51.975909 54.780952 \nz\n\" style=\"fill:#ff0000;stroke:#0000ff;stroke-linejoin:miter;\"/>\n   </g>\n   <g id=\"patch_4\">\n    <path clip-path=\"url(#pc6feeacbcc)\" d=\"M 60.683864 430.4 \nL 69.391818 430.4 \nL 69.391818 430.4 \nL 60.683864 430.4 \nz\n\" style=\"fill:#ff0000;stroke:#0000ff;stroke-linejoin:miter;\"/>\n   </g>\n   <g id=\"patch_5\">\n    <path clip-path=\"url(#pc6feeacbcc)\" d=\"M 69.391818 430.4 \nL 78.099773 430.4 \nL 78.099773 430.4 \nL 69.391818 430.4 \nz\n\" style=\"fill:#ff0000;stroke:#0000ff;stroke-linejoin:miter;\"/>\n   </g>\n   <g id=\"patch_6\">\n    <path clip-path=\"url(#pc6feeacbcc)\" d=\"M 78.099773 430.4 \nL 86.807727 430.4 \nL 86.807727 430.4 \nL 78.099773 430.4 \nz\n\" style=\"fill:#ff0000;stroke:#0000ff;stroke-linejoin:miter;\"/>\n   </g>\n   <g id=\"patch_7\">\n    <path clip-path=\"url(#pc6feeacbcc)\" d=\"M 86.807727 430.4 \nL 95.515682 430.4 \nL 95.515682 430.4 \nL 86.807727 430.4 \nz\n\" style=\"fill:#ff0000;stroke:#0000ff;stroke-linejoin:miter;\"/>\n   </g>\n   <g id=\"patch_8\">\n    <path clip-path=\"url(#pc6feeacbcc)\" d=\"M 95.515682 430.4 \nL 104.223636 430.4 \nL 104.223636 430.4 \nL 95.515682 430.4 \nz\n\" style=\"fill:#ff0000;stroke:#0000ff;stroke-linejoin:miter;\"/>\n   </g>\n   <g id=\"patch_9\">\n    <path clip-path=\"url(#pc6feeacbcc)\" d=\"M 104.223636 430.4 \nL 112.931591 430.4 \nL 112.931591 430.4 \nL 104.223636 430.4 \nz\n\" style=\"fill:#ff0000;stroke:#0000ff;stroke-linejoin:miter;\"/>\n   </g>\n   <g id=\"patch_10\">\n    <path clip-path=\"url(#pc6feeacbcc)\" d=\"M 112.931591 430.4 \nL 121.639545 430.4 \nL 121.639545 430.4 \nL 112.931591 430.4 \nz\n\" style=\"fill:#ff0000;stroke:#0000ff;stroke-linejoin:miter;\"/>\n   </g>\n   <g id=\"patch_11\">\n    <path clip-path=\"url(#pc6feeacbcc)\" d=\"M 121.639545 430.4 \nL 130.3475 430.4 \nL 130.3475 430.4 \nL 121.639545 430.4 \nz\n\" style=\"fill:#ff0000;stroke:#0000ff;stroke-linejoin:miter;\"/>\n   </g>\n   <g id=\"patch_12\">\n    <path clip-path=\"url(#pc6feeacbcc)\" d=\"M 130.3475 430.4 \nL 139.055455 430.4 \nL 139.055455 430.4 \nL 130.3475 430.4 \nz\n\" style=\"fill:#ff0000;stroke:#0000ff;stroke-linejoin:miter;\"/>\n   </g>\n   <g id=\"patch_13\">\n    <path clip-path=\"url(#pc6feeacbcc)\" d=\"M 139.055455 430.4 \nL 147.763409 430.4 \nL 147.763409 430.4 \nL 139.055455 430.4 \nz\n\" style=\"fill:#ff0000;stroke:#0000ff;stroke-linejoin:miter;\"/>\n   </g>\n   <g id=\"patch_14\">\n    <path clip-path=\"url(#pc6feeacbcc)\" d=\"M 147.763409 430.4 \nL 156.471364 430.4 \nL 156.471364 430.4 \nL 147.763409 430.4 \nz\n\" style=\"fill:#ff0000;stroke:#0000ff;stroke-linejoin:miter;\"/>\n   </g>\n   <g id=\"patch_15\">\n    <path clip-path=\"url(#pc6feeacbcc)\" d=\"M 156.471364 430.4 \nL 165.179318 430.4 \nL 165.179318 430.4 \nL 156.471364 430.4 \nz\n\" style=\"fill:#ff0000;stroke:#0000ff;stroke-linejoin:miter;\"/>\n   </g>\n   <g id=\"patch_16\">\n    <path clip-path=\"url(#pc6feeacbcc)\" d=\"M 165.179318 430.4 \nL 173.887273 430.4 \nL 173.887273 430.4 \nL 165.179318 430.4 \nz\n\" style=\"fill:#ff0000;stroke:#0000ff;stroke-linejoin:miter;\"/>\n   </g>\n   <g id=\"patch_17\">\n    <path clip-path=\"url(#pc6feeacbcc)\" d=\"M 173.887273 430.4 \nL 182.595227 430.4 \nL 182.595227 430.4 \nL 173.887273 430.4 \nz\n\" style=\"fill:#ff0000;stroke:#0000ff;stroke-linejoin:miter;\"/>\n   </g>\n   <g id=\"patch_18\">\n    <path clip-path=\"url(#pc6feeacbcc)\" d=\"M 182.595227 430.4 \nL 191.303182 430.4 \nL 191.303182 430.4 \nL 182.595227 430.4 \nz\n\" style=\"fill:#ff0000;stroke:#0000ff;stroke-linejoin:miter;\"/>\n   </g>\n   <g id=\"patch_19\">\n    <path clip-path=\"url(#pc6feeacbcc)\" d=\"M 191.303182 430.4 \nL 200.011136 430.4 \nL 200.011136 430.4 \nL 191.303182 430.4 \nz\n\" style=\"fill:#ff0000;stroke:#0000ff;stroke-linejoin:miter;\"/>\n   </g>\n   <g id=\"patch_20\">\n    <path clip-path=\"url(#pc6feeacbcc)\" d=\"M 200.011136 430.4 \nL 208.719091 430.4 \nL 208.719091 430.4 \nL 200.011136 430.4 \nz\n\" style=\"fill:#ff0000;stroke:#0000ff;stroke-linejoin:miter;\"/>\n   </g>\n   <g id=\"patch_21\">\n    <path clip-path=\"url(#pc6feeacbcc)\" d=\"M 208.719091 430.4 \nL 217.427045 430.4 \nL 217.427045 430.4 \nL 208.719091 430.4 \nz\n\" style=\"fill:#ff0000;stroke:#0000ff;stroke-linejoin:miter;\"/>\n   </g>\n   <g id=\"patch_22\">\n    <path clip-path=\"url(#pc6feeacbcc)\" d=\"M 217.427045 430.4 \nL 226.135 430.4 \nL 226.135 430.4 \nL 217.427045 430.4 \nz\n\" style=\"fill:#ff0000;stroke:#0000ff;stroke-linejoin:miter;\"/>\n   </g>\n   <g id=\"patch_23\">\n    <path clip-path=\"url(#pc6feeacbcc)\" d=\"M 226.135 430.4 \nL 234.842955 430.4 \nL 234.842955 430.4 \nL 226.135 430.4 \nz\n\" style=\"fill:#ff0000;stroke:#0000ff;stroke-linejoin:miter;\"/>\n   </g>\n   <g id=\"patch_24\">\n    <path clip-path=\"url(#pc6feeacbcc)\" d=\"M 234.842955 430.4 \nL 243.550909 430.4 \nL 243.550909 430.4 \nL 234.842955 430.4 \nz\n\" style=\"fill:#ff0000;stroke:#0000ff;stroke-linejoin:miter;\"/>\n   </g>\n   <g id=\"patch_25\">\n    <path clip-path=\"url(#pc6feeacbcc)\" d=\"M 243.550909 430.4 \nL 252.258864 430.4 \nL 252.258864 430.4 \nL 243.550909 430.4 \nz\n\" style=\"fill:#ff0000;stroke:#0000ff;stroke-linejoin:miter;\"/>\n   </g>\n   <g id=\"patch_26\">\n    <path clip-path=\"url(#pc6feeacbcc)\" d=\"M 252.258864 430.4 \nL 260.966818 430.4 \nL 260.966818 430.4 \nL 252.258864 430.4 \nz\n\" style=\"fill:#ff0000;stroke:#0000ff;stroke-linejoin:miter;\"/>\n   </g>\n   <g id=\"patch_27\">\n    <path clip-path=\"url(#pc6feeacbcc)\" d=\"M 260.966818 430.4 \nL 269.674773 430.4 \nL 269.674773 430.4 \nL 260.966818 430.4 \nz\n\" style=\"fill:#ff0000;stroke:#0000ff;stroke-linejoin:miter;\"/>\n   </g>\n   <g id=\"patch_28\">\n    <path clip-path=\"url(#pc6feeacbcc)\" d=\"M 269.674773 430.4 \nL 278.382727 430.4 \nL 278.382727 430.4 \nL 269.674773 430.4 \nz\n\" style=\"fill:#ff0000;stroke:#0000ff;stroke-linejoin:miter;\"/>\n   </g>\n   <g id=\"patch_29\">\n    <path clip-path=\"url(#pc6feeacbcc)\" d=\"M 278.382727 430.4 \nL 287.090682 430.4 \nL 287.090682 430.4 \nL 278.382727 430.4 \nz\n\" style=\"fill:#ff0000;stroke:#0000ff;stroke-linejoin:miter;\"/>\n   </g>\n   <g id=\"patch_30\">\n    <path clip-path=\"url(#pc6feeacbcc)\" d=\"M 287.090682 430.4 \nL 295.798636 430.4 \nL 295.798636 430.4 \nL 287.090682 430.4 \nz\n\" style=\"fill:#ff0000;stroke:#0000ff;stroke-linejoin:miter;\"/>\n   </g>\n   <g id=\"patch_31\">\n    <path clip-path=\"url(#pc6feeacbcc)\" d=\"M 295.798636 430.4 \nL 304.506591 430.4 \nL 304.506591 430.4 \nL 295.798636 430.4 \nz\n\" style=\"fill:#ff0000;stroke:#0000ff;stroke-linejoin:miter;\"/>\n   </g>\n   <g id=\"patch_32\">\n    <path clip-path=\"url(#pc6feeacbcc)\" d=\"M 304.506591 430.4 \nL 313.214545 430.4 \nL 313.214545 430.4 \nL 304.506591 430.4 \nz\n\" style=\"fill:#ff0000;stroke:#0000ff;stroke-linejoin:miter;\"/>\n   </g>\n   <g id=\"patch_33\">\n    <path clip-path=\"url(#pc6feeacbcc)\" d=\"M 313.214545 430.4 \nL 321.9225 430.4 \nL 321.9225 430.4 \nL 313.214545 430.4 \nz\n\" style=\"fill:#ff0000;stroke:#0000ff;stroke-linejoin:miter;\"/>\n   </g>\n   <g id=\"patch_34\">\n    <path clip-path=\"url(#pc6feeacbcc)\" d=\"M 321.9225 430.4 \nL 330.630455 430.4 \nL 330.630455 430.4 \nL 321.9225 430.4 \nz\n\" style=\"fill:#ff0000;stroke:#0000ff;stroke-linejoin:miter;\"/>\n   </g>\n   <g id=\"patch_35\">\n    <path clip-path=\"url(#pc6feeacbcc)\" d=\"M 330.630455 430.4 \nL 339.338409 430.4 \nL 339.338409 430.4 \nL 330.630455 430.4 \nz\n\" style=\"fill:#ff0000;stroke:#0000ff;stroke-linejoin:miter;\"/>\n   </g>\n   <g id=\"patch_36\">\n    <path clip-path=\"url(#pc6feeacbcc)\" d=\"M 339.338409 430.4 \nL 348.046364 430.4 \nL 348.046364 430.4 \nL 339.338409 430.4 \nz\n\" style=\"fill:#ff0000;stroke:#0000ff;stroke-linejoin:miter;\"/>\n   </g>\n   <g id=\"patch_37\">\n    <path clip-path=\"url(#pc6feeacbcc)\" d=\"M 348.046364 430.4 \nL 356.754318 430.4 \nL 356.754318 430.4 \nL 348.046364 430.4 \nz\n\" style=\"fill:#ff0000;stroke:#0000ff;stroke-linejoin:miter;\"/>\n   </g>\n   <g id=\"patch_38\">\n    <path clip-path=\"url(#pc6feeacbcc)\" d=\"M 356.754318 430.4 \nL 365.462273 430.4 \nL 365.462273 430.4 \nL 356.754318 430.4 \nz\n\" style=\"fill:#ff0000;stroke:#0000ff;stroke-linejoin:miter;\"/>\n   </g>\n   <g id=\"patch_39\">\n    <path clip-path=\"url(#pc6feeacbcc)\" d=\"M 365.462273 430.4 \nL 374.170227 430.4 \nL 374.170227 430.4 \nL 365.462273 430.4 \nz\n\" style=\"fill:#ff0000;stroke:#0000ff;stroke-linejoin:miter;\"/>\n   </g>\n   <g id=\"patch_40\">\n    <path clip-path=\"url(#pc6feeacbcc)\" d=\"M 374.170227 430.4 \nL 382.878182 430.4 \nL 382.878182 430.4 \nL 374.170227 430.4 \nz\n\" style=\"fill:#ff0000;stroke:#0000ff;stroke-linejoin:miter;\"/>\n   </g>\n   <g id=\"patch_41\">\n    <path clip-path=\"url(#pc6feeacbcc)\" d=\"M 382.878182 430.4 \nL 391.586136 430.4 \nL 391.586136 430.4 \nL 382.878182 430.4 \nz\n\" style=\"fill:#ff0000;stroke:#0000ff;stroke-linejoin:miter;\"/>\n   </g>\n   <g id=\"patch_42\">\n    <path clip-path=\"url(#pc6feeacbcc)\" d=\"M 391.586136 430.4 \nL 400.294091 430.4 \nL 400.294091 398.648777 \nL 391.586136 398.648777 \nz\n\" style=\"fill:#ff0000;stroke:#0000ff;stroke-linejoin:miter;\"/>\n   </g>\n   <g id=\"matplotlib.axis_1\">\n    <g id=\"xtick_1\">\n     <g id=\"line2d_1\">\n      <defs>\n       <path d=\"M 0 0 \nL 0 3.5 \n\" id=\"m025e4574ab\" style=\"stroke:#000000;stroke-width:0.8;\"/>\n      </defs>\n      <g>\n       <use style=\"stroke:#000000;stroke-width:0.8;\" x=\"51.975909\" xlink:href=\"#m025e4574ab\" y=\"430.4\"/>\n      </g>\n     </g>\n     <g id=\"text_1\">\n      <!-- 0.0 -->\n      <g transform=\"translate(45.614659 443.47875)scale(0.08 -0.08)\">\n       <defs>\n        <path d=\"M 31.78125 66.40625 \nQ 24.171875 66.40625 20.328125 58.90625 \nQ 16.5 51.421875 16.5 36.375 \nQ 16.5 21.390625 20.328125 13.890625 \nQ 24.171875 6.390625 31.78125 6.390625 \nQ 39.453125 6.390625 43.28125 13.890625 \nQ 47.125 21.390625 47.125 36.375 \nQ 47.125 51.421875 43.28125 58.90625 \nQ 39.453125 66.40625 31.78125 66.40625 \nz\nM 31.78125 74.21875 \nQ 44.046875 74.21875 50.515625 64.515625 \nQ 56.984375 54.828125 56.984375 36.375 \nQ 56.984375 17.96875 50.515625 8.265625 \nQ 44.046875 -1.421875 31.78125 -1.421875 \nQ 19.53125 -1.421875 13.0625 8.265625 \nQ 6.59375 17.96875 6.59375 36.375 \nQ 6.59375 54.828125 13.0625 64.515625 \nQ 19.53125 74.21875 31.78125 74.21875 \nz\n\" id=\"DejaVuSans-48\"/>\n        <path d=\"M 10.6875 12.40625 \nL 21 12.40625 \nL 21 0 \nL 10.6875 0 \nz\n\" id=\"DejaVuSans-46\"/>\n       </defs>\n       <use xlink:href=\"#DejaVuSans-48\"/>\n       <use x=\"63.623047\" xlink:href=\"#DejaVuSans-46\"/>\n       <use x=\"95.410156\" xlink:href=\"#DejaVuSans-48\"/>\n      </g>\n     </g>\n    </g>\n    <g id=\"xtick_2\">\n     <g id=\"line2d_2\">\n      <g>\n       <use style=\"stroke:#000000;stroke-width:0.8;\" x=\"121.639545\" xlink:href=\"#m025e4574ab\" y=\"430.4\"/>\n      </g>\n     </g>\n     <g id=\"text_2\">\n      <!-- 0.2 -->\n      <g transform=\"translate(115.278295 443.47875)scale(0.08 -0.08)\">\n       <defs>\n        <path d=\"M 19.1875 8.296875 \nL 53.609375 8.296875 \nL 53.609375 0 \nL 7.328125 0 \nL 7.328125 8.296875 \nQ 12.9375 14.109375 22.625 23.890625 \nQ 32.328125 33.6875 34.8125 36.53125 \nQ 39.546875 41.84375 41.421875 45.53125 \nQ 43.3125 49.21875 43.3125 52.78125 \nQ 43.3125 58.59375 39.234375 62.25 \nQ 35.15625 65.921875 28.609375 65.921875 \nQ 23.96875 65.921875 18.8125 64.3125 \nQ 13.671875 62.703125 7.8125 59.421875 \nL 7.8125 69.390625 \nQ 13.765625 71.78125 18.9375 73 \nQ 24.125 74.21875 28.421875 74.21875 \nQ 39.75 74.21875 46.484375 68.546875 \nQ 53.21875 62.890625 53.21875 53.421875 \nQ 53.21875 48.921875 51.53125 44.890625 \nQ 49.859375 40.875 45.40625 35.40625 \nQ 44.1875 33.984375 37.640625 27.21875 \nQ 31.109375 20.453125 19.1875 8.296875 \nz\n\" id=\"DejaVuSans-50\"/>\n       </defs>\n       <use xlink:href=\"#DejaVuSans-48\"/>\n       <use x=\"63.623047\" xlink:href=\"#DejaVuSans-46\"/>\n       <use x=\"95.410156\" xlink:href=\"#DejaVuSans-50\"/>\n      </g>\n     </g>\n    </g>\n    <g id=\"xtick_3\">\n     <g id=\"line2d_3\">\n      <g>\n       <use style=\"stroke:#000000;stroke-width:0.8;\" x=\"191.303182\" xlink:href=\"#m025e4574ab\" y=\"430.4\"/>\n      </g>\n     </g>\n     <g id=\"text_3\">\n      <!-- 0.4 -->\n      <g transform=\"translate(184.941932 443.47875)scale(0.08 -0.08)\">\n       <defs>\n        <path d=\"M 37.796875 64.3125 \nL 12.890625 25.390625 \nL 37.796875 25.390625 \nz\nM 35.203125 72.90625 \nL 47.609375 72.90625 \nL 47.609375 25.390625 \nL 58.015625 25.390625 \nL 58.015625 17.1875 \nL 47.609375 17.1875 \nL 47.609375 0 \nL 37.796875 0 \nL 37.796875 17.1875 \nL 4.890625 17.1875 \nL 4.890625 26.703125 \nz\n\" id=\"DejaVuSans-52\"/>\n       </defs>\n       <use xlink:href=\"#DejaVuSans-48\"/>\n       <use x=\"63.623047\" xlink:href=\"#DejaVuSans-46\"/>\n       <use x=\"95.410156\" xlink:href=\"#DejaVuSans-52\"/>\n      </g>\n     </g>\n    </g>\n    <g id=\"xtick_4\">\n     <g id=\"line2d_4\">\n      <g>\n       <use style=\"stroke:#000000;stroke-width:0.8;\" x=\"260.966818\" xlink:href=\"#m025e4574ab\" y=\"430.4\"/>\n      </g>\n     </g>\n     <g id=\"text_4\">\n      <!-- 0.6 -->\n      <g transform=\"translate(254.605568 443.47875)scale(0.08 -0.08)\">\n       <defs>\n        <path d=\"M 33.015625 40.375 \nQ 26.375 40.375 22.484375 35.828125 \nQ 18.609375 31.296875 18.609375 23.390625 \nQ 18.609375 15.53125 22.484375 10.953125 \nQ 26.375 6.390625 33.015625 6.390625 \nQ 39.65625 6.390625 43.53125 10.953125 \nQ 47.40625 15.53125 47.40625 23.390625 \nQ 47.40625 31.296875 43.53125 35.828125 \nQ 39.65625 40.375 33.015625 40.375 \nz\nM 52.59375 71.296875 \nL 52.59375 62.3125 \nQ 48.875 64.0625 45.09375 64.984375 \nQ 41.3125 65.921875 37.59375 65.921875 \nQ 27.828125 65.921875 22.671875 59.328125 \nQ 17.53125 52.734375 16.796875 39.40625 \nQ 19.671875 43.65625 24.015625 45.921875 \nQ 28.375 48.1875 33.59375 48.1875 \nQ 44.578125 48.1875 50.953125 41.515625 \nQ 57.328125 34.859375 57.328125 23.390625 \nQ 57.328125 12.15625 50.6875 5.359375 \nQ 44.046875 -1.421875 33.015625 -1.421875 \nQ 20.359375 -1.421875 13.671875 8.265625 \nQ 6.984375 17.96875 6.984375 36.375 \nQ 6.984375 53.65625 15.1875 63.9375 \nQ 23.390625 74.21875 37.203125 74.21875 \nQ 40.921875 74.21875 44.703125 73.484375 \nQ 48.484375 72.75 52.59375 71.296875 \nz\n\" id=\"DejaVuSans-54\"/>\n       </defs>\n       <use xlink:href=\"#DejaVuSans-48\"/>\n       <use x=\"63.623047\" xlink:href=\"#DejaVuSans-46\"/>\n       <use x=\"95.410156\" xlink:href=\"#DejaVuSans-54\"/>\n      </g>\n     </g>\n    </g>\n    <g id=\"xtick_5\">\n     <g id=\"line2d_5\">\n      <g>\n       <use style=\"stroke:#000000;stroke-width:0.8;\" x=\"330.630455\" xlink:href=\"#m025e4574ab\" y=\"430.4\"/>\n      </g>\n     </g>\n     <g id=\"text_5\">\n      <!-- 0.8 -->\n      <g transform=\"translate(324.269205 443.47875)scale(0.08 -0.08)\">\n       <defs>\n        <path d=\"M 31.78125 34.625 \nQ 24.75 34.625 20.71875 30.859375 \nQ 16.703125 27.09375 16.703125 20.515625 \nQ 16.703125 13.921875 20.71875 10.15625 \nQ 24.75 6.390625 31.78125 6.390625 \nQ 38.8125 6.390625 42.859375 10.171875 \nQ 46.921875 13.96875 46.921875 20.515625 \nQ 46.921875 27.09375 42.890625 30.859375 \nQ 38.875 34.625 31.78125 34.625 \nz\nM 21.921875 38.8125 \nQ 15.578125 40.375 12.03125 44.71875 \nQ 8.5 49.078125 8.5 55.328125 \nQ 8.5 64.0625 14.71875 69.140625 \nQ 20.953125 74.21875 31.78125 74.21875 \nQ 42.671875 74.21875 48.875 69.140625 \nQ 55.078125 64.0625 55.078125 55.328125 \nQ 55.078125 49.078125 51.53125 44.71875 \nQ 48 40.375 41.703125 38.8125 \nQ 48.828125 37.15625 52.796875 32.3125 \nQ 56.78125 27.484375 56.78125 20.515625 \nQ 56.78125 9.90625 50.3125 4.234375 \nQ 43.84375 -1.421875 31.78125 -1.421875 \nQ 19.734375 -1.421875 13.25 4.234375 \nQ 6.78125 9.90625 6.78125 20.515625 \nQ 6.78125 27.484375 10.78125 32.3125 \nQ 14.796875 37.15625 21.921875 38.8125 \nz\nM 18.3125 54.390625 \nQ 18.3125 48.734375 21.84375 45.5625 \nQ 25.390625 42.390625 31.78125 42.390625 \nQ 38.140625 42.390625 41.71875 45.5625 \nQ 45.3125 48.734375 45.3125 54.390625 \nQ 45.3125 60.0625 41.71875 63.234375 \nQ 38.140625 66.40625 31.78125 66.40625 \nQ 25.390625 66.40625 21.84375 63.234375 \nQ 18.3125 60.0625 18.3125 54.390625 \nz\n\" id=\"DejaVuSans-56\"/>\n       </defs>\n       <use xlink:href=\"#DejaVuSans-48\"/>\n       <use x=\"63.623047\" xlink:href=\"#DejaVuSans-46\"/>\n       <use x=\"95.410156\" xlink:href=\"#DejaVuSans-56\"/>\n      </g>\n     </g>\n    </g>\n    <g id=\"xtick_6\">\n     <g id=\"line2d_6\">\n      <g>\n       <use style=\"stroke:#000000;stroke-width:0.8;\" x=\"400.294091\" xlink:href=\"#m025e4574ab\" y=\"430.4\"/>\n      </g>\n     </g>\n     <g id=\"text_6\">\n      <!-- 1.0 -->\n      <g transform=\"translate(393.932841 443.47875)scale(0.08 -0.08)\">\n       <defs>\n        <path d=\"M 12.40625 8.296875 \nL 28.515625 8.296875 \nL 28.515625 63.921875 \nL 10.984375 60.40625 \nL 10.984375 69.390625 \nL 28.421875 72.90625 \nL 38.28125 72.90625 \nL 38.28125 8.296875 \nL 54.390625 8.296875 \nL 54.390625 0 \nL 12.40625 0 \nz\n\" id=\"DejaVuSans-49\"/>\n       </defs>\n       <use xlink:href=\"#DejaVuSans-49\"/>\n       <use x=\"63.623047\" xlink:href=\"#DejaVuSans-46\"/>\n       <use x=\"95.410156\" xlink:href=\"#DejaVuSans-48\"/>\n      </g>\n     </g>\n    </g>\n   </g>\n   <g id=\"matplotlib.axis_2\">\n    <g id=\"ytick_1\">\n     <g id=\"line2d_7\">\n      <defs>\n       <path d=\"M 0 0 \nL -3.5 0 \n\" id=\"mb7b985b146\" style=\"stroke:#000000;stroke-width:0.8;\"/>\n      </defs>\n      <g>\n       <use style=\"stroke:#000000;stroke-width:0.8;\" x=\"34.56\" xlink:href=\"#mb7b985b146\" y=\"430.4\"/>\n      </g>\n     </g>\n     <g id=\"text_7\">\n      <!-- 0 -->\n      <g transform=\"translate(22.47 433.439375)scale(0.08 -0.08)\">\n       <use xlink:href=\"#DejaVuSans-48\"/>\n      </g>\n     </g>\n    </g>\n    <g id=\"ytick_2\">\n     <g id=\"line2d_8\">\n      <g>\n       <use style=\"stroke:#000000;stroke-width:0.8;\" x=\"34.56\" xlink:href=\"#mb7b985b146\" y=\"378.518916\"/>\n      </g>\n     </g>\n     <g id=\"text_8\">\n      <!-- 250 -->\n      <g transform=\"translate(12.29 381.558291)scale(0.08 -0.08)\">\n       <defs>\n        <path d=\"M 10.796875 72.90625 \nL 49.515625 72.90625 \nL 49.515625 64.59375 \nL 19.828125 64.59375 \nL 19.828125 46.734375 \nQ 21.96875 47.46875 24.109375 47.828125 \nQ 26.265625 48.1875 28.421875 48.1875 \nQ 40.625 48.1875 47.75 41.5 \nQ 54.890625 34.8125 54.890625 23.390625 \nQ 54.890625 11.625 47.5625 5.09375 \nQ 40.234375 -1.421875 26.90625 -1.421875 \nQ 22.3125 -1.421875 17.546875 -0.640625 \nQ 12.796875 0.140625 7.71875 1.703125 \nL 7.71875 11.625 \nQ 12.109375 9.234375 16.796875 8.0625 \nQ 21.484375 6.890625 26.703125 6.890625 \nQ 35.15625 6.890625 40.078125 11.328125 \nQ 45.015625 15.765625 45.015625 23.390625 \nQ 45.015625 31 40.078125 35.4375 \nQ 35.15625 39.890625 26.703125 39.890625 \nQ 22.75 39.890625 18.8125 39.015625 \nQ 14.890625 38.140625 10.796875 36.28125 \nz\n\" id=\"DejaVuSans-53\"/>\n       </defs>\n       <use xlink:href=\"#DejaVuSans-50\"/>\n       <use x=\"63.623047\" xlink:href=\"#DejaVuSans-53\"/>\n       <use x=\"127.246094\" xlink:href=\"#DejaVuSans-48\"/>\n      </g>\n     </g>\n    </g>\n    <g id=\"ytick_3\">\n     <g id=\"line2d_9\">\n      <g>\n       <use style=\"stroke:#000000;stroke-width:0.8;\" x=\"34.56\" xlink:href=\"#mb7b985b146\" y=\"326.637832\"/>\n      </g>\n     </g>\n     <g id=\"text_9\">\n      <!-- 500 -->\n      <g transform=\"translate(12.29 329.677207)scale(0.08 -0.08)\">\n       <use xlink:href=\"#DejaVuSans-53\"/>\n       <use x=\"63.623047\" xlink:href=\"#DejaVuSans-48\"/>\n       <use x=\"127.246094\" xlink:href=\"#DejaVuSans-48\"/>\n      </g>\n     </g>\n    </g>\n    <g id=\"ytick_4\">\n     <g id=\"line2d_10\">\n      <g>\n       <use style=\"stroke:#000000;stroke-width:0.8;\" x=\"34.56\" xlink:href=\"#mb7b985b146\" y=\"274.756748\"/>\n      </g>\n     </g>\n     <g id=\"text_10\">\n      <!-- 750 -->\n      <g transform=\"translate(12.29 277.796123)scale(0.08 -0.08)\">\n       <defs>\n        <path d=\"M 8.203125 72.90625 \nL 55.078125 72.90625 \nL 55.078125 68.703125 \nL 28.609375 0 \nL 18.3125 0 \nL 43.21875 64.59375 \nL 8.203125 64.59375 \nz\n\" id=\"DejaVuSans-55\"/>\n       </defs>\n       <use xlink:href=\"#DejaVuSans-55\"/>\n       <use x=\"63.623047\" xlink:href=\"#DejaVuSans-53\"/>\n       <use x=\"127.246094\" xlink:href=\"#DejaVuSans-48\"/>\n      </g>\n     </g>\n    </g>\n    <g id=\"ytick_5\">\n     <g id=\"line2d_11\">\n      <g>\n       <use style=\"stroke:#000000;stroke-width:0.8;\" x=\"34.56\" xlink:href=\"#mb7b985b146\" y=\"222.875664\"/>\n      </g>\n     </g>\n     <g id=\"text_11\">\n      <!-- 1000 -->\n      <g transform=\"translate(7.2 225.915039)scale(0.08 -0.08)\">\n       <use xlink:href=\"#DejaVuSans-49\"/>\n       <use x=\"63.623047\" xlink:href=\"#DejaVuSans-48\"/>\n       <use x=\"127.246094\" xlink:href=\"#DejaVuSans-48\"/>\n       <use x=\"190.869141\" xlink:href=\"#DejaVuSans-48\"/>\n      </g>\n     </g>\n    </g>\n    <g id=\"ytick_6\">\n     <g id=\"line2d_12\">\n      <g>\n       <use style=\"stroke:#000000;stroke-width:0.8;\" x=\"34.56\" xlink:href=\"#mb7b985b146\" y=\"170.99458\"/>\n      </g>\n     </g>\n     <g id=\"text_12\">\n      <!-- 1250 -->\n      <g transform=\"translate(7.2 174.033955)scale(0.08 -0.08)\">\n       <use xlink:href=\"#DejaVuSans-49\"/>\n       <use x=\"63.623047\" xlink:href=\"#DejaVuSans-50\"/>\n       <use x=\"127.246094\" xlink:href=\"#DejaVuSans-53\"/>\n       <use x=\"190.869141\" xlink:href=\"#DejaVuSans-48\"/>\n      </g>\n     </g>\n    </g>\n    <g id=\"ytick_7\">\n     <g id=\"line2d_13\">\n      <g>\n       <use style=\"stroke:#000000;stroke-width:0.8;\" x=\"34.56\" xlink:href=\"#mb7b985b146\" y=\"119.113496\"/>\n      </g>\n     </g>\n     <g id=\"text_13\">\n      <!-- 1500 -->\n      <g transform=\"translate(7.2 122.152871)scale(0.08 -0.08)\">\n       <use xlink:href=\"#DejaVuSans-49\"/>\n       <use x=\"63.623047\" xlink:href=\"#DejaVuSans-53\"/>\n       <use x=\"127.246094\" xlink:href=\"#DejaVuSans-48\"/>\n       <use x=\"190.869141\" xlink:href=\"#DejaVuSans-48\"/>\n      </g>\n     </g>\n    </g>\n    <g id=\"ytick_8\">\n     <g id=\"line2d_14\">\n      <g>\n       <use style=\"stroke:#000000;stroke-width:0.8;\" x=\"34.56\" xlink:href=\"#mb7b985b146\" y=\"67.232413\"/>\n      </g>\n     </g>\n     <g id=\"text_14\">\n      <!-- 1750 -->\n      <g transform=\"translate(7.2 70.271788)scale(0.08 -0.08)\">\n       <use xlink:href=\"#DejaVuSans-49\"/>\n       <use x=\"63.623047\" xlink:href=\"#DejaVuSans-55\"/>\n       <use x=\"127.246094\" xlink:href=\"#DejaVuSans-53\"/>\n       <use x=\"190.869141\" xlink:href=\"#DejaVuSans-48\"/>\n      </g>\n     </g>\n    </g>\n   </g>\n   <g id=\"patch_43\">\n    <path d=\"M 34.56 430.4 \nL 34.56 36 \n\" style=\"fill:none;stroke:#000000;stroke-linecap:square;stroke-linejoin:miter;stroke-width:0.8;\"/>\n   </g>\n   <g id=\"patch_44\">\n    <path d=\"M 417.71 430.4 \nL 417.71 36 \n\" style=\"fill:none;stroke:#000000;stroke-linecap:square;stroke-linejoin:miter;stroke-width:0.8;\"/>\n   </g>\n   <g id=\"patch_45\">\n    <path d=\"M 34.56 430.4 \nL 417.71 430.4 \n\" style=\"fill:none;stroke:#000000;stroke-linecap:square;stroke-linejoin:miter;stroke-width:0.8;\"/>\n   </g>\n   <g id=\"patch_46\">\n    <path d=\"M 34.56 36 \nL 417.71 36 \n\" style=\"fill:none;stroke:#000000;stroke-linecap:square;stroke-linejoin:miter;stroke-width:0.8;\"/>\n   </g>\n  </g>\n  <g id=\"text_15\">\n   <!-- Features Univariate Plots -->\n   <g transform=\"translate(143.028594 17.837812)scale(0.14 -0.14)\">\n    <defs>\n     <path d=\"M 9.8125 72.90625 \nL 51.703125 72.90625 \nL 51.703125 64.59375 \nL 19.671875 64.59375 \nL 19.671875 43.109375 \nL 48.578125 43.109375 \nL 48.578125 34.8125 \nL 19.671875 34.8125 \nL 19.671875 0 \nL 9.8125 0 \nz\n\" id=\"DejaVuSans-70\"/>\n     <path d=\"M 56.203125 29.59375 \nL 56.203125 25.203125 \nL 14.890625 25.203125 \nQ 15.484375 15.921875 20.484375 11.0625 \nQ 25.484375 6.203125 34.421875 6.203125 \nQ 39.59375 6.203125 44.453125 7.46875 \nQ 49.3125 8.734375 54.109375 11.28125 \nL 54.109375 2.78125 \nQ 49.265625 0.734375 44.1875 -0.34375 \nQ 39.109375 -1.421875 33.890625 -1.421875 \nQ 20.796875 -1.421875 13.15625 6.1875 \nQ 5.515625 13.8125 5.515625 26.8125 \nQ 5.515625 40.234375 12.765625 48.109375 \nQ 20.015625 56 32.328125 56 \nQ 43.359375 56 49.78125 48.890625 \nQ 56.203125 41.796875 56.203125 29.59375 \nz\nM 47.21875 32.234375 \nQ 47.125 39.59375 43.09375 43.984375 \nQ 39.0625 48.390625 32.421875 48.390625 \nQ 24.90625 48.390625 20.390625 44.140625 \nQ 15.875 39.890625 15.1875 32.171875 \nz\n\" id=\"DejaVuSans-101\"/>\n     <path d=\"M 34.28125 27.484375 \nQ 23.390625 27.484375 19.1875 25 \nQ 14.984375 22.515625 14.984375 16.5 \nQ 14.984375 11.71875 18.140625 8.90625 \nQ 21.296875 6.109375 26.703125 6.109375 \nQ 34.1875 6.109375 38.703125 11.40625 \nQ 43.21875 16.703125 43.21875 25.484375 \nL 43.21875 27.484375 \nz\nM 52.203125 31.203125 \nL 52.203125 0 \nL 43.21875 0 \nL 43.21875 8.296875 \nQ 40.140625 3.328125 35.546875 0.953125 \nQ 30.953125 -1.421875 24.3125 -1.421875 \nQ 15.921875 -1.421875 10.953125 3.296875 \nQ 6 8.015625 6 15.921875 \nQ 6 25.140625 12.171875 29.828125 \nQ 18.359375 34.515625 30.609375 34.515625 \nL 43.21875 34.515625 \nL 43.21875 35.40625 \nQ 43.21875 41.609375 39.140625 45 \nQ 35.0625 48.390625 27.6875 48.390625 \nQ 23 48.390625 18.546875 47.265625 \nQ 14.109375 46.140625 10.015625 43.890625 \nL 10.015625 52.203125 \nQ 14.9375 54.109375 19.578125 55.046875 \nQ 24.21875 56 28.609375 56 \nQ 40.484375 56 46.34375 49.84375 \nQ 52.203125 43.703125 52.203125 31.203125 \nz\n\" id=\"DejaVuSans-97\"/>\n     <path d=\"M 18.3125 70.21875 \nL 18.3125 54.6875 \nL 36.8125 54.6875 \nL 36.8125 47.703125 \nL 18.3125 47.703125 \nL 18.3125 18.015625 \nQ 18.3125 11.328125 20.140625 9.421875 \nQ 21.96875 7.515625 27.59375 7.515625 \nL 36.8125 7.515625 \nL 36.8125 0 \nL 27.59375 0 \nQ 17.1875 0 13.234375 3.875 \nQ 9.28125 7.765625 9.28125 18.015625 \nL 9.28125 47.703125 \nL 2.6875 47.703125 \nL 2.6875 54.6875 \nL 9.28125 54.6875 \nL 9.28125 70.21875 \nz\n\" id=\"DejaVuSans-116\"/>\n     <path d=\"M 8.5 21.578125 \nL 8.5 54.6875 \nL 17.484375 54.6875 \nL 17.484375 21.921875 \nQ 17.484375 14.15625 20.5 10.265625 \nQ 23.53125 6.390625 29.59375 6.390625 \nQ 36.859375 6.390625 41.078125 11.03125 \nQ 45.3125 15.671875 45.3125 23.6875 \nL 45.3125 54.6875 \nL 54.296875 54.6875 \nL 54.296875 0 \nL 45.3125 0 \nL 45.3125 8.40625 \nQ 42.046875 3.421875 37.71875 1 \nQ 33.40625 -1.421875 27.6875 -1.421875 \nQ 18.265625 -1.421875 13.375 4.4375 \nQ 8.5 10.296875 8.5 21.578125 \nz\nM 31.109375 56 \nz\n\" id=\"DejaVuSans-117\"/>\n     <path d=\"M 41.109375 46.296875 \nQ 39.59375 47.171875 37.8125 47.578125 \nQ 36.03125 48 33.890625 48 \nQ 26.265625 48 22.1875 43.046875 \nQ 18.109375 38.09375 18.109375 28.8125 \nL 18.109375 0 \nL 9.078125 0 \nL 9.078125 54.6875 \nL 18.109375 54.6875 \nL 18.109375 46.1875 \nQ 20.953125 51.171875 25.484375 53.578125 \nQ 30.03125 56 36.53125 56 \nQ 37.453125 56 38.578125 55.875 \nQ 39.703125 55.765625 41.0625 55.515625 \nz\n\" id=\"DejaVuSans-114\"/>\n     <path d=\"M 44.28125 53.078125 \nL 44.28125 44.578125 \nQ 40.484375 46.53125 36.375 47.5 \nQ 32.28125 48.484375 27.875 48.484375 \nQ 21.1875 48.484375 17.84375 46.4375 \nQ 14.5 44.390625 14.5 40.28125 \nQ 14.5 37.15625 16.890625 35.375 \nQ 19.28125 33.59375 26.515625 31.984375 \nL 29.59375 31.296875 \nQ 39.15625 29.25 43.1875 25.515625 \nQ 47.21875 21.78125 47.21875 15.09375 \nQ 47.21875 7.46875 41.1875 3.015625 \nQ 35.15625 -1.421875 24.609375 -1.421875 \nQ 20.21875 -1.421875 15.453125 -0.5625 \nQ 10.6875 0.296875 5.421875 2 \nL 5.421875 11.28125 \nQ 10.40625 8.6875 15.234375 7.390625 \nQ 20.0625 6.109375 24.8125 6.109375 \nQ 31.15625 6.109375 34.5625 8.28125 \nQ 37.984375 10.453125 37.984375 14.40625 \nQ 37.984375 18.0625 35.515625 20.015625 \nQ 33.0625 21.96875 24.703125 23.78125 \nL 21.578125 24.515625 \nQ 13.234375 26.265625 9.515625 29.90625 \nQ 5.8125 33.546875 5.8125 39.890625 \nQ 5.8125 47.609375 11.28125 51.796875 \nQ 16.75 56 26.8125 56 \nQ 31.78125 56 36.171875 55.265625 \nQ 40.578125 54.546875 44.28125 53.078125 \nz\n\" id=\"DejaVuSans-115\"/>\n     <path id=\"DejaVuSans-32\"/>\n     <path d=\"M 8.6875 72.90625 \nL 18.609375 72.90625 \nL 18.609375 28.609375 \nQ 18.609375 16.890625 22.84375 11.734375 \nQ 27.09375 6.59375 36.625 6.59375 \nQ 46.09375 6.59375 50.34375 11.734375 \nQ 54.59375 16.890625 54.59375 28.609375 \nL 54.59375 72.90625 \nL 64.5 72.90625 \nL 64.5 27.390625 \nQ 64.5 13.140625 57.4375 5.859375 \nQ 50.390625 -1.421875 36.625 -1.421875 \nQ 22.796875 -1.421875 15.734375 5.859375 \nQ 8.6875 13.140625 8.6875 27.390625 \nz\n\" id=\"DejaVuSans-85\"/>\n     <path d=\"M 54.890625 33.015625 \nL 54.890625 0 \nL 45.90625 0 \nL 45.90625 32.71875 \nQ 45.90625 40.484375 42.875 44.328125 \nQ 39.84375 48.1875 33.796875 48.1875 \nQ 26.515625 48.1875 22.3125 43.546875 \nQ 18.109375 38.921875 18.109375 30.90625 \nL 18.109375 0 \nL 9.078125 0 \nL 9.078125 54.6875 \nL 18.109375 54.6875 \nL 18.109375 46.1875 \nQ 21.34375 51.125 25.703125 53.5625 \nQ 30.078125 56 35.796875 56 \nQ 45.21875 56 50.046875 50.171875 \nQ 54.890625 44.34375 54.890625 33.015625 \nz\n\" id=\"DejaVuSans-110\"/>\n     <path d=\"M 9.421875 54.6875 \nL 18.40625 54.6875 \nL 18.40625 0 \nL 9.421875 0 \nz\nM 9.421875 75.984375 \nL 18.40625 75.984375 \nL 18.40625 64.59375 \nL 9.421875 64.59375 \nz\n\" id=\"DejaVuSans-105\"/>\n     <path d=\"M 2.984375 54.6875 \nL 12.5 54.6875 \nL 29.59375 8.796875 \nL 46.6875 54.6875 \nL 56.203125 54.6875 \nL 35.6875 0 \nL 23.484375 0 \nz\n\" id=\"DejaVuSans-118\"/>\n     <path d=\"M 19.671875 64.796875 \nL 19.671875 37.40625 \nL 32.078125 37.40625 \nQ 38.96875 37.40625 42.71875 40.96875 \nQ 46.484375 44.53125 46.484375 51.125 \nQ 46.484375 57.671875 42.71875 61.234375 \nQ 38.96875 64.796875 32.078125 64.796875 \nz\nM 9.8125 72.90625 \nL 32.078125 72.90625 \nQ 44.34375 72.90625 50.609375 67.359375 \nQ 56.890625 61.8125 56.890625 51.125 \nQ 56.890625 40.328125 50.609375 34.8125 \nQ 44.34375 29.296875 32.078125 29.296875 \nL 19.671875 29.296875 \nL 19.671875 0 \nL 9.8125 0 \nz\n\" id=\"DejaVuSans-80\"/>\n     <path d=\"M 9.421875 75.984375 \nL 18.40625 75.984375 \nL 18.40625 0 \nL 9.421875 0 \nz\n\" id=\"DejaVuSans-108\"/>\n     <path d=\"M 30.609375 48.390625 \nQ 23.390625 48.390625 19.1875 42.75 \nQ 14.984375 37.109375 14.984375 27.296875 \nQ 14.984375 17.484375 19.15625 11.84375 \nQ 23.34375 6.203125 30.609375 6.203125 \nQ 37.796875 6.203125 41.984375 11.859375 \nQ 46.1875 17.53125 46.1875 27.296875 \nQ 46.1875 37.015625 41.984375 42.703125 \nQ 37.796875 48.390625 30.609375 48.390625 \nz\nM 30.609375 56 \nQ 42.328125 56 49.015625 48.375 \nQ 55.71875 40.765625 55.71875 27.296875 \nQ 55.71875 13.875 49.015625 6.21875 \nQ 42.328125 -1.421875 30.609375 -1.421875 \nQ 18.84375 -1.421875 12.171875 6.21875 \nQ 5.515625 13.875 5.515625 27.296875 \nQ 5.515625 40.765625 12.171875 48.375 \nQ 18.84375 56 30.609375 56 \nz\n\" id=\"DejaVuSans-111\"/>\n    </defs>\n    <use xlink:href=\"#DejaVuSans-70\"/>\n    <use x=\"52.019531\" xlink:href=\"#DejaVuSans-101\"/>\n    <use x=\"113.542969\" xlink:href=\"#DejaVuSans-97\"/>\n    <use x=\"174.822266\" xlink:href=\"#DejaVuSans-116\"/>\n    <use x=\"214.03125\" xlink:href=\"#DejaVuSans-117\"/>\n    <use x=\"277.410156\" xlink:href=\"#DejaVuSans-114\"/>\n    <use x=\"316.273438\" xlink:href=\"#DejaVuSans-101\"/>\n    <use x=\"377.796875\" xlink:href=\"#DejaVuSans-115\"/>\n    <use x=\"429.896484\" xlink:href=\"#DejaVuSans-32\"/>\n    <use x=\"461.683594\" xlink:href=\"#DejaVuSans-85\"/>\n    <use x=\"534.876953\" xlink:href=\"#DejaVuSans-110\"/>\n    <use x=\"598.255859\" xlink:href=\"#DejaVuSans-105\"/>\n    <use x=\"626.039062\" xlink:href=\"#DejaVuSans-118\"/>\n    <use x=\"685.21875\" xlink:href=\"#DejaVuSans-97\"/>\n    <use x=\"746.498047\" xlink:href=\"#DejaVuSans-114\"/>\n    <use x=\"787.611328\" xlink:href=\"#DejaVuSans-105\"/>\n    <use x=\"815.394531\" xlink:href=\"#DejaVuSans-97\"/>\n    <use x=\"876.673828\" xlink:href=\"#DejaVuSans-116\"/>\n    <use x=\"915.882812\" xlink:href=\"#DejaVuSans-101\"/>\n    <use x=\"977.40625\" xlink:href=\"#DejaVuSans-32\"/>\n    <use x=\"1009.193359\" xlink:href=\"#DejaVuSans-80\"/>\n    <use x=\"1069.496094\" xlink:href=\"#DejaVuSans-108\"/>\n    <use x=\"1097.279297\" xlink:href=\"#DejaVuSans-111\"/>\n    <use x=\"1158.460938\" xlink:href=\"#DejaVuSans-116\"/>\n    <use x=\"1197.669922\" xlink:href=\"#DejaVuSans-115\"/>\n   </g>\n  </g>\n </g>\n <defs>\n  <clipPath id=\"pc6feeacbcc\">\n   <rect height=\"394.4\" width=\"383.15\" x=\"34.56\" y=\"36\"/>\n  </clipPath>\n </defs>\n</svg>\n",
      "image/png": "[encoded data removed]"
     },
     "metadata": {
      "needs_background": "light"
     }
    }
   ],
   "source": [
    "eda_plots(df,target,'Features Univariate Plots',(5,5))"
   ]
  },
  {
   "source": [
    "# Training of classficiation model"
   ],
   "cell_type": "markdown",
   "metadata": {}
  },
  {
   "cell_type": "code",
   "execution_count": 28,
   "metadata": {},
   "outputs": [],
   "source": [
    "models_dict = {\n",
    "    'Logistic Regression':LogisticRegression(),\n",
    "    'Naive Bayes':GaussianNB(),\n",
    "    'Decision Trees':DecisionTreeClassifier(),\n",
    "    'SVM linear': svm.SVC(kernel='linear'),\n",
    "    'SVM rbf': svm.SVC(kernel='rbf'),\n",
    "    'Random Forest': RandomForestClassifier(n_estimators = 100),\n",
    "    'XGBoost': xgb.XGBClassifier(use_label_encoder=False)\n",
    "}\n",
    "\n",
    "performance_data = {}"
   ]
  },
  {
   "cell_type": "code",
   "execution_count": 29,
   "metadata": {},
   "outputs": [
    {
     "output_type": "stream",
     "name": "stdout",
     "text": [
      "Logistic Regression\n",
      "--------------------------------------------------\n",
      "Accuracy Score for Logistic Regression is 0.93209\n",
      "Precision Score for Logistic Regression is 0.66667\n",
      "Recall Score for Logistic Regression is 0.26087\n",
      "F1 Score for Logistic Regression is 0.37500\n",
      "\n",
      "Naive Bayes\n",
      "--------------------------------------------------\n",
      "Accuracy Score for Naive Bayes is 0.92530\n",
      "Precision Score for Naive Bayes is 0.52500\n",
      "Recall Score for Naive Bayes is 0.45652\n",
      "F1 Score for Naive Bayes is 0.48837\n",
      "\n",
      "Decision Trees\n",
      "--------------------------------------------------\n",
      "Accuracy Score for Decision Trees is 0.89474\n",
      "Precision Score for Decision Trees is 0.34615\n",
      "Recall Score for Decision Trees is 0.39130\n",
      "F1 Score for Decision Trees is 0.36735\n",
      "\n",
      "SVM linear\n",
      "--------------------------------------------------\n",
      "Accuracy Score for SVM linear is 0.92869\n",
      "Precision Score for SVM linear is 0.70000\n",
      "Recall Score for SVM linear is 0.15217\n",
      "F1 Score for SVM linear is 0.25000\n",
      "\n",
      "SVM rbf\n",
      "--------------------------------------------------\n",
      "Accuracy Score for SVM rbf is 0.92530\n",
      "Precision Score for SVM rbf is 0.54545\n",
      "Recall Score for SVM rbf is 0.26087\n",
      "F1 Score for SVM rbf is 0.35294\n",
      "\n",
      "Random Forest\n",
      "--------------------------------------------------\n",
      "Accuracy Score for Random Forest is 0.92869\n",
      "Precision Score for Random Forest is 0.58333\n",
      "Recall Score for Random Forest is 0.30435\n",
      "F1 Score for Random Forest is 0.40000\n",
      "\n",
      "[02:35:39] WARNING: /Users/travis/build/dmlc/xgboost/src/learner.cc:1061: Starting in XGBoost 1.3.0, the default evaluation metric used with the objective 'binary:logistic' was changed from 'error' to 'logloss'. Explicitly set eval_metric if you'd like to restore the old behavior.\n",
      "XGBoost\n",
      "--------------------------------------------------\n",
      "Accuracy Score for XGBoost is 0.92020\n",
      "Precision Score for XGBoost is 0.48485\n",
      "Recall Score for XGBoost is 0.34783\n",
      "F1 Score for XGBoost is 0.40506\n",
      "\n"
     ]
    }
   ],
   "source": [
    "# Creating our independent and dependent variables df\n",
    "x = df[['Length', 'Average Loglikelihood', 'Num Verbs', 'Num Discourse Relations', 'Relevance score']]\n",
    "y = df['Thoughtful?']\n",
    "\n",
    "# Perform train test split\n",
    "X_train, X_test, y_train, y_test = train_test_split(x, y, test_size=0.3, random_state=15) \n",
    "# X_train.shape, X_test.shape, y_train.shape, y_test.shape\n",
    "\n",
    "model_acc_score = [] # store all the model acc scores \n",
    "performance_data = {\n",
    "    'accuracy':[],\n",
    "    'precision':[],\n",
    "    'recall':[],\n",
    "    'f1':[]\n",
    "} # store acc, precision, recall, f1 score \n",
    "\n",
    "# Training with differnent models\n",
    "for model_name in models_dict:\n",
    "    m = models_dict[model_name]\n",
    "    \n",
    "    m.fit(X_train, y_train)\n",
    "    predictions = m.predict(X_test)\n",
    "\n",
    "    acc = accuracy_score(y_test,predictions)  # always true label first, then your predicted labels!\n",
    "    model_acc_score.append((model_name, acc))\n",
    "\n",
    "    precision = precision_score(y_test,predictions) \n",
    "    recall = recall_score(y_test,predictions) \n",
    "    f1 = f1_score(y_test,predictions)\n",
    "\n",
    "    # adding into the performance data dict\n",
    "    performance_data['accuracy'].append(acc)\n",
    "    performance_data['precision'].append(precision)\n",
    "    performance_data['recall'].append(recall)\n",
    "    performance_data['f1'].append(f1)\n",
    "\n",
    "    print(model_name)\n",
    "    print('-'*50)\n",
    "    print('Accuracy Score for {} is {:.5f}'.format(model_name,acc))\n",
    "    print('Precision Score for {} is {:.5f}'.format(model_name,precision))\n",
    "    print('Recall Score for {} is {:.5f}'.format(model_name,recall))\n",
    "    print('F1 Score for {} is {:.5f}'.format(model_name,f1))\n",
    "    print()"
   ]
  },
  {
   "source": [
    "# Stratified K-Fold Sampling"
   ],
   "cell_type": "markdown",
   "metadata": {}
  },
  {
   "cell_type": "code",
   "execution_count": 30,
   "metadata": {},
   "outputs": [],
   "source": [
    "skf = StratifiedKFold(n_splits=10)\n",
    "target = df['Thoughtful?']"
   ]
  },
  {
   "cell_type": "code",
   "execution_count": 31,
   "metadata": {},
   "outputs": [
    {
     "output_type": "stream",
     "name": "stdout",
     "text": [
      "Fold 1 Class Ratio: 0.08121827411167512\nFold 2 Class Ratio: 0.08121827411167512\nFold 3 Class Ratio: 0.08121827411167512\nFold 4 Class Ratio: 0.07653061224489796\nFold 5 Class Ratio: 0.07653061224489796\nFold 6 Class Ratio: 0.07653061224489796\nFold 7 Class Ratio: 0.07653061224489796\nFold 8 Class Ratio: 0.07653061224489796\nFold 9 Class Ratio: 0.07653061224489796\nFold 10 Class Ratio: 0.07653061224489796\n"
     ]
    }
   ],
   "source": [
    "fold_no = 1\n",
    "for train_index, test_index in skf.split(df, target):\n",
    "    train = df.loc[train_index,:]\n",
    "    test = df.loc[test_index,:]\n",
    "    print('Fold',str(fold_no),\n",
    "          'Class Ratio:',\n",
    "          sum(test['Thoughtful?'])/len(test['Thoughtful?']))\n",
    "    fold_no += 1"
   ]
  },
  {
   "cell_type": "code",
   "execution_count": 32,
   "metadata": {},
   "outputs": [
    {
     "output_type": "stream",
     "name": "stdout",
     "text": [
      "Fold 1 Accuracy: 0.9289340101522843\n",
      "Fold 2 Accuracy: 0.9137055837563451\n",
      "Fold 3 Accuracy: 0.9289340101522843\n",
      "Fold 4 Accuracy: 0.9489795918367347\n",
      "Fold 5 Accuracy: 0.9744897959183674\n",
      "Fold 6 Accuracy: 0.9438775510204082\n",
      "Fold 7 Accuracy: 0.9132653061224489\n",
      "Fold 8 Accuracy: 0.9183673469387755\n",
      "Fold 9 Accuracy: 0.9285714285714286\n",
      "Fold 10 Accuracy: 0.9336734693877551\n"
     ]
    }
   ],
   "source": [
    "skf = StratifiedKFold(n_splits=10)\n",
    "\n",
    "X = ['Length', 'Average Loglikelihood', 'Num Verbs', 'Num Discourse Relations', 'Relevance score']\n",
    "y = ['Thoughtful?']\n",
    "\n",
    "model = LogisticRegression()\n",
    "best_acc = 0\n",
    "best_train_set = []\n",
    "best_test_set = []\n",
    "\n",
    "fold_no = 1\n",
    "for train_index, test_index in skf.split(df, target):\n",
    "    train = df.loc[train_index,:]\n",
    "    test = df.loc[test_index,:]\n",
    "    \n",
    "    X_train = train[X]\n",
    "    y_train = train[y]\n",
    "    X_test = test[X]\n",
    "    y_test = test[y]\n",
    "    model.fit(X_train, y_train)\n",
    "    predictions = model.predict(X_test)\n",
    "    if accuracy_score(y_test,predictions) > best_acc:\n",
    "        best_acc = accuracy_score(y_test,predictions)\n",
    "        best_train_set = train\n",
    "        best_test_set = test\n",
    "    print('Fold', str(fold_no), 'Accuracy:', accuracy_score(y_test,predictions))\n",
    "\n",
    "    fold_no += 1"
   ]
  },
  {
   "source": [
    "## Cross Validation"
   ],
   "cell_type": "markdown",
   "metadata": {}
  },
  {
   "cell_type": "code",
   "execution_count": 33,
   "metadata": {},
   "outputs": [],
   "source": [
    "X = df[['Length', 'Average Loglikelihood', 'Num Verbs', 'Num Discourse Relations', 'Relevance score']]\n",
    "y = df[['Thoughtful?']]"
   ]
  },
  {
   "cell_type": "code",
   "execution_count": 34,
   "metadata": {},
   "outputs": [
    {
     "output_type": "stream",
     "name": "stdout",
     "text": [
      "Logistic Regression\n",
      "--------------------------------------------------\n",
      "Mean accuracy is 0.9332798093856833\n",
      "Mean precision is 0.7021212121212121\n",
      "Mean recall is 0.2829166666666667\n",
      "Mean f1 is 0.3799679873901842\n",
      "\n",
      "\n",
      "Naive Bayes\n",
      "--------------------------------------------------\n",
      "Mean accuracy is 0.927667564487724\n",
      "Mean precision is 0.5634254050043523\n",
      "Mean recall is 0.49874999999999997\n",
      "Mean f1 is 0.5160025309741675\n",
      "\n",
      "\n",
      "Decision Trees\n",
      "--------------------------------------------------\n",
      "Mean accuracy is 0.8955635553713872\n",
      "Mean precision is 0.3505336899942163\n",
      "Mean recall is 0.36750000000000005\n",
      "Mean f1 is 0.3527694446954409\n",
      "\n",
      "\n",
      "SVM linear\n",
      "--------------------------------------------------\n",
      "Mean accuracy is 0.929713560551124\n",
      "Mean precision is 0.7256349206349206\n",
      "Mean recall is 0.19124999999999998\n",
      "Mean f1 is 0.2875210195721032\n",
      "\n",
      "\n",
      "SVM rbf\n",
      "--------------------------------------------------\n",
      "Mean accuracy is 0.9297187402879933\n",
      "Mean precision is 0.6634920634920636\n",
      "Mean recall is 0.2704166666666667\n",
      "Mean f1 is 0.36120353784146886\n",
      "\n",
      "\n",
      "Random Forest\n",
      "--------------------------------------------------\n",
      "Mean accuracy is 0.9205428364239097\n",
      "Mean precision is 0.490914640914641\n",
      "Mean recall is 0.30375\n",
      "Mean f1 is 0.36213350256828514\n",
      "\n",
      "\n",
      "[02:36:55] WARNING: /Users/travis/build/dmlc/xgboost/src/learner.cc:1061: Starting in XGBoost 1.3.0, the default evaluation metric used with the objective 'binary:logistic' was changed from 'error' to 'logloss'. Explicitly set eval_metric if you'd like to restore the old behavior.\n",
      "[02:36:56] WARNING: /Users/travis/build/dmlc/xgboost/src/learner.cc:1061: Starting in XGBoost 1.3.0, the default evaluation metric used with the objective 'binary:logistic' was changed from 'error' to 'logloss'. Explicitly set eval_metric if you'd like to restore the old behavior.\n",
      "[02:36:56] WARNING: /Users/travis/build/dmlc/xgboost/src/learner.cc:1061: Starting in XGBoost 1.3.0, the default evaluation metric used with the objective 'binary:logistic' was changed from 'error' to 'logloss'. Explicitly set eval_metric if you'd like to restore the old behavior.\n",
      "[02:36:56] WARNING: /Users/travis/build/dmlc/xgboost/src/learner.cc:1061: Starting in XGBoost 1.3.0, the default evaluation metric used with the objective 'binary:logistic' was changed from 'error' to 'logloss'. Explicitly set eval_metric if you'd like to restore the old behavior.\n",
      "[02:36:56] WARNING: /Users/travis/build/dmlc/xgboost/src/learner.cc:1061: Starting in XGBoost 1.3.0, the default evaluation metric used with the objective 'binary:logistic' was changed from 'error' to 'logloss'. Explicitly set eval_metric if you'd like to restore the old behavior.\n",
      "[02:36:57] WARNING: /Users/travis/build/dmlc/xgboost/src/learner.cc:1061: Starting in XGBoost 1.3.0, the default evaluation metric used with the objective 'binary:logistic' was changed from 'error' to 'logloss'. Explicitly set eval_metric if you'd like to restore the old behavior.\n",
      "[02:36:57] WARNING: /Users/travis/build/dmlc/xgboost/src/learner.cc:1061: Starting in XGBoost 1.3.0, the default evaluation metric used with the objective 'binary:logistic' was changed from 'error' to 'logloss'. Explicitly set eval_metric if you'd like to restore the old behavior.\n",
      "[02:36:57] WARNING: /Users/travis/build/dmlc/xgboost/src/learner.cc:1061: Starting in XGBoost 1.3.0, the default evaluation metric used with the objective 'binary:logistic' was changed from 'error' to 'logloss'. Explicitly set eval_metric if you'd like to restore the old behavior.\n",
      "[02:36:58] WARNING: /Users/travis/build/dmlc/xgboost/src/learner.cc:1061: Starting in XGBoost 1.3.0, the default evaluation metric used with the objective 'binary:logistic' was changed from 'error' to 'logloss'. Explicitly set eval_metric if you'd like to restore the old behavior.\n",
      "[02:36:58] WARNING: /Users/travis/build/dmlc/xgboost/src/learner.cc:1061: Starting in XGBoost 1.3.0, the default evaluation metric used with the objective 'binary:logistic' was changed from 'error' to 'logloss'. Explicitly set eval_metric if you'd like to restore the old behavior.\n",
      "XGBoost\n",
      "--------------------------------------------------\n",
      "Mean accuracy is 0.9184968403605097\n",
      "Mean precision is 0.5101515151515151\n",
      "Mean recall is 0.3816666666666667\n",
      "Mean f1 is 0.4204436833222441\n",
      "\n",
      "\n"
     ]
    }
   ],
   "source": [
    "for model_name in models_dict:\n",
    "    m = models_dict[model_name]\n",
    "    scoring = ['accuracy', 'precision', 'recall', 'f1']\n",
    "    scores = cross_validate(m, X, y, scoring=scoring, cv=10)\n",
    "\n",
    "    print(model_name)\n",
    "    print('-'*50)\n",
    "    print(f\"Mean accuracy is {scores['test_accuracy'].mean()}\")\n",
    "    print(f\"Mean precision is {scores['test_precision'].mean()}\")\n",
    "    print(f\"Mean recall is {scores['test_recall'].mean()}\")\n",
    "    print(f\"Mean f1 is {scores['test_f1'].mean()}\")\n",
    "    print()\n",
    "    print()"
   ]
  },
  {
   "source": [
    "From the cross validation, with 10 stratified k-folds, naives bayes classifier seems to be the best one based on highest recall score and f1 score."
   ],
   "cell_type": "markdown",
   "metadata": {}
  },
  {
   "cell_type": "code",
   "execution_count": null,
   "metadata": {},
   "outputs": [],
   "source": []
  },
  {
   "source": [
    "# Perform Random Forest Feature Selection to look at importance of each features"
   ],
   "cell_type": "markdown",
   "metadata": {}
  },
  {
   "cell_type": "code",
   "execution_count": 35,
   "metadata": {},
   "outputs": [],
   "source": [
    "import pandas as pd\n",
    "from sklearn.model_selection import train_test_split\n",
    "from sklearn.ensemble import RandomForestClassifier\n",
    "from sklearn.feature_selection import SelectFromModel"
   ]
  },
  {
   "cell_type": "code",
   "execution_count": 36,
   "metadata": {},
   "outputs": [],
   "source": [
    "df = pd.read_csv(f'{path_parent}/Data/Thoughtful Comments/thoughtful_comments_final.csv')"
   ]
  },
  {
   "cell_type": "code",
   "execution_count": 37,
   "metadata": {},
   "outputs": [],
   "source": [
    "X = df[['Length', 'Average Loglikelihood', 'Num Verbs', 'Num Discourse Relations', 'Relevance score']]\n",
    "y = df['Thoughtful?']\n",
    "feat_labels = ['Length', 'Average Loglikelihood', 'Num Verbs', 'Num Discourse Relations', 'Relevance score']\n",
    "\n",
    "X_train,X_test,y_train,y_test = train_test_split(X, y, test_size=0.3, random_state=10)"
   ]
  },
  {
   "cell_type": "code",
   "execution_count": 38,
   "metadata": {},
   "outputs": [
    {
     "output_type": "execute_result",
     "data": {
      "text/plain": [
       "SelectFromModel(estimator=RandomForestClassifier())"
      ]
     },
     "metadata": {},
     "execution_count": 38
    }
   ],
   "source": [
    "sel_rfc = SelectFromModel(RandomForestClassifier(n_estimators = 100))\n",
    "sel_rfc.fit(X_train, y_train)"
   ]
  },
  {
   "cell_type": "code",
   "execution_count": 39,
   "metadata": {},
   "outputs": [
    {
     "output_type": "execute_result",
     "data": {
      "text/plain": [
       "array([ True, False,  True, False, False])"
      ]
     },
     "metadata": {},
     "execution_count": 39
    }
   ],
   "source": [
    "sel_rfc.get_support()"
   ]
  },
  {
   "cell_type": "code",
   "execution_count": 40,
   "metadata": {},
   "outputs": [
    {
     "output_type": "execute_result",
     "data": {
      "text/plain": [
       "Index(['Length', 'Num Verbs'], dtype='object')"
      ]
     },
     "metadata": {},
     "execution_count": 40
    }
   ],
   "source": [
    "selected_feat= X_train.columns[(sel_rfc.get_support())]\n",
    "selected_feat"
   ]
  },
  {
   "cell_type": "code",
   "execution_count": 41,
   "metadata": {},
   "outputs": [
    {
     "output_type": "execute_result",
     "data": {
      "text/plain": [
       "RandomForestClassifier(random_state=10)"
      ]
     },
     "metadata": {},
     "execution_count": 41
    }
   ],
   "source": [
    "clf = RandomForestClassifier(n_estimators=100, random_state=10)\n",
    "clf.fit(X_train, y_train)"
   ]
  },
  {
   "cell_type": "code",
   "execution_count": 42,
   "metadata": {},
   "outputs": [
    {
     "output_type": "stream",
     "name": "stdout",
     "text": [
      "('Length', 0.30434137672624884)\n('Average Loglikelihood', 0.19177037841595954)\n('Num Verbs', 0.20312442350982207)\n('Num Discourse Relations', 0.12959238353570837)\n('Relevance score', 0.17117143781226116)\n"
     ]
    }
   ],
   "source": [
    "for feature in zip(feat_labels, clf.feature_importances_):\n",
    "    print(feature)"
   ]
  },
  {
   "cell_type": "code",
   "execution_count": 43,
   "metadata": {},
   "outputs": [
    {
     "output_type": "execute_result",
     "data": {
      "text/plain": [
       "SelectFromModel(estimator=RandomForestClassifier(random_state=10))"
      ]
     },
     "metadata": {},
     "execution_count": 43
    }
   ],
   "source": [
    "sfm = SelectFromModel(clf)\n",
    "sfm.fit(X_train, y_train)"
   ]
  },
  {
   "cell_type": "code",
   "execution_count": 44,
   "metadata": {},
   "outputs": [
    {
     "output_type": "execute_result",
     "data": {
      "text/plain": [
       "array([ True, False,  True, False, False])"
      ]
     },
     "metadata": {},
     "execution_count": 44
    }
   ],
   "source": [
    "sfm.get_support()"
   ]
  },
  {
   "cell_type": "code",
   "execution_count": 45,
   "metadata": {},
   "outputs": [
    {
     "output_type": "stream",
     "name": "stdout",
     "text": [
      "Length\nNum Verbs\n"
     ]
    }
   ],
   "source": [
    "for feature_list_index in sfm.get_support(indices=True):\n",
    "    print(feat_labels[feature_list_index])"
   ]
  },
  {
   "cell_type": "code",
   "execution_count": null,
   "metadata": {},
   "outputs": [],
   "source": []
  },
  {
   "source": [
    "# Testing against validation data"
   ],
   "cell_type": "markdown",
   "metadata": {}
  },
  {
   "source": [
    "## Preparing validation data thoughtful comments features"
   ],
   "cell_type": "markdown",
   "metadata": {}
  },
  {
   "cell_type": "code",
   "execution_count": 46,
   "metadata": {},
   "outputs": [],
   "source": [
    "path_parent = os.path.dirname(os.path.dirname(os.getcwd()))\n",
    "file_path = f'{path_parent}/Data/Thoughtful Comments/validation_comments.xls'"
   ]
  },
  {
   "cell_type": "code",
   "execution_count": 47,
   "metadata": {},
   "outputs": [],
   "source": [
    "validation_df = pd.read_excel(file_path)"
   ]
  },
  {
   "cell_type": "code",
   "execution_count": 48,
   "metadata": {},
   "outputs": [
    {
     "output_type": "execute_result",
     "data": {
      "text/plain": [
       "   Unnamed: 0                                            Comment        Topic  \\\n",
       "0           0  Moderna: Covid vaccine shows nearly 95% protec...  Vaccination   \n",
       "1           1                            It is advanced lab rats  Vaccination   \n",
       "2           2  @JFN1971 i don't have cancer, i don't need an ...  Vaccination   \n",
       "3           3  Who's approved which vaccines in Southeast Asi...  Vaccination   \n",
       "4           4  China's Covid-19 vaccine drive is falling behi...  Vaccination   \n",
       "\n",
       "   Thoughtful?  \n",
       "0            0  \n",
       "1            0  \n",
       "2            0  \n",
       "3            0  \n",
       "4            0  "
      ],
      "text/html": "<div>\n<style scoped>\n    .dataframe tbody tr th:only-of-type {\n        vertical-align: middle;\n    }\n\n    .dataframe tbody tr th {\n        vertical-align: top;\n    }\n\n    .dataframe thead th {\n        text-align: right;\n    }\n</style>\n<table border=\"1\" class=\"dataframe\">\n  <thead>\n    <tr style=\"text-align: right;\">\n      <th></th>\n      <th>Unnamed: 0</th>\n      <th>Comment</th>\n      <th>Topic</th>\n      <th>Thoughtful?</th>\n    </tr>\n  </thead>\n  <tbody>\n    <tr>\n      <th>0</th>\n      <td>0</td>\n      <td>Moderna: Covid vaccine shows nearly 95% protec...</td>\n      <td>Vaccination</td>\n      <td>0</td>\n    </tr>\n    <tr>\n      <th>1</th>\n      <td>1</td>\n      <td>It is advanced lab rats</td>\n      <td>Vaccination</td>\n      <td>0</td>\n    </tr>\n    <tr>\n      <th>2</th>\n      <td>2</td>\n      <td>@JFN1971 i don't have cancer, i don't need an ...</td>\n      <td>Vaccination</td>\n      <td>0</td>\n    </tr>\n    <tr>\n      <th>3</th>\n      <td>3</td>\n      <td>Who's approved which vaccines in Southeast Asi...</td>\n      <td>Vaccination</td>\n      <td>0</td>\n    </tr>\n    <tr>\n      <th>4</th>\n      <td>4</td>\n      <td>China's Covid-19 vaccine drive is falling behi...</td>\n      <td>Vaccination</td>\n      <td>0</td>\n    </tr>\n  </tbody>\n</table>\n</div>"
     },
     "metadata": {},
     "execution_count": 48
    }
   ],
   "source": [
    "validation_df.head()"
   ]
  },
  {
   "source": [
    "### Creating feature 1"
   ],
   "cell_type": "markdown",
   "metadata": {}
  },
  {
   "source": [
    "comment_length = []\n",
    "for row in validation_df['Comment']:\n",
    "    length = get_comment_length(row)\n",
    "    comment_length.append(length)\n",
    "validation_df['Length'] = comment_length"
   ],
   "cell_type": "code",
   "metadata": {},
   "execution_count": 49,
   "outputs": []
  },
  {
   "cell_type": "code",
   "execution_count": 50,
   "metadata": {},
   "outputs": [],
   "source": [
    "# Removing rows with zero comment length before creating features 2 to 5\n",
    "validation_df.drop(validation_df[validation_df.Length == 0].index, inplace=True)"
   ]
  },
  {
   "source": [
    "### Creating feature 2 to 4"
   ],
   "cell_type": "markdown",
   "metadata": {}
  },
  {
   "cell_type": "code",
   "execution_count": 51,
   "metadata": {},
   "outputs": [],
   "source": [
    "# Preparation for feature 2 (Lexical feature): comment likelihood\n",
    "comment_likelihood = []\n",
    "# news_unigram = news_articles_unigram(f'{path_parent}/Data/News Article/articles1.csv')\n",
    "\n",
    "# Preparation for feature 3 (Syntatic feature): number of verbs\n",
    "num_verbs = []\n",
    "\n",
    "# Preparation for feature 4 (Discourse feature): number of discourse relations\n",
    "num_discourse_relations = []\n",
    "\n",
    "for row in validation_df['Comment']:\n",
    "    # Creating feature 2 \n",
    "    cmt_text_counter = comment_unicounter(row)\n",
    "    cmt_loglikelihood = news_unigram.evaluate(cmt_text_counter)\n",
    "    comment_likelihood.append(cmt_loglikelihood)\n",
    "\n",
    "    # Creating feature 3\n",
    "    verbs_count = get_num_verbs(row)\n",
    "    num_verbs.append(verbs_count)\n",
    "\n",
    "    # Creating feature 4\n",
    "    discourse_count = num_discourse(row)\n",
    "    num_discourse_relations.append(discourse_count)\n",
    "\n",
    "validation_df['Average Loglikelihood'] = comment_likelihood\n",
    "validation_df['Num Verbs'] = num_verbs\n",
    "validation_df['Num Discourse Relations'] = num_discourse_relations"
   ]
  },
  {
   "source": [
    "### Creating feature 5"
   ],
   "cell_type": "markdown",
   "metadata": {}
  },
  {
   "cell_type": "code",
   "execution_count": 52,
   "metadata": {},
   "outputs": [],
   "source": [
    "corpus = PlaintextCorpusReader(f'{path_parent}/Data/Policy Documents/', '.+\\.txt', encoding='utf-8')"
   ]
  },
  {
   "cell_type": "code",
   "execution_count": 53,
   "metadata": {},
   "outputs": [
    {
     "output_type": "execute_result",
     "data": {
      "text/plain": [
       "['circuit_breaker_policy.txt',\n",
       " 'safe_distancing_policy.txt',\n",
       " 'tracetogether_policy.txt',\n",
       " 'vaccination_policy.txt']"
      ]
     },
     "metadata": {},
     "execution_count": 53
    }
   ],
   "source": [
    "fid = corpus.fileids()\n",
    "fid.sort()\n",
    "fid"
   ]
  },
  {
   "cell_type": "code",
   "execution_count": 54,
   "metadata": {},
   "outputs": [
    {
     "output_type": "execute_result",
     "data": {
      "text/plain": [
       "[['Addressing', 'the', 'nation', 'that', 'day', ',', ...],\n",
       " ['One', 'key', 'factor', 'is', 'how', 'soon', 'Covid', ...]]"
      ]
     },
     "metadata": {},
     "execution_count": 54
    }
   ],
   "source": [
    "doc_words = [corpus.words(f) for f in fid]\n",
    "doc_words = [doc_words[0], doc_words[3]]\n",
    "doc_words"
   ]
  },
  {
   "cell_type": "code",
   "execution_count": 55,
   "metadata": {},
   "outputs": [],
   "source": [
    "circuit_breaker_comments = validation_df[validation_df['Topic'] == 'Circuit Breaker']\n",
    "vaccination_comments = validation_df[validation_df['Topic'] == 'Vaccination']"
   ]
  },
  {
   "cell_type": "code",
   "execution_count": 56,
   "metadata": {},
   "outputs": [],
   "source": [
    "comments = [circuit_breaker_comments, vaccination_comments]"
   ]
  },
  {
   "cell_type": "code",
   "execution_count": 57,
   "metadata": {},
   "outputs": [],
   "source": [
    "for i in range(2):\n",
    "    doc_unigram, doc_nouns = topic_doc_unigram(doc_words[i], k=1)\n",
    "    relavance_scores = []\n",
    "    for row in comments[i]['Comment']:\n",
    "        cmt_unigram, cmt_nouns = comment_unigram(row, k=1)\n",
    "        score = KLDiv_relevance_score(doc_unigram, cmt_unigram, doc_nouns, cmt_nouns)\n",
    "        relavance_scores.append(score)\n",
    "    comments[i]['Relevance score'] = relavance_scores"
   ]
  },
  {
   "cell_type": "code",
   "execution_count": 58,
   "metadata": {},
   "outputs": [],
   "source": [
    "df_final = pd.concat(comments, ignore_index=True)"
   ]
  },
  {
   "cell_type": "code",
   "execution_count": 59,
   "metadata": {},
   "outputs": [
    {
     "output_type": "execute_result",
     "data": {
      "text/plain": [
       "7.5"
      ]
     },
     "metadata": {},
     "execution_count": 59
    }
   ],
   "source": [
    "df_final['Relevance score'].max()"
   ]
  },
  {
   "cell_type": "code",
   "execution_count": 60,
   "metadata": {},
   "outputs": [
    {
     "output_type": "execute_result",
     "data": {
      "text/plain": [
       "0.03610598006171842"
      ]
     },
     "metadata": {},
     "execution_count": 60
    }
   ],
   "source": [
    "df_final['Relevance score'].min()"
   ]
  },
  {
   "cell_type": "code",
   "execution_count": 61,
   "metadata": {},
   "outputs": [],
   "source": [
    "df_final.to_csv(f'{path_parent}/Data/Thoughtful Comments/validation_comments_final.csv')"
   ]
  },
  {
   "source": [
    "## Testing trained model against validation data"
   ],
   "cell_type": "markdown",
   "metadata": {}
  },
  {
   "cell_type": "code",
   "execution_count": 62,
   "metadata": {},
   "outputs": [],
   "source": [
    "training_data = pd.read_csv(f'{path_parent}/Data/Thoughtful Comments/thoughtful_comments_final.csv')\n",
    "validation_data = pd.read_csv(f'{path_parent}/Data/Thoughtful Comments/validation_comments_final.csv')"
   ]
  },
  {
   "cell_type": "code",
   "execution_count": 63,
   "metadata": {},
   "outputs": [
    {
     "output_type": "stream",
     "name": "stdout",
     "text": [
      "Logistic Regression\n",
      "--------------------------------------------------\n",
      "Accuracy Score for Logistic Regression is 0.91231\n",
      "Precision Score for Logistic Regression is 0.87500\n",
      "Recall Score for Logistic Regression is 0.12069\n",
      "F1 Score for Logistic Regression is 0.21212\n",
      "\n",
      "Naive Bayes\n",
      "--------------------------------------------------\n",
      "Accuracy Score for Naive Bayes is 0.92243\n",
      "Precision Score for Naive Bayes is 0.67647\n",
      "Recall Score for Naive Bayes is 0.39655\n",
      "F1 Score for Naive Bayes is 0.50000\n",
      "\n",
      "Decision Trees\n",
      "--------------------------------------------------\n",
      "Accuracy Score for Decision Trees is 0.91062\n",
      "Precision Score for Decision Trees is 0.56410\n",
      "Recall Score for Decision Trees is 0.37931\n",
      "F1 Score for Decision Trees is 0.45361\n",
      "\n",
      "SVM linear\n",
      "--------------------------------------------------\n",
      "Accuracy Score for SVM linear is 0.91062\n",
      "Precision Score for SVM linear is 1.00000\n",
      "Recall Score for SVM linear is 0.08621\n",
      "F1 Score for SVM linear is 0.15873\n",
      "\n",
      "SVM rbf\n",
      "--------------------------------------------------\n",
      "Accuracy Score for SVM rbf is 0.91231\n",
      "Precision Score for SVM rbf is 0.80000\n",
      "Recall Score for SVM rbf is 0.13793\n",
      "F1 Score for SVM rbf is 0.23529\n",
      "\n",
      "Random Forest\n",
      "--------------------------------------------------\n",
      "Accuracy Score for Random Forest is 0.91906\n",
      "Precision Score for Random Forest is 0.72727\n",
      "Recall Score for Random Forest is 0.27586\n",
      "F1 Score for Random Forest is 0.40000\n",
      "\n",
      "[02:37:15] WARNING: /Users/travis/build/dmlc/xgboost/src/learner.cc:1061: Starting in XGBoost 1.3.0, the default evaluation metric used with the objective 'binary:logistic' was changed from 'error' to 'logloss'. Explicitly set eval_metric if you'd like to restore the old behavior.\n",
      "XGBoost\n",
      "--------------------------------------------------\n",
      "Accuracy Score for XGBoost is 0.91231\n",
      "Precision Score for XGBoost is 0.58333\n",
      "Recall Score for XGBoost is 0.36207\n",
      "F1 Score for XGBoost is 0.44681\n",
      "\n"
     ]
    }
   ],
   "source": [
    "# Creating our independent and dependent variables df\n",
    "X = ['Length', 'Average Loglikelihood', 'Num Verbs', 'Num Discourse Relations', 'Relevance score']\n",
    "y = ['Thoughtful?']\n",
    "\n",
    "# Training with differnent models\n",
    "for model_name in models_dict:\n",
    "    m = models_dict[model_name]\n",
    "\n",
    "    X_train = training_data[X]\n",
    "    y_train = training_data[y]\n",
    "    X_test = validation_data[X]\n",
    "    y_test = validation_data[y]\n",
    "    \n",
    "    m.fit(X_train, y_train)\n",
    "    predictions = m.predict(X_test)\n",
    "\n",
    "    acc = accuracy_score(y_test,predictions)  # always true label first, then your predicted labels!\n",
    "    precision = precision_score(y_test,predictions) \n",
    "    recall = recall_score(y_test,predictions) \n",
    "    f1 = f1_score(y_test,predictions)\n",
    "\n",
    "    print(model_name)\n",
    "    print('-'*50)\n",
    "    print('Accuracy Score for {} is {:.5f}'.format(model_name,acc))\n",
    "    print('Precision Score for {} is {:.5f}'.format(model_name,precision))\n",
    "    print('Recall Score for {} is {:.5f}'.format(model_name,recall))\n",
    "    print('F1 Score for {} is {:.5f}'.format(model_name,f1))\n",
    "    print()"
   ]
  },
  {
   "cell_type": "code",
   "execution_count": 64,
   "metadata": {},
   "outputs": [
    {
     "output_type": "stream",
     "name": "stdout",
     "text": [
      "Accuracy Score is 0.91231\nPrecision Score is 0.58333\nRecall Score is 0.36207\nF1 Score is 0.44681\n"
     ]
    }
   ],
   "source": [
    "model = GaussianNB()\n",
    "\n",
    "X = ['Length', 'Average Loglikelihood', 'Num Verbs', 'Num Discourse Relations', 'Relevance score']\n",
    "y = ['Thoughtful?']\n",
    "\n",
    "X_train = training_data[X]\n",
    "y_train = training_data[y]\n",
    "X_test = validation_data[X]\n",
    "y_test = validation_data[y]\n",
    "model.fit(X_train, y_train)\n",
    "predictions = model.predict(X_test)\n",
    "print('Accuracy Score is {:.5f}'.format(acc))\n",
    "print('Precision Score is {:.5f}'.format(precision))\n",
    "print('Recall Score is {:.5f}'.format(recall))\n",
    "print('F1 Score is {:.5f}'.format(f1))"
   ]
  },
  {
   "cell_type": "code",
   "execution_count": 65,
   "metadata": {},
   "outputs": [],
   "source": [
    "validation_data['Prediction'] = predictions"
   ]
  },
  {
   "source": [
    "### Number of comments correctly predicted as thoughtful"
   ],
   "cell_type": "markdown",
   "metadata": {}
  },
  {
   "cell_type": "code",
   "execution_count": 66,
   "metadata": {},
   "outputs": [
    {
     "output_type": "execute_result",
     "data": {
      "text/plain": [
       "23"
      ]
     },
     "metadata": {},
     "execution_count": 66
    }
   ],
   "source": [
    "len(validation_data[(validation_data['Prediction'] == 1) & (validation_data['Thoughtful?'] == 1)])"
   ]
  },
  {
   "source": [
    "### Number of actual labelled thoughtful comments"
   ],
   "cell_type": "markdown",
   "metadata": {}
  },
  {
   "cell_type": "code",
   "execution_count": 67,
   "metadata": {},
   "outputs": [
    {
     "output_type": "execute_result",
     "data": {
      "text/plain": [
       "58"
      ]
     },
     "metadata": {},
     "execution_count": 67
    }
   ],
   "source": [
    "validation_data['Thoughtful?'].sum()"
   ]
  },
  {
   "cell_type": "code",
   "execution_count": 68,
   "metadata": {},
   "outputs": [],
   "source": [
    "validation_data.to_csv(f'{path_parent}/Data/Thoughtful Comments/validation_comments_prediction.csv')"
   ]
  },
  {
   "cell_type": "code",
   "execution_count": null,
   "metadata": {},
   "outputs": [],
   "source": []
  }
 ]
}