{
 "metadata": {
  "language_info": {
   "codemirror_mode": {
    "name": "ipython",
    "version": 3
   },
   "file_extension": ".py",
   "mimetype": "text/x-python",
   "name": "python",
   "nbconvert_exporter": "python",
   "pygments_lexer": "ipython3",
   "version": "3.9.0-final"
  },
  "orig_nbformat": 2,
  "kernelspec": {
   "name": "python3",
   "display_name": "Python 3.9.0 64-bit",
   "metadata": {
    "interpreter": {
     "hash": "7812ea015bdcee6f23a998adcdd2ef97c151c0c241b7b7070987d9313e41299d"
    }
   }
  }
 },
 "nbformat": 4,
 "nbformat_minor": 2,
 "cells": [
  {
   "cell_type": "code",
   "execution_count": 8,
   "metadata": {},
   "outputs": [],
   "source": [
    "import pandas as pd\n",
    "import os\n",
    "from thoughtfulness_features import *"
   ]
  },
  {
   "source": [
    "# Label each comment by its policy topic"
   ],
   "cell_type": "markdown",
   "metadata": {}
  },
  {
   "cell_type": "code",
   "execution_count": 29,
   "metadata": {},
   "outputs": [],
   "source": [
    "path_parent = os.path.dirname(os.path.dirname(os.getcwd()))\n",
    "file_path = f'{path_parent}/Data/Thoughtful Comments'\n",
    "files = [file for file in os.listdir(file_path) if file != '.DS_Store' and file.endswith('.xlsx')]"
   ]
  },
  {
   "cell_type": "code",
   "execution_count": 30,
   "metadata": {},
   "outputs": [
    {
     "output_type": "execute_result",
     "data": {
      "text/plain": [
       "['safe_distancing.xlsx',\n",
       " 'vaccination.xlsx',\n",
       " 'Tracetogether.xlsx',\n",
       " 'circuit_breaker.xlsx']"
      ]
     },
     "metadata": {},
     "execution_count": 30
    }
   ],
   "source": [
    "files"
   ]
  },
  {
   "cell_type": "code",
   "execution_count": 36,
   "metadata": {},
   "outputs": [],
   "source": [
    "for file in files:\n",
    "    df = pd.read_excel(f'{file_path}/{file}', engine='openpyxl')\n",
    "\n",
    "    topic = \" \".join(file[:-5].split('_'))\n",
    "\n",
    "    df['Topic'] = topic\n",
    "\n",
    "    df.to_csv(f'{file_path}/{topic}.csv')"
   ]
  },
  {
   "source": [
    "# Merging all labelled file into 1 csv file"
   ],
   "cell_type": "markdown",
   "metadata": {}
  },
  {
   "cell_type": "code",
   "execution_count": 40,
   "metadata": {},
   "outputs": [],
   "source": [
    "path_parent = os.path.dirname(os.path.dirname(os.getcwd()))\n",
    "file_path = f'{path_parent}/Data/Thoughtful Comments'\n",
    "files = [file for file in os.listdir(file_path) if file != '.DS_Store' and file.endswith('.csv')]"
   ]
  },
  {
   "cell_type": "code",
   "execution_count": 41,
   "metadata": {},
   "outputs": [
    {
     "output_type": "execute_result",
     "data": {
      "text/plain": [
       "['Tracetogether.csv',\n",
       " 'vaccination.csv',\n",
       " 'circuit breaker.csv',\n",
       " 'safe distancing.csv']"
      ]
     },
     "metadata": {},
     "execution_count": 41
    }
   ],
   "source": [
    "files"
   ]
  },
  {
   "cell_type": "code",
   "execution_count": 42,
   "metadata": {},
   "outputs": [],
   "source": [
    "frames = []\n",
    "for file in files:\n",
    "    df = pd.read_csv(f'{file_path}/{file}')\n",
    "    frames.append(df)"
   ]
  },
  {
   "cell_type": "code",
   "execution_count": 45,
   "metadata": {},
   "outputs": [],
   "source": [
    "df = pd.concat(frames, ignore_index=True)\n",
    "df.to_csv(f'{file_path}/thoughtful_comments_labelled.csv')"
   ]
  },
  {
   "cell_type": "code",
   "execution_count": null,
   "metadata": {},
   "outputs": [],
   "source": []
  },
  {
   "source": [
    "# Preparation of comments for manual labelling (thoughtful or not)"
   ],
   "cell_type": "markdown",
   "metadata": {}
  },
  {
   "source": [
    "## Vaccination"
   ],
   "cell_type": "markdown",
   "metadata": {}
  },
  {
   "cell_type": "code",
   "execution_count": null,
   "metadata": {},
   "outputs": [],
   "source": [
    "vaccination = []\n",
    "\n",
    "comments = pd.DataFrame(columns=[\"topic\", \"comment\"])"
   ]
  },
  {
   "cell_type": "code",
   "execution_count": null,
   "metadata": {},
   "outputs": [],
   "source": [
    "df1 = pd.read_csv(\"/Users/chenjianyu/Desktop/Y2S2/SMT203 Computational Social Sci/Covid-19-Singapore-Analysis/Data/Instagram Data/Cleaned Data/Manual Scrape/Mothership/Vaccination.csv\")\n",
    "df2 = pd.read_csv(\"/Users/chenjianyu/Desktop/Y2S2/SMT203 Computational Social Sci/Covid-19-Singapore-Analysis/Data/Instagram Data/Cleaned Data/Manual Scrape/Straits Times/Vaccination.csv\")\n",
    "df3 = pd.read_csv(\"/Users/chenjianyu/Desktop/Y2S2/SMT203 Computational Social Sci/Covid-19-Singapore-Analysis/Data/Reddit Data/Cleaned Data/Policies/vaccination.csv\")\n",
    "df4 = pd.read_csv(\"/Users/chenjianyu/Desktop/Y2S2/SMT203 Computational Social Sci/Covid-19-Singapore-Analysis/Data/Twitter Data/Cleaned Data/Policies/Vaccination.csv\")"
   ]
  },
  {
   "cell_type": "code",
   "execution_count": null,
   "metadata": {},
   "outputs": [],
   "source": [
    "s1 = df1['comment']\n",
    "s2 = df2['comment']\n",
    "s3 = df3['comment_body']\n",
    "s4 = df4['tweet']\n",
    "\n",
    "vaccination = pd.concat([s1, s2, s3, s4], ignore_index=True)"
   ]
  },
  {
   "cell_type": "code",
   "execution_count": null,
   "metadata": {},
   "outputs": [],
   "source": [
    "vaccination_sample = pd.DataFrame({\"comment\": vaccination.sample(n = 800)})\n",
    "vaccination_sample.head()"
   ]
  },
  {
   "cell_type": "code",
   "execution_count": null,
   "metadata": {},
   "outputs": [],
   "source": [
    "vaccination_list = []\n",
    "\n",
    "for row in vaccination_sample['comment']:\n",
    "    vaccination_list.append(row)"
   ]
  },
  {
   "cell_type": "code",
   "execution_count": null,
   "metadata": {},
   "outputs": [],
   "source": [
    "original = pd.read_csv(\"/Users/chenjianyu/Desktop/Y2S2/SMT203 Computational Social Sci/Covid-19-Singapore-Analysis/Data/Thoughtful Comments/vaccination.csv\")"
   ]
  },
  {
   "cell_type": "code",
   "execution_count": null,
   "metadata": {},
   "outputs": [],
   "source": [
    "original_list = []\n",
    "\n",
    "for row in original['Comment']:\n",
    "    original_list.append(row)"
   ]
  },
  {
   "cell_type": "code",
   "execution_count": null,
   "metadata": {},
   "outputs": [],
   "source": [
    "new_comments = list(set(vaccination_list).difference(set(original_list)))\n",
    "vaccination_comments = {'Comment': new_comments}\n",
    "df = pd.DataFrame(vaccination_comments)\n",
    "df = df.sample(n=300, random_state=2).reset_index()\n",
    "df.drop('index', axis = 1, inplace=True)\n",
    "df['Topic'] = \"Vaccination\""
   ]
  },
  {
   "source": [
    "## Circuit breaker"
   ],
   "cell_type": "markdown",
   "metadata": {}
  },
  {
   "cell_type": "code",
   "execution_count": null,
   "metadata": {},
   "outputs": [],
   "source": [
    "circuit_breaker = []\n",
    "\n",
    "comments = pd.DataFrame(columns=[\"topic\", \"comment\"])"
   ]
  },
  {
   "cell_type": "code",
   "execution_count": null,
   "metadata": {},
   "outputs": [],
   "source": [
    "df1 = pd.read_csv(\"/Users/chenjianyu/Desktop/Y2S2/SMT203 Computational Social Sci/Covid-19-Singapore-Analysis/Data/Reddit Data/Cleaned Data/Policies/circuit_breaker.csv\")\n",
    "df2 = pd.read_csv(\"/Users/chenjianyu/Desktop/Y2S2/SMT203 Computational Social Sci/Covid-19-Singapore-Analysis/Data/Twitter Data/Cleaned Data/Policies/Circuit breaker.csv\")"
   ]
  },
  {
   "cell_type": "code",
   "execution_count": null,
   "metadata": {},
   "outputs": [],
   "source": [
    "s1 = df1['comment_body']\n",
    "s2 = df2['tweet']\n",
    "\n",
    "cb = pd.concat([s1, s2], ignore_index=True)\n",
    "cb = pd.DataFrame({'Comment': cb})"
   ]
  },
  {
   "cell_type": "code",
   "execution_count": null,
   "metadata": {},
   "outputs": [],
   "source": [
    "cb_sample = cb.sample(n=800, random_state=2)"
   ]
  },
  {
   "cell_type": "code",
   "execution_count": null,
   "metadata": {},
   "outputs": [],
   "source": [
    "cb_list = []\n",
    "\n",
    "for row in cb_sample['Comment']:\n",
    "    cb_list.append(row)"
   ]
  },
  {
   "cell_type": "code",
   "execution_count": null,
   "metadata": {},
   "outputs": [],
   "source": [
    "original = pd.read_csv(\"/Users/chenjianyu/Desktop/Y2S2/SMT203 Computational Social Sci/Covid-19-Singapore-Analysis/Data/Thoughtful Comments/circuit breaker.csv\")"
   ]
  },
  {
   "cell_type": "code",
   "execution_count": null,
   "metadata": {},
   "outputs": [],
   "source": [
    "original_list = []\n",
    "\n",
    "for row in original['Comment']:\n",
    "    original_list.append(row)"
   ]
  },
  {
   "cell_type": "code",
   "execution_count": null,
   "metadata": {},
   "outputs": [],
   "source": [
    "new_comments = list(set(cb_list).difference(set(original_list)))\n",
    "df1 = pd.DataFrame({'Comment': new_comments})\n",
    "df1 = df1.sample(n=300, random_state=2).reset_index()\n",
    "df1.drop('index', axis = 1, inplace=True)\n",
    "df1['Topic'] = \"Circuit Breaker\""
   ]
  },
  {
   "source": [
    "# Merging of dataframe to create validation data"
   ],
   "cell_type": "markdown",
   "metadata": {}
  },
  {
   "cell_type": "code",
   "execution_count": null,
   "metadata": {},
   "outputs": [],
   "source": [
    "df_merged = pd.concat([df, df1], ignore_index=True)"
   ]
  },
  {
   "cell_type": "code",
   "execution_count": null,
   "metadata": {},
   "outputs": [],
   "source": [
    "df_merged.to_excel(\"/Users/chenjianyu/Desktop/Y2S2/SMT203 Computational Social Sci/Covid-19-Singapore-Analysis/Data/Thoughtful Comments/validation_comments.xls\")"
   ]
  }
 ]
}