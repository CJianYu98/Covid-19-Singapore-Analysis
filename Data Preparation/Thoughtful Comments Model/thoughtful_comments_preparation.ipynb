{
 "metadata": {
  "language_info": {
   "codemirror_mode": {
    "name": "ipython",
    "version": 3
   },
   "file_extension": ".py",
   "mimetype": "text/x-python",
   "name": "python",
   "nbconvert_exporter": "python",
   "pygments_lexer": "ipython3",
   "version": "3.9.0-final"
  },
  "orig_nbformat": 2,
  "kernelspec": {
   "name": "python3",
   "display_name": "Python 3.9.0 64-bit",
   "metadata": {
    "interpreter": {
     "hash": "7812ea015bdcee6f23a998adcdd2ef97c151c0c241b7b7070987d9313e41299d"
    }
   }
  }
 },
 "nbformat": 4,
 "nbformat_minor": 2,
 "cells": [
  {
   "cell_type": "code",
   "execution_count": 8,
   "metadata": {},
   "outputs": [],
   "source": [
    "import pandas as pd\n",
    "import os\n",
    "from thoughtfulness_features import *"
   ]
  },
  {
   "source": [
    "# Label each comment by its policy topic"
   ],
   "cell_type": "markdown",
   "metadata": {}
  },
  {
   "cell_type": "code",
   "execution_count": 29,
   "metadata": {},
   "outputs": [],
   "source": [
    "path_parent = os.path.dirname(os.path.dirname(os.getcwd()))\n",
    "file_path = f'{path_parent}/Data/Thoughtful Comments'\n",
    "files = [file for file in os.listdir(file_path) if file != '.DS_Store' and file.endswith('.xlsx')]"
   ]
  },
  {
   "cell_type": "code",
   "execution_count": 30,
   "metadata": {},
   "outputs": [
    {
     "output_type": "execute_result",
     "data": {
      "text/plain": [
       "['safe_distancing.xlsx',\n",
       " 'vaccination.xlsx',\n",
       " 'Tracetogether.xlsx',\n",
       " 'circuit_breaker.xlsx']"
      ]
     },
     "metadata": {},
     "execution_count": 30
    }
   ],
   "source": [
    "files"
   ]
  },
  {
   "cell_type": "code",
   "execution_count": 36,
   "metadata": {},
   "outputs": [],
   "source": [
    "for file in files:\n",
    "    df = pd.read_excel(f'{file_path}/{file}', engine='openpyxl')\n",
    "\n",
    "    topic = \" \".join(file[:-5].split('_'))\n",
    "\n",
    "    df['Topic'] = topic\n",
    "\n",
    "    df.to_csv(f'{file_path}/{topic}.csv')"
   ]
  },
  {
   "source": [
    "# Merging all labelled file into 1 csv file"
   ],
   "cell_type": "markdown",
   "metadata": {}
  },
  {
   "cell_type": "code",
   "execution_count": 40,
   "metadata": {},
   "outputs": [],
   "source": [
    "path_parent = os.path.dirname(os.path.dirname(os.getcwd()))\n",
    "file_path = f'{path_parent}/Data/Thoughtful Comments'\n",
    "files = [file for file in os.listdir(file_path) if file != '.DS_Store' and file.endswith('.csv')]"
   ]
  },
  {
   "cell_type": "code",
   "execution_count": 41,
   "metadata": {},
   "outputs": [
    {
     "output_type": "execute_result",
     "data": {
      "text/plain": [
       "['Tracetogether.csv',\n",
       " 'vaccination.csv',\n",
       " 'circuit breaker.csv',\n",
       " 'safe distancing.csv']"
      ]
     },
     "metadata": {},
     "execution_count": 41
    }
   ],
   "source": [
    "files"
   ]
  },
  {
   "cell_type": "code",
   "execution_count": 42,
   "metadata": {},
   "outputs": [],
   "source": [
    "frames = []\n",
    "for file in files:\n",
    "    df = pd.read_csv(f'{file_path}/{file}')\n",
    "    frames.append(df)"
   ]
  },
  {
   "cell_type": "code",
   "execution_count": 45,
   "metadata": {},
   "outputs": [],
   "source": [
    "df = pd.concat(frames, ignore_index=True)\n",
    "df.to_csv(f'{file_path}/thoughtful_comments_labelled.csv')"
   ]
  }
 ]
}