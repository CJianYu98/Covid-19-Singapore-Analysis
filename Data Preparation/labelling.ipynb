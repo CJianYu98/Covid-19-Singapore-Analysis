{
 "metadata": {
  "language_info": {
   "codemirror_mode": {
    "name": "ipython",
    "version": 3
   },
   "file_extension": ".py",
   "mimetype": "text/x-python",
   "name": "python",
   "nbconvert_exporter": "python",
   "pygments_lexer": "ipython3",
   "version": "3.9.0-final"
  },
  "orig_nbformat": 2,
  "kernelspec": {
   "name": "python3",
   "display_name": "Python 3.9.0 64-bit",
   "metadata": {
    "interpreter": {
     "hash": "7812ea015bdcee6f23a998adcdd2ef97c151c0c241b7b7070987d9313e41299d"
    }
   }
  }
 },
 "nbformat": 4,
 "nbformat_minor": 2,
 "cells": [
  {
   "cell_type": "code",
   "execution_count": 16,
   "metadata": {},
   "outputs": [],
   "source": [
    "import os\n",
    "import pandas as pd\n",
    "import datetime as dt\n",
    "\n",
    "from preprocess import *\n",
    "from valuable_features import *"
   ]
  },
  {
   "cell_type": "code",
   "execution_count": 17,
   "metadata": {},
   "outputs": [],
   "source": [
    "parent_path = '/Users/chenjianyu/Library/Mobile Documents/com~apple~CloudDocs/SMU/SMU Module Materials/Y2S2/SMT203 Computational Social Sci/Covid-19-Singapore-Analysis'"
   ]
  },
  {
   "source": [
    "# Hardwarezone Data"
   ],
   "cell_type": "markdown",
   "metadata": {}
  },
  {
   "cell_type": "code",
   "execution_count": 18,
   "metadata": {},
   "outputs": [],
   "source": [
    "hwz_path = f'{parent_path}/Data/Hardwarezone Data/Cleaned Data'\n",
    "files = [file for file in os.listdir(hwz_path) if file != '.DS_Store' and file != 'hwz_general_posts.csv']"
   ]
  },
  {
   "cell_type": "code",
   "execution_count": 9,
   "metadata": {},
   "outputs": [],
   "source": [
    "for file in files:\n",
    "    df = create_features(f'{hwz_path}/{file}')\n",
    "    df = label_actionable_comments(df, 'Comments')\n",
    "    df = label_valuable_comments(df, vectorizer)\n",
    "    df.to_csv(f'{hwz_path}/{file}', index=False)"
   ]
  },
  {
   "cell_type": "code",
   "execution_count": 29,
   "metadata": {},
   "outputs": [],
   "source": [
    "for file in files:\n",
    "    df = pd.read_csv(f'{hwz_path}/{file}')\n",
    "    dates = []\n",
    "    for row in df['Comment Datetime']:\n",
    "        date_time = dt.datetime.strptime(row, '%d/%m/%y %H:%M')\n",
    "        dates.append(date_time.date())\n",
    "    df['Comment Datetime'] = dates\n",
    "    df.to_csv(f'{hwz_path}/{file}', index=False)"
   ]
  },
  {
   "source": [
    "# Twitter Data"
   ],
   "cell_type": "markdown",
   "metadata": {}
  },
  {
   "cell_type": "code",
   "execution_count": 32,
   "metadata": {},
   "outputs": [],
   "source": [
    "twitter_path = f'{parent_path}/Data/Twitter Data/Cleaned Data/Policies/Combined'\n",
    "files = [file for file in os.listdir(twitter_path) if file != '.DS_Store']"
   ]
  },
  {
   "cell_type": "code",
   "execution_count": 18,
   "metadata": {},
   "outputs": [],
   "source": [
    "for file in files:\n",
    "    df = pd.read_csv(f'{twitter_path}/{file}')\n",
    "    df.rename(columns={'tweet':'Comments'}, inplace=True)\n",
    "    df.to_csv(f'{twitter_path}/{file}', index=False)"
   ]
  },
  {
   "cell_type": "code",
   "execution_count": 20,
   "metadata": {},
   "outputs": [],
   "source": [
    "for file in files:\n",
    "    df = create_features(f'{twitter_path}/{file}')\n",
    "    df = label_actionable_comments(df, 'Comments')\n",
    "    df = label_valuable_comments(df, vectorizer)\n",
    "    df.to_csv(f'{twitter_path}/{file}', index=False)"
   ]
  },
  {
   "cell_type": "code",
   "execution_count": 33,
   "metadata": {},
   "outputs": [],
   "source": [
    "for file in files:\n",
    "    df = pd.read_csv(f'{twitter_path}/{file}', index_col=[0])\n",
    "    df.rename(columns={'date':'Comment Datetime'}, inplace=True)\n",
    "    dates = []\n",
    "    for row in df['Comment Datetime']:\n",
    "        date_time = dt.datetime.strptime(row, '%d/%m/%y')\n",
    "        dates.append(date_time.date())\n",
    "    df['Comment Datetime'] = dates\n",
    "    df.to_csv(f'{twitter_path}/{file}', index=False)"
   ]
  },
  {
   "source": [
    "# Facebook Data"
   ],
   "cell_type": "markdown",
   "metadata": {}
  },
  {
   "cell_type": "code",
   "execution_count": 37,
   "metadata": {},
   "outputs": [],
   "source": [
    "fb_path = f'{parent_path}/Data/Facebook Data/Cleaned Data/Policies/Combined'\n",
    "files = [file for file in os.listdir(fb_path) if file != '.DS_Store' and file != 'general comments_combined.csv']"
   ]
  },
  {
   "cell_type": "code",
   "execution_count": 6,
   "metadata": {},
   "outputs": [],
   "source": [
    "for file in files:\n",
    "    df = create_features(f'{fb_path}/{file}')\n",
    "    df = label_actionable_comments(df, 'Comments')\n",
    "    df = label_valuable_comments(df, vectorizer)\n",
    "    df.to_csv(f'{fb_path}/{file}', index=False)"
   ]
  },
  {
   "cell_type": "code",
   "execution_count": 35,
   "metadata": {},
   "outputs": [],
   "source": [
    "for file in files:\n",
    "    df = pd.read_csv(f'{fb_path}/{file}', index_col=[0])\n",
    "    df.rename(columns={'Datetime':'Comment Datetime'}, inplace=True)\n",
    "    dates = []\n",
    "    for row in df['Comment Datetime']:\n",
    "        date_time = dt.datetime.strptime(row, '%d/%m/%y')\n",
    "        dates.append(date_time.date())\n",
    "    df['Comment Datetime'] = dates\n",
    "    df.to_csv(f'{fb_path}/{file}', index=False)"
   ]
  },
  {
   "source": [
    "# Instagram Data"
   ],
   "cell_type": "markdown",
   "metadata": {}
  },
  {
   "cell_type": "code",
   "execution_count": 57,
   "metadata": {},
   "outputs": [],
   "source": [
    "insta_path = f'{parent_path}/Data/Instagram Data/Cleaned Data/Policies/Combined'\n",
    "files = [file for file in os.listdir(insta_path) if file != '.DS_Store' and file != 'general comments_combined.csv']"
   ]
  },
  {
   "cell_type": "code",
   "execution_count": 8,
   "metadata": {},
   "outputs": [],
   "source": [
    "for file in files:\n",
    "    df = create_features(f'{insta_path}/{file}')\n",
    "    df = label_actionable_comments(df, 'Comments')\n",
    "    df = label_valuable_comments(df, vectorizer)\n",
    "    df.to_csv(f'{insta_path}/{file}', index=False)"
   ]
  },
  {
   "cell_type": "code",
   "execution_count": 61,
   "metadata": {},
   "outputs": [],
   "source": [
    "for file in files:\n",
    "    df = pd.read_csv(f'{insta_path}/{file}', index_col=[0])\n",
    "    # df.rename(columns={'Datetime':'Comment Datetime'}, inplace=True)\n",
    "    dates = []\n",
    "    for row in df['Comment Datetime']:\n",
    "        if ':' in row:\n",
    "            date_time = dt.datetime.strptime(row, '%Y-%m-%d %H:%M:%S+%f:00')\n",
    "        else:\n",
    "            date_time = dt.datetime.strptime(row, '%Y-%m-%d')\n",
    "        dates.append(date_time.date())\n",
    "    df['Comment Datetime'] = dates\n",
    "    df.to_csv(f'{insta_path}/{file}', index=False)"
   ]
  },
  {
   "source": [
    "# Reddit Data"
   ],
   "cell_type": "markdown",
   "metadata": {}
  },
  {
   "cell_type": "code",
   "execution_count": 63,
   "metadata": {},
   "outputs": [],
   "source": [
    "reddit_path = f'{parent_path}/Data/Reddit Data/Cleaned Data/Policies/Combined'\n",
    "files = [file for file in os.listdir(reddit_path) if file != '.DS_Store']"
   ]
  },
  {
   "cell_type": "code",
   "execution_count": 14,
   "metadata": {},
   "outputs": [],
   "source": [
    "for file in files:\n",
    "    df = pd.read_csv(f'{reddit_path}/{file}')\n",
    "    df.rename(columns={'comment_body':'Comments'}, inplace=True)\n",
    "    df.to_csv(f'{reddit_path}/{file}', index=False)"
   ]
  },
  {
   "cell_type": "code",
   "execution_count": 15,
   "metadata": {},
   "outputs": [],
   "source": [
    "for file in files:\n",
    "    df = create_features(f'{reddit_path}/{file}')\n",
    "    df = label_actionable_comments(df, 'Comments')\n",
    "    df = label_valuable_comments(df, vectorizer)\n",
    "    df.to_csv(f'{reddit_path}/{file}', index=False)"
   ]
  },
  {
   "cell_type": "code",
   "execution_count": 66,
   "metadata": {},
   "outputs": [],
   "source": [
    "for file in files:\n",
    "    df = pd.read_csv(f'{reddit_path}/{file}')\n",
    "    df.rename(columns={'comment_created_dts':'Comment Datetime'}, inplace=True)\n",
    "    dates = []\n",
    "    for row in df['Comment Datetime']:\n",
    "        if ':' in row:\n",
    "            date_time = dt.datetime.strptime(row, '%d/%m/%y %H:%M')\n",
    "        else:\n",
    "            date_time = dt.datetime.strptime(row, '%Y-%m-%d')\n",
    "        dates.append(date_time.date())\n",
    "    df['Comment Datetime'] = dates\n",
    "    df.to_csv(f'{reddit_path}/{file}', index=False)"
   ]
  },
  {
   "cell_type": "code",
   "execution_count": null,
   "metadata": {},
   "outputs": [],
   "source": []
  },
  {
   "cell_type": "code",
   "execution_count": null,
   "metadata": {},
   "outputs": [],
   "source": []
  }
 ]
}