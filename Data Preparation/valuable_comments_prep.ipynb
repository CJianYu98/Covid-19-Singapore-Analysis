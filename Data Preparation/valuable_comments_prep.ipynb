{
 "metadata": {
  "language_info": {
   "codemirror_mode": {
    "name": "ipython",
    "version": 3
   },
   "file_extension": ".py",
   "mimetype": "text/x-python",
   "name": "python",
   "nbconvert_exporter": "python",
   "pygments_lexer": "ipython3",
   "version": "3.9.0-final"
  },
  "orig_nbformat": 2,
  "kernelspec": {
   "name": "python3",
   "display_name": "Python 3.9.0 64-bit",
   "metadata": {
    "interpreter": {
     "hash": "7812ea015bdcee6f23a998adcdd2ef97c151c0c241b7b7070987d9313e41299d"
    }
   }
  }
 },
 "nbformat": 4,
 "nbformat_minor": 2,
 "cells": [
  {
   "cell_type": "code",
   "execution_count": 3,
   "metadata": {},
   "outputs": [],
   "source": [
    "import pandas as pd\n",
    "import os\n",
    "# from thoughtfulness_features import *"
   ]
  },
  {
   "source": [
    "# Label each comment by its policy topic"
   ],
   "cell_type": "markdown",
   "metadata": {}
  },
  {
   "cell_type": "code",
   "execution_count": 29,
   "metadata": {},
   "outputs": [],
   "source": [
    "path_parent = os.path.dirname(os.path.dirname(os.getcwd()))\n",
    "file_path = f'{path_parent}/Data/Thoughtful Comments'\n",
    "files = [file for file in os.listdir(file_path) if file != '.DS_Store' and file.endswith('.xlsx')]"
   ]
  },
  {
   "cell_type": "code",
   "execution_count": 30,
   "metadata": {},
   "outputs": [
    {
     "output_type": "execute_result",
     "data": {
      "text/plain": [
       "['safe_distancing.xlsx',\n",
       " 'vaccination.xlsx',\n",
       " 'Tracetogether.xlsx',\n",
       " 'circuit_breaker.xlsx']"
      ]
     },
     "metadata": {},
     "execution_count": 30
    }
   ],
   "source": [
    "files"
   ]
  },
  {
   "cell_type": "code",
   "execution_count": 36,
   "metadata": {},
   "outputs": [],
   "source": [
    "for file in files:\n",
    "    df = pd.read_excel(f'{file_path}/{file}', engine='openpyxl')\n",
    "\n",
    "    topic = \" \".join(file[:-5].split('_'))\n",
    "\n",
    "    df['Topic'] = topic\n",
    "\n",
    "    df.to_csv(f'{file_path}/{topic}.csv')"
   ]
  },
  {
   "source": [
    "# Merging all labelled file into 1 csv file"
   ],
   "cell_type": "markdown",
   "metadata": {}
  },
  {
   "cell_type": "code",
   "execution_count": 40,
   "metadata": {},
   "outputs": [],
   "source": [
    "path_parent = os.path.dirname(os.path.dirname(os.getcwd()))\n",
    "file_path = f'{path_parent}/Data/Thoughtful Comments'\n",
    "files = [file for file in os.listdir(file_path) if file != '.DS_Store' and file.endswith('.csv')]"
   ]
  },
  {
   "cell_type": "code",
   "execution_count": 41,
   "metadata": {},
   "outputs": [
    {
     "output_type": "execute_result",
     "data": {
      "text/plain": [
       "['Tracetogether.csv',\n",
       " 'vaccination.csv',\n",
       " 'circuit breaker.csv',\n",
       " 'safe distancing.csv']"
      ]
     },
     "metadata": {},
     "execution_count": 41
    }
   ],
   "source": [
    "files"
   ]
  },
  {
   "cell_type": "code",
   "execution_count": 42,
   "metadata": {},
   "outputs": [],
   "source": [
    "frames = []\n",
    "for file in files:\n",
    "    df = pd.read_csv(f'{file_path}/{file}')\n",
    "    frames.append(df)"
   ]
  },
  {
   "cell_type": "code",
   "execution_count": 45,
   "metadata": {},
   "outputs": [],
   "source": [
    "df = pd.concat(frames, ignore_index=True)\n",
    "df.to_csv(f'{file_path}/thoughtful_comments_labelled.csv')"
   ]
  },
  {
   "cell_type": "code",
   "execution_count": null,
   "metadata": {},
   "outputs": [],
   "source": []
  },
  {
   "source": [
    "# Preparation of comments for manual labelling (thoughtful or not)"
   ],
   "cell_type": "markdown",
   "metadata": {}
  },
  {
   "source": [
    "## Vaccination"
   ],
   "cell_type": "markdown",
   "metadata": {}
  },
  {
   "cell_type": "code",
   "execution_count": 8,
   "metadata": {},
   "outputs": [],
   "source": [
    "df1 = pd.read_csv(\"/Users/chenjianyu/Desktop/Y2S2/SMT203 Computational Social Sci/Covid-19-Singapore-Analysis/Data/Instagram Data/Cleaned Data/Final/Policies/Combined/vaccination_combined.csv\")\n",
    "df2 = pd.read_csv(\"/Users/chenjianyu/Desktop/Y2S2/SMT203 Computational Social Sci/Covid-19-Singapore-Analysis/Data/Reddit Data/Cleaned Data/Policies/Combined/Vaccination_combined.csv\")\n",
    "df3 = pd.read_csv(\"/Users/chenjianyu/Desktop/Y2S2/SMT203 Computational Social Sci/Covid-19-Singapore-Analysis/Data/Twitter Data/Cleaned Data/Policies/Combined/Vaccination_combined.csv\")\n",
    "df4 = pd.read_csv(\"/Users/chenjianyu/Desktop/Y2S2/SMT203 Computational Social Sci/Covid-19-Singapore-Analysis/Data/Hardwarezone Data/Cleaned Data/hwz_vaccination_posts.csv\")"
   ]
  },
  {
   "cell_type": "code",
   "execution_count": 9,
   "metadata": {},
   "outputs": [],
   "source": [
    "s1 = df1['Comments']\n",
    "s2 = df2['comment_body']\n",
    "s3 = df3['tweet']\n",
    "s4 = df4['Comments']\n",
    "\n",
    "vaccination = pd.concat([s1, s2, s3, s4], ignore_index=True)"
   ]
  },
  {
   "cell_type": "code",
   "execution_count": 10,
   "metadata": {},
   "outputs": [
    {
     "output_type": "execute_result",
     "data": {
      "text/plain": [
       "                                                comment\n",
       "2951  @galattaman @TOIBengaluru Time to give EUA to ...\n",
       "2180  It's simple. You force healthcare workers to i...\n",
       "2993  Sad reality — vaccine may not be available to ...\n",
       "2222  Something tells me that this is just him pande...\n",
       "7742    buttbERry wrote: like that also can u andy lau?"
      ],
      "text/html": "<div>\n<style scoped>\n    .dataframe tbody tr th:only-of-type {\n        vertical-align: middle;\n    }\n\n    .dataframe tbody tr th {\n        vertical-align: top;\n    }\n\n    .dataframe thead th {\n        text-align: right;\n    }\n</style>\n<table border=\"1\" class=\"dataframe\">\n  <thead>\n    <tr style=\"text-align: right;\">\n      <th></th>\n      <th>comment</th>\n    </tr>\n  </thead>\n  <tbody>\n    <tr>\n      <th>2951</th>\n      <td>@galattaman @TOIBengaluru Time to give EUA to ...</td>\n    </tr>\n    <tr>\n      <th>2180</th>\n      <td>It's simple. You force healthcare workers to i...</td>\n    </tr>\n    <tr>\n      <th>2993</th>\n      <td>Sad reality — vaccine may not be available to ...</td>\n    </tr>\n    <tr>\n      <th>2222</th>\n      <td>Something tells me that this is just him pande...</td>\n    </tr>\n    <tr>\n      <th>7742</th>\n      <td>buttbERry wrote: like that also can u andy lau?</td>\n    </tr>\n  </tbody>\n</table>\n</div>"
     },
     "metadata": {},
     "execution_count": 10
    }
   ],
   "source": [
    "vaccination_sample = pd.DataFrame({\"comment\": vaccination.sample(n = 1500)})\n",
    "vaccination_sample.head()"
   ]
  },
  {
   "cell_type": "code",
   "execution_count": 11,
   "metadata": {},
   "outputs": [],
   "source": [
    "vaccination_list = []\n",
    "\n",
    "for row in vaccination_sample['comment']:\n",
    "    vaccination_list.append(row)"
   ]
  },
  {
   "cell_type": "code",
   "execution_count": 12,
   "metadata": {},
   "outputs": [],
   "source": [
    "original = pd.read_csv(\"/Users/chenjianyu/Desktop/Y2S2/SMT203 Computational Social Sci/Covid-19-Singapore-Analysis/Data/Thoughtful Comments/vaccination.csv\")"
   ]
  },
  {
   "cell_type": "code",
   "execution_count": 13,
   "metadata": {},
   "outputs": [],
   "source": [
    "original_list = []\n",
    "\n",
    "for row in original['Comment']:\n",
    "    original_list.append(row)"
   ]
  },
  {
   "cell_type": "code",
   "execution_count": 14,
   "metadata": {},
   "outputs": [],
   "source": [
    "new_comments = list(set(vaccination_list).difference(set(original_list)))\n",
    "vaccination_comments = {'Comment': new_comments}\n",
    "df = pd.DataFrame(vaccination_comments)\n",
    "df = df.sample(n=300, random_state=2).reset_index()\n",
    "df.drop('index', axis = 1, inplace=True)\n",
    "df['Topic'] = \"Vaccination\""
   ]
  },
  {
   "cell_type": "code",
   "execution_count": 15,
   "metadata": {},
   "outputs": [],
   "source": [
    "df.to_csv('/Users/chenjianyu/Desktop/vaccination.csv')"
   ]
  },
  {
   "source": [
    "## Circuit breaker"
   ],
   "cell_type": "markdown",
   "metadata": {}
  },
  {
   "cell_type": "code",
   "execution_count": 16,
   "metadata": {},
   "outputs": [],
   "source": [
    "df1 = pd.read_csv(\"/Users/chenjianyu/Desktop/Y2S2/SMT203 Computational Social Sci/Covid-19-Singapore-Analysis/Data/Instagram Data/Cleaned Data/Final/Policies/Combined/circuit breaker_combined.csv\")\n",
    "df2 = pd.read_csv(\"/Users/chenjianyu/Desktop/Y2S2/SMT203 Computational Social Sci/Covid-19-Singapore-Analysis/Data/Reddit Data/Cleaned Data/Policies/Combined/Circuit Breaker_combined.csv\")\n",
    "df3 = pd.read_csv(\"/Users/chenjianyu/Desktop/Y2S2/SMT203 Computational Social Sci/Covid-19-Singapore-Analysis/Data/Twitter Data/Cleaned Data/Policies/Combined/Circuit Breaker_combined.csv\")\n",
    "df4 = pd.read_csv(\"/Users/chenjianyu/Desktop/Y2S2/SMT203 Computational Social Sci/Covid-19-Singapore-Analysis/Data/Hardwarezone Data/Cleaned Data/hwz_circuit_breaker_posts.csv\")"
   ]
  },
  {
   "cell_type": "code",
   "execution_count": 17,
   "metadata": {},
   "outputs": [],
   "source": [
    "s1 = df1['Comments']\n",
    "s2 = df2['comment_body']\n",
    "s3 = df3['tweet']\n",
    "s4 = df4['Comments']\n",
    "\n",
    "cb = pd.concat([s1, s2, s3, s4], ignore_index=True)\n",
    "cb_sample = pd.DataFrame({\"comment\": cb.sample(n = 1500)})"
   ]
  },
  {
   "cell_type": "code",
   "execution_count": 18,
   "metadata": {},
   "outputs": [],
   "source": [
    "cb_list = []\n",
    "\n",
    "for row in cb_sample['comment']:\n",
    "    cb_list.append(row)"
   ]
  },
  {
   "cell_type": "code",
   "execution_count": 19,
   "metadata": {},
   "outputs": [],
   "source": [
    "original = pd.read_csv(\"/Users/chenjianyu/Desktop/Y2S2/SMT203 Computational Social Sci/Covid-19-Singapore-Analysis/Data/Thoughtful Comments/circuit breaker.csv\")"
   ]
  },
  {
   "cell_type": "code",
   "execution_count": 20,
   "metadata": {},
   "outputs": [],
   "source": [
    "original_list = []\n",
    "\n",
    "for row in original['Comment']:\n",
    "    original_list.append(row)"
   ]
  },
  {
   "cell_type": "code",
   "execution_count": 21,
   "metadata": {},
   "outputs": [],
   "source": [
    "new_comments = list(set(cb_list).difference(set(original_list)))\n",
    "df1 = pd.DataFrame({'Comment': new_comments})\n",
    "df1 = df1.sample(n=300, random_state=2).reset_index()\n",
    "df1.drop('index', axis = 1, inplace=True)\n",
    "df1['Topic'] = \"Circuit Breaker\""
   ]
  },
  {
   "cell_type": "code",
   "execution_count": 22,
   "metadata": {},
   "outputs": [],
   "source": [
    "df1.to_csv('/Users/chenjianyu/Desktop/circuit_breaker.csv')"
   ]
  },
  {
   "source": [
    "## Tracetogether"
   ],
   "cell_type": "markdown",
   "metadata": {}
  },
  {
   "cell_type": "code",
   "execution_count": 23,
   "metadata": {},
   "outputs": [],
   "source": [
    "df1 = pd.read_csv(\"/Users/chenjianyu/Desktop/Y2S2/SMT203 Computational Social Sci/Covid-19-Singapore-Analysis/Data/Instagram Data/Cleaned Data/Final/Policies/Combined/tracetogether_combined.csv\")\n",
    "df2 = pd.read_csv(\"/Users/chenjianyu/Desktop/Y2S2/SMT203 Computational Social Sci/Covid-19-Singapore-Analysis/Data/Reddit Data/Cleaned Data/Policies/Combined/Tracetogether_combined.csv\")\n",
    "df3 = pd.read_csv(\"/Users/chenjianyu/Desktop/Y2S2/SMT203 Computational Social Sci/Covid-19-Singapore-Analysis/Data/Twitter Data/Cleaned Data/Policies/Combined/Tracetogether_combined.csv\")\n",
    "df4 = pd.read_csv(\"/Users/chenjianyu/Desktop/Y2S2/SMT203 Computational Social Sci/Covid-19-Singapore-Analysis/Data/Hardwarezone Data/Cleaned Data/hwz_trace_together_posts.csv\")"
   ]
  },
  {
   "cell_type": "code",
   "execution_count": 24,
   "metadata": {},
   "outputs": [],
   "source": [
    "s1 = df1['Comments']\n",
    "s2 = df2['comment_body']\n",
    "s3 = df3['tweet']\n",
    "s4 = df4['Comments']\n",
    "\n",
    "tt = pd.concat([s1, s2, s3, s4], ignore_index=True)\n",
    "tt_sample = pd.DataFrame({\"comment\": tt.sample(n = 1500)})"
   ]
  },
  {
   "cell_type": "code",
   "execution_count": 25,
   "metadata": {},
   "outputs": [],
   "source": [
    "tt_list = []\n",
    "\n",
    "for row in tt_sample['comment']:\n",
    "    tt_list.append(row)"
   ]
  },
  {
   "cell_type": "code",
   "execution_count": 26,
   "metadata": {},
   "outputs": [],
   "source": [
    "original = pd.read_csv(\"/Users/chenjianyu/Desktop/Y2S2/SMT203 Computational Social Sci/Covid-19-Singapore-Analysis/Data/Thoughtful Comments/Tracetogether.csv\")"
   ]
  },
  {
   "cell_type": "code",
   "execution_count": 27,
   "metadata": {},
   "outputs": [],
   "source": [
    "original_list = []\n",
    "\n",
    "for row in original['Comment']:\n",
    "    original_list.append(row)"
   ]
  },
  {
   "cell_type": "code",
   "execution_count": 28,
   "metadata": {},
   "outputs": [],
   "source": [
    "new_comments = list(set(tt_list).difference(set(original_list)))\n",
    "df1 = pd.DataFrame({'Comment': new_comments})\n",
    "df1 = df1.sample(n=300, random_state=2).reset_index()\n",
    "df1.drop('index', axis = 1, inplace=True)\n",
    "df1['Topic'] = \"Tracetogether\""
   ]
  },
  {
   "cell_type": "code",
   "execution_count": 29,
   "metadata": {},
   "outputs": [],
   "source": [
    "df1.to_csv('/Users/chenjianyu/Desktop/tracetogether.csv')"
   ]
  },
  {
   "source": [
    "## Social Distancing"
   ],
   "cell_type": "markdown",
   "metadata": {}
  },
  {
   "cell_type": "code",
   "execution_count": 30,
   "metadata": {},
   "outputs": [],
   "source": [
    "df1 = pd.read_csv(\"/Users/chenjianyu/Desktop/Y2S2/SMT203 Computational Social Sci/Covid-19-Singapore-Analysis/Data/Instagram Data/Cleaned Data/Final/Policies/Combined/social distancing_combined.csv\")\n",
    "df2 = pd.read_csv(\"/Users/chenjianyu/Desktop/Y2S2/SMT203 Computational Social Sci/Covid-19-Singapore-Analysis/Data/Reddit Data/Cleaned Data/Policies/Combined/Safe distancing_combined.csv\")\n",
    "df3 = pd.read_csv(\"/Users/chenjianyu/Desktop/Y2S2/SMT203 Computational Social Sci/Covid-19-Singapore-Analysis/Data/Twitter Data/Cleaned Data/Policies/Combined/Safe distancing_combined.csv\")\n",
    "df4 = pd.read_csv(\"/Users/chenjianyu/Desktop/Y2S2/SMT203 Computational Social Sci/Covid-19-Singapore-Analysis/Data/Hardwarezone Data/Cleaned Data/hwz_social_distancing_posts.csv\")"
   ]
  },
  {
   "cell_type": "code",
   "execution_count": 31,
   "metadata": {},
   "outputs": [],
   "source": [
    "s1 = df1['Comments']\n",
    "s2 = df2['comment_body']\n",
    "s3 = df3['tweet']\n",
    "s4 = df4['Comments']\n",
    "\n",
    "social_dist = pd.concat([s1, s2, s3, s4], ignore_index=True)\n",
    "social_dist_sample = pd.DataFrame({\"comment\": social_dist.sample(n = 1500)})"
   ]
  },
  {
   "cell_type": "code",
   "execution_count": 32,
   "metadata": {},
   "outputs": [],
   "source": [
    "social_dist_list = []\n",
    "\n",
    "for row in social_dist_sample['comment']:\n",
    "    social_dist_list.append(row)"
   ]
  },
  {
   "cell_type": "code",
   "execution_count": 33,
   "metadata": {},
   "outputs": [],
   "source": [
    "original = pd.read_csv(\"/Users/chenjianyu/Desktop/Y2S2/SMT203 Computational Social Sci/Covid-19-Singapore-Analysis/Data/Thoughtful Comments/safe distancing.csv\")"
   ]
  },
  {
   "cell_type": "code",
   "execution_count": 34,
   "metadata": {},
   "outputs": [],
   "source": [
    "original_list = []\n",
    "\n",
    "for row in original['Comment']:\n",
    "    original_list.append(row)"
   ]
  },
  {
   "cell_type": "code",
   "execution_count": 35,
   "metadata": {},
   "outputs": [],
   "source": [
    "new_comments = list(set(social_dist_list).difference(set(original_list)))\n",
    "df1 = pd.DataFrame({'Comment': new_comments})\n",
    "df1 = df1.sample(n=300, random_state=2).reset_index()\n",
    "df1.drop('index', axis = 1, inplace=True)\n",
    "df1['Topic'] = \"Social Distancing\""
   ]
  },
  {
   "cell_type": "code",
   "execution_count": 36,
   "metadata": {},
   "outputs": [],
   "source": [
    "df1.to_csv('/Users/chenjianyu/Desktop/social_distancing.csv')"
   ]
  },
  {
   "source": [
    "## Foreign Worker"
   ],
   "cell_type": "markdown",
   "metadata": {}
  },
  {
   "cell_type": "code",
   "execution_count": 37,
   "metadata": {},
   "outputs": [],
   "source": [
    "df1 = pd.read_csv(\"/Users/chenjianyu/Desktop/Y2S2/SMT203 Computational Social Sci/Covid-19-Singapore-Analysis/Data/Instagram Data/Cleaned Data/Final/Policies/Combined/foreign worker_combined.csv\")\n",
    "df2 = pd.read_csv(\"/Users/chenjianyu/Desktop/Y2S2/SMT203 Computational Social Sci/Covid-19-Singapore-Analysis/Data/Reddit Data/Cleaned Data/Policies/Combined/Foreign worker_combined.csv\")\n",
    "df3 = pd.read_csv(\"/Users/chenjianyu/Desktop/Y2S2/SMT203 Computational Social Sci/Covid-19-Singapore-Analysis/Data/Twitter Data/Cleaned Data/Policies/Combined/Foreign worker_combined.csv\")\n",
    "df4 = pd.read_csv(\"/Users/chenjianyu/Desktop/Y2S2/SMT203 Computational Social Sci/Covid-19-Singapore-Analysis/Data/Hardwarezone Data/Cleaned Data/hwz_foreign_workers_posts.csv\")"
   ]
  },
  {
   "cell_type": "code",
   "execution_count": 38,
   "metadata": {},
   "outputs": [],
   "source": [
    "s1 = df1['Comments']\n",
    "s2 = df2['comment_body']\n",
    "s3 = df3['tweet']\n",
    "s4 = df4['Comments']\n",
    "\n",
    "fw = pd.concat([s1, s2, s3, s4], ignore_index=True)\n",
    "fw_sample = pd.DataFrame({\"comment\": fw.sample(n = 1100)})\n",
    "fw_sample['Topic'] = \"Foreign Worker\"\n",
    "fw_sample.reset_index(inplace=True)\n",
    "\n",
    "fw_sample_training = fw_sample[0:800]\n",
    "fw_sample_validation = fw_sample[800:1100]"
   ]
  },
  {
   "cell_type": "code",
   "execution_count": 39,
   "metadata": {},
   "outputs": [],
   "source": [
    "fw_sample_validation = fw_sample_validation[['comment', 'Topic']]"
   ]
  },
  {
   "cell_type": "code",
   "execution_count": 40,
   "metadata": {},
   "outputs": [],
   "source": [
    "fw_sample_training.to_csv('/Users/chenjianyu/Desktop/foreign_worker.csv')"
   ]
  },
  {
   "source": [
    "## Extra validation data"
   ],
   "cell_type": "markdown",
   "metadata": {}
  },
  {
   "cell_type": "code",
   "execution_count": 52,
   "metadata": {},
   "outputs": [],
   "source": [
    "validation_frames = []\n",
    "validation_frames.append(fw_sample_validation)"
   ]
  },
  {
   "cell_type": "code",
   "execution_count": 57,
   "metadata": {},
   "outputs": [],
   "source": [
    "sd_sample_v = pd.DataFrame({\"comment\": tt.sample(n = 600)})\n",
    "\n",
    "sd_list_v = []\n",
    "\n",
    "for row in sd_sample_v['comment']:\n",
    "    sd_list_v.append(row)"
   ]
  },
  {
   "cell_type": "code",
   "execution_count": 58,
   "metadata": {},
   "outputs": [],
   "source": [
    "new_comments = list(set(tt_list).difference(set(sd_list_v)))\n",
    "df1 = pd.DataFrame({'Comment': new_comments})\n",
    "df1 = df1.sample(n=300, random_state=2).reset_index()\n",
    "df1.drop('index', axis = 1, inplace=True)\n",
    "df1['Topic'] = \"Tracetogether\"\n",
    "validation_frames.append(df1)"
   ]
  },
  {
   "cell_type": "code",
   "execution_count": 59,
   "metadata": {},
   "outputs": [],
   "source": [
    "validation_data = pd.concat(validation_frames, ignore_index=True)"
   ]
  },
  {
   "cell_type": "code",
   "execution_count": 60,
   "metadata": {},
   "outputs": [
    {
     "output_type": "execute_result",
     "data": {
      "text/plain": [
       "                                               comment           Topic  \\\n",
       "0    @leehsienloong please stay healthy and safe fo...  Foreign Worker   \n",
       "1    @JawedAshraf5 my mom is a senior citizen visit...  Foreign Worker   \n",
       "2    THEIR MOM SAID I HAVE NICE EYES IM GONNA MARRY...  Foreign Worker   \n",
       "3    Grandma is warded at Hosp Sg Buloh. Out of sud...  Foreign Worker   \n",
       "4    @jbhavan Instant costs or in the past?  (Could...  Foreign Worker   \n",
       "..                                                 ...             ...   \n",
       "895                                                NaN   Tracetogether   \n",
       "896                                                NaN   Tracetogether   \n",
       "897                                                NaN   Tracetogether   \n",
       "898                                                NaN   Tracetogether   \n",
       "899                                                NaN   Tracetogether   \n",
       "\n",
       "                                               Comment  \n",
       "0                                                  NaN  \n",
       "1                                                  NaN  \n",
       "2                                                  NaN  \n",
       "3                                                  NaN  \n",
       "4                                                  NaN  \n",
       "..                                                 ...  \n",
       "895                         Well it is open source so?  \n",
       "896  Very good response, very high participation ra...  \n",
       "897  \"Ownself check ownself\"; \"kah kee kong kah kee...  \n",
       "898  desmond_yee1 wrote: can't ask for location if ...  \n",
       "899  And because wireless earbuds are now so widesp...  \n",
       "\n",
       "[900 rows x 3 columns]"
      ],
      "text/html": "<div>\n<style scoped>\n    .dataframe tbody tr th:only-of-type {\n        vertical-align: middle;\n    }\n\n    .dataframe tbody tr th {\n        vertical-align: top;\n    }\n\n    .dataframe thead th {\n        text-align: right;\n    }\n</style>\n<table border=\"1\" class=\"dataframe\">\n  <thead>\n    <tr style=\"text-align: right;\">\n      <th></th>\n      <th>comment</th>\n      <th>Topic</th>\n      <th>Comment</th>\n    </tr>\n  </thead>\n  <tbody>\n    <tr>\n      <th>0</th>\n      <td>@leehsienloong please stay healthy and safe fo...</td>\n      <td>Foreign Worker</td>\n      <td>NaN</td>\n    </tr>\n    <tr>\n      <th>1</th>\n      <td>@JawedAshraf5 my mom is a senior citizen visit...</td>\n      <td>Foreign Worker</td>\n      <td>NaN</td>\n    </tr>\n    <tr>\n      <th>2</th>\n      <td>THEIR MOM SAID I HAVE NICE EYES IM GONNA MARRY...</td>\n      <td>Foreign Worker</td>\n      <td>NaN</td>\n    </tr>\n    <tr>\n      <th>3</th>\n      <td>Grandma is warded at Hosp Sg Buloh. Out of sud...</td>\n      <td>Foreign Worker</td>\n      <td>NaN</td>\n    </tr>\n    <tr>\n      <th>4</th>\n      <td>@jbhavan Instant costs or in the past?  (Could...</td>\n      <td>Foreign Worker</td>\n      <td>NaN</td>\n    </tr>\n    <tr>\n      <th>...</th>\n      <td>...</td>\n      <td>...</td>\n      <td>...</td>\n    </tr>\n    <tr>\n      <th>895</th>\n      <td>NaN</td>\n      <td>Tracetogether</td>\n      <td>Well it is open source so?</td>\n    </tr>\n    <tr>\n      <th>896</th>\n      <td>NaN</td>\n      <td>Tracetogether</td>\n      <td>Very good response, very high participation ra...</td>\n    </tr>\n    <tr>\n      <th>897</th>\n      <td>NaN</td>\n      <td>Tracetogether</td>\n      <td>\"Ownself check ownself\"; \"kah kee kong kah kee...</td>\n    </tr>\n    <tr>\n      <th>898</th>\n      <td>NaN</td>\n      <td>Tracetogether</td>\n      <td>desmond_yee1 wrote: can't ask for location if ...</td>\n    </tr>\n    <tr>\n      <th>899</th>\n      <td>NaN</td>\n      <td>Tracetogether</td>\n      <td>And because wireless earbuds are now so widesp...</td>\n    </tr>\n  </tbody>\n</table>\n<p>900 rows × 3 columns</p>\n</div>"
     },
     "metadata": {},
     "execution_count": 60
    }
   ],
   "source": [
    "validation_data"
   ]
  },
  {
   "cell_type": "code",
   "execution_count": 61,
   "metadata": {},
   "outputs": [],
   "source": [
    "validation_data.to_csv('/Users/chenjianyu/Desktop/validation.csv')"
   ]
  },
  {
   "source": [
    "# Merging of dataframe to create validation data"
   ],
   "cell_type": "markdown",
   "metadata": {}
  },
  {
   "cell_type": "code",
   "execution_count": null,
   "metadata": {},
   "outputs": [],
   "source": [
    "df_merged = pd.concat([df, df1], ignore_index=True)"
   ]
  },
  {
   "cell_type": "code",
   "execution_count": null,
   "metadata": {},
   "outputs": [],
   "source": [
    "df_merged.to_excel(\"/Users/chenjianyu/Desktop/Y2S2/SMT203 Computational Social Sci/Covid-19-Singapore-Analysis/Data/Thoughtful Comments/validation_comments.xls\")"
   ]
  }
 ]
}