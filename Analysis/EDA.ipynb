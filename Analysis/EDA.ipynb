{
 "metadata": {
  "language_info": {
   "codemirror_mode": {
    "name": "ipython",
    "version": 3
   },
   "file_extension": ".py",
   "mimetype": "text/x-python",
   "name": "python",
   "nbconvert_exporter": "python",
   "pygments_lexer": "ipython3",
   "version": "3.7.3-final"
  },
  "orig_nbformat": 2,
  "kernelspec": {
   "name": "python3",
   "display_name": "Python 3",
   "language": "python"
  }
 },
 "nbformat": 4,
 "nbformat_minor": 2,
 "cells": [
  {
   "source": [
    "# Before modelling"
   ],
   "cell_type": "markdown",
   "metadata": {}
  },
  {
   "source": [
    "## Number of comments per policy"
   ],
   "cell_type": "markdown",
   "metadata": {}
  },
  {
   "cell_type": "code",
   "execution_count": 1,
   "metadata": {},
   "outputs": [],
   "source": [
    "# Run once\n",
    "\n",
    "from utils import *\n",
    "\n",
    "df = get_merged_policy_df(\"circuit\")\n",
    "df.to_csv(\"General EDA/merged_eda_datasets/circuit_breaker.csv\", index = False)\n",
    "\n",
    "df = get_merged_policy_df(\"economic\")\n",
    "df.to_csv(\"General EDA/merged_eda_datasets/economic_measures.csv\", index = False)\n",
    "\n",
    "df = get_merged_policy_df(\"foreign\")\n",
    "df.to_csv(\"General EDA/merged_eda_datasets/foreign_worker.csv\", index = False)\n",
    "\n",
    "df = get_merged_policy_df(\"mask\")\n",
    "df.to_csv(\"General EDA/merged_eda_datasets/masks.csv\", index = False)\n",
    "\n",
    "df = get_merged_policy_df(\"phases\")\n",
    "df.to_csv(\"General EDA/merged_eda_datasets/phases.csv\", index = False)\n",
    "\n",
    "df = get_merged_policy_df(\"safe\")\n",
    "df.to_csv(\"General EDA/merged_eda_datasets/safeentry.csv\", index = False)\n",
    "\n",
    "df = get_merged_policy_df(\"stay\")\n",
    "df.to_csv(\"General EDA/merged_eda_datasets/stay_home_notice.csv\", index = False)\n",
    "\n",
    "df = get_merged_policy_df(\"distancing\")\n",
    "df.to_csv(\"General EDA/merged_eda_datasets/social_distancing.csv\", index = False)\n",
    "\n",
    "df = get_merged_policy_df(\"trace\")\n",
    "df.to_csv(\"General EDA/merged_eda_datasets/tracetogether.csv\", index = False)\n",
    "\n",
    "df = get_merged_policy_df(\"vaccination\")\n",
    "df.to_csv(\"General EDA/merged_eda_datasets/vaccination.csv\", index = False)\n"
   ]
  },
  {
   "cell_type": "code",
   "execution_count": 2,
   "metadata": {},
   "outputs": [],
   "source": [
    "path_parent = \"C:/Users/user/Documents/GitHub\"\n",
    "policy_folder = f\"{path_parent}/Covid-19-Singapore-Analysis/Analysis/General EDA/merged_eda_datasets\"\n",
    "df = pd.DataFrame()\n",
    "policy_list = [file for file in os.listdir(policy_folder) if file != '.DS_Store']\n",
    "for policy_filename in policy_list:\n",
    "    temp = pd.read_csv(f\"{policy_folder}/{policy_filename}\")\n",
    "    temp[\"policy\"] = policy_filename[:-4]\n",
    "    df = df.append(temp, ignore_index = True)\n",
    "df\n",
    "df.to_csv(\"General EDA/raw_combined.csv\", index=False)"
   ]
  },
  {
   "cell_type": "code",
   "execution_count": 11,
   "metadata": {},
   "outputs": [
    {
     "output_type": "execute_result",
     "data": {
      "text/plain": [
       "0.0    234692\n",
       "1.0     42326\n",
       "Name: valuable, dtype: int64"
      ]
     },
     "metadata": {},
     "execution_count": 11
    }
   ],
   "source": [
    "# df_list = []\n",
    "\n",
    "# for folder_path in folder_path_list:\n",
    "#     files = [filename for filename in os.listdir(\"/Users/joshuawong/Documents/GitHub/Covid-19-Singapore-Analysis/Data/Twitter Data/Cleaned Data/Policies/Combined\") if filename.lower().startswith(\"circuit\")]\n",
    "\n",
    "#     for file in files:\n",
    "#         temp = pd.read_csv(f'{folder_path}/{file}')\n",
    "#         df_list.append(temp)\n",
    "\n",
    "# df = pd.concat(df_list, ignore_index=True)\n",
    "\n",
    "df.head()\n",
    "# df['valuable'].value_counts()\n"
   ]
  },
  {
   "source": [
    "# After Extracting Valuable Comments"
   ],
   "cell_type": "markdown",
   "metadata": {}
  },
  {
   "cell_type": "code",
   "execution_count": 12,
   "metadata": {},
   "outputs": [
    {
     "output_type": "stream",
     "name": "stdout",
     "text": [
      "<class 'pandas.core.frame.DataFrame'>\nInt64Index: 42326 entries, 7 to 277016\nData columns (total 5 columns):\n #   Column            Non-Null Count  Dtype  \n---  ------            --------------  -----  \n 0   Comments          42326 non-null  object \n 1   Comment Datetime  42326 non-null  object \n 2   valuable          42326 non-null  float64\n 3   platform          42326 non-null  object \n 4   policy            42326 non-null  object \ndtypes: float64(1), object(4)\nmemory usage: 1.9+ MB\n"
     ]
    }
   ],
   "source": [
    "valuable_df = df[df.valuable == 1.0]\n",
    "valuable_df.info()\n",
    "\n",
    "valuable_df.to_csv(\"General EDA/valuable_combined.csv\", index=False)"
   ]
  }
 ]
}