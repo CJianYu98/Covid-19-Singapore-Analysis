{
 "metadata": {
  "language_info": {
   "codemirror_mode": {
    "name": "ipython",
    "version": 3
   },
   "file_extension": ".py",
   "mimetype": "text/x-python",
   "name": "python",
   "nbconvert_exporter": "python",
   "pygments_lexer": "ipython3",
   "version": "3.8.5-final"
  },
  "orig_nbformat": 2,
  "kernelspec": {
   "name": "python3",
   "display_name": "Python 3.8.5 64-bit ('anaconda3': virtualenv)",
   "metadata": {
    "interpreter": {
     "hash": "dca0ade3e726a953b501b15e8e990130d2b7799f14cfd9f4271676035ebe5511"
    }
   }
  }
 },
 "nbformat": 4,
 "nbformat_minor": 2,
 "cells": [
  {
   "source": [
    "# Before modelling"
   ],
   "cell_type": "markdown",
   "metadata": {}
  },
  {
   "source": [
    "## Number of comments per policy"
   ],
   "cell_type": "markdown",
   "metadata": {}
  },
  {
   "cell_type": "code",
   "execution_count": 2,
   "metadata": {},
   "outputs": [],
   "source": [
    "# Run once\n",
    "\n",
    "from utils import *\n",
    "\n",
    "df = get_merged_policy_df(\"circuit\")\n",
    "df.to_csv(\"merged_eda_datasets/circuit_breaker.csv\", index = False)\n",
    "\n",
    "df = get_merged_policy_df(\"economic\")\n",
    "df.to_csv(\"merged_eda_datasets/economic_measures.csv\", index = False)\n",
    "\n",
    "df = get_merged_policy_df(\"foreign\")\n",
    "df.to_csv(\"merged_eda_datasets/foreign_worker.csv\", index = False)\n",
    "\n",
    "df = get_merged_policy_df(\"mask\")\n",
    "df.to_csv(\"merged_eda_datasets/masks.csv\", index = False)\n",
    "\n",
    "df = get_merged_policy_df(\"phases\")\n",
    "df.to_csv(\"merged_eda_datasets/phases.csv\", index = False)\n",
    "\n",
    "df = get_merged_policy_df(\"safe\")\n",
    "df.to_csv(\"merged_eda_datasets/safeentry.csv\", index = False)\n",
    "\n",
    "df = get_merged_policy_df(\"stay\")\n",
    "df.to_csv(\"merged_eda_datasets/stay_home_notice.csv\", index = False)\n",
    "\n",
    "df = get_merged_policy_df(\"distancing\")\n",
    "df.to_csv(\"merged_eda_datasets/social_distancing.csv\", index = False)\n",
    "\n",
    "df = get_merged_policy_df(\"trace\")\n",
    "df.to_csv(\"merged_eda_datasets/tracetogether.csv\", index = False)\n",
    "\n",
    "df = get_merged_policy_df(\"vaccination\")\n",
    "df.to_csv(\"merged_eda_datasets/vaccination.csv\", index = False)\n"
   ]
  },
  {
   "cell_type": "code",
   "execution_count": 5,
   "metadata": {},
   "outputs": [
    {
     "output_type": "stream",
     "name": "stdout",
     "text": [
      "<class 'pandas.core.frame.DataFrame'>\nInt64Index: 9987 entries, 0 to 5330\nData columns (total 2 columns):\n #   Column    Non-Null Count  Dtype \n---  ------    --------------  ----- \n 0   text      9987 non-null   object\n 1   datetime  9987 non-null   object\ndtypes: object(2)\nmemory usage: 234.1+ KB\n"
     ]
    }
   ],
   "source": [
    "df.info()\n",
    "len(df.index())"
   ]
  },
  {
   "cell_type": "code",
   "execution_count": 6,
   "metadata": {},
   "outputs": [
    {
     "output_type": "execute_result",
     "data": {
      "text/plain": [
       "9987"
      ]
     },
     "metadata": {},
     "execution_count": 6
    }
   ],
   "source": []
  },
  {
   "cell_type": "code",
   "execution_count": 11,
   "metadata": {},
   "outputs": [],
   "source": [
    "folder_path_list = [\n",
    "    \"/Users/joshuawong/Documents/GitHub/Covid-19-Singapore-Analysis/Data/Twitter Data/Cleaned Data/Policies/Combined\", # Twiter\n",
    "    \"/Users/joshuawong/Documents/GitHub/Covid-19-Singapore-Analysis/Data/Reddit Data/Cleaned Data/Policies/Combined\" \n",
    "]"
   ]
  },
  {
   "cell_type": "code",
   "execution_count": 3,
   "metadata": {},
   "outputs": [],
   "source": [
    "df = get_policy_df(folder_path_list, \"circuit\")\n"
   ]
  },
  {
   "cell_type": "code",
   "execution_count": 1,
   "metadata": {},
   "outputs": [
    {
     "output_type": "error",
     "ename": "NameError",
     "evalue": "name 'folder_path_list' is not defined",
     "traceback": [
      "\u001b[0;31m---------------------------------------------------------------------------\u001b[0m",
      "\u001b[0;31mNameError\u001b[0m                                 Traceback (most recent call last)",
      "\u001b[0;32m<ipython-input-1-c5535c2ef72d>\u001b[0m in \u001b[0;36m<module>\u001b[0;34m\u001b[0m\n\u001b[1;32m      1\u001b[0m \u001b[0mdf_list\u001b[0m \u001b[0;34m=\u001b[0m \u001b[0;34m[\u001b[0m\u001b[0;34m]\u001b[0m\u001b[0;34m\u001b[0m\u001b[0;34m\u001b[0m\u001b[0m\n\u001b[1;32m      2\u001b[0m \u001b[0;34m\u001b[0m\u001b[0m\n\u001b[0;32m----> 3\u001b[0;31m \u001b[0;32mfor\u001b[0m \u001b[0mfolder_path\u001b[0m \u001b[0;32min\u001b[0m \u001b[0mfolder_path_list\u001b[0m\u001b[0;34m:\u001b[0m\u001b[0;34m\u001b[0m\u001b[0;34m\u001b[0m\u001b[0m\n\u001b[0m\u001b[1;32m      4\u001b[0m     \u001b[0mfiles\u001b[0m \u001b[0;34m=\u001b[0m \u001b[0;34m[\u001b[0m\u001b[0mfilename\u001b[0m \u001b[0;32mfor\u001b[0m \u001b[0mfilename\u001b[0m \u001b[0;32min\u001b[0m \u001b[0mos\u001b[0m\u001b[0;34m.\u001b[0m\u001b[0mlistdir\u001b[0m\u001b[0;34m(\u001b[0m\u001b[0;34m\"/Users/joshuawong/Documents/GitHub/Covid-19-Singapore-Analysis/Data/Twitter Data/Cleaned Data/Policies/Combined\"\u001b[0m\u001b[0;34m)\u001b[0m \u001b[0;32mif\u001b[0m \u001b[0mfilename\u001b[0m\u001b[0;34m.\u001b[0m\u001b[0mlower\u001b[0m\u001b[0;34m(\u001b[0m\u001b[0;34m)\u001b[0m\u001b[0;34m.\u001b[0m\u001b[0mstartswith\u001b[0m\u001b[0;34m(\u001b[0m\u001b[0;34m\"circuit\"\u001b[0m\u001b[0;34m)\u001b[0m\u001b[0;34m]\u001b[0m\u001b[0;34m\u001b[0m\u001b[0;34m\u001b[0m\u001b[0m\n\u001b[1;32m      5\u001b[0m \u001b[0;34m\u001b[0m\u001b[0m\n",
      "\u001b[0;31mNameError\u001b[0m: name 'folder_path_list' is not defined"
     ]
    }
   ],
   "source": [
    "df_list = []\n",
    "\n",
    "for folder_path in folder_path_list:\n",
    "    files = [filename for filename in os.listdir(\"/Users/joshuawong/Documents/GitHub/Covid-19-Singapore-Analysis/Data/Twitter Data/Cleaned Data/Policies/Combined\") if filename.lower().startswith(\"circuit\")]\n",
    "\n",
    "    for file in files:\n",
    "        temp = pd.read_csv(f'{folder_path}/{file}')\n",
    "        df_list.append(temp)\n",
    "\n",
    "df = pd.concat(df_list, ignore_index=True)\n",
    "\n",
    "df.head()\n"
   ]
  }
 ]
}