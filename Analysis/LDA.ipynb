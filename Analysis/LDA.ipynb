{
 "metadata": {
  "language_info": {
   "codemirror_mode": {
    "name": "ipython",
    "version": 3
   },
   "file_extension": ".py",
   "mimetype": "text/x-python",
   "name": "python",
   "nbconvert_exporter": "python",
   "pygments_lexer": "ipython3",
   "version": "3.7.3-final"
  },
  "orig_nbformat": 2,
  "kernelspec": {
   "name": "python3",
   "display_name": "Python 3",
   "language": "python"
  }
 },
 "nbformat": 4,
 "nbformat_minor": 2,
 "cells": [
  {
   "cell_type": "code",
   "execution_count": 74,
   "metadata": {},
   "outputs": [],
   "source": [
    "import pandas as pd\n",
    "import re\n",
    "import nltk\n",
    "from nltk.tokenize import TweetTokenizer\n",
    "from nltk.corpus import stopwords\n",
    "import gensim\n",
    "import pyLDAvis.gensim\n",
    "from gensim.models import CoherenceModel"
   ]
  },
  {
   "cell_type": "code",
   "execution_count": 44,
   "metadata": {},
   "outputs": [],
   "source": [
    "stop_list = stopwords.words('english')"
   ]
  },
  {
   "cell_type": "code",
   "execution_count": 45,
   "metadata": {},
   "outputs": [],
   "source": [
    "def remove_hashtag_mentions_urls(text):\n",
    "    # e.sub(r\"(?:\\@|https?\\://)\\S+\", \"\", text) # remove mentions and url only\n",
    "    return re.sub(r\"(?:\\@|\\#|https?\\://)\\S+\", \"\", text)\n",
    "\n",
    "def process_text(df, comment_header):\n",
    "    processed = []\n",
    "    for text in df[comment_header]:\n",
    "        text = remove_hashtag_mentions_urls(text)\n",
    "        tokenized = TweetTokenizer().tokenize(text)\n",
    "        lowercased = [w.lower() for w in tokenized]\n",
    "        words_only = [w for w in lowercased if re.search('^[a-z]+$',w)]\n",
    "        stop_removed = [w for w in words_only if w not in stop_list]\n",
    "        processed.append(stop_removed)\n",
    "    df['Text Processed'] = processed\n",
    "    return df\n",
    "\n",
    "def text2vecs(df, comment_header):\n",
    "    texts = [text for text in df[comment_header]]\n",
    "    dic = gensim.corpora.Dictionary(texts)\n",
    "    vecs = [dic.doc2bow(text) for text in texts]\n",
    "    return dic, vecs"
   ]
  },
  {
   "cell_type": "code",
   "execution_count": 67,
   "metadata": {},
   "outputs": [
    {
     "output_type": "execute_result",
     "data": {
      "text/plain": [
       "    Unnamed: 0                                            Comment  \\\n",
       "10          10  Even if CB is not extended, like what you said...   \n",
       "11          11  Hi, so as long as it is cohabitation for the f...   \n",
       "15          15  What the hell is a circuit breaker? Just say l...   \n",
       "24          24  Why is TCM included in the first wave of thing...   \n",
       "28          28  How does it work for those who are staying tem...   \n",
       "\n",
       "              Topic  Label1  Label2  Label3  Thoughtful? (voting)  \\\n",
       "10  Circuit Breaker       1       1     1.0                     1   \n",
       "11  Circuit Breaker       1       0     1.0                     1   \n",
       "15  Circuit Breaker       0       0     1.0                     0   \n",
       "24  Circuit Breaker       1       0     1.0                     1   \n",
       "28  Circuit Breaker       0       0     1.0                     0   \n",
       "\n",
       "    Thoughtful?  Length  Length Category  Average Loglikelihood  Num Verbs  \\\n",
       "10            1      55                3             -10.844451         12   \n",
       "11            1      31                2             -10.299370          5   \n",
       "15            1      13                1             -11.852054          3   \n",
       "24            1      17                1             -10.509482          5   \n",
       "28            1      37                2             -11.161150          7   \n",
       "\n",
       "    Num Discourse Relations  Num Pronouns  Relevance score  \\\n",
       "10                        2             4         6.867072   \n",
       "11                        1             0        11.208939   \n",
       "15                        0             0        16.235624   \n",
       "24                        0             0        36.848291   \n",
       "28                        2             1        15.463359   \n",
       "\n",
       "    Relevance Score Category  \n",
       "10                         1  \n",
       "11                         2  \n",
       "15                         2  \n",
       "24                         4  \n",
       "28                         2  "
      ],
      "text/html": "<div>\n<style scoped>\n    .dataframe tbody tr th:only-of-type {\n        vertical-align: middle;\n    }\n\n    .dataframe tbody tr th {\n        vertical-align: top;\n    }\n\n    .dataframe thead th {\n        text-align: right;\n    }\n</style>\n<table border=\"1\" class=\"dataframe\">\n  <thead>\n    <tr style=\"text-align: right;\">\n      <th></th>\n      <th>Unnamed: 0</th>\n      <th>Comment</th>\n      <th>Topic</th>\n      <th>Label1</th>\n      <th>Label2</th>\n      <th>Label3</th>\n      <th>Thoughtful? (voting)</th>\n      <th>Thoughtful?</th>\n      <th>Length</th>\n      <th>Length Category</th>\n      <th>Average Loglikelihood</th>\n      <th>Num Verbs</th>\n      <th>Num Discourse Relations</th>\n      <th>Num Pronouns</th>\n      <th>Relevance score</th>\n      <th>Relevance Score Category</th>\n    </tr>\n  </thead>\n  <tbody>\n    <tr>\n      <th>10</th>\n      <td>10</td>\n      <td>Even if CB is not extended, like what you said...</td>\n      <td>Circuit Breaker</td>\n      <td>1</td>\n      <td>1</td>\n      <td>1.0</td>\n      <td>1</td>\n      <td>1</td>\n      <td>55</td>\n      <td>3</td>\n      <td>-10.844451</td>\n      <td>12</td>\n      <td>2</td>\n      <td>4</td>\n      <td>6.867072</td>\n      <td>1</td>\n    </tr>\n    <tr>\n      <th>11</th>\n      <td>11</td>\n      <td>Hi, so as long as it is cohabitation for the f...</td>\n      <td>Circuit Breaker</td>\n      <td>1</td>\n      <td>0</td>\n      <td>1.0</td>\n      <td>1</td>\n      <td>1</td>\n      <td>31</td>\n      <td>2</td>\n      <td>-10.299370</td>\n      <td>5</td>\n      <td>1</td>\n      <td>0</td>\n      <td>11.208939</td>\n      <td>2</td>\n    </tr>\n    <tr>\n      <th>15</th>\n      <td>15</td>\n      <td>What the hell is a circuit breaker? Just say l...</td>\n      <td>Circuit Breaker</td>\n      <td>0</td>\n      <td>0</td>\n      <td>1.0</td>\n      <td>0</td>\n      <td>1</td>\n      <td>13</td>\n      <td>1</td>\n      <td>-11.852054</td>\n      <td>3</td>\n      <td>0</td>\n      <td>0</td>\n      <td>16.235624</td>\n      <td>2</td>\n    </tr>\n    <tr>\n      <th>24</th>\n      <td>24</td>\n      <td>Why is TCM included in the first wave of thing...</td>\n      <td>Circuit Breaker</td>\n      <td>1</td>\n      <td>0</td>\n      <td>1.0</td>\n      <td>1</td>\n      <td>1</td>\n      <td>17</td>\n      <td>1</td>\n      <td>-10.509482</td>\n      <td>5</td>\n      <td>0</td>\n      <td>0</td>\n      <td>36.848291</td>\n      <td>4</td>\n    </tr>\n    <tr>\n      <th>28</th>\n      <td>28</td>\n      <td>How does it work for those who are staying tem...</td>\n      <td>Circuit Breaker</td>\n      <td>0</td>\n      <td>0</td>\n      <td>1.0</td>\n      <td>0</td>\n      <td>1</td>\n      <td>37</td>\n      <td>2</td>\n      <td>-11.161150</td>\n      <td>7</td>\n      <td>2</td>\n      <td>1</td>\n      <td>15.463359</td>\n      <td>2</td>\n    </tr>\n  </tbody>\n</table>\n</div>"
     },
     "metadata": {},
     "execution_count": 67
    }
   ],
   "source": [
    "df = pd.read_csv(\"C:/Users/user/Documents/GitHub/Covid-19-Singapore-Analysis/Data/Thoughtful Comments/thoughtful_comments_final(1).csv\")\n",
    "\n",
    "thoughtful_df = df[(df['Thoughtful?'] == 1) & (df['Topic'] == 'Circuit Breaker')]\n",
    "thoughtful_df.head()"
   ]
  },
  {
   "cell_type": "code",
   "execution_count": 61,
   "metadata": {},
   "outputs": [],
   "source": [
    "df = process_text(df, 'Comment')"
   ]
  },
  {
   "cell_type": "code",
   "execution_count": 62,
   "metadata": {},
   "outputs": [],
   "source": [
    "dic, vecs = text2vecs(df, 'Text Processed')"
   ]
  },
  {
   "cell_type": "code",
   "execution_count": 71,
   "metadata": {},
   "outputs": [],
   "source": [
    "lda_model = gensim.models.ldamodel.LdaModel(corpus=vecs, id2word=dic, num_topics=3)"
   ]
  },
  {
   "cell_type": "code",
   "execution_count": 72,
   "metadata": {},
   "outputs": [
    {
     "output_type": "stream",
     "name": "stdout",
     "text": [
      "(0, '0.009*\"vaccine\" + 0.009*\"people\" + 0.007*\"like\" + 0.006*\"app\" + 0.005*\"one\" + 0.005*\"get\" + 0.005*\"covid\" + 0.005*\"distancing\" + 0.005*\"social\" + 0.005*\"would\"')\n(1, '0.007*\"people\" + 0.006*\"vaccine\" + 0.006*\"like\" + 0.006*\"singapore\" + 0.005*\"vaccines\" + 0.005*\"data\" + 0.004*\"new\" + 0.004*\"get\" + 0.004*\"privacy\" + 0.004*\"government\"')\n(2, '0.008*\"vaccine\" + 0.006*\"covid\" + 0.006*\"singapore\" + 0.006*\"think\" + 0.005*\"vaccines\" + 0.005*\"people\" + 0.004*\"distancing\" + 0.004*\"good\" + 0.004*\"social\" + 0.004*\"token\"')\n"
     ]
    }
   ],
   "source": [
    "topics = lda_model.show_topics(3, 10)\n",
    "\n",
    "for i in range(0, 3):\n",
    "    print(topics[i])"
   ]
  },
  {
   "source": [
    "## Visualisations"
   ],
   "cell_type": "markdown",
   "metadata": {}
  },
  {
   "cell_type": "code",
   "execution_count": null,
   "metadata": {},
   "outputs": [],
   "source": [
    "# !pip install pyldavis"
   ]
  },
  {
   "cell_type": "code",
   "execution_count": 73,
   "metadata": {},
   "outputs": [],
   "source": [
    "pyLDAvis.enable_notebook()\n",
    "\n",
    "visual= pyLDAvis.gensim.prepare(lda_model, vecs, dic)\n",
    "pyLDAvis.save_html(visual, \"thoughtful_test_viz.html\")"
   ]
  },
  {
   "source": [
    "## Evaluation: Coherence Score"
   ],
   "cell_type": "markdown",
   "metadata": {}
  },
  {
   "cell_type": "code",
   "execution_count": 77,
   "metadata": {},
   "outputs": [
    {
     "output_type": "error",
     "ename": "NameError",
     "evalue": "name 'processed' is not defined",
     "traceback": [
      "\u001b[1;31m---------------------------------------------------------------------------\u001b[0m",
      "\u001b[1;31mNameError\u001b[0m                                 Traceback (most recent call last)",
      "\u001b[1;32m<ipython-input-77-6bd4aa7887b7>\u001b[0m in \u001b[0;36m<module>\u001b[1;34m\u001b[0m\n\u001b[1;32m----> 1\u001b[1;33m \u001b[0mcoherence_model_lda\u001b[0m \u001b[1;33m=\u001b[0m \u001b[0mCoherenceModel\u001b[0m\u001b[1;33m(\u001b[0m\u001b[0mmodel\u001b[0m\u001b[1;33m=\u001b[0m\u001b[0mlda_model\u001b[0m\u001b[1;33m,\u001b[0m \u001b[0mtexts\u001b[0m\u001b[1;33m=\u001b[0m \u001b[0mprocessed\u001b[0m\u001b[1;33m,\u001b[0m\u001b[0mdictionary\u001b[0m\u001b[1;33m=\u001b[0m\u001b[0mdic\u001b[0m\u001b[1;33m,\u001b[0m \u001b[0mcoherence\u001b[0m\u001b[1;33m=\u001b[0m\u001b[1;34m'c_v'\u001b[0m\u001b[1;33m)\u001b[0m\u001b[1;33m\u001b[0m\u001b[1;33m\u001b[0m\u001b[0m\n\u001b[0m\u001b[0;32m      2\u001b[0m \u001b[0mcoherence_lda\u001b[0m \u001b[1;33m=\u001b[0m \u001b[0mcoherence_model_lda\u001b[0m\u001b[1;33m.\u001b[0m\u001b[0mget_coherence\u001b[0m\u001b[1;33m(\u001b[0m\u001b[1;33m)\u001b[0m\u001b[1;33m\u001b[0m\u001b[1;33m\u001b[0m\u001b[0m\n\u001b[0;32m      3\u001b[0m \u001b[0mprint\u001b[0m\u001b[1;33m(\u001b[0m\u001b[1;34m'\\nCoherence Score DAModel: '\u001b[0m\u001b[1;33m,\u001b[0m \u001b[0mcoherence_lda\u001b[0m\u001b[1;33m)\u001b[0m\u001b[1;33m\u001b[0m\u001b[1;33m\u001b[0m\u001b[0m\n",
      "\u001b[1;31mNameError\u001b[0m: name 'processed' is not defined"
     ]
    }
   ],
   "source": [
    "coherence_model_lda = CoherenceModel(model=lda_model, texts= processed,dictionary=dic, coherence='c_v')\n",
    "coherence_lda = coherence_model_lda.get_coherence()\n",
    "print('\\nCoherence Score DAModel: ', coherence_lda)"
   ]
  },
  {
   "cell_type": "code",
   "execution_count": null,
   "metadata": {},
   "outputs": [],
   "source": []
  }
 ]
}