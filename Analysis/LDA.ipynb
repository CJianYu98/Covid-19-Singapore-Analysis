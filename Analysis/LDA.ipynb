{
 "metadata": {
  "language_info": {
   "codemirror_mode": {
    "name": "ipython",
    "version": 3
   },
   "file_extension": ".py",
   "mimetype": "text/x-python",
   "name": "python",
   "nbconvert_exporter": "python",
   "pygments_lexer": "ipython3",
   "version": "3.9.0-final"
  },
  "orig_nbformat": 2,
  "kernelspec": {
   "name": "python3",
   "display_name": "Python 3.9.0 64-bit",
   "metadata": {
    "interpreter": {
     "hash": "7812ea015bdcee6f23a998adcdd2ef97c151c0c241b7b7070987d9313e41299d"
    }
   }
  }
 },
 "nbformat": 4,
 "nbformat_minor": 2,
 "cells": [
  {
   "cell_type": "code",
   "execution_count": 1,
   "metadata": {},
   "outputs": [],
   "source": [
    "import pandas as pd\n",
    "import re\n",
    "import nltk\n",
    "from nltk.tokenize import TweetTokenizer\n",
    "from nltk.corpus import stopwords\n",
    "import gensim"
   ]
  },
  {
   "cell_type": "code",
   "execution_count": 2,
   "metadata": {},
   "outputs": [],
   "source": [
    "stop_list = stopwords.words('english')"
   ]
  },
  {
   "cell_type": "code",
   "execution_count": 22,
   "metadata": {},
   "outputs": [],
   "source": [
    "def remove_hashtag_mentions_urls(text):\n",
    "    # e.sub(r\"(?:\\@|https?\\://)\\S+\", \"\", text) # remove mentions and url only\n",
    "    return re.sub(r\"(?:\\@|\\#|https?\\://)\\S+\", \"\", text)\n",
    "\n",
    "def process_text(df, comment_header):\n",
    "    processed = []\n",
    "    for text in df[comment_header]:\n",
    "        text = remove_hashtag_mentions_urls(text)\n",
    "        tokenized = TweetTokenizer().tokenize(text)\n",
    "        lowercased = [w.lower() for w in tokenized]\n",
    "        words_only = [w for w in lowercased if re.search('^[a-z]+$',w)]\n",
    "        stop_removed = [w for w in words_only if w not in stop_list]\n",
    "        processed.append(stop_removed)\n",
    "    df['Text Processed'] = processed\n",
    "    return df\n",
    "\n",
    "def text2vecs(df, comment_header):\n",
    "    texts = [text for text in df[comment_header]]\n",
    "    dic = gensim.corpora.Dictionary(texts)\n",
    "    vecs = [dic.doc2bow(text) for text in texts]\n",
    "    return dic, vecs"
   ]
  },
  {
   "cell_type": "code",
   "execution_count": 4,
   "metadata": {},
   "outputs": [],
   "source": [
    "df = pd.read_csv('/Users/chenjianyu/Desktop/Y2S2/SMT203 Computational Social Sci/Covid-19-Singapore-Analysis/Data/Thoughtful Comments/thoughtful_comments_final.csv')"
   ]
  },
  {
   "cell_type": "code",
   "execution_count": 5,
   "metadata": {},
   "outputs": [],
   "source": [
    "df = process_text(df, 'Comment')"
   ]
  },
  {
   "cell_type": "code",
   "execution_count": 23,
   "metadata": {},
   "outputs": [],
   "source": [
    "dic, vecs = text2vecs(df, 'Text Processed')"
   ]
  },
  {
   "cell_type": "code",
   "execution_count": 25,
   "metadata": {},
   "outputs": [],
   "source": [
    "lda_model = gensim.models.ldamodel.LdaModel(corpus=vecs, id2word=dic, num_topics=10)"
   ]
  },
  {
   "cell_type": "code",
   "execution_count": 27,
   "metadata": {},
   "outputs": [
    {
     "output_type": "stream",
     "name": "stdout",
     "text": [
      "(0, '0.011*\"vaccine\" + 0.007*\"tt\" + 0.007*\"like\" + 0.006*\"covid\" + 0.006*\"people\" + 0.006*\"app\" + 0.005*\"get\" + 0.005*\"data\" + 0.005*\"would\" + 0.005*\"contact\" + 0.004*\"government\" + 0.004*\"think\" + 0.004*\"virus\" + 0.004*\"police\" + 0.004*\"phase\"')\n(1, '0.009*\"vaccine\" + 0.006*\"breaker\" + 0.006*\"circuit\" + 0.005*\"like\" + 0.005*\"singapore\" + 0.005*\"know\" + 0.005*\"government\" + 0.004*\"people\" + 0.004*\"app\" + 0.004*\"phase\" + 0.004*\"think\" + 0.004*\"get\" + 0.004*\"point\" + 0.004*\"around\" + 0.003*\"make\"')\n(2, '0.011*\"vaccine\" + 0.009*\"circuit\" + 0.009*\"breaker\" + 0.008*\"covid\" + 0.006*\"singapore\" + 0.006*\"get\" + 0.005*\"vaccines\" + 0.005*\"use\" + 0.004*\"one\" + 0.004*\"people\" + 0.004*\"like\" + 0.004*\"data\" + 0.004*\"right\" + 0.004*\"going\" + 0.004*\"well\"')\n(3, '0.007*\"people\" + 0.006*\"government\" + 0.006*\"think\" + 0.005*\"deleted\" + 0.005*\"contact\" + 0.005*\"one\" + 0.005*\"tracing\" + 0.004*\"use\" + 0.004*\"tracetogether\" + 0.004*\"old\" + 0.004*\"also\" + 0.004*\"need\" + 0.004*\"go\" + 0.004*\"covid\" + 0.004*\"many\"')\n(4, '0.012*\"singapore\" + 0.010*\"vaccine\" + 0.008*\"people\" + 0.007*\"day\" + 0.007*\"like\" + 0.006*\"circuit\" + 0.006*\"also\" + 0.006*\"breaker\" + 0.005*\"even\" + 0.005*\"data\" + 0.005*\"covid\" + 0.005*\"would\" + 0.005*\"get\" + 0.004*\"say\" + 0.004*\"think\"')\n(5, '0.008*\"vaccine\" + 0.007*\"vaccines\" + 0.007*\"breaker\" + 0.007*\"people\" + 0.007*\"circuit\" + 0.006*\"like\" + 0.005*\"use\" + 0.005*\"go\" + 0.005*\"app\" + 0.005*\"covid\" + 0.005*\"take\" + 0.005*\"long\" + 0.005*\"need\" + 0.004*\"data\" + 0.004*\"time\"')\n(6, '0.011*\"vaccine\" + 0.011*\"breaker\" + 0.011*\"circuit\" + 0.010*\"vaccines\" + 0.009*\"covid\" + 0.009*\"take\" + 0.008*\"singapore\" + 0.008*\"first\" + 0.008*\"people\" + 0.007*\"day\" + 0.005*\"time\" + 0.004*\"one\" + 0.004*\"risk\" + 0.004*\"stay\" + 0.004*\"cases\"')\n(7, '0.020*\"vaccine\" + 0.010*\"phase\" + 0.008*\"people\" + 0.006*\"singapore\" + 0.005*\"even\" + 0.005*\"covid\" + 0.005*\"take\" + 0.004*\"go\" + 0.004*\"still\" + 0.004*\"good\" + 0.004*\"first\" + 0.004*\"vaccines\" + 0.004*\"free\" + 0.004*\"u\" + 0.003*\"app\"')\n(8, '0.012*\"vaccine\" + 0.010*\"circuit\" + 0.010*\"breaker\" + 0.008*\"singapore\" + 0.006*\"people\" + 0.005*\"even\" + 0.004*\"covid\" + 0.004*\"time\" + 0.004*\"use\" + 0.004*\"phase\" + 0.004*\"app\" + 0.004*\"one\" + 0.004*\"tracing\" + 0.004*\"day\" + 0.004*\"know\"')\n(9, '0.010*\"breaker\" + 0.010*\"circuit\" + 0.008*\"would\" + 0.008*\"data\" + 0.007*\"app\" + 0.006*\"stay\" + 0.006*\"check\" + 0.005*\"time\" + 0.005*\"tt\" + 0.005*\"token\" + 0.005*\"still\" + 0.004*\"day\" + 0.004*\"tracetogether\" + 0.004*\"get\" + 0.004*\"vaccine\"')\n"
     ]
    }
   ],
   "source": [
    "topics = lda_model.show_topics(10, 15)\n",
    "\n",
    "for i in range(0, 10):\n",
    "    print(topics[i])"
   ]
  },
  {
   "cell_type": "code",
   "execution_count": null,
   "metadata": {},
   "outputs": [],
   "source": []
  }
 ]
}