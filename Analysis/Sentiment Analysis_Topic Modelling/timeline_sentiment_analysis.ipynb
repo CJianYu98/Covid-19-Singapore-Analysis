{
 "metadata": {
  "language_info": {
   "codemirror_mode": {
    "name": "ipython",
    "version": 3
   },
   "file_extension": ".py",
   "mimetype": "text/x-python",
   "name": "python",
   "nbconvert_exporter": "python",
   "pygments_lexer": "ipython3",
   "version": "3.8.5-final"
  },
  "orig_nbformat": 2,
  "kernelspec": {
   "name": "python3",
   "display_name": "Python 3",
   "language": "python"
  }
 },
 "nbformat": 4,
 "nbformat_minor": 2,
 "cells": [
  {
   "cell_type": "code",
   "execution_count": 1,
   "metadata": {},
   "outputs": [],
   "source": [
    "import pandas as pd\n",
    "import os\n",
    "import datetime as dt\n",
    "\n",
    "import matplotlib.pyplot as plt\n",
    "from plotly.offline import plot, iplot, init_notebook_mode\n",
    "import cufflinks as cf\n",
    "import plotly.express as px\n",
    "import plotly.graph_objects as go\n",
    "from plotly.subplots import make_subplots\n",
    "\n",
    "from plotly_functions import *"
   ]
  },
  {
   "cell_type": "code",
   "execution_count": 2,
   "metadata": {},
   "outputs": [
    {
     "output_type": "display_data",
     "data": {
      "text/html": "        <script type=\"text/javascript\">\n        window.PlotlyConfig = {MathJaxConfig: 'local'};\n        if (window.MathJax) {MathJax.Hub.Config({SVG: {font: \"STIX-Web\"}});}\n        if (typeof require !== 'undefined') {\n        require.undef(\"plotly\");\n        requirejs.config({\n            paths: {\n                'plotly': ['https://cdn.plot.ly/plotly-latest.min']\n            }\n        });\n        require(['plotly'], function(Plotly) {\n            window._Plotly = Plotly;\n        });\n        }\n        </script>\n        "
     },
     "metadata": {}
    },
    {
     "output_type": "display_data",
     "data": {
      "text/html": "        <script type=\"text/javascript\">\n        window.PlotlyConfig = {MathJaxConfig: 'local'};\n        if (window.MathJax) {MathJax.Hub.Config({SVG: {font: \"STIX-Web\"}});}\n        if (typeof require !== 'undefined') {\n        require.undef(\"plotly\");\n        requirejs.config({\n            paths: {\n                'plotly': ['https://cdn.plot.ly/plotly-latest.min']\n            }\n        });\n        require(['plotly'], function(Plotly) {\n            window._Plotly = Plotly;\n        });\n        }\n        </script>\n        "
     },
     "metadata": {}
    }
   ],
   "source": [
    "init_notebook_mode(connected=True)\n",
    "cf.go_offline()"
   ]
  },
  {
   "source": [
    "# Functions\n",
    "\n",
    "## Getting data from the csvs"
   ],
   "cell_type": "markdown",
   "metadata": {}
  },
  {
   "cell_type": "code",
   "execution_count": 23,
   "metadata": {},
   "outputs": [],
   "source": [
    "def sentiment_with_cases_static(policy, timeframe):\n",
    "    df_within_date = get_data(policy)\n",
    "\n",
    "    # Finding the mean vader sentiment score per day\n",
    "    grouped_date = df_within_date.groupby(by=[\"Comment Datetime\"]).mean()\n",
    "    grouped_date.reset_index(inplace=True)\n",
    "\n",
    "    # Finding the moving average (7-day)\n",
    "    grouped_date['SMA_7'] = grouped_date.Vader_compound_score.rolling(7, min_periods=1).mean()\n",
    "\n",
    "    # Finding the number of comments per day\n",
    "    grouped_date_counts = df_within_date.groupby(by=[\"Comment Datetime\"]).count()\n",
    "    grouped_date_counts.reset_index(inplace=True)\n",
    "    grouped_date['Comment Count'] = grouped_date_counts['Vader_compound_score']\n",
    "\n",
    "    # Setting the number of cases within the policy timeframe \n",
    "    daily_confirmed_within_timeframe = daily_confirmed.loc[(daily_confirmed[\"Date\"]>= timeframe[0]) & (daily_confirmed[\"Date\"]<= timeframe[1])]\n",
    "\n",
    "    # Plotting the figure \n",
    "    fig = make_subplots(specs=[[{\"secondary_y\": True}]]) # NEW\n",
    "    fig.add_trace(go.Scatter(x = grouped_date['Comment Datetime'], y = grouped_date['SMA_7'], mode='lines', \n",
    "                  name=\"Vader 7-day MA\"), secondary_y=False)\n",
    "    fig.add_trace(go.Scatter(x = grouped_date['Comment Datetime'], y = grouped_date['Vader_compound_score'], mode='lines', \n",
    "                  name=\"Vader Compound Score\", opacity=.5), secondary_y=False)\n",
    "\n",
    "    fig.add_bar(x = daily_confirmed_within_timeframe[\"Date\"], y = daily_confirmed_within_timeframe[\"Daily Confirmed \"],\n",
    "                name=\"Cases Count\", secondary_y=True)\n",
    "\n",
    "    #fig.update_layout(width = 1200, height=800)\n",
    "    fig.update_layout(legend=dict(orientation=\"h\", yanchor=\"bottom\", y=1.02, xanchor=\"right\", x=1),\n",
    "                      title_text=f\"Timeseries Sentiment Analysis of {policy} with Daily Number of Cases\",\n",
    "                      yaxis_range=[-2,1], \n",
    "                      yaxis2_range=[0,1426*2])\n",
    "                      \n",
    "    fig.update_layout(width = 1200, height=800)\n",
    "    fig.update_xaxes(title_text='Date', ticks=\"outside\", showgrid=False)\n",
    "    fig.update_yaxes(title_text='Vader Compound Score', ticks=\"outside\", showgrid=False)\n",
    "    fig.update_yaxes(title_text='Number of Cases', ticks=\"outside\", showgrid=False, secondary_y=True)\n",
    "\n",
    "    fig.write_image(f\"timeseries sentiment plots/{policy}_with_cases.png\", engine=\"kaleido\")\n",
    "    # fig.show()\n",
    "    print(policy, \"(with cases, static) is done!\")"
   ]
  },
  {
   "cell_type": "code",
   "execution_count": 24,
   "metadata": {},
   "outputs": [],
   "source": [
    "def sentiment_with_cases_html(policy, timeframe):\n",
    "    df_within_date = get_data(policy)\n",
    "\n",
    "    # Finding the mean vader sentiment score per day\n",
    "    grouped_date = df_within_date.groupby(by=[\"Comment Datetime\"]).mean()\n",
    "    grouped_date.reset_index(inplace=True)\n",
    "\n",
    "    # Finding the moving average (7-day)\n",
    "    grouped_date['SMA_7'] = grouped_date.Vader_compound_score.rolling(7, min_periods=1).mean()\n",
    "\n",
    "    # Finding the number of comments per day\n",
    "    grouped_date_counts = df_within_date.groupby(by=[\"Comment Datetime\"]).count()\n",
    "    grouped_date_counts.reset_index(inplace=True)\n",
    "\n",
    "    grouped_date['Comment Count'] = grouped_date_counts['Vader_compound_score']\n",
    "\n",
    "    # Setting the number of cases within the policy timeframe \n",
    "    daily_confirmed_within_timeframe = daily_confirmed.loc[(daily_confirmed[\"Date\"]>= timeframe[0]) & (daily_confirmed[\"Date\"]<= timeframe[1])]\n",
    "\n",
    "    # Plotting the figure \n",
    "    fig = make_subplots(specs=[[{\"secondary_y\": True}]]) # NEW\n",
    "    fig.add_trace(go.Scatter(x = grouped_date['Comment Datetime'], y = grouped_date['SMA_7'], mode='lines', \n",
    "                  name=\"Vader 7-day MA\"), secondary_y=False)\n",
    "    fig.add_trace(go.Scatter(x = grouped_date['Comment Datetime'], y = grouped_date['Vader_compound_score'], mode='lines', \n",
    "                  name=\"Vader Compound Score\", opacity=.5,visible='legendonly'), secondary_y=False)\n",
    "    fig.add_bar(x = daily_confirmed_within_timeframe[\"Date\"], y = daily_confirmed_within_timeframe[\"Daily Confirmed \"],\n",
    "                name=\"Cases Count\", secondary_y=True, visible='legendonly')\n",
    "\n",
    "    #fig.update_layout(width = 1200, height=800)\n",
    "    fig.update_layout(legend=dict(orientation=\"h\", yanchor=\"bottom\", y=1.02, xanchor=\"right\", x=1),\n",
    "                      title_text=f\"Timeseries Sentiment Analysis of {policy} with Daily Number of Comments\",\n",
    "                      yaxis_range=[-2,1],\n",
    "                      yaxis2_range=[0,1426*2])\n",
    "                      \n",
    "    fig.update_layout(width = 1200, height=800)\n",
    "    fig.update_xaxes(title_text='Date', ticks=\"outside\", showgrid=False)\n",
    "    fig.update_yaxes(title_text='Vader Compound Score', ticks=\"outside\", showgrid=False)\n",
    "    fig.update_yaxes(title_text='Number of Cases', ticks=\"outside\", showgrid=False, secondary_y=True)\n",
    "\n",
    "    fig.write_html(f\"timeseries sentiment plots/{policy}_with_cases.html\")\n",
    "    # fig.show()\n",
    "    print(policy, \"(with cases, html) is done!\")"
   ]
  },
  {
   "cell_type": "code",
   "execution_count": 25,
   "metadata": {},
   "outputs": [],
   "source": [
    "def emotion_count(policy):\n",
    "    anger_df = pd.read_csv(f\"{parent_path}/Data/Sentiment Data/{policy}_valuable_anger.csv\")\n",
    "    fear_df = pd.read_csv(f\"{parent_path}/Data/Sentiment Data/{policy}_valuable_fear.csv\")\n",
    "    joy_df = pd.read_csv(f\"{parent_path}/Data/Sentiment Data/{policy}_valuable_joy.csv\")\n",
    "    neutral_df = pd.read_csv(f\"{parent_path}/Data/Sentiment Data/{policy}_valuable_neu.csv\")\n",
    "    sad_df = pd.read_csv(f\"{parent_path}/Data/Sentiment Data/{policy}_valuable_sad.csv\")\n",
    "\n",
    "    emotions = ['anger', 'fear','sad','neutral','joy']\n",
    "    counts = [len(anger_df), len(fear_df), len(sad_df), len(neutral_df), len(joy_df)] \n",
    "\n",
    "    fig = go.Figure([go.Bar(x=emotions, y=counts, text=counts)])\n",
    "    fig.update_layout(title_text=f\"Emotion Counts for {policy}\")\n",
    "    fig.update_traces(texttemplate='%{text:.2s}', textposition='outside')\n",
    "    # fig.show()\n",
    "    fig.write_image(f\"timeseries sentiment plots/Emotions/{policy}_emotions.png\", engine=\"kaleido\")\n",
    "\n",
    "    print(policy, \"(emotion count) is done!\")"
   ]
  },
  {
   "source": [
    "# Plotting out the graphs"
   ],
   "cell_type": "markdown",
   "metadata": {}
  },
  {
   "cell_type": "code",
   "execution_count": 3,
   "metadata": {},
   "outputs": [
    {
     "output_type": "stream",
     "name": "stdout",
     "text": [
      "circuit breaker (with comments, static) is done!\n",
      "circuit breaker (with comments, html) is done!\n",
      "circuit breaker (with cases, static) is done!\n",
      "circuit breaker (with cases, html) is done!\n",
      "********************\n",
      "\n",
      "\n",
      "economic measures (with comments, static) is done!\n",
      "economic measures (with comments, html) is done!\n",
      "economic measures (with cases, static) is done!\n",
      "economic measures (with cases, html) is done!\n",
      "********************\n",
      "\n",
      "\n",
      "foreign worker (with comments, static) is done!\n",
      "foreign worker (with comments, html) is done!\n",
      "foreign worker (with cases, static) is done!\n",
      "foreign worker (with cases, html) is done!\n",
      "********************\n",
      "\n",
      "\n",
      "mask (with comments, static) is done!\n",
      "mask (with comments, html) is done!\n",
      "mask (with cases, static) is done!\n",
      "mask (with cases, html) is done!\n",
      "********************\n",
      "\n",
      "\n",
      "social distancing (with comments, static) is done!\n",
      "social distancing (with comments, html) is done!\n",
      "social distancing (with cases, static) is done!\n",
      "social distancing (with cases, html) is done!\n",
      "********************\n",
      "\n",
      "\n",
      "tracetogether (with comments, static) is done!\n",
      "tracetogether (with comments, html) is done!\n",
      "tracetogether (with cases, static) is done!\n",
      "tracetogether (with cases, html) is done!\n",
      "********************\n",
      "\n",
      "\n",
      "vaccination (with comments, static) is done!\n",
      "vaccination (with comments, html) is done!\n",
      "vaccination (with cases, static) is done!\n",
      "vaccination (with cases, html) is done!\n",
      "********************\n",
      "\n",
      "\n",
      "circuit breaker (emotion count) is done!\n",
      "economic measures (emotion count) is done!\n",
      "foreign worker (emotion count) is done!\n",
      "mask (emotion count) is done!\n",
      "social distancing (emotion count) is done!\n",
      "tracetogether (emotion count) is done!\n",
      "vaccination (emotion count) is done!\n"
     ]
    }
   ],
   "source": [
    "# parent_path = \"/Users/joshuawong/Documents/GitHub/Covid-19-Singapore-Analysis\"\n",
    "# parent_path = \"C:/Users/user/Documents/GitHub/Covid-19-Singapore-Analysis\"\n",
    "\n",
    "policy_list = [\"circuit breaker\", \"economic measures\", \"foreign worker\", \"mask\", \"social distancing\", \"tracetogether\", \"vaccination\"]\n",
    "\n",
    "policy_timeframe = {\"circuit breaker\":(\"1APR2020\", \"1JUL2020\"), \n",
    "                    \"economic measures\":(\"1FEB2020\", \"1MAR2021\"), \n",
    "                    \"foreign worker\":(\"1APR2020\",\"1JAN2021\"), \n",
    "                    \"mask\":(\"1FEB2020\",\"1MAR2021\"), \n",
    "                    \"social distancing\":(\"1FEB2020\", \"1FEB2021\"), \n",
    "                    \"tracetogether\":(\"1MAR2020\", \"1MAR2021\"), \n",
    "                    \"vaccination\":(\"1AUG2020\",\"1MAR2021\")}\n",
    "\n",
    "for policy, timeframe in policy_timeframe.items():\n",
    "    sentiment_with_comments_static(policy, timeframe)\n",
    "    sentiment_with_comments_html(policy, timeframe)\n",
    "    sentiment_with_cases_static(policy, timeframe)\n",
    "    sentiment_with_cases_html(policy, timeframe)\n",
    "    print('*'*20)\n",
    "    print('\\n')\n",
    "\n",
    "for policy in policy_list:\n",
    "    emotion_count(policy)"
   ]
  },
  {
   "cell_type": "code",
   "execution_count": null,
   "metadata": {},
   "outputs": [],
   "source": []
  },
  {
   "cell_type": "code",
   "execution_count": 38,
   "metadata": {},
   "outputs": [
    {
     "output_type": "stream",
     "name": "stdout",
     "text": [
      "{'joy': [], 'sadness': [], 'neutral': [], 'fear': [], 'anger': []}\n",
      "{'joy': [17649, 2427, 6532, 5634, 9324], 'sadness': [9159, 1665, 5897, 4106, 4947], 'neutral': [30606, 5305, 12323, 16072, 18343], 'fear': [15883, 2763, 10819, 8763, 9338], 'anger': [14371, 2532, 12476, 8315, 7003]}\n"
     ]
    },
    {
     "output_type": "display_data",
     "data": {
      "application/vnd.plotly.v1+json": {
       "config": {
        "plotlyServerURL": "https://plot.ly"
       },
       "data": [
        {
         "name": "Joy",
         "type": "bar",
         "x": [
          "Facebook",
          "Instagram",
          "Reddit",
          "Hardwarezone",
          "Twitter"
         ],
         "y": [
          17649,
          2427,
          6532,
          5634,
          9324
         ]
        },
        {
         "name": "Sadness",
         "type": "bar",
         "x": [
          "Facebook",
          "Instagram",
          "Reddit",
          "Hardwarezone",
          "Twitter"
         ],
         "y": [
          9159,
          1665,
          5897,
          4106,
          4947
         ]
        },
        {
         "name": "Neutral",
         "type": "bar",
         "x": [
          "Facebook",
          "Instagram",
          "Reddit",
          "Hardwarezone",
          "Twitter"
         ],
         "y": [
          30606,
          5305,
          12323,
          16072,
          18343
         ]
        },
        {
         "name": "Fear",
         "type": "bar",
         "x": [
          "Facebook",
          "Instagram",
          "Reddit",
          "Hardwarezone",
          "Twitter"
         ],
         "y": [
          15883,
          2763,
          10819,
          8763,
          9338
         ]
        },
        {
         "name": "Anger",
         "type": "bar",
         "x": [
          "Facebook",
          "Instagram",
          "Reddit",
          "Hardwarezone",
          "Twitter"
         ],
         "y": [
          14371,
          2532,
          12476,
          8315,
          7003
         ]
        }
       ],
       "layout": {
        "template": {
         "data": {
          "bar": [
           {
            "error_x": {
             "color": "#2a3f5f"
            },
            "error_y": {
             "color": "#2a3f5f"
            },
            "marker": {
             "line": {
              "color": "#E5ECF6",
              "width": 0.5
             }
            },
            "type": "bar"
           }
          ],
          "barpolar": [
           {
            "marker": {
             "line": {
              "color": "#E5ECF6",
              "width": 0.5
             }
            },
            "type": "barpolar"
           }
          ],
          "carpet": [
           {
            "aaxis": {
             "endlinecolor": "#2a3f5f",
             "gridcolor": "white",
             "linecolor": "white",
             "minorgridcolor": "white",
             "startlinecolor": "#2a3f5f"
            },
            "baxis": {
             "endlinecolor": "#2a3f5f",
             "gridcolor": "white",
             "linecolor": "white",
             "minorgridcolor": "white",
             "startlinecolor": "#2a3f5f"
            },
            "type": "carpet"
           }
          ],
          "choropleth": [
           {
            "colorbar": {
             "outlinewidth": 0,
             "ticks": ""
            },
            "type": "choropleth"
           }
          ],
          "contour": [
           {
            "colorbar": {
             "outlinewidth": 0,
             "ticks": ""
            },
            "colorscale": [
             [
              0,
              "#0d0887"
             ],
             [
              0.1111111111111111,
              "#46039f"
             ],
             [
              0.2222222222222222,
              "#7201a8"
             ],
             [
              0.3333333333333333,
              "#9c179e"
             ],
             [
              0.4444444444444444,
              "#bd3786"
             ],
             [
              0.5555555555555556,
              "#d8576b"
             ],
             [
              0.6666666666666666,
              "#ed7953"
             ],
             [
              0.7777777777777778,
              "#fb9f3a"
             ],
             [
              0.8888888888888888,
              "#fdca26"
             ],
             [
              1,
              "#f0f921"
             ]
            ],
            "type": "contour"
           }
          ],
          "contourcarpet": [
           {
            "colorbar": {
             "outlinewidth": 0,
             "ticks": ""
            },
            "type": "contourcarpet"
           }
          ],
          "heatmap": [
           {
            "colorbar": {
             "outlinewidth": 0,
             "ticks": ""
            },
            "colorscale": [
             [
              0,
              "#0d0887"
             ],
             [
              0.1111111111111111,
              "#46039f"
             ],
             [
              0.2222222222222222,
              "#7201a8"
             ],
             [
              0.3333333333333333,
              "#9c179e"
             ],
             [
              0.4444444444444444,
              "#bd3786"
             ],
             [
              0.5555555555555556,
              "#d8576b"
             ],
             [
              0.6666666666666666,
              "#ed7953"
             ],
             [
              0.7777777777777778,
              "#fb9f3a"
             ],
             [
              0.8888888888888888,
              "#fdca26"
             ],
             [
              1,
              "#f0f921"
             ]
            ],
            "type": "heatmap"
           }
          ],
          "heatmapgl": [
           {
            "colorbar": {
             "outlinewidth": 0,
             "ticks": ""
            },
            "colorscale": [
             [
              0,
              "#0d0887"
             ],
             [
              0.1111111111111111,
              "#46039f"
             ],
             [
              0.2222222222222222,
              "#7201a8"
             ],
             [
              0.3333333333333333,
              "#9c179e"
             ],
             [
              0.4444444444444444,
              "#bd3786"
             ],
             [
              0.5555555555555556,
              "#d8576b"
             ],
             [
              0.6666666666666666,
              "#ed7953"
             ],
             [
              0.7777777777777778,
              "#fb9f3a"
             ],
             [
              0.8888888888888888,
              "#fdca26"
             ],
             [
              1,
              "#f0f921"
             ]
            ],
            "type": "heatmapgl"
           }
          ],
          "histogram": [
           {
            "marker": {
             "colorbar": {
              "outlinewidth": 0,
              "ticks": ""
             }
            },
            "type": "histogram"
           }
          ],
          "histogram2d": [
           {
            "colorbar": {
             "outlinewidth": 0,
             "ticks": ""
            },
            "colorscale": [
             [
              0,
              "#0d0887"
             ],
             [
              0.1111111111111111,
              "#46039f"
             ],
             [
              0.2222222222222222,
              "#7201a8"
             ],
             [
              0.3333333333333333,
              "#9c179e"
             ],
             [
              0.4444444444444444,
              "#bd3786"
             ],
             [
              0.5555555555555556,
              "#d8576b"
             ],
             [
              0.6666666666666666,
              "#ed7953"
             ],
             [
              0.7777777777777778,
              "#fb9f3a"
             ],
             [
              0.8888888888888888,
              "#fdca26"
             ],
             [
              1,
              "#f0f921"
             ]
            ],
            "type": "histogram2d"
           }
          ],
          "histogram2dcontour": [
           {
            "colorbar": {
             "outlinewidth": 0,
             "ticks": ""
            },
            "colorscale": [
             [
              0,
              "#0d0887"
             ],
             [
              0.1111111111111111,
              "#46039f"
             ],
             [
              0.2222222222222222,
              "#7201a8"
             ],
             [
              0.3333333333333333,
              "#9c179e"
             ],
             [
              0.4444444444444444,
              "#bd3786"
             ],
             [
              0.5555555555555556,
              "#d8576b"
             ],
             [
              0.6666666666666666,
              "#ed7953"
             ],
             [
              0.7777777777777778,
              "#fb9f3a"
             ],
             [
              0.8888888888888888,
              "#fdca26"
             ],
             [
              1,
              "#f0f921"
             ]
            ],
            "type": "histogram2dcontour"
           }
          ],
          "mesh3d": [
           {
            "colorbar": {
             "outlinewidth": 0,
             "ticks": ""
            },
            "type": "mesh3d"
           }
          ],
          "parcoords": [
           {
            "line": {
             "colorbar": {
              "outlinewidth": 0,
              "ticks": ""
             }
            },
            "type": "parcoords"
           }
          ],
          "pie": [
           {
            "automargin": true,
            "type": "pie"
           }
          ],
          "scatter": [
           {
            "marker": {
             "colorbar": {
              "outlinewidth": 0,
              "ticks": ""
             }
            },
            "type": "scatter"
           }
          ],
          "scatter3d": [
           {
            "line": {
             "colorbar": {
              "outlinewidth": 0,
              "ticks": ""
             }
            },
            "marker": {
             "colorbar": {
              "outlinewidth": 0,
              "ticks": ""
             }
            },
            "type": "scatter3d"
           }
          ],
          "scattercarpet": [
           {
            "marker": {
             "colorbar": {
              "outlinewidth": 0,
              "ticks": ""
             }
            },
            "type": "scattercarpet"
           }
          ],
          "scattergeo": [
           {
            "marker": {
             "colorbar": {
              "outlinewidth": 0,
              "ticks": ""
             }
            },
            "type": "scattergeo"
           }
          ],
          "scattergl": [
           {
            "marker": {
             "colorbar": {
              "outlinewidth": 0,
              "ticks": ""
             }
            },
            "type": "scattergl"
           }
          ],
          "scattermapbox": [
           {
            "marker": {
             "colorbar": {
              "outlinewidth": 0,
              "ticks": ""
             }
            },
            "type": "scattermapbox"
           }
          ],
          "scatterpolar": [
           {
            "marker": {
             "colorbar": {
              "outlinewidth": 0,
              "ticks": ""
             }
            },
            "type": "scatterpolar"
           }
          ],
          "scatterpolargl": [
           {
            "marker": {
             "colorbar": {
              "outlinewidth": 0,
              "ticks": ""
             }
            },
            "type": "scatterpolargl"
           }
          ],
          "scatterternary": [
           {
            "marker": {
             "colorbar": {
              "outlinewidth": 0,
              "ticks": ""
             }
            },
            "type": "scatterternary"
           }
          ],
          "surface": [
           {
            "colorbar": {
             "outlinewidth": 0,
             "ticks": ""
            },
            "colorscale": [
             [
              0,
              "#0d0887"
             ],
             [
              0.1111111111111111,
              "#46039f"
             ],
             [
              0.2222222222222222,
              "#7201a8"
             ],
             [
              0.3333333333333333,
              "#9c179e"
             ],
             [
              0.4444444444444444,
              "#bd3786"
             ],
             [
              0.5555555555555556,
              "#d8576b"
             ],
             [
              0.6666666666666666,
              "#ed7953"
             ],
             [
              0.7777777777777778,
              "#fb9f3a"
             ],
             [
              0.8888888888888888,
              "#fdca26"
             ],
             [
              1,
              "#f0f921"
             ]
            ],
            "type": "surface"
           }
          ],
          "table": [
           {
            "cells": {
             "fill": {
              "color": "#EBF0F8"
             },
             "line": {
              "color": "white"
             }
            },
            "header": {
             "fill": {
              "color": "#C8D4E3"
             },
             "line": {
              "color": "white"
             }
            },
            "type": "table"
           }
          ]
         },
         "layout": {
          "annotationdefaults": {
           "arrowcolor": "#2a3f5f",
           "arrowhead": 0,
           "arrowwidth": 1
          },
          "autotypenumbers": "strict",
          "coloraxis": {
           "colorbar": {
            "outlinewidth": 0,
            "ticks": ""
           }
          },
          "colorscale": {
           "diverging": [
            [
             0,
             "#8e0152"
            ],
            [
             0.1,
             "#c51b7d"
            ],
            [
             0.2,
             "#de77ae"
            ],
            [
             0.3,
             "#f1b6da"
            ],
            [
             0.4,
             "#fde0ef"
            ],
            [
             0.5,
             "#f7f7f7"
            ],
            [
             0.6,
             "#e6f5d0"
            ],
            [
             0.7,
             "#b8e186"
            ],
            [
             0.8,
             "#7fbc41"
            ],
            [
             0.9,
             "#4d9221"
            ],
            [
             1,
             "#276419"
            ]
           ],
           "sequential": [
            [
             0,
             "#0d0887"
            ],
            [
             0.1111111111111111,
             "#46039f"
            ],
            [
             0.2222222222222222,
             "#7201a8"
            ],
            [
             0.3333333333333333,
             "#9c179e"
            ],
            [
             0.4444444444444444,
             "#bd3786"
            ],
            [
             0.5555555555555556,
             "#d8576b"
            ],
            [
             0.6666666666666666,
             "#ed7953"
            ],
            [
             0.7777777777777778,
             "#fb9f3a"
            ],
            [
             0.8888888888888888,
             "#fdca26"
            ],
            [
             1,
             "#f0f921"
            ]
           ],
           "sequentialminus": [
            [
             0,
             "#0d0887"
            ],
            [
             0.1111111111111111,
             "#46039f"
            ],
            [
             0.2222222222222222,
             "#7201a8"
            ],
            [
             0.3333333333333333,
             "#9c179e"
            ],
            [
             0.4444444444444444,
             "#bd3786"
            ],
            [
             0.5555555555555556,
             "#d8576b"
            ],
            [
             0.6666666666666666,
             "#ed7953"
            ],
            [
             0.7777777777777778,
             "#fb9f3a"
            ],
            [
             0.8888888888888888,
             "#fdca26"
            ],
            [
             1,
             "#f0f921"
            ]
           ]
          },
          "colorway": [
           "#636efa",
           "#EF553B",
           "#00cc96",
           "#ab63fa",
           "#FFA15A",
           "#19d3f3",
           "#FF6692",
           "#B6E880",
           "#FF97FF",
           "#FECB52"
          ],
          "font": {
           "color": "#2a3f5f"
          },
          "geo": {
           "bgcolor": "white",
           "lakecolor": "white",
           "landcolor": "#E5ECF6",
           "showlakes": true,
           "showland": true,
           "subunitcolor": "white"
          },
          "hoverlabel": {
           "align": "left"
          },
          "hovermode": "closest",
          "mapbox": {
           "style": "light"
          },
          "paper_bgcolor": "white",
          "plot_bgcolor": "#E5ECF6",
          "polar": {
           "angularaxis": {
            "gridcolor": "white",
            "linecolor": "white",
            "ticks": ""
           },
           "bgcolor": "#E5ECF6",
           "radialaxis": {
            "gridcolor": "white",
            "linecolor": "white",
            "ticks": ""
           }
          },
          "scene": {
           "xaxis": {
            "backgroundcolor": "#E5ECF6",
            "gridcolor": "white",
            "gridwidth": 2,
            "linecolor": "white",
            "showbackground": true,
            "ticks": "",
            "zerolinecolor": "white"
           },
           "yaxis": {
            "backgroundcolor": "#E5ECF6",
            "gridcolor": "white",
            "gridwidth": 2,
            "linecolor": "white",
            "showbackground": true,
            "ticks": "",
            "zerolinecolor": "white"
           },
           "zaxis": {
            "backgroundcolor": "#E5ECF6",
            "gridcolor": "white",
            "gridwidth": 2,
            "linecolor": "white",
            "showbackground": true,
            "ticks": "",
            "zerolinecolor": "white"
           }
          },
          "shapedefaults": {
           "line": {
            "color": "#2a3f5f"
           }
          },
          "ternary": {
           "aaxis": {
            "gridcolor": "white",
            "linecolor": "white",
            "ticks": ""
           },
           "baxis": {
            "gridcolor": "white",
            "linecolor": "white",
            "ticks": ""
           },
           "bgcolor": "#E5ECF6",
           "caxis": {
            "gridcolor": "white",
            "linecolor": "white",
            "ticks": ""
           }
          },
          "title": {
           "x": 0.05
          },
          "xaxis": {
           "automargin": true,
           "gridcolor": "white",
           "linecolor": "white",
           "ticks": "",
           "title": {
            "standoff": 15
           },
           "zerolinecolor": "white",
           "zerolinewidth": 2
          },
          "yaxis": {
           "automargin": true,
           "gridcolor": "white",
           "linecolor": "white",
           "ticks": "",
           "title": {
            "standoff": 15
           },
           "zerolinecolor": "white",
           "zerolinewidth": 2
          }
         }
        },
        "title": {
         "text": "Number of Comments per Emotion per Platform"
        },
        "xaxis": {
         "showgrid": false,
         "ticks": "outside",
         "title": {
          "text": "Platform"
         }
        },
        "yaxis": {
         "showgrid": true,
         "ticks": "outside",
         "title": {
          "text": "Emotion"
         }
        }
       }
      },
      "text/html": "<div>                            <div id=\"b9e7ef18-526f-48eb-9424-3d90f52d2881\" class=\"plotly-graph-div\" style=\"height:525px; width:100%;\"></div>            <script type=\"text/javascript\">                require([\"plotly\"], function(Plotly) {                    window.PLOTLYENV=window.PLOTLYENV || {};                                    if (document.getElementById(\"b9e7ef18-526f-48eb-9424-3d90f52d2881\")) {                    Plotly.newPlot(                        \"b9e7ef18-526f-48eb-9424-3d90f52d2881\",                        [{\"name\": \"Joy\", \"type\": \"bar\", \"x\": [\"Facebook\", \"Instagram\", \"Reddit\", \"Hardwarezone\", \"Twitter\"], \"y\": [17649, 2427, 6532, 5634, 9324]}, {\"name\": \"Sadness\", \"type\": \"bar\", \"x\": [\"Facebook\", \"Instagram\", \"Reddit\", \"Hardwarezone\", \"Twitter\"], \"y\": [9159, 1665, 5897, 4106, 4947]}, {\"name\": \"Neutral\", \"type\": \"bar\", \"x\": [\"Facebook\", \"Instagram\", \"Reddit\", \"Hardwarezone\", \"Twitter\"], \"y\": [30606, 5305, 12323, 16072, 18343]}, {\"name\": \"Fear\", \"type\": \"bar\", \"x\": [\"Facebook\", \"Instagram\", \"Reddit\", \"Hardwarezone\", \"Twitter\"], \"y\": [15883, 2763, 10819, 8763, 9338]}, {\"name\": \"Anger\", \"type\": \"bar\", \"x\": [\"Facebook\", \"Instagram\", \"Reddit\", \"Hardwarezone\", \"Twitter\"], \"y\": [14371, 2532, 12476, 8315, 7003]}],                        {\"template\": {\"data\": {\"bar\": [{\"error_x\": {\"color\": \"#2a3f5f\"}, \"error_y\": {\"color\": \"#2a3f5f\"}, \"marker\": {\"line\": {\"color\": \"#E5ECF6\", \"width\": 0.5}}, \"type\": \"bar\"}], \"barpolar\": [{\"marker\": {\"line\": {\"color\": \"#E5ECF6\", \"width\": 0.5}}, \"type\": \"barpolar\"}], \"carpet\": [{\"aaxis\": {\"endlinecolor\": \"#2a3f5f\", \"gridcolor\": \"white\", \"linecolor\": \"white\", \"minorgridcolor\": \"white\", \"startlinecolor\": \"#2a3f5f\"}, \"baxis\": {\"endlinecolor\": \"#2a3f5f\", \"gridcolor\": \"white\", \"linecolor\": \"white\", \"minorgridcolor\": \"white\", \"startlinecolor\": \"#2a3f5f\"}, \"type\": \"carpet\"}], \"choropleth\": [{\"colorbar\": {\"outlinewidth\": 0, \"ticks\": \"\"}, \"type\": \"choropleth\"}], \"contour\": [{\"colorbar\": {\"outlinewidth\": 0, \"ticks\": \"\"}, \"colorscale\": [[0.0, \"#0d0887\"], [0.1111111111111111, \"#46039f\"], [0.2222222222222222, \"#7201a8\"], [0.3333333333333333, \"#9c179e\"], [0.4444444444444444, \"#bd3786\"], [0.5555555555555556, \"#d8576b\"], [0.6666666666666666, \"#ed7953\"], [0.7777777777777778, \"#fb9f3a\"], [0.8888888888888888, \"#fdca26\"], [1.0, \"#f0f921\"]], \"type\": \"contour\"}], \"contourcarpet\": [{\"colorbar\": {\"outlinewidth\": 0, \"ticks\": \"\"}, \"type\": \"contourcarpet\"}], \"heatmap\": [{\"colorbar\": {\"outlinewidth\": 0, \"ticks\": \"\"}, \"colorscale\": [[0.0, \"#0d0887\"], [0.1111111111111111, \"#46039f\"], [0.2222222222222222, \"#7201a8\"], [0.3333333333333333, \"#9c179e\"], [0.4444444444444444, \"#bd3786\"], [0.5555555555555556, \"#d8576b\"], [0.6666666666666666, \"#ed7953\"], [0.7777777777777778, \"#fb9f3a\"], [0.8888888888888888, \"#fdca26\"], [1.0, \"#f0f921\"]], \"type\": \"heatmap\"}], \"heatmapgl\": [{\"colorbar\": {\"outlinewidth\": 0, \"ticks\": \"\"}, \"colorscale\": [[0.0, \"#0d0887\"], [0.1111111111111111, \"#46039f\"], [0.2222222222222222, \"#7201a8\"], [0.3333333333333333, \"#9c179e\"], [0.4444444444444444, \"#bd3786\"], [0.5555555555555556, \"#d8576b\"], [0.6666666666666666, \"#ed7953\"], [0.7777777777777778, \"#fb9f3a\"], [0.8888888888888888, \"#fdca26\"], [1.0, \"#f0f921\"]], \"type\": \"heatmapgl\"}], \"histogram\": [{\"marker\": {\"colorbar\": {\"outlinewidth\": 0, \"ticks\": \"\"}}, \"type\": \"histogram\"}], \"histogram2d\": [{\"colorbar\": {\"outlinewidth\": 0, \"ticks\": \"\"}, \"colorscale\": [[0.0, \"#0d0887\"], [0.1111111111111111, \"#46039f\"], [0.2222222222222222, \"#7201a8\"], [0.3333333333333333, \"#9c179e\"], [0.4444444444444444, \"#bd3786\"], [0.5555555555555556, \"#d8576b\"], [0.6666666666666666, \"#ed7953\"], [0.7777777777777778, \"#fb9f3a\"], [0.8888888888888888, \"#fdca26\"], [1.0, \"#f0f921\"]], \"type\": \"histogram2d\"}], \"histogram2dcontour\": [{\"colorbar\": {\"outlinewidth\": 0, \"ticks\": \"\"}, \"colorscale\": [[0.0, \"#0d0887\"], [0.1111111111111111, \"#46039f\"], [0.2222222222222222, \"#7201a8\"], [0.3333333333333333, \"#9c179e\"], [0.4444444444444444, \"#bd3786\"], [0.5555555555555556, \"#d8576b\"], [0.6666666666666666, \"#ed7953\"], [0.7777777777777778, \"#fb9f3a\"], [0.8888888888888888, \"#fdca26\"], [1.0, \"#f0f921\"]], \"type\": \"histogram2dcontour\"}], \"mesh3d\": [{\"colorbar\": {\"outlinewidth\": 0, \"ticks\": \"\"}, \"type\": \"mesh3d\"}], \"parcoords\": [{\"line\": {\"colorbar\": {\"outlinewidth\": 0, \"ticks\": \"\"}}, \"type\": \"parcoords\"}], \"pie\": [{\"automargin\": true, \"type\": \"pie\"}], \"scatter\": [{\"marker\": {\"colorbar\": {\"outlinewidth\": 0, \"ticks\": \"\"}}, \"type\": \"scatter\"}], \"scatter3d\": [{\"line\": {\"colorbar\": {\"outlinewidth\": 0, \"ticks\": \"\"}}, \"marker\": {\"colorbar\": {\"outlinewidth\": 0, \"ticks\": \"\"}}, \"type\": \"scatter3d\"}], \"scattercarpet\": [{\"marker\": {\"colorbar\": {\"outlinewidth\": 0, \"ticks\": \"\"}}, \"type\": \"scattercarpet\"}], \"scattergeo\": [{\"marker\": {\"colorbar\": {\"outlinewidth\": 0, \"ticks\": \"\"}}, \"type\": \"scattergeo\"}], \"scattergl\": [{\"marker\": {\"colorbar\": {\"outlinewidth\": 0, \"ticks\": \"\"}}, \"type\": \"scattergl\"}], \"scattermapbox\": [{\"marker\": {\"colorbar\": {\"outlinewidth\": 0, \"ticks\": \"\"}}, \"type\": \"scattermapbox\"}], \"scatterpolar\": [{\"marker\": {\"colorbar\": {\"outlinewidth\": 0, \"ticks\": \"\"}}, \"type\": \"scatterpolar\"}], \"scatterpolargl\": [{\"marker\": {\"colorbar\": {\"outlinewidth\": 0, \"ticks\": \"\"}}, \"type\": \"scatterpolargl\"}], \"scatterternary\": [{\"marker\": {\"colorbar\": {\"outlinewidth\": 0, \"ticks\": \"\"}}, \"type\": \"scatterternary\"}], \"surface\": [{\"colorbar\": {\"outlinewidth\": 0, \"ticks\": \"\"}, \"colorscale\": [[0.0, \"#0d0887\"], [0.1111111111111111, \"#46039f\"], [0.2222222222222222, \"#7201a8\"], [0.3333333333333333, \"#9c179e\"], [0.4444444444444444, \"#bd3786\"], [0.5555555555555556, \"#d8576b\"], [0.6666666666666666, \"#ed7953\"], [0.7777777777777778, \"#fb9f3a\"], [0.8888888888888888, \"#fdca26\"], [1.0, \"#f0f921\"]], \"type\": \"surface\"}], \"table\": [{\"cells\": {\"fill\": {\"color\": \"#EBF0F8\"}, \"line\": {\"color\": \"white\"}}, \"header\": {\"fill\": {\"color\": \"#C8D4E3\"}, \"line\": {\"color\": \"white\"}}, \"type\": \"table\"}]}, \"layout\": {\"annotationdefaults\": {\"arrowcolor\": \"#2a3f5f\", \"arrowhead\": 0, \"arrowwidth\": 1}, \"autotypenumbers\": \"strict\", \"coloraxis\": {\"colorbar\": {\"outlinewidth\": 0, \"ticks\": \"\"}}, \"colorscale\": {\"diverging\": [[0, \"#8e0152\"], [0.1, \"#c51b7d\"], [0.2, \"#de77ae\"], [0.3, \"#f1b6da\"], [0.4, \"#fde0ef\"], [0.5, \"#f7f7f7\"], [0.6, \"#e6f5d0\"], [0.7, \"#b8e186\"], [0.8, \"#7fbc41\"], [0.9, \"#4d9221\"], [1, \"#276419\"]], \"sequential\": [[0.0, \"#0d0887\"], [0.1111111111111111, \"#46039f\"], [0.2222222222222222, \"#7201a8\"], [0.3333333333333333, \"#9c179e\"], [0.4444444444444444, \"#bd3786\"], [0.5555555555555556, \"#d8576b\"], [0.6666666666666666, \"#ed7953\"], [0.7777777777777778, \"#fb9f3a\"], [0.8888888888888888, \"#fdca26\"], [1.0, \"#f0f921\"]], \"sequentialminus\": [[0.0, \"#0d0887\"], [0.1111111111111111, \"#46039f\"], [0.2222222222222222, \"#7201a8\"], [0.3333333333333333, \"#9c179e\"], [0.4444444444444444, \"#bd3786\"], [0.5555555555555556, \"#d8576b\"], [0.6666666666666666, \"#ed7953\"], [0.7777777777777778, \"#fb9f3a\"], [0.8888888888888888, \"#fdca26\"], [1.0, \"#f0f921\"]]}, \"colorway\": [\"#636efa\", \"#EF553B\", \"#00cc96\", \"#ab63fa\", \"#FFA15A\", \"#19d3f3\", \"#FF6692\", \"#B6E880\", \"#FF97FF\", \"#FECB52\"], \"font\": {\"color\": \"#2a3f5f\"}, \"geo\": {\"bgcolor\": \"white\", \"lakecolor\": \"white\", \"landcolor\": \"#E5ECF6\", \"showlakes\": true, \"showland\": true, \"subunitcolor\": \"white\"}, \"hoverlabel\": {\"align\": \"left\"}, \"hovermode\": \"closest\", \"mapbox\": {\"style\": \"light\"}, \"paper_bgcolor\": \"white\", \"plot_bgcolor\": \"#E5ECF6\", \"polar\": {\"angularaxis\": {\"gridcolor\": \"white\", \"linecolor\": \"white\", \"ticks\": \"\"}, \"bgcolor\": \"#E5ECF6\", \"radialaxis\": {\"gridcolor\": \"white\", \"linecolor\": \"white\", \"ticks\": \"\"}}, \"scene\": {\"xaxis\": {\"backgroundcolor\": \"#E5ECF6\", \"gridcolor\": \"white\", \"gridwidth\": 2, \"linecolor\": \"white\", \"showbackground\": true, \"ticks\": \"\", \"zerolinecolor\": \"white\"}, \"yaxis\": {\"backgroundcolor\": \"#E5ECF6\", \"gridcolor\": \"white\", \"gridwidth\": 2, \"linecolor\": \"white\", \"showbackground\": true, \"ticks\": \"\", \"zerolinecolor\": \"white\"}, \"zaxis\": {\"backgroundcolor\": \"#E5ECF6\", \"gridcolor\": \"white\", \"gridwidth\": 2, \"linecolor\": \"white\", \"showbackground\": true, \"ticks\": \"\", \"zerolinecolor\": \"white\"}}, \"shapedefaults\": {\"line\": {\"color\": \"#2a3f5f\"}}, \"ternary\": {\"aaxis\": {\"gridcolor\": \"white\", \"linecolor\": \"white\", \"ticks\": \"\"}, \"baxis\": {\"gridcolor\": \"white\", \"linecolor\": \"white\", \"ticks\": \"\"}, \"bgcolor\": \"#E5ECF6\", \"caxis\": {\"gridcolor\": \"white\", \"linecolor\": \"white\", \"ticks\": \"\"}}, \"title\": {\"x\": 0.05}, \"xaxis\": {\"automargin\": true, \"gridcolor\": \"white\", \"linecolor\": \"white\", \"ticks\": \"\", \"title\": {\"standoff\": 15}, \"zerolinecolor\": \"white\", \"zerolinewidth\": 2}, \"yaxis\": {\"automargin\": true, \"gridcolor\": \"white\", \"linecolor\": \"white\", \"ticks\": \"\", \"title\": {\"standoff\": 15}, \"zerolinecolor\": \"white\", \"zerolinewidth\": 2}}}, \"title\": {\"text\": \"Number of Comments per Emotion per Platform\"}, \"xaxis\": {\"showgrid\": false, \"ticks\": \"outside\", \"title\": {\"text\": \"Platform\"}}, \"yaxis\": {\"showgrid\": true, \"ticks\": \"outside\", \"title\": {\"text\": \"Emotion\"}}},                        {\"responsive\": true}                    ).then(function(){\n                            \nvar gd = document.getElementById('b9e7ef18-526f-48eb-9424-3d90f52d2881');\nvar x = new MutationObserver(function (mutations, observer) {{\n        var display = window.getComputedStyle(gd).display;\n        if (!display || display === 'none') {{\n            console.log([gd, 'removed!']);\n            Plotly.purge(gd);\n            observer.disconnect();\n        }}\n}});\n\n// Listen for the removal of the full notebook cells\nvar notebookContainer = gd.closest('#notebook-container');\nif (notebookContainer) {{\n    x.observe(notebookContainer, {childList: true});\n}}\n\n// Listen for the clearing of the current output cell\nvar outputEl = gd.closest('.output');\nif (outputEl) {{\n    x.observe(outputEl, {childList: true});\n}}\n\n                        })                };                });            </script>        </div>"
     },
     "metadata": {}
    }
   ],
   "source": [
    "parent_path = \"/Users/joshuawong/Documents/GitHub/Covid-19-Singapore-Analysis\"\n",
    "\n",
    "df = pd.read_csv(f\"{parent_path}/Data/Sentiment Data/social_media_sentiments.csv\")\n",
    "\n",
    "# Standardising datetime format\n",
    "dates = []\n",
    "for row in df['Comment Datetime']:\n",
    "    if '/' in row:\n",
    "        if '/' in row[-4:]:\n",
    "            date = dt.datetime.strptime(row, \"%d/%m/%y\")\n",
    "        else: \n",
    "            date = dt.datetime.strptime(row, \"%d/%m/%Y\")\n",
    "        dates.append(date.date())\n",
    "    elif '-' in row:\n",
    "        date = dt.datetime.strptime(row, \"%Y-%m-%d\")\n",
    "        dates.append(date.date())\n",
    "\n",
    "df['Comment Datetime'] = dates\n",
    "df = df[['Comment Datetime', 'Emotions', 'Platform']]\n",
    "\n",
    "platform_list = ['Facebook', 'Instagram', 'Reddit', 'Hardwarezone', 'Twitter']\n",
    "emotions_list = ['Joy', 'Sadness', 'Neutral', 'Fear', 'Anger']\n",
    "\n",
    "emotion_dict = {}\n",
    "\n",
    "for platform in platform_list:\n",
    "    for emotion in emotions_list:\n",
    "        emotion = emotion.lower()\n",
    "        emotion_dict[emotion] = []\n",
    "\n",
    "for platform in platform_list:\n",
    "    for emotion in emotions_list:\n",
    "        emotion = emotion.lower()\n",
    "        emotion_dict[emotion].append(len(df[(df['Platform'] == platform) & (df[\"Emotions\"]==emotion)].index))\n",
    "\n",
    "\n",
    "plot = go.Figure(data=[\n",
    "    go.Bar(name = emotions_list[0], x = platform_list, y = emotion_dict[emotions_list[0].lower()]),\n",
    "    go.Bar(name = emotions_list[1], x = platform_list, y = emotion_dict[emotions_list[1].lower()]),\n",
    "    go.Bar(name = emotions_list[2], x = platform_list, y = emotion_dict[emotions_list[2].lower()]),\n",
    "    go.Bar(name = emotions_list[3], x = platform_list, y = emotion_dict[emotions_list[3].lower()]),\n",
    "    go.Bar(name = emotions_list[4], x = platform_list, y = emotion_dict[emotions_list[4].lower()]),\n",
    "])\n",
    "plot.update_layout(title_text=\"Number of Comments per Emotion per Platform\")\n",
    "plot.update_xaxes(title_text='Platform', ticks=\"outside\", showgrid=False)\n",
    "plot.update_yaxes(title_text='Emotion', ticks=\"outside\", showgrid=True)\n",
    "plot.show()\n",
    "plot.write_image(\"Number of Comments per Emotion per Platform.png\", engine=\"kaleido\")"
   ]
  }
 ]
}