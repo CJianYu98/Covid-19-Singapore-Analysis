{
 "metadata": {
  "language_info": {
   "codemirror_mode": {
    "name": "ipython",
    "version": 3
   },
   "file_extension": ".py",
   "mimetype": "text/x-python",
   "name": "python",
   "nbconvert_exporter": "python",
   "pygments_lexer": "ipython3",
   "version": "3.7.3"
  },
  "orig_nbformat": 2,
  "kernelspec": {
   "name": "python373jvsc74a57bd05f292722d6d50c2426abae6fd15a85386b49c5393ec98f1c35f79e4e4dd7448b",
   "display_name": "Python 3.7.3 64-bit ('base': conda)"
  }
 },
 "nbformat": 4,
 "nbformat_minor": 2,
 "cells": [
  {
   "cell_type": "code",
   "execution_count": 2,
   "metadata": {},
   "outputs": [],
   "source": [
    "import pandas as pd\n",
    "import os\n",
    "import datetime as dt\n",
    "\n",
    "import matplotlib.pyplot as plt\n",
    "from plotly.offline import plot, iplot, init_notebook_mode\n",
    "import cufflinks as cf\n",
    "import plotly.express as px\n",
    "import plotly.graph_objects as go\n",
    "from plotly.subplots import make_subplots\n",
    "\n",
    "from plotly_functions import *"
   ]
  },
  {
   "cell_type": "code",
   "execution_count": 2,
   "metadata": {},
   "outputs": [
    {
     "output_type": "display_data",
     "data": {
      "text/html": "        <script type=\"text/javascript\">\n        window.PlotlyConfig = {MathJaxConfig: 'local'};\n        if (window.MathJax) {MathJax.Hub.Config({SVG: {font: \"STIX-Web\"}});}\n        if (typeof require !== 'undefined') {\n        require.undef(\"plotly\");\n        requirejs.config({\n            paths: {\n                'plotly': ['https://cdn.plot.ly/plotly-latest.min']\n            }\n        });\n        require(['plotly'], function(Plotly) {\n            window._Plotly = Plotly;\n        });\n        }\n        </script>\n        "
     },
     "metadata": {}
    },
    {
     "output_type": "display_data",
     "data": {
      "text/html": "        <script type=\"text/javascript\">\n        window.PlotlyConfig = {MathJaxConfig: 'local'};\n        if (window.MathJax) {MathJax.Hub.Config({SVG: {font: \"STIX-Web\"}});}\n        if (typeof require !== 'undefined') {\n        require.undef(\"plotly\");\n        requirejs.config({\n            paths: {\n                'plotly': ['https://cdn.plot.ly/plotly-latest.min']\n            }\n        });\n        require(['plotly'], function(Plotly) {\n            window._Plotly = Plotly;\n        });\n        }\n        </script>\n        "
     },
     "metadata": {}
    }
   ],
   "source": [
    "init_notebook_mode(connected=True)\n",
    "cf.go_offline()"
   ]
  },
  {
   "source": [
    "# Functions\n",
    "\n",
    "## Getting data from the csvs"
   ],
   "cell_type": "markdown",
   "metadata": {}
  },
  {
   "cell_type": "code",
   "execution_count": 3,
   "metadata": {},
   "outputs": [],
   "source": [
    "def get_data(policy, timeframe):\n",
    "    df = pd.read_csv(f\"{parent_path}/Data/Sentiment Data/{policy}_valuable_opinions.csv\")\n",
    "\n",
    "    # Standardising datetime format\n",
    "    dates = []\n",
    "    for row in df['Comment Datetime']:\n",
    "        if '/' in row:\n",
    "            if '/' in row[-4:]:\n",
    "                date = dt.datetime.strptime(row, \"%d/%m/%y\")\n",
    "            else: \n",
    "                date = dt.datetime.strptime(row, \"%d/%m/%Y\")\n",
    "            dates.append(date.date())\n",
    "        elif '-' in row:\n",
    "            date = dt.datetime.strptime(row, \"%Y-%m-%d\")\n",
    "            dates.append(date.date())\n",
    "\n",
    "    df['Comment Datetime'] = dates\n",
    "\n",
    "    # Truncate according to the policy timeframe\n",
    "    start, end = pd.to_datetime([timeframe[0], timeframe[1]], format='%d%b%Y')\n",
    "    df_within_date = df[(df['Comment Datetime'] >= start) & (df['Comment Datetime'] <= end)]\n",
    "    df_within_date = df_within_date[['Comment Datetime', 'Vader_compound_score']]\n",
    "    return df_within_date"
   ]
  },
  {
   "source": [
    "## Plotting Sentiment with No. of Cases"
   ],
   "cell_type": "markdown",
   "metadata": {}
  },
  {
   "cell_type": "code",
   "execution_count": 15,
   "metadata": {},
   "outputs": [],
   "source": [
    "def sentiment_with_cases_static(policy, timeframe):\n",
    "    df_within_date = get_data(policy, timeframe)\n",
    "\n",
    "    # Getting daily confirmed cases\n",
    "    daily_cases = pd.read_excel(f\"{parent_path}/Analysis/Sentiment Analysis_Topic Modelling/Covid-19 SG.xlsx\") \n",
    "    daily_cases.reset_index(inplace=True)\n",
    "    daily_confirmed = daily_cases.iloc[:, 1:3]\n",
    "\n",
    "    # Finding the mean vader sentiment score per day\n",
    "    grouped_date = df_within_date.groupby(by=[\"Comment Datetime\"]).mean()\n",
    "    grouped_date.reset_index(inplace=True)\n",
    "\n",
    "    # Finding the moving average (7-day)\n",
    "    grouped_date['SMA_7'] = grouped_date.Vader_compound_score.rolling(7, min_periods=1).mean()\n",
    "\n",
    "    # Setting the number of cases within the policy timeframe \n",
    "    daily_confirmed_within_timeframe = daily_confirmed.loc[(daily_confirmed[\"Date\"]>= timeframe[0]) & (daily_confirmed[\"Date\"]<= timeframe[1])]\n",
    "\n",
    "    # Plotting the figure \n",
    "    fig = make_subplots(specs=[[{\"secondary_y\": True}]]) # NEW\n",
    "    fig.add_trace(go.Scatter(x = grouped_date['Comment Datetime'], y = grouped_date['SMA_7'], mode='lines', \n",
    "                  name=\"Vader 7-day MA\"), secondary_y=False)\n",
    "    fig.add_trace(go.Scatter(x = grouped_date['Comment Datetime'], y = grouped_date['Vader_compound_score'], mode='lines', \n",
    "                  name=\"Vader Compound Score\", opacity=.5), secondary_y=False)\n",
    "\n",
    "    fig.add_bar(x = daily_confirmed_within_timeframe[\"Date\"], y = daily_confirmed_within_timeframe[\"Daily Confirmed \"],\n",
    "                name=\"Cases Count\", secondary_y=True)\n",
    "\n",
    "    #fig.update_layout(width = 1200, height=800)\n",
    "    fig.update_layout(legend=dict(orientation=\"h\", yanchor=\"bottom\", y=1.02, xanchor=\"right\", x=1),\n",
    "                      title_text=f\"Timeseries Sentiment Analysis of {policy} with Daily Number of Cases\",\n",
    "                      yaxis_range=[-2,1], \n",
    "                      yaxis2_range=[0,1426*2])\n",
    "                      \n",
    "    fig.update_layout(width = 1200, height=800)\n",
    "    fig.update_xaxes(title_text='Date', ticks=\"outside\", showgrid=False)\n",
    "    fig.update_yaxes(title_text='Vader Compound Score', ticks=\"outside\", showgrid=False)\n",
    "    fig.update_yaxes(title_text='Number of Cases', ticks=\"outside\", showgrid=False, secondary_y=True)\n",
    "\n",
    "    fig.write_image(f\"timeseries sentiment plots/{policy}_with_cases.png\", engine=\"kaleido\")\n",
    "    # fig.show()\n",
    "    print(policy, \"(with cases, static) is done!\")"
   ]
  },
  {
   "cell_type": "code",
   "execution_count": 16,
   "metadata": {},
   "outputs": [],
   "source": [
    "def sentiment_with_cases_html(policy, timeframe):\n",
    "    df_within_date = get_data(policy, timeframe)\n",
    "\n",
    "    # Getting daily confirmed cases\n",
    "    daily_cases = pd.read_excel(f\"{parent_path}/Analysis/Sentiment Analysis_Topic Modelling/Covid-19 SG.xlsx\") \n",
    "    daily_cases.reset_index(inplace=True)\n",
    "    daily_confirmed = daily_cases.iloc[:, 1:3]\n",
    "\n",
    "    # Finding the mean vader sentiment score per day\n",
    "    grouped_date = df_within_date.groupby(by=[\"Comment Datetime\"]).mean()\n",
    "    grouped_date.reset_index(inplace=True)\n",
    "\n",
    "    # Finding the moving average (7-day)\n",
    "    grouped_date['SMA_7'] = grouped_date.Vader_compound_score.rolling(7, min_periods=1).mean()\n",
    "\n",
    "    # Setting the number of cases within the policy timeframe \n",
    "    daily_confirmed_within_timeframe = daily_confirmed.loc[(daily_confirmed[\"Date\"]>= timeframe[0]) & (daily_confirmed[\"Date\"]<= timeframe[1])]\n",
    "\n",
    "    # Plotting the figure \n",
    "    fig = make_subplots(specs=[[{\"secondary_y\": True}]]) # NEW\n",
    "    fig.add_trace(go.Scatter(x = grouped_date['Comment Datetime'], y = grouped_date['SMA_7'], mode='lines', \n",
    "                  name=\"Vader 7-day MA\"), secondary_y=False)\n",
    "    fig.add_trace(go.Scatter(x = grouped_date['Comment Datetime'], y = grouped_date['Vader_compound_score'], mode='lines', \n",
    "                  name=\"Vader Compound Score\", opacity=.5,visible='legendonly'), secondary_y=False)\n",
    "    fig.add_bar(x = daily_confirmed_within_timeframe[\"Date\"], y = daily_confirmed_within_timeframe[\"Daily Confirmed \"],\n",
    "                name=\"Cases Count\", secondary_y=True, visible='legendonly')\n",
    "\n",
    "    #fig.update_layout(width = 1200, height=800)\n",
    "    fig.update_layout(legend=dict(orientation=\"h\", yanchor=\"bottom\", y=1.02, xanchor=\"right\", x=1),\n",
    "                      title_text=f\"Timeseries Sentiment Analysis of {policy} with Daily Number of Cases\",\n",
    "                      yaxis_range=[-2,1],\n",
    "                      yaxis2_range=[0,1426*2])\n",
    "                      \n",
    "    fig.update_layout(width = 1200, height=800)\n",
    "    fig.update_xaxes(title_text='Date', ticks=\"outside\", showgrid=False)\n",
    "    fig.update_yaxes(title_text='Vader Compound Score', ticks=\"outside\", showgrid=False)\n",
    "    fig.update_yaxes(title_text='Number of Cases', ticks=\"outside\", showgrid=False, secondary_y=True)\n",
    "\n",
    "    fig.write_html(f\"timeseries sentiment plots/{policy}_with_cases.html\")\n",
    "    # fig.show()\n",
    "    print(policy, \"(with cases, html) is done!\")"
   ]
  },
  {
   "source": [
    "## Plotting Sentiment with No. of Comments"
   ],
   "cell_type": "markdown",
   "metadata": {}
  },
  {
   "cell_type": "code",
   "execution_count": 17,
   "metadata": {},
   "outputs": [],
   "source": [
    "def sentiment_with_comments_static(policy, timeframe):\n",
    "    df_within_date = get_data(policy, timeframe)\n",
    "\n",
    "    # Finding the mean vader sentiment score per day\n",
    "    grouped_date = df_within_date.groupby(by=[\"Comment Datetime\"]).mean()\n",
    "    grouped_date.reset_index(inplace=True)\n",
    "\n",
    "    # Finding the moving average (7-day)\n",
    "    grouped_date['SMA_7'] = grouped_date.Vader_compound_score.rolling(7, min_periods=1).mean()\n",
    "\n",
    "    # Finding the number of comments per day\n",
    "    grouped_date_counts = df_within_date.groupby(by=[\"Comment Datetime\"]).count()\n",
    "    grouped_date_counts.reset_index(inplace=True)\n",
    "    grouped_date['Comment Count'] = grouped_date_counts['Vader_compound_score']\n",
    "\n",
    "    # Plotting the figure \n",
    "    fig = make_subplots(specs=[[{\"secondary_y\": True}]]) # NEW\n",
    "    fig.add_trace(go.Scatter(x = grouped_date['Comment Datetime'], y = grouped_date['SMA_7'], mode='lines', \n",
    "                  name=\"Vader 7-day MA\"), secondary_y=False)\n",
    "    fig.add_trace(go.Scatter(x = grouped_date['Comment Datetime'], y = grouped_date['Vader_compound_score'], mode='lines', \n",
    "                  name=\"Vader Compound Score\", opacity=.5), secondary_y=False)\n",
    "    fig.add_bar(x = grouped_date['Comment Datetime'], y = grouped_date['Comment Count'],\n",
    "                name=\"Comment Count\", secondary_y=True)\n",
    "\n",
    "    #fig.update_layout(width = 1200, height=800)\n",
    "    fig.update_layout(legend=dict(orientation=\"h\", yanchor=\"bottom\", y=1.02, xanchor=\"right\", x=1),\n",
    "                      title_text=f\"Timeseries Sentiment Analysis of {policy} with Daily Number of Comments\",\n",
    "                      yaxis_range=[-2,1])\n",
    "\n",
    "    max_num_comments = grouped_date['Comment Count'].max()\n",
    "    fig.update_layout(yaxis2_range=[0,max_num_comments*2.5])\n",
    "    fig.update_layout(width = 1200, height=800)\n",
    "    fig.update_xaxes(title_text='Date', ticks=\"outside\", showgrid=False)\n",
    "    fig.update_yaxes(title_text='Vader Compound Score', ticks=\"outside\", showgrid=False)\n",
    "    fig.update_yaxes(title_text='Comment Count', ticks=\"outside\", showgrid=False, secondary_y=True)\n",
    "\n",
    "    fig.write_image(f\"timeseries sentiment plots/{policy}_with_comments.png\", engine=\"kaleido\")\n",
    "    # fig.show()\n",
    "    print(policy, \"(with comments, static) is done!\")"
   ]
  },
  {
   "cell_type": "code",
   "execution_count": 18,
   "metadata": {},
   "outputs": [],
   "source": [
    "def sentiment_with_comments_html(policy, timeframe):\n",
    "    df_within_date = get_data(policy, timeframe)\n",
    "\n",
    "    # Finding the mean vader sentiment score per day\n",
    "    grouped_date = df_within_date.groupby(by=[\"Comment Datetime\"]).mean()\n",
    "    grouped_date.reset_index(inplace=True)\n",
    "\n",
    "    # Finding the moving average (7-day)\n",
    "    grouped_date['SMA_7'] = grouped_date.Vader_compound_score.rolling(7, min_periods=1).mean()\n",
    "\n",
    "    # Finding the number of comments per day\n",
    "    grouped_date_counts = df_within_date.groupby(by=[\"Comment Datetime\"]).count()\n",
    "    grouped_date_counts.reset_index(inplace=True)\n",
    "    grouped_date['Comment Count'] = grouped_date_counts['Vader_compound_score']\n",
    "\n",
    "    # Plotting the figure \n",
    "    fig = make_subplots(specs=[[{\"secondary_y\": True}]]) # NEW\n",
    "    fig.add_trace(go.Scatter(x = grouped_date['Comment Datetime'], y = grouped_date['SMA_7'], mode='lines', \n",
    "                  name=\"Vader 7-day MA\"), secondary_y=False)\n",
    "    fig.add_trace(go.Scatter(x = grouped_date['Comment Datetime'], y = grouped_date['Vader_compound_score'], mode='lines', \n",
    "                  name=\"Vader Compound Score\", visible='legendonly', opacity=.5), secondary_y=False)\n",
    "\n",
    "    fig.add_bar(x = grouped_date['Comment Datetime'], y = grouped_date['Comment Count'],\n",
    "                name=\"Comment Count\", secondary_y=True, visible='legendonly')\n",
    "\n",
    "    #fig.update_layout(width = 1200, height=800)\n",
    "    fig.update_layout(legend=dict(orientation=\"h\", yanchor=\"bottom\", y=1.02, xanchor=\"right\", x=1),\n",
    "                      title_text=f\"Timeseries Sentiment Analysis of {policy} with Daily Number of Comments\",\n",
    "                      yaxis_range=[-1,1])\n",
    "\n",
    "    max_num_comments = grouped_date['Comment Count'].max()\n",
    "    fig.update_layout(yaxis2_range=[0,max_num_comments*2.5])\n",
    "    fig.update_layout(width = 1200, height=800)\n",
    "    fig.update_xaxes(title_text='Date', ticks=\"outside\", showgrid=False)\n",
    "    fig.update_yaxes(title_text='Vader Compound Score', ticks=\"outside\", showgrid=False)\n",
    "    fig.update_yaxes(title_text='Comment Count', ticks=\"outside\", showgrid=False, secondary_y=True)\n",
    "\n",
    "    fig.write_html(f\"timeseries sentiment plots/{policy}_with_comments.html\")\n",
    "    # fig.show()\n",
    "    print(policy, \"(with comments, html) is done!\")"
   ]
  },
  {
   "source": [
    "## Plotting Emotion Counts per policy"
   ],
   "cell_type": "markdown",
   "metadata": {}
  },
  {
   "cell_type": "code",
   "execution_count": 25,
   "metadata": {},
   "outputs": [],
   "source": [
    "def emotion_count(policy):\n",
    "    anger_df = pd.read_csv(f\"{parent_path}/Data/Sentiment Data/{policy}_valuable_anger.csv\")\n",
    "    fear_df = pd.read_csv(f\"{parent_path}/Data/Sentiment Data/{policy}_valuable_fear.csv\")\n",
    "    joy_df = pd.read_csv(f\"{parent_path}/Data/Sentiment Data/{policy}_valuable_joy.csv\")\n",
    "    neutral_df = pd.read_csv(f\"{parent_path}/Data/Sentiment Data/{policy}_valuable_neu.csv\")\n",
    "    sad_df = pd.read_csv(f\"{parent_path}/Data/Sentiment Data/{policy}_valuable_sad.csv\")\n",
    "\n",
    "    emotions = ['anger', 'fear','sad','neutral','joy']\n",
    "    counts = [len(anger_df), len(fear_df), len(sad_df), len(neutral_df), len(joy_df)] \n",
    "\n",
    "    fig = go.Figure([go.Bar(x=emotions, y=counts, text=counts)])\n",
    "    fig.update_layout(title_text=f\"Emotion Counts for {policy}\")\n",
    "    fig.update_traces(texttemplate='%{text:.2s}', textposition='outside')\n",
    "    # fig.show()\n",
    "    fig.write_image(f\"timeseries sentiment plots/Emotions/{policy}_emotions.png\", engine=\"kaleido\")\n",
    "\n",
    "    print(policy, \"(emotion count) is done!\")"
   ]
  },
  {
   "source": [
    "# Plotting out the graphs"
   ],
   "cell_type": "markdown",
   "metadata": {}
  },
  {
   "cell_type": "code",
   "execution_count": 19,
   "metadata": {},
   "outputs": [
    {
     "output_type": "stream",
     "name": "stdout",
     "text": [
      "circuit breaker (with comments, static) is done!\n",
      "circuit breaker (with comments, html) is done!\n",
      "circuit breaker (with cases, static) is done!\n",
      "circuit breaker (with cases, html) is done!\n",
      "\n",
      " ********************\n",
      "economic measures (with comments, static) is done!\n",
      "economic measures (with comments, html) is done!\n",
      "economic measures (with cases, static) is done!\n",
      "economic measures (with cases, html) is done!\n",
      "\n",
      " ********************\n",
      "foreign worker (with comments, static) is done!\n",
      "foreign worker (with comments, html) is done!\n",
      "foreign worker (with cases, static) is done!\n",
      "foreign worker (with cases, html) is done!\n",
      "\n",
      " ********************\n",
      "mask (with comments, static) is done!\n",
      "mask (with comments, html) is done!\n",
      "mask (with cases, static) is done!\n",
      "mask (with cases, html) is done!\n",
      "\n",
      " ********************\n",
      "social distancing (with comments, static) is done!\n",
      "social distancing (with comments, html) is done!\n",
      "social distancing (with cases, static) is done!\n",
      "social distancing (with cases, html) is done!\n",
      "\n",
      " ********************\n",
      "tracetogether (with comments, static) is done!\n",
      "tracetogether (with comments, html) is done!\n",
      "tracetogether (with cases, static) is done!\n",
      "tracetogether (with cases, html) is done!\n",
      "\n",
      " ********************\n",
      "vaccination (with comments, static) is done!\n",
      "vaccination (with comments, html) is done!\n",
      "vaccination (with cases, static) is done!\n",
      "vaccination (with cases, html) is done!\n",
      "\n",
      " ********************\n"
     ]
    }
   ],
   "source": [
    "# parent_path = \"/Users/joshuawong/Documents/GitHub/Covid-19-Singapore-Analysis\"\n",
    "# parent_path = \"C:/Users/user/Documents/GitHub/Covid-19-Singapore-Analysis\"\n",
    "\n",
    "policy_list = [\"circuit breaker\", \"economic measures\", \"foreign worker\", \"mask\", \"social distancing\", \"tracetogether\", \"vaccination\"]\n",
    "\n",
    "policy_timeframe = {\"circuit breaker\":(\"1APR2020\", \"1JUL2020\"), \n",
    "                    \"economic measures\":(\"1FEB2020\", \"1MAR2021\"), \n",
    "                    \"foreign worker\":(\"1APR2020\",\"1JAN2021\"), \n",
    "                    \"mask\":(\"1FEB2020\",\"1MAR2021\"), \n",
    "                    \"social distancing\":(\"1FEB2020\", \"1FEB2021\"), \n",
    "                    \"tracetogether\":(\"1MAR2020\", \"1MAR2021\"), \n",
    "                    \"vaccination\":(\"1AUG2020\",\"1MAR2021\")}\n",
    "\n",
    "for policy, timeframe in policy_timeframe.items():\n",
    "    sentiment_with_comments_static(policy, timeframe)\n",
    "    sentiment_with_comments_html(policy, timeframe)\n",
    "    sentiment_with_cases_static(policy, timeframe)\n",
    "    sentiment_with_cases_html(policy, timeframe)\n",
    "    print('\\n','*'*20)\n",
    "\n",
    "for policy in policy_list:\n",
    "    emotion_count(policy)"
   ]
  },
  {
   "cell_type": "code",
   "execution_count": 20,
   "metadata": {},
   "outputs": [
    {
     "output_type": "display_data",
     "data": {
      "application/vnd.plotly.v1+json": {
       "config": {
        "plotlyServerURL": "https://plot.ly"
       },
       "data": [
        {
         "name": "Joy",
         "type": "bar",
         "x": [
          "Facebook",
          "Instagram",
          "Reddit",
          "Hardwarezone",
          "Twitter"
         ],
         "y": [
          17649,
          2427,
          6532,
          5634,
          9324
         ]
        },
        {
         "name": "Sadness",
         "type": "bar",
         "x": [
          "Facebook",
          "Instagram",
          "Reddit",
          "Hardwarezone",
          "Twitter"
         ],
         "y": [
          9159,
          1665,
          5897,
          4106,
          4947
         ]
        },
        {
         "name": "Neutral",
         "type": "bar",
         "x": [
          "Facebook",
          "Instagram",
          "Reddit",
          "Hardwarezone",
          "Twitter"
         ],
         "y": [
          30606,
          5305,
          12323,
          16072,
          18343
         ]
        },
        {
         "name": "Fear",
         "type": "bar",
         "x": [
          "Facebook",
          "Instagram",
          "Reddit",
          "Hardwarezone",
          "Twitter"
         ],
         "y": [
          15883,
          2763,
          10819,
          8763,
          9338
         ]
        },
        {
         "name": "Anger",
         "type": "bar",
         "x": [
          "Facebook",
          "Instagram",
          "Reddit",
          "Hardwarezone",
          "Twitter"
         ],
         "y": [
          14371,
          2532,
          12476,
          8315,
          7003
         ]
        }
       ],
       "layout": {
        "template": {
         "data": {
          "bar": [
           {
            "error_x": {
             "color": "#2a3f5f"
            },
            "error_y": {
             "color": "#2a3f5f"
            },
            "marker": {
             "line": {
              "color": "#E5ECF6",
              "width": 0.5
             }
            },
            "type": "bar"
           }
          ],
          "barpolar": [
           {
            "marker": {
             "line": {
              "color": "#E5ECF6",
              "width": 0.5
             }
            },
            "type": "barpolar"
           }
          ],
          "carpet": [
           {
            "aaxis": {
             "endlinecolor": "#2a3f5f",
             "gridcolor": "white",
             "linecolor": "white",
             "minorgridcolor": "white",
             "startlinecolor": "#2a3f5f"
            },
            "baxis": {
             "endlinecolor": "#2a3f5f",
             "gridcolor": "white",
             "linecolor": "white",
             "minorgridcolor": "white",
             "startlinecolor": "#2a3f5f"
            },
            "type": "carpet"
           }
          ],
          "choropleth": [
           {
            "colorbar": {
             "outlinewidth": 0,
             "ticks": ""
            },
            "type": "choropleth"
           }
          ],
          "contour": [
           {
            "colorbar": {
             "outlinewidth": 0,
             "ticks": ""
            },
            "colorscale": [
             [
              0,
              "#0d0887"
             ],
             [
              0.1111111111111111,
              "#46039f"
             ],
             [
              0.2222222222222222,
              "#7201a8"
             ],
             [
              0.3333333333333333,
              "#9c179e"
             ],
             [
              0.4444444444444444,
              "#bd3786"
             ],
             [
              0.5555555555555556,
              "#d8576b"
             ],
             [
              0.6666666666666666,
              "#ed7953"
             ],
             [
              0.7777777777777778,
              "#fb9f3a"
             ],
             [
              0.8888888888888888,
              "#fdca26"
             ],
             [
              1,
              "#f0f921"
             ]
            ],
            "type": "contour"
           }
          ],
          "contourcarpet": [
           {
            "colorbar": {
             "outlinewidth": 0,
             "ticks": ""
            },
            "type": "contourcarpet"
           }
          ],
          "heatmap": [
           {
            "colorbar": {
             "outlinewidth": 0,
             "ticks": ""
            },
            "colorscale": [
             [
              0,
              "#0d0887"
             ],
             [
              0.1111111111111111,
              "#46039f"
             ],
             [
              0.2222222222222222,
              "#7201a8"
             ],
             [
              0.3333333333333333,
              "#9c179e"
             ],
             [
              0.4444444444444444,
              "#bd3786"
             ],
             [
              0.5555555555555556,
              "#d8576b"
             ],
             [
              0.6666666666666666,
              "#ed7953"
             ],
             [
              0.7777777777777778,
              "#fb9f3a"
             ],
             [
              0.8888888888888888,
              "#fdca26"
             ],
             [
              1,
              "#f0f921"
             ]
            ],
            "type": "heatmap"
           }
          ],
          "heatmapgl": [
           {
            "colorbar": {
             "outlinewidth": 0,
             "ticks": ""
            },
            "colorscale": [
             [
              0,
              "#0d0887"
             ],
             [
              0.1111111111111111,
              "#46039f"
             ],
             [
              0.2222222222222222,
              "#7201a8"
             ],
             [
              0.3333333333333333,
              "#9c179e"
             ],
             [
              0.4444444444444444,
              "#bd3786"
             ],
             [
              0.5555555555555556,
              "#d8576b"
             ],
             [
              0.6666666666666666,
              "#ed7953"
             ],
             [
              0.7777777777777778,
              "#fb9f3a"
             ],
             [
              0.8888888888888888,
              "#fdca26"
             ],
             [
              1,
              "#f0f921"
             ]
            ],
            "type": "heatmapgl"
           }
          ],
          "histogram": [
           {
            "marker": {
             "colorbar": {
              "outlinewidth": 0,
              "ticks": ""
             }
            },
            "type": "histogram"
           }
          ],
          "histogram2d": [
           {
            "colorbar": {
             "outlinewidth": 0,
             "ticks": ""
            },
            "colorscale": [
             [
              0,
              "#0d0887"
             ],
             [
              0.1111111111111111,
              "#46039f"
             ],
             [
              0.2222222222222222,
              "#7201a8"
             ],
             [
              0.3333333333333333,
              "#9c179e"
             ],
             [
              0.4444444444444444,
              "#bd3786"
             ],
             [
              0.5555555555555556,
              "#d8576b"
             ],
             [
              0.6666666666666666,
              "#ed7953"
             ],
             [
              0.7777777777777778,
              "#fb9f3a"
             ],
             [
              0.8888888888888888,
              "#fdca26"
             ],
             [
              1,
              "#f0f921"
             ]
            ],
            "type": "histogram2d"
           }
          ],
          "histogram2dcontour": [
           {
            "colorbar": {
             "outlinewidth": 0,
             "ticks": ""
            },
            "colorscale": [
             [
              0,
              "#0d0887"
             ],
             [
              0.1111111111111111,
              "#46039f"
             ],
             [
              0.2222222222222222,
              "#7201a8"
             ],
             [
              0.3333333333333333,
              "#9c179e"
             ],
             [
              0.4444444444444444,
              "#bd3786"
             ],
             [
              0.5555555555555556,
              "#d8576b"
             ],
             [
              0.6666666666666666,
              "#ed7953"
             ],
             [
              0.7777777777777778,
              "#fb9f3a"
             ],
             [
              0.8888888888888888,
              "#fdca26"
             ],
             [
              1,
              "#f0f921"
             ]
            ],
            "type": "histogram2dcontour"
           }
          ],
          "mesh3d": [
           {
            "colorbar": {
             "outlinewidth": 0,
             "ticks": ""
            },
            "type": "mesh3d"
           }
          ],
          "parcoords": [
           {
            "line": {
             "colorbar": {
              "outlinewidth": 0,
              "ticks": ""
             }
            },
            "type": "parcoords"
           }
          ],
          "pie": [
           {
            "automargin": true,
            "type": "pie"
           }
          ],
          "scatter": [
           {
            "marker": {
             "colorbar": {
              "outlinewidth": 0,
              "ticks": ""
             }
            },
            "type": "scatter"
           }
          ],
          "scatter3d": [
           {
            "line": {
             "colorbar": {
              "outlinewidth": 0,
              "ticks": ""
             }
            },
            "marker": {
             "colorbar": {
              "outlinewidth": 0,
              "ticks": ""
             }
            },
            "type": "scatter3d"
           }
          ],
          "scattercarpet": [
           {
            "marker": {
             "colorbar": {
              "outlinewidth": 0,
              "ticks": ""
             }
            },
            "type": "scattercarpet"
           }
          ],
          "scattergeo": [
           {
            "marker": {
             "colorbar": {
              "outlinewidth": 0,
              "ticks": ""
             }
            },
            "type": "scattergeo"
           }
          ],
          "scattergl": [
           {
            "marker": {
             "colorbar": {
              "outlinewidth": 0,
              "ticks": ""
             }
            },
            "type": "scattergl"
           }
          ],
          "scattermapbox": [
           {
            "marker": {
             "colorbar": {
              "outlinewidth": 0,
              "ticks": ""
             }
            },
            "type": "scattermapbox"
           }
          ],
          "scatterpolar": [
           {
            "marker": {
             "colorbar": {
              "outlinewidth": 0,
              "ticks": ""
             }
            },
            "type": "scatterpolar"
           }
          ],
          "scatterpolargl": [
           {
            "marker": {
             "colorbar": {
              "outlinewidth": 0,
              "ticks": ""
             }
            },
            "type": "scatterpolargl"
           }
          ],
          "scatterternary": [
           {
            "marker": {
             "colorbar": {
              "outlinewidth": 0,
              "ticks": ""
             }
            },
            "type": "scatterternary"
           }
          ],
          "surface": [
           {
            "colorbar": {
             "outlinewidth": 0,
             "ticks": ""
            },
            "colorscale": [
             [
              0,
              "#0d0887"
             ],
             [
              0.1111111111111111,
              "#46039f"
             ],
             [
              0.2222222222222222,
              "#7201a8"
             ],
             [
              0.3333333333333333,
              "#9c179e"
             ],
             [
              0.4444444444444444,
              "#bd3786"
             ],
             [
              0.5555555555555556,
              "#d8576b"
             ],
             [
              0.6666666666666666,
              "#ed7953"
             ],
             [
              0.7777777777777778,
              "#fb9f3a"
             ],
             [
              0.8888888888888888,
              "#fdca26"
             ],
             [
              1,
              "#f0f921"
             ]
            ],
            "type": "surface"
           }
          ],
          "table": [
           {
            "cells": {
             "fill": {
              "color": "#EBF0F8"
             },
             "line": {
              "color": "white"
             }
            },
            "header": {
             "fill": {
              "color": "#C8D4E3"
             },
             "line": {
              "color": "white"
             }
            },
            "type": "table"
           }
          ]
         },
         "layout": {
          "annotationdefaults": {
           "arrowcolor": "#2a3f5f",
           "arrowhead": 0,
           "arrowwidth": 1
          },
          "autotypenumbers": "strict",
          "coloraxis": {
           "colorbar": {
            "outlinewidth": 0,
            "ticks": ""
           }
          },
          "colorscale": {
           "diverging": [
            [
             0,
             "#8e0152"
            ],
            [
             0.1,
             "#c51b7d"
            ],
            [
             0.2,
             "#de77ae"
            ],
            [
             0.3,
             "#f1b6da"
            ],
            [
             0.4,
             "#fde0ef"
            ],
            [
             0.5,
             "#f7f7f7"
            ],
            [
             0.6,
             "#e6f5d0"
            ],
            [
             0.7,
             "#b8e186"
            ],
            [
             0.8,
             "#7fbc41"
            ],
            [
             0.9,
             "#4d9221"
            ],
            [
             1,
             "#276419"
            ]
           ],
           "sequential": [
            [
             0,
             "#0d0887"
            ],
            [
             0.1111111111111111,
             "#46039f"
            ],
            [
             0.2222222222222222,
             "#7201a8"
            ],
            [
             0.3333333333333333,
             "#9c179e"
            ],
            [
             0.4444444444444444,
             "#bd3786"
            ],
            [
             0.5555555555555556,
             "#d8576b"
            ],
            [
             0.6666666666666666,
             "#ed7953"
            ],
            [
             0.7777777777777778,
             "#fb9f3a"
            ],
            [
             0.8888888888888888,
             "#fdca26"
            ],
            [
             1,
             "#f0f921"
            ]
           ],
           "sequentialminus": [
            [
             0,
             "#0d0887"
            ],
            [
             0.1111111111111111,
             "#46039f"
            ],
            [
             0.2222222222222222,
             "#7201a8"
            ],
            [
             0.3333333333333333,
             "#9c179e"
            ],
            [
             0.4444444444444444,
             "#bd3786"
            ],
            [
             0.5555555555555556,
             "#d8576b"
            ],
            [
             0.6666666666666666,
             "#ed7953"
            ],
            [
             0.7777777777777778,
             "#fb9f3a"
            ],
            [
             0.8888888888888888,
             "#fdca26"
            ],
            [
             1,
             "#f0f921"
            ]
           ]
          },
          "colorway": [
           "#636efa",
           "#EF553B",
           "#00cc96",
           "#ab63fa",
           "#FFA15A",
           "#19d3f3",
           "#FF6692",
           "#B6E880",
           "#FF97FF",
           "#FECB52"
          ],
          "font": {
           "color": "#2a3f5f"
          },
          "geo": {
           "bgcolor": "white",
           "lakecolor": "white",
           "landcolor": "#E5ECF6",
           "showlakes": true,
           "showland": true,
           "subunitcolor": "white"
          },
          "hoverlabel": {
           "align": "left"
          },
          "hovermode": "closest",
          "mapbox": {
           "style": "light"
          },
          "paper_bgcolor": "white",
          "plot_bgcolor": "#E5ECF6",
          "polar": {
           "angularaxis": {
            "gridcolor": "white",
            "linecolor": "white",
            "ticks": ""
           },
           "bgcolor": "#E5ECF6",
           "radialaxis": {
            "gridcolor": "white",
            "linecolor": "white",
            "ticks": ""
           }
          },
          "scene": {
           "xaxis": {
            "backgroundcolor": "#E5ECF6",
            "gridcolor": "white",
            "gridwidth": 2,
            "linecolor": "white",
            "showbackground": true,
            "ticks": "",
            "zerolinecolor": "white"
           },
           "yaxis": {
            "backgroundcolor": "#E5ECF6",
            "gridcolor": "white",
            "gridwidth": 2,
            "linecolor": "white",
            "showbackground": true,
            "ticks": "",
            "zerolinecolor": "white"
           },
           "zaxis": {
            "backgroundcolor": "#E5ECF6",
            "gridcolor": "white",
            "gridwidth": 2,
            "linecolor": "white",
            "showbackground": true,
            "ticks": "",
            "zerolinecolor": "white"
           }
          },
          "shapedefaults": {
           "line": {
            "color": "#2a3f5f"
           }
          },
          "ternary": {
           "aaxis": {
            "gridcolor": "white",
            "linecolor": "white",
            "ticks": ""
           },
           "baxis": {
            "gridcolor": "white",
            "linecolor": "white",
            "ticks": ""
           },
           "bgcolor": "#E5ECF6",
           "caxis": {
            "gridcolor": "white",
            "linecolor": "white",
            "ticks": ""
           }
          },
          "title": {
           "x": 0.05
          },
          "xaxis": {
           "automargin": true,
           "gridcolor": "white",
           "linecolor": "white",
           "ticks": "",
           "title": {
            "standoff": 15
           },
           "zerolinecolor": "white",
           "zerolinewidth": 2
          },
          "yaxis": {
           "automargin": true,
           "gridcolor": "white",
           "linecolor": "white",
           "ticks": "",
           "title": {
            "standoff": 15
           },
           "zerolinecolor": "white",
           "zerolinewidth": 2
          }
         }
        },
        "title": {
         "text": "Number of Comments per Emotion per Platform"
        },
        "xaxis": {
         "showgrid": false,
         "ticks": "outside",
         "title": {
          "text": "Platform"
         }
        },
        "yaxis": {
         "showgrid": true,
         "ticks": "outside",
         "title": {
          "text": "Emotion"
         }
        }
       }
      },
      "text/html": "<div>                            <div id=\"08bd7fa0-0afe-4026-8fef-f293a681a369\" class=\"plotly-graph-div\" style=\"height:525px; width:100%;\"></div>            <script type=\"text/javascript\">                require([\"plotly\"], function(Plotly) {                    window.PLOTLYENV=window.PLOTLYENV || {};                                    if (document.getElementById(\"08bd7fa0-0afe-4026-8fef-f293a681a369\")) {                    Plotly.newPlot(                        \"08bd7fa0-0afe-4026-8fef-f293a681a369\",                        [{\"name\": \"Joy\", \"type\": \"bar\", \"x\": [\"Facebook\", \"Instagram\", \"Reddit\", \"Hardwarezone\", \"Twitter\"], \"y\": [17649, 2427, 6532, 5634, 9324]}, {\"name\": \"Sadness\", \"type\": \"bar\", \"x\": [\"Facebook\", \"Instagram\", \"Reddit\", \"Hardwarezone\", \"Twitter\"], \"y\": [9159, 1665, 5897, 4106, 4947]}, {\"name\": \"Neutral\", \"type\": \"bar\", \"x\": [\"Facebook\", \"Instagram\", \"Reddit\", \"Hardwarezone\", \"Twitter\"], \"y\": [30606, 5305, 12323, 16072, 18343]}, {\"name\": \"Fear\", \"type\": \"bar\", \"x\": [\"Facebook\", \"Instagram\", \"Reddit\", \"Hardwarezone\", \"Twitter\"], \"y\": [15883, 2763, 10819, 8763, 9338]}, {\"name\": \"Anger\", \"type\": \"bar\", \"x\": [\"Facebook\", \"Instagram\", \"Reddit\", \"Hardwarezone\", \"Twitter\"], \"y\": [14371, 2532, 12476, 8315, 7003]}],                        {\"template\": {\"data\": {\"bar\": [{\"error_x\": {\"color\": \"#2a3f5f\"}, \"error_y\": {\"color\": \"#2a3f5f\"}, \"marker\": {\"line\": {\"color\": \"#E5ECF6\", \"width\": 0.5}}, \"type\": \"bar\"}], \"barpolar\": [{\"marker\": {\"line\": {\"color\": \"#E5ECF6\", \"width\": 0.5}}, \"type\": \"barpolar\"}], \"carpet\": [{\"aaxis\": {\"endlinecolor\": \"#2a3f5f\", \"gridcolor\": \"white\", \"linecolor\": \"white\", \"minorgridcolor\": \"white\", \"startlinecolor\": \"#2a3f5f\"}, \"baxis\": {\"endlinecolor\": \"#2a3f5f\", \"gridcolor\": \"white\", \"linecolor\": \"white\", \"minorgridcolor\": \"white\", \"startlinecolor\": \"#2a3f5f\"}, \"type\": \"carpet\"}], \"choropleth\": [{\"colorbar\": {\"outlinewidth\": 0, \"ticks\": \"\"}, \"type\": \"choropleth\"}], \"contour\": [{\"colorbar\": {\"outlinewidth\": 0, \"ticks\": \"\"}, \"colorscale\": [[0.0, \"#0d0887\"], [0.1111111111111111, \"#46039f\"], [0.2222222222222222, \"#7201a8\"], [0.3333333333333333, \"#9c179e\"], [0.4444444444444444, \"#bd3786\"], [0.5555555555555556, \"#d8576b\"], [0.6666666666666666, \"#ed7953\"], [0.7777777777777778, \"#fb9f3a\"], [0.8888888888888888, \"#fdca26\"], [1.0, \"#f0f921\"]], \"type\": \"contour\"}], \"contourcarpet\": [{\"colorbar\": {\"outlinewidth\": 0, \"ticks\": \"\"}, \"type\": \"contourcarpet\"}], \"heatmap\": [{\"colorbar\": {\"outlinewidth\": 0, \"ticks\": \"\"}, \"colorscale\": [[0.0, \"#0d0887\"], [0.1111111111111111, \"#46039f\"], [0.2222222222222222, \"#7201a8\"], [0.3333333333333333, \"#9c179e\"], [0.4444444444444444, \"#bd3786\"], [0.5555555555555556, \"#d8576b\"], [0.6666666666666666, \"#ed7953\"], [0.7777777777777778, \"#fb9f3a\"], [0.8888888888888888, \"#fdca26\"], [1.0, \"#f0f921\"]], \"type\": \"heatmap\"}], \"heatmapgl\": [{\"colorbar\": {\"outlinewidth\": 0, \"ticks\": \"\"}, \"colorscale\": [[0.0, \"#0d0887\"], [0.1111111111111111, \"#46039f\"], [0.2222222222222222, \"#7201a8\"], [0.3333333333333333, \"#9c179e\"], [0.4444444444444444, \"#bd3786\"], [0.5555555555555556, \"#d8576b\"], [0.6666666666666666, \"#ed7953\"], [0.7777777777777778, \"#fb9f3a\"], [0.8888888888888888, \"#fdca26\"], [1.0, \"#f0f921\"]], \"type\": \"heatmapgl\"}], \"histogram\": [{\"marker\": {\"colorbar\": {\"outlinewidth\": 0, \"ticks\": \"\"}}, \"type\": \"histogram\"}], \"histogram2d\": [{\"colorbar\": {\"outlinewidth\": 0, \"ticks\": \"\"}, \"colorscale\": [[0.0, \"#0d0887\"], [0.1111111111111111, \"#46039f\"], [0.2222222222222222, \"#7201a8\"], [0.3333333333333333, \"#9c179e\"], [0.4444444444444444, \"#bd3786\"], [0.5555555555555556, \"#d8576b\"], [0.6666666666666666, \"#ed7953\"], [0.7777777777777778, \"#fb9f3a\"], [0.8888888888888888, \"#fdca26\"], [1.0, \"#f0f921\"]], \"type\": \"histogram2d\"}], \"histogram2dcontour\": [{\"colorbar\": {\"outlinewidth\": 0, \"ticks\": \"\"}, \"colorscale\": [[0.0, \"#0d0887\"], [0.1111111111111111, \"#46039f\"], [0.2222222222222222, \"#7201a8\"], [0.3333333333333333, \"#9c179e\"], [0.4444444444444444, \"#bd3786\"], [0.5555555555555556, \"#d8576b\"], [0.6666666666666666, \"#ed7953\"], [0.7777777777777778, \"#fb9f3a\"], [0.8888888888888888, \"#fdca26\"], [1.0, \"#f0f921\"]], \"type\": \"histogram2dcontour\"}], \"mesh3d\": [{\"colorbar\": {\"outlinewidth\": 0, \"ticks\": \"\"}, \"type\": \"mesh3d\"}], \"parcoords\": [{\"line\": {\"colorbar\": {\"outlinewidth\": 0, \"ticks\": \"\"}}, \"type\": \"parcoords\"}], \"pie\": [{\"automargin\": true, \"type\": \"pie\"}], \"scatter\": [{\"marker\": {\"colorbar\": {\"outlinewidth\": 0, \"ticks\": \"\"}}, \"type\": \"scatter\"}], \"scatter3d\": [{\"line\": {\"colorbar\": {\"outlinewidth\": 0, \"ticks\": \"\"}}, \"marker\": {\"colorbar\": {\"outlinewidth\": 0, \"ticks\": \"\"}}, \"type\": \"scatter3d\"}], \"scattercarpet\": [{\"marker\": {\"colorbar\": {\"outlinewidth\": 0, \"ticks\": \"\"}}, \"type\": \"scattercarpet\"}], \"scattergeo\": [{\"marker\": {\"colorbar\": {\"outlinewidth\": 0, \"ticks\": \"\"}}, \"type\": \"scattergeo\"}], \"scattergl\": [{\"marker\": {\"colorbar\": {\"outlinewidth\": 0, \"ticks\": \"\"}}, \"type\": \"scattergl\"}], \"scattermapbox\": [{\"marker\": {\"colorbar\": {\"outlinewidth\": 0, \"ticks\": \"\"}}, \"type\": \"scattermapbox\"}], \"scatterpolar\": [{\"marker\": {\"colorbar\": {\"outlinewidth\": 0, \"ticks\": \"\"}}, \"type\": \"scatterpolar\"}], \"scatterpolargl\": [{\"marker\": {\"colorbar\": {\"outlinewidth\": 0, \"ticks\": \"\"}}, \"type\": \"scatterpolargl\"}], \"scatterternary\": [{\"marker\": {\"colorbar\": {\"outlinewidth\": 0, \"ticks\": \"\"}}, \"type\": \"scatterternary\"}], \"surface\": [{\"colorbar\": {\"outlinewidth\": 0, \"ticks\": \"\"}, \"colorscale\": [[0.0, \"#0d0887\"], [0.1111111111111111, \"#46039f\"], [0.2222222222222222, \"#7201a8\"], [0.3333333333333333, \"#9c179e\"], [0.4444444444444444, \"#bd3786\"], [0.5555555555555556, \"#d8576b\"], [0.6666666666666666, \"#ed7953\"], [0.7777777777777778, \"#fb9f3a\"], [0.8888888888888888, \"#fdca26\"], [1.0, \"#f0f921\"]], \"type\": \"surface\"}], \"table\": [{\"cells\": {\"fill\": {\"color\": \"#EBF0F8\"}, \"line\": {\"color\": \"white\"}}, \"header\": {\"fill\": {\"color\": \"#C8D4E3\"}, \"line\": {\"color\": \"white\"}}, \"type\": \"table\"}]}, \"layout\": {\"annotationdefaults\": {\"arrowcolor\": \"#2a3f5f\", \"arrowhead\": 0, \"arrowwidth\": 1}, \"autotypenumbers\": \"strict\", \"coloraxis\": {\"colorbar\": {\"outlinewidth\": 0, \"ticks\": \"\"}}, \"colorscale\": {\"diverging\": [[0, \"#8e0152\"], [0.1, \"#c51b7d\"], [0.2, \"#de77ae\"], [0.3, \"#f1b6da\"], [0.4, \"#fde0ef\"], [0.5, \"#f7f7f7\"], [0.6, \"#e6f5d0\"], [0.7, \"#b8e186\"], [0.8, \"#7fbc41\"], [0.9, \"#4d9221\"], [1, \"#276419\"]], \"sequential\": [[0.0, \"#0d0887\"], [0.1111111111111111, \"#46039f\"], [0.2222222222222222, \"#7201a8\"], [0.3333333333333333, \"#9c179e\"], [0.4444444444444444, \"#bd3786\"], [0.5555555555555556, \"#d8576b\"], [0.6666666666666666, \"#ed7953\"], [0.7777777777777778, \"#fb9f3a\"], [0.8888888888888888, \"#fdca26\"], [1.0, \"#f0f921\"]], \"sequentialminus\": [[0.0, \"#0d0887\"], [0.1111111111111111, \"#46039f\"], [0.2222222222222222, \"#7201a8\"], [0.3333333333333333, \"#9c179e\"], [0.4444444444444444, \"#bd3786\"], [0.5555555555555556, \"#d8576b\"], [0.6666666666666666, \"#ed7953\"], [0.7777777777777778, \"#fb9f3a\"], [0.8888888888888888, \"#fdca26\"], [1.0, \"#f0f921\"]]}, \"colorway\": [\"#636efa\", \"#EF553B\", \"#00cc96\", \"#ab63fa\", \"#FFA15A\", \"#19d3f3\", \"#FF6692\", \"#B6E880\", \"#FF97FF\", \"#FECB52\"], \"font\": {\"color\": \"#2a3f5f\"}, \"geo\": {\"bgcolor\": \"white\", \"lakecolor\": \"white\", \"landcolor\": \"#E5ECF6\", \"showlakes\": true, \"showland\": true, \"subunitcolor\": \"white\"}, \"hoverlabel\": {\"align\": \"left\"}, \"hovermode\": \"closest\", \"mapbox\": {\"style\": \"light\"}, \"paper_bgcolor\": \"white\", \"plot_bgcolor\": \"#E5ECF6\", \"polar\": {\"angularaxis\": {\"gridcolor\": \"white\", \"linecolor\": \"white\", \"ticks\": \"\"}, \"bgcolor\": \"#E5ECF6\", \"radialaxis\": {\"gridcolor\": \"white\", \"linecolor\": \"white\", \"ticks\": \"\"}}, \"scene\": {\"xaxis\": {\"backgroundcolor\": \"#E5ECF6\", \"gridcolor\": \"white\", \"gridwidth\": 2, \"linecolor\": \"white\", \"showbackground\": true, \"ticks\": \"\", \"zerolinecolor\": \"white\"}, \"yaxis\": {\"backgroundcolor\": \"#E5ECF6\", \"gridcolor\": \"white\", \"gridwidth\": 2, \"linecolor\": \"white\", \"showbackground\": true, \"ticks\": \"\", \"zerolinecolor\": \"white\"}, \"zaxis\": {\"backgroundcolor\": \"#E5ECF6\", \"gridcolor\": \"white\", \"gridwidth\": 2, \"linecolor\": \"white\", \"showbackground\": true, \"ticks\": \"\", \"zerolinecolor\": \"white\"}}, \"shapedefaults\": {\"line\": {\"color\": \"#2a3f5f\"}}, \"ternary\": {\"aaxis\": {\"gridcolor\": \"white\", \"linecolor\": \"white\", \"ticks\": \"\"}, \"baxis\": {\"gridcolor\": \"white\", \"linecolor\": \"white\", \"ticks\": \"\"}, \"bgcolor\": \"#E5ECF6\", \"caxis\": {\"gridcolor\": \"white\", \"linecolor\": \"white\", \"ticks\": \"\"}}, \"title\": {\"x\": 0.05}, \"xaxis\": {\"automargin\": true, \"gridcolor\": \"white\", \"linecolor\": \"white\", \"ticks\": \"\", \"title\": {\"standoff\": 15}, \"zerolinecolor\": \"white\", \"zerolinewidth\": 2}, \"yaxis\": {\"automargin\": true, \"gridcolor\": \"white\", \"linecolor\": \"white\", \"ticks\": \"\", \"title\": {\"standoff\": 15}, \"zerolinecolor\": \"white\", \"zerolinewidth\": 2}}}, \"title\": {\"text\": \"Number of Comments per Emotion per Platform\"}, \"xaxis\": {\"showgrid\": false, \"ticks\": \"outside\", \"title\": {\"text\": \"Platform\"}}, \"yaxis\": {\"showgrid\": true, \"ticks\": \"outside\", \"title\": {\"text\": \"Emotion\"}}},                        {\"responsive\": true}                    ).then(function(){\n                            \nvar gd = document.getElementById('08bd7fa0-0afe-4026-8fef-f293a681a369');\nvar x = new MutationObserver(function (mutations, observer) {{\n        var display = window.getComputedStyle(gd).display;\n        if (!display || display === 'none') {{\n            console.log([gd, 'removed!']);\n            Plotly.purge(gd);\n            observer.disconnect();\n        }}\n}});\n\n// Listen for the removal of the full notebook cells\nvar notebookContainer = gd.closest('#notebook-container');\nif (notebookContainer) {{\n    x.observe(notebookContainer, {childList: true});\n}}\n\n// Listen for the clearing of the current output cell\nvar outputEl = gd.closest('.output');\nif (outputEl) {{\n    x.observe(outputEl, {childList: true});\n}}\n\n                        })                };                });            </script>        </div>"
     },
     "metadata": {}
    }
   ],
   "source": [
    "# parent_path = \"/Users/joshuawong/Documents/GitHub/Covid-19-Singapore-Analysis\"\n",
    "\n",
    "df = pd.read_csv(f\"{parent_path}/Data/Sentiment Data/social_media_sentiments.csv\")\n",
    "\n",
    "# Standardising datetime format\n",
    "dates = []\n",
    "for row in df['Comment Datetime']:\n",
    "    if '/' in row:\n",
    "        if '/' in row[-4:]:\n",
    "            date = dt.datetime.strptime(row, \"%d/%m/%y\")\n",
    "        else: \n",
    "            date = dt.datetime.strptime(row, \"%d/%m/%Y\")\n",
    "        dates.append(date.date())\n",
    "    elif '-' in row:\n",
    "        date = dt.datetime.strptime(row, \"%Y-%m-%d\")\n",
    "        dates.append(date.date())\n",
    "\n",
    "df['Comment Datetime'] = dates\n",
    "df = df[['Comment Datetime', 'Emotions', 'Platform']]\n",
    "\n",
    "platform_list = ['Facebook', 'Instagram', 'Reddit', 'Hardwarezone', 'Twitter']\n",
    "emotions_list = ['Joy', 'Sadness', 'Neutral', 'Fear', 'Anger']\n",
    "\n",
    "emotion_dict = {}\n",
    "\n",
    "for platform in platform_list:\n",
    "    for emotion in emotions_list:\n",
    "        emotion = emotion.lower()\n",
    "        emotion_dict[emotion] = []\n",
    "\n",
    "for platform in platform_list:\n",
    "    for emotion in emotions_list:\n",
    "        emotion = emotion.lower()\n",
    "        emotion_dict[emotion].append(len(df[(df['Platform'] == platform) & (df[\"Emotions\"]==emotion)].index))\n",
    "\n",
    "\n",
    "plot = go.Figure(data=[\n",
    "    go.Bar(name = emotions_list[0], x = platform_list, y = emotion_dict[emotions_list[0].lower()]),\n",
    "    go.Bar(name = emotions_list[1], x = platform_list, y = emotion_dict[emotions_list[1].lower()]),\n",
    "    go.Bar(name = emotions_list[2], x = platform_list, y = emotion_dict[emotions_list[2].lower()]),\n",
    "    go.Bar(name = emotions_list[3], x = platform_list, y = emotion_dict[emotions_list[3].lower()]),\n",
    "    go.Bar(name = emotions_list[4], x = platform_list, y = emotion_dict[emotions_list[4].lower()]),\n",
    "])\n",
    "plot.update_layout(title_text=\"Number of Comments per Emotion per Platform\")\n",
    "plot.update_xaxes(title_text='Platform', ticks=\"outside\", showgrid=False)\n",
    "plot.update_yaxes(title_text='Emotion', ticks=\"outside\", showgrid=True)\n",
    "plot.show()\n",
    "plot.write_image(\"Number of Comments per Emotion per Platform.png\", engine=\"kaleido\")"
   ]
  },
  {
   "source": [
    "# Moving Average \n"
   ],
   "cell_type": "markdown",
   "metadata": {}
  },
  {
   "cell_type": "code",
   "execution_count": 11,
   "metadata": {},
   "outputs": [],
   "source": [
    "def get_sentiments(policy):\n",
    "    df = pd.read_csv(f\"{parent_path}/Data/Sentiment Data/{policy}_valuable_opinions.csv\")\n",
    "\n",
    "    # Standardising datetime format\n",
    "    dates = []\n",
    "    for row in df['Comment Datetime']:\n",
    "        if '/' in row:\n",
    "            if '/' in row[-4:]:\n",
    "                date = dt.datetime.strptime(row, \"%d/%m/%y\")\n",
    "            else: \n",
    "                date = dt.datetime.strptime(row, \"%d/%m/%Y\")\n",
    "            dates.append(date.date())\n",
    "        elif '-' in row:\n",
    "            date = dt.datetime.strptime(row, \"%Y-%m-%d\")\n",
    "            dates.append(date.date())\n",
    "\n",
    "    df['Comment Datetime'] = dates\n",
    "    return df"
   ]
  },
  {
   "cell_type": "code",
   "execution_count": 12,
   "metadata": {},
   "outputs": [],
   "source": [
    "parent_path = \"C:/Users/user/Documents/GitHub/Covid-19-Singapore-Analysis\"\n",
    "policy_list = [\"circuit breaker\", \"economic measures\", \"foreign worker\", \"mask\", \"social distancing\", \"tracetogether\", \"vaccination\"]\n",
    "\n",
    "df_list = []\n",
    "\n",
    "for policy in policy_list:\n",
    "    df_list.append(get_sentiments(policy))\n"
   ]
  },
  {
   "cell_type": "code",
   "execution_count": 27,
   "metadata": {},
   "outputs": [
    {
     "output_type": "execute_result",
     "data": {
      "text/plain": [
       "      Unnamed: 0  index                                          Sentences  \\\n",
       "0              0      0  kuma-mon wrote: Because need to handle issues ...   \n",
       "1              1      1                          You are not the only one.   \n",
       "2              7      7        1 - why at home only parents will ask help?   \n",
       "3              8      8  You mean if work in office they miracoulsly no...   \n",
       "4             12     12  kuma-mon wrote: Because need to handle issues ...   \n",
       "...          ...    ...                                                ...   \n",
       "3277        9552  11287  They really need the vaccination program to va...   \n",
       "3278        9554  11289  We just had our election, LHL is still popular...   \n",
       "3279        9556  11294  And also gave personal data...\\r\\n\\r\\nhttps://...   \n",
       "3280        9561  11299      This is true for the Pfizer three-week doses.   \n",
       "3281        9563  11301  Also the disease is rampant in the UK, for the...   \n",
       "\n",
       "     Comment Datetime  Textblob_polarity_score  Textblob_subjectivity_score  \\\n",
       "0          2021-02-03                 0.061806                     0.607176   \n",
       "1          2021-02-03                 0.000000                     1.000000   \n",
       "2          2021-02-03                 0.000000                     1.000000   \n",
       "3          2021-02-03                -0.312500                     0.687500   \n",
       "4          2021-02-03                -0.025833                     0.550833   \n",
       "...               ...                      ...                          ...   \n",
       "3277       2021-01-14                 0.233333                     0.566667   \n",
       "3278       2021-01-14                 0.400000                     0.700000   \n",
       "3279       2021-01-14                 0.011111                     0.511111   \n",
       "3280       2021-01-14                 0.350000                     0.650000   \n",
       "3281       2021-01-14                 0.500000                     0.500000   \n",
       "\n",
       "      Vader_neg_score  Vader_neu_score  Vader_pos_score  Vader_compound_score  \\\n",
       "0               0.046            0.845            0.108                0.7272   \n",
       "1               0.000            1.000            0.000                0.0000   \n",
       "2               0.000            0.722            0.278                0.4019   \n",
       "3               0.196            0.804            0.000               -0.2960   \n",
       "4               0.070            0.816            0.114                0.7098   \n",
       "...               ...              ...              ...                   ...   \n",
       "3277            0.000            1.000            0.000                0.0000   \n",
       "3278            0.079            0.654            0.267                0.6974   \n",
       "3279            0.000            0.833            0.167                0.4215   \n",
       "3280            0.000            0.714            0.286                0.4215   \n",
       "3281            0.000            1.000            0.000                0.0000   \n",
       "\n",
       "     Emotions  \n",
       "0        fear  \n",
       "1     neutral  \n",
       "2     neutral  \n",
       "3     neutral  \n",
       "4     sadness  \n",
       "...       ...  \n",
       "3277  neutral  \n",
       "3278    anger  \n",
       "3279      joy  \n",
       "3280  neutral  \n",
       "3281      joy  \n",
       "\n",
       "[23465 rows x 11 columns]"
      ],
      "text/html": "<div>\n<style scoped>\n    .dataframe tbody tr th:only-of-type {\n        vertical-align: middle;\n    }\n\n    .dataframe tbody tr th {\n        vertical-align: top;\n    }\n\n    .dataframe thead th {\n        text-align: right;\n    }\n</style>\n<table border=\"1\" class=\"dataframe\">\n  <thead>\n    <tr style=\"text-align: right;\">\n      <th></th>\n      <th>Unnamed: 0</th>\n      <th>index</th>\n      <th>Sentences</th>\n      <th>Comment Datetime</th>\n      <th>Textblob_polarity_score</th>\n      <th>Textblob_subjectivity_score</th>\n      <th>Vader_neg_score</th>\n      <th>Vader_neu_score</th>\n      <th>Vader_pos_score</th>\n      <th>Vader_compound_score</th>\n      <th>Emotions</th>\n    </tr>\n  </thead>\n  <tbody>\n    <tr>\n      <th>0</th>\n      <td>0</td>\n      <td>0</td>\n      <td>kuma-mon wrote: Because need to handle issues ...</td>\n      <td>2021-02-03</td>\n      <td>0.061806</td>\n      <td>0.607176</td>\n      <td>0.046</td>\n      <td>0.845</td>\n      <td>0.108</td>\n      <td>0.7272</td>\n      <td>fear</td>\n    </tr>\n    <tr>\n      <th>1</th>\n      <td>1</td>\n      <td>1</td>\n      <td>You are not the only one.</td>\n      <td>2021-02-03</td>\n      <td>0.000000</td>\n      <td>1.000000</td>\n      <td>0.000</td>\n      <td>1.000</td>\n      <td>0.000</td>\n      <td>0.0000</td>\n      <td>neutral</td>\n    </tr>\n    <tr>\n      <th>2</th>\n      <td>7</td>\n      <td>7</td>\n      <td>1 - why at home only parents will ask help?</td>\n      <td>2021-02-03</td>\n      <td>0.000000</td>\n      <td>1.000000</td>\n      <td>0.000</td>\n      <td>0.722</td>\n      <td>0.278</td>\n      <td>0.4019</td>\n      <td>neutral</td>\n    </tr>\n    <tr>\n      <th>3</th>\n      <td>8</td>\n      <td>8</td>\n      <td>You mean if work in office they miracoulsly no...</td>\n      <td>2021-02-03</td>\n      <td>-0.312500</td>\n      <td>0.687500</td>\n      <td>0.196</td>\n      <td>0.804</td>\n      <td>0.000</td>\n      <td>-0.2960</td>\n      <td>neutral</td>\n    </tr>\n    <tr>\n      <th>4</th>\n      <td>12</td>\n      <td>12</td>\n      <td>kuma-mon wrote: Because need to handle issues ...</td>\n      <td>2021-02-03</td>\n      <td>-0.025833</td>\n      <td>0.550833</td>\n      <td>0.070</td>\n      <td>0.816</td>\n      <td>0.114</td>\n      <td>0.7098</td>\n      <td>sadness</td>\n    </tr>\n    <tr>\n      <th>...</th>\n      <td>...</td>\n      <td>...</td>\n      <td>...</td>\n      <td>...</td>\n      <td>...</td>\n      <td>...</td>\n      <td>...</td>\n      <td>...</td>\n      <td>...</td>\n      <td>...</td>\n      <td>...</td>\n    </tr>\n    <tr>\n      <th>3277</th>\n      <td>9552</td>\n      <td>11287</td>\n      <td>They really need the vaccination program to va...</td>\n      <td>2021-01-14</td>\n      <td>0.233333</td>\n      <td>0.566667</td>\n      <td>0.000</td>\n      <td>1.000</td>\n      <td>0.000</td>\n      <td>0.0000</td>\n      <td>neutral</td>\n    </tr>\n    <tr>\n      <th>3278</th>\n      <td>9554</td>\n      <td>11289</td>\n      <td>We just had our election, LHL is still popular...</td>\n      <td>2021-01-14</td>\n      <td>0.400000</td>\n      <td>0.700000</td>\n      <td>0.079</td>\n      <td>0.654</td>\n      <td>0.267</td>\n      <td>0.6974</td>\n      <td>anger</td>\n    </tr>\n    <tr>\n      <th>3279</th>\n      <td>9556</td>\n      <td>11294</td>\n      <td>And also gave personal data...\\r\\n\\r\\nhttps://...</td>\n      <td>2021-01-14</td>\n      <td>0.011111</td>\n      <td>0.511111</td>\n      <td>0.000</td>\n      <td>0.833</td>\n      <td>0.167</td>\n      <td>0.4215</td>\n      <td>joy</td>\n    </tr>\n    <tr>\n      <th>3280</th>\n      <td>9561</td>\n      <td>11299</td>\n      <td>This is true for the Pfizer three-week doses.</td>\n      <td>2021-01-14</td>\n      <td>0.350000</td>\n      <td>0.650000</td>\n      <td>0.000</td>\n      <td>0.714</td>\n      <td>0.286</td>\n      <td>0.4215</td>\n      <td>neutral</td>\n    </tr>\n    <tr>\n      <th>3281</th>\n      <td>9563</td>\n      <td>11301</td>\n      <td>Also the disease is rampant in the UK, for the...</td>\n      <td>2021-01-14</td>\n      <td>0.500000</td>\n      <td>0.500000</td>\n      <td>0.000</td>\n      <td>1.000</td>\n      <td>0.000</td>\n      <td>0.0000</td>\n      <td>joy</td>\n    </tr>\n  </tbody>\n</table>\n<p>23465 rows × 11 columns</p>\n</div>"
     },
     "metadata": {},
     "execution_count": 27
    }
   ],
   "source": [
    "df_list\n",
    "all_sentiments = pd.concat(df_list)\n",
    "\n",
    "all_sentiments"
   ]
  },
  {
   "cell_type": "code",
   "execution_count": 28,
   "metadata": {},
   "outputs": [
    {
     "output_type": "execute_result",
     "data": {
      "text/plain": [
       "                                           Sentences Comment Datetime  \\\n",
       "0  kuma-mon wrote: Because need to handle issues ...       2021-02-03   \n",
       "1                          You are not the only one.       2021-02-03   \n",
       "2        1 - why at home only parents will ask help?       2021-02-03   \n",
       "3  You mean if work in office they miracoulsly no...       2021-02-03   \n",
       "4  kuma-mon wrote: Because need to handle issues ...       2021-02-03   \n",
       "\n",
       "   Textblob_polarity_score  Textblob_subjectivity_score  Vader_neg_score  \\\n",
       "0                 0.061806                     0.607176            0.046   \n",
       "1                 0.000000                     1.000000            0.000   \n",
       "2                 0.000000                     1.000000            0.000   \n",
       "3                -0.312500                     0.687500            0.196   \n",
       "4                -0.025833                     0.550833            0.070   \n",
       "\n",
       "   Vader_neu_score  Vader_pos_score  Vader_compound_score Emotions  \n",
       "0            0.845            0.108                0.7272     fear  \n",
       "1            1.000            0.000                0.0000  neutral  \n",
       "2            0.722            0.278                0.4019  neutral  \n",
       "3            0.804            0.000               -0.2960  neutral  \n",
       "4            0.816            0.114                0.7098  sadness  "
      ],
      "text/html": "<div>\n<style scoped>\n    .dataframe tbody tr th:only-of-type {\n        vertical-align: middle;\n    }\n\n    .dataframe tbody tr th {\n        vertical-align: top;\n    }\n\n    .dataframe thead th {\n        text-align: right;\n    }\n</style>\n<table border=\"1\" class=\"dataframe\">\n  <thead>\n    <tr style=\"text-align: right;\">\n      <th></th>\n      <th>Sentences</th>\n      <th>Comment Datetime</th>\n      <th>Textblob_polarity_score</th>\n      <th>Textblob_subjectivity_score</th>\n      <th>Vader_neg_score</th>\n      <th>Vader_neu_score</th>\n      <th>Vader_pos_score</th>\n      <th>Vader_compound_score</th>\n      <th>Emotions</th>\n    </tr>\n  </thead>\n  <tbody>\n    <tr>\n      <th>0</th>\n      <td>kuma-mon wrote: Because need to handle issues ...</td>\n      <td>2021-02-03</td>\n      <td>0.061806</td>\n      <td>0.607176</td>\n      <td>0.046</td>\n      <td>0.845</td>\n      <td>0.108</td>\n      <td>0.7272</td>\n      <td>fear</td>\n    </tr>\n    <tr>\n      <th>1</th>\n      <td>You are not the only one.</td>\n      <td>2021-02-03</td>\n      <td>0.000000</td>\n      <td>1.000000</td>\n      <td>0.000</td>\n      <td>1.000</td>\n      <td>0.000</td>\n      <td>0.0000</td>\n      <td>neutral</td>\n    </tr>\n    <tr>\n      <th>2</th>\n      <td>1 - why at home only parents will ask help?</td>\n      <td>2021-02-03</td>\n      <td>0.000000</td>\n      <td>1.000000</td>\n      <td>0.000</td>\n      <td>0.722</td>\n      <td>0.278</td>\n      <td>0.4019</td>\n      <td>neutral</td>\n    </tr>\n    <tr>\n      <th>3</th>\n      <td>You mean if work in office they miracoulsly no...</td>\n      <td>2021-02-03</td>\n      <td>-0.312500</td>\n      <td>0.687500</td>\n      <td>0.196</td>\n      <td>0.804</td>\n      <td>0.000</td>\n      <td>-0.2960</td>\n      <td>neutral</td>\n    </tr>\n    <tr>\n      <th>4</th>\n      <td>kuma-mon wrote: Because need to handle issues ...</td>\n      <td>2021-02-03</td>\n      <td>-0.025833</td>\n      <td>0.550833</td>\n      <td>0.070</td>\n      <td>0.816</td>\n      <td>0.114</td>\n      <td>0.7098</td>\n      <td>sadness</td>\n    </tr>\n  </tbody>\n</table>\n</div>"
     },
     "metadata": {},
     "execution_count": 28
    }
   ],
   "source": [
    "all_sentiments = all_sentiments.drop(all_sentiments.columns[0:2], axis=1)\n",
    "all_sentiments.head()"
   ]
  },
  {
   "cell_type": "code",
   "execution_count": 29,
   "metadata": {},
   "outputs": [
    {
     "output_type": "execute_result",
     "data": {
      "text/plain": [
       "    Comment Datetime  Textblob_polarity_score  Textblob_subjectivity_score  \\\n",
       "0         2018-08-15                 0.106885                     0.647065   \n",
       "1         2018-08-16                 0.225000                     0.675000   \n",
       "2         2020-01-03                 0.433333                     0.833333   \n",
       "3         2020-01-06                 0.416667                     0.500000   \n",
       "4         2020-01-08                 0.214286                     0.772024   \n",
       "..               ...                      ...                          ...   \n",
       "416       2021-10-02                 0.201825                     0.648088   \n",
       "417       2021-10-03                 0.173034                     0.625159   \n",
       "418       2021-11-02                 0.141208                     0.665271   \n",
       "419       2021-11-03                 0.333333                     0.500000   \n",
       "420       2021-12-02                 0.193472                     0.648480   \n",
       "\n",
       "     Vader_neg_score  Vader_neu_score  Vader_pos_score  Vader_compound_score  \n",
       "0           0.114562         0.748781         0.136641              0.060998  \n",
       "1           0.145333         0.618333         0.236333              0.198067  \n",
       "2           0.000000         0.455000         0.545000              0.340000  \n",
       "3           0.000000         0.617500         0.382500              0.202300  \n",
       "4           0.133143         0.490571         0.376286              0.183800  \n",
       "..               ...              ...              ...                   ...  \n",
       "416         0.072903         0.813548         0.113565              0.044631  \n",
       "417         0.079769         0.784615         0.135654              0.089315  \n",
       "418         0.072667         0.784061         0.143273              0.128530  \n",
       "419         0.102000         0.898000         0.000000             -0.231067  \n",
       "420         0.073466         0.815990         0.110553              0.062445  \n",
       "\n",
       "[421 rows x 7 columns]"
      ],
      "text/html": "<div>\n<style scoped>\n    .dataframe tbody tr th:only-of-type {\n        vertical-align: middle;\n    }\n\n    .dataframe tbody tr th {\n        vertical-align: top;\n    }\n\n    .dataframe thead th {\n        text-align: right;\n    }\n</style>\n<table border=\"1\" class=\"dataframe\">\n  <thead>\n    <tr style=\"text-align: right;\">\n      <th></th>\n      <th>Comment Datetime</th>\n      <th>Textblob_polarity_score</th>\n      <th>Textblob_subjectivity_score</th>\n      <th>Vader_neg_score</th>\n      <th>Vader_neu_score</th>\n      <th>Vader_pos_score</th>\n      <th>Vader_compound_score</th>\n    </tr>\n  </thead>\n  <tbody>\n    <tr>\n      <th>0</th>\n      <td>2018-08-15</td>\n      <td>0.106885</td>\n      <td>0.647065</td>\n      <td>0.114562</td>\n      <td>0.748781</td>\n      <td>0.136641</td>\n      <td>0.060998</td>\n    </tr>\n    <tr>\n      <th>1</th>\n      <td>2018-08-16</td>\n      <td>0.225000</td>\n      <td>0.675000</td>\n      <td>0.145333</td>\n      <td>0.618333</td>\n      <td>0.236333</td>\n      <td>0.198067</td>\n    </tr>\n    <tr>\n      <th>2</th>\n      <td>2020-01-03</td>\n      <td>0.433333</td>\n      <td>0.833333</td>\n      <td>0.000000</td>\n      <td>0.455000</td>\n      <td>0.545000</td>\n      <td>0.340000</td>\n    </tr>\n    <tr>\n      <th>3</th>\n      <td>2020-01-06</td>\n      <td>0.416667</td>\n      <td>0.500000</td>\n      <td>0.000000</td>\n      <td>0.617500</td>\n      <td>0.382500</td>\n      <td>0.202300</td>\n    </tr>\n    <tr>\n      <th>4</th>\n      <td>2020-01-08</td>\n      <td>0.214286</td>\n      <td>0.772024</td>\n      <td>0.133143</td>\n      <td>0.490571</td>\n      <td>0.376286</td>\n      <td>0.183800</td>\n    </tr>\n    <tr>\n      <th>...</th>\n      <td>...</td>\n      <td>...</td>\n      <td>...</td>\n      <td>...</td>\n      <td>...</td>\n      <td>...</td>\n      <td>...</td>\n    </tr>\n    <tr>\n      <th>416</th>\n      <td>2021-10-02</td>\n      <td>0.201825</td>\n      <td>0.648088</td>\n      <td>0.072903</td>\n      <td>0.813548</td>\n      <td>0.113565</td>\n      <td>0.044631</td>\n    </tr>\n    <tr>\n      <th>417</th>\n      <td>2021-10-03</td>\n      <td>0.173034</td>\n      <td>0.625159</td>\n      <td>0.079769</td>\n      <td>0.784615</td>\n      <td>0.135654</td>\n      <td>0.089315</td>\n    </tr>\n    <tr>\n      <th>418</th>\n      <td>2021-11-02</td>\n      <td>0.141208</td>\n      <td>0.665271</td>\n      <td>0.072667</td>\n      <td>0.784061</td>\n      <td>0.143273</td>\n      <td>0.128530</td>\n    </tr>\n    <tr>\n      <th>419</th>\n      <td>2021-11-03</td>\n      <td>0.333333</td>\n      <td>0.500000</td>\n      <td>0.102000</td>\n      <td>0.898000</td>\n      <td>0.000000</td>\n      <td>-0.231067</td>\n    </tr>\n    <tr>\n      <th>420</th>\n      <td>2021-12-02</td>\n      <td>0.193472</td>\n      <td>0.648480</td>\n      <td>0.073466</td>\n      <td>0.815990</td>\n      <td>0.110553</td>\n      <td>0.062445</td>\n    </tr>\n  </tbody>\n</table>\n<p>421 rows × 7 columns</p>\n</div>"
     },
     "metadata": {},
     "execution_count": 29
    }
   ],
   "source": [
    "# Finding the mean vader sentiment score per day\n",
    "avg_sentiments = all_sentiments.groupby(by=[\"Comment Datetime\"]).mean()\n",
    "avg_sentiments.reset_index(inplace=True)\n",
    "\n",
    "avg_sentiments"
   ]
  },
  {
   "cell_type": "code",
   "execution_count": 32,
   "metadata": {},
   "outputs": [
    {
     "output_type": "execute_result",
     "data": {
      "text/plain": [
       "(Timestamp('2020-01-01 00:00:00'), Timestamp('2021-03-01 00:00:00'))"
      ]
     },
     "metadata": {},
     "execution_count": 32
    }
   ],
   "source": [
    "timeframe = (\"1JAN2020\", \"1MAR2021\")\n",
    "start, end = pd.to_datetime([timeframe[0], timeframe[1]], format='%d%b%Y')\n",
    "\n",
    "start, end"
   ]
  },
  {
   "cell_type": "code",
   "execution_count": 34,
   "metadata": {},
   "outputs": [
    {
     "output_type": "execute_result",
     "data": {
      "text/plain": [
       "    Comment Datetime  Textblob_polarity_score  Textblob_subjectivity_score  \\\n",
       "2         2020-01-03                 0.433333                     0.833333   \n",
       "3         2020-01-06                 0.416667                     0.500000   \n",
       "4         2020-01-08                 0.214286                     0.772024   \n",
       "5         2020-01-09                -0.133333                     0.508333   \n",
       "6         2020-01-10                 0.400000                     0.719444   \n",
       "..               ...                      ...                          ...   \n",
       "382       2021-02-25                 0.153761                     0.667923   \n",
       "383       2021-02-26                 0.109648                     0.656586   \n",
       "384       2021-02-27                 0.126537                     0.747353   \n",
       "385       2021-02-28                 0.095651                     0.708682   \n",
       "386       2021-03-01                 0.128410                     0.702863   \n",
       "\n",
       "     Vader_neg_score  Vader_neu_score  Vader_pos_score  Vader_compound_score  \n",
       "2           0.000000         0.455000         0.545000              0.340000  \n",
       "3           0.000000         0.617500         0.382500              0.202300  \n",
       "4           0.133143         0.490571         0.376286              0.183800  \n",
       "5           0.380000         0.620000         0.000000             -0.869300  \n",
       "6           0.000000         0.927167         0.072833              0.079450  \n",
       "..               ...              ...              ...                   ...  \n",
       "382         0.082485         0.774420         0.143100              0.101256  \n",
       "383         0.112255         0.775041         0.112684              0.041796  \n",
       "384         0.063558         0.797860         0.138605              0.188916  \n",
       "385         0.072057         0.785343         0.142514              0.117846  \n",
       "386         0.066441         0.755206         0.178353              0.141856  \n",
       "\n",
       "[385 rows x 7 columns]"
      ],
      "text/html": "<div>\n<style scoped>\n    .dataframe tbody tr th:only-of-type {\n        vertical-align: middle;\n    }\n\n    .dataframe tbody tr th {\n        vertical-align: top;\n    }\n\n    .dataframe thead th {\n        text-align: right;\n    }\n</style>\n<table border=\"1\" class=\"dataframe\">\n  <thead>\n    <tr style=\"text-align: right;\">\n      <th></th>\n      <th>Comment Datetime</th>\n      <th>Textblob_polarity_score</th>\n      <th>Textblob_subjectivity_score</th>\n      <th>Vader_neg_score</th>\n      <th>Vader_neu_score</th>\n      <th>Vader_pos_score</th>\n      <th>Vader_compound_score</th>\n    </tr>\n  </thead>\n  <tbody>\n    <tr>\n      <th>2</th>\n      <td>2020-01-03</td>\n      <td>0.433333</td>\n      <td>0.833333</td>\n      <td>0.000000</td>\n      <td>0.455000</td>\n      <td>0.545000</td>\n      <td>0.340000</td>\n    </tr>\n    <tr>\n      <th>3</th>\n      <td>2020-01-06</td>\n      <td>0.416667</td>\n      <td>0.500000</td>\n      <td>0.000000</td>\n      <td>0.617500</td>\n      <td>0.382500</td>\n      <td>0.202300</td>\n    </tr>\n    <tr>\n      <th>4</th>\n      <td>2020-01-08</td>\n      <td>0.214286</td>\n      <td>0.772024</td>\n      <td>0.133143</td>\n      <td>0.490571</td>\n      <td>0.376286</td>\n      <td>0.183800</td>\n    </tr>\n    <tr>\n      <th>5</th>\n      <td>2020-01-09</td>\n      <td>-0.133333</td>\n      <td>0.508333</td>\n      <td>0.380000</td>\n      <td>0.620000</td>\n      <td>0.000000</td>\n      <td>-0.869300</td>\n    </tr>\n    <tr>\n      <th>6</th>\n      <td>2020-01-10</td>\n      <td>0.400000</td>\n      <td>0.719444</td>\n      <td>0.000000</td>\n      <td>0.927167</td>\n      <td>0.072833</td>\n      <td>0.079450</td>\n    </tr>\n    <tr>\n      <th>...</th>\n      <td>...</td>\n      <td>...</td>\n      <td>...</td>\n      <td>...</td>\n      <td>...</td>\n      <td>...</td>\n      <td>...</td>\n    </tr>\n    <tr>\n      <th>382</th>\n      <td>2021-02-25</td>\n      <td>0.153761</td>\n      <td>0.667923</td>\n      <td>0.082485</td>\n      <td>0.774420</td>\n      <td>0.143100</td>\n      <td>0.101256</td>\n    </tr>\n    <tr>\n      <th>383</th>\n      <td>2021-02-26</td>\n      <td>0.109648</td>\n      <td>0.656586</td>\n      <td>0.112255</td>\n      <td>0.775041</td>\n      <td>0.112684</td>\n      <td>0.041796</td>\n    </tr>\n    <tr>\n      <th>384</th>\n      <td>2021-02-27</td>\n      <td>0.126537</td>\n      <td>0.747353</td>\n      <td>0.063558</td>\n      <td>0.797860</td>\n      <td>0.138605</td>\n      <td>0.188916</td>\n    </tr>\n    <tr>\n      <th>385</th>\n      <td>2021-02-28</td>\n      <td>0.095651</td>\n      <td>0.708682</td>\n      <td>0.072057</td>\n      <td>0.785343</td>\n      <td>0.142514</td>\n      <td>0.117846</td>\n    </tr>\n    <tr>\n      <th>386</th>\n      <td>2021-03-01</td>\n      <td>0.128410</td>\n      <td>0.702863</td>\n      <td>0.066441</td>\n      <td>0.755206</td>\n      <td>0.178353</td>\n      <td>0.141856</td>\n    </tr>\n  </tbody>\n</table>\n<p>385 rows × 7 columns</p>\n</div>"
     },
     "metadata": {},
     "execution_count": 34
    }
   ],
   "source": [
    "avg_sentiments = avg_sentiments[(avg_sentiments[\"Comment Datetime\"]>=start) & (avg_sentiments[\"Comment Datetime\"] <= end)]\n",
    "\n",
    "avg_sentiments"
   ]
  },
  {
   "cell_type": "code",
   "execution_count": 38,
   "metadata": {},
   "outputs": [],
   "source": [
    "avg_sentiments['SMA_1'] = avg_sentiments.Vader_compound_score.rolling(1, min_periods=1).mean()\n",
    "avg_sentiments['SMA_3'] = avg_sentiments.Vader_compound_score.rolling(3, min_periods=1).mean()\n",
    "avg_sentiments['SMA_5'] = avg_sentiments.Vader_compound_score.rolling(5, min_periods=1).mean()\n",
    "avg_sentiments['SMA_7'] = avg_sentiments.Vader_compound_score.rolling(7, min_periods=1).mean()\n",
    "avg_sentiments['SMA_14'] = avg_sentiments.Vader_compound_score.rolling(14, min_periods=1).mean()"
   ]
  },
  {
   "cell_type": "code",
   "execution_count": 39,
   "metadata": {},
   "outputs": [
    {
     "output_type": "execute_result",
     "data": {
      "text/plain": [
       "    Comment Datetime  Textblob_polarity_score  Textblob_subjectivity_score  \\\n",
       "2         2020-01-03                 0.433333                     0.833333   \n",
       "3         2020-01-06                 0.416667                     0.500000   \n",
       "4         2020-01-08                 0.214286                     0.772024   \n",
       "5         2020-01-09                -0.133333                     0.508333   \n",
       "6         2020-01-10                 0.400000                     0.719444   \n",
       "..               ...                      ...                          ...   \n",
       "382       2021-02-25                 0.153761                     0.667923   \n",
       "383       2021-02-26                 0.109648                     0.656586   \n",
       "384       2021-02-27                 0.126537                     0.747353   \n",
       "385       2021-02-28                 0.095651                     0.708682   \n",
       "386       2021-03-01                 0.128410                     0.702863   \n",
       "\n",
       "     Vader_neg_score  Vader_neu_score  Vader_pos_score  Vader_compound_score  \\\n",
       "2           0.000000         0.455000         0.545000              0.340000   \n",
       "3           0.000000         0.617500         0.382500              0.202300   \n",
       "4           0.133143         0.490571         0.376286              0.183800   \n",
       "5           0.380000         0.620000         0.000000             -0.869300   \n",
       "6           0.000000         0.927167         0.072833              0.079450   \n",
       "..               ...              ...              ...                   ...   \n",
       "382         0.082485         0.774420         0.143100              0.101256   \n",
       "383         0.112255         0.775041         0.112684              0.041796   \n",
       "384         0.063558         0.797860         0.138605              0.188916   \n",
       "385         0.072057         0.785343         0.142514              0.117846   \n",
       "386         0.066441         0.755206         0.178353              0.141856   \n",
       "\n",
       "        SMA_1     SMA_3     SMA_5     SMA_7    SMA_14  \n",
       "2    0.340000  0.340000  0.340000  0.340000  0.340000  \n",
       "3    0.202300  0.271150  0.271150  0.271150  0.271150  \n",
       "4    0.183800  0.242033  0.242033  0.242033  0.242033  \n",
       "5   -0.869300 -0.161067 -0.035800 -0.035800 -0.035800  \n",
       "6    0.079450 -0.202017 -0.012750 -0.012750 -0.012750  \n",
       "..        ...       ...       ...       ...       ...  \n",
       "382  0.101256  0.102146  0.082514  0.079861  0.079383  \n",
       "383  0.041796  0.081778  0.069719  0.075351  0.087846  \n",
       "384  0.188916  0.110656  0.107430  0.091898  0.098192  \n",
       "385  0.117846  0.116186  0.110419  0.093622  0.116521  \n",
       "386  0.141856  0.149539  0.118334  0.113836  0.099593  \n",
       "\n",
       "[385 rows x 12 columns]"
      ],
      "text/html": "<div>\n<style scoped>\n    .dataframe tbody tr th:only-of-type {\n        vertical-align: middle;\n    }\n\n    .dataframe tbody tr th {\n        vertical-align: top;\n    }\n\n    .dataframe thead th {\n        text-align: right;\n    }\n</style>\n<table border=\"1\" class=\"dataframe\">\n  <thead>\n    <tr style=\"text-align: right;\">\n      <th></th>\n      <th>Comment Datetime</th>\n      <th>Textblob_polarity_score</th>\n      <th>Textblob_subjectivity_score</th>\n      <th>Vader_neg_score</th>\n      <th>Vader_neu_score</th>\n      <th>Vader_pos_score</th>\n      <th>Vader_compound_score</th>\n      <th>SMA_1</th>\n      <th>SMA_3</th>\n      <th>SMA_5</th>\n      <th>SMA_7</th>\n      <th>SMA_14</th>\n    </tr>\n  </thead>\n  <tbody>\n    <tr>\n      <th>2</th>\n      <td>2020-01-03</td>\n      <td>0.433333</td>\n      <td>0.833333</td>\n      <td>0.000000</td>\n      <td>0.455000</td>\n      <td>0.545000</td>\n      <td>0.340000</td>\n      <td>0.340000</td>\n      <td>0.340000</td>\n      <td>0.340000</td>\n      <td>0.340000</td>\n      <td>0.340000</td>\n    </tr>\n    <tr>\n      <th>3</th>\n      <td>2020-01-06</td>\n      <td>0.416667</td>\n      <td>0.500000</td>\n      <td>0.000000</td>\n      <td>0.617500</td>\n      <td>0.382500</td>\n      <td>0.202300</td>\n      <td>0.202300</td>\n      <td>0.271150</td>\n      <td>0.271150</td>\n      <td>0.271150</td>\n      <td>0.271150</td>\n    </tr>\n    <tr>\n      <th>4</th>\n      <td>2020-01-08</td>\n      <td>0.214286</td>\n      <td>0.772024</td>\n      <td>0.133143</td>\n      <td>0.490571</td>\n      <td>0.376286</td>\n      <td>0.183800</td>\n      <td>0.183800</td>\n      <td>0.242033</td>\n      <td>0.242033</td>\n      <td>0.242033</td>\n      <td>0.242033</td>\n    </tr>\n    <tr>\n      <th>5</th>\n      <td>2020-01-09</td>\n      <td>-0.133333</td>\n      <td>0.508333</td>\n      <td>0.380000</td>\n      <td>0.620000</td>\n      <td>0.000000</td>\n      <td>-0.869300</td>\n      <td>-0.869300</td>\n      <td>-0.161067</td>\n      <td>-0.035800</td>\n      <td>-0.035800</td>\n      <td>-0.035800</td>\n    </tr>\n    <tr>\n      <th>6</th>\n      <td>2020-01-10</td>\n      <td>0.400000</td>\n      <td>0.719444</td>\n      <td>0.000000</td>\n      <td>0.927167</td>\n      <td>0.072833</td>\n      <td>0.079450</td>\n      <td>0.079450</td>\n      <td>-0.202017</td>\n      <td>-0.012750</td>\n      <td>-0.012750</td>\n      <td>-0.012750</td>\n    </tr>\n    <tr>\n      <th>...</th>\n      <td>...</td>\n      <td>...</td>\n      <td>...</td>\n      <td>...</td>\n      <td>...</td>\n      <td>...</td>\n      <td>...</td>\n      <td>...</td>\n      <td>...</td>\n      <td>...</td>\n      <td>...</td>\n      <td>...</td>\n    </tr>\n    <tr>\n      <th>382</th>\n      <td>2021-02-25</td>\n      <td>0.153761</td>\n      <td>0.667923</td>\n      <td>0.082485</td>\n      <td>0.774420</td>\n      <td>0.143100</td>\n      <td>0.101256</td>\n      <td>0.101256</td>\n      <td>0.102146</td>\n      <td>0.082514</td>\n      <td>0.079861</td>\n      <td>0.079383</td>\n    </tr>\n    <tr>\n      <th>383</th>\n      <td>2021-02-26</td>\n      <td>0.109648</td>\n      <td>0.656586</td>\n      <td>0.112255</td>\n      <td>0.775041</td>\n      <td>0.112684</td>\n      <td>0.041796</td>\n      <td>0.041796</td>\n      <td>0.081778</td>\n      <td>0.069719</td>\n      <td>0.075351</td>\n      <td>0.087846</td>\n    </tr>\n    <tr>\n      <th>384</th>\n      <td>2021-02-27</td>\n      <td>0.126537</td>\n      <td>0.747353</td>\n      <td>0.063558</td>\n      <td>0.797860</td>\n      <td>0.138605</td>\n      <td>0.188916</td>\n      <td>0.188916</td>\n      <td>0.110656</td>\n      <td>0.107430</td>\n      <td>0.091898</td>\n      <td>0.098192</td>\n    </tr>\n    <tr>\n      <th>385</th>\n      <td>2021-02-28</td>\n      <td>0.095651</td>\n      <td>0.708682</td>\n      <td>0.072057</td>\n      <td>0.785343</td>\n      <td>0.142514</td>\n      <td>0.117846</td>\n      <td>0.117846</td>\n      <td>0.116186</td>\n      <td>0.110419</td>\n      <td>0.093622</td>\n      <td>0.116521</td>\n    </tr>\n    <tr>\n      <th>386</th>\n      <td>2021-03-01</td>\n      <td>0.128410</td>\n      <td>0.702863</td>\n      <td>0.066441</td>\n      <td>0.755206</td>\n      <td>0.178353</td>\n      <td>0.141856</td>\n      <td>0.141856</td>\n      <td>0.149539</td>\n      <td>0.118334</td>\n      <td>0.113836</td>\n      <td>0.099593</td>\n    </tr>\n  </tbody>\n</table>\n<p>385 rows × 12 columns</p>\n</div>"
     },
     "metadata": {},
     "execution_count": 39
    }
   ],
   "source": [
    "avg_sentiments"
   ]
  },
  {
   "cell_type": "code",
   "execution_count": 40,
   "metadata": {},
   "outputs": [],
   "source": [
    "avg_sentiments.to_csv(\"C:/Users/user/Documents/GitHub/Covid-19-Singapore-Analysis/Data/Sentiment Data/moving_average_sentiments.csv\")"
   ]
  }
 ]
}