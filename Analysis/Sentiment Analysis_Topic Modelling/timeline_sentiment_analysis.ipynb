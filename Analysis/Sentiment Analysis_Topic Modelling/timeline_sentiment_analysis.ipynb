{
 "metadata": {
  "language_info": {
   "codemirror_mode": {
    "name": "ipython",
    "version": 3
   },
   "file_extension": ".py",
   "mimetype": "text/x-python",
   "name": "python",
   "nbconvert_exporter": "python",
   "pygments_lexer": "ipython3",
   "version": "3.7.3"
  },
  "orig_nbformat": 2,
  "kernelspec": {
   "name": "python3",
   "display_name": "Python 3",
   "language": "python"
  }
 },
 "nbformat": 4,
 "nbformat_minor": 2,
 "cells": [
  {
   "cell_type": "code",
   "execution_count": 1,
   "metadata": {},
   "outputs": [],
   "source": [
    "import pandas as pd\n",
    "import os\n",
    "import datetime as dt\n",
    "\n",
    "import matplotlib.pyplot as plt\n",
    "from plotly.offline import plot, iplot, init_notebook_mode\n",
    "import cufflinks as cf\n",
    "import plotly.express as px\n",
    "import plotly.graph_objects as go\n",
    "from plotly.subplots import make_subplots\n",
    "\n",
    "from plotly_functions import *"
   ]
  },
  {
   "cell_type": "code",
   "execution_count": 2,
   "metadata": {},
   "outputs": [
    {
     "output_type": "display_data",
     "data": {
      "text/html": "        <script type=\"text/javascript\">\n        window.PlotlyConfig = {MathJaxConfig: 'local'};\n        if (window.MathJax) {MathJax.Hub.Config({SVG: {font: \"STIX-Web\"}});}\n        if (typeof require !== 'undefined') {\n        require.undef(\"plotly\");\n        requirejs.config({\n            paths: {\n                'plotly': ['https://cdn.plot.ly/plotly-latest.min']\n            }\n        });\n        require(['plotly'], function(Plotly) {\n            window._Plotly = Plotly;\n        });\n        }\n        </script>\n        "
     },
     "metadata": {}
    },
    {
     "output_type": "display_data",
     "data": {
      "text/html": "        <script type=\"text/javascript\">\n        window.PlotlyConfig = {MathJaxConfig: 'local'};\n        if (window.MathJax) {MathJax.Hub.Config({SVG: {font: \"STIX-Web\"}});}\n        if (typeof require !== 'undefined') {\n        require.undef(\"plotly\");\n        requirejs.config({\n            paths: {\n                'plotly': ['https://cdn.plot.ly/plotly-latest.min']\n            }\n        });\n        require(['plotly'], function(Plotly) {\n            window._Plotly = Plotly;\n        });\n        }\n        </script>\n        "
     },
     "metadata": {}
    }
   ],
   "source": [
    "init_notebook_mode(connected=True)\n",
    "cf.go_offline()"
   ]
  },
  {
   "source": [
    "# Functions\n",
    "\n",
    "## Getting data from the csvs"
   ],
   "cell_type": "markdown",
   "metadata": {}
  },
  {
   "cell_type": "code",
   "execution_count": 3,
   "metadata": {},
   "outputs": [],
   "source": [
    "def get_data(policy, timeframe):\n",
    "    df = pd.read_csv(f\"{parent_path}/Data/Sentiment Data/{policy}_valuable_opinions.csv\")\n",
    "\n",
    "    # Standardising datetime format\n",
    "    dates = []\n",
    "    for row in df['Comment Datetime']:\n",
    "        if '/' in row:\n",
    "            if '/' in row[-4:]:\n",
    "                date = dt.datetime.strptime(row, \"%d/%m/%y\")\n",
    "            else: \n",
    "                date = dt.datetime.strptime(row, \"%d/%m/%Y\")\n",
    "            dates.append(date.date())\n",
    "        elif '-' in row:\n",
    "            date = dt.datetime.strptime(row, \"%Y-%m-%d\")\n",
    "            dates.append(date.date())\n",
    "\n",
    "    df['Comment Datetime'] = dates\n",
    "\n",
    "    # Truncate according to the policy timeframe\n",
    "    start, end = pd.to_datetime([timeframe[0], timeframe[1]], format='%d%b%Y')\n",
    "    df_within_date = df[(df['Comment Datetime'] >= start) & (df['Comment Datetime'] <= end)]\n",
    "    df_within_date = df_within_date[['Comment Datetime', 'Vader_compound_score']]\n",
    "    return df_within_date"
   ]
  },
  {
   "cell_type": "code",
   "execution_count": 4,
   "metadata": {},
   "outputs": [],
   "source": [
    "def sentiment_with_cases_static(policy, timeframe):\n",
    "    df_within_date = get_data(policy, timeframe)\n",
    "\n",
    "    # Getting daily confirmed cases\n",
    "    daily_cases = pd.read_excel(f\"{parent_path}/Analysis/Sentiment Analysis_Topic Modelling/Covid-19 SG.xlsx\") \n",
    "    daily_cases.reset_index(inplace=True)\n",
    "    daily_confirmed = daily_cases.iloc[:, 1:3]\n",
    "\n",
    "    # Finding the mean vader sentiment score per day\n",
    "    grouped_date = df_within_date.groupby(by=[\"Comment Datetime\"]).mean()\n",
    "    grouped_date.reset_index(inplace=True)\n",
    "\n",
    "    # Finding the moving average (7-day)\n",
    "    grouped_date['SMA_7'] = grouped_date.Vader_compound_score.rolling(7, min_periods=1).mean()\n",
    "\n",
    "    # Setting the number of cases within the policy timeframe \n",
    "    daily_confirmed_within_timeframe = daily_confirmed.loc[(daily_confirmed[\"Date\"]>= timeframe[0]) & (daily_confirmed[\"Date\"]<= timeframe[1])]\n",
    "\n",
    "    # Plotting the figure \n",
    "    fig = make_subplots(specs=[[{\"secondary_y\": True}]]) # NEW\n",
    "    fig.add_trace(go.Scatter(x = grouped_date['Comment Datetime'], y = grouped_date['SMA_7'], mode='lines', \n",
    "                  name=\"Vader 7-day MA\"), secondary_y=False)\n",
    "    fig.add_trace(go.Scatter(x = grouped_date['Comment Datetime'], y = grouped_date['Vader_compound_score'], mode='lines', \n",
    "                  name=\"Vader Compound Score\", opacity=.5), secondary_y=False)\n",
    "\n",
    "    fig.add_bar(x = daily_confirmed_within_timeframe[\"Date\"], y = daily_confirmed_within_timeframe[\"Daily Confirmed \"],\n",
    "                name=\"Cases Count\", secondary_y=True)\n",
    "\n",
    "    #fig.update_layout(width = 1200, height=800)\n",
    "    fig.update_layout(legend=dict(orientation=\"h\", yanchor=\"bottom\", y=1.02, xanchor=\"right\", x=1),\n",
    "                      title_text=f\"Timeseries Sentiment Analysis of {policy} with Daily Number of Cases\",\n",
    "                      yaxis_range=[-2,1], \n",
    "                      yaxis2_range=[0,1426*2])\n",
    "                      \n",
    "    fig.update_layout(width = 1200, height=800)\n",
    "    fig.update_xaxes(title_text='Date', ticks=\"outside\", showgrid=False)\n",
    "    fig.update_yaxes(title_text='Vader Compound Score', ticks=\"outside\", showgrid=False)\n",
    "    fig.update_yaxes(title_text='Number of Cases', ticks=\"outside\", showgrid=False, secondary_y=True)\n",
    "\n",
    "    fig.write_image(f\"timeseries sentiment plots/{policy}_with_cases.png\", engine=\"kaleido\")\n",
    "    # fig.show()\n",
    "    print(policy, \"(with cases, static) is done!\")"
   ]
  },
  {
   "cell_type": "code",
   "execution_count": 5,
   "metadata": {},
   "outputs": [],
   "source": [
    "def sentiment_with_cases_html(policy, timeframe):\n",
    "    df_within_date = get_data(policy, timeframe)\n",
    "\n",
    "    # Getting daily confirmed cases\n",
    "    daily_cases = pd.read_excel(f\"{parent_path}/Analysis/Sentiment Analysis_Topic Modelling/Covid-19 SG.xlsx\") \n",
    "    daily_cases.reset_index(inplace=True)\n",
    "    daily_confirmed = daily_cases.iloc[:, 1:3]\n",
    "\n",
    "    # Finding the mean vader sentiment score per day\n",
    "    grouped_date = df_within_date.groupby(by=[\"Comment Datetime\"]).mean()\n",
    "    grouped_date.reset_index(inplace=True)\n",
    "\n",
    "    # Finding the moving average (7-day)\n",
    "    grouped_date['SMA_7'] = grouped_date.Vader_compound_score.rolling(7, min_periods=1).mean()\n",
    "\n",
    "    # Setting the number of cases within the policy timeframe \n",
    "    daily_confirmed_within_timeframe = daily_confirmed.loc[(daily_confirmed[\"Date\"]>= timeframe[0]) & (daily_confirmed[\"Date\"]<= timeframe[1])]\n",
    "\n",
    "    # Plotting the figure \n",
    "    fig = make_subplots(specs=[[{\"secondary_y\": True}]]) # NEW\n",
    "    fig.add_trace(go.Scatter(x = grouped_date['Comment Datetime'], y = grouped_date['SMA_7'], mode='lines', \n",
    "                  name=\"Vader 7-day MA\"), secondary_y=False)\n",
    "    fig.add_trace(go.Scatter(x = grouped_date['Comment Datetime'], y = grouped_date['Vader_compound_score'], mode='lines', \n",
    "                  name=\"Vader Compound Score\", opacity=.5,visible='legendonly'), secondary_y=False)\n",
    "    fig.add_bar(x = daily_confirmed_within_timeframe[\"Date\"], y = daily_confirmed_within_timeframe[\"Daily Confirmed \"],\n",
    "                name=\"Cases Count\", secondary_y=True, visible='legendonly')\n",
    "\n",
    "    #fig.update_layout(width = 1200, height=800)\n",
    "    fig.update_layout(legend=dict(orientation=\"h\", yanchor=\"bottom\", y=1.02, xanchor=\"right\", x=1),\n",
    "                      title_text=f\"Timeseries Sentiment Analysis of {policy} with Daily Number of Cases\",\n",
    "                      yaxis_range=[-2,1],\n",
    "                      yaxis2_range=[0,1426*2])\n",
    "                      \n",
    "    fig.update_layout(width = 1200, height=800)\n",
    "    fig.update_xaxes(title_text='Date', ticks=\"outside\", showgrid=False)\n",
    "    fig.update_yaxes(title_text='Vader Compound Score', ticks=\"outside\", showgrid=False)\n",
    "    fig.update_yaxes(title_text='Number of Cases', ticks=\"outside\", showgrid=False, secondary_y=True)\n",
    "\n",
    "    fig.write_html(f\"timeseries sentiment plots/{policy}_with_cases.html\")\n",
    "    # fig.show()\n",
    "    print(policy, \"(with cases, html) is done!\")\n"
   ]
  },
  {
   "cell_type": "code",
   "execution_count": 6,
   "metadata": {},
   "outputs": [],
   "source": [
    "def sentiment_with_comments_static(policy, timeframe):\n",
    "    df_within_date = get_data(policy, timeframe)\n",
    "\n",
    "    # Finding the mean vader sentiment score per day\n",
    "    grouped_date = df_within_date.groupby(by=[\"Comment Datetime\"]).mean()\n",
    "    grouped_date.reset_index(inplace=True)\n",
    "\n",
    "    # Finding the moving average (7-day)\n",
    "    grouped_date['SMA_7'] = grouped_date.Vader_compound_score.rolling(7, min_periods=1).mean()\n",
    "\n",
    "    # Finding the number of comments per day\n",
    "    grouped_date_counts = df_within_date.groupby(by=[\"Comment Datetime\"]).count()\n",
    "    grouped_date_counts.reset_index(inplace=True)\n",
    "    grouped_date['Comment Count'] = grouped_date_counts['Vader_compound_score']\n",
    "\n",
    "    # Plotting the figure \n",
    "    fig = make_subplots(specs=[[{\"secondary_y\": True}]]) # NEW\n",
    "    fig.add_trace(go.Scatter(x = grouped_date['Comment Datetime'], y = grouped_date['SMA_7'], mode='lines', \n",
    "                  name=\"Vader 7-day MA\"), secondary_y=False)\n",
    "    fig.add_trace(go.Scatter(x = grouped_date['Comment Datetime'], y = grouped_date['Vader_compound_score'], mode='lines', \n",
    "                  name=\"Vader Compound Score\", opacity=.5), secondary_y=False)\n",
    "    fig.add_bar(x = grouped_date['Comment Datetime'], y = grouped_date['Comment Count'],\n",
    "                name=\"Comment Count\", secondary_y=True)\n",
    "\n",
    "    #fig.update_layout(width = 1200, height=800)\n",
    "    fig.update_layout(legend=dict(orientation=\"h\", yanchor=\"bottom\", y=1.02, xanchor=\"right\", x=1),\n",
    "                      title_text=f\"Timeseries Sentiment Analysis of {policy} with Daily Number of Comments\",\n",
    "                      yaxis_range=[-2,1])\n",
    "\n",
    "    max_num_comments = grouped_date['Comment Count'].max()\n",
    "    fig.update_layout(yaxis2_range=[0,max_num_comments*2.5])\n",
    "    fig.update_layout(width = 1200, height=800)\n",
    "    fig.update_xaxes(title_text='Date')\n",
    "    fig.update_yaxes(title_text='Vader Compound Score')\n",
    "    fig.update_yaxes(title_text='Comment Count', secondary_y=True)\n",
    "\n",
    "    fig.write_image(f\"timeseries sentiment plots/{policy}_with_comments.png\", engine=\"kaleido\")\n",
    "    # fig.show()\n",
    "    print(policy, \"(with comments, static) is done!\")"
   ]
  },
  {
   "cell_type": "code",
   "execution_count": 7,
   "metadata": {},
   "outputs": [],
   "source": [
    "def sentiment_with_comments_html(policy, timeframe):\n",
    "    df_within_date = get_data(policy, timeframe)\n",
    "\n",
    "    # Finding the mean vader sentiment score per day\n",
    "    grouped_date = df_within_date.groupby(by=[\"Comment Datetime\"]).mean()\n",
    "    grouped_date.reset_index(inplace=True)\n",
    "\n",
    "    # Finding the moving average (7-day)\n",
    "    grouped_date['SMA_7'] = grouped_date.Vader_compound_score.rolling(7, min_periods=1).mean()\n",
    "\n",
    "    # Finding the number of comments per day\n",
    "    grouped_date_counts = df_within_date.groupby(by=[\"Comment Datetime\"]).count()\n",
    "    grouped_date_counts.reset_index(inplace=True)\n",
    "    grouped_date['Comment Count'] = grouped_date_counts['Vader_compound_score']\n",
    "\n",
    "    # Plotting the figure \n",
    "    fig = make_subplots(specs=[[{\"secondary_y\": True}]]) # NEW\n",
    "    fig.add_trace(go.Scatter(x = grouped_date['Comment Datetime'], y = grouped_date['SMA_7'], mode='lines', \n",
    "                  name=\"Vader 7-day MA\"), secondary_y=False)\n",
    "    fig.add_trace(go.Scatter(x = grouped_date['Comment Datetime'], y = grouped_date['Vader_compound_score'], mode='lines', \n",
    "                  name=\"Vader Compound Score\", visible='legendonly', opacity=.5), secondary_y=False)\n",
    "\n",
    "    fig.add_bar(x = grouped_date['Comment Datetime'], y = grouped_date['Comment Count'],\n",
    "                name=\"Comment Count\", secondary_y=True, visible='legendonly')\n",
    "\n",
    "    #fig.update_layout(width = 1200, height=800)\n",
    "    fig.update_layout(legend=dict(orientation=\"h\", yanchor=\"bottom\", y=1.02, xanchor=\"right\", x=1),\n",
    "                      title_text=f\"Timeseries Sentiment Analysis of {policy} with Daily Number of Comments\",\n",
    "                      yaxis_range=[-1,1])\n",
    "\n",
    "    max_num_comments = grouped_date['Comment Count'].max()\n",
    "    fig.update_layout(yaxis2_range=[0,max_num_comments*2.5])\n",
    "    fig.update_layout(width = 1200, height=800)\n",
    "    fig.update_xaxes(title_text='Date')\n",
    "    fig.update_yaxes(title_text='Vader Compound Score')\n",
    "    fig.update_yaxes(title_text='Comment Count', secondary_y=True)\n",
    "\n",
    "    fig.write_html(f\"timeseries sentiment plots/{policy}_with_comments.html\")\n",
    "    # fig.show()\n",
    "    print(policy, \"(with comments, html) is done!\")\n"
   ]
  },
  {
   "cell_type": "code",
   "execution_count": 8,
   "metadata": {},
   "outputs": [],
   "source": [
    "def emotion_count(policy):\n",
    "    anger_df = pd.read_csv(f\"{parent_path}/Data/Sentiment Data/{policy}_valuable_anger.csv\")\n",
    "    fear_df = pd.read_csv(f\"{parent_path}/Data/Sentiment Data/{policy}_valuable_fear.csv\")\n",
    "    joy_df = pd.read_csv(f\"{parent_path}/Data/Sentiment Data/{policy}_valuable_joy.csv\")\n",
    "    neutral_df = pd.read_csv(f\"{parent_path}/Data/Sentiment Data/{policy}_valuable_neu.csv\")\n",
    "    sad_df = pd.read_csv(f\"{parent_path}/Data/Sentiment Data/{policy}_valuable_sad.csv\")\n",
    "\n",
    "    emotions = ['anger', 'fear','sad','neutral','joy']\n",
    "    counts = [len(anger_df), len(fear_df), len(sad_df), len(neutral_df), len(joy_df)] \n",
    "\n",
    "    fig = go.Figure([go.Bar(x=emotions, y=counts, text=counts)])\n",
    "    fig.update_layout(title_text=f\"Emotion Counts for {policy}\")\n",
    "    fig.update_traces(texttemplate='%{text:.2s}', textposition='outside')\n",
    "    # fig.show()\n",
    "    fig.write_image(f\"timeseries sentiment plots/Emotions/{policy}_emotions.png\", engine=\"kaleido\")\n",
    "\n",
    "    print(policy, \"(emotion count) is done!\")"
   ]
  },
  {
   "source": [
    "# Plotting out the graphs"
   ],
   "cell_type": "markdown",
   "metadata": {}
  },
  {
   "cell_type": "code",
   "execution_count": 9,
   "metadata": {},
   "outputs": [
    {
     "output_type": "stream",
     "name": "stdout",
     "text": [
      "circuit breaker (with comments, static) is done!\n",
      "circuit breaker (with comments, html) is done!\n",
      "circuit breaker (with cases, static) is done!\n",
      "circuit breaker (with cases, html) is done!\n",
      "\n",
      "\n",
      "********************\n",
      "\n",
      "\n",
      "economic measures (with comments, static) is done!\n",
      "economic measures (with comments, html) is done!\n",
      "economic measures (with cases, static) is done!\n",
      "economic measures (with cases, html) is done!\n",
      "\n",
      "\n",
      "********************\n",
      "\n",
      "\n",
      "foreign worker (with comments, static) is done!\n",
      "foreign worker (with comments, html) is done!\n",
      "foreign worker (with cases, static) is done!\n",
      "foreign worker (with cases, html) is done!\n",
      "\n",
      "\n",
      "********************\n",
      "\n",
      "\n",
      "mask (with comments, static) is done!\n",
      "mask (with comments, html) is done!\n",
      "mask (with cases, static) is done!\n",
      "mask (with cases, html) is done!\n",
      "\n",
      "\n",
      "********************\n",
      "\n",
      "\n",
      "social distancing (with comments, static) is done!\n",
      "social distancing (with comments, html) is done!\n",
      "social distancing (with cases, static) is done!\n",
      "social distancing (with cases, html) is done!\n",
      "\n",
      "\n",
      "********************\n",
      "\n",
      "\n",
      "tracetogether (with comments, static) is done!\n",
      "tracetogether (with comments, html) is done!\n",
      "tracetogether (with cases, static) is done!\n",
      "tracetogether (with cases, html) is done!\n",
      "\n",
      "\n",
      "********************\n",
      "\n",
      "\n",
      "vaccination (with comments, static) is done!\n",
      "vaccination (with comments, html) is done!\n",
      "vaccination (with cases, static) is done!\n",
      "vaccination (with cases, html) is done!\n",
      "\n",
      "\n",
      "********************\n",
      "\n",
      "\n"
     ]
    }
   ],
   "source": [
    "# parent_path = \"/Users/joshuawong/Documents/GitHub/Covid-19-Singapore-Analysis\"\n",
    "parent_path = \"C:/Users/user/Documents/GitHub/Covid-19-Singapore-Analysis\"\n",
    "\n",
    "policy_list = [\"circuit breaker\", \"economic measures\", \"foreign worker\", \"mask\", \"social distancing\", \"tracetogether\", \"vaccination\"]\n",
    "\n",
    "policy_timeframe = {\"circuit breaker\":(\"1APR2020\", \"1JUL2020\"), \n",
    "                    \"economic measures\":(\"1FEB2020\", \"1MAR2021\"), \n",
    "                    \"foreign worker\":(\"1APR2020\",\"1JAN2021\"), \n",
    "                    \"mask\":(\"1FEB2020\",\"1MAR2021\"), \n",
    "                    \"social distancing\":(\"1FEB2020\", \"1FEB2021\"), \n",
    "                    \"tracetogether\":(\"1MAR2020\", \"1MAR2021\"), \n",
    "                    \"vaccination\":(\"1AUG2020\",\"1MAR2021\")}\n",
    "\n",
    "for policy, timeframe in policy_timeframe.items():\n",
    "    sentiment_with_comments_static(policy, timeframe)\n",
    "    sentiment_with_comments_html(policy, timeframe)\n",
    "    sentiment_with_cases_static(policy, timeframe)\n",
    "    sentiment_with_cases_html(policy, timeframe)\n",
    "    print('\\n')\n",
    "    print('*'*20)\n",
    "    print('\\n')\n",
    "\n",
    "# for policy in policy_list:\n",
    "#     emotion_count(policy)"
   ]
  },
  {
   "cell_type": "code",
   "execution_count": 14,
   "metadata": {},
   "outputs": [
    {
     "output_type": "display_data",
     "data": {
      "application/vnd.plotly.v1+json": {
       "config": {
        "plotlyServerURL": "https://plot.ly"
       },
       "data": [
        {
         "name": "joy",
         "type": "bar",
         "x": [
          "Facebook",
          "Instagram",
          "Reddit",
          "Hardwarezone",
          "Twitter"
         ],
         "y": [
          17649,
          9159,
          30606,
          15883,
          14371
         ]
        },
        {
         "name": "sadness",
         "type": "bar",
         "x": [
          "Facebook",
          "Instagram",
          "Reddit",
          "Hardwarezone",
          "Twitter"
         ],
         "y": [
          2427,
          1665,
          5305,
          2763,
          2532
         ]
        },
        {
         "name": "neutral",
         "type": "bar",
         "x": [
          "Facebook",
          "Instagram",
          "Reddit",
          "Hardwarezone",
          "Twitter"
         ],
         "y": [
          6532,
          5897,
          12323,
          10819,
          12476
         ]
        },
        {
         "name": "fear",
         "type": "bar",
         "x": [
          "Facebook",
          "Instagram",
          "Reddit",
          "Hardwarezone",
          "Twitter"
         ],
         "y": [
          5634,
          4106,
          16072,
          8763,
          8315
         ]
        },
        {
         "name": "anger",
         "type": "bar",
         "x": [
          "Facebook",
          "Instagram",
          "Reddit",
          "Hardwarezone",
          "Twitter"
         ],
         "y": [
          9324,
          4947,
          18343,
          9338,
          7003
         ]
        }
       ],
       "layout": {
        "template": {
         "data": {
          "bar": [
           {
            "error_x": {
             "color": "#2a3f5f"
            },
            "error_y": {
             "color": "#2a3f5f"
            },
            "marker": {
             "line": {
              "color": "#E5ECF6",
              "width": 0.5
             }
            },
            "type": "bar"
           }
          ],
          "barpolar": [
           {
            "marker": {
             "line": {
              "color": "#E5ECF6",
              "width": 0.5
             }
            },
            "type": "barpolar"
           }
          ],
          "carpet": [
           {
            "aaxis": {
             "endlinecolor": "#2a3f5f",
             "gridcolor": "white",
             "linecolor": "white",
             "minorgridcolor": "white",
             "startlinecolor": "#2a3f5f"
            },
            "baxis": {
             "endlinecolor": "#2a3f5f",
             "gridcolor": "white",
             "linecolor": "white",
             "minorgridcolor": "white",
             "startlinecolor": "#2a3f5f"
            },
            "type": "carpet"
           }
          ],
          "choropleth": [
           {
            "colorbar": {
             "outlinewidth": 0,
             "ticks": ""
            },
            "type": "choropleth"
           }
          ],
          "contour": [
           {
            "colorbar": {
             "outlinewidth": 0,
             "ticks": ""
            },
            "colorscale": [
             [
              0,
              "#0d0887"
             ],
             [
              0.1111111111111111,
              "#46039f"
             ],
             [
              0.2222222222222222,
              "#7201a8"
             ],
             [
              0.3333333333333333,
              "#9c179e"
             ],
             [
              0.4444444444444444,
              "#bd3786"
             ],
             [
              0.5555555555555556,
              "#d8576b"
             ],
             [
              0.6666666666666666,
              "#ed7953"
             ],
             [
              0.7777777777777778,
              "#fb9f3a"
             ],
             [
              0.8888888888888888,
              "#fdca26"
             ],
             [
              1,
              "#f0f921"
             ]
            ],
            "type": "contour"
           }
          ],
          "contourcarpet": [
           {
            "colorbar": {
             "outlinewidth": 0,
             "ticks": ""
            },
            "type": "contourcarpet"
           }
          ],
          "heatmap": [
           {
            "colorbar": {
             "outlinewidth": 0,
             "ticks": ""
            },
            "colorscale": [
             [
              0,
              "#0d0887"
             ],
             [
              0.1111111111111111,
              "#46039f"
             ],
             [
              0.2222222222222222,
              "#7201a8"
             ],
             [
              0.3333333333333333,
              "#9c179e"
             ],
             [
              0.4444444444444444,
              "#bd3786"
             ],
             [
              0.5555555555555556,
              "#d8576b"
             ],
             [
              0.6666666666666666,
              "#ed7953"
             ],
             [
              0.7777777777777778,
              "#fb9f3a"
             ],
             [
              0.8888888888888888,
              "#fdca26"
             ],
             [
              1,
              "#f0f921"
             ]
            ],
            "type": "heatmap"
           }
          ],
          "heatmapgl": [
           {
            "colorbar": {
             "outlinewidth": 0,
             "ticks": ""
            },
            "colorscale": [
             [
              0,
              "#0d0887"
             ],
             [
              0.1111111111111111,
              "#46039f"
             ],
             [
              0.2222222222222222,
              "#7201a8"
             ],
             [
              0.3333333333333333,
              "#9c179e"
             ],
             [
              0.4444444444444444,
              "#bd3786"
             ],
             [
              0.5555555555555556,
              "#d8576b"
             ],
             [
              0.6666666666666666,
              "#ed7953"
             ],
             [
              0.7777777777777778,
              "#fb9f3a"
             ],
             [
              0.8888888888888888,
              "#fdca26"
             ],
             [
              1,
              "#f0f921"
             ]
            ],
            "type": "heatmapgl"
           }
          ],
          "histogram": [
           {
            "marker": {
             "colorbar": {
              "outlinewidth": 0,
              "ticks": ""
             }
            },
            "type": "histogram"
           }
          ],
          "histogram2d": [
           {
            "colorbar": {
             "outlinewidth": 0,
             "ticks": ""
            },
            "colorscale": [
             [
              0,
              "#0d0887"
             ],
             [
              0.1111111111111111,
              "#46039f"
             ],
             [
              0.2222222222222222,
              "#7201a8"
             ],
             [
              0.3333333333333333,
              "#9c179e"
             ],
             [
              0.4444444444444444,
              "#bd3786"
             ],
             [
              0.5555555555555556,
              "#d8576b"
             ],
             [
              0.6666666666666666,
              "#ed7953"
             ],
             [
              0.7777777777777778,
              "#fb9f3a"
             ],
             [
              0.8888888888888888,
              "#fdca26"
             ],
             [
              1,
              "#f0f921"
             ]
            ],
            "type": "histogram2d"
           }
          ],
          "histogram2dcontour": [
           {
            "colorbar": {
             "outlinewidth": 0,
             "ticks": ""
            },
            "colorscale": [
             [
              0,
              "#0d0887"
             ],
             [
              0.1111111111111111,
              "#46039f"
             ],
             [
              0.2222222222222222,
              "#7201a8"
             ],
             [
              0.3333333333333333,
              "#9c179e"
             ],
             [
              0.4444444444444444,
              "#bd3786"
             ],
             [
              0.5555555555555556,
              "#d8576b"
             ],
             [
              0.6666666666666666,
              "#ed7953"
             ],
             [
              0.7777777777777778,
              "#fb9f3a"
             ],
             [
              0.8888888888888888,
              "#fdca26"
             ],
             [
              1,
              "#f0f921"
             ]
            ],
            "type": "histogram2dcontour"
           }
          ],
          "mesh3d": [
           {
            "colorbar": {
             "outlinewidth": 0,
             "ticks": ""
            },
            "type": "mesh3d"
           }
          ],
          "parcoords": [
           {
            "line": {
             "colorbar": {
              "outlinewidth": 0,
              "ticks": ""
             }
            },
            "type": "parcoords"
           }
          ],
          "pie": [
           {
            "automargin": true,
            "type": "pie"
           }
          ],
          "scatter": [
           {
            "marker": {
             "colorbar": {
              "outlinewidth": 0,
              "ticks": ""
             }
            },
            "type": "scatter"
           }
          ],
          "scatter3d": [
           {
            "line": {
             "colorbar": {
              "outlinewidth": 0,
              "ticks": ""
             }
            },
            "marker": {
             "colorbar": {
              "outlinewidth": 0,
              "ticks": ""
             }
            },
            "type": "scatter3d"
           }
          ],
          "scattercarpet": [
           {
            "marker": {
             "colorbar": {
              "outlinewidth": 0,
              "ticks": ""
             }
            },
            "type": "scattercarpet"
           }
          ],
          "scattergeo": [
           {
            "marker": {
             "colorbar": {
              "outlinewidth": 0,
              "ticks": ""
             }
            },
            "type": "scattergeo"
           }
          ],
          "scattergl": [
           {
            "marker": {
             "colorbar": {
              "outlinewidth": 0,
              "ticks": ""
             }
            },
            "type": "scattergl"
           }
          ],
          "scattermapbox": [
           {
            "marker": {
             "colorbar": {
              "outlinewidth": 0,
              "ticks": ""
             }
            },
            "type": "scattermapbox"
           }
          ],
          "scatterpolar": [
           {
            "marker": {
             "colorbar": {
              "outlinewidth": 0,
              "ticks": ""
             }
            },
            "type": "scatterpolar"
           }
          ],
          "scatterpolargl": [
           {
            "marker": {
             "colorbar": {
              "outlinewidth": 0,
              "ticks": ""
             }
            },
            "type": "scatterpolargl"
           }
          ],
          "scatterternary": [
           {
            "marker": {
             "colorbar": {
              "outlinewidth": 0,
              "ticks": ""
             }
            },
            "type": "scatterternary"
           }
          ],
          "surface": [
           {
            "colorbar": {
             "outlinewidth": 0,
             "ticks": ""
            },
            "colorscale": [
             [
              0,
              "#0d0887"
             ],
             [
              0.1111111111111111,
              "#46039f"
             ],
             [
              0.2222222222222222,
              "#7201a8"
             ],
             [
              0.3333333333333333,
              "#9c179e"
             ],
             [
              0.4444444444444444,
              "#bd3786"
             ],
             [
              0.5555555555555556,
              "#d8576b"
             ],
             [
              0.6666666666666666,
              "#ed7953"
             ],
             [
              0.7777777777777778,
              "#fb9f3a"
             ],
             [
              0.8888888888888888,
              "#fdca26"
             ],
             [
              1,
              "#f0f921"
             ]
            ],
            "type": "surface"
           }
          ],
          "table": [
           {
            "cells": {
             "fill": {
              "color": "#EBF0F8"
             },
             "line": {
              "color": "white"
             }
            },
            "header": {
             "fill": {
              "color": "#C8D4E3"
             },
             "line": {
              "color": "white"
             }
            },
            "type": "table"
           }
          ]
         },
         "layout": {
          "annotationdefaults": {
           "arrowcolor": "#2a3f5f",
           "arrowhead": 0,
           "arrowwidth": 1
          },
          "autotypenumbers": "strict",
          "coloraxis": {
           "colorbar": {
            "outlinewidth": 0,
            "ticks": ""
           }
          },
          "colorscale": {
           "diverging": [
            [
             0,
             "#8e0152"
            ],
            [
             0.1,
             "#c51b7d"
            ],
            [
             0.2,
             "#de77ae"
            ],
            [
             0.3,
             "#f1b6da"
            ],
            [
             0.4,
             "#fde0ef"
            ],
            [
             0.5,
             "#f7f7f7"
            ],
            [
             0.6,
             "#e6f5d0"
            ],
            [
             0.7,
             "#b8e186"
            ],
            [
             0.8,
             "#7fbc41"
            ],
            [
             0.9,
             "#4d9221"
            ],
            [
             1,
             "#276419"
            ]
           ],
           "sequential": [
            [
             0,
             "#0d0887"
            ],
            [
             0.1111111111111111,
             "#46039f"
            ],
            [
             0.2222222222222222,
             "#7201a8"
            ],
            [
             0.3333333333333333,
             "#9c179e"
            ],
            [
             0.4444444444444444,
             "#bd3786"
            ],
            [
             0.5555555555555556,
             "#d8576b"
            ],
            [
             0.6666666666666666,
             "#ed7953"
            ],
            [
             0.7777777777777778,
             "#fb9f3a"
            ],
            [
             0.8888888888888888,
             "#fdca26"
            ],
            [
             1,
             "#f0f921"
            ]
           ],
           "sequentialminus": [
            [
             0,
             "#0d0887"
            ],
            [
             0.1111111111111111,
             "#46039f"
            ],
            [
             0.2222222222222222,
             "#7201a8"
            ],
            [
             0.3333333333333333,
             "#9c179e"
            ],
            [
             0.4444444444444444,
             "#bd3786"
            ],
            [
             0.5555555555555556,
             "#d8576b"
            ],
            [
             0.6666666666666666,
             "#ed7953"
            ],
            [
             0.7777777777777778,
             "#fb9f3a"
            ],
            [
             0.8888888888888888,
             "#fdca26"
            ],
            [
             1,
             "#f0f921"
            ]
           ]
          },
          "colorway": [
           "#636efa",
           "#EF553B",
           "#00cc96",
           "#ab63fa",
           "#FFA15A",
           "#19d3f3",
           "#FF6692",
           "#B6E880",
           "#FF97FF",
           "#FECB52"
          ],
          "font": {
           "color": "#2a3f5f"
          },
          "geo": {
           "bgcolor": "white",
           "lakecolor": "white",
           "landcolor": "#E5ECF6",
           "showlakes": true,
           "showland": true,
           "subunitcolor": "white"
          },
          "hoverlabel": {
           "align": "left"
          },
          "hovermode": "closest",
          "mapbox": {
           "style": "light"
          },
          "paper_bgcolor": "white",
          "plot_bgcolor": "#E5ECF6",
          "polar": {
           "angularaxis": {
            "gridcolor": "white",
            "linecolor": "white",
            "ticks": ""
           },
           "bgcolor": "#E5ECF6",
           "radialaxis": {
            "gridcolor": "white",
            "linecolor": "white",
            "ticks": ""
           }
          },
          "scene": {
           "xaxis": {
            "backgroundcolor": "#E5ECF6",
            "gridcolor": "white",
            "gridwidth": 2,
            "linecolor": "white",
            "showbackground": true,
            "ticks": "",
            "zerolinecolor": "white"
           },
           "yaxis": {
            "backgroundcolor": "#E5ECF6",
            "gridcolor": "white",
            "gridwidth": 2,
            "linecolor": "white",
            "showbackground": true,
            "ticks": "",
            "zerolinecolor": "white"
           },
           "zaxis": {
            "backgroundcolor": "#E5ECF6",
            "gridcolor": "white",
            "gridwidth": 2,
            "linecolor": "white",
            "showbackground": true,
            "ticks": "",
            "zerolinecolor": "white"
           }
          },
          "shapedefaults": {
           "line": {
            "color": "#2a3f5f"
           }
          },
          "ternary": {
           "aaxis": {
            "gridcolor": "white",
            "linecolor": "white",
            "ticks": ""
           },
           "baxis": {
            "gridcolor": "white",
            "linecolor": "white",
            "ticks": ""
           },
           "bgcolor": "#E5ECF6",
           "caxis": {
            "gridcolor": "white",
            "linecolor": "white",
            "ticks": ""
           }
          },
          "title": {
           "x": 0.05
          },
          "xaxis": {
           "automargin": true,
           "gridcolor": "white",
           "linecolor": "white",
           "ticks": "",
           "title": {
            "standoff": 15
           },
           "zerolinecolor": "white",
           "zerolinewidth": 2
          },
          "yaxis": {
           "automargin": true,
           "gridcolor": "white",
           "linecolor": "white",
           "ticks": "",
           "title": {
            "standoff": 15
           },
           "zerolinecolor": "white",
           "zerolinewidth": 2
          }
         }
        },
        "title": {
         "text": "Number of comments per emotion per policy"
        },
        "xaxis": {
         "showgrid": false,
         "ticks": "outside",
         "title": {
          "text": "Platform"
         }
        },
        "yaxis": {
         "showgrid": true,
         "ticks": "outside",
         "title": {
          "text": "Emotion"
         }
        }
       }
      },
      "text/html": "<div>                            <div id=\"016c9968-8d64-4408-89da-2a898428b5f0\" class=\"plotly-graph-div\" style=\"height:525px; width:100%;\"></div>            <script type=\"text/javascript\">                require([\"plotly\"], function(Plotly) {                    window.PLOTLYENV=window.PLOTLYENV || {};                                    if (document.getElementById(\"016c9968-8d64-4408-89da-2a898428b5f0\")) {                    Plotly.newPlot(                        \"016c9968-8d64-4408-89da-2a898428b5f0\",                        [{\"name\": \"joy\", \"type\": \"bar\", \"x\": [\"Facebook\", \"Instagram\", \"Reddit\", \"Hardwarezone\", \"Twitter\"], \"y\": [17649, 9159, 30606, 15883, 14371]}, {\"name\": \"sadness\", \"type\": \"bar\", \"x\": [\"Facebook\", \"Instagram\", \"Reddit\", \"Hardwarezone\", \"Twitter\"], \"y\": [2427, 1665, 5305, 2763, 2532]}, {\"name\": \"neutral\", \"type\": \"bar\", \"x\": [\"Facebook\", \"Instagram\", \"Reddit\", \"Hardwarezone\", \"Twitter\"], \"y\": [6532, 5897, 12323, 10819, 12476]}, {\"name\": \"fear\", \"type\": \"bar\", \"x\": [\"Facebook\", \"Instagram\", \"Reddit\", \"Hardwarezone\", \"Twitter\"], \"y\": [5634, 4106, 16072, 8763, 8315]}, {\"name\": \"anger\", \"type\": \"bar\", \"x\": [\"Facebook\", \"Instagram\", \"Reddit\", \"Hardwarezone\", \"Twitter\"], \"y\": [9324, 4947, 18343, 9338, 7003]}],                        {\"template\": {\"data\": {\"bar\": [{\"error_x\": {\"color\": \"#2a3f5f\"}, \"error_y\": {\"color\": \"#2a3f5f\"}, \"marker\": {\"line\": {\"color\": \"#E5ECF6\", \"width\": 0.5}}, \"type\": \"bar\"}], \"barpolar\": [{\"marker\": {\"line\": {\"color\": \"#E5ECF6\", \"width\": 0.5}}, \"type\": \"barpolar\"}], \"carpet\": [{\"aaxis\": {\"endlinecolor\": \"#2a3f5f\", \"gridcolor\": \"white\", \"linecolor\": \"white\", \"minorgridcolor\": \"white\", \"startlinecolor\": \"#2a3f5f\"}, \"baxis\": {\"endlinecolor\": \"#2a3f5f\", \"gridcolor\": \"white\", \"linecolor\": \"white\", \"minorgridcolor\": \"white\", \"startlinecolor\": \"#2a3f5f\"}, \"type\": \"carpet\"}], \"choropleth\": [{\"colorbar\": {\"outlinewidth\": 0, \"ticks\": \"\"}, \"type\": \"choropleth\"}], \"contour\": [{\"colorbar\": {\"outlinewidth\": 0, \"ticks\": \"\"}, \"colorscale\": [[0.0, \"#0d0887\"], [0.1111111111111111, \"#46039f\"], [0.2222222222222222, \"#7201a8\"], [0.3333333333333333, \"#9c179e\"], [0.4444444444444444, \"#bd3786\"], [0.5555555555555556, \"#d8576b\"], [0.6666666666666666, \"#ed7953\"], [0.7777777777777778, \"#fb9f3a\"], [0.8888888888888888, \"#fdca26\"], [1.0, \"#f0f921\"]], \"type\": \"contour\"}], \"contourcarpet\": [{\"colorbar\": {\"outlinewidth\": 0, \"ticks\": \"\"}, \"type\": \"contourcarpet\"}], \"heatmap\": [{\"colorbar\": {\"outlinewidth\": 0, \"ticks\": \"\"}, \"colorscale\": [[0.0, \"#0d0887\"], [0.1111111111111111, \"#46039f\"], [0.2222222222222222, \"#7201a8\"], [0.3333333333333333, \"#9c179e\"], [0.4444444444444444, \"#bd3786\"], [0.5555555555555556, \"#d8576b\"], [0.6666666666666666, \"#ed7953\"], [0.7777777777777778, \"#fb9f3a\"], [0.8888888888888888, \"#fdca26\"], [1.0, \"#f0f921\"]], \"type\": \"heatmap\"}], \"heatmapgl\": [{\"colorbar\": {\"outlinewidth\": 0, \"ticks\": \"\"}, \"colorscale\": [[0.0, \"#0d0887\"], [0.1111111111111111, \"#46039f\"], [0.2222222222222222, \"#7201a8\"], [0.3333333333333333, \"#9c179e\"], [0.4444444444444444, \"#bd3786\"], [0.5555555555555556, \"#d8576b\"], [0.6666666666666666, \"#ed7953\"], [0.7777777777777778, \"#fb9f3a\"], [0.8888888888888888, \"#fdca26\"], [1.0, \"#f0f921\"]], \"type\": \"heatmapgl\"}], \"histogram\": [{\"marker\": {\"colorbar\": {\"outlinewidth\": 0, \"ticks\": \"\"}}, \"type\": \"histogram\"}], \"histogram2d\": [{\"colorbar\": {\"outlinewidth\": 0, \"ticks\": \"\"}, \"colorscale\": [[0.0, \"#0d0887\"], [0.1111111111111111, \"#46039f\"], [0.2222222222222222, \"#7201a8\"], [0.3333333333333333, \"#9c179e\"], [0.4444444444444444, \"#bd3786\"], [0.5555555555555556, \"#d8576b\"], [0.6666666666666666, \"#ed7953\"], [0.7777777777777778, \"#fb9f3a\"], [0.8888888888888888, \"#fdca26\"], [1.0, \"#f0f921\"]], \"type\": \"histogram2d\"}], \"histogram2dcontour\": [{\"colorbar\": {\"outlinewidth\": 0, \"ticks\": \"\"}, \"colorscale\": [[0.0, \"#0d0887\"], [0.1111111111111111, \"#46039f\"], [0.2222222222222222, \"#7201a8\"], [0.3333333333333333, \"#9c179e\"], [0.4444444444444444, \"#bd3786\"], [0.5555555555555556, \"#d8576b\"], [0.6666666666666666, \"#ed7953\"], [0.7777777777777778, \"#fb9f3a\"], [0.8888888888888888, \"#fdca26\"], [1.0, \"#f0f921\"]], \"type\": \"histogram2dcontour\"}], \"mesh3d\": [{\"colorbar\": {\"outlinewidth\": 0, \"ticks\": \"\"}, \"type\": \"mesh3d\"}], \"parcoords\": [{\"line\": {\"colorbar\": {\"outlinewidth\": 0, \"ticks\": \"\"}}, \"type\": \"parcoords\"}], \"pie\": [{\"automargin\": true, \"type\": \"pie\"}], \"scatter\": [{\"marker\": {\"colorbar\": {\"outlinewidth\": 0, \"ticks\": \"\"}}, \"type\": \"scatter\"}], \"scatter3d\": [{\"line\": {\"colorbar\": {\"outlinewidth\": 0, \"ticks\": \"\"}}, \"marker\": {\"colorbar\": {\"outlinewidth\": 0, \"ticks\": \"\"}}, \"type\": \"scatter3d\"}], \"scattercarpet\": [{\"marker\": {\"colorbar\": {\"outlinewidth\": 0, \"ticks\": \"\"}}, \"type\": \"scattercarpet\"}], \"scattergeo\": [{\"marker\": {\"colorbar\": {\"outlinewidth\": 0, \"ticks\": \"\"}}, \"type\": \"scattergeo\"}], \"scattergl\": [{\"marker\": {\"colorbar\": {\"outlinewidth\": 0, \"ticks\": \"\"}}, \"type\": \"scattergl\"}], \"scattermapbox\": [{\"marker\": {\"colorbar\": {\"outlinewidth\": 0, \"ticks\": \"\"}}, \"type\": \"scattermapbox\"}], \"scatterpolar\": [{\"marker\": {\"colorbar\": {\"outlinewidth\": 0, \"ticks\": \"\"}}, \"type\": \"scatterpolar\"}], \"scatterpolargl\": [{\"marker\": {\"colorbar\": {\"outlinewidth\": 0, \"ticks\": \"\"}}, \"type\": \"scatterpolargl\"}], \"scatterternary\": [{\"marker\": {\"colorbar\": {\"outlinewidth\": 0, \"ticks\": \"\"}}, \"type\": \"scatterternary\"}], \"surface\": [{\"colorbar\": {\"outlinewidth\": 0, \"ticks\": \"\"}, \"colorscale\": [[0.0, \"#0d0887\"], [0.1111111111111111, \"#46039f\"], [0.2222222222222222, \"#7201a8\"], [0.3333333333333333, \"#9c179e\"], [0.4444444444444444, \"#bd3786\"], [0.5555555555555556, \"#d8576b\"], [0.6666666666666666, \"#ed7953\"], [0.7777777777777778, \"#fb9f3a\"], [0.8888888888888888, \"#fdca26\"], [1.0, \"#f0f921\"]], \"type\": \"surface\"}], \"table\": [{\"cells\": {\"fill\": {\"color\": \"#EBF0F8\"}, \"line\": {\"color\": \"white\"}}, \"header\": {\"fill\": {\"color\": \"#C8D4E3\"}, \"line\": {\"color\": \"white\"}}, \"type\": \"table\"}]}, \"layout\": {\"annotationdefaults\": {\"arrowcolor\": \"#2a3f5f\", \"arrowhead\": 0, \"arrowwidth\": 1}, \"autotypenumbers\": \"strict\", \"coloraxis\": {\"colorbar\": {\"outlinewidth\": 0, \"ticks\": \"\"}}, \"colorscale\": {\"diverging\": [[0, \"#8e0152\"], [0.1, \"#c51b7d\"], [0.2, \"#de77ae\"], [0.3, \"#f1b6da\"], [0.4, \"#fde0ef\"], [0.5, \"#f7f7f7\"], [0.6, \"#e6f5d0\"], [0.7, \"#b8e186\"], [0.8, \"#7fbc41\"], [0.9, \"#4d9221\"], [1, \"#276419\"]], \"sequential\": [[0.0, \"#0d0887\"], [0.1111111111111111, \"#46039f\"], [0.2222222222222222, \"#7201a8\"], [0.3333333333333333, \"#9c179e\"], [0.4444444444444444, \"#bd3786\"], [0.5555555555555556, \"#d8576b\"], [0.6666666666666666, \"#ed7953\"], [0.7777777777777778, \"#fb9f3a\"], [0.8888888888888888, \"#fdca26\"], [1.0, \"#f0f921\"]], \"sequentialminus\": [[0.0, \"#0d0887\"], [0.1111111111111111, \"#46039f\"], [0.2222222222222222, \"#7201a8\"], [0.3333333333333333, \"#9c179e\"], [0.4444444444444444, \"#bd3786\"], [0.5555555555555556, \"#d8576b\"], [0.6666666666666666, \"#ed7953\"], [0.7777777777777778, \"#fb9f3a\"], [0.8888888888888888, \"#fdca26\"], [1.0, \"#f0f921\"]]}, \"colorway\": [\"#636efa\", \"#EF553B\", \"#00cc96\", \"#ab63fa\", \"#FFA15A\", \"#19d3f3\", \"#FF6692\", \"#B6E880\", \"#FF97FF\", \"#FECB52\"], \"font\": {\"color\": \"#2a3f5f\"}, \"geo\": {\"bgcolor\": \"white\", \"lakecolor\": \"white\", \"landcolor\": \"#E5ECF6\", \"showlakes\": true, \"showland\": true, \"subunitcolor\": \"white\"}, \"hoverlabel\": {\"align\": \"left\"}, \"hovermode\": \"closest\", \"mapbox\": {\"style\": \"light\"}, \"paper_bgcolor\": \"white\", \"plot_bgcolor\": \"#E5ECF6\", \"polar\": {\"angularaxis\": {\"gridcolor\": \"white\", \"linecolor\": \"white\", \"ticks\": \"\"}, \"bgcolor\": \"#E5ECF6\", \"radialaxis\": {\"gridcolor\": \"white\", \"linecolor\": \"white\", \"ticks\": \"\"}}, \"scene\": {\"xaxis\": {\"backgroundcolor\": \"#E5ECF6\", \"gridcolor\": \"white\", \"gridwidth\": 2, \"linecolor\": \"white\", \"showbackground\": true, \"ticks\": \"\", \"zerolinecolor\": \"white\"}, \"yaxis\": {\"backgroundcolor\": \"#E5ECF6\", \"gridcolor\": \"white\", \"gridwidth\": 2, \"linecolor\": \"white\", \"showbackground\": true, \"ticks\": \"\", \"zerolinecolor\": \"white\"}, \"zaxis\": {\"backgroundcolor\": \"#E5ECF6\", \"gridcolor\": \"white\", \"gridwidth\": 2, \"linecolor\": \"white\", \"showbackground\": true, \"ticks\": \"\", \"zerolinecolor\": \"white\"}}, \"shapedefaults\": {\"line\": {\"color\": \"#2a3f5f\"}}, \"ternary\": {\"aaxis\": {\"gridcolor\": \"white\", \"linecolor\": \"white\", \"ticks\": \"\"}, \"baxis\": {\"gridcolor\": \"white\", \"linecolor\": \"white\", \"ticks\": \"\"}, \"bgcolor\": \"#E5ECF6\", \"caxis\": {\"gridcolor\": \"white\", \"linecolor\": \"white\", \"ticks\": \"\"}}, \"title\": {\"x\": 0.05}, \"xaxis\": {\"automargin\": true, \"gridcolor\": \"white\", \"linecolor\": \"white\", \"ticks\": \"\", \"title\": {\"standoff\": 15}, \"zerolinecolor\": \"white\", \"zerolinewidth\": 2}, \"yaxis\": {\"automargin\": true, \"gridcolor\": \"white\", \"linecolor\": \"white\", \"ticks\": \"\", \"title\": {\"standoff\": 15}, \"zerolinecolor\": \"white\", \"zerolinewidth\": 2}}}, \"title\": {\"text\": \"Number of comments per emotion per policy\"}, \"xaxis\": {\"showgrid\": false, \"ticks\": \"outside\", \"title\": {\"text\": \"Platform\"}}, \"yaxis\": {\"showgrid\": true, \"ticks\": \"outside\", \"title\": {\"text\": \"Emotion\"}}},                        {\"responsive\": true}                    ).then(function(){\n                            \nvar gd = document.getElementById('016c9968-8d64-4408-89da-2a898428b5f0');\nvar x = new MutationObserver(function (mutations, observer) {{\n        var display = window.getComputedStyle(gd).display;\n        if (!display || display === 'none') {{\n            console.log([gd, 'removed!']);\n            Plotly.purge(gd);\n            observer.disconnect();\n        }}\n}});\n\n// Listen for the removal of the full notebook cells\nvar notebookContainer = gd.closest('#notebook-container');\nif (notebookContainer) {{\n    x.observe(notebookContainer, {childList: true});\n}}\n\n// Listen for the clearing of the current output cell\nvar outputEl = gd.closest('.output');\nif (outputEl) {{\n    x.observe(outputEl, {childList: true});\n}}\n\n                        })                };                });            </script>        </div>"
     },
     "metadata": {}
    }
   ],
   "source": [
    "df = pd.read_csv(f\"{parent_path}/Data/Sentiment Data/social_media_sentiments.csv\")\n",
    "\n",
    "# Standardising datetime format\n",
    "dates = []\n",
    "for row in df['Comment Datetime']:\n",
    "    if '/' in row:\n",
    "        if '/' in row[-4:]:\n",
    "            date = dt.datetime.strptime(row, \"%d/%m/%y\")\n",
    "        else: \n",
    "            date = dt.datetime.strptime(row, \"%d/%m/%Y\")\n",
    "        dates.append(date.date())\n",
    "    elif '-' in row:\n",
    "        date = dt.datetime.strptime(row, \"%Y-%m-%d\")\n",
    "        dates.append(date.date())\n",
    "\n",
    "df['Comment Datetime'] = dates\n",
    "df = df[['Comment Datetime', 'Emotions', 'Platform']]\n",
    "df\n",
    "\n",
    "platforms_list = ['Facebook', 'Instagram', 'Reddit', 'Hardwarezone', 'Twitter']\n",
    "emotions_list = ['joy', 'sadness', 'neutral', 'fear', 'anger']\n",
    "\n",
    "platform_dict = {}\n",
    "\n",
    "for platform in platforms_list:\n",
    "    for emotion in emotions_list:\n",
    "        platform_dict[platform] = []\n",
    "\n",
    "for platform in platforms_list:\n",
    "    for emotion in emotions_list:\n",
    "        platform_dict[platform].append(len(df[(df['Platform'] == platform) & (df[\"Emotions\"]==emotion)].index))\n",
    "  \n",
    "plot = px.Figure(data=[\n",
    "    go.Bar(name = emotions_list[0], x = platform_list, y = platform_dict[platform_list[0]]),\n",
    "    go.Bar(name = emotions_list[1], x = platform_list, y = platform_dict[platform_list[1]]),\n",
    "    go.Bar(name = emotions_list[2], x = platform_list, y = platform_dict[platform_list[2]]),\n",
    "    go.Bar(name = emotions_list[3], x = platform_list, y = platform_dict[platform_list[3]]),\n",
    "    go.Bar(name = emotions_list[4], x = platform_list, y = platform_dict[platform_list[4]]),\n",
    "])\n",
    "plot.update_layout(title_text=\"Number of comments per emotion per policy\")\n",
    "plot.update_xaxes(title_text='Platform', ticks=\"outside\", showgrid=False)\n",
    "plot.update_yaxes(title_text='Emotion', ticks=\"outside\", showgrid=True)\n",
    "plot.show()\n",
    "plot.write_image(\"Number of comments per emotion per policy.png\", engine=\"kaleido\")"
   ]
  },
  {
   "source": [
    "# Calculating Moving Average"
   ],
   "cell_type": "markdown",
   "metadata": {}
  },
  {
   "cell_type": "code",
   "execution_count": 2,
   "metadata": {},
   "outputs": [],
   "source": [
    "parent_path = \"C:/Users/user/Documents/GitHub/Covid-19-Singapore-Analysis\"\n",
    "\n",
    "def get_sentiment_data(df_list, policy):\n",
    "    df = pd.read_csv(f\"{parent_path}/Data/Sentiment Data/{policy}_valuable_sentiments.csv\")\n",
    "\n",
    "    # Standardising datetime format\n",
    "    dates = []\n",
    "    for row in df['Comment Datetime']:\n",
    "        if '/' in row:\n",
    "            if '/' in row[-4:]:\n",
    "                date = dt.datetime.strptime(row, \"%d/%m/%y\")\n",
    "            else: \n",
    "                date = dt.datetime.strptime(row, \"%d/%m/%Y\")\n",
    "            dates.append(date.date())\n",
    "        elif '-' in row:\n",
    "            date = dt.datetime.strptime(row, \"%Y-%m-%d\")\n",
    "            dates.append(date.date())\n",
    "\n",
    "    df['Comment Datetime'] = dates\n",
    "    df_list.append(df)"
   ]
  },
  {
   "cell_type": "code",
   "execution_count": 16,
   "metadata": {},
   "outputs": [
    {
     "output_type": "stream",
     "name": "stdout",
     "text": [
      "circuit breaker done\n",
      "economic measures done\n",
      "foreign worker done\n",
      "mask done\n",
      "social distancing done\n",
      "tracetogether done\n",
      "vaccination done\n"
     ]
    }
   ],
   "source": [
    "policy_list = [\"circuit breaker\", \"economic measures\", \"foreign worker\", \"mask\", \"social distancing\", \"tracetogether\", \"vaccination\"]\n",
    "\n",
    "df_list = []\n",
    "for policy in policy_list:\n",
    "    get_sentiment_data(df_list, policy)\n",
    "    print(f\"{policy} done\")"
   ]
  },
  {
   "cell_type": "code",
   "execution_count": 17,
   "metadata": {},
   "outputs": [
    {
     "output_type": "execute_result",
     "data": {
      "text/plain": [
       "                                           Sentences Comment Datetime  \\\n",
       "0  kuma-mon wrote: Because need to handle issues ...       2021-02-03   \n",
       "1                          You are not the only one.       2021-02-03   \n",
       "2                             Some can even ki siao.       2021-02-03   \n",
       "3                  If can, ask to go office to work.       2021-02-03   \n",
       "4              If not, then have to make adjustment.       2021-02-03   \n",
       "\n",
       "   Textblob_polarity_score  Textblob_subjectivity_score  Vader_neg_score  \\\n",
       "0                 0.061806                     0.607176            0.046   \n",
       "1                 0.000000                     1.000000            0.000   \n",
       "2                 0.000000                     0.000000            0.000   \n",
       "3                 0.000000                     0.000000            0.000   \n",
       "4                 0.000000                     0.000000            0.000   \n",
       "\n",
       "   Vader_neu_score  Vader_pos_score  Vader_compound_score Emotions  \n",
       "0            0.845            0.108                0.7272     fear  \n",
       "1            1.000            0.000                0.0000  neutral  \n",
       "2            1.000            0.000                0.0000  neutral  \n",
       "3            1.000            0.000                0.0000      joy  \n",
       "4            1.000            0.000                0.0000  neutral  "
      ],
      "text/html": "<div>\n<style scoped>\n    .dataframe tbody tr th:only-of-type {\n        vertical-align: middle;\n    }\n\n    .dataframe tbody tr th {\n        vertical-align: top;\n    }\n\n    .dataframe thead th {\n        text-align: right;\n    }\n</style>\n<table border=\"1\" class=\"dataframe\">\n  <thead>\n    <tr style=\"text-align: right;\">\n      <th></th>\n      <th>Sentences</th>\n      <th>Comment Datetime</th>\n      <th>Textblob_polarity_score</th>\n      <th>Textblob_subjectivity_score</th>\n      <th>Vader_neg_score</th>\n      <th>Vader_neu_score</th>\n      <th>Vader_pos_score</th>\n      <th>Vader_compound_score</th>\n      <th>Emotions</th>\n    </tr>\n  </thead>\n  <tbody>\n    <tr>\n      <th>0</th>\n      <td>kuma-mon wrote: Because need to handle issues ...</td>\n      <td>2021-02-03</td>\n      <td>0.061806</td>\n      <td>0.607176</td>\n      <td>0.046</td>\n      <td>0.845</td>\n      <td>0.108</td>\n      <td>0.7272</td>\n      <td>fear</td>\n    </tr>\n    <tr>\n      <th>1</th>\n      <td>You are not the only one.</td>\n      <td>2021-02-03</td>\n      <td>0.000000</td>\n      <td>1.000000</td>\n      <td>0.000</td>\n      <td>1.000</td>\n      <td>0.000</td>\n      <td>0.0000</td>\n      <td>neutral</td>\n    </tr>\n    <tr>\n      <th>2</th>\n      <td>Some can even ki siao.</td>\n      <td>2021-02-03</td>\n      <td>0.000000</td>\n      <td>0.000000</td>\n      <td>0.000</td>\n      <td>1.000</td>\n      <td>0.000</td>\n      <td>0.0000</td>\n      <td>neutral</td>\n    </tr>\n    <tr>\n      <th>3</th>\n      <td>If can, ask to go office to work.</td>\n      <td>2021-02-03</td>\n      <td>0.000000</td>\n      <td>0.000000</td>\n      <td>0.000</td>\n      <td>1.000</td>\n      <td>0.000</td>\n      <td>0.0000</td>\n      <td>joy</td>\n    </tr>\n    <tr>\n      <th>4</th>\n      <td>If not, then have to make adjustment.</td>\n      <td>2021-02-03</td>\n      <td>0.000000</td>\n      <td>0.000000</td>\n      <td>0.000</td>\n      <td>1.000</td>\n      <td>0.000</td>\n      <td>0.0000</td>\n      <td>neutral</td>\n    </tr>\n  </tbody>\n</table>\n</div>"
     },
     "metadata": {},
     "execution_count": 17
    }
   ],
   "source": [
    "combined_sentiment_df = pd.concat(df_list)\n",
    "combined_sentiment_df.drop(combined_sentiment_df.columns[[0,1]], axis=1, inplace=True)\n",
    "\n",
    "combined_sentiment_df.head()"
   ]
  },
  {
   "cell_type": "code",
   "execution_count": 24,
   "metadata": {},
   "outputs": [
    {
     "output_type": "execute_result",
     "data": {
      "text/plain": [
       "    Comment Datetime  Textblob_polarity_score  Textblob_subjectivity_score  \\\n",
       "0         2018-08-15                 0.052009                     0.314744   \n",
       "1         2018-08-16                 0.040755                     0.314236   \n",
       "2         2020-01-03                 0.030556                     0.201389   \n",
       "3         2020-01-06                 0.138889                     0.187500   \n",
       "4         2020-01-08                 0.100447                     0.520969   \n",
       "..               ...                      ...                          ...   \n",
       "428       2021-10-02                 0.080850                     0.309515   \n",
       "429       2021-10-03                 0.094315                     0.358138   \n",
       "430       2021-11-02                 0.077866                     0.300661   \n",
       "431       2021-11-03                 0.110781                     0.321823   \n",
       "432       2021-12-02                 0.065073                     0.315412   \n",
       "\n",
       "     Vader_neg_score  Vader_neu_score  Vader_pos_score  Vader_compound_score  \n",
       "0           0.081757         0.825675         0.092549              0.029372  \n",
       "1           0.051000         0.806437         0.142563              0.174406  \n",
       "2           0.007500         0.758000         0.234500              0.245250  \n",
       "3           0.000000         0.872500         0.127500              0.067433  \n",
       "4           0.155846         0.581615         0.262538              0.046638  \n",
       "..               ...              ...              ...                   ...  \n",
       "428         0.056574         0.861338         0.077201              0.007566  \n",
       "429         0.051571         0.853536         0.094911              0.085654  \n",
       "430         0.049187         0.857008         0.093813              0.085535  \n",
       "431         0.062875         0.893625         0.043500             -0.058013  \n",
       "432         0.075405         0.852591         0.072003              0.004653  \n",
       "\n",
       "[433 rows x 7 columns]"
      ],
      "text/html": "<div>\n<style scoped>\n    .dataframe tbody tr th:only-of-type {\n        vertical-align: middle;\n    }\n\n    .dataframe tbody tr th {\n        vertical-align: top;\n    }\n\n    .dataframe thead th {\n        text-align: right;\n    }\n</style>\n<table border=\"1\" class=\"dataframe\">\n  <thead>\n    <tr style=\"text-align: right;\">\n      <th></th>\n      <th>Comment Datetime</th>\n      <th>Textblob_polarity_score</th>\n      <th>Textblob_subjectivity_score</th>\n      <th>Vader_neg_score</th>\n      <th>Vader_neu_score</th>\n      <th>Vader_pos_score</th>\n      <th>Vader_compound_score</th>\n    </tr>\n  </thead>\n  <tbody>\n    <tr>\n      <th>0</th>\n      <td>2018-08-15</td>\n      <td>0.052009</td>\n      <td>0.314744</td>\n      <td>0.081757</td>\n      <td>0.825675</td>\n      <td>0.092549</td>\n      <td>0.029372</td>\n    </tr>\n    <tr>\n      <th>1</th>\n      <td>2018-08-16</td>\n      <td>0.040755</td>\n      <td>0.314236</td>\n      <td>0.051000</td>\n      <td>0.806437</td>\n      <td>0.142563</td>\n      <td>0.174406</td>\n    </tr>\n    <tr>\n      <th>2</th>\n      <td>2020-01-03</td>\n      <td>0.030556</td>\n      <td>0.201389</td>\n      <td>0.007500</td>\n      <td>0.758000</td>\n      <td>0.234500</td>\n      <td>0.245250</td>\n    </tr>\n    <tr>\n      <th>3</th>\n      <td>2020-01-06</td>\n      <td>0.138889</td>\n      <td>0.187500</td>\n      <td>0.000000</td>\n      <td>0.872500</td>\n      <td>0.127500</td>\n      <td>0.067433</td>\n    </tr>\n    <tr>\n      <th>4</th>\n      <td>2020-01-08</td>\n      <td>0.100447</td>\n      <td>0.520969</td>\n      <td>0.155846</td>\n      <td>0.581615</td>\n      <td>0.262538</td>\n      <td>0.046638</td>\n    </tr>\n    <tr>\n      <th>...</th>\n      <td>...</td>\n      <td>...</td>\n      <td>...</td>\n      <td>...</td>\n      <td>...</td>\n      <td>...</td>\n      <td>...</td>\n    </tr>\n    <tr>\n      <th>428</th>\n      <td>2021-10-02</td>\n      <td>0.080850</td>\n      <td>0.309515</td>\n      <td>0.056574</td>\n      <td>0.861338</td>\n      <td>0.077201</td>\n      <td>0.007566</td>\n    </tr>\n    <tr>\n      <th>429</th>\n      <td>2021-10-03</td>\n      <td>0.094315</td>\n      <td>0.358138</td>\n      <td>0.051571</td>\n      <td>0.853536</td>\n      <td>0.094911</td>\n      <td>0.085654</td>\n    </tr>\n    <tr>\n      <th>430</th>\n      <td>2021-11-02</td>\n      <td>0.077866</td>\n      <td>0.300661</td>\n      <td>0.049187</td>\n      <td>0.857008</td>\n      <td>0.093813</td>\n      <td>0.085535</td>\n    </tr>\n    <tr>\n      <th>431</th>\n      <td>2021-11-03</td>\n      <td>0.110781</td>\n      <td>0.321823</td>\n      <td>0.062875</td>\n      <td>0.893625</td>\n      <td>0.043500</td>\n      <td>-0.058013</td>\n    </tr>\n    <tr>\n      <th>432</th>\n      <td>2021-12-02</td>\n      <td>0.065073</td>\n      <td>0.315412</td>\n      <td>0.075405</td>\n      <td>0.852591</td>\n      <td>0.072003</td>\n      <td>0.004653</td>\n    </tr>\n  </tbody>\n</table>\n<p>433 rows × 7 columns</p>\n</div>"
     },
     "metadata": {},
     "execution_count": 24
    }
   ],
   "source": [
    "average_sentiment_df = combined_sentiment_df.groupby(by=[\"Comment Datetime\"]).mean()\n",
    "average_sentiment_df.reset_index(inplace=True)\n",
    "average_sentiment_df"
   ]
  },
  {
   "cell_type": "code",
   "execution_count": 30,
   "metadata": {},
   "outputs": [
    {
     "output_type": "error",
     "ename": "SyntaxError",
     "evalue": "invalid syntax (<ipython-input-30-81639bfef80a>, line 1)",
     "traceback": [
      "\u001b[1;36m  File \u001b[1;32m\"<ipython-input-30-81639bfef80a>\"\u001b[1;36m, line \u001b[1;32m1\u001b[0m\n\u001b[1;33m    start, end = pd.to_datetime(\"2020-01-01\", \"2021-03-01\"], format='%d%b%Y')\u001b[0m\n\u001b[1;37m                                                          ^\u001b[0m\n\u001b[1;31mSyntaxError\u001b[0m\u001b[1;31m:\u001b[0m invalid syntax\n"
     ]
    }
   ],
   "source": [
    "start, end = pd.to_datetime(\"2020-01-01\", \"2021-03-01\"], format='%d%b%Y')\n",
    "\n",
    "average_sentiment_df.drop(average_sentiment_df[\"Comment Datetime\"] >= '2020-01-01')"
   ]
  }
 ]
}