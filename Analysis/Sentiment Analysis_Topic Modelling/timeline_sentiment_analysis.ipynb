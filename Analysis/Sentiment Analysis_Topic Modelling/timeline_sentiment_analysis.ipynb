{
 "metadata": {
  "language_info": {
   "codemirror_mode": {
    "name": "ipython",
    "version": 3
   },
   "file_extension": ".py",
   "mimetype": "text/x-python",
   "name": "python",
   "nbconvert_exporter": "python",
   "pygments_lexer": "ipython3",
   "version": "3.8.5-final"
  },
  "orig_nbformat": 2,
  "kernelspec": {
   "name": "python3",
   "display_name": "Python 3",
   "language": "python"
  }
 },
 "nbformat": 4,
 "nbformat_minor": 2,
 "cells": [
  {
   "cell_type": "code",
   "execution_count": 120,
   "metadata": {},
   "outputs": [],
   "source": [
    "import pandas as pd\n",
    "import os\n",
    "import datetime as dt\n",
    "import seaborn as sns\n",
    "import matplotlib.pyplot as plt\n",
    "from plotly.offline import plot, iplot, init_notebook_mode\n",
    "import cufflinks as cf\n",
    "import plotly.express as px\n",
    "import plotly.graph_objects as go"
   ]
  },
  {
   "cell_type": "code",
   "execution_count": 121,
   "metadata": {},
   "outputs": [
    {
     "output_type": "display_data",
     "data": {
      "text/html": "        <script type=\"text/javascript\">\n        window.PlotlyConfig = {MathJaxConfig: 'local'};\n        if (window.MathJax) {MathJax.Hub.Config({SVG: {font: \"STIX-Web\"}});}\n        if (typeof require !== 'undefined') {\n        require.undef(\"plotly\");\n        requirejs.config({\n            paths: {\n                'plotly': ['https://cdn.plot.ly/plotly-latest.min']\n            }\n        });\n        require(['plotly'], function(Plotly) {\n            window._Plotly = Plotly;\n        });\n        }\n        </script>\n        "
     },
     "metadata": {}
    },
    {
     "output_type": "display_data",
     "data": {
      "text/html": "        <script type=\"text/javascript\">\n        window.PlotlyConfig = {MathJaxConfig: 'local'};\n        if (window.MathJax) {MathJax.Hub.Config({SVG: {font: \"STIX-Web\"}});}\n        if (typeof require !== 'undefined') {\n        require.undef(\"plotly\");\n        requirejs.config({\n            paths: {\n                'plotly': ['https://cdn.plot.ly/plotly-latest.min']\n            }\n        });\n        require(['plotly'], function(Plotly) {\n            window._Plotly = Plotly;\n        });\n        }\n        </script>\n        "
     },
     "metadata": {}
    }
   ],
   "source": [
    "init_notebook_mode(connected=True)\n",
    "cf.go_offline()"
   ]
  },
  {
   "cell_type": "code",
   "execution_count": 118,
   "metadata": {},
   "outputs": [],
   "source": [
    "def sentiment_timeseries(policy, timeframe):\n",
    "    df = pd.read_csv(f\"{parent_path}/Data/Sentiment Data/{policy}_valuable_opinions.csv\")\n",
    "\n",
    "    # Standardising datetime format\n",
    "    dates = []\n",
    "    for row in df['Comment Datetime']:\n",
    "        if '/' in row:\n",
    "            if '/' in row[-4:]:\n",
    "                date = dt.datetime.strptime(row, \"%d/%m/%y\")\n",
    "            else: \n",
    "                date = dt.datetime.strptime(row, \"%d/%m/%Y\")\n",
    "            dates.append(date.date())\n",
    "        elif '-' in row:\n",
    "            date = dt.datetime.strptime(row, \"%Y-%m-%d\")\n",
    "            dates.append(date.date())\n",
    "\n",
    "    df['Comment Datetime'] = dates\n",
    "\n",
    "    # Truncate according to the policy timeframe\n",
    "    start, end = pd.to_datetime([timeframe[0], timeframe[1]], format='%d%b%Y')\n",
    "    df_within_date = df[(df['Comment Datetime'] >= start) & (df['Comment Datetime'] <= end)]\n",
    "    df_within_date = df_within_date[['Comment Datetime', 'Vader_compound_score']]\n",
    "\n",
    "    # Finding the mean vader sentiment score per day \n",
    "    grouped_date = df_within_date.groupby(by=[\"Comment Datetime\"]).mean()\n",
    "    grouped_date.reset_index(inplace=True)\n",
    "\n",
    "    # Finding the moving average (7-day)\n",
    "    grouped_date['SMA_7'] = grouped_date.Vader_compound_score.rolling(7, min_periods=1).mean()\n",
    "\n",
    "    # Plotting the figure \n",
    "    fig = go.Figure(layout_title_text=f\"Timeseries Sentiment Analysis of {policy}\")\n",
    "    fig.add_trace(go.Scatter(x = grouped_date['Comment Datetime'], y = grouped_date['SMA_7'], mode='lines', \n",
    "                  name=\"Rolling 7-Day Average of Vader Compound Score\"))\n",
    "    fig.add_trace(go.Scatter(x = grouped_date['Comment Datetime'], y = grouped_date['Vader_compound_score'], mode='lines', \n",
    "                  name=\"Vader Compound Score\", visible='legendonly'))\n",
    "    fig.update_layout(width = 1200, height=800)\n",
    "    fig.update_layout(legend=dict(\n",
    "        orientation=\"h\",\n",
    "        yanchor=\"bottom\",\n",
    "        y=1.02,\n",
    "        xanchor=\"right\",\n",
    "        x=1))\n",
    "    fig.update_xaxes(title_text='Date')\n",
    "    fig.update_yaxes(title_text='Vader Compound Score')\n",
    "\n",
    "    fig.write_image(f\"timeseries sentiment plots/{policy}.png\", engine=\"kaleido\")\n",
    "    fig.write_html(f\"timeseries sentiment plots/{policy}.html\")\n",
    "    #fig.show()\n",
    "    print(policy, \"is done!\")\n",
    "\n",
    "\n",
    "# "
   ]
  },
  {
   "cell_type": "code",
   "execution_count": 119,
   "metadata": {},
   "outputs": [
    {
     "output_type": "stream",
     "name": "stdout",
     "text": [
      "circuit breaker is done!\n",
      "economic measures is done!\n",
      "foreign worker is done!\n",
      "mask is done!\n",
      "social distancing is done!\n",
      "tracetogether is done!\n",
      "vaccination is done!\n"
     ]
    }
   ],
   "source": [
    "parent_path = \"/Users/joshuawong/Documents/GitHub/Covid-19-Singapore-Analysis\"\n",
    "\n",
    "policy_list = [\"circuit breaker\", \"economic measures\", \"foreign worker\", \"mask\", \"social distancing\", \"tracetogether\", \"vaccination\"]\n",
    "\n",
    "policy_timeframe = {\"circuit breaker\":(\"1APR2020\", \"1JUL2020\"), \n",
    "                    \"economic measures\":(\"1FEB2020\", \"1MAR2021\"), \n",
    "                    \"foreign worker\":(\"1APR2020\",\"1JAN2021\"), \n",
    "                    \"mask\":(\"1FEB2020\",\"1MAR2021\"), \n",
    "                    \"social distancing\":(\"1FEB2020\", \"1FEB2021\"), \n",
    "                    \"tracetogether\":(\"1MAR2020\", \"1MAR2021\"), \n",
    "                    \"vaccination\":(\"1AUG2020\",\"1MAR2021\")}\n",
    "\n",
    "for policy, timeframe in policy_timeframe.items():\n",
    "    sentiment_timeseries(policy, timeframe)\n"
   ]
  },
  {
   "cell_type": "code",
   "execution_count": null,
   "metadata": {},
   "outputs": [],
   "source": []
  }
 ]
}