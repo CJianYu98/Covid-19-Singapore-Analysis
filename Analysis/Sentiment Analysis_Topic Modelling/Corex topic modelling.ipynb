{
 "cells": [
  {
   "cell_type": "code",
   "execution_count": 1,
   "metadata": {},
   "outputs": [],
   "source": [
    "import nltk\n",
    "import pandas as pd\n",
    "from sklearn.feature_extraction.text import TfidfVectorizer\n",
    "from corextopic import corextopic as ct\n",
    "import corextopic.vis_topic as vt\n",
    "import os\n",
    "from nltk.tokenize import TweetTokenizer, word_tokenize\n",
    "import re\n",
    "from nltk.corpus import words, PlaintextCorpusReader\n",
    "from collections import defaultdict\n",
    "import math\n",
    "import matplotlib.pyplot as plt"
   ]
  },
  {
   "cell_type": "code",
   "execution_count": 2,
   "metadata": {},
   "outputs": [],
   "source": [
    "parent_path = '/Users/chenjianyu/Library/Mobile Documents/com~apple~CloudDocs/SMU/SMU Module Materials/Y2S2/SMT203 Computational Social Sci/Covid-19-Singapore-Analysis'\n",
    "\n",
    "social_media_data_folder_paths = [\n",
    "    f'{parent_path}/Data/Hardwarezone Data/Cleaned Data', \n",
    "    f'{parent_path}/Data/Twitter Data/Cleaned Data/Policies/Combined',\n",
    "    f'{parent_path}/Data/Facebook Data/Cleaned Data/Policies/Combined',\n",
    "    f'{parent_path}/Data/Instagram Data/Cleaned Data/Policies/Combined',\n",
    "    f'{parent_path}/Data/Reddit Data/Cleaned Data/Policies/Combined',\n",
    "]"
   ]
  },
  {
   "cell_type": "code",
   "execution_count": 3,
   "metadata": {},
   "outputs": [],
   "source": [
    "def get_policy_data(policy, folders):\n",
    "    frames = []\n",
    "    for folder in folders:\n",
    "        files = [file for file in os.listdir(folder) if file.endswith('.csv')]\n",
    "        for file in files:\n",
    "            if policy.lower() in file.lower():\n",
    "                df = pd.read_csv(f'{folder}/{file}')\n",
    "                df = df[['Comments', 'Comment Datetime', 'actionable', 'valuable']]\n",
    "                frames.append(df)\n",
    "                print(True)\n",
    "                break\n",
    "    final_df = pd.concat(frames, ignore_index=True)\n",
    "    return final_df\n",
    "\n",
    "def remove_hashtag_mentions_urls(text):\n",
    "    # e.sub(r\"(?:\\@|https?\\://)\\S+\", \"\", text) # remove mentions and url only\n",
    "    return re.sub(r\"(?:\\@|\\#|https?\\://)\\S+\", \"\", text)\n",
    "\n",
    "\n",
    "noun_tags = ['NN', 'NNS', 'NNP', 'NNPS'] # POS tags for nouns\n",
    "\n",
    "def topic_doc_unigram(doc_words: list, k: int = 1) -> (defaultdict, list):\n",
    "    \"\"\"\n",
    "    Creating unigram model for all the nouns in the policy topic text document.  \n",
    "\n",
    "    Args:\n",
    "        doc_words (list): list of tokenized words in the text document\n",
    "        k (int): smoothing pseudo-count for each unigram\n",
    "\n",
    "    Returns:\n",
    "        [defaultdict]: unigram model with every unigram as key and its probabilty as value\n",
    "        [list]: list of nouns in the document\n",
    "    \"\"\"\n",
    "    doc_tags = nltk.pos_tag(doc_words)\n",
    "    doc_nouns_tag = [tag[0].lower() for tag in doc_tags if tag[1] in noun_tags]\n",
    "    doc_nouns = [w for w in doc_nouns_tag if re.search('^[a-z]+$', w)]\n",
    "\n",
    "    num_words = len(doc_nouns)\n",
    "\n",
    "    nouns_count = defaultdict(int)\n",
    "    for word in doc_nouns:\n",
    "        nouns_count[word] += 1\n",
    "    nouns_count['[UNK]'] = 0\n",
    "    \n",
    "    vocab_size = len(nouns_count)\n",
    "\n",
    "    doc_unigram = defaultdict(int)\n",
    "    for key, v in nouns_count.items():\n",
    "        doc_unigram[key] = (v + k) / (num_words + k*vocab_size)\n",
    "    \n",
    "    return doc_unigram, doc_nouns\n",
    "\n",
    "\n",
    "def comment_unigram(comment: str, k: int = 1) -> (defaultdict, list):\n",
    "    \"\"\"\n",
    "    Creating unigram model for all the nouns in an user's comment.\n",
    "\n",
    "    Args:\n",
    "        doc_words (list): list of tokenized words in the comment\n",
    "        k (int): smoothing pseudo-count for each unigram\n",
    "\n",
    "    Returns:\n",
    "        [defaultdict]: unigram model with every unigram as key and its probabilty as value\n",
    "        [list]: list of nouns in the comment\n",
    "    \"\"\"\n",
    "    comment_words = word_tokenize(comment)\n",
    "    comment_tags = nltk.pos_tag(comment_words)\n",
    "    comment_nouns_tag = [tag[0].lower() for tag in comment_tags if tag[1] in noun_tags]\n",
    "    comment_nouns = [w for w in comment_nouns_tag if re.search('^[a-z]+$', w)]\n",
    "\n",
    "    num_words = len(comment_nouns)\n",
    "\n",
    "    cmt_nouns_count = defaultdict(int)\n",
    "    for word in comment_nouns:\n",
    "        cmt_nouns_count[word] += 1\n",
    "    cmt_nouns_count['[UNK]'] = 0\n",
    "    \n",
    "    vocab_size = len(cmt_nouns_count)\n",
    "\n",
    "    cmt_unigram = defaultdict(int)\n",
    "    for key, v in cmt_nouns_count.items():\n",
    "        cmt_unigram[key] = (v + k) / (num_words + k*vocab_size)\n",
    "    \n",
    "    return cmt_unigram, comment_nouns\n",
    "\n",
    "def KLDiv_relevance_score(doc_unigram: dict, comment_unigram: dict, doc_nouns: list, comment_nouns: list) -> int:\n",
    "    \"\"\"\n",
    "    Calculate the KL-divergence relevance score between targetted document unigram model and comment unigram model. Feature 5 for thoughtful model (Relevance feature). \n",
    "\n",
    "    Args:\n",
    "        doc_unigram (dict): Targetted document unigram model with nouns only\n",
    "        comment_unigram (dict): Comment unigram model with nouns only\n",
    "        doc_nouns (list): list of nouns in targetted document\n",
    "        comment_nouns (list): list of nouns in comment\n",
    "\n",
    "    Returns:\n",
    "        int: KL-divergence relevance score\n",
    "    \"\"\"\n",
    "    total_vocab = set(doc_nouns).union(set(comment_nouns))\n",
    "\n",
    "    kl_div = 0\n",
    "    for word in total_vocab:\n",
    "        # if comment_unigram[word] * doc_unigram[word] != 0:\n",
    "        if word not in doc_unigram:\n",
    "            kl_div += comment_unigram[word] * math.log(comment_unigram[word] / doc_unigram['[UNK]'])\n",
    "        elif word not in comment_unigram:\n",
    "            kl_div += comment_unigram['[UNK]'] * math.log(comment_unigram['[UNK]'] / doc_unigram[word])\n",
    "        else:\n",
    "            kl_div += comment_unigram[word] * math.log(comment_unigram[word] / doc_unigram[word])\n",
    "\n",
    "    return kl_div"
   ]
  },
  {
   "cell_type": "code",
   "execution_count": null,
   "metadata": {},
   "outputs": [],
   "source": []
  },
  {
   "source": [
    "# Circuit Breaker"
   ],
   "cell_type": "markdown",
   "metadata": {}
  },
  {
   "cell_type": "code",
   "execution_count": 4,
   "metadata": {},
   "outputs": [
    {
     "output_type": "execute_result",
     "data": {
      "text/plain": [
       "4418"
      ]
     },
     "metadata": {},
     "execution_count": 4
    }
   ],
   "source": [
    "cb_df = pd.read_csv(f'{parent_path}/Data/Sentiment Data/circuit breaker_valuable_opinions.csv', index_col=0)\n",
    "cb_df.drop(columns=['index'], inplace=True)\n",
    "cb_df['Topic'] = 'Circuit Breaker'\n",
    "len(cb_df)"
   ]
  },
  {
   "cell_type": "code",
   "execution_count": 5,
   "metadata": {},
   "outputs": [],
   "source": [
    "corpus = PlaintextCorpusReader('/Users/chenjianyu/Library/Mobile Documents/com~apple~CloudDocs/SMU/SMU Module Materials/Y2S2/SMT203 Computational Social Sci/Covid-19-Singapore-Analysis/Data/Policy Documents', '.+\\.txt', encoding='utf-8')\n",
    "fid = corpus.fileids()\n",
    "fid.sort()\n",
    "\n",
    "doc_words = [corpus.words(f) for f in fid]\n",
    "\n",
    "    ## Splitting the labelled data to its own policy/topic\n",
    "circuit_breaker_comments = cb_df[cb_df['Topic'] == 'Circuit Breaker']\n",
    "# economic_measures_comments = cb_df[cb_df['Topic'] == 'Economic Measures']\n",
    "# foreign_worker_comments = cb_df[cb_df['Topic'] == 'Foreign Worker']\n",
    "# mask_comments = cb_df[cb_df['Topic'] == 'Mask']\n",
    "# phases_comments = cb_df[cb_df['Topic'] == 'Phases']\n",
    "# safe_entry_comments = cb_df[cb_df['Topic'] == 'Safe Entry']\n",
    "# social_distancing_comments = cb_df[cb_df['Topic'] == 'Social Distancing']\n",
    "# stay_home_notice_comments = cb_df[cb_df['Topic'] == 'Stay Home Notice']\n",
    "# tracetogether_comments = em_df[em_df['Topic'] == 'Tracetogether']\n",
    "# vaccination_comments = cb_df[cb_df['Topic'] == 'Vaccination']\n",
    "\n",
    "comments = [circuit_breaker_comments]\n",
    "# comments = [circuit_breaker_comments, economic_measures_comments ,foreign_worker_comments, mask_comments, phases_comments, safe_entry_comments, social_distancing_comments, stay_home_notice_comments, tracetogether_comments, vaccination_comments]\n",
    "\n",
    "    ## Calculating KL-divergence relevance score for each comment to its respective policy topic\n",
    "for i in range(len(comments)):\n",
    "    doc_unigram, doc_nouns = topic_doc_unigram(doc_words[i], k=1)\n",
    "    relavance_scores = []\n",
    "    for row in cb_df['Sentences']:\n",
    "        cmt_unigram, cmt_nouns = comment_unigram(row, k=1)\n",
    "        score = KLDiv_relevance_score(doc_unigram, cmt_unigram, doc_nouns, cmt_nouns)\n",
    "        relavance_scores.append(score)\n",
    "    comments[i]['Relevance score'] = relavance_scores\n",
    "\n",
    "df_final = pd.concat(comments, ignore_index=True)"
   ]
  },
  {
   "cell_type": "code",
   "execution_count": 6,
   "metadata": {},
   "outputs": [
    {
     "output_type": "execute_result",
     "data": {
      "text/plain": [
       "count    4418.000000\n",
       "mean       59.553376\n",
       "std        87.749530\n",
       "min         2.566050\n",
       "25%        18.300207\n",
       "50%        35.617846\n",
       "75%        56.271756\n",
       "max       408.447008\n",
       "Name: Relevance score, dtype: float64"
      ]
     },
     "metadata": {},
     "execution_count": 6
    }
   ],
   "source": [
    "df_final['Relevance score'].describe()"
   ]
  },
  {
   "cell_type": "code",
   "execution_count": 7,
   "metadata": {},
   "outputs": [
    {
     "output_type": "execute_result",
     "data": {
      "text/plain": [
       "1161"
      ]
     },
     "metadata": {},
     "execution_count": 7
    }
   ],
   "source": [
    "cb_df = df_final[df_final['Relevance score'] <= 20]\n",
    "len(cb_df)"
   ]
  },
  {
   "cell_type": "code",
   "execution_count": 8,
   "metadata": {
    "tags": []
   },
   "outputs": [
    {
     "output_type": "stream",
     "name": "stderr",
     "text": [
      "<ipython-input-8-74ccbd2bdb25>:16: SettingWithCopyWarning: \nA value is trying to be set on a copy of a slice from a DataFrame.\nTry using .loc[row_indexer,col_indexer] = value instead\n\nSee the caveats in the documentation: https://pandas.pydata.org/pandas-docs/stable/user_guide/indexing.html#returning-a-view-versus-a-copy\n  cb_df['Comments'] = comments\n"
     ]
    }
   ],
   "source": [
    "eng_words = words.words()\n",
    "comments = []\n",
    "i = 0\n",
    "for row in cb_df['Sentences']:\n",
    "    text = remove_hashtag_mentions_urls(row)\n",
    "    text_tokenize = TweetTokenizer().tokenize(text)\n",
    "    text_lower = [w.lower() for w in text_tokenize]\n",
    "    text_words_only = [w for w in text_lower if re.search('^[a-z]+$',w)]\n",
    "    text_eng_words = [w for w in text_words_only if w in eng_words]\n",
    "    text_drop_2letters = [w for w in text_eng_words if len(w) > 2]\n",
    "    text_joined = ' '.join(text_drop_2letters)\n",
    "    comments.append(text_joined)\n",
    "    # print(i)\n",
    "    i+=1\n",
    "\n",
    "cb_df['Comments'] = comments"
   ]
  },
  {
   "cell_type": "code",
   "execution_count": 9,
   "metadata": {},
   "outputs": [
    {
     "output_type": "execute_result",
     "data": {
      "text/plain": [
       "13234"
      ]
     },
     "metadata": {},
     "execution_count": 9
    }
   ],
   "source": [
    "vectorizer = TfidfVectorizer(ngram_range=(1, 2), stop_words='english', max_df=0.5)\n",
    "vectorizer = vectorizer.fit(cb_df['Comments'])\n",
    "tfidf = vectorizer.transform(cb_df['Comments'])\n",
    "vocab = vectorizer.get_feature_names()\n",
    "len(vocab)"
   ]
  },
  {
   "cell_type": "code",
   "execution_count": 10,
   "metadata": {},
   "outputs": [],
   "source": [
    "anchors = [\n",
    "    ['panic buy', 'mask shortage', 'shortage', 'grocery', 'food', 'supplies', 'supply'], \n",
    "    ['shutdown business', 'shutdown',  'work', 'business'], \n",
    "    ['home-based learning', 'home', 'lesson', 'online', 'school'], \n",
    "    ['mental health', 'wellbeing', 'health', 'isolation'], \n",
    "    ['border close', 'travel', 'overseas'], \n",
    "    ['stay home', 'quarantine', 'lockdown', 'safe']\n",
    "]\n",
    "anchors = [\n",
    "    [a for a in topic if a in vocab] for topic in anchors\n",
    "]\n",
    "\n",
    "model = ct.Corex(n_hidden = 20, seed = 8)\n",
    "model = model.fit(tfidf, words = vocab, anchors = anchors, anchor_strength=7)\n",
    "# model.get_topics(topic=0, n_words=10)"
   ]
  },
  {
   "cell_type": "code",
   "execution_count": 105,
   "metadata": {},
   "outputs": [
    {
     "output_type": "stream",
     "name": "stdout",
     "text": [
      "Topic #1: food, supply, grocery, panic buy, buy, channel, food delivery, chain, contribute, source code\n\nTopic #2: work, business, shutdown, work home, airport, thank hard, hard work, dear minister, work protect, going work\n\nTopic #3: home, school, stay, brent, hedge, lee kuan, kuan, great lee, mingle, brought home\n\nTopic #4: health, isolation, mental health, scientific, fake science, does mean, hong, epidemiological, epidemiological scientific, health care\n\nTopic #5: travel, overseas, bubble tea, bubble, tea, cent year, account base, base rate, insist going, insist\n\nTopic #6: safe, quarantine, stay safe, hygiene, safe circuit, keeping, reminder, scary, maintain, safe distance\n\nTopic #7: \n\nTopic #8: \n\nTopic #9: world unfortunately, unfortunately impact\n\nTopic #10: evening lee, good evening, government open, consideration government, just consideration, evening\n\nTopic #11: decisive protest, protest crisis, protest\n\nTopic #12: sir fellow, kind sir, thank kind\n\nTopic #13: \n\nTopic #14: pure look, look does, thank passionate, passionate, passionate leadership, pure\n\nTopic #15: day frequency, frequency peak\n\nTopic #16: beat, hard beat, look match, beat look, match, match beat, virus infection, body virus, wrote hard, posted hard\n\nTopic #17: tell tale, certain people, targeted media, tale certain, like tell, targeted, problem like, people targeted, tale, new day\n\nTopic #18: caster, spell caster, spell\n\nTopic #19: country likely, lifting country, likely rise, new community, rise new, line medical, button save, unexpected, lee unexpected, dear fortunate\n\nTopic #20: yes prob, prob way, just exception, plenty just\n\n"
     ]
    }
   ],
   "source": [
    "top_words = {}\n",
    "\n",
    "for i, topic_ngrams in enumerate(model.get_topics()):\n",
    "    topic_ngrams = [ngram[0] for ngram in topic_ngrams if ngram[1] > 0]\n",
    "    top_words[f'topic{i}'] = topic_ngrams\n",
    "    print(\"Topic #{}: {}\".format(i+1, \", \".join(topic_ngrams)))\n",
    "    print()"
   ]
  },
  {
   "cell_type": "code",
   "execution_count": 106,
   "metadata": {},
   "outputs": [
    {
     "output_type": "display_data",
     "data": {
      "text/plain": "<Figure size 720x360 with 1 Axes>",
      "image/svg+xml": "<?xml version=\"1.0\" encoding=\"utf-8\" standalone=\"no\"?>\n<!DOCTYPE svg PUBLIC \"-//W3C//DTD SVG 1.1//EN\"\n  \"http://www.w3.org/Graphics/SVG/1.1/DTD/svg11.dtd\">\n<!-- Created with matplotlib (https://matplotlib.org/) -->\n<svg height=\"322.363125pt\" version=\"1.1\" viewBox=\"0 0 620.067791 322.363125\" width=\"620.067791pt\" xmlns=\"http://www.w3.org/2000/svg\" xmlns:xlink=\"http://www.w3.org/1999/xlink\">\n <metadata>\n  <rdf:RDF xmlns:cc=\"http://creativecommons.org/ns#\" xmlns:dc=\"http://purl.org/dc/elements/1.1/\" xmlns:rdf=\"http://www.w3.org/1999/02/22-rdf-syntax-ns#\">\n   <cc:Work>\n    <dc:type rdf:resource=\"http://purl.org/dc/dcmitype/StillImage\"/>\n    <dc:date>2021-03-25T00:00:46.564752</dc:date>\n    <dc:format>image/svg+xml</dc:format>\n    <dc:creator>\n     <cc:Agent>\n      <dc:title>Matplotlib v3.3.3, https://matplotlib.org/</dc:title>\n     </cc:Agent>\n    </dc:creator>\n   </cc:Work>\n  </rdf:RDF>\n </metadata>\n <defs>\n  <style type=\"text/css\">*{stroke-linecap:butt;stroke-linejoin:round;}</style>\n </defs>\n <g id=\"figure_1\">\n  <g id=\"patch_1\">\n   <path d=\"M 0 322.363125 \nL 620.067791 322.363125 \nL 620.067791 0 \nL 0 0 \nz\n\" style=\"fill:none;\"/>\n  </g>\n  <g id=\"axes_1\">\n   <g id=\"patch_2\">\n    <path d=\"M 49.588125 279 \nL 607.588125 279 \nL 607.588125 7.2 \nL 49.588125 7.2 \nz\n\" style=\"fill:#ffffff;\"/>\n   </g>\n   <g id=\"patch_3\">\n    <path clip-path=\"url(#pcab1c0700d)\" d=\"M 74.951761 266.530453 \nL 87.958754 266.530453 \nL 87.958754 38.565745 \nL 74.951761 38.565745 \nz\n\" style=\"fill:#4e79a7;\"/>\n   </g>\n   <g id=\"patch_4\">\n    <path clip-path=\"url(#pcab1c0700d)\" d=\"M 100.965747 266.530453 \nL 113.97274 266.530453 \nL 113.97274 54.607248 \nL 100.965747 54.607248 \nz\n\" style=\"fill:#4e79a7;\"/>\n   </g>\n   <g id=\"patch_5\">\n    <path clip-path=\"url(#pcab1c0700d)\" d=\"M 126.979733 266.530453 \nL 139.986726 266.530453 \nL 139.986726 19.554545 \nL 126.979733 19.554545 \nz\n\" style=\"fill:#4e79a7;\"/>\n   </g>\n   <g id=\"patch_6\">\n    <path clip-path=\"url(#pcab1c0700d)\" d=\"M 152.993719 266.530453 \nL 166.000712 266.530453 \nL 166.000712 47.584396 \nL 152.993719 47.584396 \nz\n\" style=\"fill:#4e79a7;\"/>\n   </g>\n   <g id=\"patch_7\">\n    <path clip-path=\"url(#pcab1c0700d)\" d=\"M 179.007705 266.530453 \nL 192.014698 266.530453 \nL 192.014698 133.944286 \nL 179.007705 133.944286 \nz\n\" style=\"fill:#4e79a7;\"/>\n   </g>\n   <g id=\"patch_8\">\n    <path clip-path=\"url(#pcab1c0700d)\" d=\"M 205.021691 266.530453 \nL 218.028684 266.530453 \nL 218.028684 43.27463 \nL 205.021691 43.27463 \nz\n\" style=\"fill:#4e79a7;\"/>\n   </g>\n   <g id=\"patch_9\">\n    <path clip-path=\"url(#pcab1c0700d)\" d=\"M 231.035677 266.530453 \nL 244.04267 266.530453 \nL 244.04267 266.645455 \nL 231.035677 266.645455 \nz\n\" style=\"fill:#4e79a7;\"/>\n   </g>\n   <g id=\"patch_10\">\n    <path clip-path=\"url(#pcab1c0700d)\" d=\"M 257.049663 266.530453 \nL 270.056656 266.530453 \nL 270.056656 266.458069 \nL 257.049663 266.458069 \nz\n\" style=\"fill:#4e79a7;\"/>\n   </g>\n   <g id=\"patch_11\">\n    <path clip-path=\"url(#pcab1c0700d)\" d=\"M 283.063649 266.530453 \nL 296.070642 266.530453 \nL 296.070642 266.358049 \nL 283.063649 266.358049 \nz\n\" style=\"fill:#4e79a7;\"/>\n   </g>\n   <g id=\"patch_12\">\n    <path clip-path=\"url(#pcab1c0700d)\" d=\"M 309.077635 266.530453 \nL 322.084628 266.530453 \nL 322.084628 266.195791 \nL 309.077635 266.195791 \nz\n\" style=\"fill:#4e79a7;\"/>\n   </g>\n   <g id=\"patch_13\">\n    <path clip-path=\"url(#pcab1c0700d)\" d=\"M 335.091622 266.530453 \nL 348.098615 266.530453 \nL 348.098615 266.314645 \nL 335.091622 266.314645 \nz\n\" style=\"fill:#4e79a7;\"/>\n   </g>\n   <g id=\"patch_14\">\n    <path clip-path=\"url(#pcab1c0700d)\" d=\"M 361.105608 266.530453 \nL 374.112601 266.530453 \nL 374.112601 266.420106 \nL 361.105608 266.420106 \nz\n\" style=\"fill:#4e79a7;\"/>\n   </g>\n   <g id=\"patch_15\">\n    <path clip-path=\"url(#pcab1c0700d)\" d=\"M 387.119594 266.530453 \nL 400.126587 266.530453 \nL 400.126587 266.527484 \nL 387.119594 266.527484 \nz\n\" style=\"fill:#4e79a7;\"/>\n   </g>\n   <g id=\"patch_16\">\n    <path clip-path=\"url(#pcab1c0700d)\" d=\"M 413.13358 266.530453 \nL 426.140573 266.530453 \nL 426.140573 266.0123 \nL 413.13358 266.0123 \nz\n\" style=\"fill:#4e79a7;\"/>\n   </g>\n   <g id=\"patch_17\">\n    <path clip-path=\"url(#pcab1c0700d)\" d=\"M 439.147566 266.530453 \nL 452.154559 266.530453 \nL 452.154559 266.346788 \nL 439.147566 266.346788 \nz\n\" style=\"fill:#4e79a7;\"/>\n   </g>\n   <g id=\"patch_18\">\n    <path clip-path=\"url(#pcab1c0700d)\" d=\"M 465.161552 266.530453 \nL 478.168545 266.530453 \nL 478.168545 264.109964 \nL 465.161552 264.109964 \nz\n\" style=\"fill:#4e79a7;\"/>\n   </g>\n   <g id=\"patch_19\">\n    <path clip-path=\"url(#pcab1c0700d)\" d=\"M 491.175538 266.530453 \nL 504.182531 266.530453 \nL 504.182531 262.847839 \nL 491.175538 262.847839 \nz\n\" style=\"fill:#4e79a7;\"/>\n   </g>\n   <g id=\"patch_20\">\n    <path clip-path=\"url(#pcab1c0700d)\" d=\"M 517.189524 266.530453 \nL 530.196517 266.530453 \nL 530.196517 266.383907 \nL 517.189524 266.383907 \nz\n\" style=\"fill:#4e79a7;\"/>\n   </g>\n   <g id=\"patch_21\">\n    <path clip-path=\"url(#pcab1c0700d)\" d=\"M 543.20351 266.530453 \nL 556.210503 266.530453 \nL 556.210503 261.145238 \nL 543.20351 261.145238 \nz\n\" style=\"fill:#4e79a7;\"/>\n   </g>\n   <g id=\"patch_22\">\n    <path clip-path=\"url(#pcab1c0700d)\" d=\"M 569.217496 266.530453 \nL 582.224489 266.530453 \nL 582.224489 266.461599 \nL 569.217496 266.461599 \nz\n\" style=\"fill:#4e79a7;\"/>\n   </g>\n   <g id=\"matplotlib.axis_1\">\n    <g id=\"xtick_1\">\n     <g id=\"line2d_1\">\n      <defs>\n       <path d=\"M 0 0 \nL 0 3.5 \n\" id=\"m069502ae26\" style=\"stroke:#000000;stroke-width:0.8;\"/>\n      </defs>\n      <g>\n       <use style=\"stroke:#000000;stroke-width:0.8;\" x=\"81.455258\" xlink:href=\"#m069502ae26\" y=\"279\"/>\n      </g>\n     </g>\n     <g id=\"text_1\">\n      <!-- 0.0 -->\n      <g transform=\"translate(73.503695 293.598438)scale(0.1 -0.1)\">\n       <defs>\n        <path d=\"M 31.78125 66.40625 \nQ 24.171875 66.40625 20.328125 58.90625 \nQ 16.5 51.421875 16.5 36.375 \nQ 16.5 21.390625 20.328125 13.890625 \nQ 24.171875 6.390625 31.78125 6.390625 \nQ 39.453125 6.390625 43.28125 13.890625 \nQ 47.125 21.390625 47.125 36.375 \nQ 47.125 51.421875 43.28125 58.90625 \nQ 39.453125 66.40625 31.78125 66.40625 \nz\nM 31.78125 74.21875 \nQ 44.046875 74.21875 50.515625 64.515625 \nQ 56.984375 54.828125 56.984375 36.375 \nQ 56.984375 17.96875 50.515625 8.265625 \nQ 44.046875 -1.421875 31.78125 -1.421875 \nQ 19.53125 -1.421875 13.0625 8.265625 \nQ 6.59375 17.96875 6.59375 36.375 \nQ 6.59375 54.828125 13.0625 64.515625 \nQ 19.53125 74.21875 31.78125 74.21875 \nz\n\" id=\"DejaVuSans-48\"/>\n        <path d=\"M 10.6875 12.40625 \nL 21 12.40625 \nL 21 0 \nL 10.6875 0 \nz\n\" id=\"DejaVuSans-46\"/>\n       </defs>\n       <use xlink:href=\"#DejaVuSans-48\"/>\n       <use x=\"63.623047\" xlink:href=\"#DejaVuSans-46\"/>\n       <use x=\"95.410156\" xlink:href=\"#DejaVuSans-48\"/>\n      </g>\n     </g>\n    </g>\n    <g id=\"xtick_2\">\n     <g id=\"line2d_2\">\n      <g>\n       <use style=\"stroke:#000000;stroke-width:0.8;\" x=\"146.490223\" xlink:href=\"#m069502ae26\" y=\"279\"/>\n      </g>\n     </g>\n     <g id=\"text_2\">\n      <!-- 2.5 -->\n      <g transform=\"translate(138.53866 293.598438)scale(0.1 -0.1)\">\n       <defs>\n        <path d=\"M 19.1875 8.296875 \nL 53.609375 8.296875 \nL 53.609375 0 \nL 7.328125 0 \nL 7.328125 8.296875 \nQ 12.9375 14.109375 22.625 23.890625 \nQ 32.328125 33.6875 34.8125 36.53125 \nQ 39.546875 41.84375 41.421875 45.53125 \nQ 43.3125 49.21875 43.3125 52.78125 \nQ 43.3125 58.59375 39.234375 62.25 \nQ 35.15625 65.921875 28.609375 65.921875 \nQ 23.96875 65.921875 18.8125 64.3125 \nQ 13.671875 62.703125 7.8125 59.421875 \nL 7.8125 69.390625 \nQ 13.765625 71.78125 18.9375 73 \nQ 24.125 74.21875 28.421875 74.21875 \nQ 39.75 74.21875 46.484375 68.546875 \nQ 53.21875 62.890625 53.21875 53.421875 \nQ 53.21875 48.921875 51.53125 44.890625 \nQ 49.859375 40.875 45.40625 35.40625 \nQ 44.1875 33.984375 37.640625 27.21875 \nQ 31.109375 20.453125 19.1875 8.296875 \nz\n\" id=\"DejaVuSans-50\"/>\n        <path d=\"M 10.796875 72.90625 \nL 49.515625 72.90625 \nL 49.515625 64.59375 \nL 19.828125 64.59375 \nL 19.828125 46.734375 \nQ 21.96875 47.46875 24.109375 47.828125 \nQ 26.265625 48.1875 28.421875 48.1875 \nQ 40.625 48.1875 47.75 41.5 \nQ 54.890625 34.8125 54.890625 23.390625 \nQ 54.890625 11.625 47.5625 5.09375 \nQ 40.234375 -1.421875 26.90625 -1.421875 \nQ 22.3125 -1.421875 17.546875 -0.640625 \nQ 12.796875 0.140625 7.71875 1.703125 \nL 7.71875 11.625 \nQ 12.109375 9.234375 16.796875 8.0625 \nQ 21.484375 6.890625 26.703125 6.890625 \nQ 35.15625 6.890625 40.078125 11.328125 \nQ 45.015625 15.765625 45.015625 23.390625 \nQ 45.015625 31 40.078125 35.4375 \nQ 35.15625 39.890625 26.703125 39.890625 \nQ 22.75 39.890625 18.8125 39.015625 \nQ 14.890625 38.140625 10.796875 36.28125 \nz\n\" id=\"DejaVuSans-53\"/>\n       </defs>\n       <use xlink:href=\"#DejaVuSans-50\"/>\n       <use x=\"63.623047\" xlink:href=\"#DejaVuSans-46\"/>\n       <use x=\"95.410156\" xlink:href=\"#DejaVuSans-53\"/>\n      </g>\n     </g>\n    </g>\n    <g id=\"xtick_3\">\n     <g id=\"line2d_3\">\n      <g>\n       <use style=\"stroke:#000000;stroke-width:0.8;\" x=\"211.525188\" xlink:href=\"#m069502ae26\" y=\"279\"/>\n      </g>\n     </g>\n     <g id=\"text_3\">\n      <!-- 5.0 -->\n      <g transform=\"translate(203.573625 293.598438)scale(0.1 -0.1)\">\n       <use xlink:href=\"#DejaVuSans-53\"/>\n       <use x=\"63.623047\" xlink:href=\"#DejaVuSans-46\"/>\n       <use x=\"95.410156\" xlink:href=\"#DejaVuSans-48\"/>\n      </g>\n     </g>\n    </g>\n    <g id=\"xtick_4\">\n     <g id=\"line2d_4\">\n      <g>\n       <use style=\"stroke:#000000;stroke-width:0.8;\" x=\"276.560153\" xlink:href=\"#m069502ae26\" y=\"279\"/>\n      </g>\n     </g>\n     <g id=\"text_4\">\n      <!-- 7.5 -->\n      <g transform=\"translate(268.60859 293.598438)scale(0.1 -0.1)\">\n       <defs>\n        <path d=\"M 8.203125 72.90625 \nL 55.078125 72.90625 \nL 55.078125 68.703125 \nL 28.609375 0 \nL 18.3125 0 \nL 43.21875 64.59375 \nL 8.203125 64.59375 \nz\n\" id=\"DejaVuSans-55\"/>\n       </defs>\n       <use xlink:href=\"#DejaVuSans-55\"/>\n       <use x=\"63.623047\" xlink:href=\"#DejaVuSans-46\"/>\n       <use x=\"95.410156\" xlink:href=\"#DejaVuSans-53\"/>\n      </g>\n     </g>\n    </g>\n    <g id=\"xtick_5\">\n     <g id=\"line2d_5\">\n      <g>\n       <use style=\"stroke:#000000;stroke-width:0.8;\" x=\"341.595118\" xlink:href=\"#m069502ae26\" y=\"279\"/>\n      </g>\n     </g>\n     <g id=\"text_5\">\n      <!-- 10.0 -->\n      <g transform=\"translate(330.462306 293.598438)scale(0.1 -0.1)\">\n       <defs>\n        <path d=\"M 12.40625 8.296875 \nL 28.515625 8.296875 \nL 28.515625 63.921875 \nL 10.984375 60.40625 \nL 10.984375 69.390625 \nL 28.421875 72.90625 \nL 38.28125 72.90625 \nL 38.28125 8.296875 \nL 54.390625 8.296875 \nL 54.390625 0 \nL 12.40625 0 \nz\n\" id=\"DejaVuSans-49\"/>\n       </defs>\n       <use xlink:href=\"#DejaVuSans-49\"/>\n       <use x=\"63.623047\" xlink:href=\"#DejaVuSans-48\"/>\n       <use x=\"127.246094\" xlink:href=\"#DejaVuSans-46\"/>\n       <use x=\"159.033203\" xlink:href=\"#DejaVuSans-48\"/>\n      </g>\n     </g>\n    </g>\n    <g id=\"xtick_6\">\n     <g id=\"line2d_6\">\n      <g>\n       <use style=\"stroke:#000000;stroke-width:0.8;\" x=\"406.630083\" xlink:href=\"#m069502ae26\" y=\"279\"/>\n      </g>\n     </g>\n     <g id=\"text_6\">\n      <!-- 12.5 -->\n      <g transform=\"translate(395.497271 293.598438)scale(0.1 -0.1)\">\n       <use xlink:href=\"#DejaVuSans-49\"/>\n       <use x=\"63.623047\" xlink:href=\"#DejaVuSans-50\"/>\n       <use x=\"127.246094\" xlink:href=\"#DejaVuSans-46\"/>\n       <use x=\"159.033203\" xlink:href=\"#DejaVuSans-53\"/>\n      </g>\n     </g>\n    </g>\n    <g id=\"xtick_7\">\n     <g id=\"line2d_7\">\n      <g>\n       <use style=\"stroke:#000000;stroke-width:0.8;\" x=\"471.665048\" xlink:href=\"#m069502ae26\" y=\"279\"/>\n      </g>\n     </g>\n     <g id=\"text_7\">\n      <!-- 15.0 -->\n      <g transform=\"translate(460.532236 293.598438)scale(0.1 -0.1)\">\n       <use xlink:href=\"#DejaVuSans-49\"/>\n       <use x=\"63.623047\" xlink:href=\"#DejaVuSans-53\"/>\n       <use x=\"127.246094\" xlink:href=\"#DejaVuSans-46\"/>\n       <use x=\"159.033203\" xlink:href=\"#DejaVuSans-48\"/>\n      </g>\n     </g>\n    </g>\n    <g id=\"xtick_8\">\n     <g id=\"line2d_8\">\n      <g>\n       <use style=\"stroke:#000000;stroke-width:0.8;\" x=\"536.700013\" xlink:href=\"#m069502ae26\" y=\"279\"/>\n      </g>\n     </g>\n     <g id=\"text_8\">\n      <!-- 17.5 -->\n      <g transform=\"translate(525.567201 293.598438)scale(0.1 -0.1)\">\n       <use xlink:href=\"#DejaVuSans-49\"/>\n       <use x=\"63.623047\" xlink:href=\"#DejaVuSans-55\"/>\n       <use x=\"127.246094\" xlink:href=\"#DejaVuSans-46\"/>\n       <use x=\"159.033203\" xlink:href=\"#DejaVuSans-53\"/>\n      </g>\n     </g>\n    </g>\n    <g id=\"xtick_9\">\n     <g id=\"line2d_9\">\n      <g>\n       <use style=\"stroke:#000000;stroke-width:0.8;\" x=\"601.734978\" xlink:href=\"#m069502ae26\" y=\"279\"/>\n      </g>\n     </g>\n     <g id=\"text_9\">\n      <!-- 20.0 -->\n      <g transform=\"translate(590.602166 293.598438)scale(0.1 -0.1)\">\n       <use xlink:href=\"#DejaVuSans-50\"/>\n       <use x=\"63.623047\" xlink:href=\"#DejaVuSans-48\"/>\n       <use x=\"127.246094\" xlink:href=\"#DejaVuSans-46\"/>\n       <use x=\"159.033203\" xlink:href=\"#DejaVuSans-48\"/>\n      </g>\n     </g>\n    </g>\n    <g id=\"text_10\">\n     <!-- Topic -->\n     <g transform=\"translate(308.466875 311.835625)scale(0.16 -0.16)\">\n      <defs>\n       <path d=\"M -0.296875 72.90625 \nL 61.375 72.90625 \nL 61.375 64.59375 \nL 35.5 64.59375 \nL 35.5 0 \nL 25.59375 0 \nL 25.59375 64.59375 \nL -0.296875 64.59375 \nz\n\" id=\"DejaVuSans-84\"/>\n       <path d=\"M 30.609375 48.390625 \nQ 23.390625 48.390625 19.1875 42.75 \nQ 14.984375 37.109375 14.984375 27.296875 \nQ 14.984375 17.484375 19.15625 11.84375 \nQ 23.34375 6.203125 30.609375 6.203125 \nQ 37.796875 6.203125 41.984375 11.859375 \nQ 46.1875 17.53125 46.1875 27.296875 \nQ 46.1875 37.015625 41.984375 42.703125 \nQ 37.796875 48.390625 30.609375 48.390625 \nz\nM 30.609375 56 \nQ 42.328125 56 49.015625 48.375 \nQ 55.71875 40.765625 55.71875 27.296875 \nQ 55.71875 13.875 49.015625 6.21875 \nQ 42.328125 -1.421875 30.609375 -1.421875 \nQ 18.84375 -1.421875 12.171875 6.21875 \nQ 5.515625 13.875 5.515625 27.296875 \nQ 5.515625 40.765625 12.171875 48.375 \nQ 18.84375 56 30.609375 56 \nz\n\" id=\"DejaVuSans-111\"/>\n       <path d=\"M 18.109375 8.203125 \nL 18.109375 -20.796875 \nL 9.078125 -20.796875 \nL 9.078125 54.6875 \nL 18.109375 54.6875 \nL 18.109375 46.390625 \nQ 20.953125 51.265625 25.265625 53.625 \nQ 29.59375 56 35.59375 56 \nQ 45.5625 56 51.78125 48.09375 \nQ 58.015625 40.1875 58.015625 27.296875 \nQ 58.015625 14.40625 51.78125 6.484375 \nQ 45.5625 -1.421875 35.59375 -1.421875 \nQ 29.59375 -1.421875 25.265625 0.953125 \nQ 20.953125 3.328125 18.109375 8.203125 \nz\nM 48.6875 27.296875 \nQ 48.6875 37.203125 44.609375 42.84375 \nQ 40.53125 48.484375 33.40625 48.484375 \nQ 26.265625 48.484375 22.1875 42.84375 \nQ 18.109375 37.203125 18.109375 27.296875 \nQ 18.109375 17.390625 22.1875 11.75 \nQ 26.265625 6.109375 33.40625 6.109375 \nQ 40.53125 6.109375 44.609375 11.75 \nQ 48.6875 17.390625 48.6875 27.296875 \nz\n\" id=\"DejaVuSans-112\"/>\n       <path d=\"M 9.421875 54.6875 \nL 18.40625 54.6875 \nL 18.40625 0 \nL 9.421875 0 \nz\nM 9.421875 75.984375 \nL 18.40625 75.984375 \nL 18.40625 64.59375 \nL 9.421875 64.59375 \nz\n\" id=\"DejaVuSans-105\"/>\n       <path d=\"M 48.78125 52.59375 \nL 48.78125 44.1875 \nQ 44.96875 46.296875 41.140625 47.34375 \nQ 37.3125 48.390625 33.40625 48.390625 \nQ 24.65625 48.390625 19.8125 42.84375 \nQ 14.984375 37.3125 14.984375 27.296875 \nQ 14.984375 17.28125 19.8125 11.734375 \nQ 24.65625 6.203125 33.40625 6.203125 \nQ 37.3125 6.203125 41.140625 7.25 \nQ 44.96875 8.296875 48.78125 10.40625 \nL 48.78125 2.09375 \nQ 45.015625 0.34375 40.984375 -0.53125 \nQ 36.96875 -1.421875 32.421875 -1.421875 \nQ 20.0625 -1.421875 12.78125 6.34375 \nQ 5.515625 14.109375 5.515625 27.296875 \nQ 5.515625 40.671875 12.859375 48.328125 \nQ 20.21875 56 33.015625 56 \nQ 37.15625 56 41.109375 55.140625 \nQ 45.0625 54.296875 48.78125 52.59375 \nz\n\" id=\"DejaVuSans-99\"/>\n      </defs>\n      <use xlink:href=\"#DejaVuSans-84\"/>\n      <use x=\"44.083984\" xlink:href=\"#DejaVuSans-111\"/>\n      <use x=\"105.265625\" xlink:href=\"#DejaVuSans-112\"/>\n      <use x=\"168.742188\" xlink:href=\"#DejaVuSans-105\"/>\n      <use x=\"196.525391\" xlink:href=\"#DejaVuSans-99\"/>\n     </g>\n    </g>\n   </g>\n   <g id=\"matplotlib.axis_2\">\n    <g id=\"ytick_1\">\n     <g id=\"line2d_10\">\n      <defs>\n       <path d=\"M 0 0 \nL -3.5 0 \n\" id=\"me59c78b191\" style=\"stroke:#000000;stroke-width:0.8;\"/>\n      </defs>\n      <g>\n       <use style=\"stroke:#000000;stroke-width:0.8;\" x=\"49.588125\" xlink:href=\"#me59c78b191\" y=\"266.530453\"/>\n      </g>\n     </g>\n     <g id=\"text_11\">\n      <!-- 0.0 -->\n      <g transform=\"translate(26.685 270.329671)scale(0.1 -0.1)\">\n       <use xlink:href=\"#DejaVuSans-48\"/>\n       <use x=\"63.623047\" xlink:href=\"#DejaVuSans-46\"/>\n       <use x=\"95.410156\" xlink:href=\"#DejaVuSans-48\"/>\n      </g>\n     </g>\n    </g>\n    <g id=\"ytick_2\">\n     <g id=\"line2d_11\">\n      <g>\n       <use style=\"stroke:#000000;stroke-width:0.8;\" x=\"49.588125\" xlink:href=\"#me59c78b191\" y=\"209.376335\"/>\n      </g>\n     </g>\n     <g id=\"text_12\">\n      <!-- 0.1 -->\n      <g transform=\"translate(26.685 213.175553)scale(0.1 -0.1)\">\n       <use xlink:href=\"#DejaVuSans-48\"/>\n       <use x=\"63.623047\" xlink:href=\"#DejaVuSans-46\"/>\n       <use x=\"95.410156\" xlink:href=\"#DejaVuSans-49\"/>\n      </g>\n     </g>\n    </g>\n    <g id=\"ytick_3\">\n     <g id=\"line2d_12\">\n      <g>\n       <use style=\"stroke:#000000;stroke-width:0.8;\" x=\"49.588125\" xlink:href=\"#me59c78b191\" y=\"152.222216\"/>\n      </g>\n     </g>\n     <g id=\"text_13\">\n      <!-- 0.2 -->\n      <g transform=\"translate(26.685 156.021435)scale(0.1 -0.1)\">\n       <use xlink:href=\"#DejaVuSans-48\"/>\n       <use x=\"63.623047\" xlink:href=\"#DejaVuSans-46\"/>\n       <use x=\"95.410156\" xlink:href=\"#DejaVuSans-50\"/>\n      </g>\n     </g>\n    </g>\n    <g id=\"ytick_4\">\n     <g id=\"line2d_13\">\n      <g>\n       <use style=\"stroke:#000000;stroke-width:0.8;\" x=\"49.588125\" xlink:href=\"#me59c78b191\" y=\"95.068098\"/>\n      </g>\n     </g>\n     <g id=\"text_14\">\n      <!-- 0.3 -->\n      <g transform=\"translate(26.685 98.867317)scale(0.1 -0.1)\">\n       <defs>\n        <path d=\"M 40.578125 39.3125 \nQ 47.65625 37.796875 51.625 33 \nQ 55.609375 28.21875 55.609375 21.1875 \nQ 55.609375 10.40625 48.1875 4.484375 \nQ 40.765625 -1.421875 27.09375 -1.421875 \nQ 22.515625 -1.421875 17.65625 -0.515625 \nQ 12.796875 0.390625 7.625 2.203125 \nL 7.625 11.71875 \nQ 11.71875 9.328125 16.59375 8.109375 \nQ 21.484375 6.890625 26.8125 6.890625 \nQ 36.078125 6.890625 40.9375 10.546875 \nQ 45.796875 14.203125 45.796875 21.1875 \nQ 45.796875 27.640625 41.28125 31.265625 \nQ 36.765625 34.90625 28.71875 34.90625 \nL 20.21875 34.90625 \nL 20.21875 43.015625 \nL 29.109375 43.015625 \nQ 36.375 43.015625 40.234375 45.921875 \nQ 44.09375 48.828125 44.09375 54.296875 \nQ 44.09375 59.90625 40.109375 62.90625 \nQ 36.140625 65.921875 28.71875 65.921875 \nQ 24.65625 65.921875 20.015625 65.03125 \nQ 15.375 64.15625 9.8125 62.3125 \nL 9.8125 71.09375 \nQ 15.4375 72.65625 20.34375 73.4375 \nQ 25.25 74.21875 29.59375 74.21875 \nQ 40.828125 74.21875 47.359375 69.109375 \nQ 53.90625 64.015625 53.90625 55.328125 \nQ 53.90625 49.265625 50.4375 45.09375 \nQ 46.96875 40.921875 40.578125 39.3125 \nz\n\" id=\"DejaVuSans-51\"/>\n       </defs>\n       <use xlink:href=\"#DejaVuSans-48\"/>\n       <use x=\"63.623047\" xlink:href=\"#DejaVuSans-46\"/>\n       <use x=\"95.410156\" xlink:href=\"#DejaVuSans-51\"/>\n      </g>\n     </g>\n    </g>\n    <g id=\"ytick_5\">\n     <g id=\"line2d_14\">\n      <g>\n       <use style=\"stroke:#000000;stroke-width:0.8;\" x=\"49.588125\" xlink:href=\"#me59c78b191\" y=\"37.91398\"/>\n      </g>\n     </g>\n     <g id=\"text_15\">\n      <!-- 0.4 -->\n      <g transform=\"translate(26.685 41.713199)scale(0.1 -0.1)\">\n       <defs>\n        <path d=\"M 37.796875 64.3125 \nL 12.890625 25.390625 \nL 37.796875 25.390625 \nz\nM 35.203125 72.90625 \nL 47.609375 72.90625 \nL 47.609375 25.390625 \nL 58.015625 25.390625 \nL 58.015625 17.1875 \nL 47.609375 17.1875 \nL 47.609375 0 \nL 37.796875 0 \nL 37.796875 17.1875 \nL 4.890625 17.1875 \nL 4.890625 26.703125 \nz\n\" id=\"DejaVuSans-52\"/>\n       </defs>\n       <use xlink:href=\"#DejaVuSans-48\"/>\n       <use x=\"63.623047\" xlink:href=\"#DejaVuSans-46\"/>\n       <use x=\"95.410156\" xlink:href=\"#DejaVuSans-52\"/>\n      </g>\n     </g>\n    </g>\n    <g id=\"text_16\">\n     <!-- Total Correlation (nats) -->\n     <g transform=\"translate(19.3575 234.49625)rotate(-90)scale(0.16 -0.16)\">\n      <defs>\n       <path d=\"M 18.3125 70.21875 \nL 18.3125 54.6875 \nL 36.8125 54.6875 \nL 36.8125 47.703125 \nL 18.3125 47.703125 \nL 18.3125 18.015625 \nQ 18.3125 11.328125 20.140625 9.421875 \nQ 21.96875 7.515625 27.59375 7.515625 \nL 36.8125 7.515625 \nL 36.8125 0 \nL 27.59375 0 \nQ 17.1875 0 13.234375 3.875 \nQ 9.28125 7.765625 9.28125 18.015625 \nL 9.28125 47.703125 \nL 2.6875 47.703125 \nL 2.6875 54.6875 \nL 9.28125 54.6875 \nL 9.28125 70.21875 \nz\n\" id=\"DejaVuSans-116\"/>\n       <path d=\"M 34.28125 27.484375 \nQ 23.390625 27.484375 19.1875 25 \nQ 14.984375 22.515625 14.984375 16.5 \nQ 14.984375 11.71875 18.140625 8.90625 \nQ 21.296875 6.109375 26.703125 6.109375 \nQ 34.1875 6.109375 38.703125 11.40625 \nQ 43.21875 16.703125 43.21875 25.484375 \nL 43.21875 27.484375 \nz\nM 52.203125 31.203125 \nL 52.203125 0 \nL 43.21875 0 \nL 43.21875 8.296875 \nQ 40.140625 3.328125 35.546875 0.953125 \nQ 30.953125 -1.421875 24.3125 -1.421875 \nQ 15.921875 -1.421875 10.953125 3.296875 \nQ 6 8.015625 6 15.921875 \nQ 6 25.140625 12.171875 29.828125 \nQ 18.359375 34.515625 30.609375 34.515625 \nL 43.21875 34.515625 \nL 43.21875 35.40625 \nQ 43.21875 41.609375 39.140625 45 \nQ 35.0625 48.390625 27.6875 48.390625 \nQ 23 48.390625 18.546875 47.265625 \nQ 14.109375 46.140625 10.015625 43.890625 \nL 10.015625 52.203125 \nQ 14.9375 54.109375 19.578125 55.046875 \nQ 24.21875 56 28.609375 56 \nQ 40.484375 56 46.34375 49.84375 \nQ 52.203125 43.703125 52.203125 31.203125 \nz\n\" id=\"DejaVuSans-97\"/>\n       <path d=\"M 9.421875 75.984375 \nL 18.40625 75.984375 \nL 18.40625 0 \nL 9.421875 0 \nz\n\" id=\"DejaVuSans-108\"/>\n       <path id=\"DejaVuSans-32\"/>\n       <path d=\"M 64.40625 67.28125 \nL 64.40625 56.890625 \nQ 59.421875 61.53125 53.78125 63.8125 \nQ 48.140625 66.109375 41.796875 66.109375 \nQ 29.296875 66.109375 22.65625 58.46875 \nQ 16.015625 50.828125 16.015625 36.375 \nQ 16.015625 21.96875 22.65625 14.328125 \nQ 29.296875 6.6875 41.796875 6.6875 \nQ 48.140625 6.6875 53.78125 8.984375 \nQ 59.421875 11.28125 64.40625 15.921875 \nL 64.40625 5.609375 \nQ 59.234375 2.09375 53.4375 0.328125 \nQ 47.65625 -1.421875 41.21875 -1.421875 \nQ 24.65625 -1.421875 15.125 8.703125 \nQ 5.609375 18.84375 5.609375 36.375 \nQ 5.609375 53.953125 15.125 64.078125 \nQ 24.65625 74.21875 41.21875 74.21875 \nQ 47.75 74.21875 53.53125 72.484375 \nQ 59.328125 70.75 64.40625 67.28125 \nz\n\" id=\"DejaVuSans-67\"/>\n       <path d=\"M 41.109375 46.296875 \nQ 39.59375 47.171875 37.8125 47.578125 \nQ 36.03125 48 33.890625 48 \nQ 26.265625 48 22.1875 43.046875 \nQ 18.109375 38.09375 18.109375 28.8125 \nL 18.109375 0 \nL 9.078125 0 \nL 9.078125 54.6875 \nL 18.109375 54.6875 \nL 18.109375 46.1875 \nQ 20.953125 51.171875 25.484375 53.578125 \nQ 30.03125 56 36.53125 56 \nQ 37.453125 56 38.578125 55.875 \nQ 39.703125 55.765625 41.0625 55.515625 \nz\n\" id=\"DejaVuSans-114\"/>\n       <path d=\"M 56.203125 29.59375 \nL 56.203125 25.203125 \nL 14.890625 25.203125 \nQ 15.484375 15.921875 20.484375 11.0625 \nQ 25.484375 6.203125 34.421875 6.203125 \nQ 39.59375 6.203125 44.453125 7.46875 \nQ 49.3125 8.734375 54.109375 11.28125 \nL 54.109375 2.78125 \nQ 49.265625 0.734375 44.1875 -0.34375 \nQ 39.109375 -1.421875 33.890625 -1.421875 \nQ 20.796875 -1.421875 13.15625 6.1875 \nQ 5.515625 13.8125 5.515625 26.8125 \nQ 5.515625 40.234375 12.765625 48.109375 \nQ 20.015625 56 32.328125 56 \nQ 43.359375 56 49.78125 48.890625 \nQ 56.203125 41.796875 56.203125 29.59375 \nz\nM 47.21875 32.234375 \nQ 47.125 39.59375 43.09375 43.984375 \nQ 39.0625 48.390625 32.421875 48.390625 \nQ 24.90625 48.390625 20.390625 44.140625 \nQ 15.875 39.890625 15.1875 32.171875 \nz\n\" id=\"DejaVuSans-101\"/>\n       <path d=\"M 54.890625 33.015625 \nL 54.890625 0 \nL 45.90625 0 \nL 45.90625 32.71875 \nQ 45.90625 40.484375 42.875 44.328125 \nQ 39.84375 48.1875 33.796875 48.1875 \nQ 26.515625 48.1875 22.3125 43.546875 \nQ 18.109375 38.921875 18.109375 30.90625 \nL 18.109375 0 \nL 9.078125 0 \nL 9.078125 54.6875 \nL 18.109375 54.6875 \nL 18.109375 46.1875 \nQ 21.34375 51.125 25.703125 53.5625 \nQ 30.078125 56 35.796875 56 \nQ 45.21875 56 50.046875 50.171875 \nQ 54.890625 44.34375 54.890625 33.015625 \nz\n\" id=\"DejaVuSans-110\"/>\n       <path d=\"M 31 75.875 \nQ 24.46875 64.65625 21.28125 53.65625 \nQ 18.109375 42.671875 18.109375 31.390625 \nQ 18.109375 20.125 21.3125 9.0625 \nQ 24.515625 -2 31 -13.1875 \nL 23.1875 -13.1875 \nQ 15.875 -1.703125 12.234375 9.375 \nQ 8.59375 20.453125 8.59375 31.390625 \nQ 8.59375 42.28125 12.203125 53.3125 \nQ 15.828125 64.359375 23.1875 75.875 \nz\n\" id=\"DejaVuSans-40\"/>\n       <path d=\"M 44.28125 53.078125 \nL 44.28125 44.578125 \nQ 40.484375 46.53125 36.375 47.5 \nQ 32.28125 48.484375 27.875 48.484375 \nQ 21.1875 48.484375 17.84375 46.4375 \nQ 14.5 44.390625 14.5 40.28125 \nQ 14.5 37.15625 16.890625 35.375 \nQ 19.28125 33.59375 26.515625 31.984375 \nL 29.59375 31.296875 \nQ 39.15625 29.25 43.1875 25.515625 \nQ 47.21875 21.78125 47.21875 15.09375 \nQ 47.21875 7.46875 41.1875 3.015625 \nQ 35.15625 -1.421875 24.609375 -1.421875 \nQ 20.21875 -1.421875 15.453125 -0.5625 \nQ 10.6875 0.296875 5.421875 2 \nL 5.421875 11.28125 \nQ 10.40625 8.6875 15.234375 7.390625 \nQ 20.0625 6.109375 24.8125 6.109375 \nQ 31.15625 6.109375 34.5625 8.28125 \nQ 37.984375 10.453125 37.984375 14.40625 \nQ 37.984375 18.0625 35.515625 20.015625 \nQ 33.0625 21.96875 24.703125 23.78125 \nL 21.578125 24.515625 \nQ 13.234375 26.265625 9.515625 29.90625 \nQ 5.8125 33.546875 5.8125 39.890625 \nQ 5.8125 47.609375 11.28125 51.796875 \nQ 16.75 56 26.8125 56 \nQ 31.78125 56 36.171875 55.265625 \nQ 40.578125 54.546875 44.28125 53.078125 \nz\n\" id=\"DejaVuSans-115\"/>\n       <path d=\"M 8.015625 75.875 \nL 15.828125 75.875 \nQ 23.140625 64.359375 26.78125 53.3125 \nQ 30.421875 42.28125 30.421875 31.390625 \nQ 30.421875 20.453125 26.78125 9.375 \nQ 23.140625 -1.703125 15.828125 -13.1875 \nL 8.015625 -13.1875 \nQ 14.5 -2 17.703125 9.0625 \nQ 20.90625 20.125 20.90625 31.390625 \nQ 20.90625 42.671875 17.703125 53.65625 \nQ 14.5 64.65625 8.015625 75.875 \nz\n\" id=\"DejaVuSans-41\"/>\n      </defs>\n      <use xlink:href=\"#DejaVuSans-84\"/>\n      <use x=\"44.083984\" xlink:href=\"#DejaVuSans-111\"/>\n      <use x=\"105.265625\" xlink:href=\"#DejaVuSans-116\"/>\n      <use x=\"144.474609\" xlink:href=\"#DejaVuSans-97\"/>\n      <use x=\"205.753906\" xlink:href=\"#DejaVuSans-108\"/>\n      <use x=\"233.537109\" xlink:href=\"#DejaVuSans-32\"/>\n      <use x=\"265.324219\" xlink:href=\"#DejaVuSans-67\"/>\n      <use x=\"335.148438\" xlink:href=\"#DejaVuSans-111\"/>\n      <use x=\"396.330078\" xlink:href=\"#DejaVuSans-114\"/>\n      <use x=\"435.693359\" xlink:href=\"#DejaVuSans-114\"/>\n      <use x=\"474.556641\" xlink:href=\"#DejaVuSans-101\"/>\n      <use x=\"536.080078\" xlink:href=\"#DejaVuSans-108\"/>\n      <use x=\"563.863281\" xlink:href=\"#DejaVuSans-97\"/>\n      <use x=\"625.142578\" xlink:href=\"#DejaVuSans-116\"/>\n      <use x=\"664.351562\" xlink:href=\"#DejaVuSans-105\"/>\n      <use x=\"692.134766\" xlink:href=\"#DejaVuSans-111\"/>\n      <use x=\"753.316406\" xlink:href=\"#DejaVuSans-110\"/>\n      <use x=\"816.695312\" xlink:href=\"#DejaVuSans-32\"/>\n      <use x=\"848.482422\" xlink:href=\"#DejaVuSans-40\"/>\n      <use x=\"887.496094\" xlink:href=\"#DejaVuSans-110\"/>\n      <use x=\"950.875\" xlink:href=\"#DejaVuSans-97\"/>\n      <use x=\"1012.154297\" xlink:href=\"#DejaVuSans-116\"/>\n      <use x=\"1051.363281\" xlink:href=\"#DejaVuSans-115\"/>\n      <use x=\"1103.462891\" xlink:href=\"#DejaVuSans-41\"/>\n     </g>\n    </g>\n   </g>\n   <g id=\"patch_23\">\n    <path d=\"M 49.588125 279 \nL 49.588125 7.2 \n\" style=\"fill:none;stroke:#000000;stroke-linecap:square;stroke-linejoin:miter;stroke-width:0.8;\"/>\n   </g>\n   <g id=\"patch_24\">\n    <path d=\"M 607.588125 279 \nL 607.588125 7.2 \n\" style=\"fill:none;stroke:#000000;stroke-linecap:square;stroke-linejoin:miter;stroke-width:0.8;\"/>\n   </g>\n   <g id=\"patch_25\">\n    <path d=\"M 49.588125 279 \nL 607.588125 279 \n\" style=\"fill:none;stroke:#000000;stroke-linecap:square;stroke-linejoin:miter;stroke-width:0.8;\"/>\n   </g>\n   <g id=\"patch_26\">\n    <path d=\"M 49.588125 7.2 \nL 607.588125 7.2 \n\" style=\"fill:none;stroke:#000000;stroke-linecap:square;stroke-linejoin:miter;stroke-width:0.8;\"/>\n   </g>\n  </g>\n </g>\n <defs>\n  <clipPath id=\"pcab1c0700d\">\n   <rect height=\"271.8\" width=\"558\" x=\"49.588125\" y=\"7.2\"/>\n  </clipPath>\n </defs>\n</svg>\n",
      "image/png": "[encoded data removed]"
     },
     "metadata": {
      "needs_background": "light"
     }
    }
   ],
   "source": [
    "plt.figure(figsize=(10,5))\n",
    "plt.bar(range(model.tcs.shape[0]), model.tcs, color='#4e79a7', width=0.5)\n",
    "plt.xlabel('Topic', fontsize=16)\n",
    "plt.ylabel('Total Correlation (nats)', fontsize=16);"
   ]
  },
  {
   "cell_type": "code",
   "execution_count": 112,
   "metadata": {},
   "outputs": [
    {
     "output_type": "execute_result",
     "data": {
      "text/plain": [
       "                                           Sentences Comment Datetime  \\\n",
       "0  kuma-mon wrote: Because need to handle issues ...           3/2/21   \n",
       "4  kuma-mon wrote: Because need to handle issues ...           3/2/21   \n",
       "5  kuma-mon wrote: Because need to handle issues ...           3/2/21   \n",
       "7  For electricity, use lesser aircon should be o...           3/2/21   \n",
       "8  For me, I'm lucky the company already are usin...           3/2/21   \n",
       "\n",
       "   Textblob_polarity_score  Textblob_subjectivity_score  Vader_neg_score  \\\n",
       "0                 0.061806                     0.607176            0.046   \n",
       "4                -0.025833                     0.550833            0.070   \n",
       "5                -0.042361                     0.521528            0.088   \n",
       "7                 0.250000                     0.500000            0.000   \n",
       "8                 0.333333                     0.833333            0.000   \n",
       "\n",
       "   Vader_neu_score  Vader_pos_score  Vader_compound_score Emotions  \\\n",
       "0            0.845            0.108                0.7272     fear   \n",
       "4            0.816            0.114                0.7098  sadness   \n",
       "5            0.793            0.119                0.6133  sadness   \n",
       "7            0.879            0.121                0.2960    anger   \n",
       "8            0.909            0.091                0.4215    anger   \n",
       "\n",
       "             Topic  ...  topic_11 topic_12  topic_13  topic_14  topic_15  \\\n",
       "0  Circuit Breaker  ...       0.0      0.0       1.0       0.0       0.0   \n",
       "4  Circuit Breaker  ...       0.0      0.0       1.0       0.0       0.0   \n",
       "5  Circuit Breaker  ...       0.0      0.0       1.0       0.0       0.0   \n",
       "7  Circuit Breaker  ...       0.0      0.0       1.0       0.0       0.0   \n",
       "8  Circuit Breaker  ...       0.0      0.0       1.0       0.0       0.0   \n",
       "\n",
       "   topic_16  topic_17  topic_18  topic_19  topic_20  \n",
       "0       0.0       0.0       0.0       0.0       0.0  \n",
       "4       0.0       0.0       0.0       0.0       0.0  \n",
       "5       0.0       0.0       0.0       0.0       0.0  \n",
       "7       0.0       0.0       0.0       0.0       0.0  \n",
       "8       0.0       0.0       0.0       0.0       0.0  \n",
       "\n",
       "[5 rows x 32 columns]"
      ],
      "text/html": "<div>\n<style scoped>\n    .dataframe tbody tr th:only-of-type {\n        vertical-align: middle;\n    }\n\n    .dataframe tbody tr th {\n        vertical-align: top;\n    }\n\n    .dataframe thead th {\n        text-align: right;\n    }\n</style>\n<table border=\"1\" class=\"dataframe\">\n  <thead>\n    <tr style=\"text-align: right;\">\n      <th></th>\n      <th>Sentences</th>\n      <th>Comment Datetime</th>\n      <th>Textblob_polarity_score</th>\n      <th>Textblob_subjectivity_score</th>\n      <th>Vader_neg_score</th>\n      <th>Vader_neu_score</th>\n      <th>Vader_pos_score</th>\n      <th>Vader_compound_score</th>\n      <th>Emotions</th>\n      <th>Topic</th>\n      <th>...</th>\n      <th>topic_11</th>\n      <th>topic_12</th>\n      <th>topic_13</th>\n      <th>topic_14</th>\n      <th>topic_15</th>\n      <th>topic_16</th>\n      <th>topic_17</th>\n      <th>topic_18</th>\n      <th>topic_19</th>\n      <th>topic_20</th>\n    </tr>\n  </thead>\n  <tbody>\n    <tr>\n      <th>0</th>\n      <td>kuma-mon wrote: Because need to handle issues ...</td>\n      <td>3/2/21</td>\n      <td>0.061806</td>\n      <td>0.607176</td>\n      <td>0.046</td>\n      <td>0.845</td>\n      <td>0.108</td>\n      <td>0.7272</td>\n      <td>fear</td>\n      <td>Circuit Breaker</td>\n      <td>...</td>\n      <td>0.0</td>\n      <td>0.0</td>\n      <td>1.0</td>\n      <td>0.0</td>\n      <td>0.0</td>\n      <td>0.0</td>\n      <td>0.0</td>\n      <td>0.0</td>\n      <td>0.0</td>\n      <td>0.0</td>\n    </tr>\n    <tr>\n      <th>4</th>\n      <td>kuma-mon wrote: Because need to handle issues ...</td>\n      <td>3/2/21</td>\n      <td>-0.025833</td>\n      <td>0.550833</td>\n      <td>0.070</td>\n      <td>0.816</td>\n      <td>0.114</td>\n      <td>0.7098</td>\n      <td>sadness</td>\n      <td>Circuit Breaker</td>\n      <td>...</td>\n      <td>0.0</td>\n      <td>0.0</td>\n      <td>1.0</td>\n      <td>0.0</td>\n      <td>0.0</td>\n      <td>0.0</td>\n      <td>0.0</td>\n      <td>0.0</td>\n      <td>0.0</td>\n      <td>0.0</td>\n    </tr>\n    <tr>\n      <th>5</th>\n      <td>kuma-mon wrote: Because need to handle issues ...</td>\n      <td>3/2/21</td>\n      <td>-0.042361</td>\n      <td>0.521528</td>\n      <td>0.088</td>\n      <td>0.793</td>\n      <td>0.119</td>\n      <td>0.6133</td>\n      <td>sadness</td>\n      <td>Circuit Breaker</td>\n      <td>...</td>\n      <td>0.0</td>\n      <td>0.0</td>\n      <td>1.0</td>\n      <td>0.0</td>\n      <td>0.0</td>\n      <td>0.0</td>\n      <td>0.0</td>\n      <td>0.0</td>\n      <td>0.0</td>\n      <td>0.0</td>\n    </tr>\n    <tr>\n      <th>7</th>\n      <td>For electricity, use lesser aircon should be o...</td>\n      <td>3/2/21</td>\n      <td>0.250000</td>\n      <td>0.500000</td>\n      <td>0.000</td>\n      <td>0.879</td>\n      <td>0.121</td>\n      <td>0.2960</td>\n      <td>anger</td>\n      <td>Circuit Breaker</td>\n      <td>...</td>\n      <td>0.0</td>\n      <td>0.0</td>\n      <td>1.0</td>\n      <td>0.0</td>\n      <td>0.0</td>\n      <td>0.0</td>\n      <td>0.0</td>\n      <td>0.0</td>\n      <td>0.0</td>\n      <td>0.0</td>\n    </tr>\n    <tr>\n      <th>8</th>\n      <td>For me, I'm lucky the company already are usin...</td>\n      <td>3/2/21</td>\n      <td>0.333333</td>\n      <td>0.833333</td>\n      <td>0.000</td>\n      <td>0.909</td>\n      <td>0.091</td>\n      <td>0.4215</td>\n      <td>anger</td>\n      <td>Circuit Breaker</td>\n      <td>...</td>\n      <td>0.0</td>\n      <td>0.0</td>\n      <td>1.0</td>\n      <td>0.0</td>\n      <td>0.0</td>\n      <td>0.0</td>\n      <td>0.0</td>\n      <td>0.0</td>\n      <td>0.0</td>\n      <td>0.0</td>\n    </tr>\n  </tbody>\n</table>\n<p>5 rows × 32 columns</p>\n</div>"
     },
     "metadata": {},
     "execution_count": 112
    }
   ],
   "source": [
    "topic_df = pd.DataFrame(model.transform(tfidf), columns=[\"topic_{}\".format(i+1) for i in range (20)]).astype(float)\n",
    "topic_df.index = cb_df.index\n",
    "df = pd.concat([cb_df, topic_df], axis=1)\n",
    "df.head()"
   ]
  },
  {
   "cell_type": "code",
   "execution_count": 113,
   "metadata": {},
   "outputs": [],
   "source": [
    "df.to_csv('/Users/chenjianyu/Desktop/Corex Topic Modelling/cb_valuable_corex_topics.csv')"
   ]
  },
  {
   "cell_type": "code",
   "execution_count": 114,
   "metadata": {},
   "outputs": [],
   "source": [
    "topics_dict = {}\n",
    "\n",
    "for i in range(20):\n",
    "    topics_dict[f'topic{i}'] = {}\n",
    "    topic = df[df[f'topic_{i+1}'] == 1.0]\n",
    "    pos_count = df_topic0[df_topic0['Vader_compound_score'] >= 0.1]\n",
    "    neg_count = df_topic0[df_topic0['Vader_compound_score'] <= -0.01]\n",
    "    emotions_count = list(df_topic0['Emotions'].value_counts())\n",
    "\n",
    "    topics_dict[f'topic{i}']['positive'] = len(pos_count)\n",
    "    topics_dict[f'topic{i}']['negative'] = len(neg_count)\n",
    "    topics_dict[f'topic{i}']['emotions'] = {\n",
    "        'anger': emotions_count[0],\n",
    "        'fear': emotions_count[1],\n",
    "        'joy': emotions_count[2],\n",
    "        'neutral': emotions_count[3],\n",
    "        'sadness': emotions_count[4]\n",
    "        }\n",
    "\n",
    "topics_dict['anchors'] = anchors\n",
    "topics_dict['top_words'] = top_words\n",
    "    \n",
    "pickle.dump(topics_dict, open('cb_topic_counts.sav', 'wb'))\n",
    "# x = pickle.load(open('cb_topic_counts.sav', 'rb'))"
   ]
  },
  {
   "source": [
    "# Economic Measures"
   ],
   "cell_type": "markdown",
   "metadata": {}
  },
  {
   "cell_type": "code",
   "execution_count": 121,
   "metadata": {},
   "outputs": [
    {
     "output_type": "execute_result",
     "data": {
      "text/plain": [
       "1374"
      ]
     },
     "metadata": {},
     "execution_count": 121
    }
   ],
   "source": [
    "em_df = pd.read_csv(f'{parent_path}/Data/Sentiment Data/economic measures_valuable_opinions.csv')\n",
    "em_df.drop(columns=['Unnamed: 0', 'index'], inplace=True)\n",
    "em_df['Topic'] = 'Economic Measures'\n",
    "len(em_df)"
   ]
  },
  {
   "cell_type": "code",
   "execution_count": 122,
   "metadata": {},
   "outputs": [],
   "source": [
    "corpus = PlaintextCorpusReader('/Users/chenjianyu/Library/Mobile Documents/com~apple~CloudDocs/SMU/SMU Module Materials/Y2S2/SMT203 Computational Social Sci/Covid-19-Singapore-Analysis/Data/Policy Documents', '.+\\.txt', encoding='utf-8')\n",
    "fid = corpus.fileids()\n",
    "fid.sort()\n",
    "\n",
    "doc_words = [corpus.words(f) for f in fid]\n",
    "\n",
    "    ## Splitting the labelled data to its own policy/topic\n",
    "# circuit_breaker_comments = cb_df[cb_df['Topic'] == 'Circuit Breaker']\n",
    "economic_measures_comments = em_df[em_df['Topic'] == 'Economic Measures']\n",
    "# foreign_worker_comments = cb_df[cb_df['Topic'] == 'Foreign Worker']\n",
    "# mask_comments = cb_df[cb_df['Topic'] == 'Mask']\n",
    "# phases_comments = cb_df[cb_df['Topic'] == 'Phases']\n",
    "# safe_entry_comments = cb_df[cb_df['Topic'] == 'Safe Entry']\n",
    "# social_distancing_comments = cb_df[cb_df['Topic'] == 'Social Distancing']\n",
    "# stay_home_notice_comments = cb_df[cb_df['Topic'] == 'Stay Home Notice']\n",
    "# tracetogether_comments = em_df[em_df['Topic'] == 'Tracetogether']\n",
    "# vaccination_comments = cb_df[cb_df['Topic'] == 'Vaccination']\n",
    "comments = [economic_measures_comments]\n",
    "# comments = [circuit_breaker_comments, economic_measures_comments ,foreign_worker_comments, mask_comments, phases_comments, safe_entry_comments, social_distancing_comments, stay_home_notice_comments, tracetogether_comments, vaccination_comments]\n",
    "\n",
    "    ## Calculating KL-divergence relevance score for each comment to its respective policy topic\n",
    "for i in range(len(comments)):\n",
    "    doc_unigram, doc_nouns = topic_doc_unigram(doc_words[i], k=1)\n",
    "    relavance_scores = []\n",
    "    for row in em_df['Sentences']:\n",
    "        cmt_unigram, cmt_nouns = comment_unigram(row, k=1)\n",
    "        score = KLDiv_relevance_score(doc_unigram, cmt_unigram, doc_nouns, cmt_nouns)\n",
    "        relavance_scores.append(score)\n",
    "    comments[i]['Relevance score'] = relavance_scores\n",
    "\n",
    "df_final = pd.concat(comments, ignore_index=True)"
   ]
  },
  {
   "cell_type": "code",
   "execution_count": 123,
   "metadata": {},
   "outputs": [
    {
     "output_type": "execute_result",
     "data": {
      "text/plain": [
       "count    1374.000000\n",
       "mean       45.657626\n",
       "std        68.257673\n",
       "min         1.359935\n",
       "25%        15.463359\n",
       "50%        26.407151\n",
       "75%        55.383696\n",
       "max       408.447008\n",
       "Name: Relevance score, dtype: float64"
      ]
     },
     "metadata": {},
     "execution_count": 123
    }
   ],
   "source": [
    "df_final['Relevance score'].describe()"
   ]
  },
  {
   "cell_type": "code",
   "execution_count": 124,
   "metadata": {},
   "outputs": [
    {
     "output_type": "execute_result",
     "data": {
      "text/plain": [
       "477"
      ]
     },
     "metadata": {},
     "execution_count": 124
    }
   ],
   "source": [
    "em_df = df_final[df_final['Relevance score'] <= 20]\n",
    "len(em_df)"
   ]
  },
  {
   "cell_type": "code",
   "execution_count": 125,
   "metadata": {},
   "outputs": [
    {
     "output_type": "stream",
     "name": "stderr",
     "text": [
      "<ipython-input-125-1f63f3ad2eb9>:16: SettingWithCopyWarning: \nA value is trying to be set on a copy of a slice from a DataFrame.\nTry using .loc[row_indexer,col_indexer] = value instead\n\nSee the caveats in the documentation: https://pandas.pydata.org/pandas-docs/stable/user_guide/indexing.html#returning-a-view-versus-a-copy\n  em_df['Comments'] = comments\n"
     ]
    }
   ],
   "source": [
    "eng_words = words.words()\n",
    "comments = []\n",
    "i = 0\n",
    "for row in em_df['Sentences']:\n",
    "    text = remove_hashtag_mentions_urls(row)\n",
    "    text_tokenize = TweetTokenizer().tokenize(text)\n",
    "    text_lower = [w.lower() for w in text_tokenize]\n",
    "    text_words_only = [w for w in text_lower if re.search('^[a-z]+$',w)]\n",
    "    text_eng_words = [w for w in text_words_only if w in eng_words]\n",
    "    text_drop_2letters = [w for w in text_eng_words if len(w) > 2]\n",
    "    text_joined = ' '.join(text_drop_2letters)\n",
    "    comments.append(text_joined)\n",
    "    # print(i)\n",
    "    i+=1\n",
    "\n",
    "em_df['Comments'] = comments"
   ]
  },
  {
   "cell_type": "code",
   "execution_count": 126,
   "metadata": {},
   "outputs": [
    {
     "output_type": "execute_result",
     "data": {
      "text/plain": [
       "5932"
      ]
     },
     "metadata": {},
     "execution_count": 126
    }
   ],
   "source": [
    "vectorizer = TfidfVectorizer(ngram_range=(1, 2), stop_words='english', max_df=0.5)\n",
    "vectorizer = vectorizer.fit(em_df['Comments'])\n",
    "tfidf = vectorizer.transform(em_df['Comments'])\n",
    "vocab = vectorizer.get_feature_names()\n",
    "len(vocab)"
   ]
  },
  {
   "cell_type": "code",
   "execution_count": 137,
   "metadata": {},
   "outputs": [],
   "source": [
    "anchors = [\n",
    "    ['job support', 'job security', 'singapore traineeship', 'traineeship', 'support scheme', 'worker', 'untalented', 'tier', 'adapt', 'innovate'],\n",
    "    ['tourism', 'borders', 'travel bubble', 'tourism industry', 'rediscover voucher'], \n",
    "    ['package', 'families', 'funds', 'cash payment', 'cash', 'household', 'poor', 'lower income', 'vouchers'],\n",
    "    ['business', 'business closed', 'grants', 'scheme', 'close down']\n",
    "]\n",
    "anchors = [\n",
    "    [a for a in topic if a in vocab] for topic in anchors\n",
    "]\n",
    "\n",
    "model = ct.Corex(n_hidden = 12, seed = 8)\n",
    "model = model.fit(tfidf, words = vocab, anchors = anchors, anchor_strength=7)\n",
    "# model.get_topics(topic=0, n_words=10)"
   ]
  },
  {
   "cell_type": "code",
   "execution_count": 138,
   "metadata": {},
   "outputs": [
    {
     "output_type": "stream",
     "name": "stdout",
     "text": [
      "Topic #1: untalented, worker, innovate, adapt, channel, visit, led, elderly, parent, important\n\nTopic #2: tourism, tourism industry, cover hospital, adjust, hospital, wear mask, wear, health latest, latest private, ministry health\n\nTopic #3: household, package, cash, significant, million, dos, provided, parking, reserve, significant government\n\nTopic #4: business, scheme, deputy prime, deputy, smart, transformation, transformation smart, margin, margin easily, business large\n\nTopic #5: majority senior, majority, decision open, decision, senior, groom majority, huge tax, giving huge, hire groom, large hire\n\nTopic #6: counter instance, instance\n\nTopic #7: morning, good morning, morning lee, lee, high growth, training high, yes thank, lee yes, thank cover, cover photo\n\nTopic #8: \n\nTopic #9: reduced, significantly, let, subsidy, significantly reduced, circuit, breaker, circuit breaker, let withdraw, like let\n\nTopic #10: high pay, blame, corruption, culture, justify, globe, world globe, covid world, begun soon, income begun\n\nTopic #11: \n\nTopic #12: pandemic said, said immune\n\n"
     ]
    }
   ],
   "source": [
    "for i, topic_ngrams in enumerate(model.get_topics()):\n",
    "    topic_ngrams = [ngram[0] for ngram in topic_ngrams if ngram[1] > 0]\n",
    "    print(\"Topic #{}: {}\".format(i+1, \", \".join(topic_ngrams)))\n",
    "    print()"
   ]
  },
  {
   "cell_type": "code",
   "execution_count": 139,
   "metadata": {},
   "outputs": [
    {
     "output_type": "display_data",
     "data": {
      "text/plain": "<Figure size 720x360 with 1 Axes>",
      "image/svg+xml": "<?xml version=\"1.0\" encoding=\"utf-8\" standalone=\"no\"?>\n<!DOCTYPE svg PUBLIC \"-//W3C//DTD SVG 1.1//EN\"\n  \"http://www.w3.org/Graphics/SVG/1.1/DTD/svg11.dtd\">\n<!-- Created with matplotlib (https://matplotlib.org/) -->\n<svg height=\"322.363125pt\" version=\"1.1\" viewBox=\"0 0 614.788125 322.363125\" width=\"614.788125pt\" xmlns=\"http://www.w3.org/2000/svg\" xmlns:xlink=\"http://www.w3.org/1999/xlink\">\n <metadata>\n  <rdf:RDF xmlns:cc=\"http://creativecommons.org/ns#\" xmlns:dc=\"http://purl.org/dc/elements/1.1/\" xmlns:rdf=\"http://www.w3.org/1999/02/22-rdf-syntax-ns#\">\n   <cc:Work>\n    <dc:type rdf:resource=\"http://purl.org/dc/dcmitype/StillImage\"/>\n    <dc:date>2021-03-25T00:56:09.130368</dc:date>\n    <dc:format>image/svg+xml</dc:format>\n    <dc:creator>\n     <cc:Agent>\n      <dc:title>Matplotlib v3.3.3, https://matplotlib.org/</dc:title>\n     </cc:Agent>\n    </dc:creator>\n   </cc:Work>\n  </rdf:RDF>\n </metadata>\n <defs>\n  <style type=\"text/css\">*{stroke-linecap:butt;stroke-linejoin:round;}</style>\n </defs>\n <g id=\"figure_1\">\n  <g id=\"patch_1\">\n   <path d=\"M 0 322.363125 \nL 614.788125 322.363125 \nL 614.788125 0 \nL 0 0 \nz\n\" style=\"fill:none;\"/>\n  </g>\n  <g id=\"axes_1\">\n   <g id=\"patch_2\">\n    <path d=\"M 49.588125 279 \nL 607.588125 279 \nL 607.588125 7.2 \nL 49.588125 7.2 \nz\n\" style=\"fill:#ffffff;\"/>\n   </g>\n   <g id=\"patch_3\">\n    <path clip-path=\"url(#p5697b9f4ea)\" d=\"M 74.951761 279 \nL 97.007097 279 \nL 97.007097 57.742355 \nL 74.951761 57.742355 \nz\n\" style=\"fill:#4e79a7;\"/>\n   </g>\n   <g id=\"patch_4\">\n    <path clip-path=\"url(#p5697b9f4ea)\" d=\"M 119.062433 279 \nL 141.117769 279 \nL 141.117769 74.091426 \nL 119.062433 74.091426 \nz\n\" style=\"fill:#4e79a7;\"/>\n   </g>\n   <g id=\"patch_5\">\n    <path clip-path=\"url(#p5697b9f4ea)\" d=\"M 163.173105 279 \nL 185.228441 279 \nL 185.228441 61.450115 \nL 163.173105 61.450115 \nz\n\" style=\"fill:#4e79a7;\"/>\n   </g>\n   <g id=\"patch_6\">\n    <path clip-path=\"url(#p5697b9f4ea)\" d=\"M 207.283777 279 \nL 229.339113 279 \nL 229.339113 20.142857 \nL 207.283777 20.142857 \nz\n\" style=\"fill:#4e79a7;\"/>\n   </g>\n   <g id=\"patch_7\">\n    <path clip-path=\"url(#p5697b9f4ea)\" d=\"M 251.394449 279 \nL 273.449785 279 \nL 273.449785 210.587984 \nL 251.394449 210.587984 \nz\n\" style=\"fill:#4e79a7;\"/>\n   </g>\n   <g id=\"patch_8\">\n    <path clip-path=\"url(#p5697b9f4ea)\" d=\"M 295.505121 279 \nL 317.560457 279 \nL 317.560457 278.665874 \nL 295.505121 278.665874 \nz\n\" style=\"fill:#4e79a7;\"/>\n   </g>\n   <g id=\"patch_9\">\n    <path clip-path=\"url(#p5697b9f4ea)\" d=\"M 339.615793 279 \nL 361.671129 279 \nL 361.671129 253.004484 \nL 339.615793 253.004484 \nz\n\" style=\"fill:#4e79a7;\"/>\n   </g>\n   <g id=\"patch_10\">\n    <path clip-path=\"url(#p5697b9f4ea)\" d=\"M 383.726465 279 \nL 405.781801 279 \nL 405.781801 278.844424 \nL 383.726465 278.844424 \nz\n\" style=\"fill:#4e79a7;\"/>\n   </g>\n   <g id=\"patch_11\">\n    <path clip-path=\"url(#p5697b9f4ea)\" d=\"M 427.837137 279 \nL 449.892473 279 \nL 449.892473 160.086159 \nL 427.837137 160.086159 \nz\n\" style=\"fill:#4e79a7;\"/>\n   </g>\n   <g id=\"patch_12\">\n    <path clip-path=\"url(#p5697b9f4ea)\" d=\"M 471.947809 279 \nL 494.003145 279 \nL 494.003145 214.489847 \nL 471.947809 214.489847 \nz\n\" style=\"fill:#4e79a7;\"/>\n   </g>\n   <g id=\"patch_13\">\n    <path clip-path=\"url(#p5697b9f4ea)\" d=\"M 516.058481 279 \nL 538.113817 279 \nL 538.113817 278.854858 \nL 516.058481 278.854858 \nz\n\" style=\"fill:#4e79a7;\"/>\n   </g>\n   <g id=\"patch_14\">\n    <path clip-path=\"url(#p5697b9f4ea)\" d=\"M 560.169153 279 \nL 582.224489 279 \nL 582.224489 278.504135 \nL 560.169153 278.504135 \nz\n\" style=\"fill:#4e79a7;\"/>\n   </g>\n   <g id=\"matplotlib.axis_1\">\n    <g id=\"xtick_1\">\n     <g id=\"line2d_1\">\n      <defs>\n       <path d=\"M 0 0 \nL 0 3.5 \n\" id=\"m100462f7b0\" style=\"stroke:#000000;stroke-width:0.8;\"/>\n      </defs>\n      <g>\n       <use style=\"stroke:#000000;stroke-width:0.8;\" x=\"85.979429\" xlink:href=\"#m100462f7b0\" y=\"279\"/>\n      </g>\n     </g>\n     <g id=\"text_1\">\n      <!-- 0 -->\n      <g transform=\"translate(82.798179 293.598438)scale(0.1 -0.1)\">\n       <defs>\n        <path d=\"M 31.78125 66.40625 \nQ 24.171875 66.40625 20.328125 58.90625 \nQ 16.5 51.421875 16.5 36.375 \nQ 16.5 21.390625 20.328125 13.890625 \nQ 24.171875 6.390625 31.78125 6.390625 \nQ 39.453125 6.390625 43.28125 13.890625 \nQ 47.125 21.390625 47.125 36.375 \nQ 47.125 51.421875 43.28125 58.90625 \nQ 39.453125 66.40625 31.78125 66.40625 \nz\nM 31.78125 74.21875 \nQ 44.046875 74.21875 50.515625 64.515625 \nQ 56.984375 54.828125 56.984375 36.375 \nQ 56.984375 17.96875 50.515625 8.265625 \nQ 44.046875 -1.421875 31.78125 -1.421875 \nQ 19.53125 -1.421875 13.0625 8.265625 \nQ 6.59375 17.96875 6.59375 36.375 \nQ 6.59375 54.828125 13.0625 64.515625 \nQ 19.53125 74.21875 31.78125 74.21875 \nz\n\" id=\"DejaVuSans-48\"/>\n       </defs>\n       <use xlink:href=\"#DejaVuSans-48\"/>\n      </g>\n     </g>\n    </g>\n    <g id=\"xtick_2\">\n     <g id=\"line2d_2\">\n      <g>\n       <use style=\"stroke:#000000;stroke-width:0.8;\" x=\"174.200773\" xlink:href=\"#m100462f7b0\" y=\"279\"/>\n      </g>\n     </g>\n     <g id=\"text_2\">\n      <!-- 2 -->\n      <g transform=\"translate(171.019523 293.598438)scale(0.1 -0.1)\">\n       <defs>\n        <path d=\"M 19.1875 8.296875 \nL 53.609375 8.296875 \nL 53.609375 0 \nL 7.328125 0 \nL 7.328125 8.296875 \nQ 12.9375 14.109375 22.625 23.890625 \nQ 32.328125 33.6875 34.8125 36.53125 \nQ 39.546875 41.84375 41.421875 45.53125 \nQ 43.3125 49.21875 43.3125 52.78125 \nQ 43.3125 58.59375 39.234375 62.25 \nQ 35.15625 65.921875 28.609375 65.921875 \nQ 23.96875 65.921875 18.8125 64.3125 \nQ 13.671875 62.703125 7.8125 59.421875 \nL 7.8125 69.390625 \nQ 13.765625 71.78125 18.9375 73 \nQ 24.125 74.21875 28.421875 74.21875 \nQ 39.75 74.21875 46.484375 68.546875 \nQ 53.21875 62.890625 53.21875 53.421875 \nQ 53.21875 48.921875 51.53125 44.890625 \nQ 49.859375 40.875 45.40625 35.40625 \nQ 44.1875 33.984375 37.640625 27.21875 \nQ 31.109375 20.453125 19.1875 8.296875 \nz\n\" id=\"DejaVuSans-50\"/>\n       </defs>\n       <use xlink:href=\"#DejaVuSans-50\"/>\n      </g>\n     </g>\n    </g>\n    <g id=\"xtick_3\">\n     <g id=\"line2d_3\">\n      <g>\n       <use style=\"stroke:#000000;stroke-width:0.8;\" x=\"262.422117\" xlink:href=\"#m100462f7b0\" y=\"279\"/>\n      </g>\n     </g>\n     <g id=\"text_3\">\n      <!-- 4 -->\n      <g transform=\"translate(259.240867 293.598438)scale(0.1 -0.1)\">\n       <defs>\n        <path d=\"M 37.796875 64.3125 \nL 12.890625 25.390625 \nL 37.796875 25.390625 \nz\nM 35.203125 72.90625 \nL 47.609375 72.90625 \nL 47.609375 25.390625 \nL 58.015625 25.390625 \nL 58.015625 17.1875 \nL 47.609375 17.1875 \nL 47.609375 0 \nL 37.796875 0 \nL 37.796875 17.1875 \nL 4.890625 17.1875 \nL 4.890625 26.703125 \nz\n\" id=\"DejaVuSans-52\"/>\n       </defs>\n       <use xlink:href=\"#DejaVuSans-52\"/>\n      </g>\n     </g>\n    </g>\n    <g id=\"xtick_4\">\n     <g id=\"line2d_4\">\n      <g>\n       <use style=\"stroke:#000000;stroke-width:0.8;\" x=\"350.643461\" xlink:href=\"#m100462f7b0\" y=\"279\"/>\n      </g>\n     </g>\n     <g id=\"text_4\">\n      <!-- 6 -->\n      <g transform=\"translate(347.462211 293.598438)scale(0.1 -0.1)\">\n       <defs>\n        <path d=\"M 33.015625 40.375 \nQ 26.375 40.375 22.484375 35.828125 \nQ 18.609375 31.296875 18.609375 23.390625 \nQ 18.609375 15.53125 22.484375 10.953125 \nQ 26.375 6.390625 33.015625 6.390625 \nQ 39.65625 6.390625 43.53125 10.953125 \nQ 47.40625 15.53125 47.40625 23.390625 \nQ 47.40625 31.296875 43.53125 35.828125 \nQ 39.65625 40.375 33.015625 40.375 \nz\nM 52.59375 71.296875 \nL 52.59375 62.3125 \nQ 48.875 64.0625 45.09375 64.984375 \nQ 41.3125 65.921875 37.59375 65.921875 \nQ 27.828125 65.921875 22.671875 59.328125 \nQ 17.53125 52.734375 16.796875 39.40625 \nQ 19.671875 43.65625 24.015625 45.921875 \nQ 28.375 48.1875 33.59375 48.1875 \nQ 44.578125 48.1875 50.953125 41.515625 \nQ 57.328125 34.859375 57.328125 23.390625 \nQ 57.328125 12.15625 50.6875 5.359375 \nQ 44.046875 -1.421875 33.015625 -1.421875 \nQ 20.359375 -1.421875 13.671875 8.265625 \nQ 6.984375 17.96875 6.984375 36.375 \nQ 6.984375 53.65625 15.1875 63.9375 \nQ 23.390625 74.21875 37.203125 74.21875 \nQ 40.921875 74.21875 44.703125 73.484375 \nQ 48.484375 72.75 52.59375 71.296875 \nz\n\" id=\"DejaVuSans-54\"/>\n       </defs>\n       <use xlink:href=\"#DejaVuSans-54\"/>\n      </g>\n     </g>\n    </g>\n    <g id=\"xtick_5\">\n     <g id=\"line2d_5\">\n      <g>\n       <use style=\"stroke:#000000;stroke-width:0.8;\" x=\"438.864805\" xlink:href=\"#m100462f7b0\" y=\"279\"/>\n      </g>\n     </g>\n     <g id=\"text_5\">\n      <!-- 8 -->\n      <g transform=\"translate(435.683555 293.598438)scale(0.1 -0.1)\">\n       <defs>\n        <path d=\"M 31.78125 34.625 \nQ 24.75 34.625 20.71875 30.859375 \nQ 16.703125 27.09375 16.703125 20.515625 \nQ 16.703125 13.921875 20.71875 10.15625 \nQ 24.75 6.390625 31.78125 6.390625 \nQ 38.8125 6.390625 42.859375 10.171875 \nQ 46.921875 13.96875 46.921875 20.515625 \nQ 46.921875 27.09375 42.890625 30.859375 \nQ 38.875 34.625 31.78125 34.625 \nz\nM 21.921875 38.8125 \nQ 15.578125 40.375 12.03125 44.71875 \nQ 8.5 49.078125 8.5 55.328125 \nQ 8.5 64.0625 14.71875 69.140625 \nQ 20.953125 74.21875 31.78125 74.21875 \nQ 42.671875 74.21875 48.875 69.140625 \nQ 55.078125 64.0625 55.078125 55.328125 \nQ 55.078125 49.078125 51.53125 44.71875 \nQ 48 40.375 41.703125 38.8125 \nQ 48.828125 37.15625 52.796875 32.3125 \nQ 56.78125 27.484375 56.78125 20.515625 \nQ 56.78125 9.90625 50.3125 4.234375 \nQ 43.84375 -1.421875 31.78125 -1.421875 \nQ 19.734375 -1.421875 13.25 4.234375 \nQ 6.78125 9.90625 6.78125 20.515625 \nQ 6.78125 27.484375 10.78125 32.3125 \nQ 14.796875 37.15625 21.921875 38.8125 \nz\nM 18.3125 54.390625 \nQ 18.3125 48.734375 21.84375 45.5625 \nQ 25.390625 42.390625 31.78125 42.390625 \nQ 38.140625 42.390625 41.71875 45.5625 \nQ 45.3125 48.734375 45.3125 54.390625 \nQ 45.3125 60.0625 41.71875 63.234375 \nQ 38.140625 66.40625 31.78125 66.40625 \nQ 25.390625 66.40625 21.84375 63.234375 \nQ 18.3125 60.0625 18.3125 54.390625 \nz\n\" id=\"DejaVuSans-56\"/>\n       </defs>\n       <use xlink:href=\"#DejaVuSans-56\"/>\n      </g>\n     </g>\n    </g>\n    <g id=\"xtick_6\">\n     <g id=\"line2d_6\">\n      <g>\n       <use style=\"stroke:#000000;stroke-width:0.8;\" x=\"527.086149\" xlink:href=\"#m100462f7b0\" y=\"279\"/>\n      </g>\n     </g>\n     <g id=\"text_6\">\n      <!-- 10 -->\n      <g transform=\"translate(520.723649 293.598438)scale(0.1 -0.1)\">\n       <defs>\n        <path d=\"M 12.40625 8.296875 \nL 28.515625 8.296875 \nL 28.515625 63.921875 \nL 10.984375 60.40625 \nL 10.984375 69.390625 \nL 28.421875 72.90625 \nL 38.28125 72.90625 \nL 38.28125 8.296875 \nL 54.390625 8.296875 \nL 54.390625 0 \nL 12.40625 0 \nz\n\" id=\"DejaVuSans-49\"/>\n       </defs>\n       <use xlink:href=\"#DejaVuSans-49\"/>\n       <use x=\"63.623047\" xlink:href=\"#DejaVuSans-48\"/>\n      </g>\n     </g>\n    </g>\n    <g id=\"text_7\">\n     <!-- Topic -->\n     <g transform=\"translate(308.466875 311.835625)scale(0.16 -0.16)\">\n      <defs>\n       <path d=\"M -0.296875 72.90625 \nL 61.375 72.90625 \nL 61.375 64.59375 \nL 35.5 64.59375 \nL 35.5 0 \nL 25.59375 0 \nL 25.59375 64.59375 \nL -0.296875 64.59375 \nz\n\" id=\"DejaVuSans-84\"/>\n       <path d=\"M 30.609375 48.390625 \nQ 23.390625 48.390625 19.1875 42.75 \nQ 14.984375 37.109375 14.984375 27.296875 \nQ 14.984375 17.484375 19.15625 11.84375 \nQ 23.34375 6.203125 30.609375 6.203125 \nQ 37.796875 6.203125 41.984375 11.859375 \nQ 46.1875 17.53125 46.1875 27.296875 \nQ 46.1875 37.015625 41.984375 42.703125 \nQ 37.796875 48.390625 30.609375 48.390625 \nz\nM 30.609375 56 \nQ 42.328125 56 49.015625 48.375 \nQ 55.71875 40.765625 55.71875 27.296875 \nQ 55.71875 13.875 49.015625 6.21875 \nQ 42.328125 -1.421875 30.609375 -1.421875 \nQ 18.84375 -1.421875 12.171875 6.21875 \nQ 5.515625 13.875 5.515625 27.296875 \nQ 5.515625 40.765625 12.171875 48.375 \nQ 18.84375 56 30.609375 56 \nz\n\" id=\"DejaVuSans-111\"/>\n       <path d=\"M 18.109375 8.203125 \nL 18.109375 -20.796875 \nL 9.078125 -20.796875 \nL 9.078125 54.6875 \nL 18.109375 54.6875 \nL 18.109375 46.390625 \nQ 20.953125 51.265625 25.265625 53.625 \nQ 29.59375 56 35.59375 56 \nQ 45.5625 56 51.78125 48.09375 \nQ 58.015625 40.1875 58.015625 27.296875 \nQ 58.015625 14.40625 51.78125 6.484375 \nQ 45.5625 -1.421875 35.59375 -1.421875 \nQ 29.59375 -1.421875 25.265625 0.953125 \nQ 20.953125 3.328125 18.109375 8.203125 \nz\nM 48.6875 27.296875 \nQ 48.6875 37.203125 44.609375 42.84375 \nQ 40.53125 48.484375 33.40625 48.484375 \nQ 26.265625 48.484375 22.1875 42.84375 \nQ 18.109375 37.203125 18.109375 27.296875 \nQ 18.109375 17.390625 22.1875 11.75 \nQ 26.265625 6.109375 33.40625 6.109375 \nQ 40.53125 6.109375 44.609375 11.75 \nQ 48.6875 17.390625 48.6875 27.296875 \nz\n\" id=\"DejaVuSans-112\"/>\n       <path d=\"M 9.421875 54.6875 \nL 18.40625 54.6875 \nL 18.40625 0 \nL 9.421875 0 \nz\nM 9.421875 75.984375 \nL 18.40625 75.984375 \nL 18.40625 64.59375 \nL 9.421875 64.59375 \nz\n\" id=\"DejaVuSans-105\"/>\n       <path d=\"M 48.78125 52.59375 \nL 48.78125 44.1875 \nQ 44.96875 46.296875 41.140625 47.34375 \nQ 37.3125 48.390625 33.40625 48.390625 \nQ 24.65625 48.390625 19.8125 42.84375 \nQ 14.984375 37.3125 14.984375 27.296875 \nQ 14.984375 17.28125 19.8125 11.734375 \nQ 24.65625 6.203125 33.40625 6.203125 \nQ 37.3125 6.203125 41.140625 7.25 \nQ 44.96875 8.296875 48.78125 10.40625 \nL 48.78125 2.09375 \nQ 45.015625 0.34375 40.984375 -0.53125 \nQ 36.96875 -1.421875 32.421875 -1.421875 \nQ 20.0625 -1.421875 12.78125 6.34375 \nQ 5.515625 14.109375 5.515625 27.296875 \nQ 5.515625 40.671875 12.859375 48.328125 \nQ 20.21875 56 33.015625 56 \nQ 37.15625 56 41.109375 55.140625 \nQ 45.0625 54.296875 48.78125 52.59375 \nz\n\" id=\"DejaVuSans-99\"/>\n      </defs>\n      <use xlink:href=\"#DejaVuSans-84\"/>\n      <use x=\"44.083984\" xlink:href=\"#DejaVuSans-111\"/>\n      <use x=\"105.265625\" xlink:href=\"#DejaVuSans-112\"/>\n      <use x=\"168.742188\" xlink:href=\"#DejaVuSans-105\"/>\n      <use x=\"196.525391\" xlink:href=\"#DejaVuSans-99\"/>\n     </g>\n    </g>\n   </g>\n   <g id=\"matplotlib.axis_2\">\n    <g id=\"ytick_1\">\n     <g id=\"line2d_7\">\n      <defs>\n       <path d=\"M 0 0 \nL -3.5 0 \n\" id=\"m503876ba45\" style=\"stroke:#000000;stroke-width:0.8;\"/>\n      </defs>\n      <g>\n       <use style=\"stroke:#000000;stroke-width:0.8;\" x=\"49.588125\" xlink:href=\"#m503876ba45\" y=\"279\"/>\n      </g>\n     </g>\n     <g id=\"text_8\">\n      <!-- 0.0 -->\n      <g transform=\"translate(26.685 282.799219)scale(0.1 -0.1)\">\n       <defs>\n        <path d=\"M 10.6875 12.40625 \nL 21 12.40625 \nL 21 0 \nL 10.6875 0 \nz\n\" id=\"DejaVuSans-46\"/>\n       </defs>\n       <use xlink:href=\"#DejaVuSans-48\"/>\n       <use x=\"63.623047\" xlink:href=\"#DejaVuSans-46\"/>\n       <use x=\"95.410156\" xlink:href=\"#DejaVuSans-48\"/>\n      </g>\n     </g>\n    </g>\n    <g id=\"ytick_2\">\n     <g id=\"line2d_8\">\n      <g>\n       <use style=\"stroke:#000000;stroke-width:0.8;\" x=\"49.588125\" xlink:href=\"#m503876ba45\" y=\"221.368695\"/>\n      </g>\n     </g>\n     <g id=\"text_9\">\n      <!-- 0.1 -->\n      <g transform=\"translate(26.685 225.167914)scale(0.1 -0.1)\">\n       <use xlink:href=\"#DejaVuSans-48\"/>\n       <use x=\"63.623047\" xlink:href=\"#DejaVuSans-46\"/>\n       <use x=\"95.410156\" xlink:href=\"#DejaVuSans-49\"/>\n      </g>\n     </g>\n    </g>\n    <g id=\"ytick_3\">\n     <g id=\"line2d_9\">\n      <g>\n       <use style=\"stroke:#000000;stroke-width:0.8;\" x=\"49.588125\" xlink:href=\"#m503876ba45\" y=\"163.73739\"/>\n      </g>\n     </g>\n     <g id=\"text_10\">\n      <!-- 0.2 -->\n      <g transform=\"translate(26.685 167.536609)scale(0.1 -0.1)\">\n       <use xlink:href=\"#DejaVuSans-48\"/>\n       <use x=\"63.623047\" xlink:href=\"#DejaVuSans-46\"/>\n       <use x=\"95.410156\" xlink:href=\"#DejaVuSans-50\"/>\n      </g>\n     </g>\n    </g>\n    <g id=\"ytick_4\">\n     <g id=\"line2d_10\">\n      <g>\n       <use style=\"stroke:#000000;stroke-width:0.8;\" x=\"49.588125\" xlink:href=\"#m503876ba45\" y=\"106.106086\"/>\n      </g>\n     </g>\n     <g id=\"text_11\">\n      <!-- 0.3 -->\n      <g transform=\"translate(26.685 109.905304)scale(0.1 -0.1)\">\n       <defs>\n        <path d=\"M 40.578125 39.3125 \nQ 47.65625 37.796875 51.625 33 \nQ 55.609375 28.21875 55.609375 21.1875 \nQ 55.609375 10.40625 48.1875 4.484375 \nQ 40.765625 -1.421875 27.09375 -1.421875 \nQ 22.515625 -1.421875 17.65625 -0.515625 \nQ 12.796875 0.390625 7.625 2.203125 \nL 7.625 11.71875 \nQ 11.71875 9.328125 16.59375 8.109375 \nQ 21.484375 6.890625 26.8125 6.890625 \nQ 36.078125 6.890625 40.9375 10.546875 \nQ 45.796875 14.203125 45.796875 21.1875 \nQ 45.796875 27.640625 41.28125 31.265625 \nQ 36.765625 34.90625 28.71875 34.90625 \nL 20.21875 34.90625 \nL 20.21875 43.015625 \nL 29.109375 43.015625 \nQ 36.375 43.015625 40.234375 45.921875 \nQ 44.09375 48.828125 44.09375 54.296875 \nQ 44.09375 59.90625 40.109375 62.90625 \nQ 36.140625 65.921875 28.71875 65.921875 \nQ 24.65625 65.921875 20.015625 65.03125 \nQ 15.375 64.15625 9.8125 62.3125 \nL 9.8125 71.09375 \nQ 15.4375 72.65625 20.34375 73.4375 \nQ 25.25 74.21875 29.59375 74.21875 \nQ 40.828125 74.21875 47.359375 69.109375 \nQ 53.90625 64.015625 53.90625 55.328125 \nQ 53.90625 49.265625 50.4375 45.09375 \nQ 46.96875 40.921875 40.578125 39.3125 \nz\n\" id=\"DejaVuSans-51\"/>\n       </defs>\n       <use xlink:href=\"#DejaVuSans-48\"/>\n       <use x=\"63.623047\" xlink:href=\"#DejaVuSans-46\"/>\n       <use x=\"95.410156\" xlink:href=\"#DejaVuSans-51\"/>\n      </g>\n     </g>\n    </g>\n    <g id=\"ytick_5\">\n     <g id=\"line2d_11\">\n      <g>\n       <use style=\"stroke:#000000;stroke-width:0.8;\" x=\"49.588125\" xlink:href=\"#m503876ba45\" y=\"48.474781\"/>\n      </g>\n     </g>\n     <g id=\"text_12\">\n      <!-- 0.4 -->\n      <g transform=\"translate(26.685 52.274)scale(0.1 -0.1)\">\n       <use xlink:href=\"#DejaVuSans-48\"/>\n       <use x=\"63.623047\" xlink:href=\"#DejaVuSans-46\"/>\n       <use x=\"95.410156\" xlink:href=\"#DejaVuSans-52\"/>\n      </g>\n     </g>\n    </g>\n    <g id=\"text_13\">\n     <!-- Total Correlation (nats) -->\n     <g transform=\"translate(19.3575 234.49625)rotate(-90)scale(0.16 -0.16)\">\n      <defs>\n       <path d=\"M 18.3125 70.21875 \nL 18.3125 54.6875 \nL 36.8125 54.6875 \nL 36.8125 47.703125 \nL 18.3125 47.703125 \nL 18.3125 18.015625 \nQ 18.3125 11.328125 20.140625 9.421875 \nQ 21.96875 7.515625 27.59375 7.515625 \nL 36.8125 7.515625 \nL 36.8125 0 \nL 27.59375 0 \nQ 17.1875 0 13.234375 3.875 \nQ 9.28125 7.765625 9.28125 18.015625 \nL 9.28125 47.703125 \nL 2.6875 47.703125 \nL 2.6875 54.6875 \nL 9.28125 54.6875 \nL 9.28125 70.21875 \nz\n\" id=\"DejaVuSans-116\"/>\n       <path d=\"M 34.28125 27.484375 \nQ 23.390625 27.484375 19.1875 25 \nQ 14.984375 22.515625 14.984375 16.5 \nQ 14.984375 11.71875 18.140625 8.90625 \nQ 21.296875 6.109375 26.703125 6.109375 \nQ 34.1875 6.109375 38.703125 11.40625 \nQ 43.21875 16.703125 43.21875 25.484375 \nL 43.21875 27.484375 \nz\nM 52.203125 31.203125 \nL 52.203125 0 \nL 43.21875 0 \nL 43.21875 8.296875 \nQ 40.140625 3.328125 35.546875 0.953125 \nQ 30.953125 -1.421875 24.3125 -1.421875 \nQ 15.921875 -1.421875 10.953125 3.296875 \nQ 6 8.015625 6 15.921875 \nQ 6 25.140625 12.171875 29.828125 \nQ 18.359375 34.515625 30.609375 34.515625 \nL 43.21875 34.515625 \nL 43.21875 35.40625 \nQ 43.21875 41.609375 39.140625 45 \nQ 35.0625 48.390625 27.6875 48.390625 \nQ 23 48.390625 18.546875 47.265625 \nQ 14.109375 46.140625 10.015625 43.890625 \nL 10.015625 52.203125 \nQ 14.9375 54.109375 19.578125 55.046875 \nQ 24.21875 56 28.609375 56 \nQ 40.484375 56 46.34375 49.84375 \nQ 52.203125 43.703125 52.203125 31.203125 \nz\n\" id=\"DejaVuSans-97\"/>\n       <path d=\"M 9.421875 75.984375 \nL 18.40625 75.984375 \nL 18.40625 0 \nL 9.421875 0 \nz\n\" id=\"DejaVuSans-108\"/>\n       <path id=\"DejaVuSans-32\"/>\n       <path d=\"M 64.40625 67.28125 \nL 64.40625 56.890625 \nQ 59.421875 61.53125 53.78125 63.8125 \nQ 48.140625 66.109375 41.796875 66.109375 \nQ 29.296875 66.109375 22.65625 58.46875 \nQ 16.015625 50.828125 16.015625 36.375 \nQ 16.015625 21.96875 22.65625 14.328125 \nQ 29.296875 6.6875 41.796875 6.6875 \nQ 48.140625 6.6875 53.78125 8.984375 \nQ 59.421875 11.28125 64.40625 15.921875 \nL 64.40625 5.609375 \nQ 59.234375 2.09375 53.4375 0.328125 \nQ 47.65625 -1.421875 41.21875 -1.421875 \nQ 24.65625 -1.421875 15.125 8.703125 \nQ 5.609375 18.84375 5.609375 36.375 \nQ 5.609375 53.953125 15.125 64.078125 \nQ 24.65625 74.21875 41.21875 74.21875 \nQ 47.75 74.21875 53.53125 72.484375 \nQ 59.328125 70.75 64.40625 67.28125 \nz\n\" id=\"DejaVuSans-67\"/>\n       <path d=\"M 41.109375 46.296875 \nQ 39.59375 47.171875 37.8125 47.578125 \nQ 36.03125 48 33.890625 48 \nQ 26.265625 48 22.1875 43.046875 \nQ 18.109375 38.09375 18.109375 28.8125 \nL 18.109375 0 \nL 9.078125 0 \nL 9.078125 54.6875 \nL 18.109375 54.6875 \nL 18.109375 46.1875 \nQ 20.953125 51.171875 25.484375 53.578125 \nQ 30.03125 56 36.53125 56 \nQ 37.453125 56 38.578125 55.875 \nQ 39.703125 55.765625 41.0625 55.515625 \nz\n\" id=\"DejaVuSans-114\"/>\n       <path d=\"M 56.203125 29.59375 \nL 56.203125 25.203125 \nL 14.890625 25.203125 \nQ 15.484375 15.921875 20.484375 11.0625 \nQ 25.484375 6.203125 34.421875 6.203125 \nQ 39.59375 6.203125 44.453125 7.46875 \nQ 49.3125 8.734375 54.109375 11.28125 \nL 54.109375 2.78125 \nQ 49.265625 0.734375 44.1875 -0.34375 \nQ 39.109375 -1.421875 33.890625 -1.421875 \nQ 20.796875 -1.421875 13.15625 6.1875 \nQ 5.515625 13.8125 5.515625 26.8125 \nQ 5.515625 40.234375 12.765625 48.109375 \nQ 20.015625 56 32.328125 56 \nQ 43.359375 56 49.78125 48.890625 \nQ 56.203125 41.796875 56.203125 29.59375 \nz\nM 47.21875 32.234375 \nQ 47.125 39.59375 43.09375 43.984375 \nQ 39.0625 48.390625 32.421875 48.390625 \nQ 24.90625 48.390625 20.390625 44.140625 \nQ 15.875 39.890625 15.1875 32.171875 \nz\n\" id=\"DejaVuSans-101\"/>\n       <path d=\"M 54.890625 33.015625 \nL 54.890625 0 \nL 45.90625 0 \nL 45.90625 32.71875 \nQ 45.90625 40.484375 42.875 44.328125 \nQ 39.84375 48.1875 33.796875 48.1875 \nQ 26.515625 48.1875 22.3125 43.546875 \nQ 18.109375 38.921875 18.109375 30.90625 \nL 18.109375 0 \nL 9.078125 0 \nL 9.078125 54.6875 \nL 18.109375 54.6875 \nL 18.109375 46.1875 \nQ 21.34375 51.125 25.703125 53.5625 \nQ 30.078125 56 35.796875 56 \nQ 45.21875 56 50.046875 50.171875 \nQ 54.890625 44.34375 54.890625 33.015625 \nz\n\" id=\"DejaVuSans-110\"/>\n       <path d=\"M 31 75.875 \nQ 24.46875 64.65625 21.28125 53.65625 \nQ 18.109375 42.671875 18.109375 31.390625 \nQ 18.109375 20.125 21.3125 9.0625 \nQ 24.515625 -2 31 -13.1875 \nL 23.1875 -13.1875 \nQ 15.875 -1.703125 12.234375 9.375 \nQ 8.59375 20.453125 8.59375 31.390625 \nQ 8.59375 42.28125 12.203125 53.3125 \nQ 15.828125 64.359375 23.1875 75.875 \nz\n\" id=\"DejaVuSans-40\"/>\n       <path d=\"M 44.28125 53.078125 \nL 44.28125 44.578125 \nQ 40.484375 46.53125 36.375 47.5 \nQ 32.28125 48.484375 27.875 48.484375 \nQ 21.1875 48.484375 17.84375 46.4375 \nQ 14.5 44.390625 14.5 40.28125 \nQ 14.5 37.15625 16.890625 35.375 \nQ 19.28125 33.59375 26.515625 31.984375 \nL 29.59375 31.296875 \nQ 39.15625 29.25 43.1875 25.515625 \nQ 47.21875 21.78125 47.21875 15.09375 \nQ 47.21875 7.46875 41.1875 3.015625 \nQ 35.15625 -1.421875 24.609375 -1.421875 \nQ 20.21875 -1.421875 15.453125 -0.5625 \nQ 10.6875 0.296875 5.421875 2 \nL 5.421875 11.28125 \nQ 10.40625 8.6875 15.234375 7.390625 \nQ 20.0625 6.109375 24.8125 6.109375 \nQ 31.15625 6.109375 34.5625 8.28125 \nQ 37.984375 10.453125 37.984375 14.40625 \nQ 37.984375 18.0625 35.515625 20.015625 \nQ 33.0625 21.96875 24.703125 23.78125 \nL 21.578125 24.515625 \nQ 13.234375 26.265625 9.515625 29.90625 \nQ 5.8125 33.546875 5.8125 39.890625 \nQ 5.8125 47.609375 11.28125 51.796875 \nQ 16.75 56 26.8125 56 \nQ 31.78125 56 36.171875 55.265625 \nQ 40.578125 54.546875 44.28125 53.078125 \nz\n\" id=\"DejaVuSans-115\"/>\n       <path d=\"M 8.015625 75.875 \nL 15.828125 75.875 \nQ 23.140625 64.359375 26.78125 53.3125 \nQ 30.421875 42.28125 30.421875 31.390625 \nQ 30.421875 20.453125 26.78125 9.375 \nQ 23.140625 -1.703125 15.828125 -13.1875 \nL 8.015625 -13.1875 \nQ 14.5 -2 17.703125 9.0625 \nQ 20.90625 20.125 20.90625 31.390625 \nQ 20.90625 42.671875 17.703125 53.65625 \nQ 14.5 64.65625 8.015625 75.875 \nz\n\" id=\"DejaVuSans-41\"/>\n      </defs>\n      <use xlink:href=\"#DejaVuSans-84\"/>\n      <use x=\"44.083984\" xlink:href=\"#DejaVuSans-111\"/>\n      <use x=\"105.265625\" xlink:href=\"#DejaVuSans-116\"/>\n      <use x=\"144.474609\" xlink:href=\"#DejaVuSans-97\"/>\n      <use x=\"205.753906\" xlink:href=\"#DejaVuSans-108\"/>\n      <use x=\"233.537109\" xlink:href=\"#DejaVuSans-32\"/>\n      <use x=\"265.324219\" xlink:href=\"#DejaVuSans-67\"/>\n      <use x=\"335.148438\" xlink:href=\"#DejaVuSans-111\"/>\n      <use x=\"396.330078\" xlink:href=\"#DejaVuSans-114\"/>\n      <use x=\"435.693359\" xlink:href=\"#DejaVuSans-114\"/>\n      <use x=\"474.556641\" xlink:href=\"#DejaVuSans-101\"/>\n      <use x=\"536.080078\" xlink:href=\"#DejaVuSans-108\"/>\n      <use x=\"563.863281\" xlink:href=\"#DejaVuSans-97\"/>\n      <use x=\"625.142578\" xlink:href=\"#DejaVuSans-116\"/>\n      <use x=\"664.351562\" xlink:href=\"#DejaVuSans-105\"/>\n      <use x=\"692.134766\" xlink:href=\"#DejaVuSans-111\"/>\n      <use x=\"753.316406\" xlink:href=\"#DejaVuSans-110\"/>\n      <use x=\"816.695312\" xlink:href=\"#DejaVuSans-32\"/>\n      <use x=\"848.482422\" xlink:href=\"#DejaVuSans-40\"/>\n      <use x=\"887.496094\" xlink:href=\"#DejaVuSans-110\"/>\n      <use x=\"950.875\" xlink:href=\"#DejaVuSans-97\"/>\n      <use x=\"1012.154297\" xlink:href=\"#DejaVuSans-116\"/>\n      <use x=\"1051.363281\" xlink:href=\"#DejaVuSans-115\"/>\n      <use x=\"1103.462891\" xlink:href=\"#DejaVuSans-41\"/>\n     </g>\n    </g>\n   </g>\n   <g id=\"patch_15\">\n    <path d=\"M 49.588125 279 \nL 49.588125 7.2 \n\" style=\"fill:none;stroke:#000000;stroke-linecap:square;stroke-linejoin:miter;stroke-width:0.8;\"/>\n   </g>\n   <g id=\"patch_16\">\n    <path d=\"M 607.588125 279 \nL 607.588125 7.2 \n\" style=\"fill:none;stroke:#000000;stroke-linecap:square;stroke-linejoin:miter;stroke-width:0.8;\"/>\n   </g>\n   <g id=\"patch_17\">\n    <path d=\"M 49.588125 279 \nL 607.588125 279 \n\" style=\"fill:none;stroke:#000000;stroke-linecap:square;stroke-linejoin:miter;stroke-width:0.8;\"/>\n   </g>\n   <g id=\"patch_18\">\n    <path d=\"M 49.588125 7.2 \nL 607.588125 7.2 \n\" style=\"fill:none;stroke:#000000;stroke-linecap:square;stroke-linejoin:miter;stroke-width:0.8;\"/>\n   </g>\n  </g>\n </g>\n <defs>\n  <clipPath id=\"p5697b9f4ea\">\n   <rect height=\"271.8\" width=\"558\" x=\"49.588125\" y=\"7.2\"/>\n  </clipPath>\n </defs>\n</svg>\n",
      "image/png": "[encoded data removed]"
     },
     "metadata": {
      "needs_background": "light"
     }
    }
   ],
   "source": [
    "plt.figure(figsize=(10,5))\n",
    "plt.bar(range(model.tcs.shape[0]), model.tcs, color='#4e79a7', width=0.5)\n",
    "plt.xlabel('Topic', fontsize=16)\n",
    "plt.ylabel('Total Correlation (nats)', fontsize=16);"
   ]
  },
  {
   "cell_type": "code",
   "execution_count": 130,
   "metadata": {},
   "outputs": [],
   "source": [
    "topic_df = pd.DataFrame(model.transform(tfidf), columns=[\"topic_{}\".format(i+1) for i in range (20)]).astype(float)\n",
    "topic_df.index = em_df.index\n",
    "df = pd.concat([em_df, topic_df], axis=1)"
   ]
  },
  {
   "cell_type": "code",
   "execution_count": null,
   "metadata": {},
   "outputs": [],
   "source": [
    "df.to_csv('/Users/chenjianyu/Desktop/Corex Topic Modelling/em_valuable_corex_topics.csv')"
   ]
  },
  {
   "cell_type": "code",
   "execution_count": null,
   "metadata": {},
   "outputs": [],
   "source": [
    "topics_dict = {}\n",
    "\n",
    "for i in range(20):\n",
    "    topics_dict[f'topic{i}'] = {}\n",
    "    topic = df[df[f'topic_{i+1}'] == 1.0]\n",
    "    pos_count = df_topic0[df_topic0['Vader_compound_score'] >= 0.1]\n",
    "    neg_count = df_topic0[df_topic0['Vader_compound_score'] <= -0.01]\n",
    "    emotions_count = list(df_topic0['Emotions'].value_counts())\n",
    "\n",
    "    topics_dict[f'topic{i}']['positive'] = len(pos_count)\n",
    "    topics_dict[f'topic{i}']['negative'] = len(neg_count)\n",
    "    topics_dict[f'topic{i}']['emotions'] = {\n",
    "        'anger': emotions_count[0],\n",
    "        'fear': emotions_count[1],\n",
    "        'joy': emotions_count[2],\n",
    "        'neutral': emotions_count[3],\n",
    "        'sadness': emotions_count[4]\n",
    "        }\n",
    "\n",
    "topics_dict['anchors'] = anchors\n",
    "topics_dict['top_words'] = top_words\n",
    "    \n",
    "pickle.dump(topics_dict, open('em_topic_counts.sav', 'wb'))\n",
    "# x = pickle.load(open('tracetogether_topic_counts.sav', 'rb'))"
   ]
  },
  {
   "source": [
    "# Tracetogether"
   ],
   "cell_type": "markdown",
   "metadata": {}
  },
  {
   "cell_type": "code",
   "execution_count": 57,
   "metadata": {},
   "outputs": [
    {
     "output_type": "execute_result",
     "data": {
      "text/plain": [
       "16827"
      ]
     },
     "metadata": {},
     "execution_count": 57
    }
   ],
   "source": [
    "em_df = pd.read_csv(f'{parent_path}/Data/Sentiment Data/tracetogether_valuable_opinions.csv')\n",
    "# em_df = pd.read_csv(f'{parent_path}/Data/Sentiment Data/tracetogether_valuable_sentiments.csv')\n",
    "em_df.drop(columns=['Unnamed: 0', 'index'], inplace=True)\n",
    "em_df['Topic'] = 'Tracetogether'\n",
    "len(em_df)"
   ]
  },
  {
   "cell_type": "code",
   "execution_count": 58,
   "metadata": {},
   "outputs": [],
   "source": [
    "corpus = PlaintextCorpusReader('/Users/chenjianyu/Library/Mobile Documents/com~apple~CloudDocs/SMU/SMU Module Materials/Y2S2/SMT203 Computational Social Sci/Covid-19-Singapore-Analysis/Data/Policy Documents', '.+\\.txt', encoding='utf-8')\n",
    "fid = corpus.fileids()\n",
    "fid.sort()\n",
    "\n",
    "doc_words = [corpus.words(f) for f in fid]\n",
    "\n",
    "    ## Splitting the labelled data to its own policy/topic\n",
    "# circuit_breaker_comments = cb_df[cb_df['Topic'] == 'Circuit Breaker']\n",
    "# economic_measures_comments = cb_df[cb_df['Topic'] == 'Economic Measures']\n",
    "# foreign_worker_comments = cb_df[cb_df['Topic'] == 'Foreign Worker']\n",
    "# mask_comments = cb_df[cb_df['Topic'] == 'Mask']\n",
    "# phases_comments = cb_df[cb_df['Topic'] == 'Phases']\n",
    "# safe_entry_comments = cb_df[cb_df['Topic'] == 'Safe Entry']\n",
    "# social_distancing_comments = cb_df[cb_df['Topic'] == 'Social Distancing']\n",
    "# stay_home_notice_comments = cb_df[cb_df['Topic'] == 'Stay Home Notice']\n",
    "tracetogether_comments = em_df[em_df['Topic'] == 'Tracetogether']\n",
    "# vaccination_comments = cb_df[cb_df['Topic'] == 'Vaccination']\n",
    "comments = [tracetogether_comments]\n",
    "# comments = [circuit_breaker_comments, economic_measures_comments ,foreign_worker_comments, mask_comments, phases_comments, safe_entry_comments, social_distancing_comments, stay_home_notice_comments, tracetogether_comments, vaccination_comments]\n",
    "\n",
    "    ## Calculating KL-divergence relevance score for each comment to its respective policy topic\n",
    "for i in range(len(comments)):\n",
    "    doc_unigram, doc_nouns = topic_doc_unigram(doc_words[i], k=1)\n",
    "    relavance_scores = []\n",
    "    for row in em_df['Sentences']:\n",
    "        cmt_unigram, cmt_nouns = comment_unigram(row, k=1)\n",
    "        score = KLDiv_relevance_score(doc_unigram, cmt_unigram, doc_nouns, cmt_nouns)\n",
    "        relavance_scores.append(score)\n",
    "    comments[i]['Relevance score'] = relavance_scores\n",
    "\n",
    "df_final = pd.concat(comments, ignore_index=True)"
   ]
  },
  {
   "cell_type": "code",
   "execution_count": 59,
   "metadata": {},
   "outputs": [
    {
     "output_type": "execute_result",
     "data": {
      "text/plain": [
       "count    16827.000000\n",
       "mean        65.603680\n",
       "std         93.189215\n",
       "min          1.973119\n",
       "25%         20.500271\n",
       "50%         36.848291\n",
       "75%         56.271756\n",
       "max        408.447008\n",
       "Name: Relevance score, dtype: float64"
      ]
     },
     "metadata": {},
     "execution_count": 59
    }
   ],
   "source": [
    "df_final['Relevance score'].describe()"
   ]
  },
  {
   "cell_type": "code",
   "execution_count": 60,
   "metadata": {},
   "outputs": [
    {
     "output_type": "execute_result",
     "data": {
      "text/plain": [
       "3893"
      ]
     },
     "metadata": {},
     "execution_count": 60
    }
   ],
   "source": [
    "em_df = df_final[df_final['Relevance score'] <= 20]\n",
    "len(em_df)"
   ]
  },
  {
   "cell_type": "code",
   "execution_count": 61,
   "metadata": {},
   "outputs": [
    {
     "output_type": "stream",
     "name": "stderr",
     "text": [
      "<ipython-input-61-1f63f3ad2eb9>:16: SettingWithCopyWarning: \nA value is trying to be set on a copy of a slice from a DataFrame.\nTry using .loc[row_indexer,col_indexer] = value instead\n\nSee the caveats in the documentation: https://pandas.pydata.org/pandas-docs/stable/user_guide/indexing.html#returning-a-view-versus-a-copy\n  em_df['Comments'] = comments\n"
     ]
    }
   ],
   "source": [
    "eng_words = words.words()\n",
    "comments = []\n",
    "i = 0\n",
    "for row in em_df['Sentences']:\n",
    "    text = remove_hashtag_mentions_urls(row)\n",
    "    text_tokenize = TweetTokenizer().tokenize(text)\n",
    "    text_lower = [w.lower() for w in text_tokenize]\n",
    "    text_words_only = [w for w in text_lower if re.search('^[a-z]+$',w)]\n",
    "    text_eng_words = [w for w in text_words_only if w in eng_words]\n",
    "    text_drop_2letters = [w for w in text_eng_words if len(w) > 2]\n",
    "    text_joined = ' '.join(text_drop_2letters)\n",
    "    comments.append(text_joined)\n",
    "    # print(i)\n",
    "    i+=1\n",
    "\n",
    "em_df['Comments'] = comments"
   ]
  },
  {
   "cell_type": "code",
   "execution_count": 62,
   "metadata": {},
   "outputs": [
    {
     "output_type": "execute_result",
     "data": {
      "text/plain": [
       "32708"
      ]
     },
     "metadata": {},
     "execution_count": 62
    }
   ],
   "source": [
    "vectorizer = TfidfVectorizer(ngram_range=(1, 2), stop_words='english', max_df=0.5)\n",
    "vectorizer = vectorizer.fit(em_df['Comments'])\n",
    "tfidf = vectorizer.transform(em_df['Comments'])\n",
    "vocab = vectorizer.get_feature_names()\n",
    "len(vocab)"
   ]
  },
  {
   "cell_type": "code",
   "execution_count": 64,
   "metadata": {},
   "outputs": [],
   "source": [
    "anchors = [\n",
    "    ['location', 'device', 'proximity', 'safe entry', 'movement', 'contact tracing', 'surveillance', 'track'], \n",
    "    ['privacy', 'investigation', 'crimes', 'transparent', 'police', 'data', 'criminal', 'law', 'open source'],\n",
    "    ['slippery slope', 'government', 'policy', 'politician', 'minister', 'decision', 'trust'],\n",
    "    ['cases', 'positive', 'negative', 'infected', 'symptoms',  'tested' , 'transmission', 'asymptomatic']\n",
    "]\n",
    "anchors = [\n",
    "    [a for a in topic if a in vocab] for topic in anchors\n",
    "]\n",
    "\n",
    "model = ct.Corex(n_hidden = 20, seed = 8)\n",
    "model = model.fit(tfidf, words = vocab, anchors = anchors, anchor_strength=7)"
   ]
  },
  {
   "cell_type": "code",
   "execution_count": 65,
   "metadata": {},
   "outputs": [
    {
     "output_type": "execute_result",
     "data": {
      "text/plain": [
       "[('device', 0.11594474493410467, 1.0),\n",
       " ('location', 0.09767742820254108, 1.0),\n",
       " ('track', 0.08454739468918834, 1.0),\n",
       " ('proximity', 0.05278743858743367, 1.0),\n",
       " ('movement', 0.022883263321449052, 1.0),\n",
       " ('safe entry', 0.016884191503488473, 1.0),\n",
       " ('location data', 0.004585695540621503, 1.0),\n",
       " ('proximity data', 0.0037688039653313407, 1.0),\n",
       " ('close proximity', 0.002636271283548421, 1.0),\n",
       " ('tracing device', 0.0021097923676690385, 1.0)]"
      ]
     },
     "metadata": {},
     "execution_count": 65
    }
   ],
   "source": [
    "model.get_topics(topic=0, n_words=10)"
   ]
  },
  {
   "cell_type": "code",
   "execution_count": 92,
   "metadata": {},
   "outputs": [
    {
     "output_type": "stream",
     "name": "stdout",
     "text": [
      "Topic #1: device, location, track, proximity, movement, safe entry, location data, proximity data, close proximity, tracing device\n\nTopic #2: police, criminal, data, investigation, law, open source, data used, data data, data criminal, used\n\nTopic #3: trust, minister, politician, decision, government, trust government, trust people, public trust, minister said, policy\n\nTopic #4: infected, positive, transmission, tested, asymptomatic, negative, infected person, contact infected, infected people, test positive\n\nTopic #5: said scanning, scanning contact, similar higher, higher death, voice instead, instead sitting, kind person, sitting wait, know starter, try making\n\nTopic #6: token code, problem ben, ben, ben people, latest, news vaccine, lately news, past history, history withdrawal, outbreak source\n\nTopic #7: point world, mean check, act violence, independence, independence act, check point\n\nTopic #8: furthermore, enforcement just, just doing, occasionally enforcement, freely commit, furthermore phone, improving, work equally, mandate compulsory, decided point\n\nTopic #9: preoccupied, government preoccupied, meet high, high posting\n\nTopic #10: today introduce, introduce future, step human, state uncomfortable, uncomfortable step, want state, mask hand, hope know, hand combat, know protection\n\nTopic #11: dong, baba dong, sent baba, baba, justice wish, fighting democratic, wish right, democratic justice, developer talk, talk best\n\nTopic #12: covered treatment, treatment foreign, treatment covered, foreign live, reality privacy, data user, user reality, treatment, viability world, lot viability\n\nTopic #13: trash, foreign trash, analysis decided, goes token, scanning token, millions foreign, foreign, computer friend, attenuation, gave antenna\n\nTopic #14: wrote contact, tracing explain, explain data, tracer hope, contact tracer, token say, say virus, virus use, way trace, token plus\n\nTopic #15: involve, discussion thing, thing happen, public crowd, facing public, zero protection, tool zero, conclusion winning, foregone, foregone conclusion\n\nTopic #16: need write, paste, paste reply, write copy, copy paste\n\nTopic #17: east coast, coast, east, sent east, coast plan, plan committee, committee east, elephant room, elephant, room data\n\nTopic #18: claim government, tracing conspiracy, come claim, government mass, virus acceptable, surveillance slow, time run, run battery, slow spread, built platform\n\nTopic #19: democratic government, democratic, party political, military democratic, government party, military, country military, political, party, help world\n\nTopic #20: protection tracker, bang girl, tracker times, girl protection, bang\n\n"
     ]
    }
   ],
   "source": [
    "top_words = {}\n",
    "\n",
    "for i, topic_ngrams in enumerate(model.get_topics()):\n",
    "    topic_ngrams = [ngram[0] for ngram in topic_ngrams if ngram[1] > 0]\n",
    "    top_words[f'topic{i}'] = topic_ngrams\n",
    "    print(\"Topic #{}: {}\".format(i+1, \", \".join(topic_ngrams)))\n",
    "    print()"
   ]
  },
  {
   "cell_type": "code",
   "execution_count": 67,
   "metadata": {},
   "outputs": [
    {
     "output_type": "display_data",
     "data": {
      "text/plain": "<Figure size 720x360 with 1 Axes>",
      "image/svg+xml": "<?xml version=\"1.0\" encoding=\"utf-8\" standalone=\"no\"?>\n<!DOCTYPE svg PUBLIC \"-//W3C//DTD SVG 1.1//EN\"\n  \"http://www.w3.org/Graphics/SVG/1.1/DTD/svg11.dtd\">\n<!-- Created with matplotlib (https://matplotlib.org/) -->\n<svg height=\"322.363125pt\" version=\"1.1\" viewBox=\"0 0 620.067791 322.363125\" width=\"620.067791pt\" xmlns=\"http://www.w3.org/2000/svg\" xmlns:xlink=\"http://www.w3.org/1999/xlink\">\n <metadata>\n  <rdf:RDF xmlns:cc=\"http://creativecommons.org/ns#\" xmlns:dc=\"http://purl.org/dc/elements/1.1/\" xmlns:rdf=\"http://www.w3.org/1999/02/22-rdf-syntax-ns#\">\n   <cc:Work>\n    <dc:type rdf:resource=\"http://purl.org/dc/dcmitype/StillImage\"/>\n    <dc:date>2021-03-24T23:23:52.584394</dc:date>\n    <dc:format>image/svg+xml</dc:format>\n    <dc:creator>\n     <cc:Agent>\n      <dc:title>Matplotlib v3.3.3, https://matplotlib.org/</dc:title>\n     </cc:Agent>\n    </dc:creator>\n   </cc:Work>\n  </rdf:RDF>\n </metadata>\n <defs>\n  <style type=\"text/css\">*{stroke-linecap:butt;stroke-linejoin:round;}</style>\n </defs>\n <g id=\"figure_1\">\n  <g id=\"patch_1\">\n   <path d=\"M 0 322.363125 \nL 620.067791 322.363125 \nL 620.067791 0 \nL 0 0 \nz\n\" style=\"fill:none;\"/>\n  </g>\n  <g id=\"axes_1\">\n   <g id=\"patch_2\">\n    <path d=\"M 49.588125 279 \nL 607.588125 279 \nL 607.588125 7.2 \nL 49.588125 7.2 \nz\n\" style=\"fill:#ffffff;\"/>\n   </g>\n   <g id=\"patch_3\">\n    <path clip-path=\"url(#pce6066faf8)\" d=\"M 74.951761 279 \nL 87.958754 279 \nL 87.958754 20.142857 \nL 74.951761 20.142857 \nz\n\" style=\"fill:#4e79a7;\"/>\n   </g>\n   <g id=\"patch_4\">\n    <path clip-path=\"url(#pce6066faf8)\" d=\"M 100.965747 279 \nL 113.97274 279 \nL 113.97274 29.451404 \nL 100.965747 29.451404 \nz\n\" style=\"fill:#4e79a7;\"/>\n   </g>\n   <g id=\"patch_5\">\n    <path clip-path=\"url(#pce6066faf8)\" d=\"M 126.979733 279 \nL 139.986726 279 \nL 139.986726 118.663692 \nL 126.979733 118.663692 \nz\n\" style=\"fill:#4e79a7;\"/>\n   </g>\n   <g id=\"patch_6\">\n    <path clip-path=\"url(#pce6066faf8)\" d=\"M 152.993719 279 \nL 166.000712 279 \nL 166.000712 119.22541 \nL 152.993719 119.22541 \nz\n\" style=\"fill:#4e79a7;\"/>\n   </g>\n   <g id=\"patch_7\">\n    <path clip-path=\"url(#pce6066faf8)\" d=\"M 179.007705 279 \nL 192.014698 279 \nL 192.014698 278.477488 \nL 179.007705 278.477488 \nz\n\" style=\"fill:#4e79a7;\"/>\n   </g>\n   <g id=\"patch_8\">\n    <path clip-path=\"url(#pce6066faf8)\" d=\"M 205.021691 279 \nL 218.028684 279 \nL 218.028684 263.774711 \nL 205.021691 263.774711 \nz\n\" style=\"fill:#4e79a7;\"/>\n   </g>\n   <g id=\"patch_9\">\n    <path clip-path=\"url(#pce6066faf8)\" d=\"M 231.035677 279 \nL 244.04267 279 \nL 244.04267 278.920846 \nL 231.035677 278.920846 \nz\n\" style=\"fill:#4e79a7;\"/>\n   </g>\n   <g id=\"patch_10\">\n    <path clip-path=\"url(#pce6066faf8)\" d=\"M 257.049663 279 \nL 270.056656 279 \nL 270.056656 274.282184 \nL 257.049663 274.282184 \nz\n\" style=\"fill:#4e79a7;\"/>\n   </g>\n   <g id=\"patch_11\">\n    <path clip-path=\"url(#pce6066faf8)\" d=\"M 283.063649 279 \nL 296.070642 279 \nL 296.070642 278.964892 \nL 283.063649 278.964892 \nz\n\" style=\"fill:#4e79a7;\"/>\n   </g>\n   <g id=\"patch_12\">\n    <path clip-path=\"url(#pce6066faf8)\" d=\"M 309.077635 279 \nL 322.084628 279 \nL 322.084628 278.808703 \nL 309.077635 278.808703 \nz\n\" style=\"fill:#4e79a7;\"/>\n   </g>\n   <g id=\"patch_13\">\n    <path clip-path=\"url(#pce6066faf8)\" d=\"M 335.091622 279 \nL 348.098615 279 \nL 348.098615 278.449811 \nL 335.091622 278.449811 \nz\n\" style=\"fill:#4e79a7;\"/>\n   </g>\n   <g id=\"patch_14\">\n    <path clip-path=\"url(#pce6066faf8)\" d=\"M 361.105608 279 \nL 374.112601 279 \nL 374.112601 278.740013 \nL 361.105608 278.740013 \nz\n\" style=\"fill:#4e79a7;\"/>\n   </g>\n   <g id=\"patch_15\">\n    <path clip-path=\"url(#pce6066faf8)\" d=\"M 387.119594 279 \nL 400.126587 279 \nL 400.126587 247.343913 \nL 387.119594 247.343913 \nz\n\" style=\"fill:#4e79a7;\"/>\n   </g>\n   <g id=\"patch_16\">\n    <path clip-path=\"url(#pce6066faf8)\" d=\"M 413.13358 279 \nL 426.140573 279 \nL 426.140573 278.561163 \nL 413.13358 278.561163 \nz\n\" style=\"fill:#4e79a7;\"/>\n   </g>\n   <g id=\"patch_17\">\n    <path clip-path=\"url(#pce6066faf8)\" d=\"M 439.147566 279 \nL 452.154559 279 \nL 452.154559 264.663077 \nL 439.147566 264.663077 \nz\n\" style=\"fill:#4e79a7;\"/>\n   </g>\n   <g id=\"patch_18\">\n    <path clip-path=\"url(#pce6066faf8)\" d=\"M 465.161552 279 \nL 478.168545 279 \nL 478.168545 278.863161 \nL 465.161552 278.863161 \nz\n\" style=\"fill:#4e79a7;\"/>\n   </g>\n   <g id=\"patch_19\">\n    <path clip-path=\"url(#pce6066faf8)\" d=\"M 491.175538 279 \nL 504.182531 279 \nL 504.182531 250.476741 \nL 491.175538 250.476741 \nz\n\" style=\"fill:#4e79a7;\"/>\n   </g>\n   <g id=\"patch_20\">\n    <path clip-path=\"url(#pce6066faf8)\" d=\"M 517.189524 279 \nL 530.196517 279 \nL 530.196517 278.927615 \nL 517.189524 278.927615 \nz\n\" style=\"fill:#4e79a7;\"/>\n   </g>\n   <g id=\"patch_21\">\n    <path clip-path=\"url(#pce6066faf8)\" d=\"M 543.20351 279 \nL 556.210503 279 \nL 556.210503 253.720203 \nL 543.20351 253.720203 \nz\n\" style=\"fill:#4e79a7;\"/>\n   </g>\n   <g id=\"patch_22\">\n    <path clip-path=\"url(#pce6066faf8)\" d=\"M 569.217496 279 \nL 582.224489 279 \nL 582.224489 278.841704 \nL 569.217496 278.841704 \nz\n\" style=\"fill:#4e79a7;\"/>\n   </g>\n   <g id=\"matplotlib.axis_1\">\n    <g id=\"xtick_1\">\n     <g id=\"line2d_1\">\n      <defs>\n       <path d=\"M 0 0 \nL 0 3.5 \n\" id=\"m9433e74cad\" style=\"stroke:#000000;stroke-width:0.8;\"/>\n      </defs>\n      <g>\n       <use style=\"stroke:#000000;stroke-width:0.8;\" x=\"81.455258\" xlink:href=\"#m9433e74cad\" y=\"279\"/>\n      </g>\n     </g>\n     <g id=\"text_1\">\n      <!-- 0.0 -->\n      <g transform=\"translate(73.503695 293.598438)scale(0.1 -0.1)\">\n       <defs>\n        <path d=\"M 31.78125 66.40625 \nQ 24.171875 66.40625 20.328125 58.90625 \nQ 16.5 51.421875 16.5 36.375 \nQ 16.5 21.390625 20.328125 13.890625 \nQ 24.171875 6.390625 31.78125 6.390625 \nQ 39.453125 6.390625 43.28125 13.890625 \nQ 47.125 21.390625 47.125 36.375 \nQ 47.125 51.421875 43.28125 58.90625 \nQ 39.453125 66.40625 31.78125 66.40625 \nz\nM 31.78125 74.21875 \nQ 44.046875 74.21875 50.515625 64.515625 \nQ 56.984375 54.828125 56.984375 36.375 \nQ 56.984375 17.96875 50.515625 8.265625 \nQ 44.046875 -1.421875 31.78125 -1.421875 \nQ 19.53125 -1.421875 13.0625 8.265625 \nQ 6.59375 17.96875 6.59375 36.375 \nQ 6.59375 54.828125 13.0625 64.515625 \nQ 19.53125 74.21875 31.78125 74.21875 \nz\n\" id=\"DejaVuSans-48\"/>\n        <path d=\"M 10.6875 12.40625 \nL 21 12.40625 \nL 21 0 \nL 10.6875 0 \nz\n\" id=\"DejaVuSans-46\"/>\n       </defs>\n       <use xlink:href=\"#DejaVuSans-48\"/>\n       <use x=\"63.623047\" xlink:href=\"#DejaVuSans-46\"/>\n       <use x=\"95.410156\" xlink:href=\"#DejaVuSans-48\"/>\n      </g>\n     </g>\n    </g>\n    <g id=\"xtick_2\">\n     <g id=\"line2d_2\">\n      <g>\n       <use style=\"stroke:#000000;stroke-width:0.8;\" x=\"146.490223\" xlink:href=\"#m9433e74cad\" y=\"279\"/>\n      </g>\n     </g>\n     <g id=\"text_2\">\n      <!-- 2.5 -->\n      <g transform=\"translate(138.53866 293.598438)scale(0.1 -0.1)\">\n       <defs>\n        <path d=\"M 19.1875 8.296875 \nL 53.609375 8.296875 \nL 53.609375 0 \nL 7.328125 0 \nL 7.328125 8.296875 \nQ 12.9375 14.109375 22.625 23.890625 \nQ 32.328125 33.6875 34.8125 36.53125 \nQ 39.546875 41.84375 41.421875 45.53125 \nQ 43.3125 49.21875 43.3125 52.78125 \nQ 43.3125 58.59375 39.234375 62.25 \nQ 35.15625 65.921875 28.609375 65.921875 \nQ 23.96875 65.921875 18.8125 64.3125 \nQ 13.671875 62.703125 7.8125 59.421875 \nL 7.8125 69.390625 \nQ 13.765625 71.78125 18.9375 73 \nQ 24.125 74.21875 28.421875 74.21875 \nQ 39.75 74.21875 46.484375 68.546875 \nQ 53.21875 62.890625 53.21875 53.421875 \nQ 53.21875 48.921875 51.53125 44.890625 \nQ 49.859375 40.875 45.40625 35.40625 \nQ 44.1875 33.984375 37.640625 27.21875 \nQ 31.109375 20.453125 19.1875 8.296875 \nz\n\" id=\"DejaVuSans-50\"/>\n        <path d=\"M 10.796875 72.90625 \nL 49.515625 72.90625 \nL 49.515625 64.59375 \nL 19.828125 64.59375 \nL 19.828125 46.734375 \nQ 21.96875 47.46875 24.109375 47.828125 \nQ 26.265625 48.1875 28.421875 48.1875 \nQ 40.625 48.1875 47.75 41.5 \nQ 54.890625 34.8125 54.890625 23.390625 \nQ 54.890625 11.625 47.5625 5.09375 \nQ 40.234375 -1.421875 26.90625 -1.421875 \nQ 22.3125 -1.421875 17.546875 -0.640625 \nQ 12.796875 0.140625 7.71875 1.703125 \nL 7.71875 11.625 \nQ 12.109375 9.234375 16.796875 8.0625 \nQ 21.484375 6.890625 26.703125 6.890625 \nQ 35.15625 6.890625 40.078125 11.328125 \nQ 45.015625 15.765625 45.015625 23.390625 \nQ 45.015625 31 40.078125 35.4375 \nQ 35.15625 39.890625 26.703125 39.890625 \nQ 22.75 39.890625 18.8125 39.015625 \nQ 14.890625 38.140625 10.796875 36.28125 \nz\n\" id=\"DejaVuSans-53\"/>\n       </defs>\n       <use xlink:href=\"#DejaVuSans-50\"/>\n       <use x=\"63.623047\" xlink:href=\"#DejaVuSans-46\"/>\n       <use x=\"95.410156\" xlink:href=\"#DejaVuSans-53\"/>\n      </g>\n     </g>\n    </g>\n    <g id=\"xtick_3\">\n     <g id=\"line2d_3\">\n      <g>\n       <use style=\"stroke:#000000;stroke-width:0.8;\" x=\"211.525188\" xlink:href=\"#m9433e74cad\" y=\"279\"/>\n      </g>\n     </g>\n     <g id=\"text_3\">\n      <!-- 5.0 -->\n      <g transform=\"translate(203.573625 293.598438)scale(0.1 -0.1)\">\n       <use xlink:href=\"#DejaVuSans-53\"/>\n       <use x=\"63.623047\" xlink:href=\"#DejaVuSans-46\"/>\n       <use x=\"95.410156\" xlink:href=\"#DejaVuSans-48\"/>\n      </g>\n     </g>\n    </g>\n    <g id=\"xtick_4\">\n     <g id=\"line2d_4\">\n      <g>\n       <use style=\"stroke:#000000;stroke-width:0.8;\" x=\"276.560153\" xlink:href=\"#m9433e74cad\" y=\"279\"/>\n      </g>\n     </g>\n     <g id=\"text_4\">\n      <!-- 7.5 -->\n      <g transform=\"translate(268.60859 293.598438)scale(0.1 -0.1)\">\n       <defs>\n        <path d=\"M 8.203125 72.90625 \nL 55.078125 72.90625 \nL 55.078125 68.703125 \nL 28.609375 0 \nL 18.3125 0 \nL 43.21875 64.59375 \nL 8.203125 64.59375 \nz\n\" id=\"DejaVuSans-55\"/>\n       </defs>\n       <use xlink:href=\"#DejaVuSans-55\"/>\n       <use x=\"63.623047\" xlink:href=\"#DejaVuSans-46\"/>\n       <use x=\"95.410156\" xlink:href=\"#DejaVuSans-53\"/>\n      </g>\n     </g>\n    </g>\n    <g id=\"xtick_5\">\n     <g id=\"line2d_5\">\n      <g>\n       <use style=\"stroke:#000000;stroke-width:0.8;\" x=\"341.595118\" xlink:href=\"#m9433e74cad\" y=\"279\"/>\n      </g>\n     </g>\n     <g id=\"text_5\">\n      <!-- 10.0 -->\n      <g transform=\"translate(330.462306 293.598438)scale(0.1 -0.1)\">\n       <defs>\n        <path d=\"M 12.40625 8.296875 \nL 28.515625 8.296875 \nL 28.515625 63.921875 \nL 10.984375 60.40625 \nL 10.984375 69.390625 \nL 28.421875 72.90625 \nL 38.28125 72.90625 \nL 38.28125 8.296875 \nL 54.390625 8.296875 \nL 54.390625 0 \nL 12.40625 0 \nz\n\" id=\"DejaVuSans-49\"/>\n       </defs>\n       <use xlink:href=\"#DejaVuSans-49\"/>\n       <use x=\"63.623047\" xlink:href=\"#DejaVuSans-48\"/>\n       <use x=\"127.246094\" xlink:href=\"#DejaVuSans-46\"/>\n       <use x=\"159.033203\" xlink:href=\"#DejaVuSans-48\"/>\n      </g>\n     </g>\n    </g>\n    <g id=\"xtick_6\">\n     <g id=\"line2d_6\">\n      <g>\n       <use style=\"stroke:#000000;stroke-width:0.8;\" x=\"406.630083\" xlink:href=\"#m9433e74cad\" y=\"279\"/>\n      </g>\n     </g>\n     <g id=\"text_6\">\n      <!-- 12.5 -->\n      <g transform=\"translate(395.497271 293.598438)scale(0.1 -0.1)\">\n       <use xlink:href=\"#DejaVuSans-49\"/>\n       <use x=\"63.623047\" xlink:href=\"#DejaVuSans-50\"/>\n       <use x=\"127.246094\" xlink:href=\"#DejaVuSans-46\"/>\n       <use x=\"159.033203\" xlink:href=\"#DejaVuSans-53\"/>\n      </g>\n     </g>\n    </g>\n    <g id=\"xtick_7\">\n     <g id=\"line2d_7\">\n      <g>\n       <use style=\"stroke:#000000;stroke-width:0.8;\" x=\"471.665048\" xlink:href=\"#m9433e74cad\" y=\"279\"/>\n      </g>\n     </g>\n     <g id=\"text_7\">\n      <!-- 15.0 -->\n      <g transform=\"translate(460.532236 293.598438)scale(0.1 -0.1)\">\n       <use xlink:href=\"#DejaVuSans-49\"/>\n       <use x=\"63.623047\" xlink:href=\"#DejaVuSans-53\"/>\n       <use x=\"127.246094\" xlink:href=\"#DejaVuSans-46\"/>\n       <use x=\"159.033203\" xlink:href=\"#DejaVuSans-48\"/>\n      </g>\n     </g>\n    </g>\n    <g id=\"xtick_8\">\n     <g id=\"line2d_8\">\n      <g>\n       <use style=\"stroke:#000000;stroke-width:0.8;\" x=\"536.700013\" xlink:href=\"#m9433e74cad\" y=\"279\"/>\n      </g>\n     </g>\n     <g id=\"text_8\">\n      <!-- 17.5 -->\n      <g transform=\"translate(525.567201 293.598438)scale(0.1 -0.1)\">\n       <use xlink:href=\"#DejaVuSans-49\"/>\n       <use x=\"63.623047\" xlink:href=\"#DejaVuSans-55\"/>\n       <use x=\"127.246094\" xlink:href=\"#DejaVuSans-46\"/>\n       <use x=\"159.033203\" xlink:href=\"#DejaVuSans-53\"/>\n      </g>\n     </g>\n    </g>\n    <g id=\"xtick_9\">\n     <g id=\"line2d_9\">\n      <g>\n       <use style=\"stroke:#000000;stroke-width:0.8;\" x=\"601.734978\" xlink:href=\"#m9433e74cad\" y=\"279\"/>\n      </g>\n     </g>\n     <g id=\"text_9\">\n      <!-- 20.0 -->\n      <g transform=\"translate(590.602166 293.598438)scale(0.1 -0.1)\">\n       <use xlink:href=\"#DejaVuSans-50\"/>\n       <use x=\"63.623047\" xlink:href=\"#DejaVuSans-48\"/>\n       <use x=\"127.246094\" xlink:href=\"#DejaVuSans-46\"/>\n       <use x=\"159.033203\" xlink:href=\"#DejaVuSans-48\"/>\n      </g>\n     </g>\n    </g>\n    <g id=\"text_10\">\n     <!-- Topic -->\n     <g transform=\"translate(308.466875 311.835625)scale(0.16 -0.16)\">\n      <defs>\n       <path d=\"M -0.296875 72.90625 \nL 61.375 72.90625 \nL 61.375 64.59375 \nL 35.5 64.59375 \nL 35.5 0 \nL 25.59375 0 \nL 25.59375 64.59375 \nL -0.296875 64.59375 \nz\n\" id=\"DejaVuSans-84\"/>\n       <path d=\"M 30.609375 48.390625 \nQ 23.390625 48.390625 19.1875 42.75 \nQ 14.984375 37.109375 14.984375 27.296875 \nQ 14.984375 17.484375 19.15625 11.84375 \nQ 23.34375 6.203125 30.609375 6.203125 \nQ 37.796875 6.203125 41.984375 11.859375 \nQ 46.1875 17.53125 46.1875 27.296875 \nQ 46.1875 37.015625 41.984375 42.703125 \nQ 37.796875 48.390625 30.609375 48.390625 \nz\nM 30.609375 56 \nQ 42.328125 56 49.015625 48.375 \nQ 55.71875 40.765625 55.71875 27.296875 \nQ 55.71875 13.875 49.015625 6.21875 \nQ 42.328125 -1.421875 30.609375 -1.421875 \nQ 18.84375 -1.421875 12.171875 6.21875 \nQ 5.515625 13.875 5.515625 27.296875 \nQ 5.515625 40.765625 12.171875 48.375 \nQ 18.84375 56 30.609375 56 \nz\n\" id=\"DejaVuSans-111\"/>\n       <path d=\"M 18.109375 8.203125 \nL 18.109375 -20.796875 \nL 9.078125 -20.796875 \nL 9.078125 54.6875 \nL 18.109375 54.6875 \nL 18.109375 46.390625 \nQ 20.953125 51.265625 25.265625 53.625 \nQ 29.59375 56 35.59375 56 \nQ 45.5625 56 51.78125 48.09375 \nQ 58.015625 40.1875 58.015625 27.296875 \nQ 58.015625 14.40625 51.78125 6.484375 \nQ 45.5625 -1.421875 35.59375 -1.421875 \nQ 29.59375 -1.421875 25.265625 0.953125 \nQ 20.953125 3.328125 18.109375 8.203125 \nz\nM 48.6875 27.296875 \nQ 48.6875 37.203125 44.609375 42.84375 \nQ 40.53125 48.484375 33.40625 48.484375 \nQ 26.265625 48.484375 22.1875 42.84375 \nQ 18.109375 37.203125 18.109375 27.296875 \nQ 18.109375 17.390625 22.1875 11.75 \nQ 26.265625 6.109375 33.40625 6.109375 \nQ 40.53125 6.109375 44.609375 11.75 \nQ 48.6875 17.390625 48.6875 27.296875 \nz\n\" id=\"DejaVuSans-112\"/>\n       <path d=\"M 9.421875 54.6875 \nL 18.40625 54.6875 \nL 18.40625 0 \nL 9.421875 0 \nz\nM 9.421875 75.984375 \nL 18.40625 75.984375 \nL 18.40625 64.59375 \nL 9.421875 64.59375 \nz\n\" id=\"DejaVuSans-105\"/>\n       <path d=\"M 48.78125 52.59375 \nL 48.78125 44.1875 \nQ 44.96875 46.296875 41.140625 47.34375 \nQ 37.3125 48.390625 33.40625 48.390625 \nQ 24.65625 48.390625 19.8125 42.84375 \nQ 14.984375 37.3125 14.984375 27.296875 \nQ 14.984375 17.28125 19.8125 11.734375 \nQ 24.65625 6.203125 33.40625 6.203125 \nQ 37.3125 6.203125 41.140625 7.25 \nQ 44.96875 8.296875 48.78125 10.40625 \nL 48.78125 2.09375 \nQ 45.015625 0.34375 40.984375 -0.53125 \nQ 36.96875 -1.421875 32.421875 -1.421875 \nQ 20.0625 -1.421875 12.78125 6.34375 \nQ 5.515625 14.109375 5.515625 27.296875 \nQ 5.515625 40.671875 12.859375 48.328125 \nQ 20.21875 56 33.015625 56 \nQ 37.15625 56 41.109375 55.140625 \nQ 45.0625 54.296875 48.78125 52.59375 \nz\n\" id=\"DejaVuSans-99\"/>\n      </defs>\n      <use xlink:href=\"#DejaVuSans-84\"/>\n      <use x=\"44.083984\" xlink:href=\"#DejaVuSans-111\"/>\n      <use x=\"105.265625\" xlink:href=\"#DejaVuSans-112\"/>\n      <use x=\"168.742188\" xlink:href=\"#DejaVuSans-105\"/>\n      <use x=\"196.525391\" xlink:href=\"#DejaVuSans-99\"/>\n     </g>\n    </g>\n   </g>\n   <g id=\"matplotlib.axis_2\">\n    <g id=\"ytick_1\">\n     <g id=\"line2d_10\">\n      <defs>\n       <path d=\"M 0 0 \nL -3.5 0 \n\" id=\"m70bce9e789\" style=\"stroke:#000000;stroke-width:0.8;\"/>\n      </defs>\n      <g>\n       <use style=\"stroke:#000000;stroke-width:0.8;\" x=\"49.588125\" xlink:href=\"#m70bce9e789\" y=\"279\"/>\n      </g>\n     </g>\n     <g id=\"text_11\">\n      <!-- 0.0 -->\n      <g transform=\"translate(26.685 282.799219)scale(0.1 -0.1)\">\n       <use xlink:href=\"#DejaVuSans-48\"/>\n       <use x=\"63.623047\" xlink:href=\"#DejaVuSans-46\"/>\n       <use x=\"95.410156\" xlink:href=\"#DejaVuSans-48\"/>\n      </g>\n     </g>\n    </g>\n    <g id=\"ytick_2\">\n     <g id=\"line2d_11\">\n      <g>\n       <use style=\"stroke:#000000;stroke-width:0.8;\" x=\"49.588125\" xlink:href=\"#m70bce9e789\" y=\"226.692962\"/>\n      </g>\n     </g>\n     <g id=\"text_12\">\n      <!-- 0.1 -->\n      <g transform=\"translate(26.685 230.492181)scale(0.1 -0.1)\">\n       <use xlink:href=\"#DejaVuSans-48\"/>\n       <use x=\"63.623047\" xlink:href=\"#DejaVuSans-46\"/>\n       <use x=\"95.410156\" xlink:href=\"#DejaVuSans-49\"/>\n      </g>\n     </g>\n    </g>\n    <g id=\"ytick_3\">\n     <g id=\"line2d_12\">\n      <g>\n       <use style=\"stroke:#000000;stroke-width:0.8;\" x=\"49.588125\" xlink:href=\"#m70bce9e789\" y=\"174.385924\"/>\n      </g>\n     </g>\n     <g id=\"text_13\">\n      <!-- 0.2 -->\n      <g transform=\"translate(26.685 178.185143)scale(0.1 -0.1)\">\n       <use xlink:href=\"#DejaVuSans-48\"/>\n       <use x=\"63.623047\" xlink:href=\"#DejaVuSans-46\"/>\n       <use x=\"95.410156\" xlink:href=\"#DejaVuSans-50\"/>\n      </g>\n     </g>\n    </g>\n    <g id=\"ytick_4\">\n     <g id=\"line2d_13\">\n      <g>\n       <use style=\"stroke:#000000;stroke-width:0.8;\" x=\"49.588125\" xlink:href=\"#m70bce9e789\" y=\"122.078886\"/>\n      </g>\n     </g>\n     <g id=\"text_14\">\n      <!-- 0.3 -->\n      <g transform=\"translate(26.685 125.878105)scale(0.1 -0.1)\">\n       <defs>\n        <path d=\"M 40.578125 39.3125 \nQ 47.65625 37.796875 51.625 33 \nQ 55.609375 28.21875 55.609375 21.1875 \nQ 55.609375 10.40625 48.1875 4.484375 \nQ 40.765625 -1.421875 27.09375 -1.421875 \nQ 22.515625 -1.421875 17.65625 -0.515625 \nQ 12.796875 0.390625 7.625 2.203125 \nL 7.625 11.71875 \nQ 11.71875 9.328125 16.59375 8.109375 \nQ 21.484375 6.890625 26.8125 6.890625 \nQ 36.078125 6.890625 40.9375 10.546875 \nQ 45.796875 14.203125 45.796875 21.1875 \nQ 45.796875 27.640625 41.28125 31.265625 \nQ 36.765625 34.90625 28.71875 34.90625 \nL 20.21875 34.90625 \nL 20.21875 43.015625 \nL 29.109375 43.015625 \nQ 36.375 43.015625 40.234375 45.921875 \nQ 44.09375 48.828125 44.09375 54.296875 \nQ 44.09375 59.90625 40.109375 62.90625 \nQ 36.140625 65.921875 28.71875 65.921875 \nQ 24.65625 65.921875 20.015625 65.03125 \nQ 15.375 64.15625 9.8125 62.3125 \nL 9.8125 71.09375 \nQ 15.4375 72.65625 20.34375 73.4375 \nQ 25.25 74.21875 29.59375 74.21875 \nQ 40.828125 74.21875 47.359375 69.109375 \nQ 53.90625 64.015625 53.90625 55.328125 \nQ 53.90625 49.265625 50.4375 45.09375 \nQ 46.96875 40.921875 40.578125 39.3125 \nz\n\" id=\"DejaVuSans-51\"/>\n       </defs>\n       <use xlink:href=\"#DejaVuSans-48\"/>\n       <use x=\"63.623047\" xlink:href=\"#DejaVuSans-46\"/>\n       <use x=\"95.410156\" xlink:href=\"#DejaVuSans-51\"/>\n      </g>\n     </g>\n    </g>\n    <g id=\"ytick_5\">\n     <g id=\"line2d_14\">\n      <g>\n       <use style=\"stroke:#000000;stroke-width:0.8;\" x=\"49.588125\" xlink:href=\"#m70bce9e789\" y=\"69.771849\"/>\n      </g>\n     </g>\n     <g id=\"text_15\">\n      <!-- 0.4 -->\n      <g transform=\"translate(26.685 73.571067)scale(0.1 -0.1)\">\n       <defs>\n        <path d=\"M 37.796875 64.3125 \nL 12.890625 25.390625 \nL 37.796875 25.390625 \nz\nM 35.203125 72.90625 \nL 47.609375 72.90625 \nL 47.609375 25.390625 \nL 58.015625 25.390625 \nL 58.015625 17.1875 \nL 47.609375 17.1875 \nL 47.609375 0 \nL 37.796875 0 \nL 37.796875 17.1875 \nL 4.890625 17.1875 \nL 4.890625 26.703125 \nz\n\" id=\"DejaVuSans-52\"/>\n       </defs>\n       <use xlink:href=\"#DejaVuSans-48\"/>\n       <use x=\"63.623047\" xlink:href=\"#DejaVuSans-46\"/>\n       <use x=\"95.410156\" xlink:href=\"#DejaVuSans-52\"/>\n      </g>\n     </g>\n    </g>\n    <g id=\"ytick_6\">\n     <g id=\"line2d_15\">\n      <g>\n       <use style=\"stroke:#000000;stroke-width:0.8;\" x=\"49.588125\" xlink:href=\"#m70bce9e789\" y=\"17.464811\"/>\n      </g>\n     </g>\n     <g id=\"text_16\">\n      <!-- 0.5 -->\n      <g transform=\"translate(26.685 21.264029)scale(0.1 -0.1)\">\n       <use xlink:href=\"#DejaVuSans-48\"/>\n       <use x=\"63.623047\" xlink:href=\"#DejaVuSans-46\"/>\n       <use x=\"95.410156\" xlink:href=\"#DejaVuSans-53\"/>\n      </g>\n     </g>\n    </g>\n    <g id=\"text_17\">\n     <!-- Total Correlation (nats) -->\n     <g transform=\"translate(19.3575 234.49625)rotate(-90)scale(0.16 -0.16)\">\n      <defs>\n       <path d=\"M 18.3125 70.21875 \nL 18.3125 54.6875 \nL 36.8125 54.6875 \nL 36.8125 47.703125 \nL 18.3125 47.703125 \nL 18.3125 18.015625 \nQ 18.3125 11.328125 20.140625 9.421875 \nQ 21.96875 7.515625 27.59375 7.515625 \nL 36.8125 7.515625 \nL 36.8125 0 \nL 27.59375 0 \nQ 17.1875 0 13.234375 3.875 \nQ 9.28125 7.765625 9.28125 18.015625 \nL 9.28125 47.703125 \nL 2.6875 47.703125 \nL 2.6875 54.6875 \nL 9.28125 54.6875 \nL 9.28125 70.21875 \nz\n\" id=\"DejaVuSans-116\"/>\n       <path d=\"M 34.28125 27.484375 \nQ 23.390625 27.484375 19.1875 25 \nQ 14.984375 22.515625 14.984375 16.5 \nQ 14.984375 11.71875 18.140625 8.90625 \nQ 21.296875 6.109375 26.703125 6.109375 \nQ 34.1875 6.109375 38.703125 11.40625 \nQ 43.21875 16.703125 43.21875 25.484375 \nL 43.21875 27.484375 \nz\nM 52.203125 31.203125 \nL 52.203125 0 \nL 43.21875 0 \nL 43.21875 8.296875 \nQ 40.140625 3.328125 35.546875 0.953125 \nQ 30.953125 -1.421875 24.3125 -1.421875 \nQ 15.921875 -1.421875 10.953125 3.296875 \nQ 6 8.015625 6 15.921875 \nQ 6 25.140625 12.171875 29.828125 \nQ 18.359375 34.515625 30.609375 34.515625 \nL 43.21875 34.515625 \nL 43.21875 35.40625 \nQ 43.21875 41.609375 39.140625 45 \nQ 35.0625 48.390625 27.6875 48.390625 \nQ 23 48.390625 18.546875 47.265625 \nQ 14.109375 46.140625 10.015625 43.890625 \nL 10.015625 52.203125 \nQ 14.9375 54.109375 19.578125 55.046875 \nQ 24.21875 56 28.609375 56 \nQ 40.484375 56 46.34375 49.84375 \nQ 52.203125 43.703125 52.203125 31.203125 \nz\n\" id=\"DejaVuSans-97\"/>\n       <path d=\"M 9.421875 75.984375 \nL 18.40625 75.984375 \nL 18.40625 0 \nL 9.421875 0 \nz\n\" id=\"DejaVuSans-108\"/>\n       <path id=\"DejaVuSans-32\"/>\n       <path d=\"M 64.40625 67.28125 \nL 64.40625 56.890625 \nQ 59.421875 61.53125 53.78125 63.8125 \nQ 48.140625 66.109375 41.796875 66.109375 \nQ 29.296875 66.109375 22.65625 58.46875 \nQ 16.015625 50.828125 16.015625 36.375 \nQ 16.015625 21.96875 22.65625 14.328125 \nQ 29.296875 6.6875 41.796875 6.6875 \nQ 48.140625 6.6875 53.78125 8.984375 \nQ 59.421875 11.28125 64.40625 15.921875 \nL 64.40625 5.609375 \nQ 59.234375 2.09375 53.4375 0.328125 \nQ 47.65625 -1.421875 41.21875 -1.421875 \nQ 24.65625 -1.421875 15.125 8.703125 \nQ 5.609375 18.84375 5.609375 36.375 \nQ 5.609375 53.953125 15.125 64.078125 \nQ 24.65625 74.21875 41.21875 74.21875 \nQ 47.75 74.21875 53.53125 72.484375 \nQ 59.328125 70.75 64.40625 67.28125 \nz\n\" id=\"DejaVuSans-67\"/>\n       <path d=\"M 41.109375 46.296875 \nQ 39.59375 47.171875 37.8125 47.578125 \nQ 36.03125 48 33.890625 48 \nQ 26.265625 48 22.1875 43.046875 \nQ 18.109375 38.09375 18.109375 28.8125 \nL 18.109375 0 \nL 9.078125 0 \nL 9.078125 54.6875 \nL 18.109375 54.6875 \nL 18.109375 46.1875 \nQ 20.953125 51.171875 25.484375 53.578125 \nQ 30.03125 56 36.53125 56 \nQ 37.453125 56 38.578125 55.875 \nQ 39.703125 55.765625 41.0625 55.515625 \nz\n\" id=\"DejaVuSans-114\"/>\n       <path d=\"M 56.203125 29.59375 \nL 56.203125 25.203125 \nL 14.890625 25.203125 \nQ 15.484375 15.921875 20.484375 11.0625 \nQ 25.484375 6.203125 34.421875 6.203125 \nQ 39.59375 6.203125 44.453125 7.46875 \nQ 49.3125 8.734375 54.109375 11.28125 \nL 54.109375 2.78125 \nQ 49.265625 0.734375 44.1875 -0.34375 \nQ 39.109375 -1.421875 33.890625 -1.421875 \nQ 20.796875 -1.421875 13.15625 6.1875 \nQ 5.515625 13.8125 5.515625 26.8125 \nQ 5.515625 40.234375 12.765625 48.109375 \nQ 20.015625 56 32.328125 56 \nQ 43.359375 56 49.78125 48.890625 \nQ 56.203125 41.796875 56.203125 29.59375 \nz\nM 47.21875 32.234375 \nQ 47.125 39.59375 43.09375 43.984375 \nQ 39.0625 48.390625 32.421875 48.390625 \nQ 24.90625 48.390625 20.390625 44.140625 \nQ 15.875 39.890625 15.1875 32.171875 \nz\n\" id=\"DejaVuSans-101\"/>\n       <path d=\"M 54.890625 33.015625 \nL 54.890625 0 \nL 45.90625 0 \nL 45.90625 32.71875 \nQ 45.90625 40.484375 42.875 44.328125 \nQ 39.84375 48.1875 33.796875 48.1875 \nQ 26.515625 48.1875 22.3125 43.546875 \nQ 18.109375 38.921875 18.109375 30.90625 \nL 18.109375 0 \nL 9.078125 0 \nL 9.078125 54.6875 \nL 18.109375 54.6875 \nL 18.109375 46.1875 \nQ 21.34375 51.125 25.703125 53.5625 \nQ 30.078125 56 35.796875 56 \nQ 45.21875 56 50.046875 50.171875 \nQ 54.890625 44.34375 54.890625 33.015625 \nz\n\" id=\"DejaVuSans-110\"/>\n       <path d=\"M 31 75.875 \nQ 24.46875 64.65625 21.28125 53.65625 \nQ 18.109375 42.671875 18.109375 31.390625 \nQ 18.109375 20.125 21.3125 9.0625 \nQ 24.515625 -2 31 -13.1875 \nL 23.1875 -13.1875 \nQ 15.875 -1.703125 12.234375 9.375 \nQ 8.59375 20.453125 8.59375 31.390625 \nQ 8.59375 42.28125 12.203125 53.3125 \nQ 15.828125 64.359375 23.1875 75.875 \nz\n\" id=\"DejaVuSans-40\"/>\n       <path d=\"M 44.28125 53.078125 \nL 44.28125 44.578125 \nQ 40.484375 46.53125 36.375 47.5 \nQ 32.28125 48.484375 27.875 48.484375 \nQ 21.1875 48.484375 17.84375 46.4375 \nQ 14.5 44.390625 14.5 40.28125 \nQ 14.5 37.15625 16.890625 35.375 \nQ 19.28125 33.59375 26.515625 31.984375 \nL 29.59375 31.296875 \nQ 39.15625 29.25 43.1875 25.515625 \nQ 47.21875 21.78125 47.21875 15.09375 \nQ 47.21875 7.46875 41.1875 3.015625 \nQ 35.15625 -1.421875 24.609375 -1.421875 \nQ 20.21875 -1.421875 15.453125 -0.5625 \nQ 10.6875 0.296875 5.421875 2 \nL 5.421875 11.28125 \nQ 10.40625 8.6875 15.234375 7.390625 \nQ 20.0625 6.109375 24.8125 6.109375 \nQ 31.15625 6.109375 34.5625 8.28125 \nQ 37.984375 10.453125 37.984375 14.40625 \nQ 37.984375 18.0625 35.515625 20.015625 \nQ 33.0625 21.96875 24.703125 23.78125 \nL 21.578125 24.515625 \nQ 13.234375 26.265625 9.515625 29.90625 \nQ 5.8125 33.546875 5.8125 39.890625 \nQ 5.8125 47.609375 11.28125 51.796875 \nQ 16.75 56 26.8125 56 \nQ 31.78125 56 36.171875 55.265625 \nQ 40.578125 54.546875 44.28125 53.078125 \nz\n\" id=\"DejaVuSans-115\"/>\n       <path d=\"M 8.015625 75.875 \nL 15.828125 75.875 \nQ 23.140625 64.359375 26.78125 53.3125 \nQ 30.421875 42.28125 30.421875 31.390625 \nQ 30.421875 20.453125 26.78125 9.375 \nQ 23.140625 -1.703125 15.828125 -13.1875 \nL 8.015625 -13.1875 \nQ 14.5 -2 17.703125 9.0625 \nQ 20.90625 20.125 20.90625 31.390625 \nQ 20.90625 42.671875 17.703125 53.65625 \nQ 14.5 64.65625 8.015625 75.875 \nz\n\" id=\"DejaVuSans-41\"/>\n      </defs>\n      <use xlink:href=\"#DejaVuSans-84\"/>\n      <use x=\"44.083984\" xlink:href=\"#DejaVuSans-111\"/>\n      <use x=\"105.265625\" xlink:href=\"#DejaVuSans-116\"/>\n      <use x=\"144.474609\" xlink:href=\"#DejaVuSans-97\"/>\n      <use x=\"205.753906\" xlink:href=\"#DejaVuSans-108\"/>\n      <use x=\"233.537109\" xlink:href=\"#DejaVuSans-32\"/>\n      <use x=\"265.324219\" xlink:href=\"#DejaVuSans-67\"/>\n      <use x=\"335.148438\" xlink:href=\"#DejaVuSans-111\"/>\n      <use x=\"396.330078\" xlink:href=\"#DejaVuSans-114\"/>\n      <use x=\"435.693359\" xlink:href=\"#DejaVuSans-114\"/>\n      <use x=\"474.556641\" xlink:href=\"#DejaVuSans-101\"/>\n      <use x=\"536.080078\" xlink:href=\"#DejaVuSans-108\"/>\n      <use x=\"563.863281\" xlink:href=\"#DejaVuSans-97\"/>\n      <use x=\"625.142578\" xlink:href=\"#DejaVuSans-116\"/>\n      <use x=\"664.351562\" xlink:href=\"#DejaVuSans-105\"/>\n      <use x=\"692.134766\" xlink:href=\"#DejaVuSans-111\"/>\n      <use x=\"753.316406\" xlink:href=\"#DejaVuSans-110\"/>\n      <use x=\"816.695312\" xlink:href=\"#DejaVuSans-32\"/>\n      <use x=\"848.482422\" xlink:href=\"#DejaVuSans-40\"/>\n      <use x=\"887.496094\" xlink:href=\"#DejaVuSans-110\"/>\n      <use x=\"950.875\" xlink:href=\"#DejaVuSans-97\"/>\n      <use x=\"1012.154297\" xlink:href=\"#DejaVuSans-116\"/>\n      <use x=\"1051.363281\" xlink:href=\"#DejaVuSans-115\"/>\n      <use x=\"1103.462891\" xlink:href=\"#DejaVuSans-41\"/>\n     </g>\n    </g>\n   </g>\n   <g id=\"patch_23\">\n    <path d=\"M 49.588125 279 \nL 49.588125 7.2 \n\" style=\"fill:none;stroke:#000000;stroke-linecap:square;stroke-linejoin:miter;stroke-width:0.8;\"/>\n   </g>\n   <g id=\"patch_24\">\n    <path d=\"M 607.588125 279 \nL 607.588125 7.2 \n\" style=\"fill:none;stroke:#000000;stroke-linecap:square;stroke-linejoin:miter;stroke-width:0.8;\"/>\n   </g>\n   <g id=\"patch_25\">\n    <path d=\"M 49.588125 279 \nL 607.588125 279 \n\" style=\"fill:none;stroke:#000000;stroke-linecap:square;stroke-linejoin:miter;stroke-width:0.8;\"/>\n   </g>\n   <g id=\"patch_26\">\n    <path d=\"M 49.588125 7.2 \nL 607.588125 7.2 \n\" style=\"fill:none;stroke:#000000;stroke-linecap:square;stroke-linejoin:miter;stroke-width:0.8;\"/>\n   </g>\n  </g>\n </g>\n <defs>\n  <clipPath id=\"pce6066faf8\">\n   <rect height=\"271.8\" width=\"558\" x=\"49.588125\" y=\"7.2\"/>\n  </clipPath>\n </defs>\n</svg>\n",
      "image/png": "[encoded data removed]"
     },
     "metadata": {
      "needs_background": "light"
     }
    }
   ],
   "source": [
    "plt.figure(figsize=(10,5))\n",
    "plt.bar(range(model.tcs.shape[0]), model.tcs, color='#4e79a7', width=0.5)\n",
    "plt.xlabel('Topic', fontsize=16)\n",
    "plt.ylabel('Total Correlation (nats)', fontsize=16);"
   ]
  },
  {
   "cell_type": "code",
   "execution_count": 68,
   "metadata": {},
   "outputs": [
    {
     "output_type": "execute_result",
     "data": {
      "text/plain": [
       "                                            Sentences Comment Datetime  \\\n",
       "0   Because TT takes a lot of battery and super la...           3/6/21   \n",
       "2   Peasantboy wrote: Recently, a lot of governmen...           3/6/21   \n",
       "10  Waiting to go Parliament to make that law If t...           3/6/21   \n",
       "16  SG is the easiest place to roll out such thing...           3/6/21   \n",
       "18  Similar in the security industries, keep addin...           3/7/21   \n",
       "\n",
       "    Textblob_polarity_score  Textblob_subjectivity_score  Vader_neg_score  \\\n",
       "0                  0.277778                     0.430556            0.000   \n",
       "2                  0.000000                     0.250000            0.000   \n",
       "10                 0.025000                     0.458333            0.218   \n",
       "16                -0.150000                     0.541667            0.168   \n",
       "18                 0.000000                     0.325000            0.000   \n",
       "\n",
       "    Vader_neu_score  Vader_pos_score  Vader_compound_score Emotions  \\\n",
       "0             0.736            0.264                0.7783      joy   \n",
       "2             1.000            0.000                0.0000    anger   \n",
       "10            0.782            0.000               -0.7713    anger   \n",
       "16            0.671            0.161               -0.0754    anger   \n",
       "18            0.796            0.204                0.5994     fear   \n",
       "\n",
       "            Topic  ...  topic_11 topic_12  topic_13  topic_14  topic_15  \\\n",
       "0   Tracetogether  ...       0.0      0.0       0.0       0.0       0.0   \n",
       "2   Tracetogether  ...       0.0      0.0       0.0       0.0       0.0   \n",
       "10  Tracetogether  ...       0.0      0.0       0.0       0.0       0.0   \n",
       "16  Tracetogether  ...       0.0      0.0       0.0       0.0       0.0   \n",
       "18  Tracetogether  ...       0.0      0.0       0.0       0.0       0.0   \n",
       "\n",
       "    topic_16  topic_17  topic_18  topic_19  topic_20  \n",
       "0        1.0       0.0       1.0       0.0       1.0  \n",
       "2        1.0       0.0       1.0       0.0       1.0  \n",
       "10       1.0       0.0       1.0       0.0       1.0  \n",
       "16       1.0       0.0       1.0       0.0       1.0  \n",
       "18       1.0       0.0       1.0       0.0       1.0  \n",
       "\n",
       "[5 rows x 32 columns]"
      ],
      "text/html": "<div>\n<style scoped>\n    .dataframe tbody tr th:only-of-type {\n        vertical-align: middle;\n    }\n\n    .dataframe tbody tr th {\n        vertical-align: top;\n    }\n\n    .dataframe thead th {\n        text-align: right;\n    }\n</style>\n<table border=\"1\" class=\"dataframe\">\n  <thead>\n    <tr style=\"text-align: right;\">\n      <th></th>\n      <th>Sentences</th>\n      <th>Comment Datetime</th>\n      <th>Textblob_polarity_score</th>\n      <th>Textblob_subjectivity_score</th>\n      <th>Vader_neg_score</th>\n      <th>Vader_neu_score</th>\n      <th>Vader_pos_score</th>\n      <th>Vader_compound_score</th>\n      <th>Emotions</th>\n      <th>Topic</th>\n      <th>...</th>\n      <th>topic_11</th>\n      <th>topic_12</th>\n      <th>topic_13</th>\n      <th>topic_14</th>\n      <th>topic_15</th>\n      <th>topic_16</th>\n      <th>topic_17</th>\n      <th>topic_18</th>\n      <th>topic_19</th>\n      <th>topic_20</th>\n    </tr>\n  </thead>\n  <tbody>\n    <tr>\n      <th>0</th>\n      <td>Because TT takes a lot of battery and super la...</td>\n      <td>3/6/21</td>\n      <td>0.277778</td>\n      <td>0.430556</td>\n      <td>0.000</td>\n      <td>0.736</td>\n      <td>0.264</td>\n      <td>0.7783</td>\n      <td>joy</td>\n      <td>Tracetogether</td>\n      <td>...</td>\n      <td>0.0</td>\n      <td>0.0</td>\n      <td>0.0</td>\n      <td>0.0</td>\n      <td>0.0</td>\n      <td>1.0</td>\n      <td>0.0</td>\n      <td>1.0</td>\n      <td>0.0</td>\n      <td>1.0</td>\n    </tr>\n    <tr>\n      <th>2</th>\n      <td>Peasantboy wrote: Recently, a lot of governmen...</td>\n      <td>3/6/21</td>\n      <td>0.000000</td>\n      <td>0.250000</td>\n      <td>0.000</td>\n      <td>1.000</td>\n      <td>0.000</td>\n      <td>0.0000</td>\n      <td>anger</td>\n      <td>Tracetogether</td>\n      <td>...</td>\n      <td>0.0</td>\n      <td>0.0</td>\n      <td>0.0</td>\n      <td>0.0</td>\n      <td>0.0</td>\n      <td>1.0</td>\n      <td>0.0</td>\n      <td>1.0</td>\n      <td>0.0</td>\n      <td>1.0</td>\n    </tr>\n    <tr>\n      <th>10</th>\n      <td>Waiting to go Parliament to make that law If t...</td>\n      <td>3/6/21</td>\n      <td>0.025000</td>\n      <td>0.458333</td>\n      <td>0.218</td>\n      <td>0.782</td>\n      <td>0.000</td>\n      <td>-0.7713</td>\n      <td>anger</td>\n      <td>Tracetogether</td>\n      <td>...</td>\n      <td>0.0</td>\n      <td>0.0</td>\n      <td>0.0</td>\n      <td>0.0</td>\n      <td>0.0</td>\n      <td>1.0</td>\n      <td>0.0</td>\n      <td>1.0</td>\n      <td>0.0</td>\n      <td>1.0</td>\n    </tr>\n    <tr>\n      <th>16</th>\n      <td>SG is the easiest place to roll out such thing...</td>\n      <td>3/6/21</td>\n      <td>-0.150000</td>\n      <td>0.541667</td>\n      <td>0.168</td>\n      <td>0.671</td>\n      <td>0.161</td>\n      <td>-0.0754</td>\n      <td>anger</td>\n      <td>Tracetogether</td>\n      <td>...</td>\n      <td>0.0</td>\n      <td>0.0</td>\n      <td>0.0</td>\n      <td>0.0</td>\n      <td>0.0</td>\n      <td>1.0</td>\n      <td>0.0</td>\n      <td>1.0</td>\n      <td>0.0</td>\n      <td>1.0</td>\n    </tr>\n    <tr>\n      <th>18</th>\n      <td>Similar in the security industries, keep addin...</td>\n      <td>3/7/21</td>\n      <td>0.000000</td>\n      <td>0.325000</td>\n      <td>0.000</td>\n      <td>0.796</td>\n      <td>0.204</td>\n      <td>0.5994</td>\n      <td>fear</td>\n      <td>Tracetogether</td>\n      <td>...</td>\n      <td>0.0</td>\n      <td>0.0</td>\n      <td>0.0</td>\n      <td>0.0</td>\n      <td>0.0</td>\n      <td>1.0</td>\n      <td>0.0</td>\n      <td>1.0</td>\n      <td>0.0</td>\n      <td>1.0</td>\n    </tr>\n  </tbody>\n</table>\n<p>5 rows × 32 columns</p>\n</div>"
     },
     "metadata": {},
     "execution_count": 68
    }
   ],
   "source": [
    "topic_df = pd.DataFrame(model.transform(tfidf), columns=[\"topic_{}\".format(i+1) for i in range (20)]).astype(float)\n",
    "topic_df.index = em_df.index\n",
    "df = pd.concat([em_df, topic_df], axis=1)\n",
    "df.head()"
   ]
  },
  {
   "cell_type": "code",
   "execution_count": 86,
   "metadata": {},
   "outputs": [],
   "source": [
    "df.to_csv('/Users/chenjianyu/Desktop/Corex Topic Modelling/tt_valuable_corex_topics.csv')"
   ]
  },
  {
   "cell_type": "code",
   "execution_count": 93,
   "metadata": {},
   "outputs": [],
   "source": [
    "topics_dict = {}\n",
    "\n",
    "for i in range(20):\n",
    "    topics_dict[f'topic{i}'] = {}\n",
    "    topic = df[df[f'topic_{i+1}'] == 1.0]\n",
    "    pos_count = df_topic0[df_topic0['Vader_compound_score'] >= 0.1]\n",
    "    neg_count = df_topic0[df_topic0['Vader_compound_score'] <= -0.01]\n",
    "    emotions_count = list(df_topic0['Emotions'].value_counts())\n",
    "\n",
    "    topics_dict[f'topic{i}']['positive'] = len(pos_count)\n",
    "    topics_dict[f'topic{i}']['negative'] = len(neg_count)\n",
    "    topics_dict[f'topic{i}']['emotions'] = {\n",
    "        'anger': emotions_count[0],\n",
    "        'fear': emotions_count[1],\n",
    "        'joy': emotions_count[2],\n",
    "        'neutral': emotions_count[3],\n",
    "        'sadness': emotions_count[4]\n",
    "        }\n",
    "\n",
    "topics_dict['anchors'] = anchors\n",
    "topics_dict['top_words'] = top_words\n",
    "    \n",
    "pickle.dump(topics_dict, open('tracetogether_topic_counts.sav', 'wb'))\n",
    "# x = pickle.load(open('tracetogether_topic_counts.sav', 'rb'))"
   ]
  },
  {
   "source": [
    "# Mask"
   ],
   "cell_type": "markdown",
   "metadata": {}
  },
  {
   "cell_type": "code",
   "execution_count": 140,
   "metadata": {},
   "outputs": [
    {
     "output_type": "execute_result",
     "data": {
      "text/plain": [
       "6038"
      ]
     },
     "metadata": {},
     "execution_count": 140
    }
   ],
   "source": [
    "em_df = pd.read_csv(f'{parent_path}/Data/Sentiment Data/tracetogether_valuable_opinions.csv')\n",
    "# em_df = pd.read_csv(f'{parent_path}/Data/Sentiment Data/mask_valuable_sentiments.csv')\n",
    "em_df.drop(columns=['Unnamed: 0', 'index'], inplace=True)\n",
    "em_df['Topic'] = 'Mask'\n",
    "len(em_df)"
   ]
  },
  {
   "cell_type": "code",
   "execution_count": 141,
   "metadata": {},
   "outputs": [],
   "source": [
    "corpus = PlaintextCorpusReader('/Users/chenjianyu/Library/Mobile Documents/com~apple~CloudDocs/SMU/SMU Module Materials/Y2S2/SMT203 Computational Social Sci/Covid-19-Singapore-Analysis/Data/Policy Documents', '.+\\.txt', encoding='utf-8')\n",
    "fid = corpus.fileids()\n",
    "fid.sort()\n",
    "\n",
    "doc_words = [corpus.words(f) for f in fid]\n",
    "\n",
    "    ## Splitting the labelled data to its own policy/topic\n",
    "# circuit_breaker_comments = cb_df[cb_df['Topic'] == 'Circuit Breaker']\n",
    "# economic_measures_comments = cb_df[cb_df['Topic'] == 'Economic Measures']\n",
    "# foreign_worker_comments = cb_df[cb_df['Topic'] == 'Foreign Worker']\n",
    "mask_comments = em_df[em_df['Topic'] == 'Mask']\n",
    "# phases_comments = cb_df[cb_df['Topic'] == 'Phases']\n",
    "# safe_entry_comments = cb_df[cb_df['Topic'] == 'Safe Entry']\n",
    "# social_distancing_comments = cb_df[cb_df['Topic'] == 'Social Distancing']\n",
    "# stay_home_notice_comments = cb_df[cb_df['Topic'] == 'Stay Home Notice']\n",
    "# tracetogether_comments = em_df[em_df['Topic'] == 'Tracetogether']\n",
    "# vaccination_comments = cb_df[cb_df['Topic'] == 'Vaccination']\n",
    "comments = [mask_comments]\n",
    "# comments = [circuit_breaker_comments, economic_measures_comments ,foreign_worker_comments, mask_comments, phases_comments, safe_entry_comments, social_distancing_comments, stay_home_notice_comments, tracetogether_comments, vaccination_comments]\n",
    "\n",
    "    ## Calculating KL-divergence relevance score for each comment to its respective policy topic\n",
    "for i in range(len(comments)):\n",
    "    doc_unigram, doc_nouns = topic_doc_unigram(doc_words[i], k=1)\n",
    "    relavance_scores = []\n",
    "    for row in em_df['Sentences']:\n",
    "        cmt_unigram, cmt_nouns = comment_unigram(row, k=1)\n",
    "        score = KLDiv_relevance_score(doc_unigram, cmt_unigram, doc_nouns, cmt_nouns)\n",
    "        relavance_scores.append(score)\n",
    "    comments[i]['Relevance score'] = relavance_scores\n",
    "\n",
    "df_final = pd.concat(comments, ignore_index=True)"
   ]
  },
  {
   "cell_type": "code",
   "execution_count": 142,
   "metadata": {},
   "outputs": [
    {
     "output_type": "execute_result",
     "data": {
      "text/plain": [
       "count    6038.000000\n",
       "mean       60.681229\n",
       "std        89.481632\n",
       "min         2.905036\n",
       "25%        18.414744\n",
       "50%        36.131131\n",
       "75%        56.271756\n",
       "max       408.447008\n",
       "Name: Relevance score, dtype: float64"
      ]
     },
     "metadata": {},
     "execution_count": 142
    }
   ],
   "source": [
    "df_final['Relevance score'].describe()"
   ]
  },
  {
   "cell_type": "code",
   "execution_count": 143,
   "metadata": {},
   "outputs": [
    {
     "output_type": "execute_result",
     "data": {
      "text/plain": [
       "1569"
      ]
     },
     "metadata": {},
     "execution_count": 143
    }
   ],
   "source": [
    "em_df = df_final[df_final['Relevance score'] <= 20]\n",
    "len(em_df)"
   ]
  },
  {
   "cell_type": "code",
   "execution_count": 144,
   "metadata": {},
   "outputs": [
    {
     "output_type": "stream",
     "name": "stderr",
     "text": [
      "<ipython-input-144-1f63f3ad2eb9>:16: SettingWithCopyWarning: \nA value is trying to be set on a copy of a slice from a DataFrame.\nTry using .loc[row_indexer,col_indexer] = value instead\n\nSee the caveats in the documentation: https://pandas.pydata.org/pandas-docs/stable/user_guide/indexing.html#returning-a-view-versus-a-copy\n  em_df['Comments'] = comments\n"
     ]
    }
   ],
   "source": [
    "eng_words = words.words()\n",
    "comments = []\n",
    "i = 0\n",
    "for row in em_df['Sentences']:\n",
    "    text = remove_hashtag_mentions_urls(row)\n",
    "    text_tokenize = TweetTokenizer().tokenize(text)\n",
    "    text_lower = [w.lower() for w in text_tokenize]\n",
    "    text_words_only = [w for w in text_lower if re.search('^[a-z]+$',w)]\n",
    "    text_eng_words = [w for w in text_words_only if w in eng_words]\n",
    "    text_drop_2letters = [w for w in text_eng_words if len(w) > 2]\n",
    "    text_joined = ' '.join(text_drop_2letters)\n",
    "    comments.append(text_joined)\n",
    "    # print(i)\n",
    "    i+=1\n",
    "\n",
    "em_df['Comments'] = comments"
   ]
  },
  {
   "cell_type": "code",
   "execution_count": 145,
   "metadata": {},
   "outputs": [
    {
     "output_type": "execute_result",
     "data": {
      "text/plain": [
       "15394"
      ]
     },
     "metadata": {},
     "execution_count": 145
    }
   ],
   "source": [
    "vectorizer = TfidfVectorizer(ngram_range=(1, 2), stop_words='english', max_df=0.5)\n",
    "vectorizer = vectorizer.fit(em_df['Comments'])\n",
    "tfidf = vectorizer.transform(em_df['Comments'])\n",
    "vocab = vectorizer.get_feature_names()\n",
    "len(vocab)"
   ]
  },
  {
   "cell_type": "code",
   "execution_count": 146,
   "metadata": {},
   "outputs": [],
   "source": [
    "anchors = [\n",
    "    ['reusable', 'wash', 'disposable mask', 'collect', 'free', 'distribution', 'distribute', 'give', 'squeezing', 'washable'],\n",
    "    ['cough', 'sneeze', 'no mask', 'hygiene', 'flu', 'sick', 'wear mask', 'prevent', 'exposure'],\n",
    "    ['shortage', 'replenish', 'mask supply', 'manufacture', 'export mask', 'import mask', 'insufficient','frontline worker','sell'],\n",
    "    ['exercise', 'running', 'jogging', 'smoking', 'eating', 'drinking', 'unmask'], \n",
    "    ['fines', 'comply', 'mandatory', 'socially responsible'],\n",
    "    ['cases', 'control', 'positive', 'negative', 'test', 'asymptomatic', 'community', 'transmission', 'protection', 'critical']\n",
    "]\n",
    "anchors = [\n",
    "    [a for a in topic if a in vocab] for topic in anchors\n",
    "]\n",
    "\n",
    "model = ct.Corex(n_hidden = 20, seed = 8)\n",
    "model = model.fit(tfidf, words = vocab, anchors = anchors, anchor_strength=7)\n",
    "# model.get_topics(topic=0, n_words=10)"
   ]
  },
  {
   "cell_type": "code",
   "execution_count": 147,
   "metadata": {},
   "outputs": [
    {
     "output_type": "stream",
     "name": "stdout",
     "text": [
      "Topic #1: free, collect, sheep, people free, convenience, shepherd, clothes, final, given time, respect policy\n\nTopic #2: sick, exposure, flu, fake news, fake, news, hygiene, coast, east coast, exposure notification\n\nTopic #3: sell, insufficient, shortage, quarter, quarter population, winning, mad, gain access, access house, better record\n\nTopic #4: running, exercise, interact, valuable, distance, school, whereabouts, company, mass testing, foreground\n\nTopic #5: mandatory, comply, memory, know use, mandatory people, scanner, nowadays, police need, device location, location device\n\nTopic #6: control, positive, test, protection, transmission, asymptomatic, covid positive, able track, control data, computer\n\nTopic #7: scene, likely closet, closet opportunistic, closet, opportunistic, arms, vice, arms likely, opportunistic vice, think arms\n\nTopic #8: addition, decided good, risk analysis, thing release, addition risk, addition shop, sarcasm, sarcasm people\n\nTopic #9: murder course, need legislate, type thing, legislate inform, legality type, legality, course talking, used robbery, thing need, robbery murder\n\nTopic #10: wish right, fighting democratic, justice wish, democratic justice, democratic, justice, right privacy\n\nTopic #11: cheerfully, happily cheerfully, cheerfully stand, pandemic longer, machine learning, machine, better pinpoint, longer government, government happily, stand\n\nTopic #12: include certain, progressively include, start progressively, progressively, check point, mean check, point world\n\nTopic #13: privacy rest, open privacy, don open\n\nTopic #14: used contact, criminal, procedure code, criminal procedure, procedure, obtain data, data used, used, obtain, data\n\nTopic #15: enforcement access, carve data, carve, easily carve, data law, added stress, oversea, oversea added, coming oversea, stress contact\n\nTopic #16: said use, token plus, plus data, way trace, use said, expressly said, work government, expressly, just expressly, considered fact\n\nTopic #17: data supposed, supposed use\n\nTopic #18: apple follow, follow law, consent fight, tracked consent, data tracked, phone data, fight covid\n\nTopic #19: consternation, community case, look community, revelation data, responsibility anxiety, anxiety consternation, anxiety, good location, location history, primary protocol\n\nTopic #20: slippery, slippery slope, slope, convey, tracer hope, wrote contact, contact tracer, possible slippery, slope trigger, tracer\n\n"
     ]
    }
   ],
   "source": [
    "for i, topic_ngrams in enumerate(model.get_topics()):\n",
    "    topic_ngrams = [ngram[0] for ngram in topic_ngrams if ngram[1] > 0]\n",
    "    print(\"Topic #{}: {}\".format(i+1, \", \".join(topic_ngrams)))\n",
    "    print()"
   ]
  },
  {
   "cell_type": "code",
   "execution_count": 148,
   "metadata": {},
   "outputs": [
    {
     "output_type": "display_data",
     "data": {
      "text/plain": "<Figure size 720x360 with 1 Axes>",
      "image/svg+xml": "<?xml version=\"1.0\" encoding=\"utf-8\" standalone=\"no\"?>\n<!DOCTYPE svg PUBLIC \"-//W3C//DTD SVG 1.1//EN\"\n  \"http://www.w3.org/Graphics/SVG/1.1/DTD/svg11.dtd\">\n<!-- Created with matplotlib (https://matplotlib.org/) -->\n<svg height=\"322.363125pt\" version=\"1.1\" viewBox=\"0 0 626.430291 322.363125\" width=\"626.430291pt\" xmlns=\"http://www.w3.org/2000/svg\" xmlns:xlink=\"http://www.w3.org/1999/xlink\">\n <metadata>\n  <rdf:RDF xmlns:cc=\"http://creativecommons.org/ns#\" xmlns:dc=\"http://purl.org/dc/elements/1.1/\" xmlns:rdf=\"http://www.w3.org/1999/02/22-rdf-syntax-ns#\">\n   <cc:Work>\n    <dc:type rdf:resource=\"http://purl.org/dc/dcmitype/StillImage\"/>\n    <dc:date>2021-03-25T01:02:29.384548</dc:date>\n    <dc:format>image/svg+xml</dc:format>\n    <dc:creator>\n     <cc:Agent>\n      <dc:title>Matplotlib v3.3.3, https://matplotlib.org/</dc:title>\n     </cc:Agent>\n    </dc:creator>\n   </cc:Work>\n  </rdf:RDF>\n </metadata>\n <defs>\n  <style type=\"text/css\">*{stroke-linecap:butt;stroke-linejoin:round;}</style>\n </defs>\n <g id=\"figure_1\">\n  <g id=\"patch_1\">\n   <path d=\"M 0 322.363125 \nL 626.430291 322.363125 \nL 626.430291 0 \nL 0 0 \nz\n\" style=\"fill:none;\"/>\n  </g>\n  <g id=\"axes_1\">\n   <g id=\"patch_2\">\n    <path d=\"M 55.950625 279 \nL 613.950625 279 \nL 613.950625 7.2 \nL 55.950625 7.2 \nz\n\" style=\"fill:#ffffff;\"/>\n   </g>\n   <g id=\"patch_3\">\n    <path clip-path=\"url(#paff1f97cfd)\" d=\"M 81.314261 279 \nL 94.321254 279 \nL 94.321254 49.014653 \nL 81.314261 49.014653 \nz\n\" style=\"fill:#4e79a7;\"/>\n   </g>\n   <g id=\"patch_4\">\n    <path clip-path=\"url(#paff1f97cfd)\" d=\"M 107.328247 279 \nL 120.33524 279 \nL 120.33524 96.915441 \nL 107.328247 96.915441 \nz\n\" style=\"fill:#4e79a7;\"/>\n   </g>\n   <g id=\"patch_5\">\n    <path clip-path=\"url(#paff1f97cfd)\" d=\"M 133.342233 279 \nL 146.349226 279 \nL 146.349226 152.220464 \nL 133.342233 152.220464 \nz\n\" style=\"fill:#4e79a7;\"/>\n   </g>\n   <g id=\"patch_6\">\n    <path clip-path=\"url(#paff1f97cfd)\" d=\"M 159.356219 279 \nL 172.363212 279 \nL 172.363212 39.307378 \nL 159.356219 39.307378 \nz\n\" style=\"fill:#4e79a7;\"/>\n   </g>\n   <g id=\"patch_7\">\n    <path clip-path=\"url(#paff1f97cfd)\" d=\"M 185.370205 279 \nL 198.377198 279 \nL 198.377198 78.301655 \nL 185.370205 78.301655 \nz\n\" style=\"fill:#4e79a7;\"/>\n   </g>\n   <g id=\"patch_8\">\n    <path clip-path=\"url(#paff1f97cfd)\" d=\"M 211.384191 279 \nL 224.391184 279 \nL 224.391184 20.142857 \nL 211.384191 20.142857 \nz\n\" style=\"fill:#4e79a7;\"/>\n   </g>\n   <g id=\"patch_9\">\n    <path clip-path=\"url(#paff1f97cfd)\" d=\"M 237.398177 279 \nL 250.40517 279 \nL 250.40517 250.045644 \nL 237.398177 250.045644 \nz\n\" style=\"fill:#4e79a7;\"/>\n   </g>\n   <g id=\"patch_10\">\n    <path clip-path=\"url(#paff1f97cfd)\" d=\"M 263.412163 279 \nL 276.419156 279 \nL 276.419156 278.572151 \nL 263.412163 278.572151 \nz\n\" style=\"fill:#4e79a7;\"/>\n   </g>\n   <g id=\"patch_11\">\n    <path clip-path=\"url(#paff1f97cfd)\" d=\"M 289.426149 279 \nL 302.433142 279 \nL 302.433142 233.191901 \nL 289.426149 233.191901 \nz\n\" style=\"fill:#4e79a7;\"/>\n   </g>\n   <g id=\"patch_12\">\n    <path clip-path=\"url(#paff1f97cfd)\" d=\"M 315.440135 279 \nL 328.447128 279 \nL 328.447128 277.602393 \nL 315.440135 277.602393 \nz\n\" style=\"fill:#4e79a7;\"/>\n   </g>\n   <g id=\"patch_13\">\n    <path clip-path=\"url(#paff1f97cfd)\" d=\"M 341.454122 279 \nL 354.461115 279 \nL 354.461115 264.324941 \nL 341.454122 264.324941 \nz\n\" style=\"fill:#4e79a7;\"/>\n   </g>\n   <g id=\"patch_14\">\n    <path clip-path=\"url(#paff1f97cfd)\" d=\"M 367.468108 279 \nL 380.475101 279 \nL 380.475101 278.399583 \nL 367.468108 278.399583 \nz\n\" style=\"fill:#4e79a7;\"/>\n   </g>\n   <g id=\"patch_15\">\n    <path clip-path=\"url(#paff1f97cfd)\" d=\"M 393.482094 279 \nL 406.489087 279 \nL 406.489087 278.557284 \nL 393.482094 278.557284 \nz\n\" style=\"fill:#4e79a7;\"/>\n   </g>\n   <g id=\"patch_16\">\n    <path clip-path=\"url(#paff1f97cfd)\" d=\"M 419.49608 279 \nL 432.503073 279 \nL 432.503073 152.81327 \nL 419.49608 152.81327 \nz\n\" style=\"fill:#4e79a7;\"/>\n   </g>\n   <g id=\"patch_17\">\n    <path clip-path=\"url(#paff1f97cfd)\" d=\"M 445.510066 279 \nL 458.517059 279 \nL 458.517059 277.231338 \nL 445.510066 277.231338 \nz\n\" style=\"fill:#4e79a7;\"/>\n   </g>\n   <g id=\"patch_18\">\n    <path clip-path=\"url(#paff1f97cfd)\" d=\"M 471.524052 279 \nL 484.531045 279 \nL 484.531045 277.729641 \nL 471.524052 277.729641 \nz\n\" style=\"fill:#4e79a7;\"/>\n   </g>\n   <g id=\"patch_19\">\n    <path clip-path=\"url(#paff1f97cfd)\" d=\"M 497.538038 279 \nL 510.545031 279 \nL 510.545031 278.845011 \nL 497.538038 278.845011 \nz\n\" style=\"fill:#4e79a7;\"/>\n   </g>\n   <g id=\"patch_20\">\n    <path clip-path=\"url(#paff1f97cfd)\" d=\"M 523.552024 279 \nL 536.559017 279 \nL 536.559017 278.704297 \nL 523.552024 278.704297 \nz\n\" style=\"fill:#4e79a7;\"/>\n   </g>\n   <g id=\"patch_21\">\n    <path clip-path=\"url(#paff1f97cfd)\" d=\"M 549.56601 279 \nL 562.573003 279 \nL 562.573003 277.497956 \nL 549.56601 277.497956 \nz\n\" style=\"fill:#4e79a7;\"/>\n   </g>\n   <g id=\"patch_22\">\n    <path clip-path=\"url(#paff1f97cfd)\" d=\"M 575.579996 279 \nL 588.586989 279 \nL 588.586989 246.020741 \nL 575.579996 246.020741 \nz\n\" style=\"fill:#4e79a7;\"/>\n   </g>\n   <g id=\"matplotlib.axis_1\">\n    <g id=\"xtick_1\">\n     <g id=\"line2d_1\">\n      <defs>\n       <path d=\"M 0 0 \nL 0 3.5 \n\" id=\"mea2ca1b8c6\" style=\"stroke:#000000;stroke-width:0.8;\"/>\n      </defs>\n      <g>\n       <use style=\"stroke:#000000;stroke-width:0.8;\" x=\"87.817758\" xlink:href=\"#mea2ca1b8c6\" y=\"279\"/>\n      </g>\n     </g>\n     <g id=\"text_1\">\n      <!-- 0.0 -->\n      <g transform=\"translate(79.866195 293.598438)scale(0.1 -0.1)\">\n       <defs>\n        <path d=\"M 31.78125 66.40625 \nQ 24.171875 66.40625 20.328125 58.90625 \nQ 16.5 51.421875 16.5 36.375 \nQ 16.5 21.390625 20.328125 13.890625 \nQ 24.171875 6.390625 31.78125 6.390625 \nQ 39.453125 6.390625 43.28125 13.890625 \nQ 47.125 21.390625 47.125 36.375 \nQ 47.125 51.421875 43.28125 58.90625 \nQ 39.453125 66.40625 31.78125 66.40625 \nz\nM 31.78125 74.21875 \nQ 44.046875 74.21875 50.515625 64.515625 \nQ 56.984375 54.828125 56.984375 36.375 \nQ 56.984375 17.96875 50.515625 8.265625 \nQ 44.046875 -1.421875 31.78125 -1.421875 \nQ 19.53125 -1.421875 13.0625 8.265625 \nQ 6.59375 17.96875 6.59375 36.375 \nQ 6.59375 54.828125 13.0625 64.515625 \nQ 19.53125 74.21875 31.78125 74.21875 \nz\n\" id=\"DejaVuSans-48\"/>\n        <path d=\"M 10.6875 12.40625 \nL 21 12.40625 \nL 21 0 \nL 10.6875 0 \nz\n\" id=\"DejaVuSans-46\"/>\n       </defs>\n       <use xlink:href=\"#DejaVuSans-48\"/>\n       <use x=\"63.623047\" xlink:href=\"#DejaVuSans-46\"/>\n       <use x=\"95.410156\" xlink:href=\"#DejaVuSans-48\"/>\n      </g>\n     </g>\n    </g>\n    <g id=\"xtick_2\">\n     <g id=\"line2d_2\">\n      <g>\n       <use style=\"stroke:#000000;stroke-width:0.8;\" x=\"152.852723\" xlink:href=\"#mea2ca1b8c6\" y=\"279\"/>\n      </g>\n     </g>\n     <g id=\"text_2\">\n      <!-- 2.5 -->\n      <g transform=\"translate(144.90116 293.598438)scale(0.1 -0.1)\">\n       <defs>\n        <path d=\"M 19.1875 8.296875 \nL 53.609375 8.296875 \nL 53.609375 0 \nL 7.328125 0 \nL 7.328125 8.296875 \nQ 12.9375 14.109375 22.625 23.890625 \nQ 32.328125 33.6875 34.8125 36.53125 \nQ 39.546875 41.84375 41.421875 45.53125 \nQ 43.3125 49.21875 43.3125 52.78125 \nQ 43.3125 58.59375 39.234375 62.25 \nQ 35.15625 65.921875 28.609375 65.921875 \nQ 23.96875 65.921875 18.8125 64.3125 \nQ 13.671875 62.703125 7.8125 59.421875 \nL 7.8125 69.390625 \nQ 13.765625 71.78125 18.9375 73 \nQ 24.125 74.21875 28.421875 74.21875 \nQ 39.75 74.21875 46.484375 68.546875 \nQ 53.21875 62.890625 53.21875 53.421875 \nQ 53.21875 48.921875 51.53125 44.890625 \nQ 49.859375 40.875 45.40625 35.40625 \nQ 44.1875 33.984375 37.640625 27.21875 \nQ 31.109375 20.453125 19.1875 8.296875 \nz\n\" id=\"DejaVuSans-50\"/>\n        <path d=\"M 10.796875 72.90625 \nL 49.515625 72.90625 \nL 49.515625 64.59375 \nL 19.828125 64.59375 \nL 19.828125 46.734375 \nQ 21.96875 47.46875 24.109375 47.828125 \nQ 26.265625 48.1875 28.421875 48.1875 \nQ 40.625 48.1875 47.75 41.5 \nQ 54.890625 34.8125 54.890625 23.390625 \nQ 54.890625 11.625 47.5625 5.09375 \nQ 40.234375 -1.421875 26.90625 -1.421875 \nQ 22.3125 -1.421875 17.546875 -0.640625 \nQ 12.796875 0.140625 7.71875 1.703125 \nL 7.71875 11.625 \nQ 12.109375 9.234375 16.796875 8.0625 \nQ 21.484375 6.890625 26.703125 6.890625 \nQ 35.15625 6.890625 40.078125 11.328125 \nQ 45.015625 15.765625 45.015625 23.390625 \nQ 45.015625 31 40.078125 35.4375 \nQ 35.15625 39.890625 26.703125 39.890625 \nQ 22.75 39.890625 18.8125 39.015625 \nQ 14.890625 38.140625 10.796875 36.28125 \nz\n\" id=\"DejaVuSans-53\"/>\n       </defs>\n       <use xlink:href=\"#DejaVuSans-50\"/>\n       <use x=\"63.623047\" xlink:href=\"#DejaVuSans-46\"/>\n       <use x=\"95.410156\" xlink:href=\"#DejaVuSans-53\"/>\n      </g>\n     </g>\n    </g>\n    <g id=\"xtick_3\">\n     <g id=\"line2d_3\">\n      <g>\n       <use style=\"stroke:#000000;stroke-width:0.8;\" x=\"217.887688\" xlink:href=\"#mea2ca1b8c6\" y=\"279\"/>\n      </g>\n     </g>\n     <g id=\"text_3\">\n      <!-- 5.0 -->\n      <g transform=\"translate(209.936125 293.598438)scale(0.1 -0.1)\">\n       <use xlink:href=\"#DejaVuSans-53\"/>\n       <use x=\"63.623047\" xlink:href=\"#DejaVuSans-46\"/>\n       <use x=\"95.410156\" xlink:href=\"#DejaVuSans-48\"/>\n      </g>\n     </g>\n    </g>\n    <g id=\"xtick_4\">\n     <g id=\"line2d_4\">\n      <g>\n       <use style=\"stroke:#000000;stroke-width:0.8;\" x=\"282.922653\" xlink:href=\"#mea2ca1b8c6\" y=\"279\"/>\n      </g>\n     </g>\n     <g id=\"text_4\">\n      <!-- 7.5 -->\n      <g transform=\"translate(274.97109 293.598438)scale(0.1 -0.1)\">\n       <defs>\n        <path d=\"M 8.203125 72.90625 \nL 55.078125 72.90625 \nL 55.078125 68.703125 \nL 28.609375 0 \nL 18.3125 0 \nL 43.21875 64.59375 \nL 8.203125 64.59375 \nz\n\" id=\"DejaVuSans-55\"/>\n       </defs>\n       <use xlink:href=\"#DejaVuSans-55\"/>\n       <use x=\"63.623047\" xlink:href=\"#DejaVuSans-46\"/>\n       <use x=\"95.410156\" xlink:href=\"#DejaVuSans-53\"/>\n      </g>\n     </g>\n    </g>\n    <g id=\"xtick_5\">\n     <g id=\"line2d_5\">\n      <g>\n       <use style=\"stroke:#000000;stroke-width:0.8;\" x=\"347.957618\" xlink:href=\"#mea2ca1b8c6\" y=\"279\"/>\n      </g>\n     </g>\n     <g id=\"text_5\">\n      <!-- 10.0 -->\n      <g transform=\"translate(336.824806 293.598438)scale(0.1 -0.1)\">\n       <defs>\n        <path d=\"M 12.40625 8.296875 \nL 28.515625 8.296875 \nL 28.515625 63.921875 \nL 10.984375 60.40625 \nL 10.984375 69.390625 \nL 28.421875 72.90625 \nL 38.28125 72.90625 \nL 38.28125 8.296875 \nL 54.390625 8.296875 \nL 54.390625 0 \nL 12.40625 0 \nz\n\" id=\"DejaVuSans-49\"/>\n       </defs>\n       <use xlink:href=\"#DejaVuSans-49\"/>\n       <use x=\"63.623047\" xlink:href=\"#DejaVuSans-48\"/>\n       <use x=\"127.246094\" xlink:href=\"#DejaVuSans-46\"/>\n       <use x=\"159.033203\" xlink:href=\"#DejaVuSans-48\"/>\n      </g>\n     </g>\n    </g>\n    <g id=\"xtick_6\">\n     <g id=\"line2d_6\">\n      <g>\n       <use style=\"stroke:#000000;stroke-width:0.8;\" x=\"412.992583\" xlink:href=\"#mea2ca1b8c6\" y=\"279\"/>\n      </g>\n     </g>\n     <g id=\"text_6\">\n      <!-- 12.5 -->\n      <g transform=\"translate(401.859771 293.598438)scale(0.1 -0.1)\">\n       <use xlink:href=\"#DejaVuSans-49\"/>\n       <use x=\"63.623047\" xlink:href=\"#DejaVuSans-50\"/>\n       <use x=\"127.246094\" xlink:href=\"#DejaVuSans-46\"/>\n       <use x=\"159.033203\" xlink:href=\"#DejaVuSans-53\"/>\n      </g>\n     </g>\n    </g>\n    <g id=\"xtick_7\">\n     <g id=\"line2d_7\">\n      <g>\n       <use style=\"stroke:#000000;stroke-width:0.8;\" x=\"478.027548\" xlink:href=\"#mea2ca1b8c6\" y=\"279\"/>\n      </g>\n     </g>\n     <g id=\"text_7\">\n      <!-- 15.0 -->\n      <g transform=\"translate(466.894736 293.598438)scale(0.1 -0.1)\">\n       <use xlink:href=\"#DejaVuSans-49\"/>\n       <use x=\"63.623047\" xlink:href=\"#DejaVuSans-53\"/>\n       <use x=\"127.246094\" xlink:href=\"#DejaVuSans-46\"/>\n       <use x=\"159.033203\" xlink:href=\"#DejaVuSans-48\"/>\n      </g>\n     </g>\n    </g>\n    <g id=\"xtick_8\">\n     <g id=\"line2d_8\">\n      <g>\n       <use style=\"stroke:#000000;stroke-width:0.8;\" x=\"543.062513\" xlink:href=\"#mea2ca1b8c6\" y=\"279\"/>\n      </g>\n     </g>\n     <g id=\"text_8\">\n      <!-- 17.5 -->\n      <g transform=\"translate(531.929701 293.598438)scale(0.1 -0.1)\">\n       <use xlink:href=\"#DejaVuSans-49\"/>\n       <use x=\"63.623047\" xlink:href=\"#DejaVuSans-55\"/>\n       <use x=\"127.246094\" xlink:href=\"#DejaVuSans-46\"/>\n       <use x=\"159.033203\" xlink:href=\"#DejaVuSans-53\"/>\n      </g>\n     </g>\n    </g>\n    <g id=\"xtick_9\">\n     <g id=\"line2d_9\">\n      <g>\n       <use style=\"stroke:#000000;stroke-width:0.8;\" x=\"608.097478\" xlink:href=\"#mea2ca1b8c6\" y=\"279\"/>\n      </g>\n     </g>\n     <g id=\"text_9\">\n      <!-- 20.0 -->\n      <g transform=\"translate(596.964666 293.598438)scale(0.1 -0.1)\">\n       <use xlink:href=\"#DejaVuSans-50\"/>\n       <use x=\"63.623047\" xlink:href=\"#DejaVuSans-48\"/>\n       <use x=\"127.246094\" xlink:href=\"#DejaVuSans-46\"/>\n       <use x=\"159.033203\" xlink:href=\"#DejaVuSans-48\"/>\n      </g>\n     </g>\n    </g>\n    <g id=\"text_10\">\n     <!-- Topic -->\n     <g transform=\"translate(314.829375 311.835625)scale(0.16 -0.16)\">\n      <defs>\n       <path d=\"M -0.296875 72.90625 \nL 61.375 72.90625 \nL 61.375 64.59375 \nL 35.5 64.59375 \nL 35.5 0 \nL 25.59375 0 \nL 25.59375 64.59375 \nL -0.296875 64.59375 \nz\n\" id=\"DejaVuSans-84\"/>\n       <path d=\"M 30.609375 48.390625 \nQ 23.390625 48.390625 19.1875 42.75 \nQ 14.984375 37.109375 14.984375 27.296875 \nQ 14.984375 17.484375 19.15625 11.84375 \nQ 23.34375 6.203125 30.609375 6.203125 \nQ 37.796875 6.203125 41.984375 11.859375 \nQ 46.1875 17.53125 46.1875 27.296875 \nQ 46.1875 37.015625 41.984375 42.703125 \nQ 37.796875 48.390625 30.609375 48.390625 \nz\nM 30.609375 56 \nQ 42.328125 56 49.015625 48.375 \nQ 55.71875 40.765625 55.71875 27.296875 \nQ 55.71875 13.875 49.015625 6.21875 \nQ 42.328125 -1.421875 30.609375 -1.421875 \nQ 18.84375 -1.421875 12.171875 6.21875 \nQ 5.515625 13.875 5.515625 27.296875 \nQ 5.515625 40.765625 12.171875 48.375 \nQ 18.84375 56 30.609375 56 \nz\n\" id=\"DejaVuSans-111\"/>\n       <path d=\"M 18.109375 8.203125 \nL 18.109375 -20.796875 \nL 9.078125 -20.796875 \nL 9.078125 54.6875 \nL 18.109375 54.6875 \nL 18.109375 46.390625 \nQ 20.953125 51.265625 25.265625 53.625 \nQ 29.59375 56 35.59375 56 \nQ 45.5625 56 51.78125 48.09375 \nQ 58.015625 40.1875 58.015625 27.296875 \nQ 58.015625 14.40625 51.78125 6.484375 \nQ 45.5625 -1.421875 35.59375 -1.421875 \nQ 29.59375 -1.421875 25.265625 0.953125 \nQ 20.953125 3.328125 18.109375 8.203125 \nz\nM 48.6875 27.296875 \nQ 48.6875 37.203125 44.609375 42.84375 \nQ 40.53125 48.484375 33.40625 48.484375 \nQ 26.265625 48.484375 22.1875 42.84375 \nQ 18.109375 37.203125 18.109375 27.296875 \nQ 18.109375 17.390625 22.1875 11.75 \nQ 26.265625 6.109375 33.40625 6.109375 \nQ 40.53125 6.109375 44.609375 11.75 \nQ 48.6875 17.390625 48.6875 27.296875 \nz\n\" id=\"DejaVuSans-112\"/>\n       <path d=\"M 9.421875 54.6875 \nL 18.40625 54.6875 \nL 18.40625 0 \nL 9.421875 0 \nz\nM 9.421875 75.984375 \nL 18.40625 75.984375 \nL 18.40625 64.59375 \nL 9.421875 64.59375 \nz\n\" id=\"DejaVuSans-105\"/>\n       <path d=\"M 48.78125 52.59375 \nL 48.78125 44.1875 \nQ 44.96875 46.296875 41.140625 47.34375 \nQ 37.3125 48.390625 33.40625 48.390625 \nQ 24.65625 48.390625 19.8125 42.84375 \nQ 14.984375 37.3125 14.984375 27.296875 \nQ 14.984375 17.28125 19.8125 11.734375 \nQ 24.65625 6.203125 33.40625 6.203125 \nQ 37.3125 6.203125 41.140625 7.25 \nQ 44.96875 8.296875 48.78125 10.40625 \nL 48.78125 2.09375 \nQ 45.015625 0.34375 40.984375 -0.53125 \nQ 36.96875 -1.421875 32.421875 -1.421875 \nQ 20.0625 -1.421875 12.78125 6.34375 \nQ 5.515625 14.109375 5.515625 27.296875 \nQ 5.515625 40.671875 12.859375 48.328125 \nQ 20.21875 56 33.015625 56 \nQ 37.15625 56 41.109375 55.140625 \nQ 45.0625 54.296875 48.78125 52.59375 \nz\n\" id=\"DejaVuSans-99\"/>\n      </defs>\n      <use xlink:href=\"#DejaVuSans-84\"/>\n      <use x=\"44.083984\" xlink:href=\"#DejaVuSans-111\"/>\n      <use x=\"105.265625\" xlink:href=\"#DejaVuSans-112\"/>\n      <use x=\"168.742188\" xlink:href=\"#DejaVuSans-105\"/>\n      <use x=\"196.525391\" xlink:href=\"#DejaVuSans-99\"/>\n     </g>\n    </g>\n   </g>\n   <g id=\"matplotlib.axis_2\">\n    <g id=\"ytick_1\">\n     <g id=\"line2d_10\">\n      <defs>\n       <path d=\"M 0 0 \nL -3.5 0 \n\" id=\"m1771ff703a\" style=\"stroke:#000000;stroke-width:0.8;\"/>\n      </defs>\n      <g>\n       <use style=\"stroke:#000000;stroke-width:0.8;\" x=\"55.950625\" xlink:href=\"#m1771ff703a\" y=\"279\"/>\n      </g>\n     </g>\n     <g id=\"text_11\">\n      <!-- 0.00 -->\n      <g transform=\"translate(26.685 282.799219)scale(0.1 -0.1)\">\n       <use xlink:href=\"#DejaVuSans-48\"/>\n       <use x=\"63.623047\" xlink:href=\"#DejaVuSans-46\"/>\n       <use x=\"95.410156\" xlink:href=\"#DejaVuSans-48\"/>\n       <use x=\"159.033203\" xlink:href=\"#DejaVuSans-48\"/>\n      </g>\n     </g>\n    </g>\n    <g id=\"ytick_2\">\n     <g id=\"line2d_11\">\n      <g>\n       <use style=\"stroke:#000000;stroke-width:0.8;\" x=\"55.950625\" xlink:href=\"#m1771ff703a\" y=\"240.718236\"/>\n      </g>\n     </g>\n     <g id=\"text_12\">\n      <!-- 0.05 -->\n      <g transform=\"translate(26.685 244.517455)scale(0.1 -0.1)\">\n       <use xlink:href=\"#DejaVuSans-48\"/>\n       <use x=\"63.623047\" xlink:href=\"#DejaVuSans-46\"/>\n       <use x=\"95.410156\" xlink:href=\"#DejaVuSans-48\"/>\n       <use x=\"159.033203\" xlink:href=\"#DejaVuSans-53\"/>\n      </g>\n     </g>\n    </g>\n    <g id=\"ytick_3\">\n     <g id=\"line2d_12\">\n      <g>\n       <use style=\"stroke:#000000;stroke-width:0.8;\" x=\"55.950625\" xlink:href=\"#m1771ff703a\" y=\"202.436472\"/>\n      </g>\n     </g>\n     <g id=\"text_13\">\n      <!-- 0.10 -->\n      <g transform=\"translate(26.685 206.235691)scale(0.1 -0.1)\">\n       <use xlink:href=\"#DejaVuSans-48\"/>\n       <use x=\"63.623047\" xlink:href=\"#DejaVuSans-46\"/>\n       <use x=\"95.410156\" xlink:href=\"#DejaVuSans-49\"/>\n       <use x=\"159.033203\" xlink:href=\"#DejaVuSans-48\"/>\n      </g>\n     </g>\n    </g>\n    <g id=\"ytick_4\">\n     <g id=\"line2d_13\">\n      <g>\n       <use style=\"stroke:#000000;stroke-width:0.8;\" x=\"55.950625\" xlink:href=\"#m1771ff703a\" y=\"164.154708\"/>\n      </g>\n     </g>\n     <g id=\"text_14\">\n      <!-- 0.15 -->\n      <g transform=\"translate(26.685 167.953927)scale(0.1 -0.1)\">\n       <use xlink:href=\"#DejaVuSans-48\"/>\n       <use x=\"63.623047\" xlink:href=\"#DejaVuSans-46\"/>\n       <use x=\"95.410156\" xlink:href=\"#DejaVuSans-49\"/>\n       <use x=\"159.033203\" xlink:href=\"#DejaVuSans-53\"/>\n      </g>\n     </g>\n    </g>\n    <g id=\"ytick_5\">\n     <g id=\"line2d_14\">\n      <g>\n       <use style=\"stroke:#000000;stroke-width:0.8;\" x=\"55.950625\" xlink:href=\"#m1771ff703a\" y=\"125.872944\"/>\n      </g>\n     </g>\n     <g id=\"text_15\">\n      <!-- 0.20 -->\n      <g transform=\"translate(26.685 129.672163)scale(0.1 -0.1)\">\n       <use xlink:href=\"#DejaVuSans-48\"/>\n       <use x=\"63.623047\" xlink:href=\"#DejaVuSans-46\"/>\n       <use x=\"95.410156\" xlink:href=\"#DejaVuSans-50\"/>\n       <use x=\"159.033203\" xlink:href=\"#DejaVuSans-48\"/>\n      </g>\n     </g>\n    </g>\n    <g id=\"ytick_6\">\n     <g id=\"line2d_15\">\n      <g>\n       <use style=\"stroke:#000000;stroke-width:0.8;\" x=\"55.950625\" xlink:href=\"#m1771ff703a\" y=\"87.591181\"/>\n      </g>\n     </g>\n     <g id=\"text_16\">\n      <!-- 0.25 -->\n      <g transform=\"translate(26.685 91.390399)scale(0.1 -0.1)\">\n       <use xlink:href=\"#DejaVuSans-48\"/>\n       <use x=\"63.623047\" xlink:href=\"#DejaVuSans-46\"/>\n       <use x=\"95.410156\" xlink:href=\"#DejaVuSans-50\"/>\n       <use x=\"159.033203\" xlink:href=\"#DejaVuSans-53\"/>\n      </g>\n     </g>\n    </g>\n    <g id=\"ytick_7\">\n     <g id=\"line2d_16\">\n      <g>\n       <use style=\"stroke:#000000;stroke-width:0.8;\" x=\"55.950625\" xlink:href=\"#m1771ff703a\" y=\"49.309417\"/>\n      </g>\n     </g>\n     <g id=\"text_17\">\n      <!-- 0.30 -->\n      <g transform=\"translate(26.685 53.108635)scale(0.1 -0.1)\">\n       <defs>\n        <path d=\"M 40.578125 39.3125 \nQ 47.65625 37.796875 51.625 33 \nQ 55.609375 28.21875 55.609375 21.1875 \nQ 55.609375 10.40625 48.1875 4.484375 \nQ 40.765625 -1.421875 27.09375 -1.421875 \nQ 22.515625 -1.421875 17.65625 -0.515625 \nQ 12.796875 0.390625 7.625 2.203125 \nL 7.625 11.71875 \nQ 11.71875 9.328125 16.59375 8.109375 \nQ 21.484375 6.890625 26.8125 6.890625 \nQ 36.078125 6.890625 40.9375 10.546875 \nQ 45.796875 14.203125 45.796875 21.1875 \nQ 45.796875 27.640625 41.28125 31.265625 \nQ 36.765625 34.90625 28.71875 34.90625 \nL 20.21875 34.90625 \nL 20.21875 43.015625 \nL 29.109375 43.015625 \nQ 36.375 43.015625 40.234375 45.921875 \nQ 44.09375 48.828125 44.09375 54.296875 \nQ 44.09375 59.90625 40.109375 62.90625 \nQ 36.140625 65.921875 28.71875 65.921875 \nQ 24.65625 65.921875 20.015625 65.03125 \nQ 15.375 64.15625 9.8125 62.3125 \nL 9.8125 71.09375 \nQ 15.4375 72.65625 20.34375 73.4375 \nQ 25.25 74.21875 29.59375 74.21875 \nQ 40.828125 74.21875 47.359375 69.109375 \nQ 53.90625 64.015625 53.90625 55.328125 \nQ 53.90625 49.265625 50.4375 45.09375 \nQ 46.96875 40.921875 40.578125 39.3125 \nz\n\" id=\"DejaVuSans-51\"/>\n       </defs>\n       <use xlink:href=\"#DejaVuSans-48\"/>\n       <use x=\"63.623047\" xlink:href=\"#DejaVuSans-46\"/>\n       <use x=\"95.410156\" xlink:href=\"#DejaVuSans-51\"/>\n       <use x=\"159.033203\" xlink:href=\"#DejaVuSans-48\"/>\n      </g>\n     </g>\n    </g>\n    <g id=\"ytick_8\">\n     <g id=\"line2d_17\">\n      <g>\n       <use style=\"stroke:#000000;stroke-width:0.8;\" x=\"55.950625\" xlink:href=\"#m1771ff703a\" y=\"11.027653\"/>\n      </g>\n     </g>\n     <g id=\"text_18\">\n      <!-- 0.35 -->\n      <g transform=\"translate(26.685 14.826871)scale(0.1 -0.1)\">\n       <use xlink:href=\"#DejaVuSans-48\"/>\n       <use x=\"63.623047\" xlink:href=\"#DejaVuSans-46\"/>\n       <use x=\"95.410156\" xlink:href=\"#DejaVuSans-51\"/>\n       <use x=\"159.033203\" xlink:href=\"#DejaVuSans-53\"/>\n      </g>\n     </g>\n    </g>\n    <g id=\"text_19\">\n     <!-- Total Correlation (nats) -->\n     <g transform=\"translate(19.3575 234.49625)rotate(-90)scale(0.16 -0.16)\">\n      <defs>\n       <path d=\"M 18.3125 70.21875 \nL 18.3125 54.6875 \nL 36.8125 54.6875 \nL 36.8125 47.703125 \nL 18.3125 47.703125 \nL 18.3125 18.015625 \nQ 18.3125 11.328125 20.140625 9.421875 \nQ 21.96875 7.515625 27.59375 7.515625 \nL 36.8125 7.515625 \nL 36.8125 0 \nL 27.59375 0 \nQ 17.1875 0 13.234375 3.875 \nQ 9.28125 7.765625 9.28125 18.015625 \nL 9.28125 47.703125 \nL 2.6875 47.703125 \nL 2.6875 54.6875 \nL 9.28125 54.6875 \nL 9.28125 70.21875 \nz\n\" id=\"DejaVuSans-116\"/>\n       <path d=\"M 34.28125 27.484375 \nQ 23.390625 27.484375 19.1875 25 \nQ 14.984375 22.515625 14.984375 16.5 \nQ 14.984375 11.71875 18.140625 8.90625 \nQ 21.296875 6.109375 26.703125 6.109375 \nQ 34.1875 6.109375 38.703125 11.40625 \nQ 43.21875 16.703125 43.21875 25.484375 \nL 43.21875 27.484375 \nz\nM 52.203125 31.203125 \nL 52.203125 0 \nL 43.21875 0 \nL 43.21875 8.296875 \nQ 40.140625 3.328125 35.546875 0.953125 \nQ 30.953125 -1.421875 24.3125 -1.421875 \nQ 15.921875 -1.421875 10.953125 3.296875 \nQ 6 8.015625 6 15.921875 \nQ 6 25.140625 12.171875 29.828125 \nQ 18.359375 34.515625 30.609375 34.515625 \nL 43.21875 34.515625 \nL 43.21875 35.40625 \nQ 43.21875 41.609375 39.140625 45 \nQ 35.0625 48.390625 27.6875 48.390625 \nQ 23 48.390625 18.546875 47.265625 \nQ 14.109375 46.140625 10.015625 43.890625 \nL 10.015625 52.203125 \nQ 14.9375 54.109375 19.578125 55.046875 \nQ 24.21875 56 28.609375 56 \nQ 40.484375 56 46.34375 49.84375 \nQ 52.203125 43.703125 52.203125 31.203125 \nz\n\" id=\"DejaVuSans-97\"/>\n       <path d=\"M 9.421875 75.984375 \nL 18.40625 75.984375 \nL 18.40625 0 \nL 9.421875 0 \nz\n\" id=\"DejaVuSans-108\"/>\n       <path id=\"DejaVuSans-32\"/>\n       <path d=\"M 64.40625 67.28125 \nL 64.40625 56.890625 \nQ 59.421875 61.53125 53.78125 63.8125 \nQ 48.140625 66.109375 41.796875 66.109375 \nQ 29.296875 66.109375 22.65625 58.46875 \nQ 16.015625 50.828125 16.015625 36.375 \nQ 16.015625 21.96875 22.65625 14.328125 \nQ 29.296875 6.6875 41.796875 6.6875 \nQ 48.140625 6.6875 53.78125 8.984375 \nQ 59.421875 11.28125 64.40625 15.921875 \nL 64.40625 5.609375 \nQ 59.234375 2.09375 53.4375 0.328125 \nQ 47.65625 -1.421875 41.21875 -1.421875 \nQ 24.65625 -1.421875 15.125 8.703125 \nQ 5.609375 18.84375 5.609375 36.375 \nQ 5.609375 53.953125 15.125 64.078125 \nQ 24.65625 74.21875 41.21875 74.21875 \nQ 47.75 74.21875 53.53125 72.484375 \nQ 59.328125 70.75 64.40625 67.28125 \nz\n\" id=\"DejaVuSans-67\"/>\n       <path d=\"M 41.109375 46.296875 \nQ 39.59375 47.171875 37.8125 47.578125 \nQ 36.03125 48 33.890625 48 \nQ 26.265625 48 22.1875 43.046875 \nQ 18.109375 38.09375 18.109375 28.8125 \nL 18.109375 0 \nL 9.078125 0 \nL 9.078125 54.6875 \nL 18.109375 54.6875 \nL 18.109375 46.1875 \nQ 20.953125 51.171875 25.484375 53.578125 \nQ 30.03125 56 36.53125 56 \nQ 37.453125 56 38.578125 55.875 \nQ 39.703125 55.765625 41.0625 55.515625 \nz\n\" id=\"DejaVuSans-114\"/>\n       <path d=\"M 56.203125 29.59375 \nL 56.203125 25.203125 \nL 14.890625 25.203125 \nQ 15.484375 15.921875 20.484375 11.0625 \nQ 25.484375 6.203125 34.421875 6.203125 \nQ 39.59375 6.203125 44.453125 7.46875 \nQ 49.3125 8.734375 54.109375 11.28125 \nL 54.109375 2.78125 \nQ 49.265625 0.734375 44.1875 -0.34375 \nQ 39.109375 -1.421875 33.890625 -1.421875 \nQ 20.796875 -1.421875 13.15625 6.1875 \nQ 5.515625 13.8125 5.515625 26.8125 \nQ 5.515625 40.234375 12.765625 48.109375 \nQ 20.015625 56 32.328125 56 \nQ 43.359375 56 49.78125 48.890625 \nQ 56.203125 41.796875 56.203125 29.59375 \nz\nM 47.21875 32.234375 \nQ 47.125 39.59375 43.09375 43.984375 \nQ 39.0625 48.390625 32.421875 48.390625 \nQ 24.90625 48.390625 20.390625 44.140625 \nQ 15.875 39.890625 15.1875 32.171875 \nz\n\" id=\"DejaVuSans-101\"/>\n       <path d=\"M 54.890625 33.015625 \nL 54.890625 0 \nL 45.90625 0 \nL 45.90625 32.71875 \nQ 45.90625 40.484375 42.875 44.328125 \nQ 39.84375 48.1875 33.796875 48.1875 \nQ 26.515625 48.1875 22.3125 43.546875 \nQ 18.109375 38.921875 18.109375 30.90625 \nL 18.109375 0 \nL 9.078125 0 \nL 9.078125 54.6875 \nL 18.109375 54.6875 \nL 18.109375 46.1875 \nQ 21.34375 51.125 25.703125 53.5625 \nQ 30.078125 56 35.796875 56 \nQ 45.21875 56 50.046875 50.171875 \nQ 54.890625 44.34375 54.890625 33.015625 \nz\n\" id=\"DejaVuSans-110\"/>\n       <path d=\"M 31 75.875 \nQ 24.46875 64.65625 21.28125 53.65625 \nQ 18.109375 42.671875 18.109375 31.390625 \nQ 18.109375 20.125 21.3125 9.0625 \nQ 24.515625 -2 31 -13.1875 \nL 23.1875 -13.1875 \nQ 15.875 -1.703125 12.234375 9.375 \nQ 8.59375 20.453125 8.59375 31.390625 \nQ 8.59375 42.28125 12.203125 53.3125 \nQ 15.828125 64.359375 23.1875 75.875 \nz\n\" id=\"DejaVuSans-40\"/>\n       <path d=\"M 44.28125 53.078125 \nL 44.28125 44.578125 \nQ 40.484375 46.53125 36.375 47.5 \nQ 32.28125 48.484375 27.875 48.484375 \nQ 21.1875 48.484375 17.84375 46.4375 \nQ 14.5 44.390625 14.5 40.28125 \nQ 14.5 37.15625 16.890625 35.375 \nQ 19.28125 33.59375 26.515625 31.984375 \nL 29.59375 31.296875 \nQ 39.15625 29.25 43.1875 25.515625 \nQ 47.21875 21.78125 47.21875 15.09375 \nQ 47.21875 7.46875 41.1875 3.015625 \nQ 35.15625 -1.421875 24.609375 -1.421875 \nQ 20.21875 -1.421875 15.453125 -0.5625 \nQ 10.6875 0.296875 5.421875 2 \nL 5.421875 11.28125 \nQ 10.40625 8.6875 15.234375 7.390625 \nQ 20.0625 6.109375 24.8125 6.109375 \nQ 31.15625 6.109375 34.5625 8.28125 \nQ 37.984375 10.453125 37.984375 14.40625 \nQ 37.984375 18.0625 35.515625 20.015625 \nQ 33.0625 21.96875 24.703125 23.78125 \nL 21.578125 24.515625 \nQ 13.234375 26.265625 9.515625 29.90625 \nQ 5.8125 33.546875 5.8125 39.890625 \nQ 5.8125 47.609375 11.28125 51.796875 \nQ 16.75 56 26.8125 56 \nQ 31.78125 56 36.171875 55.265625 \nQ 40.578125 54.546875 44.28125 53.078125 \nz\n\" id=\"DejaVuSans-115\"/>\n       <path d=\"M 8.015625 75.875 \nL 15.828125 75.875 \nQ 23.140625 64.359375 26.78125 53.3125 \nQ 30.421875 42.28125 30.421875 31.390625 \nQ 30.421875 20.453125 26.78125 9.375 \nQ 23.140625 -1.703125 15.828125 -13.1875 \nL 8.015625 -13.1875 \nQ 14.5 -2 17.703125 9.0625 \nQ 20.90625 20.125 20.90625 31.390625 \nQ 20.90625 42.671875 17.703125 53.65625 \nQ 14.5 64.65625 8.015625 75.875 \nz\n\" id=\"DejaVuSans-41\"/>\n      </defs>\n      <use xlink:href=\"#DejaVuSans-84\"/>\n      <use x=\"44.083984\" xlink:href=\"#DejaVuSans-111\"/>\n      <use x=\"105.265625\" xlink:href=\"#DejaVuSans-116\"/>\n      <use x=\"144.474609\" xlink:href=\"#DejaVuSans-97\"/>\n      <use x=\"205.753906\" xlink:href=\"#DejaVuSans-108\"/>\n      <use x=\"233.537109\" xlink:href=\"#DejaVuSans-32\"/>\n      <use x=\"265.324219\" xlink:href=\"#DejaVuSans-67\"/>\n      <use x=\"335.148438\" xlink:href=\"#DejaVuSans-111\"/>\n      <use x=\"396.330078\" xlink:href=\"#DejaVuSans-114\"/>\n      <use x=\"435.693359\" xlink:href=\"#DejaVuSans-114\"/>\n      <use x=\"474.556641\" xlink:href=\"#DejaVuSans-101\"/>\n      <use x=\"536.080078\" xlink:href=\"#DejaVuSans-108\"/>\n      <use x=\"563.863281\" xlink:href=\"#DejaVuSans-97\"/>\n      <use x=\"625.142578\" xlink:href=\"#DejaVuSans-116\"/>\n      <use x=\"664.351562\" xlink:href=\"#DejaVuSans-105\"/>\n      <use x=\"692.134766\" xlink:href=\"#DejaVuSans-111\"/>\n      <use x=\"753.316406\" xlink:href=\"#DejaVuSans-110\"/>\n      <use x=\"816.695312\" xlink:href=\"#DejaVuSans-32\"/>\n      <use x=\"848.482422\" xlink:href=\"#DejaVuSans-40\"/>\n      <use x=\"887.496094\" xlink:href=\"#DejaVuSans-110\"/>\n      <use x=\"950.875\" xlink:href=\"#DejaVuSans-97\"/>\n      <use x=\"1012.154297\" xlink:href=\"#DejaVuSans-116\"/>\n      <use x=\"1051.363281\" xlink:href=\"#DejaVuSans-115\"/>\n      <use x=\"1103.462891\" xlink:href=\"#DejaVuSans-41\"/>\n     </g>\n    </g>\n   </g>\n   <g id=\"patch_23\">\n    <path d=\"M 55.950625 279 \nL 55.950625 7.2 \n\" style=\"fill:none;stroke:#000000;stroke-linecap:square;stroke-linejoin:miter;stroke-width:0.8;\"/>\n   </g>\n   <g id=\"patch_24\">\n    <path d=\"M 613.950625 279 \nL 613.950625 7.2 \n\" style=\"fill:none;stroke:#000000;stroke-linecap:square;stroke-linejoin:miter;stroke-width:0.8;\"/>\n   </g>\n   <g id=\"patch_25\">\n    <path d=\"M 55.950625 279 \nL 613.950625 279 \n\" style=\"fill:none;stroke:#000000;stroke-linecap:square;stroke-linejoin:miter;stroke-width:0.8;\"/>\n   </g>\n   <g id=\"patch_26\">\n    <path d=\"M 55.950625 7.2 \nL 613.950625 7.2 \n\" style=\"fill:none;stroke:#000000;stroke-linecap:square;stroke-linejoin:miter;stroke-width:0.8;\"/>\n   </g>\n  </g>\n </g>\n <defs>\n  <clipPath id=\"paff1f97cfd\">\n   <rect height=\"271.8\" width=\"558\" x=\"55.950625\" y=\"7.2\"/>\n  </clipPath>\n </defs>\n</svg>\n",
      "image/png": "[encoded data removed]"
     },
     "metadata": {
      "needs_background": "light"
     }
    }
   ],
   "source": [
    "plt.figure(figsize=(10,5))\n",
    "plt.bar(range(model.tcs.shape[0]), model.tcs, color='#4e79a7', width=0.5)\n",
    "plt.xlabel('Topic', fontsize=16)\n",
    "plt.ylabel('Total Correlation (nats)', fontsize=16);"
   ]
  },
  {
   "cell_type": "code",
   "execution_count": 44,
   "metadata": {},
   "outputs": [
    {
     "output_type": "execute_result",
     "data": {
      "text/plain": [
       "                                            Sentences Comment Datetime  \\\n",
       "3   FireEmblem wrote: Got myself the XL size, haha...           3/9/21   \n",
       "5   The mask below portion bigger and also extend ...           3/9/21   \n",
       "9   I am wearing high grade surgical mask which is...           3/9/21   \n",
       "10  Loosen the elastic tension on the ear loop... ...           3/9/21   \n",
       "12  Also for mask in the current market, they are ...           3/9/21   \n",
       "\n",
       "    Textblob_polarity_score  Textblob_subjectivity_score  Vader_neg_score  \\\n",
       "3                  0.100000                     0.200000            0.000   \n",
       "5                  0.105769                     0.342308            0.057   \n",
       "9                  0.072000                     0.368000            0.000   \n",
       "10                -0.200000                     0.100000            0.078   \n",
       "12                 0.056944                     0.404167            0.155   \n",
       "\n",
       "    Vader_neu_score  Vader_pos_score  Vader_compound_score Emotions Topic  \\\n",
       "3             0.695            0.305                0.7543      joy  Mask   \n",
       "5             0.905            0.038               -0.2247     fear  Mask   \n",
       "9             0.919            0.081                0.4404  neutral  Mask   \n",
       "10            0.922            0.000               -0.3182    anger  Mask   \n",
       "12            0.845            0.000               -0.5801    anger  Mask   \n",
       "\n",
       "    ...  topic_11 topic_12  topic_13  topic_14  topic_15  topic_16  topic_17  \\\n",
       "3   ...       0.0      0.0       0.0       0.0       0.0       0.0       0.0   \n",
       "5   ...       0.0      0.0       0.0       0.0       0.0       0.0       0.0   \n",
       "9   ...       0.0      0.0       0.0       0.0       0.0       0.0       0.0   \n",
       "10  ...       0.0      0.0       0.0       0.0       0.0       0.0       0.0   \n",
       "12  ...       0.0      0.0       0.0       0.0       0.0       0.0       0.0   \n",
       "\n",
       "    topic_18  topic_19  topic_20  \n",
       "3        0.0       0.0       0.0  \n",
       "5        0.0       0.0       0.0  \n",
       "9        0.0       0.0       0.0  \n",
       "10       0.0       0.0       0.0  \n",
       "12       0.0       0.0       0.0  \n",
       "\n",
       "[5 rows x 32 columns]"
      ],
      "text/html": "<div>\n<style scoped>\n    .dataframe tbody tr th:only-of-type {\n        vertical-align: middle;\n    }\n\n    .dataframe tbody tr th {\n        vertical-align: top;\n    }\n\n    .dataframe thead th {\n        text-align: right;\n    }\n</style>\n<table border=\"1\" class=\"dataframe\">\n  <thead>\n    <tr style=\"text-align: right;\">\n      <th></th>\n      <th>Sentences</th>\n      <th>Comment Datetime</th>\n      <th>Textblob_polarity_score</th>\n      <th>Textblob_subjectivity_score</th>\n      <th>Vader_neg_score</th>\n      <th>Vader_neu_score</th>\n      <th>Vader_pos_score</th>\n      <th>Vader_compound_score</th>\n      <th>Emotions</th>\n      <th>Topic</th>\n      <th>...</th>\n      <th>topic_11</th>\n      <th>topic_12</th>\n      <th>topic_13</th>\n      <th>topic_14</th>\n      <th>topic_15</th>\n      <th>topic_16</th>\n      <th>topic_17</th>\n      <th>topic_18</th>\n      <th>topic_19</th>\n      <th>topic_20</th>\n    </tr>\n  </thead>\n  <tbody>\n    <tr>\n      <th>3</th>\n      <td>FireEmblem wrote: Got myself the XL size, haha...</td>\n      <td>3/9/21</td>\n      <td>0.100000</td>\n      <td>0.200000</td>\n      <td>0.000</td>\n      <td>0.695</td>\n      <td>0.305</td>\n      <td>0.7543</td>\n      <td>joy</td>\n      <td>Mask</td>\n      <td>...</td>\n      <td>0.0</td>\n      <td>0.0</td>\n      <td>0.0</td>\n      <td>0.0</td>\n      <td>0.0</td>\n      <td>0.0</td>\n      <td>0.0</td>\n      <td>0.0</td>\n      <td>0.0</td>\n      <td>0.0</td>\n    </tr>\n    <tr>\n      <th>5</th>\n      <td>The mask below portion bigger and also extend ...</td>\n      <td>3/9/21</td>\n      <td>0.105769</td>\n      <td>0.342308</td>\n      <td>0.057</td>\n      <td>0.905</td>\n      <td>0.038</td>\n      <td>-0.2247</td>\n      <td>fear</td>\n      <td>Mask</td>\n      <td>...</td>\n      <td>0.0</td>\n      <td>0.0</td>\n      <td>0.0</td>\n      <td>0.0</td>\n      <td>0.0</td>\n      <td>0.0</td>\n      <td>0.0</td>\n      <td>0.0</td>\n      <td>0.0</td>\n      <td>0.0</td>\n    </tr>\n    <tr>\n      <th>9</th>\n      <td>I am wearing high grade surgical mask which is...</td>\n      <td>3/9/21</td>\n      <td>0.072000</td>\n      <td>0.368000</td>\n      <td>0.000</td>\n      <td>0.919</td>\n      <td>0.081</td>\n      <td>0.4404</td>\n      <td>neutral</td>\n      <td>Mask</td>\n      <td>...</td>\n      <td>0.0</td>\n      <td>0.0</td>\n      <td>0.0</td>\n      <td>0.0</td>\n      <td>0.0</td>\n      <td>0.0</td>\n      <td>0.0</td>\n      <td>0.0</td>\n      <td>0.0</td>\n      <td>0.0</td>\n    </tr>\n    <tr>\n      <th>10</th>\n      <td>Loosen the elastic tension on the ear loop... ...</td>\n      <td>3/9/21</td>\n      <td>-0.200000</td>\n      <td>0.100000</td>\n      <td>0.078</td>\n      <td>0.922</td>\n      <td>0.000</td>\n      <td>-0.3182</td>\n      <td>anger</td>\n      <td>Mask</td>\n      <td>...</td>\n      <td>0.0</td>\n      <td>0.0</td>\n      <td>0.0</td>\n      <td>0.0</td>\n      <td>0.0</td>\n      <td>0.0</td>\n      <td>0.0</td>\n      <td>0.0</td>\n      <td>0.0</td>\n      <td>0.0</td>\n    </tr>\n    <tr>\n      <th>12</th>\n      <td>Also for mask in the current market, they are ...</td>\n      <td>3/9/21</td>\n      <td>0.056944</td>\n      <td>0.404167</td>\n      <td>0.155</td>\n      <td>0.845</td>\n      <td>0.000</td>\n      <td>-0.5801</td>\n      <td>anger</td>\n      <td>Mask</td>\n      <td>...</td>\n      <td>0.0</td>\n      <td>0.0</td>\n      <td>0.0</td>\n      <td>0.0</td>\n      <td>0.0</td>\n      <td>0.0</td>\n      <td>0.0</td>\n      <td>0.0</td>\n      <td>0.0</td>\n      <td>0.0</td>\n    </tr>\n  </tbody>\n</table>\n<p>5 rows × 32 columns</p>\n</div>"
     },
     "metadata": {},
     "execution_count": 44
    }
   ],
   "source": [
    "topic_df = pd.DataFrame(model.transform(tfidf), columns=[\"topic_{}\".format(i+1) for i in range (20)]).astype(float)\n",
    "topic_df.index = em_df.index\n",
    "df = pd.concat([em_df, topic_df], axis=1)\n",
    "df.head()"
   ]
  },
  {
   "cell_type": "code",
   "execution_count": 56,
   "metadata": {},
   "outputs": [],
   "source": [
    "df.to_csv('/Users/chenjianyu/Desktop/Corex Topic Modelling/mask_valuable_corex_topics.csv')"
   ]
  },
  {
   "cell_type": "code",
   "execution_count": null,
   "metadata": {},
   "outputs": [],
   "source": [
    "topics_dict = {}\n",
    "\n",
    "for i in range(20):\n",
    "    topics_dict[f'topic{i}'] = {}\n",
    "    topic = df[df[f'topic_{i+1}'] == 1.0]\n",
    "    pos_count = df_topic0[df_topic0['Vader_compound_score'] >= 0.1]\n",
    "    neg_count = df_topic0[df_topic0['Vader_compound_score'] <= -0.01]\n",
    "    emotions_count = list(df_topic0['Emotions'].value_counts())\n",
    "\n",
    "    topics_dict[f'topic{i}']['positive'] = len(pos_count)\n",
    "    topics_dict[f'topic{i}']['negative'] = len(neg_count)\n",
    "    topics_dict[f'topic{i}']['emotions'] = {\n",
    "        'anger': emotions_count[0],\n",
    "        'fear': emotions_count[1],\n",
    "        'joy': emotions_count[2],\n",
    "        'neutral': emotions_count[3],\n",
    "        'sadness': emotions_count[4]\n",
    "        }\n",
    "\n",
    "topics_dict['anchors'] = anchors\n",
    "topics_dict['top_words'] = top_words\n",
    "    \n",
    "pickle.dump(topics_dict, open('mask_topic_counts.sav', 'wb'))\n",
    "# x = pickle.load(open('tracetogether_topic_counts.sav', 'rb'))"
   ]
  },
  {
   "source": [],
   "cell_type": "code",
   "metadata": {},
   "execution_count": null,
   "outputs": []
  },
  {
   "cell_type": "code",
   "execution_count": null,
   "metadata": {},
   "outputs": [],
   "source": []
  },
  {
   "source": [
    "# Social Distancing"
   ],
   "cell_type": "markdown",
   "metadata": {}
  },
  {
   "cell_type": "code",
   "execution_count": 156,
   "metadata": {},
   "outputs": [
    {
     "output_type": "execute_result",
     "data": {
      "text/plain": [
       "2025"
      ]
     },
     "metadata": {},
     "execution_count": 156
    }
   ],
   "source": [
    "em_df = pd.read_csv(f'{parent_path}/Data/Sentiment Data/social distancing_valuable_opinions.csv')\n",
    "em_df.drop(columns=['Unnamed: 0', 'index'], inplace=True)\n",
    "em_df['Topic'] = 'Social Distancing'\n",
    "len(em_df)"
   ]
  },
  {
   "cell_type": "code",
   "execution_count": 157,
   "metadata": {},
   "outputs": [],
   "source": [
    "corpus = PlaintextCorpusReader('/Users/chenjianyu/Library/Mobile Documents/com~apple~CloudDocs/SMU/SMU Module Materials/Y2S2/SMT203 Computational Social Sci/Covid-19-Singapore-Analysis/Data/Policy Documents', '.+\\.txt', encoding='utf-8')\n",
    "fid = corpus.fileids()\n",
    "fid.sort()\n",
    "\n",
    "doc_words = [corpus.words(f) for f in fid]\n",
    "\n",
    "    ## Splitting the labelled data to its own policy/topic\n",
    "# circuit_breaker_comments = cb_df[cb_df['Topic'] == 'Circuit Breaker']\n",
    "# economic_measures_comments = cb_df[cb_df['Topic'] == 'Economic Measures']\n",
    "# foreign_worker_comments = cb_df[cb_df['Topic'] == 'Foreign Worker']\n",
    "# mask_comments = cb_df[cb_df['Topic'] == 'Mask']\n",
    "# phases_comments = cb_df[cb_df['Topic'] == 'Phases']\n",
    "# safe_entry_comments = cb_df[cb_df['Topic'] == 'Safe Entry']\n",
    "social_distancing_comments = em_df[em_df['Topic'] == 'Social Distancing']\n",
    "# stay_home_notice_comments = cb_df[cb_df['Topic'] == 'Stay Home Notice']\n",
    "# tracetogether_comments = em_df[em_df['Topic'] == 'Tracetogether']\n",
    "# vaccination_comments = cb_df[cb_df['Topic'] == 'Vaccination']\n",
    "comments = [social_distancing_comments]\n",
    "# comments = [circuit_breaker_comments, economic_measures_comments ,foreign_worker_comments, mask_comments, phases_comments, safe_entry_comments, social_distancing_comments, stay_home_notice_comments, tracetogether_comments, vaccination_comments]\n",
    "\n",
    "    ## Calculating KL-divergence relevance score for each comment to its respective policy topic\n",
    "for i in range(len(comments)):\n",
    "    doc_unigram, doc_nouns = topic_doc_unigram(doc_words[i], k=1)\n",
    "    relavance_scores = []\n",
    "    for row in em_df['Sentences']:\n",
    "        cmt_unigram, cmt_nouns = comment_unigram(row, k=1)\n",
    "        score = KLDiv_relevance_score(doc_unigram, cmt_unigram, doc_nouns, cmt_nouns)\n",
    "        relavance_scores.append(score)\n",
    "    comments[i]['Relevance score'] = relavance_scores\n",
    "\n",
    "df_final = pd.concat(comments, ignore_index=True)"
   ]
  },
  {
   "cell_type": "code",
   "execution_count": 158,
   "metadata": {},
   "outputs": [
    {
     "output_type": "execute_result",
     "data": {
      "text/plain": [
       "count    2025.000000\n",
       "mean       58.870352\n",
       "std        86.054803\n",
       "min         1.870969\n",
       "25%        18.769575\n",
       "50%        31.288213\n",
       "75%        56.271756\n",
       "max       408.447008\n",
       "Name: Relevance score, dtype: float64"
      ]
     },
     "metadata": {},
     "execution_count": 158
    }
   ],
   "source": [
    "df_final['Relevance score'].describe()"
   ]
  },
  {
   "cell_type": "code",
   "execution_count": 159,
   "metadata": {},
   "outputs": [
    {
     "output_type": "execute_result",
     "data": {
      "text/plain": [
       "519"
      ]
     },
     "metadata": {},
     "execution_count": 159
    }
   ],
   "source": [
    "em_df = df_final[df_final['Relevance score'] <= 20]\n",
    "len(em_df)"
   ]
  },
  {
   "cell_type": "code",
   "execution_count": 160,
   "metadata": {},
   "outputs": [
    {
     "output_type": "stream",
     "name": "stderr",
     "text": [
      "<ipython-input-160-1f63f3ad2eb9>:16: SettingWithCopyWarning: \nA value is trying to be set on a copy of a slice from a DataFrame.\nTry using .loc[row_indexer,col_indexer] = value instead\n\nSee the caveats in the documentation: https://pandas.pydata.org/pandas-docs/stable/user_guide/indexing.html#returning-a-view-versus-a-copy\n  em_df['Comments'] = comments\n"
     ]
    }
   ],
   "source": [
    "eng_words = words.words()\n",
    "comments = []\n",
    "i = 0\n",
    "for row in em_df['Sentences']:\n",
    "    text = remove_hashtag_mentions_urls(row)\n",
    "    text_tokenize = TweetTokenizer().tokenize(text)\n",
    "    text_lower = [w.lower() for w in text_tokenize]\n",
    "    text_words_only = [w for w in text_lower if re.search('^[a-z]+$',w)]\n",
    "    text_eng_words = [w for w in text_words_only if w in eng_words]\n",
    "    text_drop_2letters = [w for w in text_eng_words if len(w) > 2]\n",
    "    text_joined = ' '.join(text_drop_2letters)\n",
    "    comments.append(text_joined)\n",
    "    # print(i)\n",
    "    i+=1\n",
    "\n",
    "em_df['Comments'] = comments"
   ]
  },
  {
   "cell_type": "code",
   "execution_count": 161,
   "metadata": {},
   "outputs": [
    {
     "output_type": "execute_result",
     "data": {
      "text/plain": [
       "6815"
      ]
     },
     "metadata": {},
     "execution_count": 161
    }
   ],
   "source": [
    "vectorizer = TfidfVectorizer(ngram_range=(1, 2), stop_words='english', max_df=0.5)\n",
    "vectorizer = vectorizer.fit(em_df['Comments'])\n",
    "tfidf = vectorizer.transform(em_df['Comments'])\n",
    "vocab = vectorizer.get_feature_names()\n",
    "len(vocab)"
   ]
  },
  {
   "cell_type": "code",
   "execution_count": 162,
   "metadata": {},
   "outputs": [],
   "source": [
    "anchors = [\n",
    "    ['chinese new year', 'cny', 'household', 'visitors', 'neighbour', 'visiting', 'chinatown', 'home', 'maximum', 'mask'], \n",
    "    ['ambassador', 'officer', 'fined', 'fines', 'offence', 'enforcement', 'enforce', 'illegal'],\n",
    "    ['diners', 'apart', 'intermingling', 'gathering', 'group', 'groups', 'dine', 'family', 'restaurant'],\n",
    "    ['transport', 'bus', 'train', 'distance', 'distancing', 'crowd', 'mrt', 'safe distancing', 'social distancing', 'standing close'],\n",
    "    ['safe management', 'control', 'risk', 'limit', 'reduce exposure', 'restriction', 'infected']\n",
    "]\n",
    "anchors = [\n",
    "    [a for a in topic if a in vocab] for topic in anchors\n",
    "]\n",
    "\n",
    "model = ct.Corex(n_hidden = 20, seed = 8)\n",
    "model = model.fit(tfidf, words = vocab, anchors = anchors, anchor_strength=7)\n",
    "# model.get_topics(topic=0, n_words=10)"
   ]
  },
  {
   "cell_type": "code",
   "execution_count": 163,
   "metadata": {},
   "outputs": [
    {
     "output_type": "stream",
     "name": "stdout",
     "text": [
      "Topic #1: home, mask, household, visiting, maximum, stay home, work home, wearing mask, working home, work\n\nTopic #2: enforcement, enforce, ambassador, officer, safe ambassador, liang, clean, clean safe, enforcement clean, easy\n\nTopic #3: apart, restaurant, saw, foot, foot locker, locker, career, traditional, transmission, reach\n\nTopic #4: bus, crowd, distance, train, vast, vast majority, reduce crowd, majority, huge crowd, country leadership\n\nTopic #5: safe management, risk, control, limit, management, reduce exposure, tuition, high, restriction, latest news\n\nTopic #6: racist, race, certain race, people certain, certain, smart right, mobility smart, mobility, bait, bait racist\n\nTopic #7: day frequency, frequency peak, imposing way, way comply, imposing, start imposing, think start, frequency\n\nTopic #8: lotus, lotus sutra, sutra, interchange hawker, interchange, safe interchange, teaching, enhanced offer, offer, offer delivery\n\nTopic #9: \n\nTopic #10: literally bother, bother basically, bother, basically\n\nTopic #11: wong said, generally, people generally, crime, affect, presumption certain, threshold, presumption, law presumption, certain threshold\n\nTopic #12: telegram channel, subscribe telegram, contribute, outbreak source, latest outbreak, subscribe, code contribute, telegram, channel latest, channel\n\nTopic #13: \n\nTopic #14: chew gum, chew, gum stupid, stupid really, long, gum, long live, really long\n\nTopic #15: \n\nTopic #16: \n\nTopic #17: tax payer, payer, tax, prison serve, way locking, reject, man positive, rehabilitation think, rehabilitation, just reject\n\nTopic #18: resistant virus, drug resistant, resistant, virus, covid virus, similar drug, virus similar, similar, drug, virus study\n\nTopic #19: \n\nTopic #20: selfishly want, gratification, gratification zero, small gratification, making selfishly, know point, want small, selfishly, point making, small\n\n"
     ]
    }
   ],
   "source": [
    "top_words = {}\n",
    "\n",
    "for i, topic_ngrams in enumerate(model.get_topics()):\n",
    "    topic_ngrams = [ngram[0] for ngram in topic_ngrams if ngram[1] > 0]\n",
    "    top_words[f'topic{i}'] = topic_ngrams\n",
    "    print(\"Topic #{}: {}\".format(i+1, \", \".join(topic_ngrams)))\n",
    "    print()"
   ]
  },
  {
   "cell_type": "code",
   "execution_count": 164,
   "metadata": {},
   "outputs": [
    {
     "output_type": "display_data",
     "data": {
      "text/plain": "<Figure size 720x360 with 1 Axes>",
      "image/svg+xml": "<?xml version=\"1.0\" encoding=\"utf-8\" standalone=\"no\"?>\n<!DOCTYPE svg PUBLIC \"-//W3C//DTD SVG 1.1//EN\"\n  \"http://www.w3.org/Graphics/SVG/1.1/DTD/svg11.dtd\">\n<!-- Created with matplotlib (https://matplotlib.org/) -->\n<svg height=\"322.363125pt\" version=\"1.1\" viewBox=\"0 0 620.067791 322.363125\" width=\"620.067791pt\" xmlns=\"http://www.w3.org/2000/svg\" xmlns:xlink=\"http://www.w3.org/1999/xlink\">\n <metadata>\n  <rdf:RDF xmlns:cc=\"http://creativecommons.org/ns#\" xmlns:dc=\"http://purl.org/dc/elements/1.1/\" xmlns:rdf=\"http://www.w3.org/1999/02/22-rdf-syntax-ns#\">\n   <cc:Work>\n    <dc:type rdf:resource=\"http://purl.org/dc/dcmitype/StillImage\"/>\n    <dc:date>2021-03-25T01:11:22.483292</dc:date>\n    <dc:format>image/svg+xml</dc:format>\n    <dc:creator>\n     <cc:Agent>\n      <dc:title>Matplotlib v3.3.3, https://matplotlib.org/</dc:title>\n     </cc:Agent>\n    </dc:creator>\n   </cc:Work>\n  </rdf:RDF>\n </metadata>\n <defs>\n  <style type=\"text/css\">*{stroke-linecap:butt;stroke-linejoin:round;}</style>\n </defs>\n <g id=\"figure_1\">\n  <g id=\"patch_1\">\n   <path d=\"M 0 322.363125 \nL 620.067791 322.363125 \nL 620.067791 0 \nL 0 0 \nz\n\" style=\"fill:none;\"/>\n  </g>\n  <g id=\"axes_1\">\n   <g id=\"patch_2\">\n    <path d=\"M 49.588125 279 \nL 607.588125 279 \nL 607.588125 7.2 \nL 49.588125 7.2 \nz\n\" style=\"fill:#ffffff;\"/>\n   </g>\n   <g id=\"patch_3\">\n    <path clip-path=\"url(#pc8a3eb2994)\" d=\"M 74.951761 266.617702 \nL 87.958754 266.617702 \nL 87.958754 19.554545 \nL 74.951761 19.554545 \nz\n\" style=\"fill:#4e79a7;\"/>\n   </g>\n   <g id=\"patch_4\">\n    <path clip-path=\"url(#pc8a3eb2994)\" d=\"M 100.965747 266.617702 \nL 113.97274 266.617702 \nL 113.97274 99.17916 \nL 100.965747 99.17916 \nz\n\" style=\"fill:#4e79a7;\"/>\n   </g>\n   <g id=\"patch_5\">\n    <path clip-path=\"url(#pc8a3eb2994)\" d=\"M 126.979733 266.617702 \nL 139.986726 266.617702 \nL 139.986726 130.064239 \nL 126.979733 130.064239 \nz\n\" style=\"fill:#4e79a7;\"/>\n   </g>\n   <g id=\"patch_6\">\n    <path clip-path=\"url(#pc8a3eb2994)\" d=\"M 152.993719 266.617702 \nL 166.000712 266.617702 \nL 166.000712 120.731328 \nL 152.993719 120.731328 \nz\n\" style=\"fill:#4e79a7;\"/>\n   </g>\n   <g id=\"patch_7\">\n    <path clip-path=\"url(#pc8a3eb2994)\" d=\"M 179.007705 266.617702 \nL 192.014698 266.617702 \nL 192.014698 72.669126 \nL 179.007705 72.669126 \nz\n\" style=\"fill:#4e79a7;\"/>\n   </g>\n   <g id=\"patch_8\">\n    <path clip-path=\"url(#pc8a3eb2994)\" d=\"M 205.021691 266.617702 \nL 218.028684 266.617702 \nL 218.028684 250.55475 \nL 205.021691 250.55475 \nz\n\" style=\"fill:#4e79a7;\"/>\n   </g>\n   <g id=\"patch_9\">\n    <path clip-path=\"url(#pc8a3eb2994)\" d=\"M 231.035677 266.617702 \nL 244.04267 266.617702 \nL 244.04267 264.663658 \nL 231.035677 264.663658 \nz\n\" style=\"fill:#4e79a7;\"/>\n   </g>\n   <g id=\"patch_10\">\n    <path clip-path=\"url(#pc8a3eb2994)\" d=\"M 257.049663 266.617702 \nL 270.056656 266.617702 \nL 270.056656 230.624034 \nL 257.049663 230.624034 \nz\n\" style=\"fill:#4e79a7;\"/>\n   </g>\n   <g id=\"patch_11\">\n    <path clip-path=\"url(#pc8a3eb2994)\" d=\"M 283.063649 266.617702 \nL 296.070642 266.617702 \nL 296.070642 266.569999 \nL 283.063649 266.569999 \nz\n\" style=\"fill:#4e79a7;\"/>\n   </g>\n   <g id=\"patch_12\">\n    <path clip-path=\"url(#pc8a3eb2994)\" d=\"M 309.077635 266.617702 \nL 322.084628 266.617702 \nL 322.084628 266.122984 \nL 309.077635 266.122984 \nz\n\" style=\"fill:#4e79a7;\"/>\n   </g>\n   <g id=\"patch_13\">\n    <path clip-path=\"url(#pc8a3eb2994)\" d=\"M 335.091622 266.617702 \nL 348.098615 266.617702 \nL 348.098615 222.038785 \nL 335.091622 222.038785 \nz\n\" style=\"fill:#4e79a7;\"/>\n   </g>\n   <g id=\"patch_14\">\n    <path clip-path=\"url(#pc8a3eb2994)\" d=\"M 361.105608 266.617702 \nL 374.112601 266.617702 \nL 374.112601 234.921453 \nL 361.105608 234.921453 \nz\n\" style=\"fill:#4e79a7;\"/>\n   </g>\n   <g id=\"patch_15\">\n    <path clip-path=\"url(#pc8a3eb2994)\" d=\"M 387.119594 266.617702 \nL 400.126587 266.617702 \nL 400.126587 266.625523 \nL 387.119594 266.625523 \nz\n\" style=\"fill:#4e79a7;\"/>\n   </g>\n   <g id=\"patch_16\">\n    <path clip-path=\"url(#pc8a3eb2994)\" d=\"M 413.13358 266.617702 \nL 426.140573 266.617702 \nL 426.140573 265.078131 \nL 413.13358 265.078131 \nz\n\" style=\"fill:#4e79a7;\"/>\n   </g>\n   <g id=\"patch_17\">\n    <path clip-path=\"url(#pc8a3eb2994)\" d=\"M 439.147566 266.617702 \nL 452.154559 266.617702 \nL 452.154559 266.618608 \nL 439.147566 266.618608 \nz\n\" style=\"fill:#4e79a7;\"/>\n   </g>\n   <g id=\"patch_18\">\n    <path clip-path=\"url(#pc8a3eb2994)\" d=\"M 465.161552 266.617702 \nL 478.168545 266.617702 \nL 478.168545 266.544193 \nL 465.161552 266.544193 \nz\n\" style=\"fill:#4e79a7;\"/>\n   </g>\n   <g id=\"patch_19\">\n    <path clip-path=\"url(#pc8a3eb2994)\" d=\"M 491.175538 266.617702 \nL 504.182531 266.617702 \nL 504.182531 207.654609 \nL 491.175538 207.654609 \nz\n\" style=\"fill:#4e79a7;\"/>\n   </g>\n   <g id=\"patch_20\">\n    <path clip-path=\"url(#pc8a3eb2994)\" d=\"M 517.189524 266.617702 \nL 530.196517 266.617702 \nL 530.196517 246.788551 \nL 517.189524 246.788551 \nz\n\" style=\"fill:#4e79a7;\"/>\n   </g>\n   <g id=\"patch_21\">\n    <path clip-path=\"url(#pc8a3eb2994)\" d=\"M 543.20351 266.617702 \nL 556.210503 266.617702 \nL 556.210503 266.645455 \nL 543.20351 266.645455 \nz\n\" style=\"fill:#4e79a7;\"/>\n   </g>\n   <g id=\"patch_22\">\n    <path clip-path=\"url(#pc8a3eb2994)\" d=\"M 569.217496 266.617702 \nL 582.224489 266.617702 \nL 582.224489 247.319974 \nL 569.217496 247.319974 \nz\n\" style=\"fill:#4e79a7;\"/>\n   </g>\n   <g id=\"matplotlib.axis_1\">\n    <g id=\"xtick_1\">\n     <g id=\"line2d_1\">\n      <defs>\n       <path d=\"M 0 0 \nL 0 3.5 \n\" id=\"mae5bbd2849\" style=\"stroke:#000000;stroke-width:0.8;\"/>\n      </defs>\n      <g>\n       <use style=\"stroke:#000000;stroke-width:0.8;\" x=\"81.455258\" xlink:href=\"#mae5bbd2849\" y=\"279\"/>\n      </g>\n     </g>\n     <g id=\"text_1\">\n      <!-- 0.0 -->\n      <g transform=\"translate(73.503695 293.598438)scale(0.1 -0.1)\">\n       <defs>\n        <path d=\"M 31.78125 66.40625 \nQ 24.171875 66.40625 20.328125 58.90625 \nQ 16.5 51.421875 16.5 36.375 \nQ 16.5 21.390625 20.328125 13.890625 \nQ 24.171875 6.390625 31.78125 6.390625 \nQ 39.453125 6.390625 43.28125 13.890625 \nQ 47.125 21.390625 47.125 36.375 \nQ 47.125 51.421875 43.28125 58.90625 \nQ 39.453125 66.40625 31.78125 66.40625 \nz\nM 31.78125 74.21875 \nQ 44.046875 74.21875 50.515625 64.515625 \nQ 56.984375 54.828125 56.984375 36.375 \nQ 56.984375 17.96875 50.515625 8.265625 \nQ 44.046875 -1.421875 31.78125 -1.421875 \nQ 19.53125 -1.421875 13.0625 8.265625 \nQ 6.59375 17.96875 6.59375 36.375 \nQ 6.59375 54.828125 13.0625 64.515625 \nQ 19.53125 74.21875 31.78125 74.21875 \nz\n\" id=\"DejaVuSans-48\"/>\n        <path d=\"M 10.6875 12.40625 \nL 21 12.40625 \nL 21 0 \nL 10.6875 0 \nz\n\" id=\"DejaVuSans-46\"/>\n       </defs>\n       <use xlink:href=\"#DejaVuSans-48\"/>\n       <use x=\"63.623047\" xlink:href=\"#DejaVuSans-46\"/>\n       <use x=\"95.410156\" xlink:href=\"#DejaVuSans-48\"/>\n      </g>\n     </g>\n    </g>\n    <g id=\"xtick_2\">\n     <g id=\"line2d_2\">\n      <g>\n       <use style=\"stroke:#000000;stroke-width:0.8;\" x=\"146.490223\" xlink:href=\"#mae5bbd2849\" y=\"279\"/>\n      </g>\n     </g>\n     <g id=\"text_2\">\n      <!-- 2.5 -->\n      <g transform=\"translate(138.53866 293.598438)scale(0.1 -0.1)\">\n       <defs>\n        <path d=\"M 19.1875 8.296875 \nL 53.609375 8.296875 \nL 53.609375 0 \nL 7.328125 0 \nL 7.328125 8.296875 \nQ 12.9375 14.109375 22.625 23.890625 \nQ 32.328125 33.6875 34.8125 36.53125 \nQ 39.546875 41.84375 41.421875 45.53125 \nQ 43.3125 49.21875 43.3125 52.78125 \nQ 43.3125 58.59375 39.234375 62.25 \nQ 35.15625 65.921875 28.609375 65.921875 \nQ 23.96875 65.921875 18.8125 64.3125 \nQ 13.671875 62.703125 7.8125 59.421875 \nL 7.8125 69.390625 \nQ 13.765625 71.78125 18.9375 73 \nQ 24.125 74.21875 28.421875 74.21875 \nQ 39.75 74.21875 46.484375 68.546875 \nQ 53.21875 62.890625 53.21875 53.421875 \nQ 53.21875 48.921875 51.53125 44.890625 \nQ 49.859375 40.875 45.40625 35.40625 \nQ 44.1875 33.984375 37.640625 27.21875 \nQ 31.109375 20.453125 19.1875 8.296875 \nz\n\" id=\"DejaVuSans-50\"/>\n        <path d=\"M 10.796875 72.90625 \nL 49.515625 72.90625 \nL 49.515625 64.59375 \nL 19.828125 64.59375 \nL 19.828125 46.734375 \nQ 21.96875 47.46875 24.109375 47.828125 \nQ 26.265625 48.1875 28.421875 48.1875 \nQ 40.625 48.1875 47.75 41.5 \nQ 54.890625 34.8125 54.890625 23.390625 \nQ 54.890625 11.625 47.5625 5.09375 \nQ 40.234375 -1.421875 26.90625 -1.421875 \nQ 22.3125 -1.421875 17.546875 -0.640625 \nQ 12.796875 0.140625 7.71875 1.703125 \nL 7.71875 11.625 \nQ 12.109375 9.234375 16.796875 8.0625 \nQ 21.484375 6.890625 26.703125 6.890625 \nQ 35.15625 6.890625 40.078125 11.328125 \nQ 45.015625 15.765625 45.015625 23.390625 \nQ 45.015625 31 40.078125 35.4375 \nQ 35.15625 39.890625 26.703125 39.890625 \nQ 22.75 39.890625 18.8125 39.015625 \nQ 14.890625 38.140625 10.796875 36.28125 \nz\n\" id=\"DejaVuSans-53\"/>\n       </defs>\n       <use xlink:href=\"#DejaVuSans-50\"/>\n       <use x=\"63.623047\" xlink:href=\"#DejaVuSans-46\"/>\n       <use x=\"95.410156\" xlink:href=\"#DejaVuSans-53\"/>\n      </g>\n     </g>\n    </g>\n    <g id=\"xtick_3\">\n     <g id=\"line2d_3\">\n      <g>\n       <use style=\"stroke:#000000;stroke-width:0.8;\" x=\"211.525188\" xlink:href=\"#mae5bbd2849\" y=\"279\"/>\n      </g>\n     </g>\n     <g id=\"text_3\">\n      <!-- 5.0 -->\n      <g transform=\"translate(203.573625 293.598438)scale(0.1 -0.1)\">\n       <use xlink:href=\"#DejaVuSans-53\"/>\n       <use x=\"63.623047\" xlink:href=\"#DejaVuSans-46\"/>\n       <use x=\"95.410156\" xlink:href=\"#DejaVuSans-48\"/>\n      </g>\n     </g>\n    </g>\n    <g id=\"xtick_4\">\n     <g id=\"line2d_4\">\n      <g>\n       <use style=\"stroke:#000000;stroke-width:0.8;\" x=\"276.560153\" xlink:href=\"#mae5bbd2849\" y=\"279\"/>\n      </g>\n     </g>\n     <g id=\"text_4\">\n      <!-- 7.5 -->\n      <g transform=\"translate(268.60859 293.598438)scale(0.1 -0.1)\">\n       <defs>\n        <path d=\"M 8.203125 72.90625 \nL 55.078125 72.90625 \nL 55.078125 68.703125 \nL 28.609375 0 \nL 18.3125 0 \nL 43.21875 64.59375 \nL 8.203125 64.59375 \nz\n\" id=\"DejaVuSans-55\"/>\n       </defs>\n       <use xlink:href=\"#DejaVuSans-55\"/>\n       <use x=\"63.623047\" xlink:href=\"#DejaVuSans-46\"/>\n       <use x=\"95.410156\" xlink:href=\"#DejaVuSans-53\"/>\n      </g>\n     </g>\n    </g>\n    <g id=\"xtick_5\">\n     <g id=\"line2d_5\">\n      <g>\n       <use style=\"stroke:#000000;stroke-width:0.8;\" x=\"341.595118\" xlink:href=\"#mae5bbd2849\" y=\"279\"/>\n      </g>\n     </g>\n     <g id=\"text_5\">\n      <!-- 10.0 -->\n      <g transform=\"translate(330.462306 293.598438)scale(0.1 -0.1)\">\n       <defs>\n        <path d=\"M 12.40625 8.296875 \nL 28.515625 8.296875 \nL 28.515625 63.921875 \nL 10.984375 60.40625 \nL 10.984375 69.390625 \nL 28.421875 72.90625 \nL 38.28125 72.90625 \nL 38.28125 8.296875 \nL 54.390625 8.296875 \nL 54.390625 0 \nL 12.40625 0 \nz\n\" id=\"DejaVuSans-49\"/>\n       </defs>\n       <use xlink:href=\"#DejaVuSans-49\"/>\n       <use x=\"63.623047\" xlink:href=\"#DejaVuSans-48\"/>\n       <use x=\"127.246094\" xlink:href=\"#DejaVuSans-46\"/>\n       <use x=\"159.033203\" xlink:href=\"#DejaVuSans-48\"/>\n      </g>\n     </g>\n    </g>\n    <g id=\"xtick_6\">\n     <g id=\"line2d_6\">\n      <g>\n       <use style=\"stroke:#000000;stroke-width:0.8;\" x=\"406.630083\" xlink:href=\"#mae5bbd2849\" y=\"279\"/>\n      </g>\n     </g>\n     <g id=\"text_6\">\n      <!-- 12.5 -->\n      <g transform=\"translate(395.497271 293.598438)scale(0.1 -0.1)\">\n       <use xlink:href=\"#DejaVuSans-49\"/>\n       <use x=\"63.623047\" xlink:href=\"#DejaVuSans-50\"/>\n       <use x=\"127.246094\" xlink:href=\"#DejaVuSans-46\"/>\n       <use x=\"159.033203\" xlink:href=\"#DejaVuSans-53\"/>\n      </g>\n     </g>\n    </g>\n    <g id=\"xtick_7\">\n     <g id=\"line2d_7\">\n      <g>\n       <use style=\"stroke:#000000;stroke-width:0.8;\" x=\"471.665048\" xlink:href=\"#mae5bbd2849\" y=\"279\"/>\n      </g>\n     </g>\n     <g id=\"text_7\">\n      <!-- 15.0 -->\n      <g transform=\"translate(460.532236 293.598438)scale(0.1 -0.1)\">\n       <use xlink:href=\"#DejaVuSans-49\"/>\n       <use x=\"63.623047\" xlink:href=\"#DejaVuSans-53\"/>\n       <use x=\"127.246094\" xlink:href=\"#DejaVuSans-46\"/>\n       <use x=\"159.033203\" xlink:href=\"#DejaVuSans-48\"/>\n      </g>\n     </g>\n    </g>\n    <g id=\"xtick_8\">\n     <g id=\"line2d_8\">\n      <g>\n       <use style=\"stroke:#000000;stroke-width:0.8;\" x=\"536.700013\" xlink:href=\"#mae5bbd2849\" y=\"279\"/>\n      </g>\n     </g>\n     <g id=\"text_8\">\n      <!-- 17.5 -->\n      <g transform=\"translate(525.567201 293.598438)scale(0.1 -0.1)\">\n       <use xlink:href=\"#DejaVuSans-49\"/>\n       <use x=\"63.623047\" xlink:href=\"#DejaVuSans-55\"/>\n       <use x=\"127.246094\" xlink:href=\"#DejaVuSans-46\"/>\n       <use x=\"159.033203\" xlink:href=\"#DejaVuSans-53\"/>\n      </g>\n     </g>\n    </g>\n    <g id=\"xtick_9\">\n     <g id=\"line2d_9\">\n      <g>\n       <use style=\"stroke:#000000;stroke-width:0.8;\" x=\"601.734978\" xlink:href=\"#mae5bbd2849\" y=\"279\"/>\n      </g>\n     </g>\n     <g id=\"text_9\">\n      <!-- 20.0 -->\n      <g transform=\"translate(590.602166 293.598438)scale(0.1 -0.1)\">\n       <use xlink:href=\"#DejaVuSans-50\"/>\n       <use x=\"63.623047\" xlink:href=\"#DejaVuSans-48\"/>\n       <use x=\"127.246094\" xlink:href=\"#DejaVuSans-46\"/>\n       <use x=\"159.033203\" xlink:href=\"#DejaVuSans-48\"/>\n      </g>\n     </g>\n    </g>\n    <g id=\"text_10\">\n     <!-- Topic -->\n     <g transform=\"translate(308.466875 311.835625)scale(0.16 -0.16)\">\n      <defs>\n       <path d=\"M -0.296875 72.90625 \nL 61.375 72.90625 \nL 61.375 64.59375 \nL 35.5 64.59375 \nL 35.5 0 \nL 25.59375 0 \nL 25.59375 64.59375 \nL -0.296875 64.59375 \nz\n\" id=\"DejaVuSans-84\"/>\n       <path d=\"M 30.609375 48.390625 \nQ 23.390625 48.390625 19.1875 42.75 \nQ 14.984375 37.109375 14.984375 27.296875 \nQ 14.984375 17.484375 19.15625 11.84375 \nQ 23.34375 6.203125 30.609375 6.203125 \nQ 37.796875 6.203125 41.984375 11.859375 \nQ 46.1875 17.53125 46.1875 27.296875 \nQ 46.1875 37.015625 41.984375 42.703125 \nQ 37.796875 48.390625 30.609375 48.390625 \nz\nM 30.609375 56 \nQ 42.328125 56 49.015625 48.375 \nQ 55.71875 40.765625 55.71875 27.296875 \nQ 55.71875 13.875 49.015625 6.21875 \nQ 42.328125 -1.421875 30.609375 -1.421875 \nQ 18.84375 -1.421875 12.171875 6.21875 \nQ 5.515625 13.875 5.515625 27.296875 \nQ 5.515625 40.765625 12.171875 48.375 \nQ 18.84375 56 30.609375 56 \nz\n\" id=\"DejaVuSans-111\"/>\n       <path d=\"M 18.109375 8.203125 \nL 18.109375 -20.796875 \nL 9.078125 -20.796875 \nL 9.078125 54.6875 \nL 18.109375 54.6875 \nL 18.109375 46.390625 \nQ 20.953125 51.265625 25.265625 53.625 \nQ 29.59375 56 35.59375 56 \nQ 45.5625 56 51.78125 48.09375 \nQ 58.015625 40.1875 58.015625 27.296875 \nQ 58.015625 14.40625 51.78125 6.484375 \nQ 45.5625 -1.421875 35.59375 -1.421875 \nQ 29.59375 -1.421875 25.265625 0.953125 \nQ 20.953125 3.328125 18.109375 8.203125 \nz\nM 48.6875 27.296875 \nQ 48.6875 37.203125 44.609375 42.84375 \nQ 40.53125 48.484375 33.40625 48.484375 \nQ 26.265625 48.484375 22.1875 42.84375 \nQ 18.109375 37.203125 18.109375 27.296875 \nQ 18.109375 17.390625 22.1875 11.75 \nQ 26.265625 6.109375 33.40625 6.109375 \nQ 40.53125 6.109375 44.609375 11.75 \nQ 48.6875 17.390625 48.6875 27.296875 \nz\n\" id=\"DejaVuSans-112\"/>\n       <path d=\"M 9.421875 54.6875 \nL 18.40625 54.6875 \nL 18.40625 0 \nL 9.421875 0 \nz\nM 9.421875 75.984375 \nL 18.40625 75.984375 \nL 18.40625 64.59375 \nL 9.421875 64.59375 \nz\n\" id=\"DejaVuSans-105\"/>\n       <path d=\"M 48.78125 52.59375 \nL 48.78125 44.1875 \nQ 44.96875 46.296875 41.140625 47.34375 \nQ 37.3125 48.390625 33.40625 48.390625 \nQ 24.65625 48.390625 19.8125 42.84375 \nQ 14.984375 37.3125 14.984375 27.296875 \nQ 14.984375 17.28125 19.8125 11.734375 \nQ 24.65625 6.203125 33.40625 6.203125 \nQ 37.3125 6.203125 41.140625 7.25 \nQ 44.96875 8.296875 48.78125 10.40625 \nL 48.78125 2.09375 \nQ 45.015625 0.34375 40.984375 -0.53125 \nQ 36.96875 -1.421875 32.421875 -1.421875 \nQ 20.0625 -1.421875 12.78125 6.34375 \nQ 5.515625 14.109375 5.515625 27.296875 \nQ 5.515625 40.671875 12.859375 48.328125 \nQ 20.21875 56 33.015625 56 \nQ 37.15625 56 41.109375 55.140625 \nQ 45.0625 54.296875 48.78125 52.59375 \nz\n\" id=\"DejaVuSans-99\"/>\n      </defs>\n      <use xlink:href=\"#DejaVuSans-84\"/>\n      <use x=\"44.083984\" xlink:href=\"#DejaVuSans-111\"/>\n      <use x=\"105.265625\" xlink:href=\"#DejaVuSans-112\"/>\n      <use x=\"168.742188\" xlink:href=\"#DejaVuSans-105\"/>\n      <use x=\"196.525391\" xlink:href=\"#DejaVuSans-99\"/>\n     </g>\n    </g>\n   </g>\n   <g id=\"matplotlib.axis_2\">\n    <g id=\"ytick_1\">\n     <g id=\"line2d_10\">\n      <defs>\n       <path d=\"M 0 0 \nL -3.5 0 \n\" id=\"m764e2795ce\" style=\"stroke:#000000;stroke-width:0.8;\"/>\n      </defs>\n      <g>\n       <use style=\"stroke:#000000;stroke-width:0.8;\" x=\"49.588125\" xlink:href=\"#m764e2795ce\" y=\"266.617702\"/>\n      </g>\n     </g>\n     <g id=\"text_11\">\n      <!-- 0.0 -->\n      <g transform=\"translate(26.685 270.41692)scale(0.1 -0.1)\">\n       <use xlink:href=\"#DejaVuSans-48\"/>\n       <use x=\"63.623047\" xlink:href=\"#DejaVuSans-46\"/>\n       <use x=\"95.410156\" xlink:href=\"#DejaVuSans-48\"/>\n      </g>\n     </g>\n    </g>\n    <g id=\"ytick_2\">\n     <g id=\"line2d_11\">\n      <g>\n       <use style=\"stroke:#000000;stroke-width:0.8;\" x=\"49.588125\" xlink:href=\"#m764e2795ce\" y=\"225.636442\"/>\n      </g>\n     </g>\n     <g id=\"text_12\">\n      <!-- 0.1 -->\n      <g transform=\"translate(26.685 229.43566)scale(0.1 -0.1)\">\n       <use xlink:href=\"#DejaVuSans-48\"/>\n       <use x=\"63.623047\" xlink:href=\"#DejaVuSans-46\"/>\n       <use x=\"95.410156\" xlink:href=\"#DejaVuSans-49\"/>\n      </g>\n     </g>\n    </g>\n    <g id=\"ytick_3\">\n     <g id=\"line2d_12\">\n      <g>\n       <use style=\"stroke:#000000;stroke-width:0.8;\" x=\"49.588125\" xlink:href=\"#m764e2795ce\" y=\"184.655182\"/>\n      </g>\n     </g>\n     <g id=\"text_13\">\n      <!-- 0.2 -->\n      <g transform=\"translate(26.685 188.4544)scale(0.1 -0.1)\">\n       <use xlink:href=\"#DejaVuSans-48\"/>\n       <use x=\"63.623047\" xlink:href=\"#DejaVuSans-46\"/>\n       <use x=\"95.410156\" xlink:href=\"#DejaVuSans-50\"/>\n      </g>\n     </g>\n    </g>\n    <g id=\"ytick_4\">\n     <g id=\"line2d_13\">\n      <g>\n       <use style=\"stroke:#000000;stroke-width:0.8;\" x=\"49.588125\" xlink:href=\"#m764e2795ce\" y=\"143.673922\"/>\n      </g>\n     </g>\n     <g id=\"text_14\">\n      <!-- 0.3 -->\n      <g transform=\"translate(26.685 147.47314)scale(0.1 -0.1)\">\n       <defs>\n        <path d=\"M 40.578125 39.3125 \nQ 47.65625 37.796875 51.625 33 \nQ 55.609375 28.21875 55.609375 21.1875 \nQ 55.609375 10.40625 48.1875 4.484375 \nQ 40.765625 -1.421875 27.09375 -1.421875 \nQ 22.515625 -1.421875 17.65625 -0.515625 \nQ 12.796875 0.390625 7.625 2.203125 \nL 7.625 11.71875 \nQ 11.71875 9.328125 16.59375 8.109375 \nQ 21.484375 6.890625 26.8125 6.890625 \nQ 36.078125 6.890625 40.9375 10.546875 \nQ 45.796875 14.203125 45.796875 21.1875 \nQ 45.796875 27.640625 41.28125 31.265625 \nQ 36.765625 34.90625 28.71875 34.90625 \nL 20.21875 34.90625 \nL 20.21875 43.015625 \nL 29.109375 43.015625 \nQ 36.375 43.015625 40.234375 45.921875 \nQ 44.09375 48.828125 44.09375 54.296875 \nQ 44.09375 59.90625 40.109375 62.90625 \nQ 36.140625 65.921875 28.71875 65.921875 \nQ 24.65625 65.921875 20.015625 65.03125 \nQ 15.375 64.15625 9.8125 62.3125 \nL 9.8125 71.09375 \nQ 15.4375 72.65625 20.34375 73.4375 \nQ 25.25 74.21875 29.59375 74.21875 \nQ 40.828125 74.21875 47.359375 69.109375 \nQ 53.90625 64.015625 53.90625 55.328125 \nQ 53.90625 49.265625 50.4375 45.09375 \nQ 46.96875 40.921875 40.578125 39.3125 \nz\n\" id=\"DejaVuSans-51\"/>\n       </defs>\n       <use xlink:href=\"#DejaVuSans-48\"/>\n       <use x=\"63.623047\" xlink:href=\"#DejaVuSans-46\"/>\n       <use x=\"95.410156\" xlink:href=\"#DejaVuSans-51\"/>\n      </g>\n     </g>\n    </g>\n    <g id=\"ytick_5\">\n     <g id=\"line2d_14\">\n      <g>\n       <use style=\"stroke:#000000;stroke-width:0.8;\" x=\"49.588125\" xlink:href=\"#m764e2795ce\" y=\"102.692662\"/>\n      </g>\n     </g>\n     <g id=\"text_15\">\n      <!-- 0.4 -->\n      <g transform=\"translate(26.685 106.49188)scale(0.1 -0.1)\">\n       <defs>\n        <path d=\"M 37.796875 64.3125 \nL 12.890625 25.390625 \nL 37.796875 25.390625 \nz\nM 35.203125 72.90625 \nL 47.609375 72.90625 \nL 47.609375 25.390625 \nL 58.015625 25.390625 \nL 58.015625 17.1875 \nL 47.609375 17.1875 \nL 47.609375 0 \nL 37.796875 0 \nL 37.796875 17.1875 \nL 4.890625 17.1875 \nL 4.890625 26.703125 \nz\n\" id=\"DejaVuSans-52\"/>\n       </defs>\n       <use xlink:href=\"#DejaVuSans-48\"/>\n       <use x=\"63.623047\" xlink:href=\"#DejaVuSans-46\"/>\n       <use x=\"95.410156\" xlink:href=\"#DejaVuSans-52\"/>\n      </g>\n     </g>\n    </g>\n    <g id=\"ytick_6\">\n     <g id=\"line2d_15\">\n      <g>\n       <use style=\"stroke:#000000;stroke-width:0.8;\" x=\"49.588125\" xlink:href=\"#m764e2795ce\" y=\"61.711402\"/>\n      </g>\n     </g>\n     <g id=\"text_16\">\n      <!-- 0.5 -->\n      <g transform=\"translate(26.685 65.51062)scale(0.1 -0.1)\">\n       <use xlink:href=\"#DejaVuSans-48\"/>\n       <use x=\"63.623047\" xlink:href=\"#DejaVuSans-46\"/>\n       <use x=\"95.410156\" xlink:href=\"#DejaVuSans-53\"/>\n      </g>\n     </g>\n    </g>\n    <g id=\"ytick_7\">\n     <g id=\"line2d_16\">\n      <g>\n       <use style=\"stroke:#000000;stroke-width:0.8;\" x=\"49.588125\" xlink:href=\"#m764e2795ce\" y=\"20.730142\"/>\n      </g>\n     </g>\n     <g id=\"text_17\">\n      <!-- 0.6 -->\n      <g transform=\"translate(26.685 24.529361)scale(0.1 -0.1)\">\n       <defs>\n        <path d=\"M 33.015625 40.375 \nQ 26.375 40.375 22.484375 35.828125 \nQ 18.609375 31.296875 18.609375 23.390625 \nQ 18.609375 15.53125 22.484375 10.953125 \nQ 26.375 6.390625 33.015625 6.390625 \nQ 39.65625 6.390625 43.53125 10.953125 \nQ 47.40625 15.53125 47.40625 23.390625 \nQ 47.40625 31.296875 43.53125 35.828125 \nQ 39.65625 40.375 33.015625 40.375 \nz\nM 52.59375 71.296875 \nL 52.59375 62.3125 \nQ 48.875 64.0625 45.09375 64.984375 \nQ 41.3125 65.921875 37.59375 65.921875 \nQ 27.828125 65.921875 22.671875 59.328125 \nQ 17.53125 52.734375 16.796875 39.40625 \nQ 19.671875 43.65625 24.015625 45.921875 \nQ 28.375 48.1875 33.59375 48.1875 \nQ 44.578125 48.1875 50.953125 41.515625 \nQ 57.328125 34.859375 57.328125 23.390625 \nQ 57.328125 12.15625 50.6875 5.359375 \nQ 44.046875 -1.421875 33.015625 -1.421875 \nQ 20.359375 -1.421875 13.671875 8.265625 \nQ 6.984375 17.96875 6.984375 36.375 \nQ 6.984375 53.65625 15.1875 63.9375 \nQ 23.390625 74.21875 37.203125 74.21875 \nQ 40.921875 74.21875 44.703125 73.484375 \nQ 48.484375 72.75 52.59375 71.296875 \nz\n\" id=\"DejaVuSans-54\"/>\n       </defs>\n       <use xlink:href=\"#DejaVuSans-48\"/>\n       <use x=\"63.623047\" xlink:href=\"#DejaVuSans-46\"/>\n       <use x=\"95.410156\" xlink:href=\"#DejaVuSans-54\"/>\n      </g>\n     </g>\n    </g>\n    <g id=\"text_18\">\n     <!-- Total Correlation (nats) -->\n     <g transform=\"translate(19.3575 234.49625)rotate(-90)scale(0.16 -0.16)\">\n      <defs>\n       <path d=\"M 18.3125 70.21875 \nL 18.3125 54.6875 \nL 36.8125 54.6875 \nL 36.8125 47.703125 \nL 18.3125 47.703125 \nL 18.3125 18.015625 \nQ 18.3125 11.328125 20.140625 9.421875 \nQ 21.96875 7.515625 27.59375 7.515625 \nL 36.8125 7.515625 \nL 36.8125 0 \nL 27.59375 0 \nQ 17.1875 0 13.234375 3.875 \nQ 9.28125 7.765625 9.28125 18.015625 \nL 9.28125 47.703125 \nL 2.6875 47.703125 \nL 2.6875 54.6875 \nL 9.28125 54.6875 \nL 9.28125 70.21875 \nz\n\" id=\"DejaVuSans-116\"/>\n       <path d=\"M 34.28125 27.484375 \nQ 23.390625 27.484375 19.1875 25 \nQ 14.984375 22.515625 14.984375 16.5 \nQ 14.984375 11.71875 18.140625 8.90625 \nQ 21.296875 6.109375 26.703125 6.109375 \nQ 34.1875 6.109375 38.703125 11.40625 \nQ 43.21875 16.703125 43.21875 25.484375 \nL 43.21875 27.484375 \nz\nM 52.203125 31.203125 \nL 52.203125 0 \nL 43.21875 0 \nL 43.21875 8.296875 \nQ 40.140625 3.328125 35.546875 0.953125 \nQ 30.953125 -1.421875 24.3125 -1.421875 \nQ 15.921875 -1.421875 10.953125 3.296875 \nQ 6 8.015625 6 15.921875 \nQ 6 25.140625 12.171875 29.828125 \nQ 18.359375 34.515625 30.609375 34.515625 \nL 43.21875 34.515625 \nL 43.21875 35.40625 \nQ 43.21875 41.609375 39.140625 45 \nQ 35.0625 48.390625 27.6875 48.390625 \nQ 23 48.390625 18.546875 47.265625 \nQ 14.109375 46.140625 10.015625 43.890625 \nL 10.015625 52.203125 \nQ 14.9375 54.109375 19.578125 55.046875 \nQ 24.21875 56 28.609375 56 \nQ 40.484375 56 46.34375 49.84375 \nQ 52.203125 43.703125 52.203125 31.203125 \nz\n\" id=\"DejaVuSans-97\"/>\n       <path d=\"M 9.421875 75.984375 \nL 18.40625 75.984375 \nL 18.40625 0 \nL 9.421875 0 \nz\n\" id=\"DejaVuSans-108\"/>\n       <path id=\"DejaVuSans-32\"/>\n       <path d=\"M 64.40625 67.28125 \nL 64.40625 56.890625 \nQ 59.421875 61.53125 53.78125 63.8125 \nQ 48.140625 66.109375 41.796875 66.109375 \nQ 29.296875 66.109375 22.65625 58.46875 \nQ 16.015625 50.828125 16.015625 36.375 \nQ 16.015625 21.96875 22.65625 14.328125 \nQ 29.296875 6.6875 41.796875 6.6875 \nQ 48.140625 6.6875 53.78125 8.984375 \nQ 59.421875 11.28125 64.40625 15.921875 \nL 64.40625 5.609375 \nQ 59.234375 2.09375 53.4375 0.328125 \nQ 47.65625 -1.421875 41.21875 -1.421875 \nQ 24.65625 -1.421875 15.125 8.703125 \nQ 5.609375 18.84375 5.609375 36.375 \nQ 5.609375 53.953125 15.125 64.078125 \nQ 24.65625 74.21875 41.21875 74.21875 \nQ 47.75 74.21875 53.53125 72.484375 \nQ 59.328125 70.75 64.40625 67.28125 \nz\n\" id=\"DejaVuSans-67\"/>\n       <path d=\"M 41.109375 46.296875 \nQ 39.59375 47.171875 37.8125 47.578125 \nQ 36.03125 48 33.890625 48 \nQ 26.265625 48 22.1875 43.046875 \nQ 18.109375 38.09375 18.109375 28.8125 \nL 18.109375 0 \nL 9.078125 0 \nL 9.078125 54.6875 \nL 18.109375 54.6875 \nL 18.109375 46.1875 \nQ 20.953125 51.171875 25.484375 53.578125 \nQ 30.03125 56 36.53125 56 \nQ 37.453125 56 38.578125 55.875 \nQ 39.703125 55.765625 41.0625 55.515625 \nz\n\" id=\"DejaVuSans-114\"/>\n       <path d=\"M 56.203125 29.59375 \nL 56.203125 25.203125 \nL 14.890625 25.203125 \nQ 15.484375 15.921875 20.484375 11.0625 \nQ 25.484375 6.203125 34.421875 6.203125 \nQ 39.59375 6.203125 44.453125 7.46875 \nQ 49.3125 8.734375 54.109375 11.28125 \nL 54.109375 2.78125 \nQ 49.265625 0.734375 44.1875 -0.34375 \nQ 39.109375 -1.421875 33.890625 -1.421875 \nQ 20.796875 -1.421875 13.15625 6.1875 \nQ 5.515625 13.8125 5.515625 26.8125 \nQ 5.515625 40.234375 12.765625 48.109375 \nQ 20.015625 56 32.328125 56 \nQ 43.359375 56 49.78125 48.890625 \nQ 56.203125 41.796875 56.203125 29.59375 \nz\nM 47.21875 32.234375 \nQ 47.125 39.59375 43.09375 43.984375 \nQ 39.0625 48.390625 32.421875 48.390625 \nQ 24.90625 48.390625 20.390625 44.140625 \nQ 15.875 39.890625 15.1875 32.171875 \nz\n\" id=\"DejaVuSans-101\"/>\n       <path d=\"M 54.890625 33.015625 \nL 54.890625 0 \nL 45.90625 0 \nL 45.90625 32.71875 \nQ 45.90625 40.484375 42.875 44.328125 \nQ 39.84375 48.1875 33.796875 48.1875 \nQ 26.515625 48.1875 22.3125 43.546875 \nQ 18.109375 38.921875 18.109375 30.90625 \nL 18.109375 0 \nL 9.078125 0 \nL 9.078125 54.6875 \nL 18.109375 54.6875 \nL 18.109375 46.1875 \nQ 21.34375 51.125 25.703125 53.5625 \nQ 30.078125 56 35.796875 56 \nQ 45.21875 56 50.046875 50.171875 \nQ 54.890625 44.34375 54.890625 33.015625 \nz\n\" id=\"DejaVuSans-110\"/>\n       <path d=\"M 31 75.875 \nQ 24.46875 64.65625 21.28125 53.65625 \nQ 18.109375 42.671875 18.109375 31.390625 \nQ 18.109375 20.125 21.3125 9.0625 \nQ 24.515625 -2 31 -13.1875 \nL 23.1875 -13.1875 \nQ 15.875 -1.703125 12.234375 9.375 \nQ 8.59375 20.453125 8.59375 31.390625 \nQ 8.59375 42.28125 12.203125 53.3125 \nQ 15.828125 64.359375 23.1875 75.875 \nz\n\" id=\"DejaVuSans-40\"/>\n       <path d=\"M 44.28125 53.078125 \nL 44.28125 44.578125 \nQ 40.484375 46.53125 36.375 47.5 \nQ 32.28125 48.484375 27.875 48.484375 \nQ 21.1875 48.484375 17.84375 46.4375 \nQ 14.5 44.390625 14.5 40.28125 \nQ 14.5 37.15625 16.890625 35.375 \nQ 19.28125 33.59375 26.515625 31.984375 \nL 29.59375 31.296875 \nQ 39.15625 29.25 43.1875 25.515625 \nQ 47.21875 21.78125 47.21875 15.09375 \nQ 47.21875 7.46875 41.1875 3.015625 \nQ 35.15625 -1.421875 24.609375 -1.421875 \nQ 20.21875 -1.421875 15.453125 -0.5625 \nQ 10.6875 0.296875 5.421875 2 \nL 5.421875 11.28125 \nQ 10.40625 8.6875 15.234375 7.390625 \nQ 20.0625 6.109375 24.8125 6.109375 \nQ 31.15625 6.109375 34.5625 8.28125 \nQ 37.984375 10.453125 37.984375 14.40625 \nQ 37.984375 18.0625 35.515625 20.015625 \nQ 33.0625 21.96875 24.703125 23.78125 \nL 21.578125 24.515625 \nQ 13.234375 26.265625 9.515625 29.90625 \nQ 5.8125 33.546875 5.8125 39.890625 \nQ 5.8125 47.609375 11.28125 51.796875 \nQ 16.75 56 26.8125 56 \nQ 31.78125 56 36.171875 55.265625 \nQ 40.578125 54.546875 44.28125 53.078125 \nz\n\" id=\"DejaVuSans-115\"/>\n       <path d=\"M 8.015625 75.875 \nL 15.828125 75.875 \nQ 23.140625 64.359375 26.78125 53.3125 \nQ 30.421875 42.28125 30.421875 31.390625 \nQ 30.421875 20.453125 26.78125 9.375 \nQ 23.140625 -1.703125 15.828125 -13.1875 \nL 8.015625 -13.1875 \nQ 14.5 -2 17.703125 9.0625 \nQ 20.90625 20.125 20.90625 31.390625 \nQ 20.90625 42.671875 17.703125 53.65625 \nQ 14.5 64.65625 8.015625 75.875 \nz\n\" id=\"DejaVuSans-41\"/>\n      </defs>\n      <use xlink:href=\"#DejaVuSans-84\"/>\n      <use x=\"44.083984\" xlink:href=\"#DejaVuSans-111\"/>\n      <use x=\"105.265625\" xlink:href=\"#DejaVuSans-116\"/>\n      <use x=\"144.474609\" xlink:href=\"#DejaVuSans-97\"/>\n      <use x=\"205.753906\" xlink:href=\"#DejaVuSans-108\"/>\n      <use x=\"233.537109\" xlink:href=\"#DejaVuSans-32\"/>\n      <use x=\"265.324219\" xlink:href=\"#DejaVuSans-67\"/>\n      <use x=\"335.148438\" xlink:href=\"#DejaVuSans-111\"/>\n      <use x=\"396.330078\" xlink:href=\"#DejaVuSans-114\"/>\n      <use x=\"435.693359\" xlink:href=\"#DejaVuSans-114\"/>\n      <use x=\"474.556641\" xlink:href=\"#DejaVuSans-101\"/>\n      <use x=\"536.080078\" xlink:href=\"#DejaVuSans-108\"/>\n      <use x=\"563.863281\" xlink:href=\"#DejaVuSans-97\"/>\n      <use x=\"625.142578\" xlink:href=\"#DejaVuSans-116\"/>\n      <use x=\"664.351562\" xlink:href=\"#DejaVuSans-105\"/>\n      <use x=\"692.134766\" xlink:href=\"#DejaVuSans-111\"/>\n      <use x=\"753.316406\" xlink:href=\"#DejaVuSans-110\"/>\n      <use x=\"816.695312\" xlink:href=\"#DejaVuSans-32\"/>\n      <use x=\"848.482422\" xlink:href=\"#DejaVuSans-40\"/>\n      <use x=\"887.496094\" xlink:href=\"#DejaVuSans-110\"/>\n      <use x=\"950.875\" xlink:href=\"#DejaVuSans-97\"/>\n      <use x=\"1012.154297\" xlink:href=\"#DejaVuSans-116\"/>\n      <use x=\"1051.363281\" xlink:href=\"#DejaVuSans-115\"/>\n      <use x=\"1103.462891\" xlink:href=\"#DejaVuSans-41\"/>\n     </g>\n    </g>\n   </g>\n   <g id=\"patch_23\">\n    <path d=\"M 49.588125 279 \nL 49.588125 7.2 \n\" style=\"fill:none;stroke:#000000;stroke-linecap:square;stroke-linejoin:miter;stroke-width:0.8;\"/>\n   </g>\n   <g id=\"patch_24\">\n    <path d=\"M 607.588125 279 \nL 607.588125 7.2 \n\" style=\"fill:none;stroke:#000000;stroke-linecap:square;stroke-linejoin:miter;stroke-width:0.8;\"/>\n   </g>\n   <g id=\"patch_25\">\n    <path d=\"M 49.588125 279 \nL 607.588125 279 \n\" style=\"fill:none;stroke:#000000;stroke-linecap:square;stroke-linejoin:miter;stroke-width:0.8;\"/>\n   </g>\n   <g id=\"patch_26\">\n    <path d=\"M 49.588125 7.2 \nL 607.588125 7.2 \n\" style=\"fill:none;stroke:#000000;stroke-linecap:square;stroke-linejoin:miter;stroke-width:0.8;\"/>\n   </g>\n  </g>\n </g>\n <defs>\n  <clipPath id=\"pc8a3eb2994\">\n   <rect height=\"271.8\" width=\"558\" x=\"49.588125\" y=\"7.2\"/>\n  </clipPath>\n </defs>\n</svg>\n",
      "image/png": "[encoded data removed]"
     },
     "metadata": {
      "needs_background": "light"
     }
    }
   ],
   "source": [
    "plt.figure(figsize=(10,5))\n",
    "plt.bar(range(model.tcs.shape[0]), model.tcs, color='#4e79a7', width=0.5)\n",
    "plt.xlabel('Topic', fontsize=16)\n",
    "plt.ylabel('Total Correlation (nats)', fontsize=16);"
   ]
  },
  {
   "cell_type": "code",
   "execution_count": 165,
   "metadata": {},
   "outputs": [
    {
     "output_type": "execute_result",
     "data": {
      "text/plain": [
       "                                            Sentences Comment Datetime  \\\n",
       "0   Another smart aleck \\x93People should limit th...          21/2/21   \n",
       "4   Additional measures currently in place include...          20/2/21   \n",
       "5   While no major incident has been reported and ...          20/2/21   \n",
       "10  WhiteAnt wrote: If no such thing as visit 2 ho...          16/2/21   \n",
       "14  Multi-Ministry Task Force (MTF) co-chair Lawre...          23/1/21   \n",
       "\n",
       "    Textblob_polarity_score  Textblob_subjectivity_score  Vader_neg_score  \\\n",
       "0                  0.138095                     0.614286            0.000   \n",
       "4                  0.187500                     0.700000            0.000   \n",
       "5                  0.006250                     0.666667            0.091   \n",
       "10                -0.250000                     0.750000            0.120   \n",
       "14                 0.284848                     0.643939            0.000   \n",
       "\n",
       "    Vader_neu_score  Vader_pos_score  Vader_compound_score Emotions  \\\n",
       "0             0.909            0.091                0.4019      joy   \n",
       "4             0.920            0.080                0.2732  neutral   \n",
       "5             0.909            0.000               -0.2960     fear   \n",
       "10            0.836            0.044               -0.4754    anger   \n",
       "14            1.000            0.000                0.0000    anger   \n",
       "\n",
       "                Topic  ...  topic_11 topic_12  topic_13  topic_14  topic_15  \\\n",
       "0   Social Distancing  ...       0.0      0.0       0.0       0.0       1.0   \n",
       "4   Social Distancing  ...       0.0      0.0       0.0       0.0       1.0   \n",
       "5   Social Distancing  ...       1.0      0.0       0.0       0.0       1.0   \n",
       "10  Social Distancing  ...       0.0      0.0       0.0       0.0       1.0   \n",
       "14  Social Distancing  ...       0.0      0.0       0.0       0.0       1.0   \n",
       "\n",
       "    topic_16  topic_17  topic_18  topic_19  topic_20  \n",
       "0        0.0       0.0       0.0       0.0       0.0  \n",
       "4        0.0       0.0       0.0       0.0       0.0  \n",
       "5        0.0       0.0       0.0       0.0       0.0  \n",
       "10       0.0       0.0       0.0       0.0       0.0  \n",
       "14       0.0       0.0       0.0       0.0       0.0  \n",
       "\n",
       "[5 rows x 32 columns]"
      ],
      "text/html": "<div>\n<style scoped>\n    .dataframe tbody tr th:only-of-type {\n        vertical-align: middle;\n    }\n\n    .dataframe tbody tr th {\n        vertical-align: top;\n    }\n\n    .dataframe thead th {\n        text-align: right;\n    }\n</style>\n<table border=\"1\" class=\"dataframe\">\n  <thead>\n    <tr style=\"text-align: right;\">\n      <th></th>\n      <th>Sentences</th>\n      <th>Comment Datetime</th>\n      <th>Textblob_polarity_score</th>\n      <th>Textblob_subjectivity_score</th>\n      <th>Vader_neg_score</th>\n      <th>Vader_neu_score</th>\n      <th>Vader_pos_score</th>\n      <th>Vader_compound_score</th>\n      <th>Emotions</th>\n      <th>Topic</th>\n      <th>...</th>\n      <th>topic_11</th>\n      <th>topic_12</th>\n      <th>topic_13</th>\n      <th>topic_14</th>\n      <th>topic_15</th>\n      <th>topic_16</th>\n      <th>topic_17</th>\n      <th>topic_18</th>\n      <th>topic_19</th>\n      <th>topic_20</th>\n    </tr>\n  </thead>\n  <tbody>\n    <tr>\n      <th>0</th>\n      <td>Another smart aleck \\x93People should limit th...</td>\n      <td>21/2/21</td>\n      <td>0.138095</td>\n      <td>0.614286</td>\n      <td>0.000</td>\n      <td>0.909</td>\n      <td>0.091</td>\n      <td>0.4019</td>\n      <td>joy</td>\n      <td>Social Distancing</td>\n      <td>...</td>\n      <td>0.0</td>\n      <td>0.0</td>\n      <td>0.0</td>\n      <td>0.0</td>\n      <td>1.0</td>\n      <td>0.0</td>\n      <td>0.0</td>\n      <td>0.0</td>\n      <td>0.0</td>\n      <td>0.0</td>\n    </tr>\n    <tr>\n      <th>4</th>\n      <td>Additional measures currently in place include...</td>\n      <td>20/2/21</td>\n      <td>0.187500</td>\n      <td>0.700000</td>\n      <td>0.000</td>\n      <td>0.920</td>\n      <td>0.080</td>\n      <td>0.2732</td>\n      <td>neutral</td>\n      <td>Social Distancing</td>\n      <td>...</td>\n      <td>0.0</td>\n      <td>0.0</td>\n      <td>0.0</td>\n      <td>0.0</td>\n      <td>1.0</td>\n      <td>0.0</td>\n      <td>0.0</td>\n      <td>0.0</td>\n      <td>0.0</td>\n      <td>0.0</td>\n    </tr>\n    <tr>\n      <th>5</th>\n      <td>While no major incident has been reported and ...</td>\n      <td>20/2/21</td>\n      <td>0.006250</td>\n      <td>0.666667</td>\n      <td>0.091</td>\n      <td>0.909</td>\n      <td>0.000</td>\n      <td>-0.2960</td>\n      <td>fear</td>\n      <td>Social Distancing</td>\n      <td>...</td>\n      <td>1.0</td>\n      <td>0.0</td>\n      <td>0.0</td>\n      <td>0.0</td>\n      <td>1.0</td>\n      <td>0.0</td>\n      <td>0.0</td>\n      <td>0.0</td>\n      <td>0.0</td>\n      <td>0.0</td>\n    </tr>\n    <tr>\n      <th>10</th>\n      <td>WhiteAnt wrote: If no such thing as visit 2 ho...</td>\n      <td>16/2/21</td>\n      <td>-0.250000</td>\n      <td>0.750000</td>\n      <td>0.120</td>\n      <td>0.836</td>\n      <td>0.044</td>\n      <td>-0.4754</td>\n      <td>anger</td>\n      <td>Social Distancing</td>\n      <td>...</td>\n      <td>0.0</td>\n      <td>0.0</td>\n      <td>0.0</td>\n      <td>0.0</td>\n      <td>1.0</td>\n      <td>0.0</td>\n      <td>0.0</td>\n      <td>0.0</td>\n      <td>0.0</td>\n      <td>0.0</td>\n    </tr>\n    <tr>\n      <th>14</th>\n      <td>Multi-Ministry Task Force (MTF) co-chair Lawre...</td>\n      <td>23/1/21</td>\n      <td>0.284848</td>\n      <td>0.643939</td>\n      <td>0.000</td>\n      <td>1.000</td>\n      <td>0.000</td>\n      <td>0.0000</td>\n      <td>anger</td>\n      <td>Social Distancing</td>\n      <td>...</td>\n      <td>0.0</td>\n      <td>0.0</td>\n      <td>0.0</td>\n      <td>0.0</td>\n      <td>1.0</td>\n      <td>0.0</td>\n      <td>0.0</td>\n      <td>0.0</td>\n      <td>0.0</td>\n      <td>0.0</td>\n    </tr>\n  </tbody>\n</table>\n<p>5 rows × 32 columns</p>\n</div>"
     },
     "metadata": {},
     "execution_count": 165
    }
   ],
   "source": [
    "topic_df = pd.DataFrame(model.transform(tfidf), columns=[\"topic_{}\".format(i+1) for i in range (20)]).astype(float)\n",
    "topic_df.index = em_df.index\n",
    "df = pd.concat([em_df, topic_df], axis=1)\n",
    "df.head()"
   ]
  },
  {
   "cell_type": "code",
   "execution_count": null,
   "metadata": {},
   "outputs": [],
   "source": [
    "df.to_csv('/Users/chenjianyu/Desktop/Corex Topic Modelling/sd_valuable_corex_topics.csv')"
   ]
  },
  {
   "cell_type": "code",
   "execution_count": null,
   "metadata": {},
   "outputs": [],
   "source": [
    "topics_dict = {}\n",
    "\n",
    "for i in range(20):\n",
    "    topics_dict[f'topic{i}'] = {}\n",
    "    topic = df[df[f'topic_{i+1}'] == 1.0]\n",
    "    pos_count = df_topic0[df_topic0['Vader_compound_score'] >= 0.1]\n",
    "    neg_count = df_topic0[df_topic0['Vader_compound_score'] <= -0.01]\n",
    "    emotions_count = list(df_topic0['Emotions'].value_counts())\n",
    "\n",
    "    topics_dict[f'topic{i}']['positive'] = len(pos_count)\n",
    "    topics_dict[f'topic{i}']['negative'] = len(neg_count)\n",
    "    topics_dict[f'topic{i}']['emotions'] = {\n",
    "        'anger': emotions_count[0],\n",
    "        'fear': emotions_count[1],\n",
    "        'joy': emotions_count[2],\n",
    "        'neutral': emotions_count[3],\n",
    "        'sadness': emotions_count[4]\n",
    "        }\n",
    "\n",
    "topics_dict['anchors'] = anchors\n",
    "topics_dict['top_words'] = top_words\n",
    "    \n",
    "pickle.dump(topics_dict, open('sd_topic_counts.sav', 'wb'))\n",
    "# x = pickle.load(open('tracetogether_topic_counts.sav', 'rb'))"
   ]
  },
  {
   "cell_type": "code",
   "execution_count": null,
   "metadata": {},
   "outputs": [],
   "source": []
  },
  {
   "source": [
    "# Vaccination"
   ],
   "cell_type": "markdown",
   "metadata": {}
  },
  {
   "cell_type": "code",
   "execution_count": 166,
   "metadata": {},
   "outputs": [
    {
     "output_type": "execute_result",
     "data": {
      "text/plain": [
       "3282"
      ]
     },
     "metadata": {},
     "execution_count": 166
    }
   ],
   "source": [
    "em_df = pd.read_csv(f'{parent_path}/Data/Sentiment Data/vaccination_valuable_opinions.csv')\n",
    "em_df.drop(columns=['Unnamed: 0', 'index'], inplace=True)\n",
    "em_df['Topic'] = 'Vaccination'\n",
    "len(em_df)"
   ]
  },
  {
   "cell_type": "code",
   "execution_count": 168,
   "metadata": {},
   "outputs": [],
   "source": [
    "corpus = PlaintextCorpusReader('/Users/chenjianyu/Library/Mobile Documents/com~apple~CloudDocs/SMU/SMU Module Materials/Y2S2/SMT203 Computational Social Sci/Covid-19-Singapore-Analysis/Data/Policy Documents', '.+\\.txt', encoding='utf-8')\n",
    "fid = corpus.fileids()\n",
    "fid.sort()\n",
    "\n",
    "doc_words = [corpus.words(f) for f in fid]\n",
    "\n",
    "    ## Splitting the labelled data to its own policy/topic\n",
    "# circuit_breaker_comments = cb_df[cb_df['Topic'] == 'Circuit Breaker']\n",
    "# economic_measures_comments = cb_df[cb_df['Topic'] == 'Economic Measures']\n",
    "# foreign_worker_comments = cb_df[cb_df['Topic'] == 'Foreign Worker']\n",
    "# mask_comments = cb_df[cb_df['Topic'] == 'Mask']\n",
    "# phases_comments = cb_df[cb_df['Topic'] == 'Phases']\n",
    "# safe_entry_comments = cb_df[cb_df['Topic'] == 'Safe Entry']\n",
    "# social_distancing_comments = cb_df[cb_df['Topic'] == 'Social Distancing']\n",
    "# stay_home_notice_comments = cb_df[cb_df['Topic'] == 'Stay Home Notice']\n",
    "# tracetogether_comments = em_df[em_df['Topic'] == 'Tracetogether']\n",
    "vaccination_comments = em_df[em_df['Topic'] == 'Vaccination']\n",
    "comments = [vaccination_comments]\n",
    "# comments = [circuit_breaker_comments, economic_measures_comments ,foreign_worker_comments, mask_comments, phases_comments, safe_entry_comments, social_distancing_comments, stay_home_notice_comments, tracetogether_comments, vaccination_comments]\n",
    "\n",
    "    ## Calculating KL-divergence relevance score for each comment to its respective policy topic\n",
    "for i in range(len(comments)):\n",
    "    doc_unigram, doc_nouns = topic_doc_unigram(doc_words[i], k=1)\n",
    "    relavance_scores = []\n",
    "    for row in em_df['Sentences']:\n",
    "        cmt_unigram, cmt_nouns = comment_unigram(row, k=1)\n",
    "        score = KLDiv_relevance_score(doc_unigram, cmt_unigram, doc_nouns, cmt_nouns)\n",
    "        relavance_scores.append(score)\n",
    "    comments[i]['Relevance score'] = relavance_scores\n",
    "\n",
    "df_final = pd.concat(comments, ignore_index=True)"
   ]
  },
  {
   "cell_type": "code",
   "execution_count": 169,
   "metadata": {},
   "outputs": [
    {
     "output_type": "execute_result",
     "data": {
      "text/plain": [
       "count    3282.000000\n",
       "mean       57.902616\n",
       "std        85.131756\n",
       "min         2.762035\n",
       "25%        18.438717\n",
       "50%        36.131131\n",
       "75%        56.271756\n",
       "max       408.447008\n",
       "Name: Relevance score, dtype: float64"
      ]
     },
     "metadata": {},
     "execution_count": 169
    }
   ],
   "source": [
    "df_final['Relevance score'].describe()"
   ]
  },
  {
   "cell_type": "code",
   "execution_count": 170,
   "metadata": {},
   "outputs": [
    {
     "output_type": "execute_result",
     "data": {
      "text/plain": [
       "854"
      ]
     },
     "metadata": {},
     "execution_count": 170
    }
   ],
   "source": [
    "em_df = df_final[df_final['Relevance score'] <= 20]\n",
    "len(em_df)"
   ]
  },
  {
   "cell_type": "code",
   "execution_count": 171,
   "metadata": {},
   "outputs": [
    {
     "output_type": "stream",
     "name": "stderr",
     "text": [
      "<ipython-input-171-1f63f3ad2eb9>:16: SettingWithCopyWarning: \nA value is trying to be set on a copy of a slice from a DataFrame.\nTry using .loc[row_indexer,col_indexer] = value instead\n\nSee the caveats in the documentation: https://pandas.pydata.org/pandas-docs/stable/user_guide/indexing.html#returning-a-view-versus-a-copy\n  em_df['Comments'] = comments\n"
     ]
    }
   ],
   "source": [
    "eng_words = words.words()\n",
    "comments = []\n",
    "i = 0\n",
    "for row in em_df['Sentences']:\n",
    "    text = remove_hashtag_mentions_urls(row)\n",
    "    text_tokenize = TweetTokenizer().tokenize(text)\n",
    "    text_lower = [w.lower() for w in text_tokenize]\n",
    "    text_words_only = [w for w in text_lower if re.search('^[a-z]+$',w)]\n",
    "    text_eng_words = [w for w in text_words_only if w in eng_words]\n",
    "    text_drop_2letters = [w for w in text_eng_words if len(w) > 2]\n",
    "    text_joined = ' '.join(text_drop_2letters)\n",
    "    comments.append(text_joined)\n",
    "    # print(i)\n",
    "    i+=1\n",
    "\n",
    "em_df['Comments'] = comments"
   ]
  },
  {
   "cell_type": "code",
   "execution_count": 172,
   "metadata": {},
   "outputs": [
    {
     "output_type": "execute_result",
     "data": {
      "text/plain": [
       "9401"
      ]
     },
     "metadata": {},
     "execution_count": 172
    }
   ],
   "source": [
    "vectorizer = TfidfVectorizer(ngram_range=(1, 2), stop_words='english', max_df=0.5)\n",
    "vectorizer = vectorizer.fit(em_df['Comments'])\n",
    "tfidf = vectorizer.transform(em_df['Comments'])\n",
    "vocab = vectorizer.get_feature_names()\n",
    "len(vocab)"
   ]
  },
  {
   "cell_type": "code",
   "execution_count": 173,
   "metadata": {},
   "outputs": [],
   "source": [
    "anchors = [\n",
    "    ['death', 'died', 'side effect', 'reaction', 'allergy', 'effects', 'fever', 'fatigue', 'risk', 'allergic', 'condition'], \n",
    "    ['essential workers', 'elderly', 'seniors', 'healthcare workers'], \n",
    "    ['approve', 'approval', 'arrival', 'shipment', 'test', 'trial', 'effectiveness'], \n",
    "    ['false news', 'fake news'], \n",
    "    ['Voluntary','vaccination centre', 'compulsory'], \n",
    "    ['vaccine passport', 'travel']\n",
    "]\n",
    "anchors = [\n",
    "    [a for a in topic if a in vocab] for topic in anchors\n",
    "]\n",
    "\n",
    "model = ct.Corex(n_hidden = 20, seed = 8)\n",
    "model = model.fit(tfidf, words = vocab, anchors = anchors, anchor_strength=7)\n",
    "model.get_topics(topic=0, n_words=10)"
   ]
  },
  {
   "cell_type": "code",
   "execution_count": 174,
   "metadata": {},
   "outputs": [
    {
     "output_type": "stream",
     "name": "stdout",
     "text": [
      "Topic #1: effects, death, allergic, reaction, fever, health minister, minister said, dose, minister, hong health\n\nTopic #2: elderly, diabetes, cocktail antibody, unit, injured, health like, related vaccination, stake, ward, cocktail\n\nTopic #3: trial, shipment, arrival, phase trial, trial data, lancet, people vaccination, active, active surveillance, surveillance status\n\nTopic #4: fake news, chicken, approach, bell palsy, palsy, bell, construction, chicken rice, met, rice\n\nTopic #5: compulsory, way, healthy, spike, office, anna peter, anna, effective safe, effective vaccination, vaccination infected\n\nTopic #6: code, bay, telegram, code contribute, source code, road, contribute, thats waiting, tink vaccine, waiting tink\n\nTopic #7: key word, comment approval, approval key, word, end unforeseen, unforeseen vaccine, unforeseen, comment, wrote comment\n\nTopic #8: saying saying, mean saying, contrary vaccine, saying contrary, vaccine doing, doing risk, vaccine ask, exemption, ask exemption\n\nTopic #9: blood peace, traveler love, tested tube, peace mind, tube blood, love tested, peace, tube, traveler, common drug\n\nTopic #10: \n\nTopic #11: \n\nTopic #12: love nest, posted love, nest, posted, love, nest tell, nest tonight, tonight, doc, genuine\n\nTopic #13: novena, mount, mount novena, comply, novena comply, comply covid, good mount, getting comply, force wont, successfully getting\n\nTopic #14: claim delivery, delivery imagination, imagination assumption, assumption, imagination, claim, worst case, case scenario, date efficacy, issue vaccine\n\nTopic #15: hope vaccine, president hope, trump president\n\nTopic #16: wong song, wonder wong, song, wonder, wong, song funny, wow, song wow, saying like, safe sent\n\nTopic #17: \n\nTopic #18: \n\nTopic #19: \n\nTopic #20: complain, covid total, total, note version, version article, man vaccination, total number, apply, vaccine complain, total health\n\n"
     ]
    }
   ],
   "source": [
    "top_words = {}\n",
    "\n",
    "for i, topic_ngrams in enumerate(model.get_topics()):\n",
    "    topic_ngrams = [ngram[0] for ngram in topic_ngrams if ngram[1] > 0]\n",
    "    top_words[f'topic{i}'] = topic_ngrams\n",
    "    print(\"Topic #{}: {}\".format(i+1, \", \".join(topic_ngrams)))\n",
    "    print()"
   ]
  },
  {
   "cell_type": "code",
   "execution_count": 175,
   "metadata": {},
   "outputs": [
    {
     "output_type": "display_data",
     "data": {
      "text/plain": "<Figure size 720x360 with 1 Axes>",
      "image/svg+xml": "<?xml version=\"1.0\" encoding=\"utf-8\" standalone=\"no\"?>\n<!DOCTYPE svg PUBLIC \"-//W3C//DTD SVG 1.1//EN\"\n  \"http://www.w3.org/Graphics/SVG/1.1/DTD/svg11.dtd\">\n<!-- Created with matplotlib (https://matplotlib.org/) -->\n<svg height=\"322.363125pt\" version=\"1.1\" viewBox=\"0 0 620.067791 322.363125\" width=\"620.067791pt\" xmlns=\"http://www.w3.org/2000/svg\" xmlns:xlink=\"http://www.w3.org/1999/xlink\">\n <metadata>\n  <rdf:RDF xmlns:cc=\"http://creativecommons.org/ns#\" xmlns:dc=\"http://purl.org/dc/elements/1.1/\" xmlns:rdf=\"http://www.w3.org/1999/02/22-rdf-syntax-ns#\">\n   <cc:Work>\n    <dc:type rdf:resource=\"http://purl.org/dc/dcmitype/StillImage\"/>\n    <dc:date>2021-03-25T01:15:55.077413</dc:date>\n    <dc:format>image/svg+xml</dc:format>\n    <dc:creator>\n     <cc:Agent>\n      <dc:title>Matplotlib v3.3.3, https://matplotlib.org/</dc:title>\n     </cc:Agent>\n    </dc:creator>\n   </cc:Work>\n  </rdf:RDF>\n </metadata>\n <defs>\n  <style type=\"text/css\">*{stroke-linecap:butt;stroke-linejoin:round;}</style>\n </defs>\n <g id=\"figure_1\">\n  <g id=\"patch_1\">\n   <path d=\"M 0 322.363125 \nL 620.067791 322.363125 \nL 620.067791 0 \nL 0 0 \nz\n\" style=\"fill:none;\"/>\n  </g>\n  <g id=\"axes_1\">\n   <g id=\"patch_2\">\n    <path d=\"M 49.588125 279 \nL 607.588125 279 \nL 607.588125 7.2 \nL 49.588125 7.2 \nz\n\" style=\"fill:#ffffff;\"/>\n   </g>\n   <g id=\"patch_3\">\n    <path clip-path=\"url(#pe41a0d47a1)\" d=\"M 74.951761 266.617522 \nL 87.958754 266.617522 \nL 87.958754 19.554545 \nL 74.951761 19.554545 \nz\n\" style=\"fill:#4e79a7;\"/>\n   </g>\n   <g id=\"patch_4\">\n    <path clip-path=\"url(#pe41a0d47a1)\" d=\"M 100.965747 266.617522 \nL 113.97274 266.617522 \nL 113.97274 136.413529 \nL 100.965747 136.413529 \nz\n\" style=\"fill:#4e79a7;\"/>\n   </g>\n   <g id=\"patch_5\">\n    <path clip-path=\"url(#pe41a0d47a1)\" d=\"M 126.979733 266.617522 \nL 139.986726 266.617522 \nL 139.986726 141.0129 \nL 126.979733 141.0129 \nz\n\" style=\"fill:#4e79a7;\"/>\n   </g>\n   <g id=\"patch_6\">\n    <path clip-path=\"url(#pe41a0d47a1)\" d=\"M 152.993719 266.617522 \nL 166.000712 266.617522 \nL 166.000712 149.350038 \nL 152.993719 149.350038 \nz\n\" style=\"fill:#4e79a7;\"/>\n   </g>\n   <g id=\"patch_7\">\n    <path clip-path=\"url(#pe41a0d47a1)\" d=\"M 179.007705 266.617522 \nL 192.014698 266.617522 \nL 192.014698 157.531487 \nL 179.007705 157.531487 \nz\n\" style=\"fill:#4e79a7;\"/>\n   </g>\n   <g id=\"patch_8\">\n    <path clip-path=\"url(#pe41a0d47a1)\" d=\"M 205.021691 266.617522 \nL 218.028684 266.617522 \nL 218.028684 175.015248 \nL 205.021691 175.015248 \nz\n\" style=\"fill:#4e79a7;\"/>\n   </g>\n   <g id=\"patch_9\">\n    <path clip-path=\"url(#pe41a0d47a1)\" d=\"M 231.035677 266.617522 \nL 244.04267 266.617522 \nL 244.04267 263.465084 \nL 231.035677 263.465084 \nz\n\" style=\"fill:#4e79a7;\"/>\n   </g>\n   <g id=\"patch_10\">\n    <path clip-path=\"url(#pe41a0d47a1)\" d=\"M 257.049663 266.617522 \nL 270.056656 266.617522 \nL 270.056656 265.546322 \nL 257.049663 265.546322 \nz\n\" style=\"fill:#4e79a7;\"/>\n   </g>\n   <g id=\"patch_11\">\n    <path clip-path=\"url(#pe41a0d47a1)\" d=\"M 283.063649 266.617522 \nL 296.070642 266.617522 \nL 296.070642 233.655681 \nL 283.063649 233.655681 \nz\n\" style=\"fill:#4e79a7;\"/>\n   </g>\n   <g id=\"patch_12\">\n    <path clip-path=\"url(#pe41a0d47a1)\" d=\"M 309.077635 266.617522 \nL 322.084628 266.617522 \nL 322.084628 266.576193 \nL 309.077635 266.576193 \nz\n\" style=\"fill:#4e79a7;\"/>\n   </g>\n   <g id=\"patch_13\">\n    <path clip-path=\"url(#pe41a0d47a1)\" d=\"M 335.091622 266.617522 \nL 348.098615 266.617522 \nL 348.098615 266.511615 \nL 335.091622 266.511615 \nz\n\" style=\"fill:#4e79a7;\"/>\n   </g>\n   <g id=\"patch_14\">\n    <path clip-path=\"url(#pe41a0d47a1)\" d=\"M 361.105608 266.617522 \nL 374.112601 266.617522 \nL 374.112601 224.659839 \nL 361.105608 224.659839 \nz\n\" style=\"fill:#4e79a7;\"/>\n   </g>\n   <g id=\"patch_15\">\n    <path clip-path=\"url(#pe41a0d47a1)\" d=\"M 387.119594 266.617522 \nL 400.126587 266.617522 \nL 400.126587 255.456802 \nL 387.119594 255.456802 \nz\n\" style=\"fill:#4e79a7;\"/>\n   </g>\n   <g id=\"patch_16\">\n    <path clip-path=\"url(#pe41a0d47a1)\" d=\"M 413.13358 266.617522 \nL 426.140573 266.617522 \nL 426.140573 238.918567 \nL 413.13358 238.918567 \nz\n\" style=\"fill:#4e79a7;\"/>\n   </g>\n   <g id=\"patch_17\">\n    <path clip-path=\"url(#pe41a0d47a1)\" d=\"M 439.147566 266.617522 \nL 452.154559 266.617522 \nL 452.154559 266.371782 \nL 439.147566 266.371782 \nz\n\" style=\"fill:#4e79a7;\"/>\n   </g>\n   <g id=\"patch_18\">\n    <path clip-path=\"url(#pe41a0d47a1)\" d=\"M 465.161552 266.617522 \nL 478.168545 266.617522 \nL 478.168545 260.821712 \nL 465.161552 260.821712 \nz\n\" style=\"fill:#4e79a7;\"/>\n   </g>\n   <g id=\"patch_19\">\n    <path clip-path=\"url(#pe41a0d47a1)\" d=\"M 491.175538 266.617522 \nL 504.182531 266.617522 \nL 504.182531 266.645455 \nL 491.175538 266.645455 \nz\n\" style=\"fill:#4e79a7;\"/>\n   </g>\n   <g id=\"patch_20\">\n    <path clip-path=\"url(#pe41a0d47a1)\" d=\"M 517.189524 266.617522 \nL 530.196517 266.617522 \nL 530.196517 266.610433 \nL 517.189524 266.610433 \nz\n\" style=\"fill:#4e79a7;\"/>\n   </g>\n   <g id=\"patch_21\">\n    <path clip-path=\"url(#pe41a0d47a1)\" d=\"M 543.20351 266.617522 \nL 556.210503 266.617522 \nL 556.210503 266.551503 \nL 543.20351 266.551503 \nz\n\" style=\"fill:#4e79a7;\"/>\n   </g>\n   <g id=\"patch_22\">\n    <path clip-path=\"url(#pe41a0d47a1)\" d=\"M 569.217496 266.617522 \nL 582.224489 266.617522 \nL 582.224489 220.2198 \nL 569.217496 220.2198 \nz\n\" style=\"fill:#4e79a7;\"/>\n   </g>\n   <g id=\"matplotlib.axis_1\">\n    <g id=\"xtick_1\">\n     <g id=\"line2d_1\">\n      <defs>\n       <path d=\"M 0 0 \nL 0 3.5 \n\" id=\"mc70d092ed9\" style=\"stroke:#000000;stroke-width:0.8;\"/>\n      </defs>\n      <g>\n       <use style=\"stroke:#000000;stroke-width:0.8;\" x=\"81.455258\" xlink:href=\"#mc70d092ed9\" y=\"279\"/>\n      </g>\n     </g>\n     <g id=\"text_1\">\n      <!-- 0.0 -->\n      <g transform=\"translate(73.503695 293.598438)scale(0.1 -0.1)\">\n       <defs>\n        <path d=\"M 31.78125 66.40625 \nQ 24.171875 66.40625 20.328125 58.90625 \nQ 16.5 51.421875 16.5 36.375 \nQ 16.5 21.390625 20.328125 13.890625 \nQ 24.171875 6.390625 31.78125 6.390625 \nQ 39.453125 6.390625 43.28125 13.890625 \nQ 47.125 21.390625 47.125 36.375 \nQ 47.125 51.421875 43.28125 58.90625 \nQ 39.453125 66.40625 31.78125 66.40625 \nz\nM 31.78125 74.21875 \nQ 44.046875 74.21875 50.515625 64.515625 \nQ 56.984375 54.828125 56.984375 36.375 \nQ 56.984375 17.96875 50.515625 8.265625 \nQ 44.046875 -1.421875 31.78125 -1.421875 \nQ 19.53125 -1.421875 13.0625 8.265625 \nQ 6.59375 17.96875 6.59375 36.375 \nQ 6.59375 54.828125 13.0625 64.515625 \nQ 19.53125 74.21875 31.78125 74.21875 \nz\n\" id=\"DejaVuSans-48\"/>\n        <path d=\"M 10.6875 12.40625 \nL 21 12.40625 \nL 21 0 \nL 10.6875 0 \nz\n\" id=\"DejaVuSans-46\"/>\n       </defs>\n       <use xlink:href=\"#DejaVuSans-48\"/>\n       <use x=\"63.623047\" xlink:href=\"#DejaVuSans-46\"/>\n       <use x=\"95.410156\" xlink:href=\"#DejaVuSans-48\"/>\n      </g>\n     </g>\n    </g>\n    <g id=\"xtick_2\">\n     <g id=\"line2d_2\">\n      <g>\n       <use style=\"stroke:#000000;stroke-width:0.8;\" x=\"146.490223\" xlink:href=\"#mc70d092ed9\" y=\"279\"/>\n      </g>\n     </g>\n     <g id=\"text_2\">\n      <!-- 2.5 -->\n      <g transform=\"translate(138.53866 293.598438)scale(0.1 -0.1)\">\n       <defs>\n        <path d=\"M 19.1875 8.296875 \nL 53.609375 8.296875 \nL 53.609375 0 \nL 7.328125 0 \nL 7.328125 8.296875 \nQ 12.9375 14.109375 22.625 23.890625 \nQ 32.328125 33.6875 34.8125 36.53125 \nQ 39.546875 41.84375 41.421875 45.53125 \nQ 43.3125 49.21875 43.3125 52.78125 \nQ 43.3125 58.59375 39.234375 62.25 \nQ 35.15625 65.921875 28.609375 65.921875 \nQ 23.96875 65.921875 18.8125 64.3125 \nQ 13.671875 62.703125 7.8125 59.421875 \nL 7.8125 69.390625 \nQ 13.765625 71.78125 18.9375 73 \nQ 24.125 74.21875 28.421875 74.21875 \nQ 39.75 74.21875 46.484375 68.546875 \nQ 53.21875 62.890625 53.21875 53.421875 \nQ 53.21875 48.921875 51.53125 44.890625 \nQ 49.859375 40.875 45.40625 35.40625 \nQ 44.1875 33.984375 37.640625 27.21875 \nQ 31.109375 20.453125 19.1875 8.296875 \nz\n\" id=\"DejaVuSans-50\"/>\n        <path d=\"M 10.796875 72.90625 \nL 49.515625 72.90625 \nL 49.515625 64.59375 \nL 19.828125 64.59375 \nL 19.828125 46.734375 \nQ 21.96875 47.46875 24.109375 47.828125 \nQ 26.265625 48.1875 28.421875 48.1875 \nQ 40.625 48.1875 47.75 41.5 \nQ 54.890625 34.8125 54.890625 23.390625 \nQ 54.890625 11.625 47.5625 5.09375 \nQ 40.234375 -1.421875 26.90625 -1.421875 \nQ 22.3125 -1.421875 17.546875 -0.640625 \nQ 12.796875 0.140625 7.71875 1.703125 \nL 7.71875 11.625 \nQ 12.109375 9.234375 16.796875 8.0625 \nQ 21.484375 6.890625 26.703125 6.890625 \nQ 35.15625 6.890625 40.078125 11.328125 \nQ 45.015625 15.765625 45.015625 23.390625 \nQ 45.015625 31 40.078125 35.4375 \nQ 35.15625 39.890625 26.703125 39.890625 \nQ 22.75 39.890625 18.8125 39.015625 \nQ 14.890625 38.140625 10.796875 36.28125 \nz\n\" id=\"DejaVuSans-53\"/>\n       </defs>\n       <use xlink:href=\"#DejaVuSans-50\"/>\n       <use x=\"63.623047\" xlink:href=\"#DejaVuSans-46\"/>\n       <use x=\"95.410156\" xlink:href=\"#DejaVuSans-53\"/>\n      </g>\n     </g>\n    </g>\n    <g id=\"xtick_3\">\n     <g id=\"line2d_3\">\n      <g>\n       <use style=\"stroke:#000000;stroke-width:0.8;\" x=\"211.525188\" xlink:href=\"#mc70d092ed9\" y=\"279\"/>\n      </g>\n     </g>\n     <g id=\"text_3\">\n      <!-- 5.0 -->\n      <g transform=\"translate(203.573625 293.598438)scale(0.1 -0.1)\">\n       <use xlink:href=\"#DejaVuSans-53\"/>\n       <use x=\"63.623047\" xlink:href=\"#DejaVuSans-46\"/>\n       <use x=\"95.410156\" xlink:href=\"#DejaVuSans-48\"/>\n      </g>\n     </g>\n    </g>\n    <g id=\"xtick_4\">\n     <g id=\"line2d_4\">\n      <g>\n       <use style=\"stroke:#000000;stroke-width:0.8;\" x=\"276.560153\" xlink:href=\"#mc70d092ed9\" y=\"279\"/>\n      </g>\n     </g>\n     <g id=\"text_4\">\n      <!-- 7.5 -->\n      <g transform=\"translate(268.60859 293.598438)scale(0.1 -0.1)\">\n       <defs>\n        <path d=\"M 8.203125 72.90625 \nL 55.078125 72.90625 \nL 55.078125 68.703125 \nL 28.609375 0 \nL 18.3125 0 \nL 43.21875 64.59375 \nL 8.203125 64.59375 \nz\n\" id=\"DejaVuSans-55\"/>\n       </defs>\n       <use xlink:href=\"#DejaVuSans-55\"/>\n       <use x=\"63.623047\" xlink:href=\"#DejaVuSans-46\"/>\n       <use x=\"95.410156\" xlink:href=\"#DejaVuSans-53\"/>\n      </g>\n     </g>\n    </g>\n    <g id=\"xtick_5\">\n     <g id=\"line2d_5\">\n      <g>\n       <use style=\"stroke:#000000;stroke-width:0.8;\" x=\"341.595118\" xlink:href=\"#mc70d092ed9\" y=\"279\"/>\n      </g>\n     </g>\n     <g id=\"text_5\">\n      <!-- 10.0 -->\n      <g transform=\"translate(330.462306 293.598438)scale(0.1 -0.1)\">\n       <defs>\n        <path d=\"M 12.40625 8.296875 \nL 28.515625 8.296875 \nL 28.515625 63.921875 \nL 10.984375 60.40625 \nL 10.984375 69.390625 \nL 28.421875 72.90625 \nL 38.28125 72.90625 \nL 38.28125 8.296875 \nL 54.390625 8.296875 \nL 54.390625 0 \nL 12.40625 0 \nz\n\" id=\"DejaVuSans-49\"/>\n       </defs>\n       <use xlink:href=\"#DejaVuSans-49\"/>\n       <use x=\"63.623047\" xlink:href=\"#DejaVuSans-48\"/>\n       <use x=\"127.246094\" xlink:href=\"#DejaVuSans-46\"/>\n       <use x=\"159.033203\" xlink:href=\"#DejaVuSans-48\"/>\n      </g>\n     </g>\n    </g>\n    <g id=\"xtick_6\">\n     <g id=\"line2d_6\">\n      <g>\n       <use style=\"stroke:#000000;stroke-width:0.8;\" x=\"406.630083\" xlink:href=\"#mc70d092ed9\" y=\"279\"/>\n      </g>\n     </g>\n     <g id=\"text_6\">\n      <!-- 12.5 -->\n      <g transform=\"translate(395.497271 293.598438)scale(0.1 -0.1)\">\n       <use xlink:href=\"#DejaVuSans-49\"/>\n       <use x=\"63.623047\" xlink:href=\"#DejaVuSans-50\"/>\n       <use x=\"127.246094\" xlink:href=\"#DejaVuSans-46\"/>\n       <use x=\"159.033203\" xlink:href=\"#DejaVuSans-53\"/>\n      </g>\n     </g>\n    </g>\n    <g id=\"xtick_7\">\n     <g id=\"line2d_7\">\n      <g>\n       <use style=\"stroke:#000000;stroke-width:0.8;\" x=\"471.665048\" xlink:href=\"#mc70d092ed9\" y=\"279\"/>\n      </g>\n     </g>\n     <g id=\"text_7\">\n      <!-- 15.0 -->\n      <g transform=\"translate(460.532236 293.598438)scale(0.1 -0.1)\">\n       <use xlink:href=\"#DejaVuSans-49\"/>\n       <use x=\"63.623047\" xlink:href=\"#DejaVuSans-53\"/>\n       <use x=\"127.246094\" xlink:href=\"#DejaVuSans-46\"/>\n       <use x=\"159.033203\" xlink:href=\"#DejaVuSans-48\"/>\n      </g>\n     </g>\n    </g>\n    <g id=\"xtick_8\">\n     <g id=\"line2d_8\">\n      <g>\n       <use style=\"stroke:#000000;stroke-width:0.8;\" x=\"536.700013\" xlink:href=\"#mc70d092ed9\" y=\"279\"/>\n      </g>\n     </g>\n     <g id=\"text_8\">\n      <!-- 17.5 -->\n      <g transform=\"translate(525.567201 293.598438)scale(0.1 -0.1)\">\n       <use xlink:href=\"#DejaVuSans-49\"/>\n       <use x=\"63.623047\" xlink:href=\"#DejaVuSans-55\"/>\n       <use x=\"127.246094\" xlink:href=\"#DejaVuSans-46\"/>\n       <use x=\"159.033203\" xlink:href=\"#DejaVuSans-53\"/>\n      </g>\n     </g>\n    </g>\n    <g id=\"xtick_9\">\n     <g id=\"line2d_9\">\n      <g>\n       <use style=\"stroke:#000000;stroke-width:0.8;\" x=\"601.734978\" xlink:href=\"#mc70d092ed9\" y=\"279\"/>\n      </g>\n     </g>\n     <g id=\"text_9\">\n      <!-- 20.0 -->\n      <g transform=\"translate(590.602166 293.598438)scale(0.1 -0.1)\">\n       <use xlink:href=\"#DejaVuSans-50\"/>\n       <use x=\"63.623047\" xlink:href=\"#DejaVuSans-48\"/>\n       <use x=\"127.246094\" xlink:href=\"#DejaVuSans-46\"/>\n       <use x=\"159.033203\" xlink:href=\"#DejaVuSans-48\"/>\n      </g>\n     </g>\n    </g>\n    <g id=\"text_10\">\n     <!-- Topic -->\n     <g transform=\"translate(308.466875 311.835625)scale(0.16 -0.16)\">\n      <defs>\n       <path d=\"M -0.296875 72.90625 \nL 61.375 72.90625 \nL 61.375 64.59375 \nL 35.5 64.59375 \nL 35.5 0 \nL 25.59375 0 \nL 25.59375 64.59375 \nL -0.296875 64.59375 \nz\n\" id=\"DejaVuSans-84\"/>\n       <path d=\"M 30.609375 48.390625 \nQ 23.390625 48.390625 19.1875 42.75 \nQ 14.984375 37.109375 14.984375 27.296875 \nQ 14.984375 17.484375 19.15625 11.84375 \nQ 23.34375 6.203125 30.609375 6.203125 \nQ 37.796875 6.203125 41.984375 11.859375 \nQ 46.1875 17.53125 46.1875 27.296875 \nQ 46.1875 37.015625 41.984375 42.703125 \nQ 37.796875 48.390625 30.609375 48.390625 \nz\nM 30.609375 56 \nQ 42.328125 56 49.015625 48.375 \nQ 55.71875 40.765625 55.71875 27.296875 \nQ 55.71875 13.875 49.015625 6.21875 \nQ 42.328125 -1.421875 30.609375 -1.421875 \nQ 18.84375 -1.421875 12.171875 6.21875 \nQ 5.515625 13.875 5.515625 27.296875 \nQ 5.515625 40.765625 12.171875 48.375 \nQ 18.84375 56 30.609375 56 \nz\n\" id=\"DejaVuSans-111\"/>\n       <path d=\"M 18.109375 8.203125 \nL 18.109375 -20.796875 \nL 9.078125 -20.796875 \nL 9.078125 54.6875 \nL 18.109375 54.6875 \nL 18.109375 46.390625 \nQ 20.953125 51.265625 25.265625 53.625 \nQ 29.59375 56 35.59375 56 \nQ 45.5625 56 51.78125 48.09375 \nQ 58.015625 40.1875 58.015625 27.296875 \nQ 58.015625 14.40625 51.78125 6.484375 \nQ 45.5625 -1.421875 35.59375 -1.421875 \nQ 29.59375 -1.421875 25.265625 0.953125 \nQ 20.953125 3.328125 18.109375 8.203125 \nz\nM 48.6875 27.296875 \nQ 48.6875 37.203125 44.609375 42.84375 \nQ 40.53125 48.484375 33.40625 48.484375 \nQ 26.265625 48.484375 22.1875 42.84375 \nQ 18.109375 37.203125 18.109375 27.296875 \nQ 18.109375 17.390625 22.1875 11.75 \nQ 26.265625 6.109375 33.40625 6.109375 \nQ 40.53125 6.109375 44.609375 11.75 \nQ 48.6875 17.390625 48.6875 27.296875 \nz\n\" id=\"DejaVuSans-112\"/>\n       <path d=\"M 9.421875 54.6875 \nL 18.40625 54.6875 \nL 18.40625 0 \nL 9.421875 0 \nz\nM 9.421875 75.984375 \nL 18.40625 75.984375 \nL 18.40625 64.59375 \nL 9.421875 64.59375 \nz\n\" id=\"DejaVuSans-105\"/>\n       <path d=\"M 48.78125 52.59375 \nL 48.78125 44.1875 \nQ 44.96875 46.296875 41.140625 47.34375 \nQ 37.3125 48.390625 33.40625 48.390625 \nQ 24.65625 48.390625 19.8125 42.84375 \nQ 14.984375 37.3125 14.984375 27.296875 \nQ 14.984375 17.28125 19.8125 11.734375 \nQ 24.65625 6.203125 33.40625 6.203125 \nQ 37.3125 6.203125 41.140625 7.25 \nQ 44.96875 8.296875 48.78125 10.40625 \nL 48.78125 2.09375 \nQ 45.015625 0.34375 40.984375 -0.53125 \nQ 36.96875 -1.421875 32.421875 -1.421875 \nQ 20.0625 -1.421875 12.78125 6.34375 \nQ 5.515625 14.109375 5.515625 27.296875 \nQ 5.515625 40.671875 12.859375 48.328125 \nQ 20.21875 56 33.015625 56 \nQ 37.15625 56 41.109375 55.140625 \nQ 45.0625 54.296875 48.78125 52.59375 \nz\n\" id=\"DejaVuSans-99\"/>\n      </defs>\n      <use xlink:href=\"#DejaVuSans-84\"/>\n      <use x=\"44.083984\" xlink:href=\"#DejaVuSans-111\"/>\n      <use x=\"105.265625\" xlink:href=\"#DejaVuSans-112\"/>\n      <use x=\"168.742188\" xlink:href=\"#DejaVuSans-105\"/>\n      <use x=\"196.525391\" xlink:href=\"#DejaVuSans-99\"/>\n     </g>\n    </g>\n   </g>\n   <g id=\"matplotlib.axis_2\">\n    <g id=\"ytick_1\">\n     <g id=\"line2d_10\">\n      <defs>\n       <path d=\"M 0 0 \nL -3.5 0 \n\" id=\"mfbcc4dd50d\" style=\"stroke:#000000;stroke-width:0.8;\"/>\n      </defs>\n      <g>\n       <use style=\"stroke:#000000;stroke-width:0.8;\" x=\"49.588125\" xlink:href=\"#mfbcc4dd50d\" y=\"266.617522\"/>\n      </g>\n     </g>\n     <g id=\"text_11\">\n      <!-- 0.0 -->\n      <g transform=\"translate(26.685 270.416741)scale(0.1 -0.1)\">\n       <use xlink:href=\"#DejaVuSans-48\"/>\n       <use x=\"63.623047\" xlink:href=\"#DejaVuSans-46\"/>\n       <use x=\"95.410156\" xlink:href=\"#DejaVuSans-48\"/>\n      </g>\n     </g>\n    </g>\n    <g id=\"ytick_2\">\n     <g id=\"line2d_11\">\n      <g>\n       <use style=\"stroke:#000000;stroke-width:0.8;\" x=\"49.588125\" xlink:href=\"#mfbcc4dd50d\" y=\"221.461776\"/>\n      </g>\n     </g>\n     <g id=\"text_12\">\n      <!-- 0.1 -->\n      <g transform=\"translate(26.685 225.260995)scale(0.1 -0.1)\">\n       <use xlink:href=\"#DejaVuSans-48\"/>\n       <use x=\"63.623047\" xlink:href=\"#DejaVuSans-46\"/>\n       <use x=\"95.410156\" xlink:href=\"#DejaVuSans-49\"/>\n      </g>\n     </g>\n    </g>\n    <g id=\"ytick_3\">\n     <g id=\"line2d_12\">\n      <g>\n       <use style=\"stroke:#000000;stroke-width:0.8;\" x=\"49.588125\" xlink:href=\"#mfbcc4dd50d\" y=\"176.30603\"/>\n      </g>\n     </g>\n     <g id=\"text_13\">\n      <!-- 0.2 -->\n      <g transform=\"translate(26.685 180.105249)scale(0.1 -0.1)\">\n       <use xlink:href=\"#DejaVuSans-48\"/>\n       <use x=\"63.623047\" xlink:href=\"#DejaVuSans-46\"/>\n       <use x=\"95.410156\" xlink:href=\"#DejaVuSans-50\"/>\n      </g>\n     </g>\n    </g>\n    <g id=\"ytick_4\">\n     <g id=\"line2d_13\">\n      <g>\n       <use style=\"stroke:#000000;stroke-width:0.8;\" x=\"49.588125\" xlink:href=\"#mfbcc4dd50d\" y=\"131.150284\"/>\n      </g>\n     </g>\n     <g id=\"text_14\">\n      <!-- 0.3 -->\n      <g transform=\"translate(26.685 134.949503)scale(0.1 -0.1)\">\n       <defs>\n        <path d=\"M 40.578125 39.3125 \nQ 47.65625 37.796875 51.625 33 \nQ 55.609375 28.21875 55.609375 21.1875 \nQ 55.609375 10.40625 48.1875 4.484375 \nQ 40.765625 -1.421875 27.09375 -1.421875 \nQ 22.515625 -1.421875 17.65625 -0.515625 \nQ 12.796875 0.390625 7.625 2.203125 \nL 7.625 11.71875 \nQ 11.71875 9.328125 16.59375 8.109375 \nQ 21.484375 6.890625 26.8125 6.890625 \nQ 36.078125 6.890625 40.9375 10.546875 \nQ 45.796875 14.203125 45.796875 21.1875 \nQ 45.796875 27.640625 41.28125 31.265625 \nQ 36.765625 34.90625 28.71875 34.90625 \nL 20.21875 34.90625 \nL 20.21875 43.015625 \nL 29.109375 43.015625 \nQ 36.375 43.015625 40.234375 45.921875 \nQ 44.09375 48.828125 44.09375 54.296875 \nQ 44.09375 59.90625 40.109375 62.90625 \nQ 36.140625 65.921875 28.71875 65.921875 \nQ 24.65625 65.921875 20.015625 65.03125 \nQ 15.375 64.15625 9.8125 62.3125 \nL 9.8125 71.09375 \nQ 15.4375 72.65625 20.34375 73.4375 \nQ 25.25 74.21875 29.59375 74.21875 \nQ 40.828125 74.21875 47.359375 69.109375 \nQ 53.90625 64.015625 53.90625 55.328125 \nQ 53.90625 49.265625 50.4375 45.09375 \nQ 46.96875 40.921875 40.578125 39.3125 \nz\n\" id=\"DejaVuSans-51\"/>\n       </defs>\n       <use xlink:href=\"#DejaVuSans-48\"/>\n       <use x=\"63.623047\" xlink:href=\"#DejaVuSans-46\"/>\n       <use x=\"95.410156\" xlink:href=\"#DejaVuSans-51\"/>\n      </g>\n     </g>\n    </g>\n    <g id=\"ytick_5\">\n     <g id=\"line2d_14\">\n      <g>\n       <use style=\"stroke:#000000;stroke-width:0.8;\" x=\"49.588125\" xlink:href=\"#mfbcc4dd50d\" y=\"85.994538\"/>\n      </g>\n     </g>\n     <g id=\"text_15\">\n      <!-- 0.4 -->\n      <g transform=\"translate(26.685 89.793757)scale(0.1 -0.1)\">\n       <defs>\n        <path d=\"M 37.796875 64.3125 \nL 12.890625 25.390625 \nL 37.796875 25.390625 \nz\nM 35.203125 72.90625 \nL 47.609375 72.90625 \nL 47.609375 25.390625 \nL 58.015625 25.390625 \nL 58.015625 17.1875 \nL 47.609375 17.1875 \nL 47.609375 0 \nL 37.796875 0 \nL 37.796875 17.1875 \nL 4.890625 17.1875 \nL 4.890625 26.703125 \nz\n\" id=\"DejaVuSans-52\"/>\n       </defs>\n       <use xlink:href=\"#DejaVuSans-48\"/>\n       <use x=\"63.623047\" xlink:href=\"#DejaVuSans-46\"/>\n       <use x=\"95.410156\" xlink:href=\"#DejaVuSans-52\"/>\n      </g>\n     </g>\n    </g>\n    <g id=\"ytick_6\">\n     <g id=\"line2d_15\">\n      <g>\n       <use style=\"stroke:#000000;stroke-width:0.8;\" x=\"49.588125\" xlink:href=\"#mfbcc4dd50d\" y=\"40.838792\"/>\n      </g>\n     </g>\n     <g id=\"text_16\">\n      <!-- 0.5 -->\n      <g transform=\"translate(26.685 44.638011)scale(0.1 -0.1)\">\n       <use xlink:href=\"#DejaVuSans-48\"/>\n       <use x=\"63.623047\" xlink:href=\"#DejaVuSans-46\"/>\n       <use x=\"95.410156\" xlink:href=\"#DejaVuSans-53\"/>\n      </g>\n     </g>\n    </g>\n    <g id=\"text_17\">\n     <!-- Total Correlation (nats) -->\n     <g transform=\"translate(19.3575 234.49625)rotate(-90)scale(0.16 -0.16)\">\n      <defs>\n       <path d=\"M 18.3125 70.21875 \nL 18.3125 54.6875 \nL 36.8125 54.6875 \nL 36.8125 47.703125 \nL 18.3125 47.703125 \nL 18.3125 18.015625 \nQ 18.3125 11.328125 20.140625 9.421875 \nQ 21.96875 7.515625 27.59375 7.515625 \nL 36.8125 7.515625 \nL 36.8125 0 \nL 27.59375 0 \nQ 17.1875 0 13.234375 3.875 \nQ 9.28125 7.765625 9.28125 18.015625 \nL 9.28125 47.703125 \nL 2.6875 47.703125 \nL 2.6875 54.6875 \nL 9.28125 54.6875 \nL 9.28125 70.21875 \nz\n\" id=\"DejaVuSans-116\"/>\n       <path d=\"M 34.28125 27.484375 \nQ 23.390625 27.484375 19.1875 25 \nQ 14.984375 22.515625 14.984375 16.5 \nQ 14.984375 11.71875 18.140625 8.90625 \nQ 21.296875 6.109375 26.703125 6.109375 \nQ 34.1875 6.109375 38.703125 11.40625 \nQ 43.21875 16.703125 43.21875 25.484375 \nL 43.21875 27.484375 \nz\nM 52.203125 31.203125 \nL 52.203125 0 \nL 43.21875 0 \nL 43.21875 8.296875 \nQ 40.140625 3.328125 35.546875 0.953125 \nQ 30.953125 -1.421875 24.3125 -1.421875 \nQ 15.921875 -1.421875 10.953125 3.296875 \nQ 6 8.015625 6 15.921875 \nQ 6 25.140625 12.171875 29.828125 \nQ 18.359375 34.515625 30.609375 34.515625 \nL 43.21875 34.515625 \nL 43.21875 35.40625 \nQ 43.21875 41.609375 39.140625 45 \nQ 35.0625 48.390625 27.6875 48.390625 \nQ 23 48.390625 18.546875 47.265625 \nQ 14.109375 46.140625 10.015625 43.890625 \nL 10.015625 52.203125 \nQ 14.9375 54.109375 19.578125 55.046875 \nQ 24.21875 56 28.609375 56 \nQ 40.484375 56 46.34375 49.84375 \nQ 52.203125 43.703125 52.203125 31.203125 \nz\n\" id=\"DejaVuSans-97\"/>\n       <path d=\"M 9.421875 75.984375 \nL 18.40625 75.984375 \nL 18.40625 0 \nL 9.421875 0 \nz\n\" id=\"DejaVuSans-108\"/>\n       <path id=\"DejaVuSans-32\"/>\n       <path d=\"M 64.40625 67.28125 \nL 64.40625 56.890625 \nQ 59.421875 61.53125 53.78125 63.8125 \nQ 48.140625 66.109375 41.796875 66.109375 \nQ 29.296875 66.109375 22.65625 58.46875 \nQ 16.015625 50.828125 16.015625 36.375 \nQ 16.015625 21.96875 22.65625 14.328125 \nQ 29.296875 6.6875 41.796875 6.6875 \nQ 48.140625 6.6875 53.78125 8.984375 \nQ 59.421875 11.28125 64.40625 15.921875 \nL 64.40625 5.609375 \nQ 59.234375 2.09375 53.4375 0.328125 \nQ 47.65625 -1.421875 41.21875 -1.421875 \nQ 24.65625 -1.421875 15.125 8.703125 \nQ 5.609375 18.84375 5.609375 36.375 \nQ 5.609375 53.953125 15.125 64.078125 \nQ 24.65625 74.21875 41.21875 74.21875 \nQ 47.75 74.21875 53.53125 72.484375 \nQ 59.328125 70.75 64.40625 67.28125 \nz\n\" id=\"DejaVuSans-67\"/>\n       <path d=\"M 41.109375 46.296875 \nQ 39.59375 47.171875 37.8125 47.578125 \nQ 36.03125 48 33.890625 48 \nQ 26.265625 48 22.1875 43.046875 \nQ 18.109375 38.09375 18.109375 28.8125 \nL 18.109375 0 \nL 9.078125 0 \nL 9.078125 54.6875 \nL 18.109375 54.6875 \nL 18.109375 46.1875 \nQ 20.953125 51.171875 25.484375 53.578125 \nQ 30.03125 56 36.53125 56 \nQ 37.453125 56 38.578125 55.875 \nQ 39.703125 55.765625 41.0625 55.515625 \nz\n\" id=\"DejaVuSans-114\"/>\n       <path d=\"M 56.203125 29.59375 \nL 56.203125 25.203125 \nL 14.890625 25.203125 \nQ 15.484375 15.921875 20.484375 11.0625 \nQ 25.484375 6.203125 34.421875 6.203125 \nQ 39.59375 6.203125 44.453125 7.46875 \nQ 49.3125 8.734375 54.109375 11.28125 \nL 54.109375 2.78125 \nQ 49.265625 0.734375 44.1875 -0.34375 \nQ 39.109375 -1.421875 33.890625 -1.421875 \nQ 20.796875 -1.421875 13.15625 6.1875 \nQ 5.515625 13.8125 5.515625 26.8125 \nQ 5.515625 40.234375 12.765625 48.109375 \nQ 20.015625 56 32.328125 56 \nQ 43.359375 56 49.78125 48.890625 \nQ 56.203125 41.796875 56.203125 29.59375 \nz\nM 47.21875 32.234375 \nQ 47.125 39.59375 43.09375 43.984375 \nQ 39.0625 48.390625 32.421875 48.390625 \nQ 24.90625 48.390625 20.390625 44.140625 \nQ 15.875 39.890625 15.1875 32.171875 \nz\n\" id=\"DejaVuSans-101\"/>\n       <path d=\"M 54.890625 33.015625 \nL 54.890625 0 \nL 45.90625 0 \nL 45.90625 32.71875 \nQ 45.90625 40.484375 42.875 44.328125 \nQ 39.84375 48.1875 33.796875 48.1875 \nQ 26.515625 48.1875 22.3125 43.546875 \nQ 18.109375 38.921875 18.109375 30.90625 \nL 18.109375 0 \nL 9.078125 0 \nL 9.078125 54.6875 \nL 18.109375 54.6875 \nL 18.109375 46.1875 \nQ 21.34375 51.125 25.703125 53.5625 \nQ 30.078125 56 35.796875 56 \nQ 45.21875 56 50.046875 50.171875 \nQ 54.890625 44.34375 54.890625 33.015625 \nz\n\" id=\"DejaVuSans-110\"/>\n       <path d=\"M 31 75.875 \nQ 24.46875 64.65625 21.28125 53.65625 \nQ 18.109375 42.671875 18.109375 31.390625 \nQ 18.109375 20.125 21.3125 9.0625 \nQ 24.515625 -2 31 -13.1875 \nL 23.1875 -13.1875 \nQ 15.875 -1.703125 12.234375 9.375 \nQ 8.59375 20.453125 8.59375 31.390625 \nQ 8.59375 42.28125 12.203125 53.3125 \nQ 15.828125 64.359375 23.1875 75.875 \nz\n\" id=\"DejaVuSans-40\"/>\n       <path d=\"M 44.28125 53.078125 \nL 44.28125 44.578125 \nQ 40.484375 46.53125 36.375 47.5 \nQ 32.28125 48.484375 27.875 48.484375 \nQ 21.1875 48.484375 17.84375 46.4375 \nQ 14.5 44.390625 14.5 40.28125 \nQ 14.5 37.15625 16.890625 35.375 \nQ 19.28125 33.59375 26.515625 31.984375 \nL 29.59375 31.296875 \nQ 39.15625 29.25 43.1875 25.515625 \nQ 47.21875 21.78125 47.21875 15.09375 \nQ 47.21875 7.46875 41.1875 3.015625 \nQ 35.15625 -1.421875 24.609375 -1.421875 \nQ 20.21875 -1.421875 15.453125 -0.5625 \nQ 10.6875 0.296875 5.421875 2 \nL 5.421875 11.28125 \nQ 10.40625 8.6875 15.234375 7.390625 \nQ 20.0625 6.109375 24.8125 6.109375 \nQ 31.15625 6.109375 34.5625 8.28125 \nQ 37.984375 10.453125 37.984375 14.40625 \nQ 37.984375 18.0625 35.515625 20.015625 \nQ 33.0625 21.96875 24.703125 23.78125 \nL 21.578125 24.515625 \nQ 13.234375 26.265625 9.515625 29.90625 \nQ 5.8125 33.546875 5.8125 39.890625 \nQ 5.8125 47.609375 11.28125 51.796875 \nQ 16.75 56 26.8125 56 \nQ 31.78125 56 36.171875 55.265625 \nQ 40.578125 54.546875 44.28125 53.078125 \nz\n\" id=\"DejaVuSans-115\"/>\n       <path d=\"M 8.015625 75.875 \nL 15.828125 75.875 \nQ 23.140625 64.359375 26.78125 53.3125 \nQ 30.421875 42.28125 30.421875 31.390625 \nQ 30.421875 20.453125 26.78125 9.375 \nQ 23.140625 -1.703125 15.828125 -13.1875 \nL 8.015625 -13.1875 \nQ 14.5 -2 17.703125 9.0625 \nQ 20.90625 20.125 20.90625 31.390625 \nQ 20.90625 42.671875 17.703125 53.65625 \nQ 14.5 64.65625 8.015625 75.875 \nz\n\" id=\"DejaVuSans-41\"/>\n      </defs>\n      <use xlink:href=\"#DejaVuSans-84\"/>\n      <use x=\"44.083984\" xlink:href=\"#DejaVuSans-111\"/>\n      <use x=\"105.265625\" xlink:href=\"#DejaVuSans-116\"/>\n      <use x=\"144.474609\" xlink:href=\"#DejaVuSans-97\"/>\n      <use x=\"205.753906\" xlink:href=\"#DejaVuSans-108\"/>\n      <use x=\"233.537109\" xlink:href=\"#DejaVuSans-32\"/>\n      <use x=\"265.324219\" xlink:href=\"#DejaVuSans-67\"/>\n      <use x=\"335.148438\" xlink:href=\"#DejaVuSans-111\"/>\n      <use x=\"396.330078\" xlink:href=\"#DejaVuSans-114\"/>\n      <use x=\"435.693359\" xlink:href=\"#DejaVuSans-114\"/>\n      <use x=\"474.556641\" xlink:href=\"#DejaVuSans-101\"/>\n      <use x=\"536.080078\" xlink:href=\"#DejaVuSans-108\"/>\n      <use x=\"563.863281\" xlink:href=\"#DejaVuSans-97\"/>\n      <use x=\"625.142578\" xlink:href=\"#DejaVuSans-116\"/>\n      <use x=\"664.351562\" xlink:href=\"#DejaVuSans-105\"/>\n      <use x=\"692.134766\" xlink:href=\"#DejaVuSans-111\"/>\n      <use x=\"753.316406\" xlink:href=\"#DejaVuSans-110\"/>\n      <use x=\"816.695312\" xlink:href=\"#DejaVuSans-32\"/>\n      <use x=\"848.482422\" xlink:href=\"#DejaVuSans-40\"/>\n      <use x=\"887.496094\" xlink:href=\"#DejaVuSans-110\"/>\n      <use x=\"950.875\" xlink:href=\"#DejaVuSans-97\"/>\n      <use x=\"1012.154297\" xlink:href=\"#DejaVuSans-116\"/>\n      <use x=\"1051.363281\" xlink:href=\"#DejaVuSans-115\"/>\n      <use x=\"1103.462891\" xlink:href=\"#DejaVuSans-41\"/>\n     </g>\n    </g>\n   </g>\n   <g id=\"patch_23\">\n    <path d=\"M 49.588125 279 \nL 49.588125 7.2 \n\" style=\"fill:none;stroke:#000000;stroke-linecap:square;stroke-linejoin:miter;stroke-width:0.8;\"/>\n   </g>\n   <g id=\"patch_24\">\n    <path d=\"M 607.588125 279 \nL 607.588125 7.2 \n\" style=\"fill:none;stroke:#000000;stroke-linecap:square;stroke-linejoin:miter;stroke-width:0.8;\"/>\n   </g>\n   <g id=\"patch_25\">\n    <path d=\"M 49.588125 279 \nL 607.588125 279 \n\" style=\"fill:none;stroke:#000000;stroke-linecap:square;stroke-linejoin:miter;stroke-width:0.8;\"/>\n   </g>\n   <g id=\"patch_26\">\n    <path d=\"M 49.588125 7.2 \nL 607.588125 7.2 \n\" style=\"fill:none;stroke:#000000;stroke-linecap:square;stroke-linejoin:miter;stroke-width:0.8;\"/>\n   </g>\n  </g>\n </g>\n <defs>\n  <clipPath id=\"pe41a0d47a1\">\n   <rect height=\"271.8\" width=\"558\" x=\"49.588125\" y=\"7.2\"/>\n  </clipPath>\n </defs>\n</svg>\n",
      "image/png": "[encoded data removed]"
     },
     "metadata": {
      "needs_background": "light"
     }
    }
   ],
   "source": [
    "plt.figure(figsize=(10,5))\n",
    "plt.bar(range(model.tcs.shape[0]), model.tcs, color='#4e79a7', width=0.5)\n",
    "plt.xlabel('Topic', fontsize=16)\n",
    "plt.ylabel('Total Correlation (nats)', fontsize=16);"
   ]
  },
  {
   "cell_type": "code",
   "execution_count": null,
   "metadata": {},
   "outputs": [],
   "source": [
    "topic_df = pd.DataFrame(model.transform(tfidf), columns=[\"topic_{}\".format(i+1) for i in range (20)]).astype(float)\n",
    "topic_df.index = em_df.index\n",
    "df = pd.concat([em_df, topic_df], axis=1)\n",
    "df.head()"
   ]
  },
  {
   "cell_type": "code",
   "execution_count": null,
   "metadata": {},
   "outputs": [],
   "source": [
    "df.to_csv('/Users/chenjianyu/Desktop/Corex Topic Modelling/vaccination_valuable_corex_topics.csv')"
   ]
  },
  {
   "cell_type": "code",
   "execution_count": null,
   "metadata": {},
   "outputs": [],
   "source": [
    "topics_dict = {}\n",
    "\n",
    "for i in range(20):\n",
    "    topics_dict[f'topic{i}'] = {}\n",
    "    topic = df[df[f'topic_{i+1}'] == 1.0]\n",
    "    pos_count = df_topic0[df_topic0['Vader_compound_score'] >= 0.1]\n",
    "    neg_count = df_topic0[df_topic0['Vader_compound_score'] <= -0.01]\n",
    "    emotions_count = list(df_topic0['Emotions'].value_counts())\n",
    "\n",
    "    topics_dict[f'topic{i}']['positive'] = len(pos_count)\n",
    "    topics_dict[f'topic{i}']['negative'] = len(neg_count)\n",
    "    topics_dict[f'topic{i}']['emotions'] = {\n",
    "        'anger': emotions_count[0],\n",
    "        'fear': emotions_count[1],\n",
    "        'joy': emotions_count[2],\n",
    "        'neutral': emotions_count[3],\n",
    "        'sadness': emotions_count[4]\n",
    "        }\n",
    "\n",
    "topics_dict['anchors'] = anchors\n",
    "topics_dict['top_words'] = top_words\n",
    "    \n",
    "pickle.dump(topics_dict, open('vaccination_topic_counts.sav', 'wb'))\n",
    "# x = pickle.load(open('tracetogether_topic_counts.sav', 'rb'))"
   ]
  },
  {
   "cell_type": "code",
   "execution_count": null,
   "metadata": {},
   "outputs": [],
   "source": []
  },
  {
   "source": [
    "# Foreign Worker"
   ],
   "cell_type": "markdown",
   "metadata": {}
  },
  {
   "cell_type": "code",
   "execution_count": 176,
   "metadata": {},
   "outputs": [
    {
     "output_type": "execute_result",
     "data": {
      "text/plain": [
       "3132"
      ]
     },
     "metadata": {},
     "execution_count": 176
    }
   ],
   "source": [
    "em_df = pd.read_csv(f'{parent_path}/Data/Sentiment Data/foreign worker_valuable_opinions.csv')\n",
    "em_df.drop(columns=['Unnamed: 0', 'index'], inplace=True)\n",
    "em_df['Topic'] = 'Foreign Worker'\n",
    "len(em_df)"
   ]
  },
  {
   "cell_type": "code",
   "execution_count": 177,
   "metadata": {},
   "outputs": [],
   "source": [
    "corpus = PlaintextCorpusReader('/Users/chenjianyu/Library/Mobile Documents/com~apple~CloudDocs/SMU/SMU Module Materials/Y2S2/SMT203 Computational Social Sci/Covid-19-Singapore-Analysis/Data/Policy Documents', '.+\\.txt', encoding='utf-8')\n",
    "fid = corpus.fileids()\n",
    "fid.sort()\n",
    "\n",
    "doc_words = [corpus.words(f) for f in fid]\n",
    "\n",
    "    ## Splitting the labelled data to its own policy/topic\n",
    "# circuit_breaker_comments = cb_df[cb_df['Topic'] == 'Circuit Breaker']\n",
    "# economic_measures_comments = cb_df[cb_df['Topic'] == 'Economic Measures']\n",
    "foreign_worker_comments = em_df[em_df['Topic'] == 'Foreign Worker']\n",
    "# mask_comments = cb_df[cb_df['Topic'] == 'Mask']\n",
    "# phases_comments = cb_df[cb_df['Topic'] == 'Phases']\n",
    "# safe_entry_comments = cb_df[cb_df['Topic'] == 'Safe Entry']\n",
    "# social_distancing_comments = cb_df[cb_df['Topic'] == 'Social Distancing']\n",
    "# stay_home_notice_comments = cb_df[cb_df['Topic'] == 'Stay Home Notice']\n",
    "# tracetogether_comments = em_df[em_df['Topic'] == 'Tracetogether']\n",
    "# vaccination_comments = cb_df[cb_df['Topic'] == 'Vaccination']\n",
    "comments = [foreign_worker_comments]\n",
    "# comments = [circuit_breaker_comments, economic_measures_comments ,foreign_worker_comments, mask_comments, phases_comments, safe_entry_comments, social_distancing_comments, stay_home_notice_comments, tracetogether_comments, vaccination_comments]\n",
    "\n",
    "    ## Calculating KL-divergence relevance score for each comment to its respective policy topic\n",
    "for i in range(len(comments)):\n",
    "    doc_unigram, doc_nouns = topic_doc_unigram(doc_words[i], k=1)\n",
    "    relavance_scores = []\n",
    "    for row in em_df['Sentences']:\n",
    "        cmt_unigram, cmt_nouns = comment_unigram(row, k=1)\n",
    "        score = KLDiv_relevance_score(doc_unigram, cmt_unigram, doc_nouns, cmt_nouns)\n",
    "        relavance_scores.append(score)\n",
    "    comments[i]['Relevance score'] = relavance_scores\n",
    "\n",
    "df_final = pd.concat(comments, ignore_index=True)"
   ]
  },
  {
   "cell_type": "code",
   "execution_count": 178,
   "metadata": {},
   "outputs": [
    {
     "output_type": "execute_result",
     "data": {
      "text/plain": [
       "count    3132.000000\n",
       "mean       54.607031\n",
       "std        80.675476\n",
       "min         2.318348\n",
       "25%        16.878383\n",
       "50%        26.835207\n",
       "75%        56.271756\n",
       "max       408.447008\n",
       "Name: Relevance score, dtype: float64"
      ]
     },
     "metadata": {},
     "execution_count": 178
    }
   ],
   "source": [
    "df_final['Relevance score'].describe()"
   ]
  },
  {
   "cell_type": "code",
   "execution_count": 179,
   "metadata": {},
   "outputs": [
    {
     "output_type": "execute_result",
     "data": {
      "text/plain": [
       "833"
      ]
     },
     "metadata": {},
     "execution_count": 179
    }
   ],
   "source": [
    "em_df = df_final[df_final['Relevance score'] <= 20]\n",
    "len(em_df)"
   ]
  },
  {
   "cell_type": "code",
   "execution_count": 180,
   "metadata": {},
   "outputs": [
    {
     "output_type": "stream",
     "name": "stderr",
     "text": [
      "<ipython-input-180-1f63f3ad2eb9>:16: SettingWithCopyWarning: \nA value is trying to be set on a copy of a slice from a DataFrame.\nTry using .loc[row_indexer,col_indexer] = value instead\n\nSee the caveats in the documentation: https://pandas.pydata.org/pandas-docs/stable/user_guide/indexing.html#returning-a-view-versus-a-copy\n  em_df['Comments'] = comments\n"
     ]
    }
   ],
   "source": [
    "eng_words = words.words()\n",
    "comments = []\n",
    "i = 0\n",
    "for row in em_df['Sentences']:\n",
    "    text = remove_hashtag_mentions_urls(row)\n",
    "    text_tokenize = TweetTokenizer().tokenize(text)\n",
    "    text_lower = [w.lower() for w in text_tokenize]\n",
    "    text_words_only = [w for w in text_lower if re.search('^[a-z]+$',w)]\n",
    "    text_eng_words = [w for w in text_words_only if w in eng_words]\n",
    "    text_drop_2letters = [w for w in text_eng_words if len(w) > 2]\n",
    "    text_joined = ' '.join(text_drop_2letters)\n",
    "    comments.append(text_joined)\n",
    "    # print(i)\n",
    "    i+=1\n",
    "\n",
    "em_df['Comments'] = comments"
   ]
  },
  {
   "cell_type": "code",
   "execution_count": 182,
   "metadata": {},
   "outputs": [
    {
     "output_type": "execute_result",
     "data": {
      "text/plain": [
       "9760"
      ]
     },
     "metadata": {},
     "execution_count": 182
    }
   ],
   "source": [
    "vectorizer = TfidfVectorizer(ngram_range=(1, 2), stop_words='english', max_df=0.5)\n",
    "vectorizer = vectorizer.fit(em_df['Comments'])\n",
    "tfidf = vectorizer.transform(em_df['Comments'])\n",
    "vocab = vectorizer.get_feature_names()\n",
    "len(vocab)"
   ]
  },
  {
   "cell_type": "code",
   "execution_count": 183,
   "metadata": {},
   "outputs": [],
   "source": [
    "anchors = [\n",
    "    ['dormitories', 'crammed', 'density', 'violate regulation', 'dorm', 'distance', 'crowded', 'poor condition', 'living condition'], \n",
    "    ['isolate', 'quarantine', 'identify', 'potential', 'infected', 'carrier'], \n",
    "    ['swab test',  'covid testing',  'testing', 'risk', 're-infection', 'cases', 'positive', 'negative', 'asymptomatic', \n",
    "    'frontline workers', 'healthcare workers'], \n",
    "    ['spread', 'huge', 'cluster', 'capacity', 'cope', 'rapid'], \n",
    "    ['employers', 'responsibility', 'bear', 'bill', 'tax payers', 'fine']\n",
    "]\n",
    "anchors = [\n",
    "    [a for a in topic if a in vocab] for topic in anchors\n",
    "]\n",
    "\n",
    "model = ct.Corex(n_hidden = 20, seed = 8)\n",
    "model = model.fit(tfidf, words = vocab, anchors = anchors, anchor_strength=7)\n",
    "# model.get_topics(topic=0, n_words=10)"
   ]
  },
  {
   "cell_type": "code",
   "execution_count": 184,
   "metadata": {},
   "outputs": [
    {
     "output_type": "stream",
     "name": "stdout",
     "text": [
      "Topic #1: dorm, crowded, distance, dorm spreading, migrant dorm, especially migrant, thank covid, situation especially, dorm bad, spreading\n\nTopic #2: infected, quarantine, potential, identify, isolate, carrier, people infected, closure, mean infected, calling\n\nTopic #3: testing, asymptomatic, covid testing, swab test, asymptomatic mild, flip, ignorance, ministry health, employment, spore\n\nTopic #4: spread, huge, cluster, cope, rapid, community spread, opposition, labour, spread covid, staff food\n\nTopic #5: responsibility, bear, various, supermarket, road, cried, parliament, source code, code contribute, code\n\nTopic #6: number migrant, think high\n\nTopic #7: \n\nTopic #8: know look, construction know, look money\n\nTopic #9: fact, fact people, far likely, likely fact, think far, migrant tend, tend young, young fact, working overtime, just working\n\nTopic #10: \n\nTopic #11: grim, grim fresh, fresh mind, sure contact, contact home, fresh, mind trust, trust power, mind remember, remember weekend\n\nTopic #12: dear, prime, prime minister, dear lee, lee thank, lee, thank, minister lee, task force, force\n\nTopic #13: fisher, dale fisher, dale, prophet, need test, prof, fisher said, prof fisher, count, holy\n\nTopic #14: \n\nTopic #15: outbreak government, government room, period people, stringent circuit\n\nTopic #16: ass migrant, don ass, migrant unfortunately, behalf community, community government, demand, ass, look end, day totally, totally different\n\nTopic #17: \n\nTopic #18: elderly nursing, sick elderly\n\nTopic #19: thinking burden, lee stuck, stuck certain, burden, explain doing, doing better, trying explain, addition trying, addition, stuck\n\nTopic #20: \n\n"
     ]
    }
   ],
   "source": [
    "top_words = {}\n",
    "\n",
    "for i, topic_ngrams in enumerate(model.get_topics()):\n",
    "    topic_ngrams = [ngram[0] for ngram in topic_ngrams if ngram[1] > 0]\n",
    "    top_words[f'topic{i}'] = topic_ngrams\n",
    "    print(\"Topic #{}: {}\".format(i+1, \", \".join(topic_ngrams)))\n",
    "    print()"
   ]
  },
  {
   "cell_type": "code",
   "execution_count": 185,
   "metadata": {},
   "outputs": [
    {
     "output_type": "display_data",
     "data": {
      "text/plain": "<Figure size 720x360 with 1 Axes>",
      "image/svg+xml": "<?xml version=\"1.0\" encoding=\"utf-8\" standalone=\"no\"?>\n<!DOCTYPE svg PUBLIC \"-//W3C//DTD SVG 1.1//EN\"\n  \"http://www.w3.org/Graphics/SVG/1.1/DTD/svg11.dtd\">\n<!-- Created with matplotlib (https://matplotlib.org/) -->\n<svg height=\"322.363125pt\" version=\"1.1\" viewBox=\"0 0 620.067791 322.363125\" width=\"620.067791pt\" xmlns=\"http://www.w3.org/2000/svg\" xmlns:xlink=\"http://www.w3.org/1999/xlink\">\n <metadata>\n  <rdf:RDF xmlns:cc=\"http://creativecommons.org/ns#\" xmlns:dc=\"http://purl.org/dc/elements/1.1/\" xmlns:rdf=\"http://www.w3.org/1999/02/22-rdf-syntax-ns#\">\n   <cc:Work>\n    <dc:type rdf:resource=\"http://purl.org/dc/dcmitype/StillImage\"/>\n    <dc:date>2021-03-25T01:20:03.875530</dc:date>\n    <dc:format>image/svg+xml</dc:format>\n    <dc:creator>\n     <cc:Agent>\n      <dc:title>Matplotlib v3.3.3, https://matplotlib.org/</dc:title>\n     </cc:Agent>\n    </dc:creator>\n   </cc:Work>\n  </rdf:RDF>\n </metadata>\n <defs>\n  <style type=\"text/css\">*{stroke-linecap:butt;stroke-linejoin:round;}</style>\n </defs>\n <g id=\"figure_1\">\n  <g id=\"patch_1\">\n   <path d=\"M 0 322.363125 \nL 620.067791 322.363125 \nL 620.067791 0 \nL 0 0 \nz\n\" style=\"fill:none;\"/>\n  </g>\n  <g id=\"axes_1\">\n   <g id=\"patch_2\">\n    <path d=\"M 49.588125 279 \nL 607.588125 279 \nL 607.588125 7.2 \nL 49.588125 7.2 \nz\n\" style=\"fill:#ffffff;\"/>\n   </g>\n   <g id=\"patch_3\">\n    <path clip-path=\"url(#pe4f6ff24e9)\" d=\"M 74.951761 279 \nL 87.958754 279 \nL 87.958754 67.481194 \nL 74.951761 67.481194 \nz\n\" style=\"fill:#4e79a7;\"/>\n   </g>\n   <g id=\"patch_4\">\n    <path clip-path=\"url(#pe4f6ff24e9)\" d=\"M 100.965747 279 \nL 113.97274 279 \nL 113.97274 26.377289 \nL 100.965747 26.377289 \nz\n\" style=\"fill:#4e79a7;\"/>\n   </g>\n   <g id=\"patch_5\">\n    <path clip-path=\"url(#pe4f6ff24e9)\" d=\"M 126.979733 279 \nL 139.986726 279 \nL 139.986726 64.450149 \nL 126.979733 64.450149 \nz\n\" style=\"fill:#4e79a7;\"/>\n   </g>\n   <g id=\"patch_6\">\n    <path clip-path=\"url(#pe4f6ff24e9)\" d=\"M 152.993719 279 \nL 166.000712 279 \nL 166.000712 20.142967 \nL 152.993719 20.142967 \nz\n\" style=\"fill:#4e79a7;\"/>\n   </g>\n   <g id=\"patch_7\">\n    <path clip-path=\"url(#pe4f6ff24e9)\" d=\"M 179.007705 279 \nL 192.014698 279 \nL 192.014698 117.600212 \nL 179.007705 117.600212 \nz\n\" style=\"fill:#4e79a7;\"/>\n   </g>\n   <g id=\"patch_8\">\n    <path clip-path=\"url(#pe4f6ff24e9)\" d=\"M 205.021691 279 \nL 218.028684 279 \nL 218.028684 278.979487 \nL 205.021691 278.979487 \nz\n\" style=\"fill:#4e79a7;\"/>\n   </g>\n   <g id=\"patch_9\">\n    <path clip-path=\"url(#pe4f6ff24e9)\" d=\"M 231.035677 279 \nL 244.04267 279 \nL 244.04267 278.992336 \nL 231.035677 278.992336 \nz\n\" style=\"fill:#4e79a7;\"/>\n   </g>\n   <g id=\"patch_10\">\n    <path clip-path=\"url(#pe4f6ff24e9)\" d=\"M 257.049663 279 \nL 270.056656 279 \nL 270.056656 278.729229 \nL 257.049663 278.729229 \nz\n\" style=\"fill:#4e79a7;\"/>\n   </g>\n   <g id=\"patch_11\">\n    <path clip-path=\"url(#pe4f6ff24e9)\" d=\"M 283.063649 279 \nL 296.070642 279 \nL 296.070642 261.397672 \nL 283.063649 261.397672 \nz\n\" style=\"fill:#4e79a7;\"/>\n   </g>\n   <g id=\"patch_12\">\n    <path clip-path=\"url(#pe4f6ff24e9)\" d=\"M 309.077635 279 \nL 322.084628 279 \nL 322.084628 278.997402 \nL 309.077635 278.997402 \nz\n\" style=\"fill:#4e79a7;\"/>\n   </g>\n   <g id=\"patch_13\">\n    <path clip-path=\"url(#pe4f6ff24e9)\" d=\"M 335.091622 279 \nL 348.098615 279 \nL 348.098615 277.369009 \nL 335.091622 277.369009 \nz\n\" style=\"fill:#4e79a7;\"/>\n   </g>\n   <g id=\"patch_14\">\n    <path clip-path=\"url(#pe4f6ff24e9)\" d=\"M 361.105608 279 \nL 374.112601 279 \nL 374.112601 197.011035 \nL 361.105608 197.011035 \nz\n\" style=\"fill:#4e79a7;\"/>\n   </g>\n   <g id=\"patch_15\">\n    <path clip-path=\"url(#pe4f6ff24e9)\" d=\"M 387.119594 279 \nL 400.126587 279 \nL 400.126587 138.221618 \nL 387.119594 138.221618 \nz\n\" style=\"fill:#4e79a7;\"/>\n   </g>\n   <g id=\"patch_16\">\n    <path clip-path=\"url(#pe4f6ff24e9)\" d=\"M 413.13358 279 \nL 426.140573 279 \nL 426.140573 279.000938 \nL 413.13358 279.000938 \nz\n\" style=\"fill:#4e79a7;\"/>\n   </g>\n   <g id=\"patch_17\">\n    <path clip-path=\"url(#pe4f6ff24e9)\" d=\"M 439.147566 279 \nL 452.154559 279 \nL 452.154559 278.8534 \nL 439.147566 278.8534 \nz\n\" style=\"fill:#4e79a7;\"/>\n   </g>\n   <g id=\"patch_18\">\n    <path clip-path=\"url(#pe4f6ff24e9)\" d=\"M 465.161552 279 \nL 478.168545 279 \nL 478.168545 275.795794 \nL 465.161552 275.795794 \nz\n\" style=\"fill:#4e79a7;\"/>\n   </g>\n   <g id=\"patch_19\">\n    <path clip-path=\"url(#pe4f6ff24e9)\" d=\"M 491.175538 279 \nL 504.182531 279 \nL 504.182531 279.002316 \nL 491.175538 279.002316 \nz\n\" style=\"fill:#4e79a7;\"/>\n   </g>\n   <g id=\"patch_20\">\n    <path clip-path=\"url(#pe4f6ff24e9)\" d=\"M 517.189524 279 \nL 530.196517 279 \nL 530.196517 278.918146 \nL 517.189524 278.918146 \nz\n\" style=\"fill:#4e79a7;\"/>\n   </g>\n   <g id=\"patch_21\">\n    <path clip-path=\"url(#pe4f6ff24e9)\" d=\"M 543.20351 279 \nL 556.210503 279 \nL 556.210503 276.82698 \nL 543.20351 276.82698 \nz\n\" style=\"fill:#4e79a7;\"/>\n   </g>\n   <g id=\"patch_22\">\n    <path clip-path=\"url(#pe4f6ff24e9)\" d=\"M 569.217496 279 \nL 582.224489 279 \nL 582.224489 278.963174 \nL 569.217496 278.963174 \nz\n\" style=\"fill:#4e79a7;\"/>\n   </g>\n   <g id=\"matplotlib.axis_1\">\n    <g id=\"xtick_1\">\n     <g id=\"line2d_1\">\n      <defs>\n       <path d=\"M 0 0 \nL 0 3.5 \n\" id=\"m2ca8e2919e\" style=\"stroke:#000000;stroke-width:0.8;\"/>\n      </defs>\n      <g>\n       <use style=\"stroke:#000000;stroke-width:0.8;\" x=\"81.455258\" xlink:href=\"#m2ca8e2919e\" y=\"279\"/>\n      </g>\n     </g>\n     <g id=\"text_1\">\n      <!-- 0.0 -->\n      <g transform=\"translate(73.503695 293.598438)scale(0.1 -0.1)\">\n       <defs>\n        <path d=\"M 31.78125 66.40625 \nQ 24.171875 66.40625 20.328125 58.90625 \nQ 16.5 51.421875 16.5 36.375 \nQ 16.5 21.390625 20.328125 13.890625 \nQ 24.171875 6.390625 31.78125 6.390625 \nQ 39.453125 6.390625 43.28125 13.890625 \nQ 47.125 21.390625 47.125 36.375 \nQ 47.125 51.421875 43.28125 58.90625 \nQ 39.453125 66.40625 31.78125 66.40625 \nz\nM 31.78125 74.21875 \nQ 44.046875 74.21875 50.515625 64.515625 \nQ 56.984375 54.828125 56.984375 36.375 \nQ 56.984375 17.96875 50.515625 8.265625 \nQ 44.046875 -1.421875 31.78125 -1.421875 \nQ 19.53125 -1.421875 13.0625 8.265625 \nQ 6.59375 17.96875 6.59375 36.375 \nQ 6.59375 54.828125 13.0625 64.515625 \nQ 19.53125 74.21875 31.78125 74.21875 \nz\n\" id=\"DejaVuSans-48\"/>\n        <path d=\"M 10.6875 12.40625 \nL 21 12.40625 \nL 21 0 \nL 10.6875 0 \nz\n\" id=\"DejaVuSans-46\"/>\n       </defs>\n       <use xlink:href=\"#DejaVuSans-48\"/>\n       <use x=\"63.623047\" xlink:href=\"#DejaVuSans-46\"/>\n       <use x=\"95.410156\" xlink:href=\"#DejaVuSans-48\"/>\n      </g>\n     </g>\n    </g>\n    <g id=\"xtick_2\">\n     <g id=\"line2d_2\">\n      <g>\n       <use style=\"stroke:#000000;stroke-width:0.8;\" x=\"146.490223\" xlink:href=\"#m2ca8e2919e\" y=\"279\"/>\n      </g>\n     </g>\n     <g id=\"text_2\">\n      <!-- 2.5 -->\n      <g transform=\"translate(138.53866 293.598438)scale(0.1 -0.1)\">\n       <defs>\n        <path d=\"M 19.1875 8.296875 \nL 53.609375 8.296875 \nL 53.609375 0 \nL 7.328125 0 \nL 7.328125 8.296875 \nQ 12.9375 14.109375 22.625 23.890625 \nQ 32.328125 33.6875 34.8125 36.53125 \nQ 39.546875 41.84375 41.421875 45.53125 \nQ 43.3125 49.21875 43.3125 52.78125 \nQ 43.3125 58.59375 39.234375 62.25 \nQ 35.15625 65.921875 28.609375 65.921875 \nQ 23.96875 65.921875 18.8125 64.3125 \nQ 13.671875 62.703125 7.8125 59.421875 \nL 7.8125 69.390625 \nQ 13.765625 71.78125 18.9375 73 \nQ 24.125 74.21875 28.421875 74.21875 \nQ 39.75 74.21875 46.484375 68.546875 \nQ 53.21875 62.890625 53.21875 53.421875 \nQ 53.21875 48.921875 51.53125 44.890625 \nQ 49.859375 40.875 45.40625 35.40625 \nQ 44.1875 33.984375 37.640625 27.21875 \nQ 31.109375 20.453125 19.1875 8.296875 \nz\n\" id=\"DejaVuSans-50\"/>\n        <path d=\"M 10.796875 72.90625 \nL 49.515625 72.90625 \nL 49.515625 64.59375 \nL 19.828125 64.59375 \nL 19.828125 46.734375 \nQ 21.96875 47.46875 24.109375 47.828125 \nQ 26.265625 48.1875 28.421875 48.1875 \nQ 40.625 48.1875 47.75 41.5 \nQ 54.890625 34.8125 54.890625 23.390625 \nQ 54.890625 11.625 47.5625 5.09375 \nQ 40.234375 -1.421875 26.90625 -1.421875 \nQ 22.3125 -1.421875 17.546875 -0.640625 \nQ 12.796875 0.140625 7.71875 1.703125 \nL 7.71875 11.625 \nQ 12.109375 9.234375 16.796875 8.0625 \nQ 21.484375 6.890625 26.703125 6.890625 \nQ 35.15625 6.890625 40.078125 11.328125 \nQ 45.015625 15.765625 45.015625 23.390625 \nQ 45.015625 31 40.078125 35.4375 \nQ 35.15625 39.890625 26.703125 39.890625 \nQ 22.75 39.890625 18.8125 39.015625 \nQ 14.890625 38.140625 10.796875 36.28125 \nz\n\" id=\"DejaVuSans-53\"/>\n       </defs>\n       <use xlink:href=\"#DejaVuSans-50\"/>\n       <use x=\"63.623047\" xlink:href=\"#DejaVuSans-46\"/>\n       <use x=\"95.410156\" xlink:href=\"#DejaVuSans-53\"/>\n      </g>\n     </g>\n    </g>\n    <g id=\"xtick_3\">\n     <g id=\"line2d_3\">\n      <g>\n       <use style=\"stroke:#000000;stroke-width:0.8;\" x=\"211.525188\" xlink:href=\"#m2ca8e2919e\" y=\"279\"/>\n      </g>\n     </g>\n     <g id=\"text_3\">\n      <!-- 5.0 -->\n      <g transform=\"translate(203.573625 293.598438)scale(0.1 -0.1)\">\n       <use xlink:href=\"#DejaVuSans-53\"/>\n       <use x=\"63.623047\" xlink:href=\"#DejaVuSans-46\"/>\n       <use x=\"95.410156\" xlink:href=\"#DejaVuSans-48\"/>\n      </g>\n     </g>\n    </g>\n    <g id=\"xtick_4\">\n     <g id=\"line2d_4\">\n      <g>\n       <use style=\"stroke:#000000;stroke-width:0.8;\" x=\"276.560153\" xlink:href=\"#m2ca8e2919e\" y=\"279\"/>\n      </g>\n     </g>\n     <g id=\"text_4\">\n      <!-- 7.5 -->\n      <g transform=\"translate(268.60859 293.598438)scale(0.1 -0.1)\">\n       <defs>\n        <path d=\"M 8.203125 72.90625 \nL 55.078125 72.90625 \nL 55.078125 68.703125 \nL 28.609375 0 \nL 18.3125 0 \nL 43.21875 64.59375 \nL 8.203125 64.59375 \nz\n\" id=\"DejaVuSans-55\"/>\n       </defs>\n       <use xlink:href=\"#DejaVuSans-55\"/>\n       <use x=\"63.623047\" xlink:href=\"#DejaVuSans-46\"/>\n       <use x=\"95.410156\" xlink:href=\"#DejaVuSans-53\"/>\n      </g>\n     </g>\n    </g>\n    <g id=\"xtick_5\">\n     <g id=\"line2d_5\">\n      <g>\n       <use style=\"stroke:#000000;stroke-width:0.8;\" x=\"341.595118\" xlink:href=\"#m2ca8e2919e\" y=\"279\"/>\n      </g>\n     </g>\n     <g id=\"text_5\">\n      <!-- 10.0 -->\n      <g transform=\"translate(330.462306 293.598438)scale(0.1 -0.1)\">\n       <defs>\n        <path d=\"M 12.40625 8.296875 \nL 28.515625 8.296875 \nL 28.515625 63.921875 \nL 10.984375 60.40625 \nL 10.984375 69.390625 \nL 28.421875 72.90625 \nL 38.28125 72.90625 \nL 38.28125 8.296875 \nL 54.390625 8.296875 \nL 54.390625 0 \nL 12.40625 0 \nz\n\" id=\"DejaVuSans-49\"/>\n       </defs>\n       <use xlink:href=\"#DejaVuSans-49\"/>\n       <use x=\"63.623047\" xlink:href=\"#DejaVuSans-48\"/>\n       <use x=\"127.246094\" xlink:href=\"#DejaVuSans-46\"/>\n       <use x=\"159.033203\" xlink:href=\"#DejaVuSans-48\"/>\n      </g>\n     </g>\n    </g>\n    <g id=\"xtick_6\">\n     <g id=\"line2d_6\">\n      <g>\n       <use style=\"stroke:#000000;stroke-width:0.8;\" x=\"406.630083\" xlink:href=\"#m2ca8e2919e\" y=\"279\"/>\n      </g>\n     </g>\n     <g id=\"text_6\">\n      <!-- 12.5 -->\n      <g transform=\"translate(395.497271 293.598438)scale(0.1 -0.1)\">\n       <use xlink:href=\"#DejaVuSans-49\"/>\n       <use x=\"63.623047\" xlink:href=\"#DejaVuSans-50\"/>\n       <use x=\"127.246094\" xlink:href=\"#DejaVuSans-46\"/>\n       <use x=\"159.033203\" xlink:href=\"#DejaVuSans-53\"/>\n      </g>\n     </g>\n    </g>\n    <g id=\"xtick_7\">\n     <g id=\"line2d_7\">\n      <g>\n       <use style=\"stroke:#000000;stroke-width:0.8;\" x=\"471.665048\" xlink:href=\"#m2ca8e2919e\" y=\"279\"/>\n      </g>\n     </g>\n     <g id=\"text_7\">\n      <!-- 15.0 -->\n      <g transform=\"translate(460.532236 293.598438)scale(0.1 -0.1)\">\n       <use xlink:href=\"#DejaVuSans-49\"/>\n       <use x=\"63.623047\" xlink:href=\"#DejaVuSans-53\"/>\n       <use x=\"127.246094\" xlink:href=\"#DejaVuSans-46\"/>\n       <use x=\"159.033203\" xlink:href=\"#DejaVuSans-48\"/>\n      </g>\n     </g>\n    </g>\n    <g id=\"xtick_8\">\n     <g id=\"line2d_8\">\n      <g>\n       <use style=\"stroke:#000000;stroke-width:0.8;\" x=\"536.700013\" xlink:href=\"#m2ca8e2919e\" y=\"279\"/>\n      </g>\n     </g>\n     <g id=\"text_8\">\n      <!-- 17.5 -->\n      <g transform=\"translate(525.567201 293.598438)scale(0.1 -0.1)\">\n       <use xlink:href=\"#DejaVuSans-49\"/>\n       <use x=\"63.623047\" xlink:href=\"#DejaVuSans-55\"/>\n       <use x=\"127.246094\" xlink:href=\"#DejaVuSans-46\"/>\n       <use x=\"159.033203\" xlink:href=\"#DejaVuSans-53\"/>\n      </g>\n     </g>\n    </g>\n    <g id=\"xtick_9\">\n     <g id=\"line2d_9\">\n      <g>\n       <use style=\"stroke:#000000;stroke-width:0.8;\" x=\"601.734978\" xlink:href=\"#m2ca8e2919e\" y=\"279\"/>\n      </g>\n     </g>\n     <g id=\"text_9\">\n      <!-- 20.0 -->\n      <g transform=\"translate(590.602166 293.598438)scale(0.1 -0.1)\">\n       <use xlink:href=\"#DejaVuSans-50\"/>\n       <use x=\"63.623047\" xlink:href=\"#DejaVuSans-48\"/>\n       <use x=\"127.246094\" xlink:href=\"#DejaVuSans-46\"/>\n       <use x=\"159.033203\" xlink:href=\"#DejaVuSans-48\"/>\n      </g>\n     </g>\n    </g>\n    <g id=\"text_10\">\n     <!-- Topic -->\n     <g transform=\"translate(308.466875 311.835625)scale(0.16 -0.16)\">\n      <defs>\n       <path d=\"M -0.296875 72.90625 \nL 61.375 72.90625 \nL 61.375 64.59375 \nL 35.5 64.59375 \nL 35.5 0 \nL 25.59375 0 \nL 25.59375 64.59375 \nL -0.296875 64.59375 \nz\n\" id=\"DejaVuSans-84\"/>\n       <path d=\"M 30.609375 48.390625 \nQ 23.390625 48.390625 19.1875 42.75 \nQ 14.984375 37.109375 14.984375 27.296875 \nQ 14.984375 17.484375 19.15625 11.84375 \nQ 23.34375 6.203125 30.609375 6.203125 \nQ 37.796875 6.203125 41.984375 11.859375 \nQ 46.1875 17.53125 46.1875 27.296875 \nQ 46.1875 37.015625 41.984375 42.703125 \nQ 37.796875 48.390625 30.609375 48.390625 \nz\nM 30.609375 56 \nQ 42.328125 56 49.015625 48.375 \nQ 55.71875 40.765625 55.71875 27.296875 \nQ 55.71875 13.875 49.015625 6.21875 \nQ 42.328125 -1.421875 30.609375 -1.421875 \nQ 18.84375 -1.421875 12.171875 6.21875 \nQ 5.515625 13.875 5.515625 27.296875 \nQ 5.515625 40.765625 12.171875 48.375 \nQ 18.84375 56 30.609375 56 \nz\n\" id=\"DejaVuSans-111\"/>\n       <path d=\"M 18.109375 8.203125 \nL 18.109375 -20.796875 \nL 9.078125 -20.796875 \nL 9.078125 54.6875 \nL 18.109375 54.6875 \nL 18.109375 46.390625 \nQ 20.953125 51.265625 25.265625 53.625 \nQ 29.59375 56 35.59375 56 \nQ 45.5625 56 51.78125 48.09375 \nQ 58.015625 40.1875 58.015625 27.296875 \nQ 58.015625 14.40625 51.78125 6.484375 \nQ 45.5625 -1.421875 35.59375 -1.421875 \nQ 29.59375 -1.421875 25.265625 0.953125 \nQ 20.953125 3.328125 18.109375 8.203125 \nz\nM 48.6875 27.296875 \nQ 48.6875 37.203125 44.609375 42.84375 \nQ 40.53125 48.484375 33.40625 48.484375 \nQ 26.265625 48.484375 22.1875 42.84375 \nQ 18.109375 37.203125 18.109375 27.296875 \nQ 18.109375 17.390625 22.1875 11.75 \nQ 26.265625 6.109375 33.40625 6.109375 \nQ 40.53125 6.109375 44.609375 11.75 \nQ 48.6875 17.390625 48.6875 27.296875 \nz\n\" id=\"DejaVuSans-112\"/>\n       <path d=\"M 9.421875 54.6875 \nL 18.40625 54.6875 \nL 18.40625 0 \nL 9.421875 0 \nz\nM 9.421875 75.984375 \nL 18.40625 75.984375 \nL 18.40625 64.59375 \nL 9.421875 64.59375 \nz\n\" id=\"DejaVuSans-105\"/>\n       <path d=\"M 48.78125 52.59375 \nL 48.78125 44.1875 \nQ 44.96875 46.296875 41.140625 47.34375 \nQ 37.3125 48.390625 33.40625 48.390625 \nQ 24.65625 48.390625 19.8125 42.84375 \nQ 14.984375 37.3125 14.984375 27.296875 \nQ 14.984375 17.28125 19.8125 11.734375 \nQ 24.65625 6.203125 33.40625 6.203125 \nQ 37.3125 6.203125 41.140625 7.25 \nQ 44.96875 8.296875 48.78125 10.40625 \nL 48.78125 2.09375 \nQ 45.015625 0.34375 40.984375 -0.53125 \nQ 36.96875 -1.421875 32.421875 -1.421875 \nQ 20.0625 -1.421875 12.78125 6.34375 \nQ 5.515625 14.109375 5.515625 27.296875 \nQ 5.515625 40.671875 12.859375 48.328125 \nQ 20.21875 56 33.015625 56 \nQ 37.15625 56 41.109375 55.140625 \nQ 45.0625 54.296875 48.78125 52.59375 \nz\n\" id=\"DejaVuSans-99\"/>\n      </defs>\n      <use xlink:href=\"#DejaVuSans-84\"/>\n      <use x=\"44.083984\" xlink:href=\"#DejaVuSans-111\"/>\n      <use x=\"105.265625\" xlink:href=\"#DejaVuSans-112\"/>\n      <use x=\"168.742188\" xlink:href=\"#DejaVuSans-105\"/>\n      <use x=\"196.525391\" xlink:href=\"#DejaVuSans-99\"/>\n     </g>\n    </g>\n   </g>\n   <g id=\"matplotlib.axis_2\">\n    <g id=\"ytick_1\">\n     <g id=\"line2d_10\">\n      <defs>\n       <path d=\"M 0 0 \nL -3.5 0 \n\" id=\"m2a012c8b49\" style=\"stroke:#000000;stroke-width:0.8;\"/>\n      </defs>\n      <g>\n       <use style=\"stroke:#000000;stroke-width:0.8;\" x=\"49.588125\" xlink:href=\"#m2a012c8b49\" y=\"279\"/>\n      </g>\n     </g>\n     <g id=\"text_11\">\n      <!-- 0.0 -->\n      <g transform=\"translate(26.685 282.799219)scale(0.1 -0.1)\">\n       <use xlink:href=\"#DejaVuSans-48\"/>\n       <use x=\"63.623047\" xlink:href=\"#DejaVuSans-46\"/>\n       <use x=\"95.410156\" xlink:href=\"#DejaVuSans-48\"/>\n      </g>\n     </g>\n    </g>\n    <g id=\"ytick_2\">\n     <g id=\"line2d_11\">\n      <g>\n       <use style=\"stroke:#000000;stroke-width:0.8;\" x=\"49.588125\" xlink:href=\"#m2a012c8b49\" y=\"219.936248\"/>\n      </g>\n     </g>\n     <g id=\"text_12\">\n      <!-- 0.1 -->\n      <g transform=\"translate(26.685 223.735466)scale(0.1 -0.1)\">\n       <use xlink:href=\"#DejaVuSans-48\"/>\n       <use x=\"63.623047\" xlink:href=\"#DejaVuSans-46\"/>\n       <use x=\"95.410156\" xlink:href=\"#DejaVuSans-49\"/>\n      </g>\n     </g>\n    </g>\n    <g id=\"ytick_3\">\n     <g id=\"line2d_12\">\n      <g>\n       <use style=\"stroke:#000000;stroke-width:0.8;\" x=\"49.588125\" xlink:href=\"#m2a012c8b49\" y=\"160.872495\"/>\n      </g>\n     </g>\n     <g id=\"text_13\">\n      <!-- 0.2 -->\n      <g transform=\"translate(26.685 164.671714)scale(0.1 -0.1)\">\n       <use xlink:href=\"#DejaVuSans-48\"/>\n       <use x=\"63.623047\" xlink:href=\"#DejaVuSans-46\"/>\n       <use x=\"95.410156\" xlink:href=\"#DejaVuSans-50\"/>\n      </g>\n     </g>\n    </g>\n    <g id=\"ytick_4\">\n     <g id=\"line2d_13\">\n      <g>\n       <use style=\"stroke:#000000;stroke-width:0.8;\" x=\"49.588125\" xlink:href=\"#m2a012c8b49\" y=\"101.808743\"/>\n      </g>\n     </g>\n     <g id=\"text_14\">\n      <!-- 0.3 -->\n      <g transform=\"translate(26.685 105.607962)scale(0.1 -0.1)\">\n       <defs>\n        <path d=\"M 40.578125 39.3125 \nQ 47.65625 37.796875 51.625 33 \nQ 55.609375 28.21875 55.609375 21.1875 \nQ 55.609375 10.40625 48.1875 4.484375 \nQ 40.765625 -1.421875 27.09375 -1.421875 \nQ 22.515625 -1.421875 17.65625 -0.515625 \nQ 12.796875 0.390625 7.625 2.203125 \nL 7.625 11.71875 \nQ 11.71875 9.328125 16.59375 8.109375 \nQ 21.484375 6.890625 26.8125 6.890625 \nQ 36.078125 6.890625 40.9375 10.546875 \nQ 45.796875 14.203125 45.796875 21.1875 \nQ 45.796875 27.640625 41.28125 31.265625 \nQ 36.765625 34.90625 28.71875 34.90625 \nL 20.21875 34.90625 \nL 20.21875 43.015625 \nL 29.109375 43.015625 \nQ 36.375 43.015625 40.234375 45.921875 \nQ 44.09375 48.828125 44.09375 54.296875 \nQ 44.09375 59.90625 40.109375 62.90625 \nQ 36.140625 65.921875 28.71875 65.921875 \nQ 24.65625 65.921875 20.015625 65.03125 \nQ 15.375 64.15625 9.8125 62.3125 \nL 9.8125 71.09375 \nQ 15.4375 72.65625 20.34375 73.4375 \nQ 25.25 74.21875 29.59375 74.21875 \nQ 40.828125 74.21875 47.359375 69.109375 \nQ 53.90625 64.015625 53.90625 55.328125 \nQ 53.90625 49.265625 50.4375 45.09375 \nQ 46.96875 40.921875 40.578125 39.3125 \nz\n\" id=\"DejaVuSans-51\"/>\n       </defs>\n       <use xlink:href=\"#DejaVuSans-48\"/>\n       <use x=\"63.623047\" xlink:href=\"#DejaVuSans-46\"/>\n       <use x=\"95.410156\" xlink:href=\"#DejaVuSans-51\"/>\n      </g>\n     </g>\n    </g>\n    <g id=\"ytick_5\">\n     <g id=\"line2d_14\">\n      <g>\n       <use style=\"stroke:#000000;stroke-width:0.8;\" x=\"49.588125\" xlink:href=\"#m2a012c8b49\" y=\"42.74499\"/>\n      </g>\n     </g>\n     <g id=\"text_15\">\n      <!-- 0.4 -->\n      <g transform=\"translate(26.685 46.544209)scale(0.1 -0.1)\">\n       <defs>\n        <path d=\"M 37.796875 64.3125 \nL 12.890625 25.390625 \nL 37.796875 25.390625 \nz\nM 35.203125 72.90625 \nL 47.609375 72.90625 \nL 47.609375 25.390625 \nL 58.015625 25.390625 \nL 58.015625 17.1875 \nL 47.609375 17.1875 \nL 47.609375 0 \nL 37.796875 0 \nL 37.796875 17.1875 \nL 4.890625 17.1875 \nL 4.890625 26.703125 \nz\n\" id=\"DejaVuSans-52\"/>\n       </defs>\n       <use xlink:href=\"#DejaVuSans-48\"/>\n       <use x=\"63.623047\" xlink:href=\"#DejaVuSans-46\"/>\n       <use x=\"95.410156\" xlink:href=\"#DejaVuSans-52\"/>\n      </g>\n     </g>\n    </g>\n    <g id=\"text_16\">\n     <!-- Total Correlation (nats) -->\n     <g transform=\"translate(19.3575 234.49625)rotate(-90)scale(0.16 -0.16)\">\n      <defs>\n       <path d=\"M 18.3125 70.21875 \nL 18.3125 54.6875 \nL 36.8125 54.6875 \nL 36.8125 47.703125 \nL 18.3125 47.703125 \nL 18.3125 18.015625 \nQ 18.3125 11.328125 20.140625 9.421875 \nQ 21.96875 7.515625 27.59375 7.515625 \nL 36.8125 7.515625 \nL 36.8125 0 \nL 27.59375 0 \nQ 17.1875 0 13.234375 3.875 \nQ 9.28125 7.765625 9.28125 18.015625 \nL 9.28125 47.703125 \nL 2.6875 47.703125 \nL 2.6875 54.6875 \nL 9.28125 54.6875 \nL 9.28125 70.21875 \nz\n\" id=\"DejaVuSans-116\"/>\n       <path d=\"M 34.28125 27.484375 \nQ 23.390625 27.484375 19.1875 25 \nQ 14.984375 22.515625 14.984375 16.5 \nQ 14.984375 11.71875 18.140625 8.90625 \nQ 21.296875 6.109375 26.703125 6.109375 \nQ 34.1875 6.109375 38.703125 11.40625 \nQ 43.21875 16.703125 43.21875 25.484375 \nL 43.21875 27.484375 \nz\nM 52.203125 31.203125 \nL 52.203125 0 \nL 43.21875 0 \nL 43.21875 8.296875 \nQ 40.140625 3.328125 35.546875 0.953125 \nQ 30.953125 -1.421875 24.3125 -1.421875 \nQ 15.921875 -1.421875 10.953125 3.296875 \nQ 6 8.015625 6 15.921875 \nQ 6 25.140625 12.171875 29.828125 \nQ 18.359375 34.515625 30.609375 34.515625 \nL 43.21875 34.515625 \nL 43.21875 35.40625 \nQ 43.21875 41.609375 39.140625 45 \nQ 35.0625 48.390625 27.6875 48.390625 \nQ 23 48.390625 18.546875 47.265625 \nQ 14.109375 46.140625 10.015625 43.890625 \nL 10.015625 52.203125 \nQ 14.9375 54.109375 19.578125 55.046875 \nQ 24.21875 56 28.609375 56 \nQ 40.484375 56 46.34375 49.84375 \nQ 52.203125 43.703125 52.203125 31.203125 \nz\n\" id=\"DejaVuSans-97\"/>\n       <path d=\"M 9.421875 75.984375 \nL 18.40625 75.984375 \nL 18.40625 0 \nL 9.421875 0 \nz\n\" id=\"DejaVuSans-108\"/>\n       <path id=\"DejaVuSans-32\"/>\n       <path d=\"M 64.40625 67.28125 \nL 64.40625 56.890625 \nQ 59.421875 61.53125 53.78125 63.8125 \nQ 48.140625 66.109375 41.796875 66.109375 \nQ 29.296875 66.109375 22.65625 58.46875 \nQ 16.015625 50.828125 16.015625 36.375 \nQ 16.015625 21.96875 22.65625 14.328125 \nQ 29.296875 6.6875 41.796875 6.6875 \nQ 48.140625 6.6875 53.78125 8.984375 \nQ 59.421875 11.28125 64.40625 15.921875 \nL 64.40625 5.609375 \nQ 59.234375 2.09375 53.4375 0.328125 \nQ 47.65625 -1.421875 41.21875 -1.421875 \nQ 24.65625 -1.421875 15.125 8.703125 \nQ 5.609375 18.84375 5.609375 36.375 \nQ 5.609375 53.953125 15.125 64.078125 \nQ 24.65625 74.21875 41.21875 74.21875 \nQ 47.75 74.21875 53.53125 72.484375 \nQ 59.328125 70.75 64.40625 67.28125 \nz\n\" id=\"DejaVuSans-67\"/>\n       <path d=\"M 41.109375 46.296875 \nQ 39.59375 47.171875 37.8125 47.578125 \nQ 36.03125 48 33.890625 48 \nQ 26.265625 48 22.1875 43.046875 \nQ 18.109375 38.09375 18.109375 28.8125 \nL 18.109375 0 \nL 9.078125 0 \nL 9.078125 54.6875 \nL 18.109375 54.6875 \nL 18.109375 46.1875 \nQ 20.953125 51.171875 25.484375 53.578125 \nQ 30.03125 56 36.53125 56 \nQ 37.453125 56 38.578125 55.875 \nQ 39.703125 55.765625 41.0625 55.515625 \nz\n\" id=\"DejaVuSans-114\"/>\n       <path d=\"M 56.203125 29.59375 \nL 56.203125 25.203125 \nL 14.890625 25.203125 \nQ 15.484375 15.921875 20.484375 11.0625 \nQ 25.484375 6.203125 34.421875 6.203125 \nQ 39.59375 6.203125 44.453125 7.46875 \nQ 49.3125 8.734375 54.109375 11.28125 \nL 54.109375 2.78125 \nQ 49.265625 0.734375 44.1875 -0.34375 \nQ 39.109375 -1.421875 33.890625 -1.421875 \nQ 20.796875 -1.421875 13.15625 6.1875 \nQ 5.515625 13.8125 5.515625 26.8125 \nQ 5.515625 40.234375 12.765625 48.109375 \nQ 20.015625 56 32.328125 56 \nQ 43.359375 56 49.78125 48.890625 \nQ 56.203125 41.796875 56.203125 29.59375 \nz\nM 47.21875 32.234375 \nQ 47.125 39.59375 43.09375 43.984375 \nQ 39.0625 48.390625 32.421875 48.390625 \nQ 24.90625 48.390625 20.390625 44.140625 \nQ 15.875 39.890625 15.1875 32.171875 \nz\n\" id=\"DejaVuSans-101\"/>\n       <path d=\"M 54.890625 33.015625 \nL 54.890625 0 \nL 45.90625 0 \nL 45.90625 32.71875 \nQ 45.90625 40.484375 42.875 44.328125 \nQ 39.84375 48.1875 33.796875 48.1875 \nQ 26.515625 48.1875 22.3125 43.546875 \nQ 18.109375 38.921875 18.109375 30.90625 \nL 18.109375 0 \nL 9.078125 0 \nL 9.078125 54.6875 \nL 18.109375 54.6875 \nL 18.109375 46.1875 \nQ 21.34375 51.125 25.703125 53.5625 \nQ 30.078125 56 35.796875 56 \nQ 45.21875 56 50.046875 50.171875 \nQ 54.890625 44.34375 54.890625 33.015625 \nz\n\" id=\"DejaVuSans-110\"/>\n       <path d=\"M 31 75.875 \nQ 24.46875 64.65625 21.28125 53.65625 \nQ 18.109375 42.671875 18.109375 31.390625 \nQ 18.109375 20.125 21.3125 9.0625 \nQ 24.515625 -2 31 -13.1875 \nL 23.1875 -13.1875 \nQ 15.875 -1.703125 12.234375 9.375 \nQ 8.59375 20.453125 8.59375 31.390625 \nQ 8.59375 42.28125 12.203125 53.3125 \nQ 15.828125 64.359375 23.1875 75.875 \nz\n\" id=\"DejaVuSans-40\"/>\n       <path d=\"M 44.28125 53.078125 \nL 44.28125 44.578125 \nQ 40.484375 46.53125 36.375 47.5 \nQ 32.28125 48.484375 27.875 48.484375 \nQ 21.1875 48.484375 17.84375 46.4375 \nQ 14.5 44.390625 14.5 40.28125 \nQ 14.5 37.15625 16.890625 35.375 \nQ 19.28125 33.59375 26.515625 31.984375 \nL 29.59375 31.296875 \nQ 39.15625 29.25 43.1875 25.515625 \nQ 47.21875 21.78125 47.21875 15.09375 \nQ 47.21875 7.46875 41.1875 3.015625 \nQ 35.15625 -1.421875 24.609375 -1.421875 \nQ 20.21875 -1.421875 15.453125 -0.5625 \nQ 10.6875 0.296875 5.421875 2 \nL 5.421875 11.28125 \nQ 10.40625 8.6875 15.234375 7.390625 \nQ 20.0625 6.109375 24.8125 6.109375 \nQ 31.15625 6.109375 34.5625 8.28125 \nQ 37.984375 10.453125 37.984375 14.40625 \nQ 37.984375 18.0625 35.515625 20.015625 \nQ 33.0625 21.96875 24.703125 23.78125 \nL 21.578125 24.515625 \nQ 13.234375 26.265625 9.515625 29.90625 \nQ 5.8125 33.546875 5.8125 39.890625 \nQ 5.8125 47.609375 11.28125 51.796875 \nQ 16.75 56 26.8125 56 \nQ 31.78125 56 36.171875 55.265625 \nQ 40.578125 54.546875 44.28125 53.078125 \nz\n\" id=\"DejaVuSans-115\"/>\n       <path d=\"M 8.015625 75.875 \nL 15.828125 75.875 \nQ 23.140625 64.359375 26.78125 53.3125 \nQ 30.421875 42.28125 30.421875 31.390625 \nQ 30.421875 20.453125 26.78125 9.375 \nQ 23.140625 -1.703125 15.828125 -13.1875 \nL 8.015625 -13.1875 \nQ 14.5 -2 17.703125 9.0625 \nQ 20.90625 20.125 20.90625 31.390625 \nQ 20.90625 42.671875 17.703125 53.65625 \nQ 14.5 64.65625 8.015625 75.875 \nz\n\" id=\"DejaVuSans-41\"/>\n      </defs>\n      <use xlink:href=\"#DejaVuSans-84\"/>\n      <use x=\"44.083984\" xlink:href=\"#DejaVuSans-111\"/>\n      <use x=\"105.265625\" xlink:href=\"#DejaVuSans-116\"/>\n      <use x=\"144.474609\" xlink:href=\"#DejaVuSans-97\"/>\n      <use x=\"205.753906\" xlink:href=\"#DejaVuSans-108\"/>\n      <use x=\"233.537109\" xlink:href=\"#DejaVuSans-32\"/>\n      <use x=\"265.324219\" xlink:href=\"#DejaVuSans-67\"/>\n      <use x=\"335.148438\" xlink:href=\"#DejaVuSans-111\"/>\n      <use x=\"396.330078\" xlink:href=\"#DejaVuSans-114\"/>\n      <use x=\"435.693359\" xlink:href=\"#DejaVuSans-114\"/>\n      <use x=\"474.556641\" xlink:href=\"#DejaVuSans-101\"/>\n      <use x=\"536.080078\" xlink:href=\"#DejaVuSans-108\"/>\n      <use x=\"563.863281\" xlink:href=\"#DejaVuSans-97\"/>\n      <use x=\"625.142578\" xlink:href=\"#DejaVuSans-116\"/>\n      <use x=\"664.351562\" xlink:href=\"#DejaVuSans-105\"/>\n      <use x=\"692.134766\" xlink:href=\"#DejaVuSans-111\"/>\n      <use x=\"753.316406\" xlink:href=\"#DejaVuSans-110\"/>\n      <use x=\"816.695312\" xlink:href=\"#DejaVuSans-32\"/>\n      <use x=\"848.482422\" xlink:href=\"#DejaVuSans-40\"/>\n      <use x=\"887.496094\" xlink:href=\"#DejaVuSans-110\"/>\n      <use x=\"950.875\" xlink:href=\"#DejaVuSans-97\"/>\n      <use x=\"1012.154297\" xlink:href=\"#DejaVuSans-116\"/>\n      <use x=\"1051.363281\" xlink:href=\"#DejaVuSans-115\"/>\n      <use x=\"1103.462891\" xlink:href=\"#DejaVuSans-41\"/>\n     </g>\n    </g>\n   </g>\n   <g id=\"patch_23\">\n    <path d=\"M 49.588125 279 \nL 49.588125 7.2 \n\" style=\"fill:none;stroke:#000000;stroke-linecap:square;stroke-linejoin:miter;stroke-width:0.8;\"/>\n   </g>\n   <g id=\"patch_24\">\n    <path d=\"M 607.588125 279 \nL 607.588125 7.2 \n\" style=\"fill:none;stroke:#000000;stroke-linecap:square;stroke-linejoin:miter;stroke-width:0.8;\"/>\n   </g>\n   <g id=\"patch_25\">\n    <path d=\"M 49.588125 279 \nL 607.588125 279 \n\" style=\"fill:none;stroke:#000000;stroke-linecap:square;stroke-linejoin:miter;stroke-width:0.8;\"/>\n   </g>\n   <g id=\"patch_26\">\n    <path d=\"M 49.588125 7.2 \nL 607.588125 7.2 \n\" style=\"fill:none;stroke:#000000;stroke-linecap:square;stroke-linejoin:miter;stroke-width:0.8;\"/>\n   </g>\n  </g>\n </g>\n <defs>\n  <clipPath id=\"pe4f6ff24e9\">\n   <rect height=\"271.8\" width=\"558\" x=\"49.588125\" y=\"7.2\"/>\n  </clipPath>\n </defs>\n</svg>\n",
      "image/png": "[encoded data removed]"
     },
     "metadata": {
      "needs_background": "light"
     }
    }
   ],
   "source": [
    "plt.figure(figsize=(10,5))\n",
    "plt.bar(range(model.tcs.shape[0]), model.tcs, color='#4e79a7', width=0.5)\n",
    "plt.xlabel('Topic', fontsize=16)\n",
    "plt.ylabel('Total Correlation (nats)', fontsize=16);"
   ]
  },
  {
   "cell_type": "code",
   "execution_count": null,
   "metadata": {},
   "outputs": [],
   "source": [
    "topic_df = pd.DataFrame(model.transform(tfidf), columns=[\"topic_{}\".format(i+1) for i in range (20)]).astype(float)\n",
    "topic_df.index = em_df.index\n",
    "df = pd.concat([em_df, topic_df], axis=1)\n",
    "df.head()"
   ]
  },
  {
   "cell_type": "code",
   "execution_count": null,
   "metadata": {},
   "outputs": [],
   "source": [
    "df.to_csv('/Users/chenjianyu/Desktop/Corex Topic Modelling/fw_valuable_corex_topics.csv')"
   ]
  },
  {
   "cell_type": "code",
   "execution_count": null,
   "metadata": {},
   "outputs": [],
   "source": [
    "topics_dict = {}\n",
    "\n",
    "for i in range(20):\n",
    "    topics_dict[f'topic{i}'] = {}\n",
    "    topic = df[df[f'topic_{i+1}'] == 1.0]\n",
    "    pos_count = df_topic0[df_topic0['Vader_compound_score'] >= 0.1]\n",
    "    neg_count = df_topic0[df_topic0['Vader_compound_score'] <= -0.01]\n",
    "    emotions_count = list(df_topic0['Emotions'].value_counts())\n",
    "\n",
    "    topics_dict[f'topic{i}']['positive'] = len(pos_count)\n",
    "    topics_dict[f'topic{i}']['negative'] = len(neg_count)\n",
    "    topics_dict[f'topic{i}']['emotions'] = {\n",
    "        'anger': emotions_count[0],\n",
    "        'fear': emotions_count[1],\n",
    "        'joy': emotions_count[2],\n",
    "        'neutral': emotions_count[3],\n",
    "        'sadness': emotions_count[4]\n",
    "        }\n",
    "\n",
    "topics_dict['anchors'] = anchors\n",
    "topics_dict['top_words'] = top_words\n",
    "    \n",
    "pickle.dump(topics_dict, open('tracetogether_topic_counts.sav', 'wb'))\n",
    "# x = pickle.load(open('tracetogether_topic_counts.sav', 'rb'))"
   ]
  }
 ],
 "metadata": {
  "kernelspec": {
   "name": "python3",
   "display_name": "Python 3.9.0 64-bit",
   "metadata": {
    "interpreter": {
     "hash": "7812ea015bdcee6f23a998adcdd2ef97c151c0c241b7b7070987d9313e41299d"
    }
   }
  },
  "language_info": {
   "codemirror_mode": {
    "name": "ipython",
    "version": 3
   },
   "file_extension": ".py",
   "mimetype": "text/x-python",
   "name": "python",
   "nbconvert_exporter": "python",
   "pygments_lexer": "ipython3",
   "version": "3.9.0-final"
  }
 },
 "nbformat": 4,
 "nbformat_minor": 4
}