{
 "metadata": {
  "language_info": {
   "codemirror_mode": {
    "name": "ipython",
    "version": 3
   },
   "file_extension": ".py",
   "mimetype": "text/x-python",
   "name": "python",
   "nbconvert_exporter": "python",
   "pygments_lexer": "ipython3",
   "version": "3.8.5-final"
  },
  "orig_nbformat": 2,
  "kernelspec": {
   "name": "python3",
   "display_name": "Python 3",
   "language": "python"
  }
 },
 "nbformat": 4,
 "nbformat_minor": 2,
 "cells": [
  {
   "cell_type": "code",
   "execution_count": 9,
   "metadata": {},
   "outputs": [
    {
     "output_type": "stream",
     "name": "stderr",
     "text": [
      "/opt/anaconda3/lib/python3.8/site-packages/ipykernel/ipkernel.py:287: DeprecationWarning: `should_run_async` will not call `transform_cell` automatically in the future. Please pass the result to `transformed_cell` argument and any exception that happen during thetransform in `preprocessing_exc_tuple` in IPython 7.17 and above.\n  and should_run_async(code)\n"
     ]
    }
   ],
   "source": [
    "import pandas as pd\n",
    "import numpy as np\n",
    "import os\n",
    "from utils import *\n",
    "\n",
    "# text preprocessing\n",
    "from nltk import word_tokenize, TweetTokenizer, sent_tokenize, RegexpTokenizer\n",
    "from nltk.stem import PorterStemmer\n",
    "from nltk.corpus import stopwords\n",
    "import nltk\n",
    "import re\n",
    "import gensim\n",
    "from gensim.models import CoherenceModel\n",
    "import pyLDAvis.gensim\n",
    "from sklearn.decomposition import LatentDirichletAllocation\n",
    "\n",
    "# plots and metrics\n",
    "import matplotlib.pyplot as plt\n",
    "from sklearn.metrics import accuracy_score, f1_score, confusion_matrix\n",
    "\n",
    "# feature extraction / vectorization\n",
    "from sklearn.feature_extraction.text import CountVectorizer, TfidfVectorizer\n",
    "from sklearn.feature_extraction.text import CountVectorizer\n",
    "\n",
    "# classifiers\n",
    "from sklearn.naive_bayes import MultinomialNB\n",
    "from sklearn.linear_model import LogisticRegression, SGDClassifier\n",
    "from sklearn.ensemble import RandomForestClassifier\n",
    "from sklearn.svm import LinearSVC\n",
    "from sklearn.pipeline import Pipeline\n",
    "\n",
    "# save and load a file\n",
    "import pickle"
   ]
  },
  {
   "cell_type": "code",
   "execution_count": 11,
   "metadata": {},
   "outputs": [
    {
     "output_type": "stream",
     "name": "stderr",
     "text": [
      "/opt/anaconda3/lib/python3.8/site-packages/ipykernel/ipkernel.py:287: DeprecationWarning: `should_run_async` will not call `transform_cell` automatically in the future. Please pass the result to `transformed_cell` argument and any exception that happen during thetransform in `preprocessing_exc_tuple` in IPython 7.17 and above.\n  and should_run_async(code)\n"
     ]
    }
   ],
   "source": [
    "df_train = pd.read_csv('data/data_train.csv')\n",
    "df_test = pd.read_csv('data/data_test.csv')\n",
    "\n",
    "X_train = df_train.Text\n",
    "X_test = df_test.Text\n",
    "\n",
    "y_train = df_train.Emotion\n",
    "y_test = df_test.Emotion\n",
    "\n",
    "class_names = ['joy', 'sadness', 'anger', 'neutral', 'fear']\n",
    "data = pd.concat([df_train, df_test])"
   ]
  },
  {
   "cell_type": "code",
   "execution_count": 12,
   "metadata": {},
   "outputs": [
    {
     "output_type": "stream",
     "name": "stderr",
     "text": [
      "/opt/anaconda3/lib/python3.8/site-packages/ipykernel/ipkernel.py:287: DeprecationWarning: `should_run_async` will not call `transform_cell` automatically in the future. Please pass the result to `transformed_cell` argument and any exception that happen during thetransform in `preprocessing_exc_tuple` in IPython 7.17 and above.\n  and should_run_async(code)\n"
     ]
    }
   ],
   "source": [
    "def preprocess_and_tokenize(data):    \n",
    "\n",
    "    #remove html markup\n",
    "    data = re.sub(\"(<.*?>)\", \"\", data)\n",
    "\n",
    "    #remove urls\n",
    "    data = re.sub(r'http\\S+', '', data)\n",
    "    \n",
    "    #remove hashtags and @names\n",
    "    data= re.sub(r\"(#[\\d\\w\\.]+)\", '', data)\n",
    "    data= re.sub(r\"(@[\\d\\w\\.]+)\", '', data)\n",
    "\n",
    "    #remove punctuation and non-ascii digits\n",
    "    data = re.sub(\"(\\\\W|\\\\d)\", \" \", data)\n",
    "    \n",
    "    #remove whitespace\n",
    "    data = data.strip()\n",
    "    \n",
    "    # tokenization with nltk\n",
    "    data = word_tokenize(data)\n",
    "    \n",
    "    # stemming with nltk\n",
    "    porter = PorterStemmer()\n",
    "    stem_data = [porter.stem(word) for word in data]\n",
    "        \n",
    "    return stem_data"
   ]
  },
  {
   "cell_type": "code",
   "execution_count": 13,
   "metadata": {},
   "outputs": [
    {
     "output_type": "stream",
     "name": "stderr",
     "text": [
      "/opt/anaconda3/lib/python3.8/site-packages/ipykernel/ipkernel.py:287: DeprecationWarning: `should_run_async` will not call `transform_cell` automatically in the future. Please pass the result to `transformed_cell` argument and any exception that happen during thetransform in `preprocessing_exc_tuple` in IPython 7.17 and above.\n  and should_run_async(code)\n"
     ]
    }
   ],
   "source": [
    "# TFIDF, unigrams and bigrams\n",
    "vect = TfidfVectorizer(tokenizer=preprocess_and_tokenize, sublinear_tf=True, norm='l2', ngram_range=(1, 2))\n",
    "\n",
    "# fit on our complete corpus\n",
    "vect.fit_transform(data.Text)\n",
    "\n",
    "# transform testing and training datasets to vectors\n",
    "X_train_vect = vect.transform(X_train)\n",
    "X_test_vect = vect.transform(X_test)"
   ]
  },
  {
   "cell_type": "code",
   "execution_count": 14,
   "metadata": {},
   "outputs": [
    {
     "output_type": "stream",
     "name": "stderr",
     "text": [
      "/opt/anaconda3/lib/python3.8/site-packages/ipykernel/ipkernel.py:287: DeprecationWarning: `should_run_async` will not call `transform_cell` automatically in the future. Please pass the result to `transformed_cell` argument and any exception that happen during thetransform in `preprocessing_exc_tuple` in IPython 7.17 and above.\n  and should_run_async(code)\n"
     ]
    }
   ],
   "source": [
    "svc = LinearSVC(tol=1e-05)\n",
    "svc.fit(X_train_vect, y_train)\n",
    "\n",
    "svm_pred = svc.predict(X_test_vect)"
   ]
  },
  {
   "cell_type": "code",
   "execution_count": 15,
   "metadata": {},
   "outputs": [
    {
     "output_type": "stream",
     "name": "stderr",
     "text": [
      "/opt/anaconda3/lib/python3.8/site-packages/ipykernel/ipkernel.py:287: DeprecationWarning: `should_run_async` will not call `transform_cell` automatically in the future. Please pass the result to `transformed_cell` argument and any exception that happen during thetransform in `preprocessing_exc_tuple` in IPython 7.17 and above.\n  and should_run_async(code)\n"
     ]
    }
   ],
   "source": [
    "svm_model = Pipeline([('tfidf', vect),('clf', svc),])"
   ]
  },
  {
   "cell_type": "code",
   "execution_count": 16,
   "metadata": {},
   "outputs": [
    {
     "output_type": "stream",
     "name": "stderr",
     "text": [
      "/opt/anaconda3/lib/python3.8/site-packages/ipykernel/ipkernel.py:287: DeprecationWarning: `should_run_async` will not call `transform_cell` automatically in the future. Please pass the result to `transformed_cell` argument and any exception that happen during thetransform in `preprocessing_exc_tuple` in IPython 7.17 and above.\n  and should_run_async(code)\n"
     ]
    }
   ],
   "source": [
    "emotions_clf_filename = 'tfidf_svm.sav'\n",
    "pickle.dump(svm_model, open(emotions_clf_filename, 'wb'))"
   ]
  },
  {
   "cell_type": "code",
   "execution_count": 17,
   "metadata": {},
   "outputs": [
    {
     "output_type": "stream",
     "name": "stderr",
     "text": [
      "/opt/anaconda3/lib/python3.8/site-packages/ipykernel/ipkernel.py:287: DeprecationWarning: `should_run_async` will not call `transform_cell` automatically in the future. Please pass the result to `transformed_cell` argument and any exception that happen during thetransform in `preprocessing_exc_tuple` in IPython 7.17 and above.\n  and should_run_async(code)\n"
     ]
    },
    {
     "output_type": "execute_result",
     "data": {
      "text/plain": [
       "array(['anger'], dtype=object)"
      ]
     },
     "metadata": {},
     "execution_count": 17
    }
   ],
   "source": [
    "emotions_clf = pickle.load(open('tfidf_svm.sav', 'rb'))\n",
    "\n",
    "message = 'delivery was hour late and my pizza is cold!' \n",
    "emotions_clf.predict([message])"
   ]
  },
  {
   "cell_type": "code",
   "execution_count": null,
   "metadata": {},
   "outputs": [],
   "source": []
  },
  {
   "cell_type": "code",
   "execution_count": 4,
   "metadata": {},
   "outputs": [
    {
     "output_type": "stream",
     "name": "stderr",
     "text": [
      "/opt/anaconda3/lib/python3.8/site-packages/ipykernel/ipkernel.py:287: DeprecationWarning: `should_run_async` will not call `transform_cell` automatically in the future. Please pass the result to `transformed_cell` argument and any exception that happen during thetransform in `preprocessing_exc_tuple` in IPython 7.17 and above.\n  and should_run_async(code)\n"
     ]
    }
   ],
   "source": [
    "def get_policy_data(policy, folders):\n",
    "    frames = []\n",
    "    for folder in folders:\n",
    "        files = [file for file in os.listdir(folder) if file.endswith('.csv')]\n",
    "        for file in files:\n",
    "            if policy.lower() in file.lower():\n",
    "                df = pd.read_csv(f'{folder}/{file}')\n",
    "                df = df[['Comments', 'Comment Datetime', 'actionable', 'valuable']]\n",
    "                frames.append(df)\n",
    "                print(True)\n",
    "                break\n",
    "    final_df = pd.concat(frames, ignore_index=True)\n",
    "    return final_df\n",
    "\n",
    "# pos_tags = ['JJ', 'JJR', 'JJS', 'NN', 'NNS', 'NNP', 'NNPS']\n",
    "# 'VB', 'VBD', 'VBG', 'VBN', 'VBP', 'VBZ'\n",
    "def corpus2docs_1(df):\n",
    "    docs1 = [TweetTokenizer().tokenize(comment) for comment in df['Sentences']]\n",
    "    # for i, comment in enumerate(docs1):\n",
    "    #     tags = nltk.pos_tag(comment)\n",
    "    #     docs_tags = [tag[0].lower() for tag in tags if tag[1] in pos_tags]\n",
    "    #     docs1[i] = docs_tags\n",
    "    docs2 = [[w.lower() for w in doc] for doc in docs1]\n",
    "    docs3 = [[w for w in doc if re.search('^[a-z]+$', w)] for doc in docs1]\n",
    "    docs4 = [[w for w in doc if w not in stop_list] for doc in docs3]\n",
    "    return docs4\n",
    "\n",
    "def docs2vecs(docs, dic):\n",
    "    vecs = [dic.doc2bow(doc) for doc in docs]\n",
    "    return vecs\n",
    "\n",
    "stop_list = nltk.corpus.stopwords.words('english')\n",
    "\n",
    "def get_pyLDAvis(model, vecs, dic, topic):\n",
    "    pyLDAvis.enable_notebook()\n",
    "    visual= pyLDAvis.gensim.prepare(lda_model, vecs, dic)\n",
    "    pyLDAvis.save_html(visual, f\"{topic}_viz.html\")\n",
    "    return lda_model.show_topics(num_topics, top_words)\n",
    "\n",
    "def lda_model_show_topics(num_topics):\n",
    "    for i in range(num_topics):\n",
    "        print('-'*100)\n",
    "        print(i)\n",
    "        print('-'*100)\n",
    "        print()\n",
    "\n",
    "def format_topics_sentences(ldamodel, corpus, data, opinions):\n",
    "    # Init output\n",
    "    sent_topics_df = pd.DataFrame()\n",
    "\n",
    "    # Get main topic in each document\n",
    "    for i, row in enumerate(ldamodel[corpus]):\n",
    "        row = sorted(row, key=lambda x: (x[1]), reverse=True)\n",
    "        # Get the Dominant topic, Perc Contribution and Keywords for each document\n",
    "        for j, (topic_num, prop_topic) in enumerate(row):\n",
    "            if j == 0:  # => dominant topic\n",
    "                wp = ldamodel.show_topic(topic_num)\n",
    "                topic_keywords = \", \".join([word for word, prop in wp])\n",
    "                sent_topics_df = sent_topics_df.append(pd.Series([int(topic_num), round(prop_topic,4), topic_keywords]), ignore_index=True)\n",
    "            else:\n",
    "                break\n",
    "    sent_topics_df.columns = ['Dominant_Topic', 'Perc_Contribution', 'Topic_Keywords']\n",
    "\n",
    "    # Add original text to the end of the output\n",
    "    contents = pd.Series(data)\n",
    "    ori_sentences = opinions['Sentences']\n",
    "    sent_topics_df = pd.concat([sent_topics_df, contents, ori_sentences], axis=1)\n",
    "    return(sent_topics_df)\n",
    "\n",
    "def sent_tokenize_then_to_df(df):\n",
    "    sentences_dict = {'Sentences': [], 'Comment Datetime': []}\n",
    "\n",
    "    for i, row in df.iterrows():\n",
    "        sentences = sent_tokenize(df['Comments'].iloc[i])\n",
    "        for sent in sentences:\n",
    "            sentences_dict['Sentences'].append(sent)\n",
    "            sentences_dict['Comment Datetime'].append(df['Comment Datetime'].iloc[i])\n",
    "\n",
    "    final_df = pd.DataFrame(sentences_dict)\n",
    "    final_df.drop_duplicates(subset=['Sentences'], inplace=True)\n",
    "    final_df.reset_index(inplace=True)\n",
    "    return final_df\n",
    "\n",
    "def get_opinions(df):\n",
    "    return df[df['Textblob_subjectivity_score'] >= 0.5]\n",
    "\n",
    "def classify_emotions(df):\n",
    "    emotions = []\n",
    "    for row in df['Sentences']:\n",
    "        emotion = emotions_clf.predict([row])\n",
    "        emotions.append(emotion[0])\n",
    "    df['Emotions'] = emotions\n",
    "    return df\n",
    "\n",
    "def coherence_plot(coherence_values):\n",
    "    x = range(2, 25, 1)\n",
    "    plt.plot(x, coherence_values)\n",
    "    plt.xlabel(\"Num Topics\")\n",
    "    plt.ylabel(\"Coherence score\")\n",
    "    plt.legend((\"coherence_values\"), loc='best')\n",
    "    plt.show()"
   ]
  },
  {
   "cell_type": "code",
   "execution_count": 5,
   "metadata": {},
   "outputs": [
    {
     "output_type": "stream",
     "name": "stderr",
     "text": [
      "/opt/anaconda3/lib/python3.8/site-packages/ipykernel/ipkernel.py:287: DeprecationWarning: `should_run_async` will not call `transform_cell` automatically in the future. Please pass the result to `transformed_cell` argument and any exception that happen during thetransform in `preprocessing_exc_tuple` in IPython 7.17 and above.\n  and should_run_async(code)\n"
     ]
    }
   ],
   "source": [
    "parent_path = '/Users/joshuawong/Documents/GitHub/Covid-19-Singapore-Analysis'"
   ]
  },
  {
   "cell_type": "code",
   "execution_count": 6,
   "metadata": {},
   "outputs": [
    {
     "output_type": "stream",
     "name": "stderr",
     "text": [
      "/opt/anaconda3/lib/python3.8/site-packages/ipykernel/ipkernel.py:287: DeprecationWarning: `should_run_async` will not call `transform_cell` automatically in the future. Please pass the result to `transformed_cell` argument and any exception that happen during thetransform in `preprocessing_exc_tuple` in IPython 7.17 and above.\n  and should_run_async(code)\n"
     ]
    }
   ],
   "source": [
    "social_media_data_folder_paths = [\n",
    "    f'{parent_path}/Data/Hardwarezone Data/Cleaned Data', \n",
    "    f'{parent_path}/Data/Twitter Data/Cleaned Data/Policies/Combined',\n",
    "    f'{parent_path}/Data/Facebook Data/Cleaned Data/Policies/Combined',\n",
    "    f'{parent_path}/Data/Instagram Data/Cleaned Data/Policies/Combined',\n",
    "    f'{parent_path}/Data/Reddit Data/Cleaned Data/Policies/Combined',\n",
    "]"
   ]
  },
  {
   "cell_type": "code",
   "execution_count": 7,
   "metadata": {},
   "outputs": [
    {
     "output_type": "stream",
     "name": "stdout",
     "text": [
      "True\n",
      "True\n",
      "True\n",
      "True\n",
      "True\n",
      "/opt/anaconda3/lib/python3.8/site-packages/ipykernel/ipkernel.py:287: DeprecationWarning: `should_run_async` will not call `transform_cell` automatically in the future. Please pass the result to `transformed_cell` argument and any exception that happen during thetransform in `preprocessing_exc_tuple` in IPython 7.17 and above.\n",
      "  and should_run_async(code)\n"
     ]
    }
   ],
   "source": [
    "cb_df = get_policy_data('circuit breaker', social_media_data_folder_paths)"
   ]
  },
  {
   "cell_type": "code",
   "execution_count": 18,
   "metadata": {},
   "outputs": [
    {
     "output_type": "stream",
     "name": "stderr",
     "text": [
      "/opt/anaconda3/lib/python3.8/site-packages/ipykernel/ipkernel.py:287: DeprecationWarning: `should_run_async` will not call `transform_cell` automatically in the future. Please pass the result to `transformed_cell` argument and any exception that happen during thetransform in `preprocessing_exc_tuple` in IPython 7.17 and above.\n  and should_run_async(code)\n"
     ]
    }
   ],
   "source": [
    "cb_valuable_comments = get_valuable_comments(cb_df)\n",
    "cb_valuable_comments.reset_index(inplace=True)\n",
    "\n",
    "cb_actionable_comments = get_actionable_comments(cb_df)\n",
    "cb_actionable_comments.reset_index(inplace=True)\n",
    "\n",
    "cb_valuable_sent = sent_tokenize_then_to_df(cb_valuable_comments)\n",
    "cb_actionable_sent = sent_tokenize_then_to_df(cb_actionable_comments)\n",
    "\n",
    "cb_valuable_polarity = get_textblob_sentiment(cb_valuable_sent, 'Sentences')\n",
    "cb_actionable_polarity = get_textblob_sentiment(cb_actionable_sent, 'Sentences')\n",
    "\n",
    "cb_valuable_sentiment = get_vader_sentiment(cb_valuable_polarity, 'Sentences')\n",
    "cb_actionable_sentiment = get_vader_sentiment(cb_actionable_polarity, 'Sentences')\n",
    "\n",
    "cb_valuable_emotions = classify_emotions(cb_valuable_sentiment)\n",
    "cb_actionable_emotions = classify_emotions(cb_actionable_sentiment)\n",
    "\n",
    "cb_valuable_opinions = get_opinions(cb_valuable_emotions)\n",
    "cb_actionable_opinions = get_opinions(cb_actionable_emotions)"
   ]
  },
  {
   "cell_type": "code",
   "execution_count": 19,
   "metadata": {},
   "outputs": [
    {
     "output_type": "stream",
     "name": "stderr",
     "text": [
      "/opt/anaconda3/lib/python3.8/site-packages/ipykernel/ipkernel.py:287: DeprecationWarning: `should_run_async` will not call `transform_cell` automatically in the future. Please pass the result to `transformed_cell` argument and any exception that happen during thetransform in `preprocessing_exc_tuple` in IPython 7.17 and above.\n  and should_run_async(code)\n"
     ]
    }
   ],
   "source": [
    "cb_val_pos_opinions =     cb_valuable_opinions[cb_valuable_opinions['Vader_compound_score'] >= 0.1]\n",
    "cb_val_neg_opinions =     cb_valuable_opinions[cb_valuable_opinions['Vader_compound_score'] <= -0.1]\n",
    "cb_val_anger_opinions =   cb_valuable_opinions[cb_valuable_opinions['Emotions'] <= 'anger']\n",
    "cb_val_joy_opinions =     cb_valuable_opinions[cb_valuable_opinions['Emotions'] <= 'joy']\n",
    "cb_val_sadness_opinions = cb_valuable_opinions[cb_valuable_opinions['Emotions'] <= 'sadness']\n",
    "cb_val_fear_opinions =    cb_valuable_opinions[cb_valuable_opinions['Emotions'] <= 'fear']\n",
    "cb_val_neutral_opinions = cb_valuable_opinions[cb_valuable_opinions['Emotions'] <= 'neutral']"
   ]
  },
  {
   "cell_type": "code",
   "execution_count": 20,
   "metadata": {},
   "outputs": [
    {
     "output_type": "stream",
     "name": "stderr",
     "text": [
      "/opt/anaconda3/lib/python3.8/site-packages/ipykernel/ipkernel.py:287: DeprecationWarning: `should_run_async` will not call `transform_cell` automatically in the future. Please pass the result to `transformed_cell` argument and any exception that happen during thetransform in `preprocessing_exc_tuple` in IPython 7.17 and above.\n  and should_run_async(code)\n"
     ]
    },
    {
     "output_type": "execute_result",
     "data": {
      "text/plain": [
       "       index                                          Sentences  \\\n",
       "17        17  For electricity, use lesser aircon should be o...   \n",
       "18        18  For me, I'm lucky the company already are usin...   \n",
       "27        27  WFH can cook cheap, simple and healthy meals M...   \n",
       "47        47  tankgunner wrote: don't think it will happen b...   \n",
       "84        85  He voluntarily refunded the amount he had used...   \n",
       "...      ...                                                ...   \n",
       "12452  13061  What a cruel twist in fate for the sub whom lo...   \n",
       "12453  13062  The people asked for nanny state strict regula...   \n",
       "12456  13065  You don't have the 1st fucking clue about me o...   \n",
       "12462  13072               Law: can meet up only in group of 2.   \n",
       "12471  13082  For leisure activities, u cannot control peopl...   \n",
       "\n",
       "      Comment Datetime  Textblob_polarity_score  Textblob_subjectivity_score  \\\n",
       "17              3/2/21                 0.250000                     0.500000   \n",
       "18              3/2/21                 0.333333                     0.833333   \n",
       "27              3/2/21                 0.350000                     0.514286   \n",
       "47             28/2/21                 0.050000                     1.000000   \n",
       "84              2/4/21                -0.274773                     0.569331   \n",
       "...                ...                      ...                          ...   \n",
       "12452          20/5/20                 0.092000                     0.718000   \n",
       "12453          20/5/20                 0.600000                     1.000000   \n",
       "12456          20/5/20                -0.600000                     0.800000   \n",
       "12462          19/5/20                 0.000000                     1.000000   \n",
       "12471          20/5/20                 0.214286                     0.571429   \n",
       "\n",
       "       Vader_neg_score  Vader_neu_score  Vader_pos_score  \\\n",
       "17               0.000            0.879            0.121   \n",
       "18               0.000            0.909            0.091   \n",
       "27               0.000            0.895            0.105   \n",
       "47               0.000            1.000            0.000   \n",
       "84               0.000            0.827            0.173   \n",
       "...                ...              ...              ...   \n",
       "12452            0.222            0.512            0.266   \n",
       "12453            0.137            0.766            0.096   \n",
       "12456            0.000            1.000            0.000   \n",
       "12462            0.000            1.000            0.000   \n",
       "12471            0.000            0.792            0.208   \n",
       "\n",
       "       Vader_compound_score Emotions  \n",
       "17                   0.2960    anger  \n",
       "18                   0.4215    anger  \n",
       "27                   0.4019    anger  \n",
       "47                   0.0000    anger  \n",
       "84                   0.8720    anger  \n",
       "...                     ...      ...  \n",
       "12452                0.3182    anger  \n",
       "12453               -0.2550    anger  \n",
       "12456                0.0000    anger  \n",
       "12462                0.0000    anger  \n",
       "12471                0.2732    anger  \n",
       "\n",
       "[1089 rows x 10 columns]"
      ],
      "text/html": "<div>\n<style scoped>\n    .dataframe tbody tr th:only-of-type {\n        vertical-align: middle;\n    }\n\n    .dataframe tbody tr th {\n        vertical-align: top;\n    }\n\n    .dataframe thead th {\n        text-align: right;\n    }\n</style>\n<table border=\"1\" class=\"dataframe\">\n  <thead>\n    <tr style=\"text-align: right;\">\n      <th></th>\n      <th>index</th>\n      <th>Sentences</th>\n      <th>Comment Datetime</th>\n      <th>Textblob_polarity_score</th>\n      <th>Textblob_subjectivity_score</th>\n      <th>Vader_neg_score</th>\n      <th>Vader_neu_score</th>\n      <th>Vader_pos_score</th>\n      <th>Vader_compound_score</th>\n      <th>Emotions</th>\n    </tr>\n  </thead>\n  <tbody>\n    <tr>\n      <th>17</th>\n      <td>17</td>\n      <td>For electricity, use lesser aircon should be o...</td>\n      <td>3/2/21</td>\n      <td>0.250000</td>\n      <td>0.500000</td>\n      <td>0.000</td>\n      <td>0.879</td>\n      <td>0.121</td>\n      <td>0.2960</td>\n      <td>anger</td>\n    </tr>\n    <tr>\n      <th>18</th>\n      <td>18</td>\n      <td>For me, I'm lucky the company already are usin...</td>\n      <td>3/2/21</td>\n      <td>0.333333</td>\n      <td>0.833333</td>\n      <td>0.000</td>\n      <td>0.909</td>\n      <td>0.091</td>\n      <td>0.4215</td>\n      <td>anger</td>\n    </tr>\n    <tr>\n      <th>27</th>\n      <td>27</td>\n      <td>WFH can cook cheap, simple and healthy meals M...</td>\n      <td>3/2/21</td>\n      <td>0.350000</td>\n      <td>0.514286</td>\n      <td>0.000</td>\n      <td>0.895</td>\n      <td>0.105</td>\n      <td>0.4019</td>\n      <td>anger</td>\n    </tr>\n    <tr>\n      <th>47</th>\n      <td>47</td>\n      <td>tankgunner wrote: don't think it will happen b...</td>\n      <td>28/2/21</td>\n      <td>0.050000</td>\n      <td>1.000000</td>\n      <td>0.000</td>\n      <td>1.000</td>\n      <td>0.000</td>\n      <td>0.0000</td>\n      <td>anger</td>\n    </tr>\n    <tr>\n      <th>84</th>\n      <td>85</td>\n      <td>He voluntarily refunded the amount he had used...</td>\n      <td>2/4/21</td>\n      <td>-0.274773</td>\n      <td>0.569331</td>\n      <td>0.000</td>\n      <td>0.827</td>\n      <td>0.173</td>\n      <td>0.8720</td>\n      <td>anger</td>\n    </tr>\n    <tr>\n      <th>...</th>\n      <td>...</td>\n      <td>...</td>\n      <td>...</td>\n      <td>...</td>\n      <td>...</td>\n      <td>...</td>\n      <td>...</td>\n      <td>...</td>\n      <td>...</td>\n      <td>...</td>\n    </tr>\n    <tr>\n      <th>12452</th>\n      <td>13061</td>\n      <td>What a cruel twist in fate for the sub whom lo...</td>\n      <td>20/5/20</td>\n      <td>0.092000</td>\n      <td>0.718000</td>\n      <td>0.222</td>\n      <td>0.512</td>\n      <td>0.266</td>\n      <td>0.3182</td>\n      <td>anger</td>\n    </tr>\n    <tr>\n      <th>12453</th>\n      <td>13062</td>\n      <td>The people asked for nanny state strict regula...</td>\n      <td>20/5/20</td>\n      <td>0.600000</td>\n      <td>1.000000</td>\n      <td>0.137</td>\n      <td>0.766</td>\n      <td>0.096</td>\n      <td>-0.2550</td>\n      <td>anger</td>\n    </tr>\n    <tr>\n      <th>12456</th>\n      <td>13065</td>\n      <td>You don't have the 1st fucking clue about me o...</td>\n      <td>20/5/20</td>\n      <td>-0.600000</td>\n      <td>0.800000</td>\n      <td>0.000</td>\n      <td>1.000</td>\n      <td>0.000</td>\n      <td>0.0000</td>\n      <td>anger</td>\n    </tr>\n    <tr>\n      <th>12462</th>\n      <td>13072</td>\n      <td>Law: can meet up only in group of 2.</td>\n      <td>19/5/20</td>\n      <td>0.000000</td>\n      <td>1.000000</td>\n      <td>0.000</td>\n      <td>1.000</td>\n      <td>0.000</td>\n      <td>0.0000</td>\n      <td>anger</td>\n    </tr>\n    <tr>\n      <th>12471</th>\n      <td>13082</td>\n      <td>For leisure activities, u cannot control peopl...</td>\n      <td>20/5/20</td>\n      <td>0.214286</td>\n      <td>0.571429</td>\n      <td>0.000</td>\n      <td>0.792</td>\n      <td>0.208</td>\n      <td>0.2732</td>\n      <td>anger</td>\n    </tr>\n  </tbody>\n</table>\n<p>1089 rows × 10 columns</p>\n</div>"
     },
     "metadata": {},
     "execution_count": 20
    }
   ],
   "source": [
    "cb_val_anger_opinions"
   ]
  },
  {
   "cell_type": "code",
   "execution_count": 22,
   "metadata": {},
   "outputs": [
    {
     "output_type": "stream",
     "name": "stderr",
     "text": [
      "/opt/anaconda3/lib/python3.8/site-packages/ipykernel/ipkernel.py:287: DeprecationWarning: `should_run_async` will not call `transform_cell` automatically in the future. Please pass the result to `transformed_cell` argument and any exception that happen during thetransform in `preprocessing_exc_tuple` in IPython 7.17 and above.\n  and should_run_async(code)\n"
     ]
    }
   ],
   "source": [
    "cb_valuable_emotions.to_csv(\"valuable_emotions.csv\", index=False)"
   ]
  },
  {
   "cell_type": "code",
   "execution_count": 23,
   "metadata": {},
   "outputs": [
    {
     "output_type": "stream",
     "name": "stderr",
     "text": [
      "/opt/anaconda3/lib/python3.8/site-packages/ipykernel/ipkernel.py:287: DeprecationWarning: `should_run_async` will not call `transform_cell` automatically in the future. Please pass the result to `transformed_cell` argument and any exception that happen during thetransform in `preprocessing_exc_tuple` in IPython 7.17 and above.\n  and should_run_async(code)\n"
     ]
    },
    {
     "output_type": "execute_result",
     "data": {
      "text/plain": [
       "   index                                          Sentences Comment Datetime  \\\n",
       "0      0  kuma-mon wrote: Because need to handle issues ...           3/2/21   \n",
       "1      1                          You are not the only one.           3/2/21   \n",
       "2      2                             Some can even ki siao.           3/2/21   \n",
       "3      3                  If can, ask to go office to work.           3/2/21   \n",
       "4      4              If not, then have to make adjustment.           3/2/21   \n",
       "\n",
       "   Textblob_polarity_score  Textblob_subjectivity_score  Vader_neg_score  \\\n",
       "0                 0.061806                     0.607176            0.046   \n",
       "1                 0.000000                     1.000000            0.000   \n",
       "2                 0.000000                     0.000000            0.000   \n",
       "3                 0.000000                     0.000000            0.000   \n",
       "4                 0.000000                     0.000000            0.000   \n",
       "\n",
       "   Vader_neu_score  Vader_pos_score  Vader_compound_score Emotions  \n",
       "0            0.845            0.108                0.7272     fear  \n",
       "1            1.000            0.000                0.0000  neutral  \n",
       "2            1.000            0.000                0.0000  neutral  \n",
       "3            1.000            0.000                0.0000      joy  \n",
       "4            1.000            0.000                0.0000  neutral  "
      ],
      "text/html": "<div>\n<style scoped>\n    .dataframe tbody tr th:only-of-type {\n        vertical-align: middle;\n    }\n\n    .dataframe tbody tr th {\n        vertical-align: top;\n    }\n\n    .dataframe thead th {\n        text-align: right;\n    }\n</style>\n<table border=\"1\" class=\"dataframe\">\n  <thead>\n    <tr style=\"text-align: right;\">\n      <th></th>\n      <th>index</th>\n      <th>Sentences</th>\n      <th>Comment Datetime</th>\n      <th>Textblob_polarity_score</th>\n      <th>Textblob_subjectivity_score</th>\n      <th>Vader_neg_score</th>\n      <th>Vader_neu_score</th>\n      <th>Vader_pos_score</th>\n      <th>Vader_compound_score</th>\n      <th>Emotions</th>\n    </tr>\n  </thead>\n  <tbody>\n    <tr>\n      <th>0</th>\n      <td>0</td>\n      <td>kuma-mon wrote: Because need to handle issues ...</td>\n      <td>3/2/21</td>\n      <td>0.061806</td>\n      <td>0.607176</td>\n      <td>0.046</td>\n      <td>0.845</td>\n      <td>0.108</td>\n      <td>0.7272</td>\n      <td>fear</td>\n    </tr>\n    <tr>\n      <th>1</th>\n      <td>1</td>\n      <td>You are not the only one.</td>\n      <td>3/2/21</td>\n      <td>0.000000</td>\n      <td>1.000000</td>\n      <td>0.000</td>\n      <td>1.000</td>\n      <td>0.000</td>\n      <td>0.0000</td>\n      <td>neutral</td>\n    </tr>\n    <tr>\n      <th>2</th>\n      <td>2</td>\n      <td>Some can even ki siao.</td>\n      <td>3/2/21</td>\n      <td>0.000000</td>\n      <td>0.000000</td>\n      <td>0.000</td>\n      <td>1.000</td>\n      <td>0.000</td>\n      <td>0.0000</td>\n      <td>neutral</td>\n    </tr>\n    <tr>\n      <th>3</th>\n      <td>3</td>\n      <td>If can, ask to go office to work.</td>\n      <td>3/2/21</td>\n      <td>0.000000</td>\n      <td>0.000000</td>\n      <td>0.000</td>\n      <td>1.000</td>\n      <td>0.000</td>\n      <td>0.0000</td>\n      <td>joy</td>\n    </tr>\n    <tr>\n      <th>4</th>\n      <td>4</td>\n      <td>If not, then have to make adjustment.</td>\n      <td>3/2/21</td>\n      <td>0.000000</td>\n      <td>0.000000</td>\n      <td>0.000</td>\n      <td>1.000</td>\n      <td>0.000</td>\n      <td>0.0000</td>\n      <td>neutral</td>\n    </tr>\n  </tbody>\n</table>\n</div>"
     },
     "metadata": {},
     "execution_count": 23
    }
   ],
   "source": [
    "cb_valuable_emotions.head()"
   ]
  },
  {
   "cell_type": "code",
   "execution_count": null,
   "metadata": {},
   "outputs": [],
   "source": [
    "fig = px.line(cb_valuable_emotions[[\"Emotions\", \"Comment Datetime\"]], \n",
    "    x=\"Comment Datetime\", \n",
    "    y=f\"{policy}\", \n",
    "    title=f'Popularity of \\'{policy}\\' in Google Search Singapore',\n",
    "    labels={\"date\":\"Date\", f\"{policy}\":\"Search popularity\"})\n",
    "fig.show()\n"
   ]
  }
 ]
}