{
 "metadata": {
  "language_info": {
   "codemirror_mode": {
    "name": "ipython",
    "version": 3
   },
   "file_extension": ".py",
   "mimetype": "text/x-python",
   "name": "python",
   "nbconvert_exporter": "python",
   "pygments_lexer": "ipython3",
   "version": "3.7.3-final"
  },
  "orig_nbformat": 2,
  "kernelspec": {
   "name": "python3",
   "display_name": "Python 3.7.3 64-bit (conda)",
   "metadata": {
    "interpreter": {
     "hash": "5f292722d6d50c2426abae6fd15a85386b49c5393ec98f1c35f79e4e4dd7448b"
    }
   }
  }
 },
 "nbformat": 4,
 "nbformat_minor": 2,
 "cells": [
  {
   "source": [
    "# Extracting comments for masks"
   ],
   "cell_type": "markdown",
   "metadata": {}
  },
  {
   "cell_type": "code",
   "execution_count": 1,
   "metadata": {},
   "outputs": [],
   "source": [
    "import pandas as pd "
   ]
  },
  {
   "cell_type": "code",
   "execution_count": 27,
   "metadata": {},
   "outputs": [],
   "source": [
    "#Getting Reddit mask comments \n",
    "df = pd.read_csv(\"C:/Users/user/Documents/GitHub/Covid-19-Singapore-Analysis/Data/Reddit Data/Cleaned Data/General search terms/Healthcare/masks.csv\")\n",
    "df.head()\n",
    "\n",
    "df.to_csv(\"C:/Users/user/Documents/GitHub/Covid-19-Singapore-Analysis/Data/Reddit Data/Cleaned Data/Policies/Combined/Mask_combined.csv\")"
   ]
  },
  {
   "cell_type": "code",
   "execution_count": 28,
   "metadata": {},
   "outputs": [
    {
     "output_type": "stream",
     "name": "stdout",
     "text": [
      "<class 'pandas.core.frame.DataFrame'>\nInt64Index: 225 entries, 0 to 21\nData columns (total 7 columns):\n #   Column      Non-Null Count  Dtype \n---  ------      --------------  ----- \n 0   Unnamed: 0  225 non-null    int64 \n 1   id          225 non-null    int64 \n 2   date        225 non-null    object\n 3   time        225 non-null    object\n 4   tweet       225 non-null    object\n 5   hashtags    225 non-null    object\n 6   num_words   225 non-null    int64 \ndtypes: int64(3), object(4)\nmemory usage: 14.1+ KB\n"
     ]
    }
   ],
   "source": [
    "#Getting Twitter mask comments  \n",
    "df1 = pd.read_csv(\"C:/Users/user/Documents/GitHub/Covid-19-Singapore-Analysis/Data/Twitter Data/Cleaned Data/General search terms/Healthcare/face_mask.csv\")\n",
    "df2 = pd.read_csv(\"C:/Users/user/Documents/GitHub/Covid-19-Singapore-Analysis/Data/Twitter Data/Cleaned Data/General search terms/Coronavirus/mask-wearing.csv\")\n",
    "\n",
    "twitter = [df1,df2]\n",
    "twitter_masks = pd.concat(twitter)\n",
    "\n",
    "twitter_masks.info()\n",
    "twitter_masks.to_csv(\"C:/Users/user/Documents/GitHub/Covid-19-Singapore-Analysis/Data/Twitter Data/Cleaned Data/Policies/Combined/Mask_combined.csv\")"
   ]
  },
  {
   "cell_type": "code",
   "execution_count": 29,
   "metadata": {},
   "outputs": [],
   "source": [
    "# Getting HWZ mask \n",
    "hwz = pd.read_csv(\"C:/Users/user/Documents/GitHub/Covid-19-Singapore-Analysis/Data/Hardwarezone Data/Cleaned Data/hwz_general_posts.csv\")\n",
    "hwz.head()\n",
    "\n",
    "mask_df = hwz[hwz[\"Comments\"].str.contains('mask|masks|mask wearing|face shield' , na=False)]\n",
    "mask_df.to_csv(\"C:/Users/user/Documents/GitHub/Covid-19-Singapore-Analysis/Data/Hardwarezone Data/Cleaned Data/hwz_masks_posts.csv\")"
   ]
  },
  {
   "cell_type": "code",
   "execution_count": 32,
   "metadata": {},
   "outputs": [],
   "source": [
    "# Getting Instagram mask\n",
    "path = \"C:/Users/user/Documents/GitHub/Covid-19-Singapore-Analysis/Data/Instagram Data/Cleaned Data/Policies/general comments\"\n",
    "path\n",
    "\n",
    "all_general = [filename for filename in os.listdir(path) if filename.endswith(\".csv\")]\n",
    "# all_general\n",
    "\n",
    "general = []\n",
    "for file in all_general:\n",
    "    df = pd.read_csv(f\"C:/Users/user/Documents/GitHub/Covid-19-Singapore-Analysis/Data/Instagram Data/Cleaned Data/Policies/general comments/{file}\")\n",
    "    general.append(df)\n",
    "\n",
    "ig_general = pd.concat(general)"
   ]
  },
  {
   "cell_type": "code",
   "execution_count": 36,
   "metadata": {},
   "outputs": [],
   "source": [
    "mask_df = ig_general[ig_general[\"Comments\"].str.contains('mask|masks|mask wearing|face shield' , na=False)]\n",
    "mask_df\n",
    "\n",
    "mask_df.to_csv(\"C:/Users/user/Documents/GitHub/Covid-19-Singapore-Analysis/Data/Instagram Data/Cleaned Data/Policies/Combined/masks_combined.csv\")"
   ]
  },
  {
   "source": [
    "# Extracting comments for Phases\n"
   ],
   "cell_type": "markdown",
   "metadata": {}
  },
  {
   "cell_type": "code",
   "execution_count": 41,
   "metadata": {},
   "outputs": [],
   "source": [
    "# Getting HWZ phases comments \n",
    "hwz = pd.read_csv(\"C:/Users/user/Documents/GitHub/Covid-19-Singapore-Analysis/Data/Hardwarezone Data/Cleaned Data/hwz_general_posts.csv\")\n",
    "hwz.head()\n",
    "\n",
    "phases_df = hwz[hwz[\"Comments\"].str.contains('phase 1|phase 2|phase 3|post-circuit breaker' , na=False)]\n",
    "phases_df.to_csv(\"C:/Users/user/Documents/GitHub/Covid-19-Singapore-Analysis/Data/Hardwarezone Data/Cleaned Data/hwz_phases_posts.csv\")"
   ]
  },
  {
   "cell_type": "code",
   "execution_count": 42,
   "metadata": {},
   "outputs": [],
   "source": [
    "# Getting Instagram phases comments\n",
    "path = \"C:/Users/user/Documents/GitHub/Covid-19-Singapore-Analysis/Data/Instagram Data/Cleaned Data/Policies/general comments\"\n",
    "path\n",
    "\n",
    "all_general = [filename for filename in os.listdir(path) if filename.endswith(\".csv\")]\n",
    "# all_general\n",
    "\n",
    "general = []\n",
    "for file in all_general:\n",
    "    df = pd.read_csv(f\"C:/Users/user/Documents/GitHub/Covid-19-Singapore-Analysis/Data/Instagram Data/Cleaned Data/Policies/general comments/{file}\")\n",
    "    general.append(df)\n",
    "\n",
    "ig_general = pd.concat(general)"
   ]
  },
  {
   "cell_type": "code",
   "execution_count": 45,
   "metadata": {},
   "outputs": [],
   "source": [
    "phases_df = ig_general[ig_general[\"Comments\"].str.contains('phase 1|phase 2|phase 3|post-circuit breaker' , na=False)]\n",
    "phases_df\n",
    "\n",
    "phases_df.to_csv(\"C:/Users/user/Documents/GitHub/Covid-19-Singapore-Analysis/Data/Instagram Data/Cleaned Data/Policies/Combined/phases_combined.csv\")"
   ]
  },
  {
   "source": [
    "# Extracting comments for SHN\n"
   ],
   "cell_type": "markdown",
   "metadata": {}
  },
  {
   "cell_type": "code",
   "execution_count": 46,
   "metadata": {},
   "outputs": [],
   "source": [
    "# Getting HWZ shn comments \n",
    "hwz = pd.read_csv(\"C:/Users/user/Documents/GitHub/Covid-19-Singapore-Analysis/Data/Hardwarezone Data/Cleaned Data/hwz_general_posts.csv\")\n",
    "hwz.head()\n",
    "\n",
    "shn_df = hwz[hwz[\"Comments\"].str.contains('stay home notice|stay-home-notice|shn|SHN' , na=False)]\n",
    "shn_df.to_csv(\"C:/Users/user/Documents/GitHub/Covid-19-Singapore-Analysis/Data/Hardwarezone Data/Cleaned Data/hwz_shn_posts.csv\")"
   ]
  },
  {
   "cell_type": "code",
   "execution_count": 47,
   "metadata": {},
   "outputs": [],
   "source": [
    "# Getting Instagram shn comments\n",
    "path = \"C:/Users/user/Documents/GitHub/Covid-19-Singapore-Analysis/Data/Instagram Data/Cleaned Data/Policies/general comments\"\n",
    "path\n",
    "\n",
    "all_general = [filename for filename in os.listdir(path) if filename.endswith(\".csv\")]\n",
    "# all_general\n",
    "\n",
    "general = []\n",
    "for file in all_general:\n",
    "    df = pd.read_csv(f\"C:/Users/user/Documents/GitHub/Covid-19-Singapore-Analysis/Data/Instagram Data/Cleaned Data/Policies/general comments/{file}\")\n",
    "    general.append(df)\n",
    "\n",
    "ig_general = pd.concat(general)"
   ]
  },
  {
   "cell_type": "code",
   "execution_count": 49,
   "metadata": {},
   "outputs": [],
   "source": [
    "shn_df = ig_general[ig_general[\"Comments\"].str.contains('stay home notice|stay-home-notice|shn|SHN' , na=False)]\n",
    "shn_df\n",
    "\n",
    "shn_df.to_csv(\"C:/Users/user/Documents/GitHub/Covid-19-Singapore-Analysis/Data/Instagram Data/Cleaned Data/Policies/Combined/shn_combined.csv\")"
   ]
  }
 ]
}