{
 "metadata": {
  "language_info": {
   "codemirror_mode": {
    "name": "ipython",
    "version": 3
   },
   "file_extension": ".py",
   "mimetype": "text/x-python",
   "name": "python",
   "nbconvert_exporter": "python",
   "pygments_lexer": "ipython3",
   "version": "3.7.3-final"
  },
  "orig_nbformat": 2,
  "kernelspec": {
   "name": "python3",
   "display_name": "Python 3.7.3 64-bit (conda)",
   "metadata": {
    "interpreter": {
     "hash": "5f292722d6d50c2426abae6fd15a85386b49c5393ec98f1c35f79e4e4dd7448b"
    }
   }
  }
 },
 "nbformat": 4,
 "nbformat_minor": 2,
 "cells": [
  {
   "cell_type": "code",
   "execution_count": 1,
   "metadata": {},
   "outputs": [],
   "source": [
    "import pandas as pd "
   ]
  },
  {
   "cell_type": "code",
   "execution_count": 8,
   "metadata": {},
   "outputs": [],
   "source": [
    "#Getting Reddit mask comments \n",
    "df = pd.read_csv(\"C:/Users/user/Documents/GitHub/Covid-19-Singapore-Analysis/Data/Reddit Data/Cleaned Data/General search terms/Healthcare/masks.csv\")\n",
    "df.head()\n",
    "\n",
    "df.to_csv(\"C:/Users/user/Documents/GitHub/Covid-19-Singapore-Analysis/Data/Reddit Data/Cleaned Data/Policies/Combined/Mask_combined.csv\")"
   ]
  },
  {
   "cell_type": "code",
   "execution_count": 19,
   "metadata": {},
   "outputs": [
    {
     "output_type": "stream",
     "name": "stdout",
     "text": [
      "<class 'pandas.core.frame.DataFrame'>\nInt64Index: 225 entries, 0 to 21\nData columns (total 7 columns):\n #   Column      Non-Null Count  Dtype \n---  ------      --------------  ----- \n 0   Unnamed: 0  225 non-null    int64 \n 1   id          225 non-null    int64 \n 2   date        225 non-null    object\n 3   time        225 non-null    object\n 4   tweet       225 non-null    object\n 5   hashtags    225 non-null    object\n 6   num_words   225 non-null    int64 \ndtypes: int64(3), object(4)\nmemory usage: 14.1+ KB\n"
     ]
    }
   ],
   "source": [
    "#Getting Twitter mask comments  \n",
    "df1 = pd.read_csv(\"C:/Users/user/Documents/GitHub/Covid-19-Singapore-Analysis/Data/Twitter Data/Cleaned Data/General search terms/Healthcare/face_mask.csv\")\n",
    "df2 = pd.read_csv(\"C:/Users/user/Documents/GitHub/Covid-19-Singapore-Analysis/Data/Twitter Data/Cleaned Data/General search terms/Coronavirus/mask-wearing.csv\")\n",
    "\n",
    "twitter = [df1,df2]\n",
    "twitter_masks = pd.concat(twitter)\n",
    "\n",
    "twitter_masks.info()\n",
    "twitter_masks.to_csv(\"C:/Users/user/Documents/GitHub/Covid-19-Singapore-Analysis/Data/Twitter Data/Cleaned Data/Policies/Combined/Mask_combined.csv\")"
   ]
  },
  {
   "cell_type": "code",
   "execution_count": 27,
   "metadata": {},
   "outputs": [],
   "source": [
    "# Getting HWZ mask \n",
    "hwz = pd.read_csv(\"C:/Users/user/Documents/GitHub/Covid-19-Singapore-Analysis/Data/Hardwarezone Data/Cleaned Data/hwz_general_posts.csv\")\n",
    "hwz.head()\n",
    "\n",
    "mask_df = hwz[hwz[\"Comments\"].str.contains('mask|masks|mask wearing|face shield' , na=False)]\n",
    "mask_df.to_csv(\"C:/Users/user/Documents/GitHub/Covid-19-Singapore-Analysis/Data/Hardwarezone Data/Cleaned Data/hwz_masks_posts.csv\")"
   ]
  },
  {
   "cell_type": "code",
   "execution_count": 33,
   "metadata": {},
   "outputs": [
    {
     "output_type": "execute_result",
     "data": {
      "text/plain": [
       "['general_comments.csv',\n",
       " 'lawrencewong_general_comments.csv',\n",
       " 'lhl_general_comments.csv',\n",
       " 'mothership_general_comments.csv',\n",
       " 'ST_general_comments.csv',\n",
       " 'sweekeat_general_comments.csv',\n",
       " 'today_general_comments.csv',\n",
       " 'vivian_general_comments.csv',\n",
       " 'yekung_general_comments.csv']"
      ]
     },
     "metadata": {},
     "execution_count": 33
    }
   ],
   "source": [
    "# Getting Instagram mask\n",
    "path = \"C:/Users/user/Documents/GitHub/Covid-19-Singapore-Analysis/Data/Instagram Data/Cleaned Data/Final/Policies/general comments\"\n",
    "path\n",
    "\n",
    "all_general = [filename for filename in os.listdir(path) if filename.endswith(\".csv\")]\n",
    "all_general"
   ]
  },
  {
   "cell_type": "code",
   "execution_count": 54,
   "metadata": {},
   "outputs": [
    {
     "output_type": "execute_result",
     "data": {
      "text/plain": [
       "     Unnamed: 0                                   Post Description  \\\n",
       "0             0  your covid-19 questions answered:\\r\\n \\r\\ndoes...   \n",
       "1             1  your covid-19 questions answered:\\r\\n \\r\\ndoes...   \n",
       "2             5  your covid-19 questions answered:\\r\\n \\r\\nwill...   \n",
       "3             6  your covid-19 questions answered:\\r\\n \\r\\nwill...   \n",
       "4            16  wondering what it's like to take your covid-19...   \n",
       "..          ...                                                ...   \n",
       "265         514  This is the â€œhealth certificateâ€ that may ...   \n",
       "266         516  This is the â€œhealth certificateâ€ that may ...   \n",
       "267         522  Phase 3 announced, vaccines in transit. Steps ...   \n",
       "268         524  Phase 3 announced, vaccines in transit. Steps ...   \n",
       "269         525  Phase 3 announced, vaccines in transit. Steps ...   \n",
       "\n",
       "                 Post Datetime  \\\n",
       "0    2021-02-22 09:30:53+00:00   \n",
       "1    2021-02-22 09:30:53+00:00   \n",
       "2    2021-02-18 09:30:53+00:00   \n",
       "3    2021-02-18 09:30:53+00:00   \n",
       "4    2021-02-15 12:24:20+00:00   \n",
       "..                         ...   \n",
       "265  2020-12-23 04:31:51+00:00   \n",
       "266  2020-12-23 04:31:51+00:00   \n",
       "267  2020-12-15 09:09:51+00:00   \n",
       "268  2020-12-15 09:09:51+00:00   \n",
       "269  2020-12-15 09:09:51+00:00   \n",
       "\n",
       "                                              Comments  \\\n",
       "0    When I went on the appointed date and time to ...   \n",
       "1    Vax does not prevent you from being a carrier ...   \n",
       "2          I m SG citizen, when will I get my vaccine?   \n",
       "3    how about the 72 year old who got heart attack...   \n",
       "4    wow this is so cool and inspiring for the grow...   \n",
       "..                                                 ...   \n",
       "265  You need a handphone to access for it. If no h...   \n",
       "266  Is the answer to every problem now an app?? Wh...   \n",
       "267                   Thank you sir for the efforts 💪👍   \n",
       "268  Thank you Minister Ong! Appreciate all that yo...   \n",
       "269  Honeslty, this is pretty smart, having a physi...   \n",
       "\n",
       "              Comment Datetime  num_words  \n",
       "0    2021-02-22 11:15:16+00:00         63  \n",
       "1    2021-02-22 15:51:03+00:00         47  \n",
       "2    2021-02-18 13:55:23+00:00         10  \n",
       "3    2021-02-19 05:49:15+00:00         17  \n",
       "4    2021-02-16 05:50:58+00:00         11  \n",
       "..                         ...        ...  \n",
       "265  2020-12-23 08:16:52+00:00         16  \n",
       "266  2020-12-23 11:51:27+00:00         24  \n",
       "267  2020-12-15 23:24:30+00:00          6  \n",
       "268  2020-12-16 08:42:47+00:00         11  \n",
       "269  2020-12-16 11:05:26+00:00         35  \n",
       "\n",
       "[8407 rows x 6 columns]"
      ],
      "text/html": "<div>\n<style scoped>\n    .dataframe tbody tr th:only-of-type {\n        vertical-align: middle;\n    }\n\n    .dataframe tbody tr th {\n        vertical-align: top;\n    }\n\n    .dataframe thead th {\n        text-align: right;\n    }\n</style>\n<table border=\"1\" class=\"dataframe\">\n  <thead>\n    <tr style=\"text-align: right;\">\n      <th></th>\n      <th>Unnamed: 0</th>\n      <th>Post Description</th>\n      <th>Post Datetime</th>\n      <th>Comments</th>\n      <th>Comment Datetime</th>\n      <th>num_words</th>\n    </tr>\n  </thead>\n  <tbody>\n    <tr>\n      <th>0</th>\n      <td>0</td>\n      <td>your covid-19 questions answered:\\r\\n \\r\\ndoes...</td>\n      <td>2021-02-22 09:30:53+00:00</td>\n      <td>When I went on the appointed date and time to ...</td>\n      <td>2021-02-22 11:15:16+00:00</td>\n      <td>63</td>\n    </tr>\n    <tr>\n      <th>1</th>\n      <td>1</td>\n      <td>your covid-19 questions answered:\\r\\n \\r\\ndoes...</td>\n      <td>2021-02-22 09:30:53+00:00</td>\n      <td>Vax does not prevent you from being a carrier ...</td>\n      <td>2021-02-22 15:51:03+00:00</td>\n      <td>47</td>\n    </tr>\n    <tr>\n      <th>2</th>\n      <td>5</td>\n      <td>your covid-19 questions answered:\\r\\n \\r\\nwill...</td>\n      <td>2021-02-18 09:30:53+00:00</td>\n      <td>I m SG citizen, when will I get my vaccine?</td>\n      <td>2021-02-18 13:55:23+00:00</td>\n      <td>10</td>\n    </tr>\n    <tr>\n      <th>3</th>\n      <td>6</td>\n      <td>your covid-19 questions answered:\\r\\n \\r\\nwill...</td>\n      <td>2021-02-18 09:30:53+00:00</td>\n      <td>how about the 72 year old who got heart attack...</td>\n      <td>2021-02-19 05:49:15+00:00</td>\n      <td>17</td>\n    </tr>\n    <tr>\n      <th>4</th>\n      <td>16</td>\n      <td>wondering what it's like to take your covid-19...</td>\n      <td>2021-02-15 12:24:20+00:00</td>\n      <td>wow this is so cool and inspiring for the grow...</td>\n      <td>2021-02-16 05:50:58+00:00</td>\n      <td>11</td>\n    </tr>\n    <tr>\n      <th>...</th>\n      <td>...</td>\n      <td>...</td>\n      <td>...</td>\n      <td>...</td>\n      <td>...</td>\n      <td>...</td>\n    </tr>\n    <tr>\n      <th>265</th>\n      <td>514</td>\n      <td>This is the â€œhealth certificateâ€ that may ...</td>\n      <td>2020-12-23 04:31:51+00:00</td>\n      <td>You need a handphone to access for it. If no h...</td>\n      <td>2020-12-23 08:16:52+00:00</td>\n      <td>16</td>\n    </tr>\n    <tr>\n      <th>266</th>\n      <td>516</td>\n      <td>This is the â€œhealth certificateâ€ that may ...</td>\n      <td>2020-12-23 04:31:51+00:00</td>\n      <td>Is the answer to every problem now an app?? Wh...</td>\n      <td>2020-12-23 11:51:27+00:00</td>\n      <td>24</td>\n    </tr>\n    <tr>\n      <th>267</th>\n      <td>522</td>\n      <td>Phase 3 announced, vaccines in transit. Steps ...</td>\n      <td>2020-12-15 09:09:51+00:00</td>\n      <td>Thank you sir for the efforts 💪👍</td>\n      <td>2020-12-15 23:24:30+00:00</td>\n      <td>6</td>\n    </tr>\n    <tr>\n      <th>268</th>\n      <td>524</td>\n      <td>Phase 3 announced, vaccines in transit. Steps ...</td>\n      <td>2020-12-15 09:09:51+00:00</td>\n      <td>Thank you Minister Ong! Appreciate all that yo...</td>\n      <td>2020-12-16 08:42:47+00:00</td>\n      <td>11</td>\n    </tr>\n    <tr>\n      <th>269</th>\n      <td>525</td>\n      <td>Phase 3 announced, vaccines in transit. Steps ...</td>\n      <td>2020-12-15 09:09:51+00:00</td>\n      <td>Honeslty, this is pretty smart, having a physi...</td>\n      <td>2020-12-16 11:05:26+00:00</td>\n      <td>35</td>\n    </tr>\n  </tbody>\n</table>\n<p>8407 rows × 6 columns</p>\n</div>"
     },
     "metadata": {},
     "execution_count": 54
    }
   ],
   "source": [
    "general = []\n",
    "for file in all_general:\n",
    "    df = pd.read_csv(f\"C:/Users/user/Documents/GitHub/Covid-19-Singapore-Analysis/Data/Instagram Data/Cleaned Data/Final/Policies/general comments/{file}\")\n",
    "    general.append(df)\n",
    "\n",
    "ig_general = pd.concat(general)\n",
    "# ig_general"
   ]
  },
  {
   "cell_type": "code",
   "execution_count": 56,
   "metadata": {},
   "outputs": [],
   "source": [
    "mask_df = ig_general[ig_general[\"Comments\"].str.contains('mask|masks|mask wearing|face shield' , na=False)]\n",
    "mask_df\n",
    "\n",
    "mask_df.to_csv(\"C:/Users/user/Documents/GitHub/Covid-19-Singapore-Analysis/Data/Instagram Data/Cleaned Data/Final/Policies/Combined/masks_combined.csv\")"
   ]
  }
 ]
}