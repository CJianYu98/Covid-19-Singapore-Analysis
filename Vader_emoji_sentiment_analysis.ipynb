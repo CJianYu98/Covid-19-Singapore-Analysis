{
 "metadata": {
  "language_info": {
   "codemirror_mode": {
    "name": "ipython",
    "version": 3
   },
   "file_extension": ".py",
   "mimetype": "text/x-python",
   "name": "python",
   "nbconvert_exporter": "python",
   "pygments_lexer": "ipython3",
   "version": "3.9.0-final"
  },
  "orig_nbformat": 2,
  "kernelspec": {
   "name": "python3",
   "display_name": "Python 3.9.0 64-bit",
   "metadata": {
    "interpreter": {
     "hash": "7812ea015bdcee6f23a998adcdd2ef97c151c0c241b7b7070987d9313e41299d"
    }
   }
  }
 },
 "nbformat": 4,
 "nbformat_minor": 2,
 "cells": [
  {
   "cell_type": "code",
   "execution_count": 38,
   "metadata": {},
   "outputs": [],
   "source": [
    "import pandas as pd\n",
    "import numpy as np\n",
    "import re\n",
    "import os\n",
    "from nltk.tokenize import word_tokenize\n",
    "from nltk.corpus import stopwords\n",
    "from nltk.stem.porter import *\n",
    "import datetime\n",
    "import emoji\n",
    "from vaderSentiment.vaderSentiment import SentimentIntensityAnalyzer\n",
    "from text_processing_functions import *"
   ]
  },
  {
   "cell_type": "code",
   "execution_count": 39,
   "metadata": {},
   "outputs": [],
   "source": [
    "analyser = SentimentIntensityAnalyzer()"
   ]
  },
  {
   "cell_type": "code",
   "execution_count": 40,
   "metadata": {},
   "outputs": [
    {
     "output_type": "execute_result",
     "data": {
      "text/plain": [
       "['safe_distancing.csv',\n",
       " 'safe_entry.csv',\n",
       " 'circuit_breaker.csv',\n",
       " 'panic_buying.csv',\n",
       " 'Tracetogether.csv',\n",
       " 'stay_home_notice.csv',\n",
       " 'vaccination.csv',\n",
       " 'covid-19.csv']"
      ]
     },
     "metadata": {},
     "execution_count": 40
    }
   ],
   "source": [
    "mypath = \".\"\n",
    "folder_name='Twitter Data/Cleaned Data'\n",
    "file_path = f'{mypath}/{folder_name}/'\n",
    "files = [filename for filename in os.listdir(file_path) if filename.endswith('.csv')]\n",
    "files"
   ]
  },
  {
   "cell_type": "code",
   "execution_count": 41,
   "metadata": {},
   "outputs": [],
   "source": [
    "tweets_file = 'stay_home_notice.csv'\n",
    "tweets = pd.read_csv(f'{file_path}{tweets_file}')\n",
    "\n",
    "decoded_emoji_sentiment_scores = []\n",
    "tweet_sentiment_scores = []"
   ]
  },
  {
   "cell_type": "code",
   "execution_count": 42,
   "metadata": {},
   "outputs": [
    {
     "output_type": "execute_result",
     "data": {
      "text/plain": [
       "Index(['Unnamed: 0', 'id', 'conversation_id', 'date', 'time', 'user_id',\n",
       "       'username', 'name', 'place', 'tweet', 'language', 'mentions', 'urls',\n",
       "       'photos', 'replies_count', 'retweets_count', 'likes_count', 'hashtags',\n",
       "       'link', 'video', 'reply_to', 'processed_tweets',\n",
       "       'emoji_decoded_tweets'],\n",
       "      dtype='object')"
      ]
     },
     "metadata": {},
     "execution_count": 42
    }
   ],
   "source": [
    "tweets.columns"
   ]
  },
  {
   "cell_type": "code",
   "execution_count": 43,
   "metadata": {},
   "outputs": [],
   "source": [
    "for i in range(len(tweets)): \n",
    "    decoded_emoji_sentiment_scores.append(analyser.polarity_scores(tweets.iloc[i]['emoji_decoded_tweets']))\n",
    "    tweet_sentiment_scores.append(analyser.polarity_scores(tweets.iloc[i]['tweet']))\n",
    "\n",
    "tweets['Vader_decoded_emoji_sentiment_score'] = decoded_emoji_sentiment_scores\n",
    "tweets['Vader_tweet_sentiment_score'] = tweet_sentiment_scores"
   ]
  },
  {
   "cell_type": "code",
   "execution_count": 45,
   "metadata": {},
   "outputs": [
    {
     "output_type": "execute_result",
     "data": {
      "text/plain": [
       "0     {'neg': 0.0, 'neu': 1.0, 'pos': 0.0, 'compound...\n",
       "1     {'neg': 0.0, 'neu': 1.0, 'pos': 0.0, 'compound...\n",
       "2     {'neg': 0.0, 'neu': 0.942, 'pos': 0.058, 'comp...\n",
       "3     {'neg': 0.0, 'neu': 0.883, 'pos': 0.117, 'comp...\n",
       "4     {'neg': 0.0, 'neu': 0.932, 'pos': 0.068, 'comp...\n",
       "                            ...                        \n",
       "63    {'neg': 0.0, 'neu': 1.0, 'pos': 0.0, 'compound...\n",
       "64    {'neg': 0.147, 'neu': 0.853, 'pos': 0.0, 'comp...\n",
       "65    {'neg': 0.033, 'neu': 0.926, 'pos': 0.041, 'co...\n",
       "66    {'neg': 0.161, 'neu': 0.839, 'pos': 0.0, 'comp...\n",
       "67    {'neg': 0.0, 'neu': 1.0, 'pos': 0.0, 'compound...\n",
       "Name: Vader_decoded_emoji_sentiment_score, Length: 68, dtype: object"
      ]
     },
     "metadata": {},
     "execution_count": 45
    }
   ],
   "source": [
    "tweets['Vader_decoded_emoji_sentiment_score']"
   ]
  },
  {
   "cell_type": "code",
   "execution_count": 46,
   "metadata": {},
   "outputs": [
    {
     "output_type": "execute_result",
     "data": {
      "text/plain": [
       "0     {'neg': 0.108, 'neu': 0.765, 'pos': 0.127, 'co...\n",
       "1     {'neg': 0.0, 'neu': 1.0, 'pos': 0.0, 'compound...\n",
       "2     {'neg': 0.0, 'neu': 0.942, 'pos': 0.058, 'comp...\n",
       "3     {'neg': 0.0, 'neu': 0.883, 'pos': 0.117, 'comp...\n",
       "4     {'neg': 0.054, 'neu': 0.884, 'pos': 0.062, 'co...\n",
       "                            ...                        \n",
       "63    {'neg': 0.112, 'neu': 0.688, 'pos': 0.199, 'co...\n",
       "64    {'neg': 0.147, 'neu': 0.853, 'pos': 0.0, 'comp...\n",
       "65    {'neg': 0.033, 'neu': 0.926, 'pos': 0.041, 'co...\n",
       "66    {'neg': 0.161, 'neu': 0.839, 'pos': 0.0, 'comp...\n",
       "67    {'neg': 0.0, 'neu': 1.0, 'pos': 0.0, 'compound...\n",
       "Name: Vader_tweet_sentiment_score, Length: 68, dtype: object"
      ]
     },
     "metadata": {},
     "execution_count": 46
    }
   ],
   "source": [
    "tweets['Vader_tweet_sentiment_score']"
   ]
  },
  {
   "cell_type": "code",
   "execution_count": 47,
   "metadata": {},
   "outputs": [],
   "source": [
    "tweets.to_csv(f'{file_path}emoji_sentiment.csv')"
   ]
  },
  {
   "cell_type": "code",
   "execution_count": null,
   "metadata": {},
   "outputs": [],
   "source": []
  }
 ]
}