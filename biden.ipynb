{
 "metadata": {
  "language_info": {
   "codemirror_mode": {
    "name": "ipython",
    "version": 3
   },
   "file_extension": ".py",
   "mimetype": "text/x-python",
   "name": "python",
   "nbconvert_exporter": "python",
   "pygments_lexer": "ipython3",
   "version": "3.9.0-final"
  },
  "orig_nbformat": 2,
  "kernelspec": {
   "name": "python3",
   "display_name": "Python 3.9.0 64-bit",
   "metadata": {
    "interpreter": {
     "hash": "7812ea015bdcee6f23a998adcdd2ef97c151c0c241b7b7070987d9313e41299d"
    }
   }
  }
 },
 "nbformat": 4,
 "nbformat_minor": 2,
 "cells": [
  {
   "cell_type": "code",
   "execution_count": 1,
   "metadata": {},
   "outputs": [],
   "source": [
    "import json\n",
    "from json import JSONDecoder\n",
    "import pandas as pd\n",
    "import re"
   ]
  },
  {
   "cell_type": "code",
   "execution_count": 2,
   "metadata": {
    "tags": []
   },
   "outputs": [],
   "source": [
    "tweet_list = []\n",
    "\n",
    "for line in open('biden.json', 'r'):\n",
    "    line_split = line.strip('\\n').split(' <JoeBiden> ')\n",
    "    line_split[0] = line_split[0].split(' ')\n",
    "    line_split[0].append(line_split[1])\n",
    "    tweet_list.append(line_split[0])"
   ]
  },
  {
   "cell_type": "code",
   "execution_count": 3,
   "metadata": {},
   "outputs": [
    {
     "output_type": "execute_result",
     "data": {
      "text/plain": [
       "['1351731172989050882',\n",
       " '2021-01-20',\n",
       " '11:20:00',\n",
       " '+0800',\n",
       " 'Tonight, in Washington, D.C. and across the nation, we came together to honor the over 400,000 Americans we’ve lost to COVID-19. The last year has tested us in unimaginable ways, but now it’s time we begin to heal and overcome — together.  https://t.co/DuWhN1xjNO']"
      ]
     },
     "metadata": {},
     "execution_count": 3
    }
   ],
   "source": [
    "tweet_list[0]"
   ]
  },
  {
   "cell_type": "code",
   "execution_count": 4,
   "metadata": {},
   "outputs": [],
   "source": [
    "biden_df = pd.DataFrame(tweet_list ,columns=['ID', 'Date', 'Time', 'TimeZone', 'Tweets'])"
   ]
  },
  {
   "cell_type": "code",
   "execution_count": 5,
   "metadata": {},
   "outputs": [
    {
     "output_type": "execute_result",
     "data": {
      "text/plain": [
       "                    ID        Date      Time TimeZone  \\\n",
       "0  1351731172989050882  2021-01-20  11:20:00    +0800   \n",
       "1  1351653131248041984  2021-01-20  06:09:53    +0800   \n",
       "2  1349563892087869442  2021-01-14  11:48:00    +0800   \n",
       "3  1348763039160532992  2021-01-12  06:45:41    +0800   \n",
       "4  1344021093321826305  2020-12-30  04:42:54    +0800   \n",
       "\n",
       "                                              Tweets  \n",
       "0  Tonight, in Washington, D.C. and across the na...  \n",
       "1  Join us for a national moment of unity and rem...  \n",
       "2  We’re in the teeth of this crisis, and we need...  \n",
       "3  Folks, I just received the second dose of my C...  \n",
       "4  Tune in as I deliver remarks on the ongoing CO...  "
      ],
      "text/html": "<div>\n<style scoped>\n    .dataframe tbody tr th:only-of-type {\n        vertical-align: middle;\n    }\n\n    .dataframe tbody tr th {\n        vertical-align: top;\n    }\n\n    .dataframe thead th {\n        text-align: right;\n    }\n</style>\n<table border=\"1\" class=\"dataframe\">\n  <thead>\n    <tr style=\"text-align: right;\">\n      <th></th>\n      <th>ID</th>\n      <th>Date</th>\n      <th>Time</th>\n      <th>TimeZone</th>\n      <th>Tweets</th>\n    </tr>\n  </thead>\n  <tbody>\n    <tr>\n      <th>0</th>\n      <td>1351731172989050882</td>\n      <td>2021-01-20</td>\n      <td>11:20:00</td>\n      <td>+0800</td>\n      <td>Tonight, in Washington, D.C. and across the na...</td>\n    </tr>\n    <tr>\n      <th>1</th>\n      <td>1351653131248041984</td>\n      <td>2021-01-20</td>\n      <td>06:09:53</td>\n      <td>+0800</td>\n      <td>Join us for a national moment of unity and rem...</td>\n    </tr>\n    <tr>\n      <th>2</th>\n      <td>1349563892087869442</td>\n      <td>2021-01-14</td>\n      <td>11:48:00</td>\n      <td>+0800</td>\n      <td>We’re in the teeth of this crisis, and we need...</td>\n    </tr>\n    <tr>\n      <th>3</th>\n      <td>1348763039160532992</td>\n      <td>2021-01-12</td>\n      <td>06:45:41</td>\n      <td>+0800</td>\n      <td>Folks, I just received the second dose of my C...</td>\n    </tr>\n    <tr>\n      <th>4</th>\n      <td>1344021093321826305</td>\n      <td>2020-12-30</td>\n      <td>04:42:54</td>\n      <td>+0800</td>\n      <td>Tune in as I deliver remarks on the ongoing CO...</td>\n    </tr>\n  </tbody>\n</table>\n</div>"
     },
     "metadata": {},
     "execution_count": 5
    }
   ],
   "source": [
    "biden_df.head()"
   ]
  },
  {
   "cell_type": "code",
   "execution_count": 3,
   "metadata": {},
   "outputs": [
    {
     "output_type": "execute_result",
     "data": {
      "text/plain": [
       "'Tonight, in Washington, D.C. and across the nation, we came together to honor the over 400,000 Americans we’ve lost to COVID-19. The last year has tested us in unimaginable ways, bu  t now it’s time we begin to heal and overcome — together.  '"
      ]
     },
     "metadata": {},
     "execution_count": 3
    }
   ],
   "source": [
    "x = 'Tonight, in Washington, D.C. and across the nation, we came together to honor the over 400,000 Americans we’ve lost to COVID-19. The last year has tested us in unimaginable ways, but now it’s time we begin to heal and overcome — together.  '\n",
    "\n",
    "output = re.sub(r\"http\\S+\", \"\", x)\n",
    "\n",
    "output"
   ]
  },
  {
   "cell_type": "code",
   "execution_count": null,
   "metadata": {},
   "outputs": [],
   "source": []
  }
 ]
}