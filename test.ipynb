{
 "metadata": {
  "language_info": {
   "codemirror_mode": {
    "name": "ipython",
    "version": 3
   },
   "file_extension": ".py",
   "mimetype": "text/x-python",
   "name": "python",
   "nbconvert_exporter": "python",
   "pygments_lexer": "ipython3",
   "version": "3.9.0-final"
  },
  "orig_nbformat": 2,
  "kernelspec": {
   "name": "python3",
   "display_name": "Python 3.9.0 64-bit",
   "metadata": {
    "interpreter": {
     "hash": "7812ea015bdcee6f23a998adcdd2ef97c151c0c241b7b7070987d9313e41299d"
    }
   }
  }
 },
 "nbformat": 4,
 "nbformat_minor": 2,
 "cells": [
  {
   "cell_type": "code",
   "execution_count": 1,
   "metadata": {},
   "outputs": [],
   "source": [
    "import pandas as pd\n",
    "import nltk\n",
    "from textblob import TextBlob\n",
    "import os"
   ]
  },
  {
   "cell_type": "code",
   "execution_count": null,
   "metadata": {},
   "outputs": [],
   "source": [
    "folder_path = 'folder_path'\n",
    "\n",
    "df_list = []\n",
    "\n",
    "for file in os.listdir(folder_path):\n",
    "    df = pd.read_csv(file)\n",
    "\n",
    "    df_list.append(df)\n",
    "\n",
    " output = pd.concat(df_list)\n",
    "\n",
    " output.to_csv('path') "
   ]
  },
  {
   "cell_type": "code",
   "execution_count": 49,
   "metadata": {},
   "outputs": [],
   "source": [
    "import re\n",
    "text_split = re.split(\"\\\\', \\\\'\", text)"
   ]
  },
  {
   "cell_type": "code",
   "execution_count": 54,
   "metadata": {},
   "outputs": [
    {
     "output_type": "execute_result",
     "data": {
      "text/plain": [
       "'Is the vaccine out already?\\', \"She doesn\\'t look like she wants to do this...\", \"Mine\\'s coming soon ! We need 60% vaccination to have herd immunity. let do it!\", \\'Lol'"
      ]
     },
     "metadata": {},
     "execution_count": 54
    }
   ],
   "source": [
    "text_split[-1]"
   ]
  },
  {
   "cell_type": "code",
   "execution_count": 6,
   "metadata": {},
   "outputs": [],
   "source": [
    "path = './Data/Facebook Data/Cleaned Data/fb_merged_data.csv'\n",
    "folders = [folder for folder in os.listdir(path) if folder != '.DS_Store']"
   ]
  },
  {
   "cell_type": "code",
   "execution_count": 8,
   "metadata": {},
   "outputs": [],
   "source": [
    "for folder in folders:\n",
    "    files = [file for file in os.listdir(f'{path}/{folder}') if file.endswith('.csv') and file != '.DS_Store']\n",
    "\n",
    "    for file in files:\n",
    "        df = pd.read_csv(f'{path}/{folder}/{file}')\n",
    "        "
   ]
  },
  {
   "cell_type": "code",
   "execution_count": 5,
   "metadata": {},
   "outputs": [],
   "source": [
    "df = pd.read_csv('./Data/Facebook Data/Cleaned Data/fb_merged_data.csv')"
   ]
  },
  {
   "cell_type": "code",
   "execution_count": 12,
   "metadata": {},
   "outputs": [
    {
     "output_type": "execute_result",
     "data": {
      "text/plain": [
       "Timestamp('2021-06-02 10:00:00')"
      ]
     },
     "metadata": {},
     "execution_count": 12
    }
   ],
   "source": [
    "df['date'][]"
   ]
  },
  {
   "cell_type": "code",
   "execution_count": 9,
   "metadata": {},
   "outputs": [],
   "source": [
    "df['date'] = pd.to_datetime(df['date'], infer_datetime_format=True)"
   ]
  },
  {
   "cell_type": "code",
   "execution_count": 10,
   "metadata": {},
   "outputs": [
    {
     "output_type": "execute_result",
     "data": {
      "text/plain": [
       "Timestamp('2021-06-02 10:00:00')"
      ]
     },
     "metadata": {},
     "execution_count": 10
    }
   ],
   "source": [
    "df['date'][0]"
   ]
  },
  {
   "cell_type": "code",
   "execution_count": null,
   "metadata": {},
   "outputs": [],
   "source": []
  },
  {
   "cell_type": "code",
   "execution_count": null,
   "metadata": {},
   "outputs": [],
   "source": []
  },
  {
   "source": [
    "# Train suggestion labelled data"
   ],
   "cell_type": "markdown",
   "metadata": {}
  },
  {
   "cell_type": "code",
   "execution_count": 31,
   "metadata": {},
   "outputs": [],
   "source": [
    "import pandas as pd\n",
    "import numpy as np\n",
    "import nltk\n",
    "from nltk.corpus import PlaintextCorpusReader\n",
    "from nltk.corpus import stopwords\n",
    "from nltk.stem.porter import *\n",
    "import gensim\n",
    "from gensim import corpora\n",
    "import re"
   ]
  },
  {
   "cell_type": "code",
   "execution_count": 3,
   "metadata": {},
   "outputs": [],
   "source": [
    "df = pd.read_excel('/Users/chenjianyu/Desktop/Y2S2/SMT203 Computational Social Sci/Covid-19-Singapore-Analysis/Data/Suggestion Labelled Data/Suggestions_Student_labelled.xlsx', engine='openpyxl')"
   ]
  },
  {
   "cell_type": "code",
   "execution_count": 6,
   "metadata": {},
   "outputs": [],
   "source": [
    "df.drop(\"Unnamed: 2\", inplace=True, axis=1)"
   ]
  },
  {
   "cell_type": "code",
   "execution_count": 14,
   "metadata": {},
   "outputs": [],
   "source": [
    "df.replace({'Suggestion': {'Y': 1, np.nan: 0}}, inplace=True)"
   ]
  },
  {
   "cell_type": "code",
   "execution_count": 22,
   "metadata": {},
   "outputs": [
    {
     "output_type": "execute_result",
     "data": {
      "text/plain": [
       "<_io.TextIOWrapper name='/Users/chenjianyu/Desktop/Y2S2/SMT203 Computational Social Sci/Covid-19-Singapore-Analysis/Data/Suggestion Labelled Data/suggestions.txt' mode='x' encoding='UTF-8'>"
      ]
     },
     "metadata": {},
     "execution_count": 22
    }
   ],
   "source": [
    "open('/Users/chenjianyu/Desktop/Y2S2/SMT203 Computational Social Sci/Covid-19-Singapore-Analysis/Data/Suggestion Labelled Data/suggestions.txt', \"x\")"
   ]
  },
  {
   "cell_type": "code",
   "execution_count": 23,
   "metadata": {},
   "outputs": [],
   "source": [
    "with open('/Users/chenjianyu/Desktop/Y2S2/SMT203 Computational Social Sci/Covid-19-Singapore-Analysis/Data/Suggestion Labelled Data/suggestions.txt', 'a') as f:\n",
    "\n",
    "    for row in df['Comment']:\n",
    "        f.write(str(row) + '\\n')"
   ]
  },
  {
   "cell_type": "code",
   "execution_count": 24,
   "metadata": {},
   "outputs": [],
   "source": [
    "corpus = PlaintextCorpusReader('/Users/chenjianyu/Desktop/Y2S2/SMT203 Computational Social Sci/Covid-19-Singapore-Analysis/Data/Suggestion Labelled Data/', '.+\\.txt')"
   ]
  },
  {
   "cell_type": "code",
   "execution_count": 33,
   "metadata": {},
   "outputs": [],
   "source": [
    "docs = corpus.words()"
   ]
  },
  {
   "cell_type": "code",
   "execution_count": 67,
   "metadata": {},
   "outputs": [],
   "source": [
    "docs_alpha = [w for w in docs if re.search('^[a-z]+$', w)]\n",
    "\n",
    "# Remove stop words.\n",
    "stop_list = stopwords.words('english')\n",
    "docs_stop = [w for w in docs_alpha if w not in stop_list]\n",
    "\n",
    "# Perform Porter stemming. Store in variable docs_stem\n",
    "stemmer = PorterStemmer()\n",
    "docs_stem = [stemmer.stem(w) for w in docs_stop]"
   ]
  },
  {
   "cell_type": "code",
   "execution_count": 68,
   "metadata": {},
   "outputs": [],
   "source": [
    "dictionary = corpora.Dictionary([docs_stem])"
   ]
  },
  {
   "cell_type": "code",
   "execution_count": null,
   "metadata": {},
   "outputs": [],
   "source": []
  },
  {
   "cell_type": "code",
   "execution_count": null,
   "metadata": {},
   "outputs": [],
   "source": []
  },
  {
   "source": [
    "# Getting actionable comments with actionable keywords"
   ],
   "cell_type": "markdown",
   "metadata": {}
  },
  {
   "cell_type": "code",
   "execution_count": 72,
   "metadata": {},
   "outputs": [],
   "source": [
    "twitter_df = pd.read_csv(\"/Users/chenjianyu/Desktop/Y2S2/SMT203 Computational Social Sci/Covid-19-Singapore-Analysis/Data/Twitter Data/Cleaned Data/Policies/Safe entry.csv\")"
   ]
  },
  {
   "cell_type": "code",
   "execution_count": 73,
   "metadata": {},
   "outputs": [
    {
     "output_type": "execute_result",
     "data": {
      "text/plain": [
       "103"
      ]
     },
     "metadata": {},
     "execution_count": 73
    }
   ],
   "source": [
    "len(twitter_df)"
   ]
  },
  {
   "cell_type": "code",
   "execution_count": 76,
   "metadata": {},
   "outputs": [],
   "source": [
    "actionable_keywords = set(['should', 'may be', 'maybe', 'to be', 'need to', 'believe', 'suppose to', 'ought', 'hope', 'have to', 'suggest', 'must', 'advise', 'request', 'needs to', 'require', 'better', 'why cant', 'how about', 'expect', 'please', 'why not'])"
   ]
  },
  {
   "cell_type": "code",
   "execution_count": 112,
   "metadata": {},
   "outputs": [
    {
     "output_type": "stream",
     "name": "stdout",
     "text": [
      "True\nTrue\nTrue\nTrue\nTrue\nTrue\nTrue\nTrue\nTrue\n"
     ]
    }
   ],
   "source": [
    "actionable_comment = pd.DataFrame(columns = twitter_df.columns)\n",
    "\n",
    "for i, row in twitter_df.iterrows():\n",
    "    comment_words = set(str(row['tweet']).split())\n",
    "    if len(actionable_keywords.intersection(comment_words)) > 0:\n",
    "        print(True)\n",
    "        actionable_comment = actionable_comment.append(row)"
   ]
  },
  {
   "cell_type": "code",
   "execution_count": 114,
   "metadata": {},
   "outputs": [
    {
     "output_type": "execute_result",
     "data": {
      "text/plain": [
       "   Unnamed: 0                   id      conversation_id        date      time  \\\n",
       "13         14  1332293125331587072  1332292710443610112  2020-11-27  20:00:08   \n",
       "20         21  1327114067224346625  1327114067224346625  2020-11-13  13:00:24   \n",
       "44         55  1300706166037766144  1300706166037766144  2020-09-01  16:04:50   \n",
       "46         57  1296990988880056320  1296964755932889088  2020-08-22  10:02:03   \n",
       "50         63  1290045940179460096  1289952331677589507  2020-08-03  06:04:54   \n",
       "\n",
       "       user_id         username               name  \\\n",
       "13    50274262   mistertechblog   Lup Yuen Lee 李立源   \n",
       "20  2879212950   johnnytheessex            JohnBod   \n",
       "44    33981623        gariontan         Garion Tan   \n",
       "46  1482348127         mferrisn          M.Faris.N   \n",
       "50   349566608  inoiyaika100473  Ruben M. Rocafort   \n",
       "\n",
       "                                                place  \\\n",
       "13                                                NaN   \n",
       "20                                                NaN   \n",
       "44  {'type': 'Point', 'coordinates': [1.29306, 103...   \n",
       "46                                                NaN   \n",
       "50                                                NaN   \n",
       "\n",
       "                                                tweet  ... photos  \\\n",
       "13  And I hope the #SafeEntry Admins are counting ...  ...     []   \n",
       "20  Omg just went to eat in Tekka Market, took one...  ...     []   \n",
       "44  Someone better remind Santa about the face mas...  ...     []   \n",
       "46  @ericrazali Zucc enters a restaurant with his ...  ...     []   \n",
       "50  @AaronAtayde Wala pa ding safe entry scan bar ...  ...     []   \n",
       "\n",
       "   replies_count retweets_count likes_count                      hashtags  \\\n",
       "13             0              0           2                 ['safeentry']   \n",
       "20             0              0           1       ['cna', 'straitstimes']   \n",
       "44             0              0           0  ['santaclaus', 'quarantine']   \n",
       "46             1              0           1                            []   \n",
       "50             0              0           0                            []   \n",
       "\n",
       "                                                 link video  \\\n",
       "13  https://twitter.com/MisterTechBlog/status/1332...     0   \n",
       "20  https://twitter.com/johnnytheessex/status/1327...     0   \n",
       "44  https://twitter.com/GarionTan/status/130070616...     0   \n",
       "46  https://twitter.com/MFerrisN/status/1296990988...     0   \n",
       "50  https://twitter.com/inoiyaika100473/status/129...     0   \n",
       "\n",
       "                                             reply_to  \\\n",
       "13                                                 []   \n",
       "20                                                 []   \n",
       "44                                                 []   \n",
       "46  [{'screen_name': 'ericrazali', 'name': 'Eric Y...   \n",
       "50  [{'screen_name': 'AaronAtayde', 'name': 'Aaron...   \n",
       "\n",
       "                                       processed_text  \\\n",
       "13  ['hope', 'admin', 'count', 'visitor', 'vivoc',...   \n",
       "20  ['omg', 'went', 'eat', 'tekka', 'market', 'too...   \n",
       "44  ['someon', 'better', 'remind', 'santa', 'face'...   \n",
       "46  ['zucc', 'enter', 'restaur', 'wife', 'waiter',...   \n",
       "50  ['wala', 'pa', 'ding', 'safe', 'entri', 'scan'...   \n",
       "\n",
       "                                        demojize_text  \n",
       "13  And I hope the #SafeEntry Admins are counting ...  \n",
       "20  Omg just went to eat in Tekka Market, took one...  \n",
       "44  Someone better remind Santa about the face mas...  \n",
       "46  @ericrazali Zucc enters a restaurant with his ...  \n",
       "50  @AaronAtayde Wala pa ding safe entry scan bar ...  \n",
       "\n",
       "[5 rows x 23 columns]"
      ],
      "text/html": "<div>\n<style scoped>\n    .dataframe tbody tr th:only-of-type {\n        vertical-align: middle;\n    }\n\n    .dataframe tbody tr th {\n        vertical-align: top;\n    }\n\n    .dataframe thead th {\n        text-align: right;\n    }\n</style>\n<table border=\"1\" class=\"dataframe\">\n  <thead>\n    <tr style=\"text-align: right;\">\n      <th></th>\n      <th>Unnamed: 0</th>\n      <th>id</th>\n      <th>conversation_id</th>\n      <th>date</th>\n      <th>time</th>\n      <th>user_id</th>\n      <th>username</th>\n      <th>name</th>\n      <th>place</th>\n      <th>tweet</th>\n      <th>...</th>\n      <th>photos</th>\n      <th>replies_count</th>\n      <th>retweets_count</th>\n      <th>likes_count</th>\n      <th>hashtags</th>\n      <th>link</th>\n      <th>video</th>\n      <th>reply_to</th>\n      <th>processed_text</th>\n      <th>demojize_text</th>\n    </tr>\n  </thead>\n  <tbody>\n    <tr>\n      <th>13</th>\n      <td>14</td>\n      <td>1332293125331587072</td>\n      <td>1332292710443610112</td>\n      <td>2020-11-27</td>\n      <td>20:00:08</td>\n      <td>50274262</td>\n      <td>mistertechblog</td>\n      <td>Lup Yuen Lee 李立源</td>\n      <td>NaN</td>\n      <td>And I hope the #SafeEntry Admins are counting ...</td>\n      <td>...</td>\n      <td>[]</td>\n      <td>0</td>\n      <td>0</td>\n      <td>2</td>\n      <td>['safeentry']</td>\n      <td>https://twitter.com/MisterTechBlog/status/1332...</td>\n      <td>0</td>\n      <td>[]</td>\n      <td>['hope', 'admin', 'count', 'visitor', 'vivoc',...</td>\n      <td>And I hope the #SafeEntry Admins are counting ...</td>\n    </tr>\n    <tr>\n      <th>20</th>\n      <td>21</td>\n      <td>1327114067224346625</td>\n      <td>1327114067224346625</td>\n      <td>2020-11-13</td>\n      <td>13:00:24</td>\n      <td>2879212950</td>\n      <td>johnnytheessex</td>\n      <td>JohnBod</td>\n      <td>NaN</td>\n      <td>Omg just went to eat in Tekka Market, took one...</td>\n      <td>...</td>\n      <td>[]</td>\n      <td>0</td>\n      <td>0</td>\n      <td>1</td>\n      <td>['cna', 'straitstimes']</td>\n      <td>https://twitter.com/johnnytheessex/status/1327...</td>\n      <td>0</td>\n      <td>[]</td>\n      <td>['omg', 'went', 'eat', 'tekka', 'market', 'too...</td>\n      <td>Omg just went to eat in Tekka Market, took one...</td>\n    </tr>\n    <tr>\n      <th>44</th>\n      <td>55</td>\n      <td>1300706166037766144</td>\n      <td>1300706166037766144</td>\n      <td>2020-09-01</td>\n      <td>16:04:50</td>\n      <td>33981623</td>\n      <td>gariontan</td>\n      <td>Garion Tan</td>\n      <td>{'type': 'Point', 'coordinates': [1.29306, 103...</td>\n      <td>Someone better remind Santa about the face mas...</td>\n      <td>...</td>\n      <td>[]</td>\n      <td>0</td>\n      <td>0</td>\n      <td>0</td>\n      <td>['santaclaus', 'quarantine']</td>\n      <td>https://twitter.com/GarionTan/status/130070616...</td>\n      <td>0</td>\n      <td>[]</td>\n      <td>['someon', 'better', 'remind', 'santa', 'face'...</td>\n      <td>Someone better remind Santa about the face mas...</td>\n    </tr>\n    <tr>\n      <th>46</th>\n      <td>57</td>\n      <td>1296990988880056320</td>\n      <td>1296964755932889088</td>\n      <td>2020-08-22</td>\n      <td>10:02:03</td>\n      <td>1482348127</td>\n      <td>mferrisn</td>\n      <td>M.Faris.N</td>\n      <td>NaN</td>\n      <td>@ericrazali Zucc enters a restaurant with his ...</td>\n      <td>...</td>\n      <td>[]</td>\n      <td>1</td>\n      <td>0</td>\n      <td>1</td>\n      <td>[]</td>\n      <td>https://twitter.com/MFerrisN/status/1296990988...</td>\n      <td>0</td>\n      <td>[{'screen_name': 'ericrazali', 'name': 'Eric Y...</td>\n      <td>['zucc', 'enter', 'restaur', 'wife', 'waiter',...</td>\n      <td>@ericrazali Zucc enters a restaurant with his ...</td>\n    </tr>\n    <tr>\n      <th>50</th>\n      <td>63</td>\n      <td>1290045940179460096</td>\n      <td>1289952331677589507</td>\n      <td>2020-08-03</td>\n      <td>06:04:54</td>\n      <td>349566608</td>\n      <td>inoiyaika100473</td>\n      <td>Ruben M. Rocafort</td>\n      <td>NaN</td>\n      <td>@AaronAtayde Wala pa ding safe entry scan bar ...</td>\n      <td>...</td>\n      <td>[]</td>\n      <td>0</td>\n      <td>0</td>\n      <td>0</td>\n      <td>[]</td>\n      <td>https://twitter.com/inoiyaika100473/status/129...</td>\n      <td>0</td>\n      <td>[{'screen_name': 'AaronAtayde', 'name': 'Aaron...</td>\n      <td>['wala', 'pa', 'ding', 'safe', 'entri', 'scan'...</td>\n      <td>@AaronAtayde Wala pa ding safe entry scan bar ...</td>\n    </tr>\n  </tbody>\n</table>\n<p>5 rows × 23 columns</p>\n</div>"
     },
     "metadata": {},
     "execution_count": 114
    }
   ],
   "source": [
    "actionable_comment.head()"
   ]
  },
  {
   "cell_type": "code",
   "execution_count": 122,
   "metadata": {},
   "outputs": [
    {
     "output_type": "execute_result",
     "data": {
      "text/plain": [
       "'@AaronAtayde Wala pa ding safe entry scan bar code na iniimplement sa mga establishment dyan? Its one way of effective contract tracing, its like no id, no entry. Groceries should have window hours for more vulnerable individuals like senior citizens.. kulang talaga sa planning bago implement'"
      ]
     },
     "metadata": {},
     "execution_count": 122
    }
   ],
   "source": [
    "actionable_comment['tweet'].iloc[4]"
   ]
  },
  {
   "cell_type": "code",
   "execution_count": null,
   "metadata": {},
   "outputs": [],
   "source": []
  },
  {
   "cell_type": "code",
   "execution_count": null,
   "metadata": {},
   "outputs": [],
   "source": []
  },
  {
   "source": [
    "# Collating comments for thoughtful comments labelling"
   ],
   "cell_type": "markdown",
   "metadata": {}
  },
  {
   "cell_type": "code",
   "execution_count": 3,
   "metadata": {},
   "outputs": [],
   "source": [
    "safe_entry = []\n",
    "Tracetogether = []\n",
    "vaccination = []\n",
    "circuit_breaker = []\n",
    "\n",
    "comments = pd.DataFrame(columns=[\"topic\", \"comment\"])"
   ]
  },
  {
   "source": [
    "### Vaccination"
   ],
   "cell_type": "markdown",
   "metadata": {}
  },
  {
   "source": [
    "df1 = pd.read_csv(\"/Users/chenjianyu/Desktop/Y2S2/SMT203 Computational Social Sci/Covid-19-Singapore-Analysis/Data/Instagram Data/Cleaned Data/Manual Scrape/Mothership/Vaccination.csv\")\n",
    "df2 = pd.read_csv(\"/Users/chenjianyu/Desktop/Y2S2/SMT203 Computational Social Sci/Covid-19-Singapore-Analysis/Data/Instagram Data/Cleaned Data/Manual Scrape/Straits Times/Vaccination.csv\")\n",
    "df3 = pd.read_csv(\"/Users/chenjianyu/Desktop/Y2S2/SMT203 Computational Social Sci/Covid-19-Singapore-Analysis/Data/Reddit Data/Cleaned Data/Policies/vaccination.csv\")\n",
    "df4 = pd.read_csv(\"/Users/chenjianyu/Desktop/Y2S2/SMT203 Computational Social Sci/Covid-19-Singapore-Analysis/Data/Twitter Data/Cleaned Data/Policies/Vaccination.csv\")"
   ],
   "cell_type": "code",
   "metadata": {},
   "execution_count": 5,
   "outputs": []
  },
  {
   "cell_type": "code",
   "execution_count": 23,
   "metadata": {},
   "outputs": [],
   "source": [
    "s1 = df1['comment']\n",
    "s2 = df2['comment']\n",
    "s3 = df3['comment_body']\n",
    "s4 = df4['tweet']\n",
    "\n",
    "vaccination = pd.concat([s1, s2, s3, s4], ignore_index=True)"
   ]
  },
  {
   "cell_type": "code",
   "execution_count": 47,
   "metadata": {},
   "outputs": [],
   "source": [
    "vaccination_sample = pd.DataFrame({\"comment\": vaccination.sample(n = 500)})"
   ]
  },
  {
   "cell_type": "code",
   "execution_count": 48,
   "metadata": {},
   "outputs": [
    {
     "output_type": "execute_result",
     "data": {
      "text/plain": [
       "                                               comment\n",
       "0    Herd immunity kicks in at around 70% so we don...\n",
       "1    straight up get struck by lightning better.\\n\\...\n",
       "2    The guide to getting the COVID-19 vaccine out ...\n",
       "3             Other countries sud learn from Singapore\n",
       "4    Catholic priest developing COVID-19 vaccine fo...\n",
       "..                                                 ...\n",
       "495  Racist Trump. You claim that the vaccine will ...\n",
       "496  Facebook and Instagram will ban accounts sprea...\n",
       "497  maybe it’s just in my head but i’m awfully tir...\n",
       "498  CoVid Vaccine is coming 😲  https://t.co/84dRpN...\n",
       "499            i hope the vaccine would be a success:D\n",
       "\n",
       "[500 rows x 1 columns]"
      ],
      "text/html": "<div>\n<style scoped>\n    .dataframe tbody tr th:only-of-type {\n        vertical-align: middle;\n    }\n\n    .dataframe tbody tr th {\n        vertical-align: top;\n    }\n\n    .dataframe thead th {\n        text-align: right;\n    }\n</style>\n<table border=\"1\" class=\"dataframe\">\n  <thead>\n    <tr style=\"text-align: right;\">\n      <th></th>\n      <th>comment</th>\n    </tr>\n  </thead>\n  <tbody>\n    <tr>\n      <th>0</th>\n      <td>Herd immunity kicks in at around 70% so we don...</td>\n    </tr>\n    <tr>\n      <th>1</th>\n      <td>straight up get struck by lightning better.\\n\\...</td>\n    </tr>\n    <tr>\n      <th>2</th>\n      <td>The guide to getting the COVID-19 vaccine out ...</td>\n    </tr>\n    <tr>\n      <th>3</th>\n      <td>Other countries sud learn from Singapore</td>\n    </tr>\n    <tr>\n      <th>4</th>\n      <td>Catholic priest developing COVID-19 vaccine fo...</td>\n    </tr>\n    <tr>\n      <th>...</th>\n      <td>...</td>\n    </tr>\n    <tr>\n      <th>495</th>\n      <td>Racist Trump. You claim that the vaccine will ...</td>\n    </tr>\n    <tr>\n      <th>496</th>\n      <td>Facebook and Instagram will ban accounts sprea...</td>\n    </tr>\n    <tr>\n      <th>497</th>\n      <td>maybe it’s just in my head but i’m awfully tir...</td>\n    </tr>\n    <tr>\n      <th>498</th>\n      <td>CoVid Vaccine is coming 😲  https://t.co/84dRpN...</td>\n    </tr>\n    <tr>\n      <th>499</th>\n      <td>i hope the vaccine would be a success:D</td>\n    </tr>\n  </tbody>\n</table>\n<p>500 rows × 1 columns</p>\n</div>"
     },
     "metadata": {},
     "execution_count": 48
    }
   ],
   "source": [
    "vaccination_sample = vaccination_sample.reset_index()\n",
    "vaccination_sample.drop('index', axis = 1, inplace=True)\n",
    "vaccination_sample.to_excel(\"/Users/chenjianyu/Desktop/vaccination.xls\")"
   ]
  },
  {
   "source": [
    "### Tracetogether"
   ],
   "cell_type": "markdown",
   "metadata": {}
  },
  {
   "cell_type": "code",
   "execution_count": 50,
   "metadata": {},
   "outputs": [],
   "source": [
    "df1 = pd.read_csv(\"/Users/chenjianyu/Desktop/Y2S2/SMT203 Computational Social Sci/Covid-19-Singapore-Analysis/Data/Instagram Data/Cleaned Data/Manual Scrape/Mothership/TraceTogether.csv\")\n",
    "df2 = pd.read_csv(\"/Users/chenjianyu/Desktop/Y2S2/SMT203 Computational Social Sci/Covid-19-Singapore-Analysis/Data/Instagram Data/Cleaned Data/Manual Scrape/Straits Times/TraceTogether.csv\")\n",
    "df3 = pd.read_csv(\"/Users/chenjianyu/Desktop/Y2S2/SMT203 Computational Social Sci/Covid-19-Singapore-Analysis/Data/Reddit Data/Cleaned Data/Policies/Tracetogether.csv\")\n",
    "df4 = pd.read_csv(\"/Users/chenjianyu/Desktop/Y2S2/SMT203 Computational Social Sci/Covid-19-Singapore-Analysis/Data/Twitter Data/Cleaned Data/Policies/Tracetogether.csv\")"
   ]
  },
  {
   "cell_type": "code",
   "execution_count": 53,
   "metadata": {},
   "outputs": [],
   "source": [
    "s1 = df1['comment']\n",
    "s2 = df2['comment']\n",
    "s3 = df3['comment_body']\n",
    "s4 = df4['tweet']\n",
    "\n",
    "tracetogether = pd.concat([s1, s2, s3, s4], ignore_index=True)"
   ]
  },
  {
   "cell_type": "code",
   "execution_count": 54,
   "metadata": {},
   "outputs": [],
   "source": [
    "tracetogether_sample = pd.DataFrame({\"comment\": tracetogether.sample(n = 500)})\n",
    "tracetogether_sample = tracetogether_sample.reset_index()\n",
    "tracetogether_sample.drop('index', axis = 1, inplace=True)\n",
    "tracetogether_sample.to_excel(\"/Users/chenjianyu/Desktop/Tracetogether.xls\")"
   ]
  },
  {
   "source": [
    "### Safe distancing"
   ],
   "cell_type": "markdown",
   "metadata": {}
  },
  {
   "cell_type": "code",
   "execution_count": 55,
   "metadata": {},
   "outputs": [],
   "source": [
    "df1 = pd.read_csv(\"/Users/chenjianyu/Desktop/Y2S2/SMT203 Computational Social Sci/Covid-19-Singapore-Analysis/Data/Reddit Data/Cleaned Data/Policies/social_distancing.csv\")\n",
    "df2 = pd.read_csv(\"/Users/chenjianyu/Desktop/Y2S2/SMT203 Computational Social Sci/Covid-19-Singapore-Analysis/Data/Twitter Data/Cleaned Data/Policies/Safe distancing.csv\")"
   ]
  },
  {
   "cell_type": "code",
   "execution_count": 58,
   "metadata": {},
   "outputs": [],
   "source": [
    "s1 = df1['comment_body']\n",
    "s2 = df2['tweet']\n",
    "\n",
    "safe_distancing = pd.concat([s1, s2], ignore_index=True)"
   ]
  },
  {
   "cell_type": "code",
   "execution_count": 59,
   "metadata": {},
   "outputs": [],
   "source": [
    "safe_distancing_sample = pd.DataFrame({\"comment\": safe_distancing.sample(n = 500)})\n",
    "safe_distancing_sample = safe_distancing_sample.reset_index()\n",
    "safe_distancing_sample.drop('index', axis = 1, inplace=True)\n",
    "safe_distancing_sample.to_excel(\"/Users/chenjianyu/Desktop/safe_distancing.xls\")"
   ]
  },
  {
   "source": [
    "### Circuit breaker"
   ],
   "cell_type": "markdown",
   "metadata": {}
  },
  {
   "cell_type": "code",
   "execution_count": 60,
   "metadata": {},
   "outputs": [],
   "source": [
    "df1 = pd.read_csv(\"/Users/chenjianyu/Desktop/Y2S2/SMT203 Computational Social Sci/Covid-19-Singapore-Analysis/Data/Reddit Data/Cleaned Data/Policies/circuit_breaker.csv\")\n",
    "df2 = pd.read_csv(\"/Users/chenjianyu/Desktop/Y2S2/SMT203 Computational Social Sci/Covid-19-Singapore-Analysis/Data/Twitter Data/Cleaned Data/Policies/Circuit breaker.csv\")"
   ]
  },
  {
   "cell_type": "code",
   "execution_count": 61,
   "metadata": {},
   "outputs": [],
   "source": [
    "s1 = df1['comment_body']\n",
    "s2 = df2['tweet']\n",
    "\n",
    "cb = pd.concat([s1, s2], ignore_index=True)"
   ]
  },
  {
   "cell_type": "code",
   "execution_count": 62,
   "metadata": {},
   "outputs": [],
   "source": [
    "cb_sample = pd.DataFrame({\"comment\": cb.sample(n = 500)})\n",
    "cb_sample = cb_sample.reset_index()\n",
    "cb_sample.drop('index', axis = 1, inplace=True)\n",
    "cb_sample.to_excel(\"/Users/chenjianyu/Desktop/circuit_breaker.xls\")"
   ]
  },
  {
   "cell_type": "code",
   "execution_count": null,
   "metadata": {},
   "outputs": [],
   "source": []
  }
 ]
}