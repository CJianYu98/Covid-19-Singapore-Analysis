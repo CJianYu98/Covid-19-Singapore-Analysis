{
 "metadata": {
  "language_info": {
   "codemirror_mode": {
    "name": "ipython",
    "version": 3
   },
   "file_extension": ".py",
   "mimetype": "text/x-python",
   "name": "python",
   "nbconvert_exporter": "python",
   "pygments_lexer": "ipython3",
   "version": "3.9.0-final"
  },
  "orig_nbformat": 2,
  "kernelspec": {
   "name": "python3",
   "display_name": "Python 3.9.0 64-bit",
   "metadata": {
    "interpreter": {
     "hash": "7812ea015bdcee6f23a998adcdd2ef97c151c0c241b7b7070987d9313e41299d"
    }
   }
  }
 },
 "nbformat": 4,
 "nbformat_minor": 2,
 "cells": [
  {
   "cell_type": "code",
   "execution_count": 2,
   "metadata": {},
   "outputs": [],
   "source": [
    "import pandas as pd"
   ]
  },
  {
   "cell_type": "code",
   "execution_count": 3,
   "metadata": {},
   "outputs": [],
   "source": [
    "fb_posts = pd.read_csv('./Facebook Data/fb_posts_gov_sg_raw.csv')\n",
    "fb_comments = pd.read_csv('./Facebook Data/fbcomments_raw.csv')"
   ]
  },
  {
   "cell_type": "code",
   "execution_count": 4,
   "metadata": {},
   "outputs": [],
   "source": [
    "fb_posts.columns = fb_posts.iloc[0]\n",
    "fb_posts.drop(0, inplace=True)"
   ]
  },
  {
   "cell_type": "code",
   "execution_count": 5,
   "metadata": {},
   "outputs": [],
   "source": [
    "fb_posts['post_id'] = fb_posts['post_id'].astype(float)"
   ]
  },
  {
   "cell_type": "code",
   "execution_count": 6,
   "metadata": {},
   "outputs": [],
   "source": [
    "fb_merged = fb_comments.merge(fb_posts, left_on=\"Post ID\", right_on=\"post_id\")"
   ]
  },
  {
   "cell_type": "code",
   "execution_count": 7,
   "metadata": {},
   "outputs": [],
   "source": [
    "fb_merged.drop('post_id', axis=1, inplace=True)"
   ]
  },
  {
   "cell_type": "code",
   "execution_count": 8,
   "metadata": {},
   "outputs": [],
   "source": [
    "fb_merged.rename(columns={'text':'Post_title'}, inplace=True)"
   ]
  },
  {
   "cell_type": "code",
   "execution_count": 9,
   "metadata": {},
   "outputs": [
    {
     "output_type": "execute_result",
     "data": {
      "text/plain": [
       "        Post ID                       Username  \\\n",
       "0  1.015911e+16    K a p i t a n   G o s t a n   \n",
       "1  1.015911e+16          R o b e r t   W o n g   \n",
       "2  1.015911e+16                L i l y   L i m   \n",
       "3  1.015911e+16  J a s m a i n e   C h e o n g   \n",
       "4  1.015911e+16            R o b e r t   T e o   \n",
       "\n",
       "                                             Comment  \\\n",
       "0   T h e   \" L a u   H e r o \"   s t i l l   s i...   \n",
       "1   H a p p y   N e w   Y e a r ， H a p p y   牛  ...   \n",
       "2   O k   y o u   a l l   c a n   e n j o y   y o...   \n",
       "3   I   l i k e   t h i s   v i d e o   v e r y  ...   \n",
       "4   Y o u   c a n ’ t   b e   s t e a d y   u n l...   \n",
       "\n",
       "                                          Post_title            date image  \\\n",
       "0  It has been a year since COVID-19 changed our ...  6/2/2021 10:00   NaN   \n",
       "1  It has been a year since COVID-19 changed our ...  6/2/2021 10:00   NaN   \n",
       "2  It has been a year since COVID-19 changed our ...  6/2/2021 10:00   NaN   \n",
       "3  It has been a year since COVID-19 changed our ...  6/2/2021 10:00   NaN   \n",
       "4  It has been a year since COVID-19 changed our ...  6/2/2021 10:00   NaN   \n",
       "\n",
       "                                               video  \\\n",
       "0  https://scontent.fsin5-1.fna.fbcdn.net/v/t42.1...   \n",
       "1  https://scontent.fsin5-1.fna.fbcdn.net/v/t42.1...   \n",
       "2  https://scontent.fsin5-1.fna.fbcdn.net/v/t42.1...   \n",
       "3  https://scontent.fsin5-1.fna.fbcdn.net/v/t42.1...   \n",
       "4  https://scontent.fsin5-1.fna.fbcdn.net/v/t42.1...   \n",
       "\n",
       "                                     video_thumbnail          video_id likes  \\\n",
       "0  https://scontent.fsin5-1.fna.fbcdn.net/v/t15.5...  1554871358236750  4570   \n",
       "1  https://scontent.fsin5-1.fna.fbcdn.net/v/t15.5...  1554871358236750  4570   \n",
       "2  https://scontent.fsin5-1.fna.fbcdn.net/v/t15.5...  1554871358236750  4570   \n",
       "3  https://scontent.fsin5-1.fna.fbcdn.net/v/t15.5...  1554871358236750  4570   \n",
       "4  https://scontent.fsin5-1.fna.fbcdn.net/v/t15.5...  1554871358236750  4570   \n",
       "\n",
       "  comments shares                                           post_url images  \n",
       "0      116      0  https://facebook.com/gov.sg/videos/15548713582...     []  \n",
       "1      116      0  https://facebook.com/gov.sg/videos/15548713582...     []  \n",
       "2      116      0  https://facebook.com/gov.sg/videos/15548713582...     []  \n",
       "3      116      0  https://facebook.com/gov.sg/videos/15548713582...     []  \n",
       "4      116      0  https://facebook.com/gov.sg/videos/15548713582...     []  "
      ],
      "text/html": "<div>\n<style scoped>\n    .dataframe tbody tr th:only-of-type {\n        vertical-align: middle;\n    }\n\n    .dataframe tbody tr th {\n        vertical-align: top;\n    }\n\n    .dataframe thead th {\n        text-align: right;\n    }\n</style>\n<table border=\"1\" class=\"dataframe\">\n  <thead>\n    <tr style=\"text-align: right;\">\n      <th></th>\n      <th>Post ID</th>\n      <th>Username</th>\n      <th>Comment</th>\n      <th>Post_title</th>\n      <th>date</th>\n      <th>image</th>\n      <th>video</th>\n      <th>video_thumbnail</th>\n      <th>video_id</th>\n      <th>likes</th>\n      <th>comments</th>\n      <th>shares</th>\n      <th>post_url</th>\n      <th>images</th>\n    </tr>\n  </thead>\n  <tbody>\n    <tr>\n      <th>0</th>\n      <td>1.015911e+16</td>\n      <td>K a p i t a n   G o s t a n</td>\n      <td>T h e   \" L a u   H e r o \"   s t i l l   s i...</td>\n      <td>It has been a year since COVID-19 changed our ...</td>\n      <td>6/2/2021 10:00</td>\n      <td>NaN</td>\n      <td>https://scontent.fsin5-1.fna.fbcdn.net/v/t42.1...</td>\n      <td>https://scontent.fsin5-1.fna.fbcdn.net/v/t15.5...</td>\n      <td>1554871358236750</td>\n      <td>4570</td>\n      <td>116</td>\n      <td>0</td>\n      <td>https://facebook.com/gov.sg/videos/15548713582...</td>\n      <td>[]</td>\n    </tr>\n    <tr>\n      <th>1</th>\n      <td>1.015911e+16</td>\n      <td>R o b e r t   W o n g</td>\n      <td>H a p p y   N e w   Y e a r ， H a p p y   牛  ...</td>\n      <td>It has been a year since COVID-19 changed our ...</td>\n      <td>6/2/2021 10:00</td>\n      <td>NaN</td>\n      <td>https://scontent.fsin5-1.fna.fbcdn.net/v/t42.1...</td>\n      <td>https://scontent.fsin5-1.fna.fbcdn.net/v/t15.5...</td>\n      <td>1554871358236750</td>\n      <td>4570</td>\n      <td>116</td>\n      <td>0</td>\n      <td>https://facebook.com/gov.sg/videos/15548713582...</td>\n      <td>[]</td>\n    </tr>\n    <tr>\n      <th>2</th>\n      <td>1.015911e+16</td>\n      <td>L i l y   L i m</td>\n      <td>O k   y o u   a l l   c a n   e n j o y   y o...</td>\n      <td>It has been a year since COVID-19 changed our ...</td>\n      <td>6/2/2021 10:00</td>\n      <td>NaN</td>\n      <td>https://scontent.fsin5-1.fna.fbcdn.net/v/t42.1...</td>\n      <td>https://scontent.fsin5-1.fna.fbcdn.net/v/t15.5...</td>\n      <td>1554871358236750</td>\n      <td>4570</td>\n      <td>116</td>\n      <td>0</td>\n      <td>https://facebook.com/gov.sg/videos/15548713582...</td>\n      <td>[]</td>\n    </tr>\n    <tr>\n      <th>3</th>\n      <td>1.015911e+16</td>\n      <td>J a s m a i n e   C h e o n g</td>\n      <td>I   l i k e   t h i s   v i d e o   v e r y  ...</td>\n      <td>It has been a year since COVID-19 changed our ...</td>\n      <td>6/2/2021 10:00</td>\n      <td>NaN</td>\n      <td>https://scontent.fsin5-1.fna.fbcdn.net/v/t42.1...</td>\n      <td>https://scontent.fsin5-1.fna.fbcdn.net/v/t15.5...</td>\n      <td>1554871358236750</td>\n      <td>4570</td>\n      <td>116</td>\n      <td>0</td>\n      <td>https://facebook.com/gov.sg/videos/15548713582...</td>\n      <td>[]</td>\n    </tr>\n    <tr>\n      <th>4</th>\n      <td>1.015911e+16</td>\n      <td>R o b e r t   T e o</td>\n      <td>Y o u   c a n ’ t   b e   s t e a d y   u n l...</td>\n      <td>It has been a year since COVID-19 changed our ...</td>\n      <td>6/2/2021 10:00</td>\n      <td>NaN</td>\n      <td>https://scontent.fsin5-1.fna.fbcdn.net/v/t42.1...</td>\n      <td>https://scontent.fsin5-1.fna.fbcdn.net/v/t15.5...</td>\n      <td>1554871358236750</td>\n      <td>4570</td>\n      <td>116</td>\n      <td>0</td>\n      <td>https://facebook.com/gov.sg/videos/15548713582...</td>\n      <td>[]</td>\n    </tr>\n  </tbody>\n</table>\n</div>"
     },
     "metadata": {},
     "execution_count": 9
    }
   ],
   "source": [
    "fb_merged.head()"
   ]
  },
  {
   "cell_type": "code",
   "execution_count": 10,
   "metadata": {},
   "outputs": [],
   "source": [
    "comment_ls = []\n",
    "username_ls = []\n",
    "\n",
    "for i in range(len(fb_merged)):\n",
    "    username = fb_merged['Username'].iloc[i]\n",
    "    username = username.replace('  ', '#$#')\n",
    "    username = username.replace(' ', '')\n",
    "    username = username.replace('#$#', ' ')\n",
    "    username_ls.append(username)\n",
    "\n",
    "    comment = fb_merged['Comment'].iloc[i]\n",
    "    comment = comment.replace('  ', '#$#')\n",
    "    comment = comment.replace(' ', '')\n",
    "    comment = comment.replace('#$#', ' ')\n",
    "    comment_ls.append(comment)\n",
    "\n",
    "fb_merged['Username'] = username_ls\n",
    "fb_merged['Comment'] = comment_ls"
   ]
  },
  {
   "cell_type": "code",
   "execution_count": 11,
   "metadata": {},
   "outputs": [],
   "source": [
    "fb_merged.to_csv('./Facebook Data/fb_merged_data.csv')"
   ]
  }
 ]
}